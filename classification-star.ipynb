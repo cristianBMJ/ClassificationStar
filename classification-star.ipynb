{
 "cells": [
  {
   "cell_type": "markdown",
   "id": "119d69bb",
   "metadata": {
    "papermill": {
     "duration": 0.048951,
     "end_time": "2022-05-07T16:38:03.114571",
     "exception": false,
     "start_time": "2022-05-07T16:38:03.065620",
     "status": "completed"
    },
    "tags": []
   },
   "source": [
    "# **Categorization Stars**\n",
    "\n",
    "This proyect have goal prediction if one Star is Giant or Dwarfs, used Morgan-Keen (MK) classification system, type the models are the Classifications. The dataset for this proyect comes from [Kaggle Star](https://www.kaggle.com/vinesmsuic/star-categorization-giants-and-dwarfs).\n",
    "\n",
    "\n"
   ]
  },
  {
   "cell_type": "markdown",
   "id": "11b0d5c0",
   "metadata": {
    "papermill": {
     "duration": 0.047613,
     "end_time": "2022-05-07T16:38:03.212262",
     "exception": false,
     "start_time": "2022-05-07T16:38:03.164649",
     "status": "completed"
    },
    "tags": []
   },
   "source": [
    "## Setting\n"
   ]
  },
  {
   "cell_type": "code",
   "execution_count": 1,
   "id": "e471b944",
   "metadata": {
    "_cell_guid": "b1076dfc-b9ad-4769-8c92-a6c4dae69d19",
    "_kg_hide-input": true,
    "_kg_hide-output": true,
    "_uuid": "8f2839f25d086af736a60e9eeb907d3b93b6e0e5",
    "execution": {
     "iopub.execute_input": "2022-05-07T16:38:03.320448Z",
     "iopub.status.busy": "2022-05-07T16:38:03.315950Z",
     "iopub.status.idle": "2022-05-07T16:38:04.518512Z",
     "shell.execute_reply": "2022-05-07T16:38:04.519092Z",
     "shell.execute_reply.started": "2022-05-07T16:28:47.025957Z"
    },
    "papermill": {
     "duration": 1.258625,
     "end_time": "2022-05-07T16:38:04.519428",
     "exception": false,
     "start_time": "2022-05-07T16:38:03.260803",
     "status": "completed"
    },
    "tags": []
   },
   "outputs": [
    {
     "name": "stdout",
     "output_type": "stream",
     "text": [
      "/kaggle/input/star-categorization-giants-and-dwarfs/Star99999_raw.csv\n",
      "/kaggle/input/star-categorization-giants-and-dwarfs/Star39552_balanced.csv\n",
      "/kaggle/input/star-categorization-giants-and-dwarfs/Star9999_raw.csv\n",
      "/kaggle/input/star-categorization-giants-and-dwarfs/Star3642_balanced.csv\n"
     ]
    }
   ],
   "source": [
    "# This Python 3 environment comes with many helpful analytics libraries installed\n",
    "# It is defined by the kaggle/python Docker image: https://github.com/kaggle/docker-python\n",
    "# For example, here's several helpful packages to load\n",
    "\n",
    "# Libraries\n",
    "%matplotlib inline\n",
    "\n",
    "import numpy as np # linear algebra\n",
    "import pandas as pd # data processing, CSV file I/O (e.g. pd.read_csv)\n",
    "\n",
    "import matplotlib.pyplot as plt\n",
    "import seaborn as sns\n",
    "# Input data files are available in the read-only \"../input/\" directory\n",
    "# For example, running this (by clicking run or pressing Shift+Enter) will list all files under the input directory\n",
    "\n",
    "import os\n",
    "for dirname, _, filenames in os.walk('/kaggle/input'):\n",
    "    for filename in filenames:\n",
    "        print(os.path.join(dirname, filename))\n",
    "\n",
    "# You can write up to 20GB to the current directory (/kaggle/working/) that gets preserved as output when you create a version using \"Save & Run All\" \n",
    "# You can also write temporary files to /kaggle/temp/, but they won't be saved outside of the current session\n"
   ]
  },
  {
   "cell_type": "markdown",
   "id": "dd5b171d",
   "metadata": {
    "papermill": {
     "duration": 0.048212,
     "end_time": "2022-05-07T16:38:04.615297",
     "exception": false,
     "start_time": "2022-05-07T16:38:04.567085",
     "status": "completed"
    },
    "tags": []
   },
   "source": [
    "# Get Data #"
   ]
  },
  {
   "cell_type": "markdown",
   "id": "d70d7301",
   "metadata": {
    "papermill": {
     "duration": 0.047633,
     "end_time": "2022-05-07T16:38:04.709459",
     "exception": false,
     "start_time": "2022-05-07T16:38:04.661826",
     "status": "completed"
    },
    "tags": []
   },
   "source": [
    "The raw data will be processed, apply pre-processing, clean and then Balance."
   ]
  },
  {
   "cell_type": "code",
   "execution_count": 2,
   "id": "4b68e02d",
   "metadata": {
    "execution": {
     "iopub.execute_input": "2022-05-07T16:38:04.812308Z",
     "iopub.status.busy": "2022-05-07T16:38:04.811414Z",
     "iopub.status.idle": "2022-05-07T16:38:05.146048Z",
     "shell.execute_reply": "2022-05-07T16:38:05.145445Z",
     "shell.execute_reply.started": "2022-05-07T16:28:47.276886Z"
    },
    "papermill": {
     "duration": 0.387525,
     "end_time": "2022-05-07T16:38:05.146231",
     "exception": false,
     "start_time": "2022-05-07T16:38:04.758706",
     "status": "completed"
    },
    "tags": []
   },
   "outputs": [
    {
     "name": "stdout",
     "output_type": "stream",
     "text": [
      "<class 'pandas.core.frame.DataFrame'>\n",
      "RangeIndex: 99999 entries, 0 to 99998\n",
      "Data columns (total 6 columns):\n",
      " #   Column      Non-Null Count  Dtype \n",
      "---  ------      --------------  ----- \n",
      " 0   Unnamed: 0  99999 non-null  int64 \n",
      " 1   Vmag        99999 non-null  object\n",
      " 2   Plx         99999 non-null  object\n",
      " 3   e_Plx       99999 non-null  object\n",
      " 4   B-V         99999 non-null  object\n",
      " 5   SpType      97377 non-null  object\n",
      "dtypes: int64(1), object(5)\n",
      "memory usage: 4.6+ MB\n"
     ]
    }
   ],
   "source": [
    "# Read Data\n",
    "data = pd.read_csv('../input/star-categorization-giants-and-dwarfs/Star39552_balanced.csv') # data pre-processed\n",
    "dataRaw = pd.read_csv('/kaggle/input/star-categorization-giants-and-dwarfs/Star99999_raw.csv') # data initial or Raw \n",
    "dataRaw.info()  # review types variable"
   ]
  },
  {
   "cell_type": "markdown",
   "id": "29213c37",
   "metadata": {
    "papermill": {
     "duration": 0.048341,
     "end_time": "2022-05-07T16:38:05.242945",
     "exception": false,
     "start_time": "2022-05-07T16:38:05.194604",
     "status": "completed"
    },
    "tags": []
   },
   "source": [
    "#  **Exploratory Data Analysis** #"
   ]
  },
  {
   "cell_type": "code",
   "execution_count": 3,
   "id": "1eb6582d",
   "metadata": {
    "execution": {
     "iopub.execute_input": "2022-05-07T16:38:05.400534Z",
     "iopub.status.busy": "2022-05-07T16:38:05.399476Z",
     "iopub.status.idle": "2022-05-07T16:38:05.410987Z",
     "shell.execute_reply": "2022-05-07T16:38:05.411529Z",
     "shell.execute_reply.started": "2022-05-07T16:28:47.511440Z"
    },
    "papermill": {
     "duration": 0.118494,
     "end_time": "2022-05-07T16:38:05.411719",
     "exception": false,
     "start_time": "2022-05-07T16:38:05.293225",
     "status": "completed"
    },
    "tags": []
   },
   "outputs": [
    {
     "name": "stdout",
     "output_type": "stream",
     "text": [
      "<class 'pandas.core.frame.DataFrame'>\n",
      "RangeIndex: 99999 entries, 0 to 99998\n",
      "Data columns (total 6 columns):\n",
      " #   Column      Non-Null Count  Dtype \n",
      "---  ------      --------------  ----- \n",
      " 0   Unnamed: 0  99999 non-null  int64 \n",
      " 1   Vmag        99999 non-null  object\n",
      " 2   Plx         99999 non-null  object\n",
      " 3   e_Plx       99999 non-null  object\n",
      " 4   B-V         99999 non-null  object\n",
      " 5   SpType      97377 non-null  object\n",
      "dtypes: int64(1), object(5)\n",
      "memory usage: 4.6+ MB\n"
     ]
    }
   ],
   "source": [
    "dataRaw.info()"
   ]
  },
  {
   "cell_type": "markdown",
   "id": "361c27a3",
   "metadata": {
    "papermill": {
     "duration": 0.047978,
     "end_time": "2022-05-07T16:38:05.508395",
     "exception": false,
     "start_time": "2022-05-07T16:38:05.460417",
     "status": "completed"
    },
    "tags": []
   },
   "source": [
    "Convert object to numeric.\n"
   ]
  },
  {
   "cell_type": "code",
   "execution_count": 4,
   "id": "b8f7d72a",
   "metadata": {
    "_kg_hide-input": true,
    "execution": {
     "iopub.execute_input": "2022-05-07T16:38:05.607988Z",
     "iopub.status.busy": "2022-05-07T16:38:05.606965Z",
     "iopub.status.idle": "2022-05-07T16:38:05.898401Z",
     "shell.execute_reply": "2022-05-07T16:38:05.897872Z",
     "shell.execute_reply.started": "2022-05-07T16:28:47.756007Z"
    },
    "papermill": {
     "duration": 0.342478,
     "end_time": "2022-05-07T16:38:05.898548",
     "exception": false,
     "start_time": "2022-05-07T16:38:05.556070",
     "status": "completed"
    },
    "tags": []
   },
   "outputs": [
    {
     "name": "stdout",
     "output_type": "stream",
     "text": [
      "<class 'pandas.core.frame.DataFrame'>\n",
      "RangeIndex: 99999 entries, 0 to 99998\n",
      "Data columns (total 6 columns):\n",
      " #   Column      Non-Null Count  Dtype  \n",
      "---  ------      --------------  -----  \n",
      " 0   Unnamed: 0  99999 non-null  int64  \n",
      " 1   Vmag        99998 non-null  float32\n",
      " 2   Plx         99768 non-null  float32\n",
      " 3   e_Plx       99768 non-null  float32\n",
      " 4   B-V         98871 non-null  float32\n",
      " 5   SpType      97377 non-null  object \n",
      "dtypes: float32(4), int64(1), object(1)\n",
      "memory usage: 3.1+ MB\n"
     ]
    },
    {
     "data": {
      "text/plain": [
       "None"
      ]
     },
     "metadata": {},
     "output_type": "display_data"
    },
    {
     "data": {
      "text/html": [
       "<div>\n",
       "<style scoped>\n",
       "    .dataframe tbody tr th:only-of-type {\n",
       "        vertical-align: middle;\n",
       "    }\n",
       "\n",
       "    .dataframe tbody tr th {\n",
       "        vertical-align: top;\n",
       "    }\n",
       "\n",
       "    .dataframe thead th {\n",
       "        text-align: right;\n",
       "    }\n",
       "</style>\n",
       "<table border=\"1\" class=\"dataframe\">\n",
       "  <thead>\n",
       "    <tr style=\"text-align: right;\">\n",
       "      <th></th>\n",
       "      <th>count</th>\n",
       "      <th>mean</th>\n",
       "      <th>std</th>\n",
       "      <th>min</th>\n",
       "      <th>25%</th>\n",
       "      <th>50%</th>\n",
       "      <th>75%</th>\n",
       "      <th>max</th>\n",
       "    </tr>\n",
       "  </thead>\n",
       "  <tbody>\n",
       "    <tr>\n",
       "      <th>Unnamed: 0</th>\n",
       "      <td>99999.0</td>\n",
       "      <td>49999.000000</td>\n",
       "      <td>28867.369122</td>\n",
       "      <td>0.000000</td>\n",
       "      <td>24999.500</td>\n",
       "      <td>49999.000</td>\n",
       "      <td>74998.500</td>\n",
       "      <td>99998.000000</td>\n",
       "    </tr>\n",
       "    <tr>\n",
       "      <th>Vmag</th>\n",
       "      <td>99998.0</td>\n",
       "      <td>8.369750</td>\n",
       "      <td>1.313896</td>\n",
       "      <td>-1.440000</td>\n",
       "      <td>7.640</td>\n",
       "      <td>8.440</td>\n",
       "      <td>9.140</td>\n",
       "      <td>14.080000</td>\n",
       "    </tr>\n",
       "    <tr>\n",
       "      <th>Plx</th>\n",
       "      <td>99768.0</td>\n",
       "      <td>7.212467</td>\n",
       "      <td>11.348988</td>\n",
       "      <td>-54.950001</td>\n",
       "      <td>2.510</td>\n",
       "      <td>4.630</td>\n",
       "      <td>8.410</td>\n",
       "      <td>772.330017</td>\n",
       "    </tr>\n",
       "    <tr>\n",
       "      <th>e_Plx</th>\n",
       "      <td>99768.0</td>\n",
       "      <td>1.365385</td>\n",
       "      <td>1.816838</td>\n",
       "      <td>0.380000</td>\n",
       "      <td>0.880</td>\n",
       "      <td>1.100</td>\n",
       "      <td>1.390</td>\n",
       "      <td>114.459999</td>\n",
       "    </tr>\n",
       "    <tr>\n",
       "      <th>B-V</th>\n",
       "      <td>98871.0</td>\n",
       "      <td>0.704726</td>\n",
       "      <td>0.489679</td>\n",
       "      <td>-0.400000</td>\n",
       "      <td>0.348</td>\n",
       "      <td>0.612</td>\n",
       "      <td>1.075</td>\n",
       "      <td>5.460000</td>\n",
       "    </tr>\n",
       "  </tbody>\n",
       "</table>\n",
       "</div>"
      ],
      "text/plain": [
       "              count          mean           std        min        25%  \\\n",
       "Unnamed: 0  99999.0  49999.000000  28867.369122   0.000000  24999.500   \n",
       "Vmag        99998.0      8.369750      1.313896  -1.440000      7.640   \n",
       "Plx         99768.0      7.212467     11.348988 -54.950001      2.510   \n",
       "e_Plx       99768.0      1.365385      1.816838   0.380000      0.880   \n",
       "B-V         98871.0      0.704726      0.489679  -0.400000      0.348   \n",
       "\n",
       "                  50%        75%           max  \n",
       "Unnamed: 0  49999.000  74998.500  99998.000000  \n",
       "Vmag            8.440      9.140     14.080000  \n",
       "Plx             4.630      8.410    772.330017  \n",
       "e_Plx           1.100      1.390    114.459999  \n",
       "B-V             0.612      1.075      5.460000  "
      ]
     },
     "execution_count": 4,
     "metadata": {},
     "output_type": "execute_result"
    }
   ],
   "source": [
    "dataRaw['Vmag'] = pd.to_numeric(dataRaw['Vmag'] , downcast='float' , errors='coerce')\n",
    "dataRaw['Plx'] = pd.to_numeric(dataRaw['Plx'] , downcast='float' , errors='coerce')\n",
    "dataRaw['e_Plx'] = pd.to_numeric(dataRaw['e_Plx'] , downcast='float' , errors='coerce')\n",
    "dataRaw['B-V'] = pd.to_numeric(dataRaw['B-V'] , downcast='float' , errors='coerce')\n",
    "display( dataRaw.info() )\n",
    "dataRaw.describe().T"
   ]
  },
  {
   "cell_type": "markdown",
   "id": "ab8d9b55",
   "metadata": {
    "papermill": {
     "duration": 0.051427,
     "end_time": "2022-05-07T16:38:06.000150",
     "exception": false,
     "start_time": "2022-05-07T16:38:05.948723",
     "status": "completed"
    },
    "tags": []
   },
   "source": [
    "### Missing Values ###"
   ]
  },
  {
   "cell_type": "markdown",
   "id": "b497ae02",
   "metadata": {
    "papermill": {
     "duration": 0.048257,
     "end_time": "2022-05-07T16:38:06.097560",
     "exception": false,
     "start_time": "2022-05-07T16:38:06.049303",
     "status": "completed"
    },
    "tags": []
   },
   "source": [
    "Numbers the missing Values and its percent missing. "
   ]
  },
  {
   "cell_type": "code",
   "execution_count": 5,
   "id": "f3b042da",
   "metadata": {
    "execution": {
     "iopub.execute_input": "2022-05-07T16:38:06.199008Z",
     "iopub.status.busy": "2022-05-07T16:38:06.198356Z",
     "iopub.status.idle": "2022-05-07T16:38:06.253803Z",
     "shell.execute_reply": "2022-05-07T16:38:06.253063Z",
     "shell.execute_reply.started": "2022-05-07T16:28:47.959418Z"
    },
    "papermill": {
     "duration": 0.107368,
     "end_time": "2022-05-07T16:38:06.253959",
     "exception": false,
     "start_time": "2022-05-07T16:38:06.146591",
     "status": "completed"
    },
    "tags": []
   },
   "outputs": [
    {
     "name": "stdout",
     "output_type": "stream",
     "text": [
      "Num_null:  4213\n",
      "Percentage Missing:  0.702%\n"
     ]
    }
   ],
   "source": [
    "missingValueCount = dataRaw.isnull().sum()\n",
    "print('Num_null: ' , missingValueCount.sum() )\n",
    "\n",
    "\n",
    "\n",
    "\n",
    "totalData = np.product(dataRaw.shape)\n",
    "percentMissing=missingValueCount.sum()/totalData\n",
    "\n",
    "print('Percentage Missing:', '{: .3%}'.format(percentMissing))\n",
    "dataRaw.dropna(inplace=True)\n",
    "dataRaw.fillna(0)\n",
    "dataRaw = dataRaw.drop(['Unnamed: 0'], axis=1)\n"
   ]
  },
  {
   "cell_type": "markdown",
   "id": "4954be9d",
   "metadata": {
    "papermill": {
     "duration": 0.048957,
     "end_time": "2022-05-07T16:38:06.353179",
     "exception": false,
     "start_time": "2022-05-07T16:38:06.304222",
     "status": "completed"
    },
    "tags": []
   },
   "source": [
    "### Graphic Histogram "
   ]
  },
  {
   "cell_type": "code",
   "execution_count": 6,
   "id": "fb5bd354",
   "metadata": {
    "execution": {
     "iopub.execute_input": "2022-05-07T16:38:06.455091Z",
     "iopub.status.busy": "2022-05-07T16:38:06.454415Z",
     "iopub.status.idle": "2022-05-07T16:38:08.415872Z",
     "shell.execute_reply": "2022-05-07T16:38:08.415313Z",
     "shell.execute_reply.started": "2022-05-07T16:28:48.172556Z"
    },
    "papermill": {
     "duration": 2.013969,
     "end_time": "2022-05-07T16:38:08.416037",
     "exception": false,
     "start_time": "2022-05-07T16:38:06.402068",
     "status": "completed"
    },
    "tags": []
   },
   "outputs": [
    {
     "data": {
      "text/plain": [
       "array([[<AxesSubplot:title={'center':'Vmag'}>,\n",
       "        <AxesSubplot:title={'center':'Plx'}>],\n",
       "       [<AxesSubplot:title={'center':'e_Plx'}>,\n",
       "        <AxesSubplot:title={'center':'B-V'}>],\n",
       "       [<AxesSubplot:title={'center':'Amag'}>,\n",
       "        <AxesSubplot:title={'center':'TargetClass'}>]], dtype=object)"
      ]
     },
     "execution_count": 6,
     "metadata": {},
     "output_type": "execute_result"
    },
    {
     "data": {
      "image/png": "[encoded data removed]",
      "text/plain": [
       "<Figure size 1440x1080 with 6 Axes>"
      ]
     },
     "metadata": {
      "needs_background": "light"
     },
     "output_type": "display_data"
    }
   ],
   "source": [
    "data.hist(bins=50 , figsize=(20,15) ) # histogram"
   ]
  },
  {
   "cell_type": "markdown",
   "id": "b1df1e96",
   "metadata": {
    "papermill": {
     "duration": 0.053929,
     "end_time": "2022-05-07T16:38:08.522545",
     "exception": false,
     "start_time": "2022-05-07T16:38:08.468616",
     "status": "completed"
    },
    "tags": []
   },
   "source": [
    "## Pre-Processing ##"
   ]
  },
  {
   "cell_type": "markdown",
   "id": "a264ade0",
   "metadata": {
    "papermill": {
     "duration": 0.051217,
     "end_time": "2022-05-07T16:38:08.625001",
     "exception": false,
     "start_time": "2022-05-07T16:38:08.573784",
     "status": "completed"
    },
    "tags": []
   },
   "source": [
    "### New Variables"
   ]
  },
  {
   "cell_type": "markdown",
   "id": "bd57916b",
   "metadata": {
    "execution": {
     "iopub.execute_input": "2022-05-05T22:00:14.356938Z",
     "iopub.status.busy": "2022-05-05T22:00:14.35586Z",
     "iopub.status.idle": "2022-05-05T22:00:14.386251Z",
     "shell.execute_reply": "2022-05-05T22:00:14.385412Z",
     "shell.execute_reply.started": "2022-05-05T22:00:14.3568Z"
    },
    "papermill": {
     "duration": 0.051543,
     "end_time": "2022-05-07T16:38:08.728317",
     "exception": false,
     "start_time": "2022-05-07T16:38:08.676774",
     "status": "completed"
    },
    "tags": []
   },
   "source": [
    "#### Generate four new variables.\n",
    "\n",
    "- **Amag**    Absolute Magnitude of the Star.\n",
    "- **e_Amag**  Progation error.\n",
    "- **eA/A**    Percent error Amag.\n",
    "- **eP/P**    Percent error.\n",
    "\n"
   ]
  },
  {
   "cell_type": "code",
   "execution_count": 7,
   "id": "55b95e1b",
   "metadata": {
    "execution": {
     "iopub.execute_input": "2022-05-07T16:38:08.843589Z",
     "iopub.status.busy": "2022-05-07T16:38:08.842368Z",
     "iopub.status.idle": "2022-05-07T16:38:08.870593Z",
     "shell.execute_reply": "2022-05-07T16:38:08.869885Z",
     "shell.execute_reply.started": "2022-05-07T16:28:50.278267Z"
    },
    "papermill": {
     "duration": 0.090181,
     "end_time": "2022-05-07T16:38:08.870743",
     "exception": false,
     "start_time": "2022-05-07T16:38:08.780562",
     "status": "completed"
    },
    "tags": []
   },
   "outputs": [
    {
     "data": {
      "text/html": [
       "<div>\n",
       "<style scoped>\n",
       "    .dataframe tbody tr th:only-of-type {\n",
       "        vertical-align: middle;\n",
       "    }\n",
       "\n",
       "    .dataframe tbody tr th {\n",
       "        vertical-align: top;\n",
       "    }\n",
       "\n",
       "    .dataframe thead th {\n",
       "        text-align: right;\n",
       "    }\n",
       "</style>\n",
       "<table border=\"1\" class=\"dataframe\">\n",
       "  <thead>\n",
       "    <tr style=\"text-align: right;\">\n",
       "      <th></th>\n",
       "      <th>Vmag</th>\n",
       "      <th>Plx</th>\n",
       "      <th>e_Plx</th>\n",
       "      <th>B-V</th>\n",
       "      <th>SpType</th>\n",
       "      <th>Amag</th>\n",
       "      <th>e_Amag</th>\n",
       "      <th>eA/A</th>\n",
       "      <th>eP/P</th>\n",
       "    </tr>\n",
       "  </thead>\n",
       "  <tbody>\n",
       "    <tr>\n",
       "      <th>0</th>\n",
       "      <td>9.10</td>\n",
       "      <td>3.54</td>\n",
       "      <td>1.39</td>\n",
       "      <td>0.482</td>\n",
       "      <td>F5</td>\n",
       "      <td>16.845016</td>\n",
       "      <td>0.852640</td>\n",
       "      <td>0.050617</td>\n",
       "      <td>0.392655</td>\n",
       "    </tr>\n",
       "    <tr>\n",
       "      <th>1</th>\n",
       "      <td>9.27</td>\n",
       "      <td>21.90</td>\n",
       "      <td>3.10</td>\n",
       "      <td>0.999</td>\n",
       "      <td>K3V</td>\n",
       "      <td>20.972221</td>\n",
       "      <td>0.307377</td>\n",
       "      <td>0.014656</td>\n",
       "      <td>0.141553</td>\n",
       "    </tr>\n",
       "    <tr>\n",
       "      <th>2</th>\n",
       "      <td>6.61</td>\n",
       "      <td>2.81</td>\n",
       "      <td>0.63</td>\n",
       "      <td>-0.019</td>\n",
       "      <td>B9</td>\n",
       "      <td>13.853533</td>\n",
       "      <td>0.486843</td>\n",
       "      <td>0.035142</td>\n",
       "      <td>0.224199</td>\n",
       "    </tr>\n",
       "    <tr>\n",
       "      <th>3</th>\n",
       "      <td>8.06</td>\n",
       "      <td>7.75</td>\n",
       "      <td>0.97</td>\n",
       "      <td>0.370</td>\n",
       "      <td>F0V</td>\n",
       "      <td>17.506508</td>\n",
       "      <td>0.271784</td>\n",
       "      <td>0.015525</td>\n",
       "      <td>0.125161</td>\n",
       "    </tr>\n",
       "    <tr>\n",
       "      <th>4</th>\n",
       "      <td>8.55</td>\n",
       "      <td>2.87</td>\n",
       "      <td>1.11</td>\n",
       "      <td>0.902</td>\n",
       "      <td>G8III</td>\n",
       "      <td>15.839410</td>\n",
       "      <td>0.839838</td>\n",
       "      <td>0.053022</td>\n",
       "      <td>0.386760</td>\n",
       "    </tr>\n",
       "  </tbody>\n",
       "</table>\n",
       "</div>"
      ],
      "text/plain": [
       "   Vmag    Plx  e_Plx    B-V SpType       Amag    e_Amag      eA/A      eP/P\n",
       "0  9.10   3.54   1.39  0.482     F5  16.845016  0.852640  0.050617  0.392655\n",
       "1  9.27  21.90   3.10  0.999    K3V  20.972221  0.307377  0.014656  0.141553\n",
       "2  6.61   2.81   0.63 -0.019     B9  13.853533  0.486843  0.035142  0.224199\n",
       "3  8.06   7.75   0.97  0.370    F0V  17.506508  0.271784  0.015525  0.125161\n",
       "4  8.55   2.87   1.11  0.902  G8III  15.839410  0.839838  0.053022  0.386760"
      ]
     },
     "execution_count": 7,
     "metadata": {},
     "output_type": "execute_result"
    }
   ],
   "source": [
    "# New variables\n",
    "\n",
    "data = dataRaw\n",
    "data = data[data.Plx != 0]\n",
    "data = data.reset_index(drop=True)\n",
    "\n",
    "data['Amag']   = data['Vmag'] + 5*( np.log10( np.abs( data['Plx'] ) )+ 1 )  # log is ln\n",
    "data['e_Amag'] = 5*data['e_Plx']/(data['Plx']*np.log(10) )   # propagacion de error\n",
    "\n",
    "data['eA/A']   = data['e_Amag']/data['Amag']\n",
    "data['eP/P']   = data['e_Plx']/data['Plx']\n",
    "\n",
    "dataRaw = data\n",
    "dataRaw.head()"
   ]
  },
  {
   "cell_type": "markdown",
   "id": "8de1f21a",
   "metadata": {
    "papermill": {
     "duration": 0.051787,
     "end_time": "2022-05-07T16:38:08.976371",
     "exception": false,
     "start_time": "2022-05-07T16:38:08.924584",
     "status": "completed"
    },
    "tags": []
   },
   "source": [
    "###  Target "
   ]
  },
  {
   "cell_type": "markdown",
   "id": "21b602a4",
   "metadata": {
    "papermill": {
     "duration": 0.052572,
     "end_time": "2022-05-07T16:38:09.081750",
     "exception": false,
     "start_time": "2022-05-07T16:38:09.029178",
     "status": "completed"
    },
    "tags": []
   },
   "source": [
    "The Target `TargetClass ` is give by Classification MK. "
   ]
  },
  {
   "cell_type": "code",
   "execution_count": 8,
   "id": "f12d8091",
   "metadata": {
    "execution": {
     "iopub.execute_input": "2022-05-07T16:38:09.194411Z",
     "iopub.status.busy": "2022-05-07T16:38:09.193616Z",
     "iopub.status.idle": "2022-05-07T16:38:09.209589Z",
     "shell.execute_reply": "2022-05-07T16:38:09.210127Z",
     "shell.execute_reply.started": "2022-05-07T16:28:50.311016Z"
    },
    "papermill": {
     "duration": 0.07624,
     "end_time": "2022-05-07T16:38:09.210412",
     "exception": false,
     "start_time": "2022-05-07T16:38:09.134172",
     "status": "completed"
    },
    "tags": []
   },
   "outputs": [],
   "source": [
    "dataRaw['TargetClass'] = dataRaw['SpType']\n",
    "\n",
    "dataRaw = dataRaw.reset_index(drop=True) # reindexar debido al drop\n",
    "data = dataRaw\n"
   ]
  },
  {
   "cell_type": "markdown",
   "id": "f1f349d5",
   "metadata": {
    "papermill": {
     "duration": 0.053125,
     "end_time": "2022-05-07T16:38:09.315636",
     "exception": false,
     "start_time": "2022-05-07T16:38:09.262511",
     "status": "completed"
    },
    "tags": []
   },
   "source": [
    "## Target Class: Giants or Dwarfs ##"
   ]
  },
  {
   "cell_type": "markdown",
   "id": "2973a202",
   "metadata": {
    "papermill": {
     "duration": 0.051457,
     "end_time": "2022-05-07T16:38:09.418932",
     "exception": false,
     "start_time": "2022-05-07T16:38:09.367475",
     "status": "completed"
    },
    "tags": []
   },
   "source": [
    "**TargetClass** - Whether the Star is Dwarf (0) or Giant (1)"
   ]
  },
  {
   "cell_type": "code",
   "execution_count": 9,
   "id": "208180b8",
   "metadata": {
    "execution": {
     "iopub.execute_input": "2022-05-07T16:38:09.532767Z",
     "iopub.status.busy": "2022-05-07T16:38:09.532072Z",
     "iopub.status.idle": "2022-05-07T16:40:08.528015Z",
     "shell.execute_reply": "2022-05-07T16:40:08.527409Z",
     "shell.execute_reply.started": "2022-05-07T16:28:50.325570Z"
    },
    "papermill": {
     "duration": 119.052612,
     "end_time": "2022-05-07T16:40:08.528208",
     "exception": false,
     "start_time": "2022-05-07T16:38:09.475596",
     "status": "completed"
    },
    "tags": []
   },
   "outputs": [],
   "source": [
    "# Procesamiento target, clasificar en Giants and dwarfs\n",
    "for i in range(len(data['TargetClass'])):\n",
    "    itarget= str( data.loc[i,'TargetClass'] )\n",
    "    if 'I' in list(itarget): \n",
    "        data.loc[i,'TargetClass'] = 1   # 1 giant       \n",
    "    elif (\"VII\" or \"VI\") in list( itarget): \n",
    "        data.loc[i,'TargetClass'] = 0 # VII is Dwarf (0)\n",
    "    elif \"V\" in list( itarget): \n",
    "        if ('G' or 'K' or 'M' or 'L' or 'T') in  list(itarget):\n",
    "            data.loc[i,'TargetClass'] = 0\n",
    "        else:\n",
    "            data.loc[i,'TargetClass'] = 9\n",
    "    else: \n",
    "        data.loc[i,'TargetClass'] = 9 # None\n",
    "        \n",
    "\n"
   ]
  },
  {
   "cell_type": "code",
   "execution_count": 10,
   "id": "1d7ba98c",
   "metadata": {
    "execution": {
     "iopub.execute_input": "2022-05-07T16:40:08.635475Z",
     "iopub.status.busy": "2022-05-07T16:40:08.634420Z",
     "iopub.status.idle": "2022-05-07T16:40:09.121491Z",
     "shell.execute_reply": "2022-05-07T16:40:09.120796Z",
     "shell.execute_reply.started": "2022-05-07T16:30:39.580268Z"
    },
    "papermill": {
     "duration": 0.541736,
     "end_time": "2022-05-07T16:40:09.121657",
     "exception": false,
     "start_time": "2022-05-07T16:40:08.579921",
     "status": "completed"
    },
    "tags": []
   },
   "outputs": [
    {
     "data": {
      "text/plain": [
       "<AxesSubplot:xlabel='TargetClass', ylabel='count'>"
      ]
     },
     "execution_count": 10,
     "metadata": {},
     "output_type": "execute_result"
    },
    {
     "data": {
      "image/png": "[encoded data removed]",
      "text/plain": [
       "<Figure size 432x288 with 1 Axes>"
      ]
     },
     "metadata": {
      "needs_background": "light"
     },
     "output_type": "display_data"
    }
   ],
   "source": [
    "sns.countplot(x=\"TargetClass\", data=data )"
   ]
  },
  {
   "cell_type": "code",
   "execution_count": 11,
   "id": "da10d173",
   "metadata": {
    "execution": {
     "iopub.execute_input": "2022-05-07T16:40:09.250271Z",
     "iopub.status.busy": "2022-05-07T16:40:09.249569Z",
     "iopub.status.idle": "2022-05-07T16:40:09.251970Z",
     "shell.execute_reply": "2022-05-07T16:40:09.252583Z",
     "shell.execute_reply.started": "2022-05-07T16:30:39.907802Z"
    },
    "papermill": {
     "duration": 0.075761,
     "end_time": "2022-05-07T16:40:09.252759",
     "exception": false,
     "start_time": "2022-05-07T16:40:09.176998",
     "status": "completed"
    },
    "tags": []
   },
   "outputs": [
    {
     "data": {
      "text/plain": [
       "9    65279\n",
       "1    26647\n",
       "0     4781\n",
       "Name: TargetClass, dtype: int64"
      ]
     },
     "execution_count": 11,
     "metadata": {},
     "output_type": "execute_result"
    }
   ],
   "source": [
    "data['TargetClass'].value_counts()"
   ]
  },
  {
   "cell_type": "markdown",
   "id": "78c6b089",
   "metadata": {
    "papermill": {
     "duration": 0.055446,
     "end_time": "2022-05-07T16:40:09.361329",
     "exception": false,
     "start_time": "2022-05-07T16:40:09.305883",
     "status": "completed"
    },
    "tags": []
   },
   "source": [
    "### Selection only Giants or Dwarfs ###"
   ]
  },
  {
   "cell_type": "markdown",
   "id": "ed625bea",
   "metadata": {
    "papermill": {
     "duration": 0.057096,
     "end_time": "2022-05-07T16:40:09.473611",
     "exception": false,
     "start_time": "2022-05-07T16:40:09.416515",
     "status": "completed"
    },
    "tags": []
   },
   "source": [
    "Copy and drop number 9.\n"
   ]
  },
  {
   "cell_type": "code",
   "execution_count": 12,
   "id": "11974ed1",
   "metadata": {
    "execution": {
     "iopub.execute_input": "2022-05-07T16:40:09.584168Z",
     "iopub.status.busy": "2022-05-07T16:40:09.583137Z",
     "iopub.status.idle": "2022-05-07T16:40:09.604222Z",
     "shell.execute_reply": "2022-05-07T16:40:09.604827Z",
     "shell.execute_reply.started": "2022-05-07T16:30:39.926921Z"
    },
    "papermill": {
     "duration": 0.078569,
     "end_time": "2022-05-07T16:40:09.604999",
     "exception": false,
     "start_time": "2022-05-07T16:40:09.526430",
     "status": "completed"
    },
    "tags": []
   },
   "outputs": [],
   "source": [
    "df = data[dataRaw.TargetClass != 9 ] # != return  boolean"
   ]
  },
  {
   "cell_type": "markdown",
   "id": "012d7383",
   "metadata": {
    "papermill": {
     "duration": 0.052226,
     "end_time": "2022-05-07T16:40:09.710077",
     "exception": false,
     "start_time": "2022-05-07T16:40:09.657851",
     "status": "completed"
    },
    "tags": []
   },
   "source": [
    "## Balance ##"
   ]
  },
  {
   "cell_type": "code",
   "execution_count": 13,
   "id": "071871c4",
   "metadata": {
    "execution": {
     "iopub.execute_input": "2022-05-07T16:40:09.828334Z",
     "iopub.status.busy": "2022-05-07T16:40:09.819161Z",
     "iopub.status.idle": "2022-05-07T16:40:09.958545Z",
     "shell.execute_reply": "2022-05-07T16:40:09.957891Z",
     "shell.execute_reply.started": "2022-05-07T16:30:39.950456Z"
    },
    "papermill": {
     "duration": 0.19626,
     "end_time": "2022-05-07T16:40:09.958694",
     "exception": false,
     "start_time": "2022-05-07T16:40:09.762434",
     "status": "completed"
    },
    "tags": []
   },
   "outputs": [
    {
     "name": "stdout",
     "output_type": "stream",
     "text": [
      "<class 'pandas.core.frame.DataFrame'>\n",
      "Int64Index: 9562 entries, 27343 to 96675\n",
      "Data columns (total 10 columns):\n",
      " #   Column       Non-Null Count  Dtype  \n",
      "---  ------       --------------  -----  \n",
      " 0   Vmag         9562 non-null   float32\n",
      " 1   Plx          9562 non-null   float32\n",
      " 2   e_Plx        9562 non-null   float32\n",
      " 3   B-V          9562 non-null   float32\n",
      " 4   SpType       9562 non-null   object \n",
      " 5   Amag         9562 non-null   float32\n",
      " 6   e_Amag       9562 non-null   float32\n",
      " 7   eA/A         9562 non-null   float32\n",
      " 8   eP/P         9562 non-null   float32\n",
      " 9   TargetClass  9562 non-null   object \n",
      "dtypes: float32(8), object(2)\n",
      "memory usage: 522.9+ KB\n"
     ]
    }
   ],
   "source": [
    "# dividir set \n",
    "\n",
    "dfGiants = df[df.TargetClass == 1]\n",
    "dfDwarfs = df[df.TargetClass == 0]\n",
    "num_of_giant = dfGiants.shape[0]\n",
    "num_of_dwarf = dfDwarfs.shape[0]\n",
    "\n",
    "from sklearn.utils import resample\n",
    "dfGiantsDownSample = resample(dfGiants, \n",
    "                             replace = False, # sample without replacement\n",
    "                             n_samples = num_of_dwarf,\n",
    "                             random_state =1 \n",
    "                             )\n",
    "dfDownSampled = pd.concat([dfGiantsDownSample , dfDwarfs] )\n",
    "dfDownSampled.info()"
   ]
  },
  {
   "cell_type": "code",
   "execution_count": 14,
   "id": "cb434295",
   "metadata": {
    "execution": {
     "iopub.execute_input": "2022-05-07T16:40:10.070155Z",
     "iopub.status.busy": "2022-05-07T16:40:10.069148Z",
     "iopub.status.idle": "2022-05-07T16:40:10.262424Z",
     "shell.execute_reply": "2022-05-07T16:40:10.261701Z",
     "shell.execute_reply.started": "2022-05-07T16:30:39.984291Z"
    },
    "papermill": {
     "duration": 0.25032,
     "end_time": "2022-05-07T16:40:10.262580",
     "exception": false,
     "start_time": "2022-05-07T16:40:10.012260",
     "status": "completed"
    },
    "tags": []
   },
   "outputs": [
    {
     "name": "stdout",
     "output_type": "stream",
     "text": [
      "1    4781\n",
      "0    4781\n",
      "Name: TargetClass, dtype: int64\n"
     ]
    },
    {
     "data": {
      "image/png": "[encoded data removed]",
      "text/plain": [
       "<Figure size 432x288 with 1 Axes>"
      ]
     },
     "metadata": {
      "needs_background": "light"
     },
     "output_type": "display_data"
    }
   ],
   "source": [
    "sns.countplot(x='TargetClass', data=dfDownSampled)\n",
    "print( dfDownSampled['TargetClass'].value_counts())"
   ]
  },
  {
   "cell_type": "code",
   "execution_count": 15,
   "id": "fdff03fa",
   "metadata": {
    "execution": {
     "iopub.execute_input": "2022-05-07T16:40:10.379019Z",
     "iopub.status.busy": "2022-05-07T16:40:10.377817Z",
     "iopub.status.idle": "2022-05-07T16:40:10.393036Z",
     "shell.execute_reply": "2022-05-07T16:40:10.393785Z",
     "shell.execute_reply.started": "2022-05-07T16:30:40.180630Z"
    },
    "papermill": {
     "duration": 0.076535,
     "end_time": "2022-05-07T16:40:10.394038",
     "exception": false,
     "start_time": "2022-05-07T16:40:10.317503",
     "status": "completed"
    },
    "tags": []
   },
   "outputs": [
    {
     "name": "stdout",
     "output_type": "stream",
     "text": [
      "<class 'pandas.core.frame.DataFrame'>\n",
      "RangeIndex: 9562 entries, 0 to 9561\n",
      "Data columns (total 10 columns):\n",
      " #   Column       Non-Null Count  Dtype  \n",
      "---  ------       --------------  -----  \n",
      " 0   Vmag         9562 non-null   float32\n",
      " 1   Plx          9562 non-null   float32\n",
      " 2   e_Plx        9562 non-null   float32\n",
      " 3   B-V          9562 non-null   float32\n",
      " 4   SpType       9562 non-null   object \n",
      " 5   Amag         9562 non-null   float32\n",
      " 6   e_Amag       9562 non-null   float32\n",
      " 7   eA/A         9562 non-null   float32\n",
      " 8   eP/P         9562 non-null   float32\n",
      " 9   TargetClass  9562 non-null   object \n",
      "dtypes: float32(8), object(2)\n",
      "memory usage: 448.3+ KB\n"
     ]
    }
   ],
   "source": [
    "dfBalanced= dfDownSampled.reset_index(drop=True)\n",
    "dfBalanced.info()"
   ]
  },
  {
   "cell_type": "code",
   "execution_count": 16,
   "id": "a76322aa",
   "metadata": {
    "execution": {
     "iopub.execute_input": "2022-05-07T16:40:10.509096Z",
     "iopub.status.busy": "2022-05-07T16:40:10.508032Z",
     "iopub.status.idle": "2022-05-07T16:40:10.524632Z",
     "shell.execute_reply": "2022-05-07T16:40:10.525300Z",
     "shell.execute_reply.started": "2022-05-07T16:30:40.198132Z"
    },
    "papermill": {
     "duration": 0.075882,
     "end_time": "2022-05-07T16:40:10.525484",
     "exception": false,
     "start_time": "2022-05-07T16:40:10.449602",
     "status": "completed"
    },
    "tags": []
   },
   "outputs": [
    {
     "name": "stdout",
     "output_type": "stream",
     "text": [
      "<class 'pandas.core.frame.DataFrame'>\n",
      "RangeIndex: 9562 entries, 0 to 9561\n",
      "Data columns (total 10 columns):\n",
      " #   Column       Non-Null Count  Dtype  \n",
      "---  ------       --------------  -----  \n",
      " 0   Vmag         9562 non-null   float32\n",
      " 1   Plx          9562 non-null   float32\n",
      " 2   e_Plx        9562 non-null   float32\n",
      " 3   B-V          9562 non-null   float32\n",
      " 4   SpType       9562 non-null   object \n",
      " 5   Amag         9562 non-null   float32\n",
      " 6   e_Amag       9562 non-null   float32\n",
      " 7   eA/A         9562 non-null   float32\n",
      " 8   eP/P         9562 non-null   float32\n",
      " 9   TargetClass  9562 non-null   object \n",
      "dtypes: float32(8), object(2)\n",
      "memory usage: 448.3+ KB\n"
     ]
    }
   ],
   "source": [
    "dataStar = dfBalanced.sample(frac=1).reset_index(drop=True) # shuffle\n",
    "dfCopyStar = dataStar.copy()\n",
    "\n",
    "dataStar.info(20)"
   ]
  },
  {
   "cell_type": "markdown",
   "id": "6809a0de",
   "metadata": {
    "papermill": {
     "duration": 0.055212,
     "end_time": "2022-05-07T16:40:10.635702",
     "exception": false,
     "start_time": "2022-05-07T16:40:10.580490",
     "status": "completed"
    },
    "tags": []
   },
   "source": [
    "# **Visualization** ##"
   ]
  },
  {
   "cell_type": "code",
   "execution_count": 17,
   "id": "735cfa4f",
   "metadata": {
    "execution": {
     "iopub.execute_input": "2022-05-07T16:40:10.757978Z",
     "iopub.status.busy": "2022-05-07T16:40:10.757206Z",
     "iopub.status.idle": "2022-05-07T16:40:10.772858Z",
     "shell.execute_reply": "2022-05-07T16:40:10.773553Z",
     "shell.execute_reply.started": "2022-05-07T16:30:40.216112Z"
    },
    "papermill": {
     "duration": 0.082584,
     "end_time": "2022-05-07T16:40:10.773754",
     "exception": false,
     "start_time": "2022-05-07T16:40:10.691170",
     "status": "completed"
    },
    "tags": []
   },
   "outputs": [
    {
     "name": "stdout",
     "output_type": "stream",
     "text": [
      "<class 'pandas.core.frame.DataFrame'>\n",
      "Int64Index: 9562 entries, 0 to 9561\n",
      "Data columns (total 10 columns):\n",
      " #   Column       Non-Null Count  Dtype  \n",
      "---  ------       --------------  -----  \n",
      " 0   Vmag         9562 non-null   float32\n",
      " 1   Plx          9562 non-null   float32\n",
      " 2   e_Plx        9562 non-null   float32\n",
      " 3   B-V          9562 non-null   float32\n",
      " 4   SpType       9562 non-null   object \n",
      " 5   Amag         9562 non-null   float32\n",
      " 6   e_Amag       9562 non-null   float32\n",
      " 7   eA/A         9562 non-null   float32\n",
      " 8   eP/P         9562 non-null   float32\n",
      " 9   TargetClass  9562 non-null   object \n",
      "dtypes: float32(8), object(2)\n",
      "memory usage: 522.9+ KB\n"
     ]
    }
   ],
   "source": [
    "dataStar.dropna(inplace=True)\n",
    "dataStar.info()"
   ]
  },
  {
   "cell_type": "code",
   "execution_count": 18,
   "id": "e013de50",
   "metadata": {
    "execution": {
     "iopub.execute_input": "2022-05-07T16:40:10.889638Z",
     "iopub.status.busy": "2022-05-07T16:40:10.888784Z",
     "iopub.status.idle": "2022-05-07T16:40:11.453061Z",
     "shell.execute_reply": "2022-05-07T16:40:11.452546Z",
     "shell.execute_reply.started": "2022-05-07T16:30:40.236905Z"
    },
    "papermill": {
     "duration": 0.622608,
     "end_time": "2022-05-07T16:40:11.453219",
     "exception": false,
     "start_time": "2022-05-07T16:40:10.830611",
     "status": "completed"
    },
    "tags": []
   },
   "outputs": [
    {
     "data": {
      "image/png": "[encoded data removed]",
      "text/plain": [
       "<Figure size 432x288 with 2 Axes>"
      ]
     },
     "metadata": {
      "needs_background": "light"
     },
     "output_type": "display_data"
    }
   ],
   "source": [
    "%matplotlib inline\n",
    "\n",
    "dataStar['TargetClass'] = pd.to_numeric(dataStar['TargetClass'] , downcast='float' , errors='coerce')\n",
    "\n",
    "\n",
    "#sns.set()\n",
    "dataStar.plot.scatter( x=\"Plx\" ,y=\"Amag\",cmap='viridis' ,  c='TargetClass' ,s=5); # problem with TargetClass\n",
    "#plt.xlabel(\"Plx\")\n",
    "#plt.figure()\n",
    "#plt.show()\n"
   ]
  },
  {
   "cell_type": "code",
   "execution_count": 19,
   "id": "b08dd2e8",
   "metadata": {
    "execution": {
     "iopub.execute_input": "2022-05-07T16:40:11.578299Z",
     "iopub.status.busy": "2022-05-07T16:40:11.577593Z",
     "iopub.status.idle": "2022-05-07T16:40:11.984096Z",
     "shell.execute_reply": "2022-05-07T16:40:11.984753Z",
     "shell.execute_reply.started": "2022-05-07T16:30:40.754893Z"
    },
    "papermill": {
     "duration": 0.47404,
     "end_time": "2022-05-07T16:40:11.984940",
     "exception": false,
     "start_time": "2022-05-07T16:40:11.510900",
     "status": "completed"
    },
    "tags": []
   },
   "outputs": [
    {
     "data": {
      "image/png": "[encoded data removed]",
      "text/plain": [
       "<Figure size 432x288 with 2 Axes>"
      ]
     },
     "metadata": {},
     "output_type": "display_data"
    },
    {
     "data": {
      "text/plain": [
       "<Figure size 432x288 with 0 Axes>"
      ]
     },
     "metadata": {},
     "output_type": "display_data"
    }
   ],
   "source": [
    "%matplotlib inline\n",
    "sns.set()\n",
    "dataStar.plot.scatter( x=\"B-V\" ,y=\"Amag\",cmap='viridis' ,  c='TargetClass' ,s=5); # problem with TargetClass\n",
    "plt.xlabel(\"Plx\")\n",
    "plt.figure()\n",
    "plt.show()\n",
    "\n"
   ]
  },
  {
   "cell_type": "code",
   "execution_count": 20,
   "id": "82304732",
   "metadata": {
    "execution": {
     "iopub.execute_input": "2022-05-07T16:40:12.124601Z",
     "iopub.status.busy": "2022-05-07T16:40:12.123802Z",
     "iopub.status.idle": "2022-05-07T16:40:15.848042Z",
     "shell.execute_reply": "2022-05-07T16:40:15.848587Z",
     "shell.execute_reply.started": "2022-05-07T16:30:41.154249Z"
    },
    "papermill": {
     "duration": 3.797323,
     "end_time": "2022-05-07T16:40:15.848763",
     "exception": false,
     "start_time": "2022-05-07T16:40:12.051440",
     "status": "completed"
    },
    "tags": []
   },
   "outputs": [
    {
     "data": {
      "text/plain": [
       "Vmag           0\n",
       "Plx            0\n",
       "e_Plx          0\n",
       "B-V            0\n",
       "SpType         0\n",
       "Amag           0\n",
       "e_Amag         0\n",
       "eA/A           0\n",
       "eP/P           0\n",
       "TargetClass    0\n",
       "dtype: int64"
      ]
     },
     "execution_count": 20,
     "metadata": {},
     "output_type": "execute_result"
    },
    {
     "data": {
      "image/png": "[encoded data removed]",
      "text/plain": [
       "<Figure size 864x576 with 25 Axes>"
      ]
     },
     "metadata": {},
     "output_type": "display_data"
    }
   ],
   "source": [
    "# scatter attributes\n",
    "\n",
    "from pandas.plotting import scatter_matrix\n",
    "\n",
    "attributes = ['TargetClass','Amag' , 'Vmag' , 'Plx' , 'B-V']\n",
    "\n",
    "# convert a numerical Targetclass \n",
    "dataStar['TargetClass'] = pd.to_numeric(dataStar['TargetClass'] , downcast='float' , errors='coerce')\n",
    "\n",
    "scatter_matrix(dataStar[attributes] , figsize=(12, 8))\n",
    "dataStar.isnull().sum()\n"
   ]
  },
  {
   "cell_type": "markdown",
   "id": "df6f841e",
   "metadata": {
    "papermill": {
     "duration": 0.062249,
     "end_time": "2022-05-07T16:40:15.974607",
     "exception": false,
     "start_time": "2022-05-07T16:40:15.912358",
     "status": "completed"
    },
    "tags": []
   },
   "source": [
    "## Correlation Linear ##"
   ]
  },
  {
   "cell_type": "code",
   "execution_count": 21,
   "id": "5759fa4d",
   "metadata": {
    "execution": {
     "iopub.execute_input": "2022-05-07T16:40:16.104138Z",
     "iopub.status.busy": "2022-05-07T16:40:16.103433Z",
     "iopub.status.idle": "2022-05-07T16:40:16.113396Z",
     "shell.execute_reply": "2022-05-07T16:40:16.113885Z",
     "shell.execute_reply.started": "2022-05-07T16:30:44.151022Z"
    },
    "papermill": {
     "duration": 0.07639,
     "end_time": "2022-05-07T16:40:16.114065",
     "exception": false,
     "start_time": "2022-05-07T16:40:16.037675",
     "status": "completed"
    },
    "tags": []
   },
   "outputs": [
    {
     "data": {
      "text/plain": [
       "TargetClass    1.000000\n",
       "B-V            0.302299\n",
       "eP/P           0.036399\n",
       "e_Amag         0.036399\n",
       "eA/A           0.023408\n",
       "e_Plx         -0.242699\n",
       "Plx           -0.365910\n",
       "Vmag          -0.381619\n",
       "Amag          -0.735124\n",
       "Name: TargetClass, dtype: float64"
      ]
     },
     "execution_count": 21,
     "metadata": {},
     "output_type": "execute_result"
    }
   ],
   "source": [
    "corr_matrix = dataStar.corr()\n",
    "corr_matrix[\"TargetClass\"].sort_values(ascending=False)"
   ]
  },
  {
   "cell_type": "markdown",
   "id": "e2b2b647",
   "metadata": {
    "papermill": {
     "duration": 0.063941,
     "end_time": "2022-05-07T16:40:16.240956",
     "exception": false,
     "start_time": "2022-05-07T16:40:16.177015",
     "status": "completed"
    },
    "tags": []
   },
   "source": [
    "## Data Cleaning ##"
   ]
  },
  {
   "cell_type": "code",
   "execution_count": 22,
   "id": "204d30bd",
   "metadata": {
    "execution": {
     "iopub.execute_input": "2022-05-07T16:40:16.371572Z",
     "iopub.status.busy": "2022-05-07T16:40:16.370831Z",
     "iopub.status.idle": "2022-05-07T16:40:16.376018Z",
     "shell.execute_reply": "2022-05-07T16:40:16.376663Z",
     "shell.execute_reply.started": "2022-05-07T16:30:44.165151Z"
    },
    "papermill": {
     "duration": 0.071922,
     "end_time": "2022-05-07T16:40:16.376947",
     "exception": false,
     "start_time": "2022-05-07T16:40:16.305025",
     "status": "completed"
    },
    "tags": []
   },
   "outputs": [],
   "source": [
    "#dataStar = dataStar.drop(['Unnamed: 0'], axis =1)\n",
    "dataStar = dataStar.drop(['SpType'], axis =1)\n",
    "\n"
   ]
  },
  {
   "cell_type": "markdown",
   "id": "a47dcd07",
   "metadata": {
    "papermill": {
     "duration": 0.062478,
     "end_time": "2022-05-07T16:40:16.502947",
     "exception": false,
     "start_time": "2022-05-07T16:40:16.440469",
     "status": "completed"
    },
    "tags": []
   },
   "source": [
    "# **Data Processing** #"
   ]
  },
  {
   "cell_type": "code",
   "execution_count": 23,
   "id": "baf445c8",
   "metadata": {
    "execution": {
     "iopub.execute_input": "2022-05-07T16:40:16.633200Z",
     "iopub.status.busy": "2022-05-07T16:40:16.632481Z",
     "iopub.status.idle": "2022-05-07T16:40:16.643079Z",
     "shell.execute_reply": "2022-05-07T16:40:16.642523Z",
     "shell.execute_reply.started": "2022-05-07T16:30:44.171829Z"
    },
    "papermill": {
     "duration": 0.07769,
     "end_time": "2022-05-07T16:40:16.643268",
     "exception": false,
     "start_time": "2022-05-07T16:40:16.565578",
     "status": "completed"
    },
    "tags": []
   },
   "outputs": [
    {
     "name": "stdout",
     "output_type": "stream",
     "text": [
      "<class 'pandas.core.frame.DataFrame'>\n",
      "Int64Index: 9562 entries, 0 to 9561\n",
      "Data columns (total 9 columns):\n",
      " #   Column       Non-Null Count  Dtype  \n",
      "---  ------       --------------  -----  \n",
      " 0   Vmag         9562 non-null   float32\n",
      " 1   Plx          9562 non-null   float32\n",
      " 2   e_Plx        9562 non-null   float32\n",
      " 3   B-V          9562 non-null   float32\n",
      " 4   Amag         9562 non-null   float32\n",
      " 5   e_Amag       9562 non-null   float32\n",
      " 6   eA/A         9562 non-null   float32\n",
      " 7   eP/P         9562 non-null   float32\n",
      " 8   TargetClass  9562 non-null   float32\n",
      "dtypes: float32(9)\n",
      "memory usage: 410.9 KB\n"
     ]
    }
   ],
   "source": [
    "dataStar.info()"
   ]
  },
  {
   "cell_type": "markdown",
   "id": "94113787",
   "metadata": {
    "papermill": {
     "duration": 0.063017,
     "end_time": "2022-05-07T16:40:16.770559",
     "exception": false,
     "start_time": "2022-05-07T16:40:16.707542",
     "status": "completed"
    },
    "tags": []
   },
   "source": [
    "### Train and test Set ###"
   ]
  },
  {
   "cell_type": "code",
   "execution_count": 24,
   "id": "a0ce5f46",
   "metadata": {
    "execution": {
     "iopub.execute_input": "2022-05-07T16:40:16.902574Z",
     "iopub.status.busy": "2022-05-07T16:40:16.901789Z",
     "iopub.status.idle": "2022-05-07T16:40:16.994705Z",
     "shell.execute_reply": "2022-05-07T16:40:16.993944Z",
     "shell.execute_reply.started": "2022-05-07T16:30:44.193952Z"
    },
    "papermill": {
     "duration": 0.160132,
     "end_time": "2022-05-07T16:40:16.994884",
     "exception": false,
     "start_time": "2022-05-07T16:40:16.834752",
     "status": "completed"
    },
    "tags": []
   },
   "outputs": [],
   "source": [
    "from sklearn.model_selection import train_test_split\n",
    "\n",
    "\n",
    "train , test = train_test_split(dataStar , test_size = 0.2, random_state = 42 )\n",
    "train = train.reset_index(drop=True)\n",
    "test = test.reset_index(drop=True)"
   ]
  },
  {
   "cell_type": "code",
   "execution_count": 25,
   "id": "1f22a234",
   "metadata": {
    "execution": {
     "iopub.execute_input": "2022-05-07T16:40:17.128057Z",
     "iopub.status.busy": "2022-05-07T16:40:17.127348Z",
     "iopub.status.idle": "2022-05-07T16:40:17.129169Z",
     "shell.execute_reply": "2022-05-07T16:40:17.129654Z",
     "shell.execute_reply.started": "2022-05-07T16:30:44.204387Z"
    },
    "papermill": {
     "duration": 0.070862,
     "end_time": "2022-05-07T16:40:17.129839",
     "exception": false,
     "start_time": "2022-05-07T16:40:17.058977",
     "status": "completed"
    },
    "tags": []
   },
   "outputs": [],
   "source": [
    "## Stratified ##\n",
    "#from sklearn.model_selection import StratifiedShuffleSplit\n",
    "#split = StratifiedShuffleSplit(n_splits=1, test_size=0.2, random_state=42)\n",
    "#for train_index, test_index in split.split(data, data[\"variableStratificada\"]):\n",
    "#strat_train_set = housing.loc[train_index]\n",
    "#strat_test_set = housing.loc[test_index]\n",
    "\n",
    "#from  sklearn.impute import SimpleImputer\n",
    "#imputer = SimpleImputer(strategy='median')\n",
    "\n",
    "#from  sklearn.preprocessing import OneHotEncoder\n",
    "#catEncoder = OneHotEncoder()\n",
    "\n",
    "## numerical ##\n",
    "#from  sklearn.pipeline import Pipeline\n",
    "#from  sklearn.preprocessing import StandardScaler\n",
    "#numerical_pipeline = Pipeline([('imputer', SimpleImputer(strategy=\"median\")),('attribs_adder', CombinedAttributesAdder()),])\n",
    "# new_variable_transformed_numerical = num_pipeline.fit_transform(varible_numerica)\n",
    "\n",
    "## numerical and categorial ##\n",
    "#from sklearn import ColumnTransformer\n",
    "#numerical_attribs = list(numerical_columns)\n",
    "#categorical_attribs = list(categorial_columns)\n",
    "#full_pipeline = ColumnTransformer([(\"num\", numerical_pipeline, numerical_attribs),(\"cat\", OneHotEncoder(), categorical_attribs),])\n",
    "#dataTotal_prepared = full_pipeline.fit_transform(dataTotal) "
   ]
  },
  {
   "cell_type": "markdown",
   "id": "4e6b124c",
   "metadata": {
    "papermill": {
     "duration": 0.06436,
     "end_time": "2022-05-07T16:40:17.259744",
     "exception": false,
     "start_time": "2022-05-07T16:40:17.195384",
     "status": "completed"
    },
    "tags": []
   },
   "source": [
    "## Target ## "
   ]
  },
  {
   "cell_type": "code",
   "execution_count": 26,
   "id": "2a125b52",
   "metadata": {
    "execution": {
     "iopub.execute_input": "2022-05-07T16:40:17.390405Z",
     "iopub.status.busy": "2022-05-07T16:40:17.389652Z",
     "iopub.status.idle": "2022-05-07T16:40:17.402955Z",
     "shell.execute_reply": "2022-05-07T16:40:17.403520Z",
     "shell.execute_reply.started": "2022-05-07T16:30:44.220422Z"
    },
    "papermill": {
     "duration": 0.081305,
     "end_time": "2022-05-07T16:40:17.403703",
     "exception": false,
     "start_time": "2022-05-07T16:40:17.322398",
     "status": "completed"
    },
    "tags": []
   },
   "outputs": [
    {
     "name": "stdout",
     "output_type": "stream",
     "text": [
      "<class 'pandas.core.frame.DataFrame'>\n",
      "RangeIndex: 7649 entries, 0 to 7648\n",
      "Data columns (total 8 columns):\n",
      " #   Column  Non-Null Count  Dtype  \n",
      "---  ------  --------------  -----  \n",
      " 0   Vmag    7649 non-null   float32\n",
      " 1   Plx     7649 non-null   float32\n",
      " 2   e_Plx   7649 non-null   float32\n",
      " 3   B-V     7649 non-null   float32\n",
      " 4   Amag    7649 non-null   float32\n",
      " 5   e_Amag  7649 non-null   float32\n",
      " 6   eA/A    7649 non-null   float32\n",
      " 7   eP/P    7649 non-null   float32\n",
      "dtypes: float32(8)\n",
      "memory usage: 239.2 KB\n"
     ]
    }
   ],
   "source": [
    "trainX = train.drop('TargetClass', axis=1)\n",
    "trainY = train['TargetClass'].copy()\n",
    "\n",
    "testX = test.drop('TargetClass', axis=1)\n",
    "testY = test['TargetClass'].copy()\n",
    "trainX.info()"
   ]
  },
  {
   "cell_type": "markdown",
   "id": "9f946c37",
   "metadata": {
    "papermill": {
     "duration": 0.063573,
     "end_time": "2022-05-07T16:40:17.532362",
     "exception": false,
     "start_time": "2022-05-07T16:40:17.468789",
     "status": "completed"
    },
    "tags": []
   },
   "source": [
    "# Featuring Engineering "
   ]
  },
  {
   "cell_type": "markdown",
   "id": "1684cbef",
   "metadata": {
    "papermill": {
     "duration": 0.063006,
     "end_time": "2022-05-07T16:40:17.659543",
     "exception": false,
     "start_time": "2022-05-07T16:40:17.596537",
     "status": "completed"
    },
    "tags": []
   },
   "source": [
    "##  Pipeline and Featuring Scaling ##"
   ]
  },
  {
   "cell_type": "code",
   "execution_count": 27,
   "id": "dc43e21f",
   "metadata": {
    "execution": {
     "iopub.execute_input": "2022-05-07T16:40:17.800859Z",
     "iopub.status.busy": "2022-05-07T16:40:17.799975Z",
     "iopub.status.idle": "2022-05-07T16:40:18.000702Z",
     "shell.execute_reply": "2022-05-07T16:40:18.001206Z",
     "shell.execute_reply.started": "2022-05-07T16:30:44.241823Z"
    },
    "papermill": {
     "duration": 0.273709,
     "end_time": "2022-05-07T16:40:18.001396",
     "exception": false,
     "start_time": "2022-05-07T16:40:17.727687",
     "status": "completed"
    },
    "tags": []
   },
   "outputs": [
    {
     "name": "stdout",
     "output_type": "stream",
     "text": [
      "Done\n"
     ]
    }
   ],
   "source": [
    "from  sklearn.impute import SimpleImputer\n",
    "from  sklearn.preprocessing import OneHotEncoder\n",
    "\n",
    "from  sklearn.pipeline import Pipeline\n",
    "from  sklearn.preprocessing import StandardScaler\n",
    "\n",
    "numerical_pipeline = Pipeline([('imputer', SimpleImputer(strategy=\"median\")),\n",
    "                              ('std_scaler', StandardScaler())] )\n",
    "\n",
    "from sklearn.compose import ColumnTransformer\n",
    "\n",
    "num_attribs = list(trainX)\n",
    "#cat_attribs = [\"ocean_proximity\"] ---generar lista de attribus catecorial---\n",
    "full_pipeline = ColumnTransformer([(\"num\", numerical_pipeline, num_attribs),\n",
    "#                                   (\"cat\", OneHotEncoder(), cat_attribs),\n",
    "                                  ])\n",
    "\n",
    "Xtrain = full_pipeline.fit_transform(trainX)  # array\n",
    "\n",
    "print('Done')"
   ]
  },
  {
   "cell_type": "markdown",
   "id": "cd169c40",
   "metadata": {
    "papermill": {
     "duration": 0.06392,
     "end_time": "2022-05-07T16:40:18.133327",
     "exception": false,
     "start_time": "2022-05-07T16:40:18.069407",
     "status": "completed"
    },
    "tags": []
   },
   "source": [
    " # **MODEL** # "
   ]
  },
  {
   "cell_type": "markdown",
   "id": "5796a681",
   "metadata": {
    "papermill": {
     "duration": 0.064969,
     "end_time": "2022-05-07T16:40:18.262954",
     "exception": false,
     "start_time": "2022-05-07T16:40:18.197985",
     "status": "completed"
    },
    "tags": []
   },
   "source": [
    "#### Models ####"
   ]
  },
  {
   "cell_type": "code",
   "execution_count": 28,
   "id": "99118fad",
   "metadata": {
    "execution": {
     "iopub.execute_input": "2022-05-07T16:40:18.394567Z",
     "iopub.status.busy": "2022-05-07T16:40:18.393511Z",
     "iopub.status.idle": "2022-05-07T16:40:18.455592Z",
     "shell.execute_reply": "2022-05-07T16:40:18.456103Z",
     "shell.execute_reply.started": "2022-05-07T16:30:44.267502Z"
    },
    "papermill": {
     "duration": 0.129603,
     "end_time": "2022-05-07T16:40:18.456321",
     "exception": false,
     "start_time": "2022-05-07T16:40:18.326718",
     "status": "completed"
    },
    "tags": []
   },
   "outputs": [],
   "source": [
    "# Models ==> ['logisRegre' , 'SVM'   , 'SGDClf' ,  'randomForestClassifier' , 'navieBayes']\n",
    "\n",
    "# Classifier\n",
    "from sklearn.linear_model import SGDClassifier\n",
    "from sklearn.linear_model import LogisticRegression\n",
    "from sklearn.ensemble import RandomForestClassifier\n",
    "from sklearn.svm import LinearSVC\n"
   ]
  },
  {
   "cell_type": "code",
   "execution_count": 29,
   "id": "ab87fac4",
   "metadata": {
    "execution": {
     "iopub.execute_input": "2022-05-07T16:40:18.591926Z",
     "iopub.status.busy": "2022-05-07T16:40:18.590853Z",
     "iopub.status.idle": "2022-05-07T16:40:18.616269Z",
     "shell.execute_reply": "2022-05-07T16:40:18.616792Z",
     "shell.execute_reply.started": "2022-05-07T16:30:44.273142Z"
    },
    "papermill": {
     "duration": 0.09582,
     "end_time": "2022-05-07T16:40:18.616998",
     "exception": false,
     "start_time": "2022-05-07T16:40:18.521178",
     "status": "completed"
    },
    "tags": []
   },
   "outputs": [],
   "source": [
    "\n",
    "SGDClf = SGDClassifier(random_state=42)\n",
    "SGDClf.fit(Xtrain, trainY) # fit equal training\n",
    "\n",
    "LRClf = LogisticRegression(random_state=0)\n",
    "RFClf = RandomForestClassifier(random_state=0)\n",
    "SVClf = LinearSVC(random_state=0)\n",
    "\n",
    "\n",
    "#SGDClf.fit(Xtrain, trainY)"
   ]
  },
  {
   "cell_type": "markdown",
   "id": "e5262fdb",
   "metadata": {
    "papermill": {
     "duration": 0.063685,
     "end_time": "2022-05-07T16:40:18.744174",
     "exception": false,
     "start_time": "2022-05-07T16:40:18.680489",
     "status": "completed"
    },
    "tags": []
   },
   "source": [
    "## Cross-Validation ##"
   ]
  },
  {
   "cell_type": "code",
   "execution_count": 30,
   "id": "813a45c8",
   "metadata": {
    "execution": {
     "iopub.execute_input": "2022-05-07T16:40:18.877988Z",
     "iopub.status.busy": "2022-05-07T16:40:18.876900Z",
     "iopub.status.idle": "2022-05-07T16:40:26.846380Z",
     "shell.execute_reply": "2022-05-07T16:40:26.845441Z",
     "shell.execute_reply.started": "2022-05-07T16:30:44.302732Z"
    },
    "papermill": {
     "duration": 8.038546,
     "end_time": "2022-05-07T16:40:26.846551",
     "exception": false,
     "start_time": "2022-05-07T16:40:18.808005",
     "status": "completed"
    },
    "tags": []
   },
   "outputs": [
    {
     "name": "stdout",
     "output_type": "stream",
     "text": [
      "{0.30386180518404604: SGDClassifier(random_state=42), 0.30125531832657965: LogisticRegression(random_state=0), 0.2476815794898156: RandomForestClassifier(random_state=0)}\n",
      "\n",
      "\n",
      "Best model: RandomForestClassifier(random_state=0)\n",
      "DONE\n"
     ]
    }
   ],
   "source": [
    "from sklearn.model_selection import cross_val_score\n",
    "\n",
    "# automatizar entre diversos modelos de la misma categoria\n",
    "def compareModels(models, x, y, numCV, scoringT=\"neg_mean_squared_error\"):\n",
    "    modelsCV = dict()\n",
    "    for mod in models:\n",
    "        scores = cross_val_score(mod, x, y, scoring = scoringT, cv=numCV)\n",
    "        meanScore = np.sqrt(-scores).mean()\n",
    "        modelsCV[meanScore] = mod\n",
    "    \n",
    "    val=min(modelsCV)\n",
    "    bestModel = modelsCV[val]\n",
    "    return modelsCV,bestModel\n",
    "    \n",
    "result, model =compareModels([SGDClf , LRClf, RFClf] , Xtrain , trainY , 6)\n",
    "print(result); print('\\n'); print('Best model:', model); print('DONE')"
   ]
  },
  {
   "cell_type": "code",
   "execution_count": 31,
   "id": "f3a8dc1b",
   "metadata": {
    "execution": {
     "iopub.execute_input": "2022-05-07T16:40:26.984063Z",
     "iopub.status.busy": "2022-05-07T16:40:26.983025Z",
     "iopub.status.idle": "2022-05-07T16:40:28.471377Z",
     "shell.execute_reply": "2022-05-07T16:40:28.470752Z",
     "shell.execute_reply.started": "2022-05-07T16:30:51.835389Z"
    },
    "papermill": {
     "duration": 1.559212,
     "end_time": "2022-05-07T16:40:28.471526",
     "exception": false,
     "start_time": "2022-05-07T16:40:26.912314",
     "status": "completed"
    },
    "tags": []
   },
   "outputs": [],
   "source": [
    "model.fit(Xtrain, trainY)\n",
    "\n",
    "Xtest = full_pipeline.fit_transform(testX)\n",
    "Ypredicts = model.predict(Xtest)\n"
   ]
  },
  {
   "cell_type": "code",
   "execution_count": 32,
   "id": "f1726474",
   "metadata": {
    "execution": {
     "iopub.execute_input": "2022-05-07T16:40:28.605847Z",
     "iopub.status.busy": "2022-05-07T16:40:28.604942Z",
     "iopub.status.idle": "2022-05-07T16:40:28.608970Z",
     "shell.execute_reply": "2022-05-07T16:40:28.608436Z",
     "shell.execute_reply.started": "2022-05-07T16:30:53.282590Z"
    },
    "papermill": {
     "duration": 0.074037,
     "end_time": "2022-05-07T16:40:28.609107",
     "exception": false,
     "start_time": "2022-05-07T16:40:28.535070",
     "status": "completed"
    },
    "tags": []
   },
   "outputs": [
    {
     "data": {
      "text/plain": [
       "0.24304223"
      ]
     },
     "execution_count": 32,
     "metadata": {},
     "output_type": "execute_result"
    }
   ],
   "source": [
    "# metrica\n",
    "from sklearn.metrics import mean_squared_error\n",
    "\n",
    "mse = mean_squared_error(testY , Ypredicts) \n",
    "rmse = np.sqrt(mse)\n",
    "rmse"
   ]
  },
  {
   "cell_type": "code",
   "execution_count": 33,
   "id": "d0e46f45",
   "metadata": {
    "execution": {
     "iopub.execute_input": "2022-05-07T16:40:28.756487Z",
     "iopub.status.busy": "2022-05-07T16:40:28.755488Z",
     "iopub.status.idle": "2022-05-07T16:40:28.759490Z",
     "shell.execute_reply": "2022-05-07T16:40:28.758842Z",
     "shell.execute_reply.started": "2022-05-07T16:30:53.293476Z"
    },
    "papermill": {
     "duration": 0.086942,
     "end_time": "2022-05-07T16:40:28.759636",
     "exception": false,
     "start_time": "2022-05-07T16:40:28.672694",
     "status": "completed"
    },
    "tags": []
   },
   "outputs": [
    {
     "data": {
      "text/plain": [
       "'94.093048%'"
      ]
     },
     "execution_count": 33,
     "metadata": {},
     "output_type": "execute_result"
    }
   ],
   "source": [
    "output = pd.DataFrame({'Star': testY, 'StarPred': Ypredicts})\n",
    "\n",
    "def precision(a, b):\n",
    "    cont = 0\n",
    "    for i in np.arange(len(a)):\n",
    "        if (a[i]==b[i]):\n",
    "            cont = cont +1\n",
    "             \n",
    "            \n",
    "    return  format( cont/len(a) , '2%') \n",
    "\n",
    "precision(testY , Ypredicts)"
   ]
  },
  {
   "cell_type": "code",
   "execution_count": 34,
   "id": "00cf9f3a",
   "metadata": {
    "execution": {
     "iopub.execute_input": "2022-05-07T16:40:28.894612Z",
     "iopub.status.busy": "2022-05-07T16:40:28.893804Z",
     "iopub.status.idle": "2022-05-07T16:40:28.896754Z",
     "shell.execute_reply": "2022-05-07T16:40:28.896142Z",
     "shell.execute_reply.started": "2022-05-07T16:30:53.322326Z"
    },
    "papermill": {
     "duration": 0.072268,
     "end_time": "2022-05-07T16:40:28.896905",
     "exception": false,
     "start_time": "2022-05-07T16:40:28.824637",
     "status": "completed"
    },
    "tags": []
   },
   "outputs": [],
   "source": [
    "### stratified CV ### see pag 136  Geron's book\n",
    "#from sklearn.model_selection import StratifiedKFold\n",
    "#from sklearn.base import clone\n",
    "#skfolds = StratifiedKFold(n_splits=3, random_state=42)"
   ]
  },
  {
   "cell_type": "markdown",
   "id": "34ff4462",
   "metadata": {
    "papermill": {
     "duration": 0.064184,
     "end_time": "2022-05-07T16:40:29.025629",
     "exception": false,
     "start_time": "2022-05-07T16:40:28.961445",
     "status": "completed"
    },
    "tags": []
   },
   "source": [
    "# **Refinament** #"
   ]
  },
  {
   "cell_type": "markdown",
   "id": "3cbbb1f0",
   "metadata": {
    "papermill": {
     "duration": 0.064108,
     "end_time": "2022-05-07T16:40:29.153839",
     "exception": false,
     "start_time": "2022-05-07T16:40:29.089731",
     "status": "completed"
    },
    "tags": []
   },
   "source": [
    "### Hyper-parameters ###"
   ]
  },
  {
   "cell_type": "markdown",
   "id": "b2693805",
   "metadata": {
    "papermill": {
     "duration": 0.063865,
     "end_time": "2022-05-07T16:40:29.281663",
     "exception": false,
     "start_time": "2022-05-07T16:40:29.217798",
     "status": "completed"
    },
    "tags": []
   },
   "source": [
    "We proceeded to search for the hyperparameters, using `GridSearchCV` a list of hyperparameters to experiment with."
   ]
  },
  {
   "cell_type": "code",
   "execution_count": 35,
   "id": "c346f1d5",
   "metadata": {
    "execution": {
     "iopub.execute_input": "2022-05-07T16:40:29.421826Z",
     "iopub.status.busy": "2022-05-07T16:40:29.421032Z",
     "iopub.status.idle": "2022-05-07T16:44:54.736402Z",
     "shell.execute_reply": "2022-05-07T16:44:54.736934Z",
     "shell.execute_reply.started": "2022-05-07T16:30:53.336851Z"
    },
    "papermill": {
     "duration": 265.391414,
     "end_time": "2022-05-07T16:44:54.737138",
     "exception": false,
     "start_time": "2022-05-07T16:40:29.345724",
     "status": "completed"
    },
    "tags": []
   },
   "outputs": [
    {
     "data": {
      "text/plain": [
       "{'max_features': 2, 'n_estimators': 10}"
      ]
     },
     "execution_count": 35,
     "metadata": {},
     "output_type": "execute_result"
    }
   ],
   "source": [
    "from sklearn.model_selection import GridSearchCV\n",
    "from sklearn.model_selection import RandomizedSearchCV\n",
    "from scipy.stats import uniform\n",
    "\n",
    "\n",
    "#distributions = dict(C=uniform(loc=0, scale=4), penalty=['l2','l1'])\n",
    "#clf=RandomizedSearchCV( RFClf , distributions , random_state=0) # arg (model , distri , ...)\n",
    "\n",
    "\n",
    "parameter_grid = [{'n_estimators':[3,5,10,12, 14,16], 'max_features':[2,4,6]} ,\n",
    "                  {'bootstrap':[False], 'n_estimators':[3,7,12,14, 16] , 'max_features':[1,2,3,4, 6]}]\n",
    "clf=GridSearchCV( RFClf , parameter_grid,\n",
    "                cv=20 ,  scoring='neg_mean_squared_error' , return_train_score=True) # arg (model , distri , ...)\n",
    "\n",
    "\n",
    "clf.fit(Xtrain, trainY)\n",
    "\n",
    "clf.best_params_"
   ]
  },
  {
   "cell_type": "markdown",
   "id": "14184c7c",
   "metadata": {
    "papermill": {
     "duration": 0.064764,
     "end_time": "2022-05-07T16:44:54.867056",
     "exception": false,
     "start_time": "2022-05-07T16:44:54.802292",
     "status": "completed"
    },
    "tags": []
   },
   "source": [
    "###  Model-Hyperparameters ###"
   ]
  },
  {
   "cell_type": "code",
   "execution_count": 36,
   "id": "61a8c63f",
   "metadata": {
    "execution": {
     "iopub.execute_input": "2022-05-07T16:44:55.001594Z",
     "iopub.status.busy": "2022-05-07T16:44:55.000881Z",
     "iopub.status.idle": "2022-05-07T16:44:55.022604Z",
     "shell.execute_reply": "2022-05-07T16:44:55.023133Z",
     "shell.execute_reply.started": "2022-05-07T16:37:19.905258Z"
    },
    "papermill": {
     "duration": 0.090849,
     "end_time": "2022-05-07T16:44:55.023347",
     "exception": false,
     "start_time": "2022-05-07T16:44:54.932498",
     "status": "completed"
    },
    "tags": []
   },
   "outputs": [
    {
     "name": "stdout",
     "output_type": "stream",
     "text": [
      "Precision: 94.040774%\n"
     ]
    }
   ],
   "source": [
    "finalModel=clf.best_estimator_\n",
    "Ypredfinal=finalModel.predict(Xtest)\n",
    "\n",
    "print('Precision:', precision(testY , Ypredfinal) )# worse model"
   ]
  },
  {
   "cell_type": "markdown",
   "id": "56786ae1",
   "metadata": {
    "papermill": {
     "duration": 0.065658,
     "end_time": "2022-05-07T16:44:55.156966",
     "exception": false,
     "start_time": "2022-05-07T16:44:55.091308",
     "status": "completed"
    },
    "tags": []
   },
   "source": [
    "# Future improvements"
   ]
  },
  {
   "cell_type": "markdown",
   "id": "89bd318b",
   "metadata": {
    "papermill": {
     "duration": 0.065081,
     "end_time": "2022-05-07T16:44:55.288316",
     "exception": false,
     "start_time": "2022-05-07T16:44:55.223235",
     "status": "completed"
    },
    "tags": []
   },
   "source": [
    "The model  can be improvement by implementation some  Clusters model and  applying a stratification to the data."
   ]
  },
  {
   "cell_type": "code",
   "execution_count": 37,
   "id": "359e003e",
   "metadata": {
    "execution": {
     "iopub.execute_input": "2022-05-07T16:44:55.423832Z",
     "iopub.status.busy": "2022-05-07T16:44:55.423185Z",
     "iopub.status.idle": "2022-05-07T16:44:55.426018Z",
     "shell.execute_reply": "2022-05-07T16:44:55.426539Z",
     "shell.execute_reply.started": "2022-05-07T16:35:16.607733Z"
    },
    "papermill": {
     "duration": 0.072699,
     "end_time": "2022-05-07T16:44:55.426708",
     "exception": false,
     "start_time": "2022-05-07T16:44:55.354009",
     "status": "completed"
    },
    "tags": []
   },
   "outputs": [],
   "source": [
    "# **Deploy** #"
   ]
  }
 ],
 "metadata": {
  "kernelspec": {
   "display_name": "Python 3",
   "language": "python",
   "name": "python3"
  },
  "language_info": {
   "codemirror_mode": {
    "name": "ipython",
    "version": 3
   },
   "file_extension": ".py",
   "mimetype": "text/x-python",
   "name": "python",
   "nbconvert_exporter": "python",
   "pygments_lexer": "ipython3",
   "version": "3.7.12"
  },
  "papermill": {
   "default_parameters": {},
   "duration": 424.396455,
   "end_time": "2022-05-07T16:44:56.304339",
   "environment_variables": {},
   "exception": null,
   "input_path": "__notebook__.ipynb",
   "output_path": "__notebook__.ipynb",
   "parameters": {},
   "start_time": "2022-05-07T16:37:51.907884",
   "version": "2.3.3"
  }
 },
 "nbformat": 4,
 "nbformat_minor": 5
}
