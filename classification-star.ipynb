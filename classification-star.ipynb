{
 "cells": [
  {
   "cell_type": "code",
   "execution_count": 1,
   "id": "046f0401",
   "metadata": {
    "_cell_guid": "b1076dfc-b9ad-4769-8c92-a6c4dae69d19",
    "_kg_hide-input": true,
    "_kg_hide-output": true,
    "_uuid": "8f2839f25d086af736a60e9eeb907d3b93b6e0e5",
    "execution": {
     "iopub.execute_input": "2022-05-03T23:51:58.679775Z",
     "iopub.status.busy": "2022-05-03T23:51:58.678603Z",
     "iopub.status.idle": "2022-05-03T23:51:59.683571Z",
     "shell.execute_reply": "2022-05-03T23:51:59.682822Z",
     "shell.execute_reply.started": "2022-05-03T23:34:30.738789Z"
    },
    "papermill": {
     "duration": 1.051382,
     "end_time": "2022-05-03T23:51:59.683742",
     "exception": false,
     "start_time": "2022-05-03T23:51:58.632360",
     "status": "completed"
    },
    "tags": []
   },
   "outputs": [
    {
     "name": "stdout",
     "output_type": "stream",
     "text": [
      "/kaggle/input/star-categorization-giants-and-dwarfs/Star99999_raw.csv\n",
      "/kaggle/input/star-categorization-giants-and-dwarfs/Star39552_balanced.csv\n",
      "/kaggle/input/star-categorization-giants-and-dwarfs/Star9999_raw.csv\n",
      "/kaggle/input/star-categorization-giants-and-dwarfs/Star3642_balanced.csv\n"
     ]
    }
   ],
   "source": [
    "# This Python 3 environment comes with many helpful analytics libraries installed\n",
    "# It is defined by the kaggle/python Docker image: https://github.com/kaggle/docker-python\n",
    "# For example, here's several helpful packages to load\n",
    "\n",
    "%matplotlib inline\n",
    "\n",
    "import numpy as np # linear algebra\n",
    "import pandas as pd # data processing, CSV file I/O (e.g. pd.read_csv)\n",
    "\n",
    "import matplotlib.pyplot as plt\n",
    "import seaborn as sns\n",
    "# Input data files are available in the read-only \"../input/\" directory\n",
    "# For example, running this (by clicking run or pressing Shift+Enter) will list all files under the input directory\n",
    "\n",
    "import os\n",
    "for dirname, _, filenames in os.walk('/kaggle/input'):\n",
    "    for filename in filenames:\n",
    "        print(os.path.join(dirname, filename))\n",
    "\n",
    "# You can write up to 20GB to the current directory (/kaggle/working/) that gets preserved as output when you create a version using \"Save & Run All\" \n",
    "# You can also write temporary files to /kaggle/temp/, but they won't be saved outside of the current session\n"
   ]
  },
  {
   "cell_type": "markdown",
   "id": "c7d800b3",
   "metadata": {
    "papermill": {
     "duration": 0.042192,
     "end_time": "2022-05-03T23:51:59.769279",
     "exception": false,
     "start_time": "2022-05-03T23:51:59.727087",
     "status": "completed"
    },
    "tags": []
   },
   "source": [
    "# **Get Data** #"
   ]
  },
  {
   "cell_type": "code",
   "execution_count": 2,
   "id": "0e2c2127",
   "metadata": {
    "execution": {
     "iopub.execute_input": "2022-05-03T23:51:59.859680Z",
     "iopub.status.busy": "2022-05-03T23:51:59.859029Z",
     "iopub.status.idle": "2022-05-03T23:52:00.148417Z",
     "shell.execute_reply": "2022-05-03T23:52:00.147742Z",
     "shell.execute_reply.started": "2022-03-02T21:32:34.887113Z"
    },
    "papermill": {
     "duration": 0.33472,
     "end_time": "2022-05-03T23:52:00.148566",
     "exception": false,
     "start_time": "2022-05-03T23:51:59.813846",
     "status": "completed"
    },
    "tags": []
   },
   "outputs": [
    {
     "name": "stdout",
     "output_type": "stream",
     "text": [
      "<class 'pandas.core.frame.DataFrame'>\n",
      "RangeIndex: 99999 entries, 0 to 99998\n",
      "Data columns (total 6 columns):\n",
      " #   Column      Non-Null Count  Dtype \n",
      "---  ------      --------------  ----- \n",
      " 0   Unnamed: 0  99999 non-null  int64 \n",
      " 1   Vmag        99999 non-null  object\n",
      " 2   Plx         99999 non-null  object\n",
      " 3   e_Plx       99999 non-null  object\n",
      " 4   B-V         99999 non-null  object\n",
      " 5   SpType      97377 non-null  object\n",
      "dtypes: int64(1), object(5)\n",
      "memory usage: 4.6+ MB\n"
     ]
    }
   ],
   "source": [
    "# Read Data\n",
    "data = pd.read_csv('../input/star-categorization-giants-and-dwarfs/Star39552_balanced.csv') # data pre-processed\n",
    "dataRaw = pd.read_csv('/kaggle/input/star-categorization-giants-and-dwarfs/Star99999_raw.csv') # data initial or Raw \n",
    "dataRaw.info()  # review types variable"
   ]
  },
  {
   "cell_type": "markdown",
   "id": "c6d14340",
   "metadata": {
    "papermill": {
     "duration": 0.04134,
     "end_time": "2022-05-03T23:52:00.233400",
     "exception": false,
     "start_time": "2022-05-03T23:52:00.192060",
     "status": "completed"
    },
    "tags": []
   },
   "source": [
    "#  **Exploratory Data Analysis** #"
   ]
  },
  {
   "cell_type": "code",
   "execution_count": 3,
   "id": "fd88fa53",
   "metadata": {
    "execution": {
     "iopub.execute_input": "2022-05-03T23:52:00.374080Z",
     "iopub.status.busy": "2022-05-03T23:52:00.373367Z",
     "iopub.status.idle": "2022-05-03T23:52:00.558073Z",
     "shell.execute_reply": "2022-05-03T23:52:00.557372Z",
     "shell.execute_reply.started": "2022-03-02T21:32:35.22085Z"
    },
    "papermill": {
     "duration": 0.283178,
     "end_time": "2022-05-03T23:52:00.558221",
     "exception": false,
     "start_time": "2022-05-03T23:52:00.275043",
     "status": "completed"
    },
    "tags": []
   },
   "outputs": [
    {
     "name": "stdout",
     "output_type": "stream",
     "text": [
      "<class 'pandas.core.frame.DataFrame'>\n",
      "RangeIndex: 99999 entries, 0 to 99998\n",
      "Data columns (total 6 columns):\n",
      " #   Column      Non-Null Count  Dtype  \n",
      "---  ------      --------------  -----  \n",
      " 0   Unnamed: 0  99999 non-null  int64  \n",
      " 1   Vmag        99998 non-null  float32\n",
      " 2   Plx         99768 non-null  float32\n",
      " 3   e_Plx       99768 non-null  float32\n",
      " 4   B-V         98871 non-null  float32\n",
      " 5   SpType      97377 non-null  object \n",
      "dtypes: float32(4), int64(1), object(1)\n",
      "memory usage: 3.1+ MB\n"
     ]
    }
   ],
   "source": [
    "# convert object to numeric\n",
    "dataRaw['Vmag'] = pd.to_numeric(dataRaw['Vmag'] , downcast='float' , errors='coerce')\n",
    "dataRaw['Plx'] = pd.to_numeric(dataRaw['Plx'] , downcast='float' , errors='coerce')\n",
    "dataRaw['e_Plx'] = pd.to_numeric(dataRaw['e_Plx'] , downcast='float' , errors='coerce')\n",
    "dataRaw['B-V'] = pd.to_numeric(dataRaw['B-V'] , downcast='float' , errors='coerce')\n",
    "dataRaw.info()"
   ]
  },
  {
   "cell_type": "markdown",
   "id": "a8274661",
   "metadata": {
    "papermill": {
     "duration": 0.042232,
     "end_time": "2022-05-03T23:52:00.643545",
     "exception": false,
     "start_time": "2022-05-03T23:52:00.601313",
     "status": "completed"
    },
    "tags": []
   },
   "source": [
    "### Missing Values ###"
   ]
  },
  {
   "cell_type": "code",
   "execution_count": 4,
   "id": "f0183ae5",
   "metadata": {
    "execution": {
     "iopub.execute_input": "2022-05-03T23:52:00.730872Z",
     "iopub.status.busy": "2022-05-03T23:52:00.730220Z",
     "iopub.status.idle": "2022-05-03T23:52:00.788024Z",
     "shell.execute_reply": "2022-05-03T23:52:00.787443Z",
     "shell.execute_reply.started": "2022-03-02T21:32:35.454848Z"
    },
    "papermill": {
     "duration": 0.102555,
     "end_time": "2022-05-03T23:52:00.788172",
     "exception": false,
     "start_time": "2022-05-03T23:52:00.685617",
     "status": "completed"
    },
    "tags": []
   },
   "outputs": [
    {
     "name": "stdout",
     "output_type": "stream",
     "text": [
      "Num_null:  4213\n",
      "(96742, 6) (99999, 6) (99999, 6)\n",
      "Percentage Missing:  0.702%\n"
     ]
    }
   ],
   "source": [
    "missingValueCount = dataRaw.isnull().sum()\n",
    "print('Num_null: ' , missingValueCount.sum() )\n",
    "\n",
    "dataLabel = dataRaw.dropna()\n",
    "dataUnlabel = dataRaw.fillna(0)\n",
    "\n",
    "print( dataLabel.shape , dataRaw.shape , dataUnlabel.shape )\n",
    "\n",
    "totalData = np.product(dataRaw.shape)\n",
    "percentMissing=missingValueCount.sum()/totalData\n",
    "\n",
    "print('Percentage Missing:', '{: .3%}'.format(percentMissing))\n",
    "dataRaw = dataLabel"
   ]
  },
  {
   "cell_type": "code",
   "execution_count": 5,
   "id": "2d2b3b28",
   "metadata": {
    "execution": {
     "iopub.execute_input": "2022-05-03T23:52:00.876910Z",
     "iopub.status.busy": "2022-05-03T23:52:00.876236Z",
     "iopub.status.idle": "2022-05-03T23:52:00.922158Z",
     "shell.execute_reply": "2022-05-03T23:52:00.921640Z",
     "shell.execute_reply.started": "2022-03-02T21:32:35.514726Z"
    },
    "papermill": {
     "duration": 0.091357,
     "end_time": "2022-05-03T23:52:00.922299",
     "exception": false,
     "start_time": "2022-05-03T23:52:00.830942",
     "status": "completed"
    },
    "tags": []
   },
   "outputs": [
    {
     "data": {
      "text/html": [
       "<div>\n",
       "<style scoped>\n",
       "    .dataframe tbody tr th:only-of-type {\n",
       "        vertical-align: middle;\n",
       "    }\n",
       "\n",
       "    .dataframe tbody tr th {\n",
       "        vertical-align: top;\n",
       "    }\n",
       "\n",
       "    .dataframe thead th {\n",
       "        text-align: right;\n",
       "    }\n",
       "</style>\n",
       "<table border=\"1\" class=\"dataframe\">\n",
       "  <thead>\n",
       "    <tr style=\"text-align: right;\">\n",
       "      <th></th>\n",
       "      <th>Vmag</th>\n",
       "      <th>Plx</th>\n",
       "      <th>e_Plx</th>\n",
       "      <th>B-V</th>\n",
       "    </tr>\n",
       "  </thead>\n",
       "  <tbody>\n",
       "    <tr>\n",
       "      <th>count</th>\n",
       "      <td>96742.000000</td>\n",
       "      <td>96742.000000</td>\n",
       "      <td>96742.000000</td>\n",
       "      <td>96742.000000</td>\n",
       "    </tr>\n",
       "    <tr>\n",
       "      <th>mean</th>\n",
       "      <td>8.291918</td>\n",
       "      <td>7.105242</td>\n",
       "      <td>1.264163</td>\n",
       "      <td>0.700663</td>\n",
       "    </tr>\n",
       "    <tr>\n",
       "      <th>std</th>\n",
       "      <td>1.247995</td>\n",
       "      <td>11.145643</td>\n",
       "      <td>1.156202</td>\n",
       "      <td>0.490053</td>\n",
       "    </tr>\n",
       "    <tr>\n",
       "      <th>min</th>\n",
       "      <td>-1.440000</td>\n",
       "      <td>-35.099998</td>\n",
       "      <td>0.380000</td>\n",
       "      <td>-0.400000</td>\n",
       "    </tr>\n",
       "    <tr>\n",
       "      <th>25%</th>\n",
       "      <td>7.610000</td>\n",
       "      <td>2.520000</td>\n",
       "      <td>0.870000</td>\n",
       "      <td>0.342000</td>\n",
       "    </tr>\n",
       "    <tr>\n",
       "      <th>50%</th>\n",
       "      <td>8.400000</td>\n",
       "      <td>4.600000</td>\n",
       "      <td>1.080000</td>\n",
       "      <td>0.605000</td>\n",
       "    </tr>\n",
       "    <tr>\n",
       "      <th>75%</th>\n",
       "      <td>9.070000</td>\n",
       "      <td>8.270000</td>\n",
       "      <td>1.360000</td>\n",
       "      <td>1.072000</td>\n",
       "    </tr>\n",
       "    <tr>\n",
       "      <th>max</th>\n",
       "      <td>13.610000</td>\n",
       "      <td>772.330017</td>\n",
       "      <td>69.070000</td>\n",
       "      <td>5.460000</td>\n",
       "    </tr>\n",
       "  </tbody>\n",
       "</table>\n",
       "</div>"
      ],
      "text/plain": [
       "               Vmag           Plx         e_Plx           B-V\n",
       "count  96742.000000  96742.000000  96742.000000  96742.000000\n",
       "mean       8.291918      7.105242      1.264163      0.700663\n",
       "std        1.247995     11.145643      1.156202      0.490053\n",
       "min       -1.440000    -35.099998      0.380000     -0.400000\n",
       "25%        7.610000      2.520000      0.870000      0.342000\n",
       "50%        8.400000      4.600000      1.080000      0.605000\n",
       "75%        9.070000      8.270000      1.360000      1.072000\n",
       "max       13.610000    772.330017     69.070000      5.460000"
      ]
     },
     "execution_count": 5,
     "metadata": {},
     "output_type": "execute_result"
    }
   ],
   "source": [
    "dataRaw = dataRaw.drop(['Unnamed: 0'], axis=1)\n",
    "dataRaw.describe()"
   ]
  },
  {
   "cell_type": "code",
   "execution_count": 6,
   "id": "9f8d9d9b",
   "metadata": {
    "execution": {
     "iopub.execute_input": "2022-05-03T23:52:01.014552Z",
     "iopub.status.busy": "2022-05-03T23:52:01.013865Z",
     "iopub.status.idle": "2022-05-03T23:52:02.885022Z",
     "shell.execute_reply": "2022-05-03T23:52:02.885561Z",
     "shell.execute_reply.started": "2022-03-02T21:32:35.561414Z"
    },
    "papermill": {
     "duration": 1.920084,
     "end_time": "2022-05-03T23:52:02.885739",
     "exception": false,
     "start_time": "2022-05-03T23:52:00.965655",
     "status": "completed"
    },
    "tags": []
   },
   "outputs": [
    {
     "data": {
      "text/plain": [
       "array([[<AxesSubplot:title={'center':'Vmag'}>,\n",
       "        <AxesSubplot:title={'center':'Plx'}>],\n",
       "       [<AxesSubplot:title={'center':'e_Plx'}>,\n",
       "        <AxesSubplot:title={'center':'B-V'}>],\n",
       "       [<AxesSubplot:title={'center':'Amag'}>,\n",
       "        <AxesSubplot:title={'center':'TargetClass'}>]], dtype=object)"
      ]
     },
     "execution_count": 6,
     "metadata": {},
     "output_type": "execute_result"
    },
    {
     "data": {
      "image/png": "[encoded data removed]",
      "text/plain": [
       "<Figure size 1440x1080 with 6 Axes>"
      ]
     },
     "metadata": {
      "needs_background": "light"
     },
     "output_type": "display_data"
    }
   ],
   "source": [
    "data.hist(bins=50 , figsize=(20,15) ) # histograma"
   ]
  },
  {
   "cell_type": "markdown",
   "id": "1465486a",
   "metadata": {
    "papermill": {
     "duration": 0.045132,
     "end_time": "2022-05-03T23:52:02.977674",
     "exception": false,
     "start_time": "2022-05-03T23:52:02.932542",
     "status": "completed"
    },
    "tags": []
   },
   "source": [
    "## Pre-Processing ##"
   ]
  },
  {
   "cell_type": "code",
   "execution_count": 7,
   "id": "5a4d1b19",
   "metadata": {
    "execution": {
     "iopub.execute_input": "2022-05-03T23:52:03.073164Z",
     "iopub.status.busy": "2022-05-03T23:52:03.072434Z",
     "iopub.status.idle": "2022-05-03T23:52:03.100670Z",
     "shell.execute_reply": "2022-05-03T23:52:03.101292Z",
     "shell.execute_reply.started": "2022-03-02T21:32:37.40765Z"
    },
    "papermill": {
     "duration": 0.078002,
     "end_time": "2022-05-03T23:52:03.101456",
     "exception": false,
     "start_time": "2022-05-03T23:52:03.023454",
     "status": "completed"
    },
    "tags": []
   },
   "outputs": [
    {
     "data": {
      "text/html": [
       "<div>\n",
       "<style scoped>\n",
       "    .dataframe tbody tr th:only-of-type {\n",
       "        vertical-align: middle;\n",
       "    }\n",
       "\n",
       "    .dataframe tbody tr th {\n",
       "        vertical-align: top;\n",
       "    }\n",
       "\n",
       "    .dataframe thead th {\n",
       "        text-align: right;\n",
       "    }\n",
       "</style>\n",
       "<table border=\"1\" class=\"dataframe\">\n",
       "  <thead>\n",
       "    <tr style=\"text-align: right;\">\n",
       "      <th></th>\n",
       "      <th>Vmag</th>\n",
       "      <th>Plx</th>\n",
       "      <th>e_Plx</th>\n",
       "      <th>B-V</th>\n",
       "      <th>SpType</th>\n",
       "      <th>Amag</th>\n",
       "      <th>e_Amag</th>\n",
       "      <th>eA/A</th>\n",
       "      <th>eP/P</th>\n",
       "    </tr>\n",
       "  </thead>\n",
       "  <tbody>\n",
       "    <tr>\n",
       "      <th>0</th>\n",
       "      <td>9.10</td>\n",
       "      <td>3.54</td>\n",
       "      <td>1.39</td>\n",
       "      <td>0.482</td>\n",
       "      <td>F5</td>\n",
       "      <td>16.845016</td>\n",
       "      <td>0.852640</td>\n",
       "      <td>0.050617</td>\n",
       "      <td>0.392655</td>\n",
       "    </tr>\n",
       "    <tr>\n",
       "      <th>1</th>\n",
       "      <td>9.27</td>\n",
       "      <td>21.90</td>\n",
       "      <td>3.10</td>\n",
       "      <td>0.999</td>\n",
       "      <td>K3V</td>\n",
       "      <td>20.972221</td>\n",
       "      <td>0.307377</td>\n",
       "      <td>0.014656</td>\n",
       "      <td>0.141553</td>\n",
       "    </tr>\n",
       "    <tr>\n",
       "      <th>2</th>\n",
       "      <td>6.61</td>\n",
       "      <td>2.81</td>\n",
       "      <td>0.63</td>\n",
       "      <td>-0.019</td>\n",
       "      <td>B9</td>\n",
       "      <td>13.853533</td>\n",
       "      <td>0.486843</td>\n",
       "      <td>0.035142</td>\n",
       "      <td>0.224199</td>\n",
       "    </tr>\n",
       "    <tr>\n",
       "      <th>3</th>\n",
       "      <td>8.06</td>\n",
       "      <td>7.75</td>\n",
       "      <td>0.97</td>\n",
       "      <td>0.370</td>\n",
       "      <td>F0V</td>\n",
       "      <td>17.506508</td>\n",
       "      <td>0.271784</td>\n",
       "      <td>0.015525</td>\n",
       "      <td>0.125161</td>\n",
       "    </tr>\n",
       "    <tr>\n",
       "      <th>4</th>\n",
       "      <td>8.55</td>\n",
       "      <td>2.87</td>\n",
       "      <td>1.11</td>\n",
       "      <td>0.902</td>\n",
       "      <td>G8III</td>\n",
       "      <td>15.839410</td>\n",
       "      <td>0.839838</td>\n",
       "      <td>0.053022</td>\n",
       "      <td>0.386760</td>\n",
       "    </tr>\n",
       "  </tbody>\n",
       "</table>\n",
       "</div>"
      ],
      "text/plain": [
       "   Vmag    Plx  e_Plx    B-V SpType       Amag    e_Amag      eA/A      eP/P\n",
       "0  9.10   3.54   1.39  0.482     F5  16.845016  0.852640  0.050617  0.392655\n",
       "1  9.27  21.90   3.10  0.999    K3V  20.972221  0.307377  0.014656  0.141553\n",
       "2  6.61   2.81   0.63 -0.019     B9  13.853533  0.486843  0.035142  0.224199\n",
       "3  8.06   7.75   0.97  0.370    F0V  17.506508  0.271784  0.015525  0.125161\n",
       "4  8.55   2.87   1.11  0.902  G8III  15.839410  0.839838  0.053022  0.386760"
      ]
     },
     "execution_count": 7,
     "metadata": {},
     "output_type": "execute_result"
    }
   ],
   "source": [
    "# New variables\n",
    "\n",
    "data = dataRaw\n",
    "data = data[data.Plx != 0]\n",
    "data = data.reset_index(drop=True)\n",
    "\n",
    "data['Amag']   = data['Vmag'] + 5*( np.log10( np.abs( data['Plx'] ) )+ 1 )  # log is ln\n",
    "data['e_Amag'] = 5*data['e_Plx']/(data['Plx']*np.log(10) )   # propagacion de error\n",
    "\n",
    "data['eA/A']   = data['e_Amag']/data['Amag']\n",
    "data['eP/P']   = data['e_Plx']/data['Plx']\n",
    "\n",
    "dataRaw = data\n",
    "dataRaw.head()"
   ]
  },
  {
   "cell_type": "code",
   "execution_count": 8,
   "id": "8c05ade6",
   "metadata": {
    "execution": {
     "iopub.execute_input": "2022-05-03T23:52:03.198098Z",
     "iopub.status.busy": "2022-05-03T23:52:03.197390Z",
     "iopub.status.idle": "2022-05-03T23:52:03.223380Z",
     "shell.execute_reply": "2022-05-03T23:52:03.223982Z",
     "shell.execute_reply.started": "2022-03-02T21:32:37.441016Z"
    },
    "papermill": {
     "duration": 0.077361,
     "end_time": "2022-05-03T23:52:03.224144",
     "exception": false,
     "start_time": "2022-05-03T23:52:03.146783",
     "status": "completed"
    },
    "tags": []
   },
   "outputs": [
    {
     "data": {
      "text/html": [
       "<div>\n",
       "<style scoped>\n",
       "    .dataframe tbody tr th:only-of-type {\n",
       "        vertical-align: middle;\n",
       "    }\n",
       "\n",
       "    .dataframe tbody tr th {\n",
       "        vertical-align: top;\n",
       "    }\n",
       "\n",
       "    .dataframe thead th {\n",
       "        text-align: right;\n",
       "    }\n",
       "</style>\n",
       "<table border=\"1\" class=\"dataframe\">\n",
       "  <thead>\n",
       "    <tr style=\"text-align: right;\">\n",
       "      <th></th>\n",
       "      <th>Vmag</th>\n",
       "      <th>Plx</th>\n",
       "      <th>e_Plx</th>\n",
       "      <th>B-V</th>\n",
       "      <th>SpType</th>\n",
       "      <th>Amag</th>\n",
       "      <th>e_Amag</th>\n",
       "      <th>eA/A</th>\n",
       "      <th>eP/P</th>\n",
       "      <th>TargetClass</th>\n",
       "    </tr>\n",
       "  </thead>\n",
       "  <tbody>\n",
       "    <tr>\n",
       "      <th>0</th>\n",
       "      <td>9.10</td>\n",
       "      <td>3.54</td>\n",
       "      <td>1.39</td>\n",
       "      <td>0.482</td>\n",
       "      <td>F5</td>\n",
       "      <td>16.845016</td>\n",
       "      <td>0.852640</td>\n",
       "      <td>0.050617</td>\n",
       "      <td>0.392655</td>\n",
       "      <td>F5</td>\n",
       "    </tr>\n",
       "    <tr>\n",
       "      <th>1</th>\n",
       "      <td>9.27</td>\n",
       "      <td>21.90</td>\n",
       "      <td>3.10</td>\n",
       "      <td>0.999</td>\n",
       "      <td>K3V</td>\n",
       "      <td>20.972221</td>\n",
       "      <td>0.307377</td>\n",
       "      <td>0.014656</td>\n",
       "      <td>0.141553</td>\n",
       "      <td>K3V</td>\n",
       "    </tr>\n",
       "    <tr>\n",
       "      <th>2</th>\n",
       "      <td>6.61</td>\n",
       "      <td>2.81</td>\n",
       "      <td>0.63</td>\n",
       "      <td>-0.019</td>\n",
       "      <td>B9</td>\n",
       "      <td>13.853533</td>\n",
       "      <td>0.486843</td>\n",
       "      <td>0.035142</td>\n",
       "      <td>0.224199</td>\n",
       "      <td>B9</td>\n",
       "    </tr>\n",
       "    <tr>\n",
       "      <th>3</th>\n",
       "      <td>8.06</td>\n",
       "      <td>7.75</td>\n",
       "      <td>0.97</td>\n",
       "      <td>0.370</td>\n",
       "      <td>F0V</td>\n",
       "      <td>17.506508</td>\n",
       "      <td>0.271784</td>\n",
       "      <td>0.015525</td>\n",
       "      <td>0.125161</td>\n",
       "      <td>F0V</td>\n",
       "    </tr>\n",
       "    <tr>\n",
       "      <th>4</th>\n",
       "      <td>8.55</td>\n",
       "      <td>2.87</td>\n",
       "      <td>1.11</td>\n",
       "      <td>0.902</td>\n",
       "      <td>G8III</td>\n",
       "      <td>15.839410</td>\n",
       "      <td>0.839838</td>\n",
       "      <td>0.053022</td>\n",
       "      <td>0.386760</td>\n",
       "      <td>G8III</td>\n",
       "    </tr>\n",
       "  </tbody>\n",
       "</table>\n",
       "</div>"
      ],
      "text/plain": [
       "   Vmag    Plx  e_Plx    B-V SpType       Amag    e_Amag      eA/A      eP/P  \\\n",
       "0  9.10   3.54   1.39  0.482     F5  16.845016  0.852640  0.050617  0.392655   \n",
       "1  9.27  21.90   3.10  0.999    K3V  20.972221  0.307377  0.014656  0.141553   \n",
       "2  6.61   2.81   0.63 -0.019     B9  13.853533  0.486843  0.035142  0.224199   \n",
       "3  8.06   7.75   0.97  0.370    F0V  17.506508  0.271784  0.015525  0.125161   \n",
       "4  8.55   2.87   1.11  0.902  G8III  15.839410  0.839838  0.053022  0.386760   \n",
       "\n",
       "  TargetClass  \n",
       "0          F5  \n",
       "1         K3V  \n",
       "2          B9  \n",
       "3         F0V  \n",
       "4       G8III  "
      ]
     },
     "execution_count": 8,
     "metadata": {},
     "output_type": "execute_result"
    }
   ],
   "source": [
    "#dataRaw = dataRaw.drop('Unnamed: 0', axis=1)\n",
    "dataRaw['TargetClass'] = dataRaw['SpType']\n",
    "\n",
    "dataRaw = dataRaw.reset_index(drop=True) # reindexar debido al drop\n",
    "dataRaw.head() "
   ]
  },
  {
   "cell_type": "code",
   "execution_count": 9,
   "id": "91090d90",
   "metadata": {
    "execution": {
     "iopub.execute_input": "2022-05-03T23:52:03.319502Z",
     "iopub.status.busy": "2022-05-03T23:52:03.318907Z",
     "iopub.status.idle": "2022-05-03T23:52:03.353129Z",
     "shell.execute_reply": "2022-05-03T23:52:03.353652Z",
     "shell.execute_reply.started": "2022-03-02T21:32:37.473009Z"
    },
    "papermill": {
     "duration": 0.083625,
     "end_time": "2022-05-03T23:52:03.353853",
     "exception": false,
     "start_time": "2022-05-03T23:52:03.270228",
     "status": "completed"
    },
    "tags": []
   },
   "outputs": [
    {
     "name": "stdout",
     "output_type": "stream",
     "text": [
      "<class 'pandas.core.frame.DataFrame'>\n",
      "RangeIndex: 96707 entries, 0 to 96706\n",
      "Data columns (total 10 columns):\n",
      " #   Column       Non-Null Count  Dtype  \n",
      "---  ------       --------------  -----  \n",
      " 0   Vmag         96707 non-null  float32\n",
      " 1   Plx          96707 non-null  float32\n",
      " 2   e_Plx        96707 non-null  float32\n",
      " 3   B-V          96707 non-null  float32\n",
      " 4   SpType       96707 non-null  object \n",
      " 5   Amag         96707 non-null  float32\n",
      " 6   e_Amag       96707 non-null  float32\n",
      " 7   eA/A         96707 non-null  float32\n",
      " 8   eP/P         96707 non-null  float32\n",
      " 9   TargetClass  96707 non-null  object \n",
      "dtypes: float32(8), object(2)\n",
      "memory usage: 4.4+ MB\n"
     ]
    }
   ],
   "source": [
    "dataRaw.info()"
   ]
  },
  {
   "cell_type": "markdown",
   "id": "8c19ad7f",
   "metadata": {
    "papermill": {
     "duration": 0.046931,
     "end_time": "2022-05-03T23:52:03.448434",
     "exception": false,
     "start_time": "2022-05-03T23:52:03.401503",
     "status": "completed"
    },
    "tags": []
   },
   "source": [
    "## Target Class: Giants or Dwarfs ##"
   ]
  },
  {
   "cell_type": "code",
   "execution_count": 10,
   "id": "e62a53b1",
   "metadata": {
    "execution": {
     "iopub.execute_input": "2022-05-03T23:52:03.549728Z",
     "iopub.status.busy": "2022-05-03T23:52:03.548685Z",
     "iopub.status.idle": "2022-05-03T23:54:00.289663Z",
     "shell.execute_reply": "2022-05-03T23:54:00.290214Z",
     "shell.execute_reply.started": "2022-03-02T21:32:37.512984Z"
    },
    "papermill": {
     "duration": 116.795767,
     "end_time": "2022-05-03T23:54:00.290403",
     "exception": false,
     "start_time": "2022-05-03T23:52:03.494636",
     "status": "completed"
    },
    "tags": []
   },
   "outputs": [
    {
     "data": {
      "text/html": [
       "<div>\n",
       "<style scoped>\n",
       "    .dataframe tbody tr th:only-of-type {\n",
       "        vertical-align: middle;\n",
       "    }\n",
       "\n",
       "    .dataframe tbody tr th {\n",
       "        vertical-align: top;\n",
       "    }\n",
       "\n",
       "    .dataframe thead th {\n",
       "        text-align: right;\n",
       "    }\n",
       "</style>\n",
       "<table border=\"1\" class=\"dataframe\">\n",
       "  <thead>\n",
       "    <tr style=\"text-align: right;\">\n",
       "      <th></th>\n",
       "      <th>Vmag</th>\n",
       "      <th>Plx</th>\n",
       "      <th>e_Plx</th>\n",
       "      <th>B-V</th>\n",
       "      <th>SpType</th>\n",
       "      <th>Amag</th>\n",
       "      <th>e_Amag</th>\n",
       "      <th>eA/A</th>\n",
       "      <th>eP/P</th>\n",
       "      <th>TargetClass</th>\n",
       "    </tr>\n",
       "  </thead>\n",
       "  <tbody>\n",
       "    <tr>\n",
       "      <th>0</th>\n",
       "      <td>9.10</td>\n",
       "      <td>3.54</td>\n",
       "      <td>1.39</td>\n",
       "      <td>0.482</td>\n",
       "      <td>F5</td>\n",
       "      <td>16.845016</td>\n",
       "      <td>0.852640</td>\n",
       "      <td>0.050617</td>\n",
       "      <td>0.392655</td>\n",
       "      <td>9</td>\n",
       "    </tr>\n",
       "    <tr>\n",
       "      <th>1</th>\n",
       "      <td>9.27</td>\n",
       "      <td>21.90</td>\n",
       "      <td>3.10</td>\n",
       "      <td>0.999</td>\n",
       "      <td>K3V</td>\n",
       "      <td>20.972221</td>\n",
       "      <td>0.307377</td>\n",
       "      <td>0.014656</td>\n",
       "      <td>0.141553</td>\n",
       "      <td>9</td>\n",
       "    </tr>\n",
       "    <tr>\n",
       "      <th>2</th>\n",
       "      <td>6.61</td>\n",
       "      <td>2.81</td>\n",
       "      <td>0.63</td>\n",
       "      <td>-0.019</td>\n",
       "      <td>B9</td>\n",
       "      <td>13.853533</td>\n",
       "      <td>0.486843</td>\n",
       "      <td>0.035142</td>\n",
       "      <td>0.224199</td>\n",
       "      <td>9</td>\n",
       "    </tr>\n",
       "    <tr>\n",
       "      <th>3</th>\n",
       "      <td>8.06</td>\n",
       "      <td>7.75</td>\n",
       "      <td>0.97</td>\n",
       "      <td>0.370</td>\n",
       "      <td>F0V</td>\n",
       "      <td>17.506508</td>\n",
       "      <td>0.271784</td>\n",
       "      <td>0.015525</td>\n",
       "      <td>0.125161</td>\n",
       "      <td>9</td>\n",
       "    </tr>\n",
       "    <tr>\n",
       "      <th>4</th>\n",
       "      <td>8.55</td>\n",
       "      <td>2.87</td>\n",
       "      <td>1.11</td>\n",
       "      <td>0.902</td>\n",
       "      <td>G8III</td>\n",
       "      <td>15.839410</td>\n",
       "      <td>0.839838</td>\n",
       "      <td>0.053022</td>\n",
       "      <td>0.386760</td>\n",
       "      <td>1</td>\n",
       "    </tr>\n",
       "  </tbody>\n",
       "</table>\n",
       "</div>"
      ],
      "text/plain": [
       "   Vmag    Plx  e_Plx    B-V SpType       Amag    e_Amag      eA/A      eP/P  \\\n",
       "0  9.10   3.54   1.39  0.482     F5  16.845016  0.852640  0.050617  0.392655   \n",
       "1  9.27  21.90   3.10  0.999    K3V  20.972221  0.307377  0.014656  0.141553   \n",
       "2  6.61   2.81   0.63 -0.019     B9  13.853533  0.486843  0.035142  0.224199   \n",
       "3  8.06   7.75   0.97  0.370    F0V  17.506508  0.271784  0.015525  0.125161   \n",
       "4  8.55   2.87   1.11  0.902  G8III  15.839410  0.839838  0.053022  0.386760   \n",
       "\n",
       "  TargetClass  \n",
       "0           9  \n",
       "1           9  \n",
       "2           9  \n",
       "3           9  \n",
       "4           1  "
      ]
     },
     "execution_count": 10,
     "metadata": {},
     "output_type": "execute_result"
    }
   ],
   "source": [
    "# Procesamiento target, clasificar en Giants and dwarfs\n",
    "\n",
    "\n",
    "for i in range(len(dataRaw['TargetClass'])):\n",
    "    if \"I\" in dataRaw.loc[i,'TargetClass']: \n",
    "        dataRaw.loc[i,'TargetClass'] = 1   # 1 giant       \n",
    "    elif (\"VII\" or \"VI\") in dataRaw.loc[i,'TargetClass']: \n",
    "        dataRaw.loc[i,'TargetClass'] = 0 # VII is Dwarf (0)\n",
    "    elif \"V\" in dataRaw.loc[i,'TargetClass']: \n",
    "        if ('G' or 'K' or 'M' or 'L' or 'T') in  dataRaw.loc[i,'TargetClass']:\n",
    "            dataRaw.loc[i,'TargetClass'] = 0\n",
    "        else:\n",
    "            dataRaw.loc[i,'TargetClass'] = 9\n",
    "    else: \n",
    "        dataRaw.loc[i,'TargetClass'] = 9 # None\n",
    "        \n",
    "dataRaw['TargetClass']\n",
    "\n",
    "dataRaw.head()"
   ]
  },
  {
   "cell_type": "code",
   "execution_count": 11,
   "id": "a0124572",
   "metadata": {
    "execution": {
     "iopub.execute_input": "2022-05-03T23:54:00.389473Z",
     "iopub.status.busy": "2022-05-03T23:54:00.388568Z",
     "iopub.status.idle": "2022-05-03T23:54:00.864639Z",
     "shell.execute_reply": "2022-05-03T23:54:00.864127Z",
     "shell.execute_reply.started": "2022-03-02T21:34:34.389551Z"
    },
    "papermill": {
     "duration": 0.527607,
     "end_time": "2022-05-03T23:54:00.864780",
     "exception": false,
     "start_time": "2022-05-03T23:54:00.337173",
     "status": "completed"
    },
    "tags": []
   },
   "outputs": [
    {
     "name": "stderr",
     "output_type": "stream",
     "text": [
      "/opt/conda/lib/python3.7/site-packages/seaborn/_decorators.py:43: FutureWarning: Pass the following variable as a keyword arg: x. From version 0.12, the only valid positional argument will be `data`, and passing other arguments without an explicit keyword will result in an error or misinterpretation.\n",
      "  FutureWarning\n"
     ]
    },
    {
     "data": {
      "text/plain": [
       "<AxesSubplot:xlabel='TargetClass', ylabel='count'>"
      ]
     },
     "execution_count": 11,
     "metadata": {},
     "output_type": "execute_result"
    },
    {
     "data": {
      "image/png": "[encoded data removed]",
      "text/plain": [
       "<Figure size 432x288 with 1 Axes>"
      ]
     },
     "metadata": {
      "needs_background": "light"
     },
     "output_type": "display_data"
    }
   ],
   "source": [
    "sns.countplot( dataRaw['TargetClass'] )"
   ]
  },
  {
   "cell_type": "code",
   "execution_count": 12,
   "id": "e3aba122",
   "metadata": {
    "execution": {
     "iopub.execute_input": "2022-05-03T23:54:00.980143Z",
     "iopub.status.busy": "2022-05-03T23:54:00.977346Z",
     "iopub.status.idle": "2022-05-03T23:54:00.983889Z",
     "shell.execute_reply": "2022-05-03T23:54:00.983232Z",
     "shell.execute_reply.started": "2022-03-02T21:34:34.830157Z"
    },
    "papermill": {
     "duration": 0.07113,
     "end_time": "2022-05-03T23:54:00.984034",
     "exception": false,
     "start_time": "2022-05-03T23:54:00.912904",
     "status": "completed"
    },
    "tags": []
   },
   "outputs": [
    {
     "data": {
      "text/plain": [
       "9    65279\n",
       "1    26647\n",
       "0     4781\n",
       "Name: TargetClass, dtype: int64"
      ]
     },
     "execution_count": 12,
     "metadata": {},
     "output_type": "execute_result"
    }
   ],
   "source": [
    "dataRaw['TargetClass'].value_counts()"
   ]
  },
  {
   "cell_type": "markdown",
   "id": "44ffb319",
   "metadata": {
    "papermill": {
     "duration": 0.048831,
     "end_time": "2022-05-03T23:54:01.082273",
     "exception": false,
     "start_time": "2022-05-03T23:54:01.033442",
     "status": "completed"
    },
    "tags": []
   },
   "source": [
    "### Selection only Giants or Dwarfs ###"
   ]
  },
  {
   "cell_type": "code",
   "execution_count": 13,
   "id": "18cfe4f7",
   "metadata": {
    "execution": {
     "iopub.execute_input": "2022-05-03T23:54:01.183488Z",
     "iopub.status.busy": "2022-05-03T23:54:01.182531Z",
     "iopub.status.idle": "2022-05-03T23:54:01.202913Z",
     "shell.execute_reply": "2022-05-03T23:54:01.203389Z",
     "shell.execute_reply.started": "2022-03-02T21:34:34.859095Z"
    },
    "papermill": {
     "duration": 0.072611,
     "end_time": "2022-05-03T23:54:01.203567",
     "exception": false,
     "start_time": "2022-05-03T23:54:01.130956",
     "status": "completed"
    },
    "tags": []
   },
   "outputs": [],
   "source": [
    "# copy and drop number 9\n",
    "df = dataRaw[dataRaw.TargetClass != 9 ] # != return  boolean"
   ]
  },
  {
   "cell_type": "markdown",
   "id": "32ac68d3",
   "metadata": {
    "papermill": {
     "duration": 0.047891,
     "end_time": "2022-05-03T23:54:01.299618",
     "exception": false,
     "start_time": "2022-05-03T23:54:01.251727",
     "status": "completed"
    },
    "tags": []
   },
   "source": [
    "## Balance ##"
   ]
  },
  {
   "cell_type": "code",
   "execution_count": 14,
   "id": "680a3b19",
   "metadata": {
    "execution": {
     "iopub.execute_input": "2022-05-03T23:54:01.399696Z",
     "iopub.status.busy": "2022-05-03T23:54:01.398748Z",
     "iopub.status.idle": "2022-05-03T23:54:01.514456Z",
     "shell.execute_reply": "2022-05-03T23:54:01.513789Z",
     "shell.execute_reply.started": "2022-03-02T21:34:34.889635Z"
    },
    "papermill": {
     "duration": 0.166963,
     "end_time": "2022-05-03T23:54:01.514596",
     "exception": false,
     "start_time": "2022-05-03T23:54:01.347633",
     "status": "completed"
    },
    "tags": []
   },
   "outputs": [],
   "source": [
    "# dividir set \n",
    "\n",
    "dfGiants = df[df.TargetClass == 1]\n",
    "dfDwarfs = df[df.TargetClass == 0]\n",
    "num_of_giant = dfGiants.shape[0]\n",
    "num_of_dwarf = dfDwarfs.shape[0]\n",
    "\n",
    "from sklearn.utils import resample\n",
    "dfGiantsDownSample = resample(dfGiants, \n",
    "                             replace = False, # sample without replacement\n",
    "                             n_samples = num_of_dwarf,\n",
    "                             random_state =1 \n",
    "                             )\n",
    "dfDownSampled = pd.concat([dfGiantsDownSample , dfDwarfs] )"
   ]
  },
  {
   "cell_type": "code",
   "execution_count": 15,
   "id": "44cd2cff",
   "metadata": {
    "execution": {
     "iopub.execute_input": "2022-05-03T23:54:01.616140Z",
     "iopub.status.busy": "2022-05-03T23:54:01.615165Z",
     "iopub.status.idle": "2022-05-03T23:54:01.798644Z",
     "shell.execute_reply": "2022-05-03T23:54:01.798011Z",
     "shell.execute_reply.started": "2022-03-02T21:34:35.013894Z"
    },
    "papermill": {
     "duration": 0.235624,
     "end_time": "2022-05-03T23:54:01.798851",
     "exception": false,
     "start_time": "2022-05-03T23:54:01.563227",
     "status": "completed"
    },
    "tags": []
   },
   "outputs": [
    {
     "name": "stdout",
     "output_type": "stream",
     "text": [
      "1    4781\n",
      "0    4781\n",
      "Name: TargetClass, dtype: int64\n"
     ]
    },
    {
     "name": "stderr",
     "output_type": "stream",
     "text": [
      "/opt/conda/lib/python3.7/site-packages/seaborn/_decorators.py:43: FutureWarning: Pass the following variable as a keyword arg: x. From version 0.12, the only valid positional argument will be `data`, and passing other arguments without an explicit keyword will result in an error or misinterpretation.\n",
      "  FutureWarning\n"
     ]
    },
    {
     "data": {
      "image/png": "[encoded data removed]",
      "text/plain": [
       "<Figure size 432x288 with 1 Axes>"
      ]
     },
     "metadata": {
      "needs_background": "light"
     },
     "output_type": "display_data"
    }
   ],
   "source": [
    "sns.countplot(dfDownSampled['TargetClass'])\n",
    "print( dfDownSampled['TargetClass'].value_counts())"
   ]
  },
  {
   "cell_type": "code",
   "execution_count": 16,
   "id": "3c4f72fd",
   "metadata": {
    "execution": {
     "iopub.execute_input": "2022-05-03T23:54:01.904390Z",
     "iopub.status.busy": "2022-05-03T23:54:01.902381Z",
     "iopub.status.idle": "2022-05-03T23:54:01.919929Z",
     "shell.execute_reply": "2022-05-03T23:54:01.918857Z",
     "shell.execute_reply.started": "2022-03-02T21:34:35.205154Z"
    },
    "papermill": {
     "duration": 0.070571,
     "end_time": "2022-05-03T23:54:01.920186",
     "exception": false,
     "start_time": "2022-05-03T23:54:01.849615",
     "status": "completed"
    },
    "tags": []
   },
   "outputs": [
    {
     "name": "stdout",
     "output_type": "stream",
     "text": [
      "<class 'pandas.core.frame.DataFrame'>\n",
      "RangeIndex: 9562 entries, 0 to 9561\n",
      "Data columns (total 10 columns):\n",
      " #   Column       Non-Null Count  Dtype  \n",
      "---  ------       --------------  -----  \n",
      " 0   Vmag         9562 non-null   float32\n",
      " 1   Plx          9562 non-null   float32\n",
      " 2   e_Plx        9562 non-null   float32\n",
      " 3   B-V          9562 non-null   float32\n",
      " 4   SpType       9562 non-null   object \n",
      " 5   Amag         9562 non-null   float32\n",
      " 6   e_Amag       9562 non-null   float32\n",
      " 7   eA/A         9562 non-null   float32\n",
      " 8   eP/P         9562 non-null   float32\n",
      " 9   TargetClass  9562 non-null   object \n",
      "dtypes: float32(8), object(2)\n",
      "memory usage: 448.3+ KB\n"
     ]
    }
   ],
   "source": [
    "dfBalanced= dfDownSampled.reset_index(drop=True)\n",
    "dfBalanced.info()"
   ]
  },
  {
   "cell_type": "code",
   "execution_count": 17,
   "id": "1010742d",
   "metadata": {
    "execution": {
     "iopub.execute_input": "2022-05-03T23:54:02.028133Z",
     "iopub.status.busy": "2022-05-03T23:54:02.025127Z",
     "iopub.status.idle": "2022-05-03T23:54:02.032442Z",
     "shell.execute_reply": "2022-05-03T23:54:02.032967Z",
     "shell.execute_reply.started": "2022-03-02T21:34:35.224278Z"
    },
    "papermill": {
     "duration": 0.061569,
     "end_time": "2022-05-03T23:54:02.033146",
     "exception": false,
     "start_time": "2022-05-03T23:54:01.971577",
     "status": "completed"
    },
    "tags": []
   },
   "outputs": [],
   "source": [
    "dataStar = dfBalanced.sample(frac=1).reset_index(drop=True) # shuffle\n",
    "dfCopyStar = dataStar.copy()\n"
   ]
  },
  {
   "cell_type": "markdown",
   "id": "b120a0c1",
   "metadata": {
    "papermill": {
     "duration": 0.050218,
     "end_time": "2022-05-03T23:54:02.133668",
     "exception": false,
     "start_time": "2022-05-03T23:54:02.083450",
     "status": "completed"
    },
    "tags": []
   },
   "source": [
    "## Visualization ##"
   ]
  },
  {
   "cell_type": "code",
   "execution_count": 18,
   "id": "d9a65f00",
   "metadata": {
    "execution": {
     "iopub.execute_input": "2022-05-03T23:54:02.243759Z",
     "iopub.status.busy": "2022-05-03T23:54:02.243029Z",
     "iopub.status.idle": "2022-05-03T23:54:02.635864Z",
     "shell.execute_reply": "2022-05-03T23:54:02.636365Z",
     "shell.execute_reply.started": "2022-03-02T21:34:35.233731Z"
    },
    "papermill": {
     "duration": 0.452538,
     "end_time": "2022-05-03T23:54:02.636532",
     "exception": false,
     "start_time": "2022-05-03T23:54:02.183994",
     "status": "completed"
    },
    "tags": []
   },
   "outputs": [
    {
     "data": {
      "image/png": "[encoded data removed]",
      "text/plain": [
       "<Figure size 432x288 with 2 Axes>"
      ]
     },
     "metadata": {},
     "output_type": "display_data"
    },
    {
     "data": {
      "text/plain": [
       "<Figure size 432x288 with 0 Axes>"
      ]
     },
     "metadata": {},
     "output_type": "display_data"
    }
   ],
   "source": [
    "%matplotlib inline\n",
    "\n",
    "sns.set()\n",
    "dataStar.plot.scatter( x=\"Plx\" ,y=\"Amag\",cmap='viridis' ,  c='TargetClass' ,s=5); # problem with TargetClass\n",
    "plt.xlabel(\"Plx\")\n",
    "plt.figure()\n",
    "plt.show()\n"
   ]
  },
  {
   "cell_type": "code",
   "execution_count": 19,
   "id": "bdcdc34f",
   "metadata": {
    "execution": {
     "iopub.execute_input": "2022-05-03T23:54:02.756479Z",
     "iopub.status.busy": "2022-05-03T23:54:02.742415Z",
     "iopub.status.idle": "2022-05-03T23:54:03.143170Z",
     "shell.execute_reply": "2022-05-03T23:54:03.143739Z",
     "shell.execute_reply.started": "2022-03-02T21:34:35.640613Z"
    },
    "papermill": {
     "duration": 0.455533,
     "end_time": "2022-05-03T23:54:03.143941",
     "exception": false,
     "start_time": "2022-05-03T23:54:02.688408",
     "status": "completed"
    },
    "tags": []
   },
   "outputs": [
    {
     "data": {
      "image/png": "[encoded data removed]",
      "text/plain": [
       "<Figure size 432x288 with 2 Axes>"
      ]
     },
     "metadata": {},
     "output_type": "display_data"
    },
    {
     "data": {
      "text/plain": [
       "<Figure size 432x288 with 0 Axes>"
      ]
     },
     "metadata": {},
     "output_type": "display_data"
    }
   ],
   "source": [
    "%matplotlib inline\n",
    "sns.set()\n",
    "dataStar.plot.scatter( x=\"B-V\" ,y=\"Amag\",cmap='viridis' ,  c='TargetClass' ,s=5); # problem with TargetClass\n",
    "plt.xlabel(\"Plx\")\n",
    "plt.figure()\n",
    "plt.show()\n",
    "\n"
   ]
  },
  {
   "cell_type": "code",
   "execution_count": 20,
   "id": "358dab55",
   "metadata": {
    "execution": {
     "iopub.execute_input": "2022-05-03T23:54:03.262234Z",
     "iopub.status.busy": "2022-05-03T23:54:03.260343Z",
     "iopub.status.idle": "2022-05-03T23:54:06.577290Z",
     "shell.execute_reply": "2022-05-03T23:54:06.577812Z",
     "shell.execute_reply.started": "2022-03-02T21:34:36.04719Z"
    },
    "papermill": {
     "duration": 3.378966,
     "end_time": "2022-05-03T23:54:06.577984",
     "exception": false,
     "start_time": "2022-05-03T23:54:03.199018",
     "status": "completed"
    },
    "tags": []
   },
   "outputs": [
    {
     "data": {
      "text/plain": [
       "Vmag           0\n",
       "Plx            0\n",
       "e_Plx          0\n",
       "B-V            0\n",
       "SpType         0\n",
       "Amag           0\n",
       "e_Amag         0\n",
       "eA/A           0\n",
       "eP/P           0\n",
       "TargetClass    0\n",
       "dtype: int64"
      ]
     },
     "execution_count": 20,
     "metadata": {},
     "output_type": "execute_result"
    },
    {
     "data": {
      "image/png": "[encoded data removed]",
      "text/plain": [
       "<Figure size 864x576 with 25 Axes>"
      ]
     },
     "metadata": {},
     "output_type": "display_data"
    }
   ],
   "source": [
    "# scatter attributes\n",
    "\n",
    "from pandas.plotting import scatter_matrix\n",
    "\n",
    "attributes = ['TargetClass','Amag' , 'Vmag' , 'Plx' , 'B-V']\n",
    "\n",
    "# convert a numerical Targetclass \n",
    "dataStar['TargetClass'] = pd.to_numeric(dataStar['TargetClass'] , downcast='float' , errors='coerce')\n",
    "\n",
    "scatter_matrix(dataStar[attributes] , figsize=(12, 8))\n",
    "dataStar.isnull().sum()\n"
   ]
  },
  {
   "cell_type": "markdown",
   "id": "bb624988",
   "metadata": {
    "papermill": {
     "duration": 0.057144,
     "end_time": "2022-05-03T23:54:06.692976",
     "exception": false,
     "start_time": "2022-05-03T23:54:06.635832",
     "status": "completed"
    },
    "tags": []
   },
   "source": [
    "## Correlation Linear ##"
   ]
  },
  {
   "cell_type": "code",
   "execution_count": 21,
   "id": "b5e55b7f",
   "metadata": {
    "execution": {
     "iopub.execute_input": "2022-05-03T23:54:06.814620Z",
     "iopub.status.busy": "2022-05-03T23:54:06.813984Z",
     "iopub.status.idle": "2022-05-03T23:54:06.820789Z",
     "shell.execute_reply": "2022-05-03T23:54:06.821389Z",
     "shell.execute_reply.started": "2022-03-02T21:34:39.444657Z"
    },
    "papermill": {
     "duration": 0.071282,
     "end_time": "2022-05-03T23:54:06.821558",
     "exception": false,
     "start_time": "2022-05-03T23:54:06.750276",
     "status": "completed"
    },
    "tags": []
   },
   "outputs": [
    {
     "data": {
      "text/plain": [
       "TargetClass    1.000000\n",
       "B-V            0.302299\n",
       "eP/P           0.036399\n",
       "e_Amag         0.036399\n",
       "eA/A           0.023408\n",
       "e_Plx         -0.242699\n",
       "Plx           -0.365910\n",
       "Vmag          -0.381619\n",
       "Amag          -0.735124\n",
       "Name: TargetClass, dtype: float64"
      ]
     },
     "execution_count": 21,
     "metadata": {},
     "output_type": "execute_result"
    }
   ],
   "source": [
    "corr_matrix = dataStar.corr()\n",
    "corr_matrix[\"TargetClass\"].sort_values(ascending=False)"
   ]
  },
  {
   "cell_type": "markdown",
   "id": "f55702c8",
   "metadata": {
    "papermill": {
     "duration": 0.057645,
     "end_time": "2022-05-03T23:54:06.937136",
     "exception": false,
     "start_time": "2022-05-03T23:54:06.879491",
     "status": "completed"
    },
    "tags": []
   },
   "source": [
    "## Data Cleaning ##"
   ]
  },
  {
   "cell_type": "code",
   "execution_count": 22,
   "id": "f48fe715",
   "metadata": {
    "execution": {
     "iopub.execute_input": "2022-05-03T23:54:07.057536Z",
     "iopub.status.busy": "2022-05-03T23:54:07.056842Z",
     "iopub.status.idle": "2022-05-03T23:54:07.060840Z",
     "shell.execute_reply": "2022-05-03T23:54:07.061419Z",
     "shell.execute_reply.started": "2022-03-02T21:34:39.457821Z"
    },
    "papermill": {
     "duration": 0.066744,
     "end_time": "2022-05-03T23:54:07.061581",
     "exception": false,
     "start_time": "2022-05-03T23:54:06.994837",
     "status": "completed"
    },
    "tags": []
   },
   "outputs": [],
   "source": [
    "#dataStar = dataStar.drop(['Unnamed: 0'], axis =1)\n",
    "dataStar = dataStar.drop(['SpType'], axis =1)\n",
    "\n"
   ]
  },
  {
   "cell_type": "markdown",
   "id": "7b846b7e",
   "metadata": {
    "papermill": {
     "duration": 0.057192,
     "end_time": "2022-05-03T23:54:07.176499",
     "exception": false,
     "start_time": "2022-05-03T23:54:07.119307",
     "status": "completed"
    },
    "tags": []
   },
   "source": [
    "# **Data Processing** #"
   ]
  },
  {
   "cell_type": "code",
   "execution_count": 23,
   "id": "46e0e08e",
   "metadata": {
    "execution": {
     "iopub.execute_input": "2022-05-03T23:54:07.303465Z",
     "iopub.status.busy": "2022-05-03T23:54:07.302783Z",
     "iopub.status.idle": "2022-05-03T23:54:07.305653Z",
     "shell.execute_reply": "2022-05-03T23:54:07.306199Z",
     "shell.execute_reply.started": "2022-03-02T21:34:39.466594Z"
    },
    "papermill": {
     "duration": 0.072452,
     "end_time": "2022-05-03T23:54:07.306378",
     "exception": false,
     "start_time": "2022-05-03T23:54:07.233926",
     "status": "completed"
    },
    "tags": []
   },
   "outputs": [
    {
     "name": "stdout",
     "output_type": "stream",
     "text": [
      "<class 'pandas.core.frame.DataFrame'>\n",
      "RangeIndex: 9562 entries, 0 to 9561\n",
      "Data columns (total 9 columns):\n",
      " #   Column       Non-Null Count  Dtype  \n",
      "---  ------       --------------  -----  \n",
      " 0   Vmag         9562 non-null   float32\n",
      " 1   Plx          9562 non-null   float32\n",
      " 2   e_Plx        9562 non-null   float32\n",
      " 3   B-V          9562 non-null   float32\n",
      " 4   Amag         9562 non-null   float32\n",
      " 5   e_Amag       9562 non-null   float32\n",
      " 6   eA/A         9562 non-null   float32\n",
      " 7   eP/P         9562 non-null   float32\n",
      " 8   TargetClass  9562 non-null   float32\n",
      "dtypes: float32(9)\n",
      "memory usage: 336.3 KB\n"
     ]
    }
   ],
   "source": [
    "dataStar.info()"
   ]
  },
  {
   "cell_type": "markdown",
   "id": "4fb980cb",
   "metadata": {
    "papermill": {
     "duration": 0.057884,
     "end_time": "2022-05-03T23:54:07.422120",
     "exception": false,
     "start_time": "2022-05-03T23:54:07.364236",
     "status": "completed"
    },
    "tags": []
   },
   "source": [
    "### Train and test Set ###"
   ]
  },
  {
   "cell_type": "code",
   "execution_count": 24,
   "id": "9582d26b",
   "metadata": {
    "execution": {
     "iopub.execute_input": "2022-05-03T23:54:07.541744Z",
     "iopub.status.busy": "2022-05-03T23:54:07.541147Z",
     "iopub.status.idle": "2022-05-03T23:54:07.771656Z",
     "shell.execute_reply": "2022-05-03T23:54:07.771079Z",
     "shell.execute_reply.started": "2022-03-02T21:34:39.488377Z"
    },
    "papermill": {
     "duration": 0.291506,
     "end_time": "2022-05-03T23:54:07.771813",
     "exception": false,
     "start_time": "2022-05-03T23:54:07.480307",
     "status": "completed"
    },
    "tags": []
   },
   "outputs": [],
   "source": [
    "from sklearn.model_selection import train_test_split\n",
    "\n",
    "\n",
    "train , test = train_test_split(dataStar , test_size = 0.2, random_state = 42 )\n",
    "train = train.reset_index(drop=True)\n",
    "test = test.reset_index(drop=True)"
   ]
  },
  {
   "cell_type": "code",
   "execution_count": 25,
   "id": "87417719",
   "metadata": {
    "execution": {
     "iopub.execute_input": "2022-05-03T23:54:07.894627Z",
     "iopub.status.busy": "2022-05-03T23:54:07.893662Z",
     "iopub.status.idle": "2022-05-03T23:54:07.896137Z",
     "shell.execute_reply": "2022-05-03T23:54:07.895596Z",
     "shell.execute_reply.started": "2022-03-02T21:34:39.738692Z"
    },
    "papermill": {
     "duration": 0.066188,
     "end_time": "2022-05-03T23:54:07.896273",
     "exception": false,
     "start_time": "2022-05-03T23:54:07.830085",
     "status": "completed"
    },
    "tags": []
   },
   "outputs": [],
   "source": [
    "## Stratified ##\n",
    "#from sklearn.model_selection import StratifiedShuffleSplit\n",
    "#split = StratifiedShuffleSplit(n_splits=1, test_size=0.2, random_state=42)\n",
    "#for train_index, test_index in split.split(data, data[\"variableStratificada\"]):\n",
    "#strat_train_set = housing.loc[train_index]\n",
    "#strat_test_set = housing.loc[test_index]\n",
    "\n",
    "#from  sklearn.impute import SimpleImputer\n",
    "#imputer = SimpleImputer(strategy='median')\n",
    "\n",
    "#from  sklearn.preprocessing import OneHotEncoder\n",
    "#catEncoder = OneHotEncoder()\n",
    "\n",
    "## numerical ##\n",
    "#from  sklearn.pipeline import Pipeline\n",
    "#from  sklearn.preprocessing import StandardScaler\n",
    "#numerical_pipeline = Pipeline([('imputer', SimpleImputer(strategy=\"median\")),('attribs_adder', CombinedAttributesAdder()),])\n",
    "# new_variable_transformed_numerical = num_pipeline.fit_transform(varible_numerica)\n",
    "\n",
    "## numerical and categorial ##\n",
    "#from sklearn import ColumnTransformer\n",
    "#numerical_attribs = list(numerical_columns)\n",
    "#categorical_attribs = list(categorial_columns)\n",
    "#full_pipeline = ColumnTransformer([(\"num\", numerical_pipeline, numerical_attribs),(\"cat\", OneHotEncoder(), categorical_attribs),])\n",
    "#dataTotal_prepared = full_pipeline.fit_transform(dataTotal) "
   ]
  },
  {
   "cell_type": "markdown",
   "id": "50592106",
   "metadata": {
    "papermill": {
     "duration": 0.058387,
     "end_time": "2022-05-03T23:54:08.012569",
     "exception": false,
     "start_time": "2022-05-03T23:54:07.954182",
     "status": "completed"
    },
    "tags": []
   },
   "source": [
    "## Target ## "
   ]
  },
  {
   "cell_type": "code",
   "execution_count": 26,
   "id": "e87815e9",
   "metadata": {
    "execution": {
     "iopub.execute_input": "2022-05-03T23:54:08.132824Z",
     "iopub.status.busy": "2022-05-03T23:54:08.132126Z",
     "iopub.status.idle": "2022-05-03T23:54:08.144673Z",
     "shell.execute_reply": "2022-05-03T23:54:08.145194Z",
     "shell.execute_reply.started": "2022-03-02T21:34:39.745148Z"
    },
    "papermill": {
     "duration": 0.074212,
     "end_time": "2022-05-03T23:54:08.145390",
     "exception": false,
     "start_time": "2022-05-03T23:54:08.071178",
     "status": "completed"
    },
    "tags": []
   },
   "outputs": [
    {
     "name": "stdout",
     "output_type": "stream",
     "text": [
      "<class 'pandas.core.frame.DataFrame'>\n",
      "RangeIndex: 7649 entries, 0 to 7648\n",
      "Data columns (total 8 columns):\n",
      " #   Column  Non-Null Count  Dtype  \n",
      "---  ------  --------------  -----  \n",
      " 0   Vmag    7649 non-null   float32\n",
      " 1   Plx     7649 non-null   float32\n",
      " 2   e_Plx   7649 non-null   float32\n",
      " 3   B-V     7649 non-null   float32\n",
      " 4   Amag    7649 non-null   float32\n",
      " 5   e_Amag  7649 non-null   float32\n",
      " 6   eA/A    7649 non-null   float32\n",
      " 7   eP/P    7649 non-null   float32\n",
      "dtypes: float32(8)\n",
      "memory usage: 239.2 KB\n"
     ]
    }
   ],
   "source": [
    "trainX = train.drop('TargetClass', axis=1)\n",
    "trainY = train['TargetClass'].copy()\n",
    "\n",
    "testX = test.drop('TargetClass', axis=1)\n",
    "testY = test['TargetClass'].copy()\n",
    "trainX.info()"
   ]
  },
  {
   "cell_type": "markdown",
   "id": "51beb072",
   "metadata": {
    "papermill": {
     "duration": 0.057952,
     "end_time": "2022-05-03T23:54:08.262194",
     "exception": false,
     "start_time": "2022-05-03T23:54:08.204242",
     "status": "completed"
    },
    "tags": []
   },
   "source": [
    "## Featuring Engineering ##"
   ]
  },
  {
   "cell_type": "markdown",
   "id": "4da31e62",
   "metadata": {
    "papermill": {
     "duration": 0.05909,
     "end_time": "2022-05-03T23:54:08.380076",
     "exception": false,
     "start_time": "2022-05-03T23:54:08.320986",
     "status": "completed"
    },
    "tags": []
   },
   "source": [
    "##  Pipeline and Featuring Scaling ##"
   ]
  },
  {
   "cell_type": "code",
   "execution_count": 27,
   "id": "56cf0620",
   "metadata": {
    "execution": {
     "iopub.execute_input": "2022-05-03T23:54:08.500749Z",
     "iopub.status.busy": "2022-05-03T23:54:08.500070Z",
     "iopub.status.idle": "2022-05-03T23:54:08.659695Z",
     "shell.execute_reply": "2022-05-03T23:54:08.658602Z",
     "shell.execute_reply.started": "2022-03-02T21:34:39.769533Z"
    },
    "papermill": {
     "duration": 0.221521,
     "end_time": "2022-05-03T23:54:08.659957",
     "exception": false,
     "start_time": "2022-05-03T23:54:08.438436",
     "status": "completed"
    },
    "tags": []
   },
   "outputs": [
    {
     "name": "stdout",
     "output_type": "stream",
     "text": [
      "Done\n"
     ]
    }
   ],
   "source": [
    "from  sklearn.impute import SimpleImputer\n",
    "from  sklearn.preprocessing import OneHotEncoder\n",
    "\n",
    "from  sklearn.pipeline import Pipeline\n",
    "from  sklearn.preprocessing import StandardScaler\n",
    "\n",
    "numerical_pipeline = Pipeline([('imputer', SimpleImputer(strategy=\"median\")),\n",
    "                              ('std_scaler', StandardScaler())] )\n",
    "\n",
    "from sklearn.compose import ColumnTransformer\n",
    "\n",
    "num_attribs = list(trainX)\n",
    "#cat_attribs = [\"ocean_proximity\"] ---generar lista de attribus catecorial---\n",
    "full_pipeline = ColumnTransformer([(\"num\", numerical_pipeline, num_attribs),\n",
    "#                                   (\"cat\", OneHotEncoder(), cat_attribs),\n",
    "                                  ])\n",
    "\n",
    "Xtrain = full_pipeline.fit_transform(trainX)  # array\n",
    "\n",
    "print('Done')"
   ]
  },
  {
   "cell_type": "markdown",
   "id": "56101cfd",
   "metadata": {
    "papermill": {
     "duration": 0.058469,
     "end_time": "2022-05-03T23:54:08.778723",
     "exception": false,
     "start_time": "2022-05-03T23:54:08.720254",
     "status": "completed"
    },
    "tags": []
   },
   "source": [
    " # **MODEL** # "
   ]
  },
  {
   "cell_type": "markdown",
   "id": "5788551d",
   "metadata": {
    "papermill": {
     "duration": 0.058523,
     "end_time": "2022-05-03T23:54:08.895603",
     "exception": false,
     "start_time": "2022-05-03T23:54:08.837080",
     "status": "completed"
    },
    "tags": []
   },
   "source": [
    "#### Models ####"
   ]
  },
  {
   "cell_type": "code",
   "execution_count": 28,
   "id": "ff395885",
   "metadata": {
    "execution": {
     "iopub.execute_input": "2022-05-03T23:54:09.018496Z",
     "iopub.status.busy": "2022-05-03T23:54:09.017828Z",
     "iopub.status.idle": "2022-05-03T23:54:09.070507Z",
     "shell.execute_reply": "2022-05-03T23:54:09.069957Z",
     "shell.execute_reply.started": "2022-03-02T21:34:39.942267Z"
    },
    "papermill": {
     "duration": 0.116725,
     "end_time": "2022-05-03T23:54:09.070652",
     "exception": false,
     "start_time": "2022-05-03T23:54:08.953927",
     "status": "completed"
    },
    "tags": []
   },
   "outputs": [],
   "source": [
    "# Models ==> ['logisRegre' , 'SVM'   , 'SGDClf' ,  'randomForestClassifier' , 'navieBayes']\n",
    "\n",
    "# Classifier\n",
    "from sklearn.linear_model import SGDClassifier\n",
    "from sklearn.linear_model import LogisticRegression\n",
    "from sklearn.ensemble import RandomForestClassifier\n",
    "from sklearn.svm import LinearSVC\n"
   ]
  },
  {
   "cell_type": "code",
   "execution_count": 29,
   "id": "9f301996",
   "metadata": {
    "execution": {
     "iopub.execute_input": "2022-05-03T23:54:09.193967Z",
     "iopub.status.busy": "2022-05-03T23:54:09.193311Z",
     "iopub.status.idle": "2022-05-03T23:54:09.219013Z",
     "shell.execute_reply": "2022-05-03T23:54:09.219517Z",
     "shell.execute_reply.started": "2022-03-02T21:34:39.997593Z"
    },
    "papermill": {
     "duration": 0.09004,
     "end_time": "2022-05-03T23:54:09.219681",
     "exception": false,
     "start_time": "2022-05-03T23:54:09.129641",
     "status": "completed"
    },
    "tags": []
   },
   "outputs": [],
   "source": [
    "\n",
    "SGDClf = SGDClassifier(random_state=42)\n",
    "SGDClf.fit(Xtrain, trainY) # fit equal training\n",
    "\n",
    "LRClf = LogisticRegression(random_state=0)\n",
    "RFClf = RandomForestClassifier(random_state=0)\n",
    "SVClf = LinearSVC(random_state=0)\n",
    "\n",
    "\n",
    "#SGDClf.fit(Xtrain, trainY)"
   ]
  },
  {
   "cell_type": "markdown",
   "id": "e4a1e03a",
   "metadata": {
    "papermill": {
     "duration": 0.058149,
     "end_time": "2022-05-03T23:54:09.336497",
     "exception": false,
     "start_time": "2022-05-03T23:54:09.278348",
     "status": "completed"
    },
    "tags": []
   },
   "source": [
    "## Cross-Validation ##"
   ]
  },
  {
   "cell_type": "code",
   "execution_count": 30,
   "id": "0975b6f4",
   "metadata": {
    "execution": {
     "iopub.execute_input": "2022-05-03T23:54:09.461023Z",
     "iopub.status.busy": "2022-05-03T23:54:09.460374Z",
     "iopub.status.idle": "2022-05-03T23:54:17.265059Z",
     "shell.execute_reply": "2022-05-03T23:54:17.265804Z",
     "shell.execute_reply.started": "2022-03-02T21:34:40.0243Z"
    },
    "papermill": {
     "duration": 7.870993,
     "end_time": "2022-05-03T23:54:17.266031",
     "exception": false,
     "start_time": "2022-05-03T23:54:09.395038",
     "status": "completed"
    },
    "tags": []
   },
   "outputs": [
    {
     "name": "stdout",
     "output_type": "stream",
     "text": [
      "{0.30404183556032716: SGDClassifier(random_state=42), 0.29591473451931405: LogisticRegression(random_state=0), 0.24500400484537124: RandomForestClassifier(random_state=0)}\n",
      "\n",
      "\n",
      "RandomForestClassifier(random_state=0)\n",
      "DONE\n"
     ]
    }
   ],
   "source": [
    "from sklearn.model_selection import cross_val_score\n",
    "\n",
    "# automatizar entre diversos modelos de la misma categoria\n",
    "def compareModels(models, x, y, numCV, scoringT=\"neg_mean_squared_error\"):\n",
    "    modelsCV = dict()\n",
    "    for mod in models:\n",
    "        scores = cross_val_score(mod, x, y, scoring = scoringT, cv=numCV)\n",
    "        meanScore = np.sqrt(-scores).mean()\n",
    "        modelsCV[meanScore] = mod\n",
    "    \n",
    "    val=min(modelsCV)\n",
    "    bestModel = modelsCV[val]\n",
    "    return modelsCV,bestModel\n",
    "    \n",
    "result, model =compareModels([SGDClf , LRClf, RFClf] , Xtrain , trainY , 6)\n",
    "print(result); print('\\n'); print(model); print('DONE')"
   ]
  },
  {
   "cell_type": "code",
   "execution_count": 31,
   "id": "f22d7267",
   "metadata": {
    "execution": {
     "iopub.execute_input": "2022-05-03T23:54:17.388273Z",
     "iopub.status.busy": "2022-05-03T23:54:17.387617Z",
     "iopub.status.idle": "2022-05-03T23:54:18.847286Z",
     "shell.execute_reply": "2022-05-03T23:54:18.847763Z",
     "shell.execute_reply.started": "2022-03-02T21:34:47.754171Z"
    },
    "papermill": {
     "duration": 1.521968,
     "end_time": "2022-05-03T23:54:18.847966",
     "exception": false,
     "start_time": "2022-05-03T23:54:17.325998",
     "status": "completed"
    },
    "tags": []
   },
   "outputs": [],
   "source": [
    "model.fit(Xtrain, trainY)\n",
    "\n",
    "Xtest = full_pipeline.fit_transform(testX)\n",
    "Ypredicts = model.predict(Xtest)\n"
   ]
  },
  {
   "cell_type": "code",
   "execution_count": 32,
   "id": "5191d40d",
   "metadata": {
    "execution": {
     "iopub.execute_input": "2022-05-03T23:54:18.970713Z",
     "iopub.status.busy": "2022-05-03T23:54:18.970073Z",
     "iopub.status.idle": "2022-05-03T23:54:18.975659Z",
     "shell.execute_reply": "2022-05-03T23:54:18.976204Z",
     "shell.execute_reply.started": "2022-03-02T21:34:49.208095Z"
    },
    "papermill": {
     "duration": 0.068974,
     "end_time": "2022-05-03T23:54:18.976378",
     "exception": false,
     "start_time": "2022-05-03T23:54:18.907404",
     "status": "completed"
    },
    "tags": []
   },
   "outputs": [
    {
     "data": {
      "text/plain": [
       "0.2408818"
      ]
     },
     "execution_count": 32,
     "metadata": {},
     "output_type": "execute_result"
    }
   ],
   "source": [
    "# metrica\n",
    "from sklearn.metrics import mean_squared_error\n",
    "\n",
    "mse = mean_squared_error(testY , Ypredicts) \n",
    "rmse = np.sqrt(mse)\n",
    "rmse"
   ]
  },
  {
   "cell_type": "code",
   "execution_count": 33,
   "id": "c1efc5db",
   "metadata": {
    "execution": {
     "iopub.execute_input": "2022-05-03T23:54:19.099124Z",
     "iopub.status.busy": "2022-05-03T23:54:19.098466Z",
     "iopub.status.idle": "2022-05-03T23:54:19.116522Z",
     "shell.execute_reply": "2022-05-03T23:54:19.116976Z",
     "shell.execute_reply.started": "2022-03-02T21:34:49.219103Z"
    },
    "papermill": {
     "duration": 0.080817,
     "end_time": "2022-05-03T23:54:19.117146",
     "exception": false,
     "start_time": "2022-05-03T23:54:19.036329",
     "status": "completed"
    },
    "tags": []
   },
   "outputs": [
    {
     "data": {
      "text/plain": [
       "'94.197595%'"
      ]
     },
     "execution_count": 33,
     "metadata": {},
     "output_type": "execute_result"
    }
   ],
   "source": [
    "output = pd.DataFrame({'Star': testY, 'StarPred': Ypredicts})\n",
    "\n",
    "def precision(a, b):\n",
    "    cont = 0\n",
    "    for i in np.arange(len(a)):\n",
    "        if (a[i]==b[i]):\n",
    "            cont = cont +1\n",
    "             \n",
    "            \n",
    "    return  format( cont/len(a) , '2%') \n",
    "\n",
    "precision(testY , Ypredicts)"
   ]
  },
  {
   "cell_type": "code",
   "execution_count": 34,
   "id": "1062eea3",
   "metadata": {
    "execution": {
     "iopub.execute_input": "2022-05-03T23:54:19.240422Z",
     "iopub.status.busy": "2022-05-03T23:54:19.239768Z",
     "iopub.status.idle": "2022-05-03T23:54:19.242282Z",
     "shell.execute_reply": "2022-05-03T23:54:19.242918Z",
     "shell.execute_reply.started": "2022-03-02T21:34:49.247087Z"
    },
    "papermill": {
     "duration": 0.065768,
     "end_time": "2022-05-03T23:54:19.243111",
     "exception": false,
     "start_time": "2022-05-03T23:54:19.177343",
     "status": "completed"
    },
    "tags": []
   },
   "outputs": [],
   "source": [
    "### stratified CV ### see pag 136  Geron's book\n",
    "#from sklearn.model_selection import StratifiedKFold\n",
    "#from sklearn.base import clone\n",
    "#skfolds = StratifiedKFold(n_splits=3, random_state=42)"
   ]
  },
  {
   "cell_type": "markdown",
   "id": "e74faff1",
   "metadata": {
    "papermill": {
     "duration": 0.060112,
     "end_time": "2022-05-03T23:54:19.363405",
     "exception": false,
     "start_time": "2022-05-03T23:54:19.303293",
     "status": "completed"
    },
    "tags": []
   },
   "source": [
    "# **Refinament** #"
   ]
  },
  {
   "cell_type": "markdown",
   "id": "e16e595a",
   "metadata": {
    "papermill": {
     "duration": 0.06053,
     "end_time": "2022-05-03T23:54:19.484927",
     "exception": false,
     "start_time": "2022-05-03T23:54:19.424397",
     "status": "completed"
    },
    "tags": []
   },
   "source": [
    "### Hyper-parameters ###"
   ]
  },
  {
   "cell_type": "code",
   "execution_count": 35,
   "id": "6f886d63",
   "metadata": {
    "execution": {
     "iopub.execute_input": "2022-05-03T23:54:19.608683Z",
     "iopub.status.busy": "2022-05-03T23:54:19.607720Z",
     "iopub.status.idle": "2022-05-03T23:54:37.733342Z",
     "shell.execute_reply": "2022-05-03T23:54:37.733837Z",
     "shell.execute_reply.started": "2022-03-02T21:34:49.259587Z"
    },
    "papermill": {
     "duration": 18.188854,
     "end_time": "2022-05-03T23:54:37.734007",
     "exception": false,
     "start_time": "2022-05-03T23:54:19.545153",
     "status": "completed"
    },
    "tags": []
   },
   "outputs": [
    {
     "data": {
      "text/plain": [
       "{'max_features': 4, 'n_estimators': 10}"
      ]
     },
     "execution_count": 35,
     "metadata": {},
     "output_type": "execute_result"
    }
   ],
   "source": [
    "from sklearn.model_selection import GridSearchCV\n",
    "from sklearn.model_selection import RandomizedSearchCV\n",
    "from scipy.stats import uniform\n",
    "\n",
    "\n",
    "#distributions = dict(C=uniform(loc=0, scale=4), penalty=['l2','l1'])\n",
    "#clf=RandomizedSearchCV( RFClf , distributions , random_state=0) # arg (model , distri , ...)\n",
    "\n",
    "\n",
    "parameter_grid = [{'n_estimators':[3,5,10], 'max_features':[2,4,6,8]} ,\n",
    "                  {'bootstrap':[False], 'n_estimators':[3,7,12] , 'max_features':[2,3,4]}]\n",
    "clf=GridSearchCV( RFClf , parameter_grid,\n",
    "                cv=5 ,  scoring='neg_mean_squared_error' , return_train_score=True) # arg (model , distri , ...)\n",
    "\n",
    "\n",
    "clf.fit(Xtrain, trainY)\n",
    "\n",
    "clf.best_params_"
   ]
  },
  {
   "cell_type": "markdown",
   "id": "55f7cfdd",
   "metadata": {
    "papermill": {
     "duration": 0.060652,
     "end_time": "2022-05-03T23:54:37.853835",
     "exception": false,
     "start_time": "2022-05-03T23:54:37.793183",
     "status": "completed"
    },
    "tags": []
   },
   "source": [
    "###  Model-Hyperparameters ###"
   ]
  },
  {
   "cell_type": "code",
   "execution_count": 36,
   "id": "0e4a97eb",
   "metadata": {
    "execution": {
     "iopub.execute_input": "2022-05-03T23:54:37.978472Z",
     "iopub.status.busy": "2022-05-03T23:54:37.977395Z",
     "iopub.status.idle": "2022-05-03T23:54:37.998049Z",
     "shell.execute_reply": "2022-05-03T23:54:37.998579Z",
     "shell.execute_reply.started": "2022-03-02T21:35:07.161381Z"
    },
    "papermill": {
     "duration": 0.084794,
     "end_time": "2022-05-03T23:54:37.998760",
     "exception": false,
     "start_time": "2022-05-03T23:54:37.913966",
     "status": "completed"
    },
    "tags": []
   },
   "outputs": [
    {
     "data": {
      "text/plain": [
       "'93.256665%'"
      ]
     },
     "execution_count": 36,
     "metadata": {},
     "output_type": "execute_result"
    }
   ],
   "source": [
    "finalModel=clf.best_estimator_\n",
    "Ypredfinal=finalModel.predict(Xtest)\n",
    "\n",
    "precision(testY , Ypredfinal) # worse model"
   ]
  },
  {
   "cell_type": "code",
   "execution_count": 37,
   "id": "8623ef8a",
   "metadata": {
    "execution": {
     "iopub.execute_input": "2022-05-03T23:54:38.126645Z",
     "iopub.status.busy": "2022-05-03T23:54:38.125606Z",
     "iopub.status.idle": "2022-05-03T23:54:38.130990Z",
     "shell.execute_reply": "2022-05-03T23:54:38.130429Z"
    },
    "papermill": {
     "duration": 0.070468,
     "end_time": "2022-05-03T23:54:38.131129",
     "exception": false,
     "start_time": "2022-05-03T23:54:38.060661",
     "status": "completed"
    },
    "tags": []
   },
   "outputs": [
    {
     "name": "stdout",
     "output_type": "stream",
     "text": [
      "Done\n"
     ]
    }
   ],
   "source": [
    "print('Done')"
   ]
  },
  {
   "cell_type": "markdown",
   "id": "1dcd076f",
   "metadata": {
    "papermill": {
     "duration": 0.06085,
     "end_time": "2022-05-03T23:54:38.252986",
     "exception": false,
     "start_time": "2022-05-03T23:54:38.192136",
     "status": "completed"
    },
    "tags": []
   },
   "source": [
    "# **Deploy** #"
   ]
  },
  {
   "cell_type": "code",
   "execution_count": null,
   "id": "939e887b",
   "metadata": {
    "papermill": {
     "duration": 0.061583,
     "end_time": "2022-05-03T23:54:38.375637",
     "exception": false,
     "start_time": "2022-05-03T23:54:38.314054",
     "status": "completed"
    },
    "tags": []
   },
   "outputs": [],
   "source": []
  },
  {
   "cell_type": "code",
   "execution_count": null,
   "id": "ec3f0664",
   "metadata": {
    "papermill": {
     "duration": 0.060773,
     "end_time": "2022-05-03T23:54:38.499159",
     "exception": false,
     "start_time": "2022-05-03T23:54:38.438386",
     "status": "completed"
    },
    "tags": []
   },
   "outputs": [],
   "source": []
  }
 ],
 "metadata": {
  "kernelspec": {
   "display_name": "Python 3",
   "language": "python",
   "name": "python3"
  },
  "language_info": {
   "codemirror_mode": {
    "name": "ipython",
    "version": 3
   },
   "file_extension": ".py",
   "mimetype": "text/x-python",
   "name": "python",
   "nbconvert_exporter": "python",
   "pygments_lexer": "ipython3",
   "version": "3.7.12"
  },
  "papermill": {
   "default_parameters": {},
   "duration": 170.596291,
   "end_time": "2022-05-03T23:54:39.271724",
   "environment_variables": {},
   "exception": null,
   "input_path": "__notebook__.ipynb",
   "output_path": "__notebook__.ipynb",
   "parameters": {},
   "start_time": "2022-05-03T23:51:48.675433",
   "version": "2.3.3"
  }
 },
 "nbformat": 4,
 "nbformat_minor": 5
}
