{
 "cells": [
  {
   "cell_type": "markdown",
   "id": "d52b2cca",
   "metadata": {
    "papermill": {
     "duration": 0.054548,
     "end_time": "2022-05-10T19:33:46.484961",
     "exception": false,
     "start_time": "2022-05-10T19:33:46.430413",
     "status": "completed"
    },
    "tags": []
   },
   "source": [
    "# **Categorization Stars**\n",
    "\n",
    "This project have goal prediction if one Star is Giant or Dwarfs, used Morgan-Keen (MK) classification system, kinds the learned models are the Classifications. The dataset for this proyect comes from [Kaggle Star](https://www.kaggle.com/vinesmsuic/star-categorization-giants-and-dwarfs).\n",
    "\n",
    "\n"
   ]
  },
  {
   "cell_type": "markdown",
   "id": "4c5716c1",
   "metadata": {
    "papermill": {
     "duration": 0.050347,
     "end_time": "2022-05-10T19:33:46.585656",
     "exception": false,
     "start_time": "2022-05-10T19:33:46.535309",
     "status": "completed"
    },
    "tags": []
   },
   "source": [
    "## Setting\n"
   ]
  },
  {
   "cell_type": "code",
   "execution_count": 1,
   "id": "7fba6588",
   "metadata": {
    "_cell_guid": "b1076dfc-b9ad-4769-8c92-a6c4dae69d19",
    "_kg_hide-input": true,
    "_kg_hide-output": true,
    "_uuid": "8f2839f25d086af736a60e9eeb907d3b93b6e0e5",
    "execution": {
     "iopub.execute_input": "2022-05-10T19:33:46.709079Z",
     "iopub.status.busy": "2022-05-10T19:33:46.707949Z",
     "iopub.status.idle": "2022-05-10T19:33:47.818918Z",
     "shell.execute_reply": "2022-05-10T19:33:47.817555Z",
     "shell.execute_reply.started": "2022-05-10T19:11:38.586561Z"
    },
    "papermill": {
     "duration": 1.178866,
     "end_time": "2022-05-10T19:33:47.819154",
     "exception": false,
     "start_time": "2022-05-10T19:33:46.640288",
     "status": "completed"
    },
    "tags": []
   },
   "outputs": [
    {
     "name": "stdout",
     "output_type": "stream",
     "text": [
      "/kaggle/input/star-categorization-giants-and-dwarfs/Star99999_raw.csv\n",
      "/kaggle/input/star-categorization-giants-and-dwarfs/Star39552_balanced.csv\n",
      "/kaggle/input/star-categorization-giants-and-dwarfs/Star9999_raw.csv\n",
      "/kaggle/input/star-categorization-giants-and-dwarfs/Star3642_balanced.csv\n"
     ]
    }
   ],
   "source": [
    "# This Python 3 environment comes with many helpful analytics libraries installed\n",
    "# It is defined by the kaggle/python Docker image: https://github.com/kaggle/docker-python\n",
    "# For example, here's several helpful packages to load\n",
    "\n",
    "# Libraries\n",
    "%matplotlib inline\n",
    "\n",
    "import numpy as np # linear algebra\n",
    "import pandas as pd # data processing, CSV file I/O (e.g. pd.read_csv)\n",
    "\n",
    "import matplotlib.pyplot as plt\n",
    "import seaborn as sns\n",
    "# Input data files are available in the read-only \"../input/\" directory\n",
    "# For example, running this (by clicking run or pressing Shift+Enter) will list all files under the input directory\n",
    "\n",
    "import os\n",
    "for dirname, _, filenames in os.walk('/kaggle/input'):\n",
    "    for filename in filenames:\n",
    "        print(os.path.join(dirname, filename))\n",
    "\n",
    "# You can write up to 20GB to the current directory (/kaggle/working/) that gets preserved as output when you create a version using \"Save & Run All\" \n",
    "# You can also write temporary files to /kaggle/temp/, but they won't be saved outside of the current session\n"
   ]
  },
  {
   "cell_type": "markdown",
   "id": "de253458",
   "metadata": {
    "papermill": {
     "duration": 0.052904,
     "end_time": "2022-05-10T19:33:47.929333",
     "exception": false,
     "start_time": "2022-05-10T19:33:47.876429",
     "status": "completed"
    },
    "tags": []
   },
   "source": [
    "# Get Data #"
   ]
  },
  {
   "cell_type": "markdown",
   "id": "c5481424",
   "metadata": {
    "papermill": {
     "duration": 0.051819,
     "end_time": "2022-05-10T19:33:48.032665",
     "exception": false,
     "start_time": "2022-05-10T19:33:47.980846",
     "status": "completed"
    },
    "tags": []
   },
   "source": [
    "The raw data will be processed, apply pre-processing, clean and then Balance."
   ]
  },
  {
   "cell_type": "code",
   "execution_count": 2,
   "id": "c24129b2",
   "metadata": {
    "execution": {
     "iopub.execute_input": "2022-05-10T19:33:48.140363Z",
     "iopub.status.busy": "2022-05-10T19:33:48.139423Z",
     "iopub.status.idle": "2022-05-10T19:33:48.340165Z",
     "shell.execute_reply": "2022-05-10T19:33:48.339366Z",
     "shell.execute_reply.started": "2022-05-10T19:11:39.680579Z"
    },
    "papermill": {
     "duration": 0.256819,
     "end_time": "2022-05-10T19:33:48.340352",
     "exception": false,
     "start_time": "2022-05-10T19:33:48.083533",
     "status": "completed"
    },
    "tags": []
   },
   "outputs": [],
   "source": [
    "# Read Data\n",
    "dataRaw = pd.read_csv('/kaggle/input/star-categorization-giants-and-dwarfs/Star99999_raw.csv') # data initial or Raw \n",
    "dataBalanced = pd.read_csv('../input/star-categorization-giants-and-dwarfs/Star39552_balanced.csv') # data pre-processed"
   ]
  },
  {
   "cell_type": "markdown",
   "id": "1985af65",
   "metadata": {
    "papermill": {
     "duration": 0.049875,
     "end_time": "2022-05-10T19:33:48.443204",
     "exception": false,
     "start_time": "2022-05-10T19:33:48.393329",
     "status": "completed"
    },
    "tags": []
   },
   "source": [
    "#  **Exploratory Data Analysis** \n",
    "Information about `dataRaw`, counts of non-null per  columns and its type."
   ]
  },
  {
   "cell_type": "code",
   "execution_count": 3,
   "id": "5d0ca52e",
   "metadata": {
    "execution": {
     "iopub.execute_input": "2022-05-10T19:33:48.558486Z",
     "iopub.status.busy": "2022-05-10T19:33:48.557425Z",
     "iopub.status.idle": "2022-05-10T19:33:48.624888Z",
     "shell.execute_reply": "2022-05-10T19:33:48.624221Z",
     "shell.execute_reply.started": "2022-05-10T19:11:39.917878Z"
    },
    "papermill": {
     "duration": 0.130085,
     "end_time": "2022-05-10T19:33:48.625070",
     "exception": false,
     "start_time": "2022-05-10T19:33:48.494985",
     "status": "completed"
    },
    "tags": []
   },
   "outputs": [
    {
     "name": "stdout",
     "output_type": "stream",
     "text": [
      "<class 'pandas.core.frame.DataFrame'>\n",
      "RangeIndex: 99999 entries, 0 to 99998\n",
      "Data columns (total 6 columns):\n",
      " #   Column      Non-Null Count  Dtype \n",
      "---  ------      --------------  ----- \n",
      " 0   Unnamed: 0  99999 non-null  int64 \n",
      " 1   Vmag        99999 non-null  object\n",
      " 2   Plx         99999 non-null  object\n",
      " 3   e_Plx       99999 non-null  object\n",
      " 4   B-V         99999 non-null  object\n",
      " 5   SpType      97377 non-null  object\n",
      "dtypes: int64(1), object(5)\n",
      "memory usage: 4.6+ MB\n"
     ]
    }
   ],
   "source": [
    "dataRaw.info()  # review types variable"
   ]
  },
  {
   "cell_type": "markdown",
   "id": "de5a5566",
   "metadata": {
    "papermill": {
     "duration": 0.05071,
     "end_time": "2022-05-10T19:33:48.727178",
     "exception": false,
     "start_time": "2022-05-10T19:33:48.676468",
     "status": "completed"
    },
    "tags": []
   },
   "source": [
    "Convert object to numeric.\n"
   ]
  },
  {
   "cell_type": "code",
   "execution_count": 4,
   "id": "d8b96303",
   "metadata": {
    "_kg_hide-input": true,
    "execution": {
     "iopub.execute_input": "2022-05-10T19:33:48.887973Z",
     "iopub.status.busy": "2022-05-10T19:33:48.886696Z",
     "iopub.status.idle": "2022-05-10T19:33:49.113826Z",
     "shell.execute_reply": "2022-05-10T19:33:49.114463Z",
     "shell.execute_reply.started": "2022-05-10T19:11:40.009376Z"
    },
    "papermill": {
     "duration": 0.335672,
     "end_time": "2022-05-10T19:33:49.114661",
     "exception": false,
     "start_time": "2022-05-10T19:33:48.778989",
     "status": "completed"
    },
    "tags": []
   },
   "outputs": [
    {
     "data": {
      "text/html": [
       "<div>\n",
       "<style scoped>\n",
       "    .dataframe tbody tr th:only-of-type {\n",
       "        vertical-align: middle;\n",
       "    }\n",
       "\n",
       "    .dataframe tbody tr th {\n",
       "        vertical-align: top;\n",
       "    }\n",
       "\n",
       "    .dataframe thead th {\n",
       "        text-align: right;\n",
       "    }\n",
       "</style>\n",
       "<table border=\"1\" class=\"dataframe\">\n",
       "  <thead>\n",
       "    <tr style=\"text-align: right;\">\n",
       "      <th></th>\n",
       "      <th>count</th>\n",
       "      <th>mean</th>\n",
       "      <th>std</th>\n",
       "      <th>min</th>\n",
       "      <th>25%</th>\n",
       "      <th>50%</th>\n",
       "      <th>75%</th>\n",
       "      <th>max</th>\n",
       "    </tr>\n",
       "  </thead>\n",
       "  <tbody>\n",
       "    <tr>\n",
       "      <th>Unnamed: 0</th>\n",
       "      <td>99999.0</td>\n",
       "      <td>49999.000000</td>\n",
       "      <td>28867.369122</td>\n",
       "      <td>0.000000</td>\n",
       "      <td>24999.500</td>\n",
       "      <td>49999.000</td>\n",
       "      <td>74998.500</td>\n",
       "      <td>99998.000000</td>\n",
       "    </tr>\n",
       "    <tr>\n",
       "      <th>Vmag</th>\n",
       "      <td>99998.0</td>\n",
       "      <td>8.369750</td>\n",
       "      <td>1.313896</td>\n",
       "      <td>-1.440000</td>\n",
       "      <td>7.640</td>\n",
       "      <td>8.440</td>\n",
       "      <td>9.140</td>\n",
       "      <td>14.080000</td>\n",
       "    </tr>\n",
       "    <tr>\n",
       "      <th>Plx</th>\n",
       "      <td>99768.0</td>\n",
       "      <td>7.212467</td>\n",
       "      <td>11.348988</td>\n",
       "      <td>-54.950001</td>\n",
       "      <td>2.510</td>\n",
       "      <td>4.630</td>\n",
       "      <td>8.410</td>\n",
       "      <td>772.330017</td>\n",
       "    </tr>\n",
       "    <tr>\n",
       "      <th>e_Plx</th>\n",
       "      <td>99768.0</td>\n",
       "      <td>1.365385</td>\n",
       "      <td>1.816838</td>\n",
       "      <td>0.380000</td>\n",
       "      <td>0.880</td>\n",
       "      <td>1.100</td>\n",
       "      <td>1.390</td>\n",
       "      <td>114.459999</td>\n",
       "    </tr>\n",
       "    <tr>\n",
       "      <th>B-V</th>\n",
       "      <td>98871.0</td>\n",
       "      <td>0.704726</td>\n",
       "      <td>0.489679</td>\n",
       "      <td>-0.400000</td>\n",
       "      <td>0.348</td>\n",
       "      <td>0.612</td>\n",
       "      <td>1.075</td>\n",
       "      <td>5.460000</td>\n",
       "    </tr>\n",
       "  </tbody>\n",
       "</table>\n",
       "</div>"
      ],
      "text/plain": [
       "              count          mean           std        min        25%  \\\n",
       "Unnamed: 0  99999.0  49999.000000  28867.369122   0.000000  24999.500   \n",
       "Vmag        99998.0      8.369750      1.313896  -1.440000      7.640   \n",
       "Plx         99768.0      7.212467     11.348988 -54.950001      2.510   \n",
       "e_Plx       99768.0      1.365385      1.816838   0.380000      0.880   \n",
       "B-V         98871.0      0.704726      0.489679  -0.400000      0.348   \n",
       "\n",
       "                  50%        75%           max  \n",
       "Unnamed: 0  49999.000  74998.500  99998.000000  \n",
       "Vmag            8.440      9.140     14.080000  \n",
       "Plx             4.630      8.410    772.330017  \n",
       "e_Plx           1.100      1.390    114.459999  \n",
       "B-V             0.612      1.075      5.460000  "
      ]
     },
     "execution_count": 4,
     "metadata": {},
     "output_type": "execute_result"
    }
   ],
   "source": [
    "dataRaw['Vmag'] = pd.to_numeric(dataRaw['Vmag'] , downcast='float' , errors='coerce')\n",
    "dataRaw['Plx'] = pd.to_numeric(dataRaw['Plx'] , downcast='float' , errors='coerce')\n",
    "dataRaw['e_Plx'] = pd.to_numeric(dataRaw['e_Plx'] , downcast='float' , errors='coerce')\n",
    "dataRaw['B-V'] = pd.to_numeric(dataRaw['B-V'] , downcast='float' , errors='coerce')\n",
    "dataRaw.describe().T"
   ]
  },
  {
   "cell_type": "markdown",
   "id": "0f829d99",
   "metadata": {
    "papermill": {
     "duration": 0.052027,
     "end_time": "2022-05-10T19:33:49.218652",
     "exception": false,
     "start_time": "2022-05-10T19:33:49.166625",
     "status": "completed"
    },
    "tags": []
   },
   "source": [
    "### Missing Values ###"
   ]
  },
  {
   "cell_type": "markdown",
   "id": "6453a30a",
   "metadata": {
    "papermill": {
     "duration": 0.052166,
     "end_time": "2022-05-10T19:33:49.325079",
     "exception": false,
     "start_time": "2022-05-10T19:33:49.272913",
     "status": "completed"
    },
    "tags": []
   },
   "source": [
    "Numbers the missing Values and its percent missing. "
   ]
  },
  {
   "cell_type": "code",
   "execution_count": 5,
   "id": "0f3fe054",
   "metadata": {
    "execution": {
     "iopub.execute_input": "2022-05-10T19:33:49.444512Z",
     "iopub.status.busy": "2022-05-10T19:33:49.443729Z",
     "iopub.status.idle": "2022-05-10T19:33:49.480085Z",
     "shell.execute_reply": "2022-05-10T19:33:49.481214Z",
     "shell.execute_reply.started": "2022-05-10T19:11:40.295508Z"
    },
    "papermill": {
     "duration": 0.105221,
     "end_time": "2022-05-10T19:33:49.481644",
     "exception": false,
     "start_time": "2022-05-10T19:33:49.376423",
     "status": "completed"
    },
    "tags": []
   },
   "outputs": [
    {
     "name": "stdout",
     "output_type": "stream",
     "text": [
      "Num_null:  4213\n",
      "Percentage Missing:  0.702%\n"
     ]
    }
   ],
   "source": [
    "missingValueCount = dataRaw.isnull().sum()\n",
    "print('Num_null: ' , missingValueCount.sum() )\n",
    "\n",
    "\n",
    "\n",
    "\n",
    "totalData = np.product(dataRaw.shape)\n",
    "percentMissing=missingValueCount.sum()/totalData\n",
    "\n",
    "print('Percentage Missing:', '{: .3%}'.format(percentMissing))\n",
    "dataRaw.dropna(inplace=True)\n",
    "dataRaw.fillna(0)\n",
    "dataRaw = dataRaw.drop(['Unnamed: 0'], axis=1)\n"
   ]
  },
  {
   "cell_type": "markdown",
   "id": "f0044b66",
   "metadata": {
    "papermill": {
     "duration": 0.052091,
     "end_time": "2022-05-10T19:33:49.588638",
     "exception": false,
     "start_time": "2022-05-10T19:33:49.536547",
     "status": "completed"
    },
    "tags": []
   },
   "source": [
    "## Pre-Processing ##\n",
    "\n",
    "### New Variables\n",
    "\n",
    "#### Generate four new variables.\n",
    "\n",
    "- **Amag**    Absolute Magnitude of the Star.\n",
    "- **e_Amag**  Progation error.\n",
    "- **eA/A**    Percent error Amag.\n",
    "- **eP/P**    Percent error.\n",
    "\n",
    "\n",
    "\n"
   ]
  },
  {
   "cell_type": "code",
   "execution_count": 6,
   "id": "d63a632e",
   "metadata": {
    "execution": {
     "iopub.execute_input": "2022-05-10T19:33:49.702267Z",
     "iopub.status.busy": "2022-05-10T19:33:49.701546Z",
     "iopub.status.idle": "2022-05-10T19:33:49.715260Z",
     "shell.execute_reply": "2022-05-10T19:33:49.715823Z",
     "shell.execute_reply.started": "2022-05-10T19:11:40.360852Z"
    },
    "papermill": {
     "duration": 0.07468,
     "end_time": "2022-05-10T19:33:49.716035",
     "exception": false,
     "start_time": "2022-05-10T19:33:49.641355",
     "status": "completed"
    },
    "tags": []
   },
   "outputs": [],
   "source": [
    "# New variables\n",
    "\n",
    "data = dataRaw.copy()\n",
    "data = data[data.Plx != 0]\n",
    "data = data.reset_index(drop=True)\n",
    "\n",
    "data['Amag']   = data['Vmag'] + 5*( np.log10( np.abs( data['Plx'] ) )+ 1 )  # log is ln\n",
    "data['e_Amag'] = 5*data['e_Plx']/(data['Plx']*np.log(10) )   # propagacion de error\n",
    "\n",
    "data['eA/A']   = data['e_Amag']/data['Amag']\n",
    "data['eP/P']   = data['e_Plx']/data['Plx']\n",
    "\n"
   ]
  },
  {
   "cell_type": "markdown",
   "id": "71c57deb",
   "metadata": {
    "papermill": {
     "duration": 0.051638,
     "end_time": "2022-05-10T19:33:49.819475",
     "exception": false,
     "start_time": "2022-05-10T19:33:49.767837",
     "status": "completed"
    },
    "tags": []
   },
   "source": [
    "###  Target \n",
    "\n",
    "The Target `TargetClass ` is give by Classification MK. "
   ]
  },
  {
   "cell_type": "code",
   "execution_count": 7,
   "id": "7e7ac7f0",
   "metadata": {
    "execution": {
     "iopub.execute_input": "2022-05-10T19:33:49.928906Z",
     "iopub.status.busy": "2022-05-10T19:33:49.928195Z",
     "iopub.status.idle": "2022-05-10T19:33:49.947178Z",
     "shell.execute_reply": "2022-05-10T19:33:49.946543Z",
     "shell.execute_reply.started": "2022-05-10T19:11:40.381923Z"
    },
    "papermill": {
     "duration": 0.075092,
     "end_time": "2022-05-10T19:33:49.947334",
     "exception": false,
     "start_time": "2022-05-10T19:33:49.872242",
     "status": "completed"
    },
    "tags": []
   },
   "outputs": [],
   "source": [
    "data['TargetClass'] = data['SpType']\n",
    "\n",
    "data = data.reset_index(drop=True) # reindexar debido al drop\n"
   ]
  },
  {
   "cell_type": "markdown",
   "id": "fbce2e77",
   "metadata": {
    "papermill": {
     "duration": 0.05081,
     "end_time": "2022-05-10T19:33:50.049204",
     "exception": false,
     "start_time": "2022-05-10T19:33:49.998394",
     "status": "completed"
    },
    "tags": []
   },
   "source": [
    "## Target Class: Giants or Dwarfs ##\n",
    "\n",
    "**TargetClass** - Whether the Star is Dwarf (0) or Giant (1)"
   ]
  },
  {
   "cell_type": "code",
   "execution_count": 8,
   "id": "09bb753c",
   "metadata": {
    "execution": {
     "iopub.execute_input": "2022-05-10T19:33:50.160642Z",
     "iopub.status.busy": "2022-05-10T19:33:50.159941Z",
     "iopub.status.idle": "2022-05-10T19:35:55.346387Z",
     "shell.execute_reply": "2022-05-10T19:35:55.345719Z",
     "shell.execute_reply.started": "2022-05-10T19:11:40.406976Z"
    },
    "papermill": {
     "duration": 125.245967,
     "end_time": "2022-05-10T19:35:55.346558",
     "exception": false,
     "start_time": "2022-05-10T19:33:50.100591",
     "status": "completed"
    },
    "tags": []
   },
   "outputs": [],
   "source": [
    "# Procesamiento target, clasificar en Giants and dwarfs\n",
    "for i in range(len(data['TargetClass'])):\n",
    "    itarget= str( data.loc[i,'TargetClass'] )\n",
    "    if 'I' in list(itarget): \n",
    "        data.loc[i,'TargetClass'] = 1   # 1 giant       \n",
    "    elif (\"VII\" or \"VI\") in list( itarget): \n",
    "        data.loc[i,'TargetClass'] = 0 # VII is Dwarf (0)\n",
    "    elif \"V\" in list( itarget): \n",
    "        if ('G' or 'K' or 'M' or 'L' or 'T') in  list(itarget):\n",
    "            data.loc[i,'TargetClass'] = 0\n",
    "        else:\n",
    "            data.loc[i,'TargetClass'] = 9\n",
    "    else: \n",
    "        data.loc[i,'TargetClass'] = 9 # None\n",
    "        "
   ]
  },
  {
   "cell_type": "code",
   "execution_count": 9,
   "id": "26808401",
   "metadata": {
    "execution": {
     "iopub.execute_input": "2022-05-10T19:35:55.495944Z",
     "iopub.status.busy": "2022-05-10T19:35:55.491159Z",
     "iopub.status.idle": "2022-05-10T19:35:55.991828Z",
     "shell.execute_reply": "2022-05-10T19:35:55.991271Z",
     "shell.execute_reply.started": "2022-05-10T19:13:35.372472Z"
    },
    "papermill": {
     "duration": 0.592565,
     "end_time": "2022-05-10T19:35:55.992035",
     "exception": false,
     "start_time": "2022-05-10T19:35:55.399470",
     "status": "completed"
    },
    "tags": []
   },
   "outputs": [
    {
     "data": {
      "text/plain": [
       "<AxesSubplot:xlabel='TargetClass', ylabel='count'>"
      ]
     },
     "execution_count": 9,
     "metadata": {},
     "output_type": "execute_result"
    },
    {
     "data": {
      "image/png": "[encoded data removed]",
      "text/plain": [
       "<Figure size 432x288 with 1 Axes>"
      ]
     },
     "metadata": {
      "needs_background": "light"
     },
     "output_type": "display_data"
    }
   ],
   "source": [
    "sns.countplot(x=\"TargetClass\", data=data )"
   ]
  },
  {
   "cell_type": "code",
   "execution_count": 10,
   "id": "0e493a05",
   "metadata": {
    "execution": {
     "iopub.execute_input": "2022-05-10T19:35:56.111672Z",
     "iopub.status.busy": "2022-05-10T19:35:56.110972Z",
     "iopub.status.idle": "2022-05-10T19:35:56.117363Z",
     "shell.execute_reply": "2022-05-10T19:35:56.117936Z",
     "shell.execute_reply.started": "2022-05-10T19:13:35.892447Z"
    },
    "papermill": {
     "duration": 0.073231,
     "end_time": "2022-05-10T19:35:56.118120",
     "exception": false,
     "start_time": "2022-05-10T19:35:56.044889",
     "status": "completed"
    },
    "tags": []
   },
   "outputs": [
    {
     "data": {
      "text/plain": [
       "9    65279\n",
       "1    26647\n",
       "0     4781\n",
       "Name: TargetClass, dtype: int64"
      ]
     },
     "execution_count": 10,
     "metadata": {},
     "output_type": "execute_result"
    }
   ],
   "source": [
    "data['TargetClass'].value_counts()"
   ]
  },
  {
   "cell_type": "markdown",
   "id": "17977943",
   "metadata": {
    "papermill": {
     "duration": 0.056706,
     "end_time": "2022-05-10T19:35:56.228245",
     "exception": false,
     "start_time": "2022-05-10T19:35:56.171539",
     "status": "completed"
    },
    "tags": []
   },
   "source": [
    "### Selection only Giants or Dwarfs ###\n",
    "\n",
    "Copy and drop number 9.\n"
   ]
  },
  {
   "cell_type": "code",
   "execution_count": 11,
   "id": "07423632",
   "metadata": {
    "execution": {
     "iopub.execute_input": "2022-05-10T19:35:56.340019Z",
     "iopub.status.busy": "2022-05-10T19:35:56.338975Z",
     "iopub.status.idle": "2022-05-10T19:35:56.357377Z",
     "shell.execute_reply": "2022-05-10T19:35:56.357915Z",
     "shell.execute_reply.started": "2022-05-10T19:13:35.916539Z"
    },
    "papermill": {
     "duration": 0.075943,
     "end_time": "2022-05-10T19:35:56.358116",
     "exception": false,
     "start_time": "2022-05-10T19:35:56.282173",
     "status": "completed"
    },
    "tags": []
   },
   "outputs": [],
   "source": [
    "df = data[data.TargetClass != 9 ] # != return  boolean"
   ]
  },
  {
   "cell_type": "markdown",
   "id": "c1bba6f2",
   "metadata": {
    "papermill": {
     "duration": 0.054331,
     "end_time": "2022-05-10T19:35:56.466592",
     "exception": false,
     "start_time": "2022-05-10T19:35:56.412261",
     "status": "completed"
    },
    "tags": []
   },
   "source": [
    "## Balance\n",
    "\n",
    "In this section, we make balance the `dataRAw` based in [Imbalanced Classes](https://elitedatascience.com/imbalanced-classes). The above have goal of equilibrium  target in order  to avoid bias."
   ]
  },
  {
   "cell_type": "code",
   "execution_count": 12,
   "id": "82fee827",
   "metadata": {
    "execution": {
     "iopub.execute_input": "2022-05-10T19:35:56.587172Z",
     "iopub.status.busy": "2022-05-10T19:35:56.586429Z",
     "iopub.status.idle": "2022-05-10T19:35:56.719305Z",
     "shell.execute_reply": "2022-05-10T19:35:56.718418Z",
     "shell.execute_reply.started": "2022-05-10T19:13:35.943926Z"
    },
    "papermill": {
     "duration": 0.198057,
     "end_time": "2022-05-10T19:35:56.719547",
     "exception": false,
     "start_time": "2022-05-10T19:35:56.521490",
     "status": "completed"
    },
    "tags": []
   },
   "outputs": [
    {
     "name": "stdout",
     "output_type": "stream",
     "text": [
      "<class 'pandas.core.frame.DataFrame'>\n",
      "Int64Index: 9562 entries, 27343 to 96675\n",
      "Data columns (total 10 columns):\n",
      " #   Column       Non-Null Count  Dtype  \n",
      "---  ------       --------------  -----  \n",
      " 0   Vmag         9562 non-null   float32\n",
      " 1   Plx          9562 non-null   float32\n",
      " 2   e_Plx        9562 non-null   float32\n",
      " 3   B-V          9562 non-null   float32\n",
      " 4   SpType       9562 non-null   object \n",
      " 5   Amag         9562 non-null   float32\n",
      " 6   e_Amag       9562 non-null   float32\n",
      " 7   eA/A         9562 non-null   float32\n",
      " 8   eP/P         9562 non-null   float32\n",
      " 9   TargetClass  9562 non-null   object \n",
      "dtypes: float32(8), object(2)\n",
      "memory usage: 522.9+ KB\n"
     ]
    }
   ],
   "source": [
    "# dividir set \n",
    "\n",
    "dfGiants = df[df.TargetClass == 1]\n",
    "dfDwarfs = df[df.TargetClass == 0]\n",
    "num_of_giant = dfGiants.shape[0]\n",
    "num_of_dwarf = dfDwarfs.shape[0]\n",
    "\n",
    "from sklearn.utils import resample\n",
    "dfGiantsDownSample = resample(dfGiants, \n",
    "                             replace = False, # sample without replacement\n",
    "                             n_samples = num_of_dwarf,\n",
    "                             random_state =1 \n",
    "                             )\n",
    "dfDownSampled = pd.concat([dfGiantsDownSample , dfDwarfs] )\n",
    "dfDownSampled.info()"
   ]
  },
  {
   "cell_type": "code",
   "execution_count": 13,
   "id": "8f4c3638",
   "metadata": {
    "execution": {
     "iopub.execute_input": "2022-05-10T19:35:56.849936Z",
     "iopub.status.busy": "2022-05-10T19:35:56.849189Z",
     "iopub.status.idle": "2022-05-10T19:35:57.045674Z",
     "shell.execute_reply": "2022-05-10T19:35:57.045100Z",
     "shell.execute_reply.started": "2022-05-10T19:13:36.083661Z"
    },
    "papermill": {
     "duration": 0.268036,
     "end_time": "2022-05-10T19:35:57.045890",
     "exception": false,
     "start_time": "2022-05-10T19:35:56.777854",
     "status": "completed"
    },
    "tags": []
   },
   "outputs": [
    {
     "name": "stdout",
     "output_type": "stream",
     "text": [
      "1    4781\n",
      "0    4781\n",
      "Name: TargetClass, dtype: int64\n"
     ]
    },
    {
     "data": {
      "image/png": "[encoded data removed]",
      "text/plain": [
       "<Figure size 432x288 with 1 Axes>"
      ]
     },
     "metadata": {
      "needs_background": "light"
     },
     "output_type": "display_data"
    }
   ],
   "source": [
    "sns.countplot(x='TargetClass', data=dfDownSampled)\n",
    "print( dfDownSampled['TargetClass'].value_counts())"
   ]
  },
  {
   "cell_type": "code",
   "execution_count": 14,
   "id": "6cd02cc1",
   "metadata": {
    "execution": {
     "iopub.execute_input": "2022-05-10T19:35:57.159354Z",
     "iopub.status.busy": "2022-05-10T19:35:57.157748Z",
     "iopub.status.idle": "2022-05-10T19:35:57.175643Z",
     "shell.execute_reply": "2022-05-10T19:35:57.174706Z",
     "shell.execute_reply.started": "2022-05-10T19:13:36.276332Z"
    },
    "papermill": {
     "duration": 0.075058,
     "end_time": "2022-05-10T19:35:57.175892",
     "exception": false,
     "start_time": "2022-05-10T19:35:57.100834",
     "status": "completed"
    },
    "tags": []
   },
   "outputs": [
    {
     "name": "stdout",
     "output_type": "stream",
     "text": [
      "<class 'pandas.core.frame.DataFrame'>\n",
      "RangeIndex: 9562 entries, 0 to 9561\n",
      "Data columns (total 10 columns):\n",
      " #   Column       Non-Null Count  Dtype  \n",
      "---  ------       --------------  -----  \n",
      " 0   Vmag         9562 non-null   float32\n",
      " 1   Plx          9562 non-null   float32\n",
      " 2   e_Plx        9562 non-null   float32\n",
      " 3   B-V          9562 non-null   float32\n",
      " 4   SpType       9562 non-null   object \n",
      " 5   Amag         9562 non-null   float32\n",
      " 6   e_Amag       9562 non-null   float32\n",
      " 7   eA/A         9562 non-null   float32\n",
      " 8   eP/P         9562 non-null   float32\n",
      " 9   TargetClass  9562 non-null   object \n",
      "dtypes: float32(8), object(2)\n",
      "memory usage: 448.3+ KB\n"
     ]
    }
   ],
   "source": [
    "dfBalanced= dfDownSampled.reset_index(drop=True)\n",
    "dfBalanced.info()"
   ]
  },
  {
   "cell_type": "code",
   "execution_count": 15,
   "id": "a9c6d19b",
   "metadata": {
    "execution": {
     "iopub.execute_input": "2022-05-10T19:35:57.323376Z",
     "iopub.status.busy": "2022-05-10T19:35:57.322432Z",
     "iopub.status.idle": "2022-05-10T19:35:57.340895Z",
     "shell.execute_reply": "2022-05-10T19:35:57.341758Z",
     "shell.execute_reply.started": "2022-05-10T19:13:36.295299Z"
    },
    "papermill": {
     "duration": 0.102027,
     "end_time": "2022-05-10T19:35:57.342195",
     "exception": false,
     "start_time": "2022-05-10T19:35:57.240168",
     "status": "completed"
    },
    "tags": []
   },
   "outputs": [
    {
     "name": "stdout",
     "output_type": "stream",
     "text": [
      "<class 'pandas.core.frame.DataFrame'>\n",
      "RangeIndex: 9562 entries, 0 to 9561\n",
      "Data columns (total 10 columns):\n",
      " #   Column       Non-Null Count  Dtype  \n",
      "---  ------       --------------  -----  \n",
      " 0   Vmag         9562 non-null   float32\n",
      " 1   Plx          9562 non-null   float32\n",
      " 2   e_Plx        9562 non-null   float32\n",
      " 3   B-V          9562 non-null   float32\n",
      " 4   SpType       9562 non-null   object \n",
      " 5   Amag         9562 non-null   float32\n",
      " 6   e_Amag       9562 non-null   float32\n",
      " 7   eA/A         9562 non-null   float32\n",
      " 8   eP/P         9562 non-null   float32\n",
      " 9   TargetClass  9562 non-null   object \n",
      "dtypes: float32(8), object(2)\n",
      "memory usage: 448.3+ KB\n"
     ]
    }
   ],
   "source": [
    "dataStar = dfBalanced.sample(frac=1).reset_index(drop=True) # shuffle\n",
    "dfCopyStar = dataStar.copy()\n",
    "\n",
    "dataStar.info(20)"
   ]
  },
  {
   "cell_type": "markdown",
   "id": "b55075a0",
   "metadata": {
    "papermill": {
     "duration": 0.055713,
     "end_time": "2022-05-10T19:35:57.454095",
     "exception": false,
     "start_time": "2022-05-10T19:35:57.398382",
     "status": "completed"
    },
    "tags": []
   },
   "source": [
    "# **Visualization** ##"
   ]
  },
  {
   "cell_type": "markdown",
   "id": "ebaf1a86",
   "metadata": {
    "papermill": {
     "duration": 0.055335,
     "end_time": "2022-05-10T19:35:57.565530",
     "exception": false,
     "start_time": "2022-05-10T19:35:57.510195",
     "status": "completed"
    },
    "tags": []
   },
   "source": [
    "### Histogram Graph\n",
    "\n",
    "Here, we have one Histogram per each variable (columns), in this way,  we see the distribution of these variable."
   ]
  },
  {
   "cell_type": "code",
   "execution_count": 16,
   "id": "4bce672d",
   "metadata": {
    "execution": {
     "iopub.execute_input": "2022-05-10T19:35:57.680929Z",
     "iopub.status.busy": "2022-05-10T19:35:57.680218Z",
     "iopub.status.idle": "2022-05-10T19:35:57.687934Z",
     "shell.execute_reply": "2022-05-10T19:35:57.688467Z",
     "shell.execute_reply.started": "2022-05-10T19:13:36.315010Z"
    },
    "papermill": {
     "duration": 0.067171,
     "end_time": "2022-05-10T19:35:57.688664",
     "exception": false,
     "start_time": "2022-05-10T19:35:57.621493",
     "status": "completed"
    },
    "tags": []
   },
   "outputs": [],
   "source": [
    "%matplotlib inline\n",
    "\n",
    "dataStar['TargetClass'] = pd.to_numeric(dataStar['TargetClass'] , downcast='float' , errors='coerce')\n"
   ]
  },
  {
   "cell_type": "code",
   "execution_count": 17,
   "id": "ba7bb57c",
   "metadata": {
    "execution": {
     "iopub.execute_input": "2022-05-10T19:35:57.803845Z",
     "iopub.status.busy": "2022-05-10T19:35:57.803140Z",
     "iopub.status.idle": "2022-05-10T19:35:57.819954Z",
     "shell.execute_reply": "2022-05-10T19:35:57.820455Z",
     "shell.execute_reply.started": "2022-05-10T19:13:36.324460Z"
    },
    "papermill": {
     "duration": 0.076213,
     "end_time": "2022-05-10T19:35:57.820665",
     "exception": false,
     "start_time": "2022-05-10T19:35:57.744452",
     "status": "completed"
    },
    "tags": []
   },
   "outputs": [
    {
     "name": "stdout",
     "output_type": "stream",
     "text": [
      "<class 'pandas.core.frame.DataFrame'>\n",
      "Int64Index: 9562 entries, 0 to 9561\n",
      "Data columns (total 10 columns):\n",
      " #   Column       Non-Null Count  Dtype  \n",
      "---  ------       --------------  -----  \n",
      " 0   Vmag         9562 non-null   float32\n",
      " 1   Plx          9562 non-null   float32\n",
      " 2   e_Plx        9562 non-null   float32\n",
      " 3   B-V          9562 non-null   float32\n",
      " 4   SpType       9562 non-null   object \n",
      " 5   Amag         9562 non-null   float32\n",
      " 6   e_Amag       9562 non-null   float32\n",
      " 7   eA/A         9562 non-null   float32\n",
      " 8   eP/P         9562 non-null   float32\n",
      " 9   TargetClass  9562 non-null   float32\n",
      "dtypes: float32(9), object(1)\n",
      "memory usage: 485.6+ KB\n"
     ]
    }
   ],
   "source": [
    "dataStar.dropna(inplace=True)\n",
    "dataStar.info()"
   ]
  },
  {
   "cell_type": "code",
   "execution_count": 18,
   "id": "ae66edbc",
   "metadata": {
    "execution": {
     "iopub.execute_input": "2022-05-10T19:35:57.934774Z",
     "iopub.status.busy": "2022-05-10T19:35:57.934136Z",
     "iopub.status.idle": "2022-05-10T19:36:01.046052Z",
     "shell.execute_reply": "2022-05-10T19:36:01.045331Z",
     "shell.execute_reply.started": "2022-05-10T19:13:36.351488Z"
    },
    "papermill": {
     "duration": 3.170391,
     "end_time": "2022-05-10T19:36:01.046326",
     "exception": false,
     "start_time": "2022-05-10T19:35:57.875935",
     "status": "completed"
    },
    "tags": []
   },
   "outputs": [
    {
     "data": {
      "text/plain": [
       "array([[<AxesSubplot:title={'center':'Vmag'}>,\n",
       "        <AxesSubplot:title={'center':'Plx'}>,\n",
       "        <AxesSubplot:title={'center':'e_Plx'}>],\n",
       "       [<AxesSubplot:title={'center':'B-V'}>,\n",
       "        <AxesSubplot:title={'center':'Amag'}>,\n",
       "        <AxesSubplot:title={'center':'e_Amag'}>],\n",
       "       [<AxesSubplot:title={'center':'eA/A'}>,\n",
       "        <AxesSubplot:title={'center':'eP/P'}>,\n",
       "        <AxesSubplot:title={'center':'TargetClass'}>]], dtype=object)"
      ]
     },
     "execution_count": 18,
     "metadata": {},
     "output_type": "execute_result"
    },
    {
     "data": {
      "image/png": "[encoded data removed]",
      "text/plain": [
       "<Figure size 1440x1080 with 9 Axes>"
      ]
     },
     "metadata": {
      "needs_background": "light"
     },
     "output_type": "display_data"
    }
   ],
   "source": [
    "dataStar.hist(bins=50 , figsize=(20,15) ) # histogram"
   ]
  },
  {
   "cell_type": "markdown",
   "id": "a3845fda",
   "metadata": {
    "papermill": {
     "duration": 0.060969,
     "end_time": "2022-05-10T19:36:01.167335",
     "exception": false,
     "start_time": "2022-05-10T19:36:01.106366",
     "status": "completed"
    },
    "tags": []
   },
   "source": [
    "### Scatter Graph\n",
    "\n",
    "The next  two graphs show relationship among quantities most relevant for determinar Categorization Star."
   ]
  },
  {
   "cell_type": "code",
   "execution_count": 19,
   "id": "7eeecdfa",
   "metadata": {
    "execution": {
     "iopub.execute_input": "2022-05-10T19:36:01.294366Z",
     "iopub.status.busy": "2022-05-10T19:36:01.293189Z",
     "iopub.status.idle": "2022-05-10T19:36:01.846522Z",
     "shell.execute_reply": "2022-05-10T19:36:01.847094Z",
     "shell.execute_reply.started": "2022-05-10T19:13:38.946491Z"
    },
    "papermill": {
     "duration": 0.621599,
     "end_time": "2022-05-10T19:36:01.847281",
     "exception": false,
     "start_time": "2022-05-10T19:36:01.225682",
     "status": "completed"
    },
    "tags": []
   },
   "outputs": [
    {
     "data": {
      "image/png": "[encoded data removed]",
      "text/plain": [
       "<Figure size 432x288 with 1 Axes>"
      ]
     },
     "metadata": {
      "needs_background": "light"
     },
     "output_type": "display_data"
    }
   ],
   "source": [
    "#sns.set()\n",
    "colors = {1:'red', 0:'yellow'}\n",
    "dataStar.plot.scatter( x=\"Plx\" ,y=\"Amag\" ,  c=dataStar['TargetClass'].map(colors) ,s=5); # problem with TargetClass\n",
    "#plt.xlabel(\"Plx\")\n",
    "#plt.figure()\n",
    "#plt.show()"
   ]
  },
  {
   "cell_type": "code",
   "execution_count": 20,
   "id": "7955ca84",
   "metadata": {
    "execution": {
     "iopub.execute_input": "2022-05-10T19:36:01.971951Z",
     "iopub.status.busy": "2022-05-10T19:36:01.970805Z",
     "iopub.status.idle": "2022-05-10T19:36:02.485996Z",
     "shell.execute_reply": "2022-05-10T19:36:02.486516Z",
     "shell.execute_reply.started": "2022-05-10T19:13:39.468527Z"
    },
    "papermill": {
     "duration": 0.578997,
     "end_time": "2022-05-10T19:36:02.486712",
     "exception": false,
     "start_time": "2022-05-10T19:36:01.907715",
     "status": "completed"
    },
    "tags": []
   },
   "outputs": [
    {
     "data": {
      "image/png": "[encoded data removed]",
      "text/plain": [
       "<Figure size 432x288 with 1 Axes>"
      ]
     },
     "metadata": {},
     "output_type": "display_data"
    },
    {
     "data": {
      "text/plain": [
       "<Figure size 432x288 with 0 Axes>"
      ]
     },
     "metadata": {},
     "output_type": "display_data"
    }
   ],
   "source": [
    "%matplotlib inline\n",
    "sns.set()\n",
    "dataStar.plot.scatter( x=\"B-V\" ,y=\"Amag\",cmap='viridis' ,  c=dataStar['TargetClass'].map(colors) ,s=5); # problem with TargetClass\n",
    "plt.xlabel(\"B-V\")\n",
    "plt.figure()\n",
    "plt.show()\n",
    "\n"
   ]
  },
  {
   "cell_type": "markdown",
   "id": "e2192153",
   "metadata": {
    "execution": {
     "iopub.execute_input": "2022-05-07T16:30:41.154276Z",
     "iopub.status.busy": "2022-05-07T16:30:41.154066Z",
     "iopub.status.idle": "2022-05-07T16:30:44.14958Z",
     "shell.execute_reply": "2022-05-07T16:30:44.148602Z",
     "shell.execute_reply.started": "2022-05-07T16:30:41.154249Z"
    },
    "papermill": {
     "duration": 0.062778,
     "end_time": "2022-05-10T19:36:02.610827",
     "exception": false,
     "start_time": "2022-05-10T19:36:02.548049",
     "status": "completed"
    },
    "tags": []
   },
   "source": [
    "### Scatter Attributes\n",
    "\n",
    "In this vizualization we see the dispersion for each variable and target with respect a other variable."
   ]
  },
  {
   "cell_type": "code",
   "execution_count": 21,
   "id": "42962641",
   "metadata": {
    "execution": {
     "iopub.execute_input": "2022-05-10T19:36:02.742180Z",
     "iopub.status.busy": "2022-05-10T19:36:02.740745Z",
     "iopub.status.idle": "2022-05-10T19:36:06.747652Z",
     "shell.execute_reply": "2022-05-10T19:36:06.748222Z",
     "shell.execute_reply.started": "2022-05-10T19:13:39.944767Z"
    },
    "papermill": {
     "duration": 4.074683,
     "end_time": "2022-05-10T19:36:06.748404",
     "exception": false,
     "start_time": "2022-05-10T19:36:02.673721",
     "status": "completed"
    },
    "tags": []
   },
   "outputs": [
    {
     "data": {
      "text/plain": [
       "array([[<AxesSubplot:xlabel='TargetClass', ylabel='TargetClass'>,\n",
       "        <AxesSubplot:xlabel='Amag', ylabel='TargetClass'>,\n",
       "        <AxesSubplot:xlabel='Vmag', ylabel='TargetClass'>,\n",
       "        <AxesSubplot:xlabel='Plx', ylabel='TargetClass'>,\n",
       "        <AxesSubplot:xlabel='B-V', ylabel='TargetClass'>],\n",
       "       [<AxesSubplot:xlabel='TargetClass', ylabel='Amag'>,\n",
       "        <AxesSubplot:xlabel='Amag', ylabel='Amag'>,\n",
       "        <AxesSubplot:xlabel='Vmag', ylabel='Amag'>,\n",
       "        <AxesSubplot:xlabel='Plx', ylabel='Amag'>,\n",
       "        <AxesSubplot:xlabel='B-V', ylabel='Amag'>],\n",
       "       [<AxesSubplot:xlabel='TargetClass', ylabel='Vmag'>,\n",
       "        <AxesSubplot:xlabel='Amag', ylabel='Vmag'>,\n",
       "        <AxesSubplot:xlabel='Vmag', ylabel='Vmag'>,\n",
       "        <AxesSubplot:xlabel='Plx', ylabel='Vmag'>,\n",
       "        <AxesSubplot:xlabel='B-V', ylabel='Vmag'>],\n",
       "       [<AxesSubplot:xlabel='TargetClass', ylabel='Plx'>,\n",
       "        <AxesSubplot:xlabel='Amag', ylabel='Plx'>,\n",
       "        <AxesSubplot:xlabel='Vmag', ylabel='Plx'>,\n",
       "        <AxesSubplot:xlabel='Plx', ylabel='Plx'>,\n",
       "        <AxesSubplot:xlabel='B-V', ylabel='Plx'>],\n",
       "       [<AxesSubplot:xlabel='TargetClass', ylabel='B-V'>,\n",
       "        <AxesSubplot:xlabel='Amag', ylabel='B-V'>,\n",
       "        <AxesSubplot:xlabel='Vmag', ylabel='B-V'>,\n",
       "        <AxesSubplot:xlabel='Plx', ylabel='B-V'>,\n",
       "        <AxesSubplot:xlabel='B-V', ylabel='B-V'>]], dtype=object)"
      ]
     },
     "execution_count": 21,
     "metadata": {},
     "output_type": "execute_result"
    },
    {
     "data": {
      "image/png": "[encoded data removed]",
      "text/plain": [
       "<Figure size 864x576 with 25 Axes>"
      ]
     },
     "metadata": {},
     "output_type": "display_data"
    }
   ],
   "source": [
    "from pandas.plotting import scatter_matrix\n",
    "\n",
    "attributes = ['TargetClass','Amag' , 'Vmag' , 'Plx' , 'B-V']\n",
    "\n",
    "# convert a numerical Targetclass \n",
    "dataStar['TargetClass'] = pd.to_numeric(dataStar['TargetClass'] , downcast='float' , errors='coerce')\n",
    "\n",
    "scatter_matrix(dataStar[attributes] , figsize=(12, 8))\n"
   ]
  },
  {
   "cell_type": "markdown",
   "id": "282380bf",
   "metadata": {
    "papermill": {
     "duration": 0.068337,
     "end_time": "2022-05-10T19:36:06.881097",
     "exception": false,
     "start_time": "2022-05-10T19:36:06.812760",
     "status": "completed"
    },
    "tags": []
   },
   "source": [
    "## Correlation Linear ##"
   ]
  },
  {
   "cell_type": "code",
   "execution_count": 22,
   "id": "726e791e",
   "metadata": {
    "execution": {
     "iopub.execute_input": "2022-05-10T19:36:07.017635Z",
     "iopub.status.busy": "2022-05-10T19:36:07.016512Z",
     "iopub.status.idle": "2022-05-10T19:36:07.028521Z",
     "shell.execute_reply": "2022-05-10T19:36:07.029186Z",
     "shell.execute_reply.started": "2022-05-10T19:13:43.567431Z"
    },
    "papermill": {
     "duration": 0.081898,
     "end_time": "2022-05-10T19:36:07.029371",
     "exception": false,
     "start_time": "2022-05-10T19:36:06.947473",
     "status": "completed"
    },
    "tags": []
   },
   "outputs": [
    {
     "data": {
      "text/plain": [
       "TargetClass    1.000000\n",
       "B-V            0.302299\n",
       "eP/P           0.036399\n",
       "e_Amag         0.036399\n",
       "eA/A           0.023408\n",
       "e_Plx         -0.242699\n",
       "Plx           -0.365910\n",
       "Vmag          -0.381619\n",
       "Amag          -0.735124\n",
       "Name: TargetClass, dtype: float64"
      ]
     },
     "execution_count": 22,
     "metadata": {},
     "output_type": "execute_result"
    }
   ],
   "source": [
    "corr_matrix = dataStar.corr()\n",
    "corr_matrix[\"TargetClass\"].sort_values(ascending=False)"
   ]
  },
  {
   "cell_type": "markdown",
   "id": "91afda67",
   "metadata": {
    "papermill": {
     "duration": 0.064086,
     "end_time": "2022-05-10T19:36:07.157975",
     "exception": false,
     "start_time": "2022-05-10T19:36:07.093889",
     "status": "completed"
    },
    "tags": []
   },
   "source": [
    "## Data Cleaning ##"
   ]
  },
  {
   "cell_type": "code",
   "execution_count": 23,
   "id": "4b625244",
   "metadata": {
    "execution": {
     "iopub.execute_input": "2022-05-10T19:36:07.295425Z",
     "iopub.status.busy": "2022-05-10T19:36:07.294355Z",
     "iopub.status.idle": "2022-05-10T19:36:07.299761Z",
     "shell.execute_reply": "2022-05-10T19:36:07.300394Z",
     "shell.execute_reply.started": "2022-05-10T19:13:43.580575Z"
    },
    "papermill": {
     "duration": 0.075187,
     "end_time": "2022-05-10T19:36:07.300581",
     "exception": false,
     "start_time": "2022-05-10T19:36:07.225394",
     "status": "completed"
    },
    "tags": []
   },
   "outputs": [],
   "source": [
    "#dataStar = dataStar.drop(['Unnamed: 0'], axis =1)\n",
    "dataStar = dataStar.drop(['SpType'], axis =1)\n",
    "\n"
   ]
  },
  {
   "cell_type": "markdown",
   "id": "7247d62a",
   "metadata": {
    "papermill": {
     "duration": 0.065442,
     "end_time": "2022-05-10T19:36:07.431036",
     "exception": false,
     "start_time": "2022-05-10T19:36:07.365594",
     "status": "completed"
    },
    "tags": []
   },
   "source": [
    "# **Data Processing** #"
   ]
  },
  {
   "cell_type": "code",
   "execution_count": 24,
   "id": "70f03018",
   "metadata": {
    "execution": {
     "iopub.execute_input": "2022-05-10T19:36:07.566996Z",
     "iopub.status.busy": "2022-05-10T19:36:07.565903Z",
     "iopub.status.idle": "2022-05-10T19:36:07.579359Z",
     "shell.execute_reply": "2022-05-10T19:36:07.580030Z",
     "shell.execute_reply.started": "2022-05-10T19:13:43.588027Z"
    },
    "papermill": {
     "duration": 0.083568,
     "end_time": "2022-05-10T19:36:07.580225",
     "exception": false,
     "start_time": "2022-05-10T19:36:07.496657",
     "status": "completed"
    },
    "tags": []
   },
   "outputs": [
    {
     "name": "stdout",
     "output_type": "stream",
     "text": [
      "<class 'pandas.core.frame.DataFrame'>\n",
      "Int64Index: 9562 entries, 0 to 9561\n",
      "Data columns (total 9 columns):\n",
      " #   Column       Non-Null Count  Dtype  \n",
      "---  ------       --------------  -----  \n",
      " 0   Vmag         9562 non-null   float32\n",
      " 1   Plx          9562 non-null   float32\n",
      " 2   e_Plx        9562 non-null   float32\n",
      " 3   B-V          9562 non-null   float32\n",
      " 4   Amag         9562 non-null   float32\n",
      " 5   e_Amag       9562 non-null   float32\n",
      " 6   eA/A         9562 non-null   float32\n",
      " 7   eP/P         9562 non-null   float32\n",
      " 8   TargetClass  9562 non-null   float32\n",
      "dtypes: float32(9)\n",
      "memory usage: 410.9 KB\n"
     ]
    }
   ],
   "source": [
    "dataStar.info()"
   ]
  },
  {
   "cell_type": "markdown",
   "id": "383bd3b0",
   "metadata": {
    "papermill": {
     "duration": 0.064035,
     "end_time": "2022-05-10T19:36:07.708605",
     "exception": false,
     "start_time": "2022-05-10T19:36:07.644570",
     "status": "completed"
    },
    "tags": []
   },
   "source": [
    "### Train and test Set ###\n",
    "\n",
    "The data is split two set, Train and test, in one  proportional of 80% and 20%, respectively."
   ]
  },
  {
   "cell_type": "code",
   "execution_count": 25,
   "id": "490e1ec4",
   "metadata": {
    "execution": {
     "iopub.execute_input": "2022-05-10T19:36:07.842092Z",
     "iopub.status.busy": "2022-05-10T19:36:07.840928Z",
     "iopub.status.idle": "2022-05-10T19:36:07.929589Z",
     "shell.execute_reply": "2022-05-10T19:36:07.928824Z",
     "shell.execute_reply.started": "2022-05-10T19:13:43.609122Z"
    },
    "papermill": {
     "duration": 0.156685,
     "end_time": "2022-05-10T19:36:07.929748",
     "exception": false,
     "start_time": "2022-05-10T19:36:07.773063",
     "status": "completed"
    },
    "tags": []
   },
   "outputs": [],
   "source": [
    "from sklearn.model_selection import train_test_split\n",
    "\n",
    "\n",
    "train , test = train_test_split(dataStar , test_size = 0.2, random_state = 42 )\n",
    "train = train.reset_index(drop=True)\n",
    "test = test.reset_index(drop=True)"
   ]
  },
  {
   "cell_type": "code",
   "execution_count": 26,
   "id": "be702f6c",
   "metadata": {
    "execution": {
     "iopub.execute_input": "2022-05-10T19:36:08.064219Z",
     "iopub.status.busy": "2022-05-10T19:36:08.063113Z",
     "iopub.status.idle": "2022-05-10T19:36:08.068224Z",
     "shell.execute_reply": "2022-05-10T19:36:08.068803Z",
     "shell.execute_reply.started": "2022-05-10T19:13:43.700937Z"
    },
    "papermill": {
     "duration": 0.074284,
     "end_time": "2022-05-10T19:36:08.069020",
     "exception": false,
     "start_time": "2022-05-10T19:36:07.994736",
     "status": "completed"
    },
    "tags": []
   },
   "outputs": [],
   "source": [
    "## Stratified ##\n",
    "#from sklearn.model_selection import StratifiedShuffleSplit\n",
    "#split = StratifiedShuffleSplit(n_splits=1, test_size=0.2, random_state=42)\n",
    "#for train_index, test_index in split.split(data, data[\"variableStratificada\"]):\n",
    "#strat_train_set = housing.loc[train_index]\n",
    "#strat_test_set = housing.loc[test_index]\n",
    "\n",
    "#from  sklearn.impute import SimpleImputer\n",
    "#imputer = SimpleImputer(strategy='median')\n",
    "\n",
    "#from  sklearn.preprocessing import OneHotEncoder\n",
    "#catEncoder = OneHotEncoder()\n",
    "\n",
    "## numerical ##\n",
    "#from  sklearn.pipeline import Pipeline\n",
    "#from  sklearn.preprocessing import StandardScaler\n",
    "#numerical_pipeline = Pipeline([('imputer', SimpleImputer(strategy=\"median\")),('attribs_adder', CombinedAttributesAdder()),])\n",
    "# new_variable_transformed_numerical = num_pipeline.fit_transform(varible_numerica)\n",
    "\n",
    "## numerical and categorial ##\n",
    "#from sklearn import ColumnTransformer\n",
    "#numerical_attribs = list(numerical_columns)\n",
    "#categorical_attribs = list(categorial_columns)\n",
    "#full_pipeline = ColumnTransformer([(\"num\", numerical_pipeline, numerical_attribs),(\"cat\", OneHotEncoder(), categorical_attribs),])\n",
    "#dataTotal_prepared = full_pipeline.fit_transform(dataTotal) "
   ]
  },
  {
   "cell_type": "markdown",
   "id": "809afdcf",
   "metadata": {
    "papermill": {
     "duration": 0.06506,
     "end_time": "2022-05-10T19:36:08.199087",
     "exception": false,
     "start_time": "2022-05-10T19:36:08.134027",
     "status": "completed"
    },
    "tags": []
   },
   "source": [
    "## Target ## \n",
    "\n",
    "The Target corresponds to type the Star, be it Giant(1) or Dwarf(0)."
   ]
  },
  {
   "cell_type": "code",
   "execution_count": 27,
   "id": "d4be9b60",
   "metadata": {
    "execution": {
     "iopub.execute_input": "2022-05-10T19:36:08.361137Z",
     "iopub.status.busy": "2022-05-10T19:36:08.360383Z",
     "iopub.status.idle": "2022-05-10T19:36:08.378134Z",
     "shell.execute_reply": "2022-05-10T19:36:08.377198Z",
     "shell.execute_reply.started": "2022-05-10T19:13:43.708831Z"
    },
    "papermill": {
     "duration": 0.093938,
     "end_time": "2022-05-10T19:36:08.378391",
     "exception": false,
     "start_time": "2022-05-10T19:36:08.284453",
     "status": "completed"
    },
    "tags": []
   },
   "outputs": [
    {
     "name": "stdout",
     "output_type": "stream",
     "text": [
      "<class 'pandas.core.frame.DataFrame'>\n",
      "RangeIndex: 7649 entries, 0 to 7648\n",
      "Data columns (total 8 columns):\n",
      " #   Column  Non-Null Count  Dtype  \n",
      "---  ------  --------------  -----  \n",
      " 0   Vmag    7649 non-null   float32\n",
      " 1   Plx     7649 non-null   float32\n",
      " 2   e_Plx   7649 non-null   float32\n",
      " 3   B-V     7649 non-null   float32\n",
      " 4   Amag    7649 non-null   float32\n",
      " 5   e_Amag  7649 non-null   float32\n",
      " 6   eA/A    7649 non-null   float32\n",
      " 7   eP/P    7649 non-null   float32\n",
      "dtypes: float32(8)\n",
      "memory usage: 239.2 KB\n"
     ]
    }
   ],
   "source": [
    "trainX = train.drop('TargetClass', axis=1)\n",
    "trainY = train['TargetClass'].copy()\n",
    "\n",
    "testX = test.drop('TargetClass', axis=1)\n",
    "testY = test['TargetClass'].copy()\n",
    "trainX.info()"
   ]
  },
  {
   "cell_type": "markdown",
   "id": "1d7659f3",
   "metadata": {
    "papermill": {
     "duration": 0.064571,
     "end_time": "2022-05-10T19:36:08.509042",
     "exception": false,
     "start_time": "2022-05-10T19:36:08.444471",
     "status": "completed"
    },
    "tags": []
   },
   "source": [
    "# Featuring Engineering "
   ]
  },
  {
   "cell_type": "markdown",
   "id": "92018a46",
   "metadata": {
    "papermill": {
     "duration": 0.065113,
     "end_time": "2022-05-10T19:36:08.640568",
     "exception": false,
     "start_time": "2022-05-10T19:36:08.575455",
     "status": "completed"
    },
    "tags": []
   },
   "source": [
    "##  Pipeline and Featuring Scaling ##\n",
    "\n",
    "For the  Featuring Scaling, we was used `StandardScaler`that find to get a unit variance on each  the data distribution."
   ]
  },
  {
   "cell_type": "code",
   "execution_count": 28,
   "id": "0c3aa9a1",
   "metadata": {
    "execution": {
     "iopub.execute_input": "2022-05-10T19:36:08.779319Z",
     "iopub.status.busy": "2022-05-10T19:36:08.778574Z",
     "iopub.status.idle": "2022-05-10T19:36:08.953462Z",
     "shell.execute_reply": "2022-05-10T19:36:08.954067Z",
     "shell.execute_reply.started": "2022-05-10T19:13:43.733155Z"
    },
    "papermill": {
     "duration": 0.24738,
     "end_time": "2022-05-10T19:36:08.954274",
     "exception": false,
     "start_time": "2022-05-10T19:36:08.706894",
     "status": "completed"
    },
    "tags": []
   },
   "outputs": [
    {
     "name": "stdout",
     "output_type": "stream",
     "text": [
      "Done\n"
     ]
    }
   ],
   "source": [
    "from  sklearn.impute import SimpleImputer\n",
    "from  sklearn.preprocessing import OneHotEncoder\n",
    "\n",
    "from  sklearn.pipeline import Pipeline\n",
    "from  sklearn.preprocessing import StandardScaler\n",
    "\n",
    "numerical_pipeline = Pipeline([('imputer', SimpleImputer(strategy=\"median\")),\n",
    "                              ('std_scaler', StandardScaler())] )\n",
    "\n",
    "from sklearn.compose import ColumnTransformer\n",
    "\n",
    "num_attribs = list(trainX)\n",
    "#cat_attribs = [\"ocean_proximity\"] ---generar lista de attribus catecorial---\n",
    "full_pipeline = ColumnTransformer([(\"num\", numerical_pipeline, num_attribs),\n",
    "#                                   (\"cat\", OneHotEncoder(), cat_attribs),\n",
    "                                  ])\n",
    "\n",
    "Xtrain = full_pipeline.fit_transform(trainX)  # array\n",
    "\n",
    "print('Done')"
   ]
  },
  {
   "cell_type": "markdown",
   "id": "ba239f1d",
   "metadata": {
    "papermill": {
     "duration": 0.065881,
     "end_time": "2022-05-10T19:36:09.087649",
     "exception": false,
     "start_time": "2022-05-10T19:36:09.021768",
     "status": "completed"
    },
    "tags": []
   },
   "source": [
    " # **MODEL** # \n",
    "\n",
    "The applied classification models are:\n",
    "\n",
    "- Logistic Regression \n",
    "- Random Forest Classifier\n",
    "- Stochastic Gradient Descent"
   ]
  },
  {
   "cell_type": "code",
   "execution_count": 29,
   "id": "a7543d04",
   "metadata": {
    "execution": {
     "iopub.execute_input": "2022-05-10T19:36:09.222825Z",
     "iopub.status.busy": "2022-05-10T19:36:09.222140Z",
     "iopub.status.idle": "2022-05-10T19:36:09.282287Z",
     "shell.execute_reply": "2022-05-10T19:36:09.281601Z",
     "shell.execute_reply.started": "2022-05-10T19:13:43.926261Z"
    },
    "papermill": {
     "duration": 0.128738,
     "end_time": "2022-05-10T19:36:09.282459",
     "exception": false,
     "start_time": "2022-05-10T19:36:09.153721",
     "status": "completed"
    },
    "tags": []
   },
   "outputs": [],
   "source": [
    "# Models ==> ['logisRegre' , 'SVM'   , 'SGDClf' ,  'randomForestClassifier' , 'navieBayes']\n",
    "\n",
    "# Classifier\n",
    "from sklearn.linear_model import SGDClassifier\n",
    "from sklearn.linear_model import LogisticRegression\n",
    "from sklearn.ensemble import RandomForestClassifier\n",
    "from sklearn.svm import LinearSVC\n"
   ]
  },
  {
   "cell_type": "code",
   "execution_count": 30,
   "id": "68e750ba",
   "metadata": {
    "execution": {
     "iopub.execute_input": "2022-05-10T19:36:09.421440Z",
     "iopub.status.busy": "2022-05-10T19:36:09.420733Z",
     "iopub.status.idle": "2022-05-10T19:36:09.447943Z",
     "shell.execute_reply": "2022-05-10T19:36:09.448558Z",
     "shell.execute_reply.started": "2022-05-10T19:13:43.992986Z"
    },
    "papermill": {
     "duration": 0.09875,
     "end_time": "2022-05-10T19:36:09.448765",
     "exception": false,
     "start_time": "2022-05-10T19:36:09.350015",
     "status": "completed"
    },
    "tags": []
   },
   "outputs": [],
   "source": [
    "\n",
    "SGDClf = SGDClassifier(random_state=42)\n",
    "SGDClf.fit(Xtrain, trainY) # fit equal training\n",
    "\n",
    "LRClf = LogisticRegression(random_state=0)\n",
    "RFClf = RandomForestClassifier(random_state=0)\n",
    "SVClf = LinearSVC(random_state=0)\n",
    "\n",
    "\n",
    "#SGDClf.fit(Xtrain, trainY)"
   ]
  },
  {
   "cell_type": "markdown",
   "id": "f80b5b19",
   "metadata": {
    "papermill": {
     "duration": 0.065865,
     "end_time": "2022-05-10T19:36:09.582278",
     "exception": false,
     "start_time": "2022-05-10T19:36:09.516413",
     "status": "completed"
    },
    "tags": []
   },
   "source": [
    "## Cross-Validation ##\n",
    "\n",
    "In the order to optimize,  we created a function `compareModels` that compare the different models apply cross-validation. The scoring choose is negative mean squared error. "
   ]
  },
  {
   "cell_type": "code",
   "execution_count": 31,
   "id": "53add1cc",
   "metadata": {
    "execution": {
     "iopub.execute_input": "2022-05-10T19:36:09.719021Z",
     "iopub.status.busy": "2022-05-10T19:36:09.717909Z",
     "iopub.status.idle": "2022-05-10T19:36:17.154416Z",
     "shell.execute_reply": "2022-05-10T19:36:17.155023Z",
     "shell.execute_reply.started": "2022-05-10T19:13:44.027979Z"
    },
    "papermill": {
     "duration": 7.506574,
     "end_time": "2022-05-10T19:36:17.155220",
     "exception": false,
     "start_time": "2022-05-10T19:36:09.648646",
     "status": "completed"
    },
    "tags": []
   },
   "outputs": [
    {
     "name": "stdout",
     "output_type": "stream",
     "text": [
      "{0.31339784569615586: SGDClassifier(random_state=42), 0.2985239250286879: LogisticRegression(random_state=0), 0.24949708558916875: RandomForestClassifier(random_state=0)}\n",
      "\n",
      "\n",
      "Best model: RandomForestClassifier(random_state=0)\n"
     ]
    }
   ],
   "source": [
    "from sklearn.model_selection import cross_val_score\n",
    "\n",
    "# automatizar entre diversos modelos de la misma categoria\n",
    "def compareModels(models, x, y, numCV, scoringT=\"neg_mean_squared_error\"):\n",
    "    modelsCV = dict()\n",
    "    for mod in models:\n",
    "        scores = cross_val_score(mod, x, y, scoring = scoringT, cv=numCV)\n",
    "        meanScore = np.sqrt(-scores).mean()\n",
    "        modelsCV[meanScore] = mod\n",
    "    \n",
    "    val=min(modelsCV)\n",
    "    bestModel = modelsCV[val]\n",
    "    return modelsCV,bestModel\n",
    "    \n",
    "result, model =compareModels([SGDClf , LRClf, RFClf] , Xtrain , trainY , 6)\n",
    "print(result); print('\\n'); print('Best model:', model); "
   ]
  },
  {
   "cell_type": "code",
   "execution_count": 32,
   "id": "b9c9dc49",
   "metadata": {
    "execution": {
     "iopub.execute_input": "2022-05-10T19:36:17.293070Z",
     "iopub.status.busy": "2022-05-10T19:36:17.292279Z",
     "iopub.status.idle": "2022-05-10T19:36:18.673370Z",
     "shell.execute_reply": "2022-05-10T19:36:18.673998Z",
     "shell.execute_reply.started": "2022-05-10T19:13:52.046202Z"
    },
    "papermill": {
     "duration": 1.451743,
     "end_time": "2022-05-10T19:36:18.674186",
     "exception": false,
     "start_time": "2022-05-10T19:36:17.222443",
     "status": "completed"
    },
    "tags": []
   },
   "outputs": [],
   "source": [
    "model.fit(Xtrain, trainY)\n",
    "\n",
    "Xtest = full_pipeline.fit_transform(testX)\n",
    "Ypredicts = model.predict(Xtest)\n"
   ]
  },
  {
   "cell_type": "markdown",
   "id": "aae04b60",
   "metadata": {
    "execution": {
     "iopub.execute_input": "2022-05-09T15:18:28.461064Z",
     "iopub.status.busy": "2022-05-09T15:18:28.4606Z",
     "iopub.status.idle": "2022-05-09T15:18:28.46877Z",
     "shell.execute_reply": "2022-05-09T15:18:28.467906Z",
     "shell.execute_reply.started": "2022-05-09T15:18:28.461015Z"
    },
    "papermill": {
     "duration": 0.065724,
     "end_time": "2022-05-10T19:36:18.810242",
     "exception": false,
     "start_time": "2022-05-10T19:36:18.744518",
     "status": "completed"
    },
    "tags": []
   },
   "source": [
    "# Metrics\n",
    "\n",
    "The Metrics is Root Mean Squared Error that  allows us to measure the error  between value the test set and value predict."
   ]
  },
  {
   "cell_type": "code",
   "execution_count": 33,
   "id": "5278139c",
   "metadata": {
    "execution": {
     "iopub.execute_input": "2022-05-10T19:36:18.947041Z",
     "iopub.status.busy": "2022-05-10T19:36:18.945958Z",
     "iopub.status.idle": "2022-05-10T19:36:18.953177Z",
     "shell.execute_reply": "2022-05-10T19:36:18.953762Z",
     "shell.execute_reply.started": "2022-05-10T19:13:53.530551Z"
    },
    "papermill": {
     "duration": 0.076506,
     "end_time": "2022-05-10T19:36:18.953966",
     "exception": false,
     "start_time": "2022-05-10T19:36:18.877460",
     "status": "completed"
    },
    "tags": []
   },
   "outputs": [
    {
     "name": "stdout",
     "output_type": "stream",
     "text": [
      "Root Mean Squared Error: 0.24941123\n"
     ]
    }
   ],
   "source": [
    "from sklearn.metrics import mean_squared_error\n",
    "\n",
    "mse = mean_squared_error(testY , Ypredicts) \n",
    "rmse = np.sqrt(mse)\n",
    "print('Root Mean Squared Error:', rmse)"
   ]
  },
  {
   "cell_type": "markdown",
   "id": "47e6e6e2",
   "metadata": {
    "papermill": {
     "duration": 0.065454,
     "end_time": "2022-05-10T19:36:19.084570",
     "exception": false,
     "start_time": "2022-05-10T19:36:19.019116",
     "status": "completed"
    },
    "tags": []
   },
   "source": [
    "While the precision is:"
   ]
  },
  {
   "cell_type": "code",
   "execution_count": 34,
   "id": "97559d83",
   "metadata": {
    "execution": {
     "iopub.execute_input": "2022-05-10T19:36:19.232171Z",
     "iopub.status.busy": "2022-05-10T19:36:19.230921Z",
     "iopub.status.idle": "2022-05-10T19:36:19.245280Z",
     "shell.execute_reply": "2022-05-10T19:36:19.246316Z",
     "shell.execute_reply.started": "2022-05-10T19:13:53.538775Z"
    },
    "papermill": {
     "duration": 0.096227,
     "end_time": "2022-05-10T19:36:19.246620",
     "exception": false,
     "start_time": "2022-05-10T19:36:19.150393",
     "status": "completed"
    },
    "tags": []
   },
   "outputs": [
    {
     "name": "stdout",
     "output_type": "stream",
     "text": [
      "Precision: 93.779404%\n"
     ]
    }
   ],
   "source": [
    "output = pd.DataFrame({'Star': testY, 'StarPred': Ypredicts})\n",
    "\n",
    "def precision(a, b):\n",
    "    cont = 0\n",
    "    for i in np.arange(len(a)):\n",
    "        if (a[i]==b[i]):\n",
    "            cont = cont +1\n",
    "             \n",
    "            \n",
    "    return  format( cont/len(a) , '2%') \n",
    "\n",
    "print('Precision:',  precision(testY , Ypredicts))"
   ]
  },
  {
   "cell_type": "code",
   "execution_count": 35,
   "id": "28264d6a",
   "metadata": {
    "execution": {
     "iopub.execute_input": "2022-05-10T19:36:19.411959Z",
     "iopub.status.busy": "2022-05-10T19:36:19.411202Z",
     "iopub.status.idle": "2022-05-10T19:36:19.415789Z",
     "shell.execute_reply": "2022-05-10T19:36:19.415225Z",
     "shell.execute_reply.started": "2022-05-10T19:13:53.567624Z"
    },
    "papermill": {
     "duration": 0.076952,
     "end_time": "2022-05-10T19:36:19.416006",
     "exception": false,
     "start_time": "2022-05-10T19:36:19.339054",
     "status": "completed"
    },
    "tags": []
   },
   "outputs": [],
   "source": [
    "### stratified CV ### see pag 136  Geron's book\n",
    "#from sklearn.model_selection import StratifiedKFold\n",
    "#from sklearn.base import clone\n",
    "#skfolds = StratifiedKFold(n_splits=3, random_state=42)"
   ]
  },
  {
   "cell_type": "markdown",
   "id": "5b742aa7",
   "metadata": {
    "papermill": {
     "duration": 0.066771,
     "end_time": "2022-05-10T19:36:19.550006",
     "exception": false,
     "start_time": "2022-05-10T19:36:19.483235",
     "status": "completed"
    },
    "tags": []
   },
   "source": [
    "# **Refinament** #"
   ]
  },
  {
   "cell_type": "markdown",
   "id": "6dd67667",
   "metadata": {
    "papermill": {
     "duration": 0.066591,
     "end_time": "2022-05-10T19:36:19.683818",
     "exception": false,
     "start_time": "2022-05-10T19:36:19.617227",
     "status": "completed"
    },
    "tags": []
   },
   "source": [
    "### Hyper-parameters ###"
   ]
  },
  {
   "cell_type": "markdown",
   "id": "0f765f31",
   "metadata": {
    "papermill": {
     "duration": 0.066383,
     "end_time": "2022-05-10T19:36:19.817064",
     "exception": false,
     "start_time": "2022-05-10T19:36:19.750681",
     "status": "completed"
    },
    "tags": []
   },
   "source": [
    "We proceeded to search for the hyperparameters, using `GridSearchCV` a list of hyperparameters to experiment with."
   ]
  },
  {
   "cell_type": "code",
   "execution_count": 36,
   "id": "99c342df",
   "metadata": {
    "execution": {
     "iopub.execute_input": "2022-05-10T19:36:19.960418Z",
     "iopub.status.busy": "2022-05-10T19:36:19.959220Z",
     "iopub.status.idle": "2022-05-10T19:40:24.533062Z",
     "shell.execute_reply": "2022-05-10T19:40:24.533624Z",
     "shell.execute_reply.started": "2022-05-10T19:13:53.579388Z"
    },
    "papermill": {
     "duration": 244.649522,
     "end_time": "2022-05-10T19:40:24.533820",
     "exception": false,
     "start_time": "2022-05-10T19:36:19.884298",
     "status": "completed"
    },
    "tags": []
   },
   "outputs": [
    {
     "data": {
      "text/plain": [
       "{'max_features': 4, 'n_estimators': 16}"
      ]
     },
     "execution_count": 36,
     "metadata": {},
     "output_type": "execute_result"
    }
   ],
   "source": [
    "from sklearn.model_selection import GridSearchCV\n",
    "from sklearn.model_selection import RandomizedSearchCV\n",
    "from scipy.stats import uniform\n",
    "\n",
    "\n",
    "#distributions = dict(C=uniform(loc=0, scale=4), penalty=['l2','l1'])\n",
    "#clf=RandomizedSearchCV( RFClf , distributions , random_state=0) # arg (model , distri , ...)\n",
    "\n",
    "\n",
    "parameter_grid = [{'n_estimators':[3,5,10,12, 14,16], 'max_features':[2,4,6]} ,\n",
    "                  {'bootstrap':[False], 'n_estimators':[3,7,12,14, 16] , 'max_features':[1,2,3,4, 6]}]\n",
    "clf=GridSearchCV( RFClf , parameter_grid,\n",
    "                cv=20 ,  scoring='neg_mean_squared_error' , return_train_score=True) # arg (model , distri , ...)\n",
    "\n",
    "\n",
    "clf.fit(Xtrain, trainY)\n",
    "\n",
    "clf.best_params_"
   ]
  },
  {
   "cell_type": "markdown",
   "id": "38f60548",
   "metadata": {
    "papermill": {
     "duration": 0.077881,
     "end_time": "2022-05-10T19:40:24.682940",
     "exception": false,
     "start_time": "2022-05-10T19:40:24.605059",
     "status": "completed"
    },
    "tags": []
   },
   "source": [
    "###  Model-Hyperparameters ###"
   ]
  },
  {
   "cell_type": "code",
   "execution_count": 37,
   "id": "a06f9b25",
   "metadata": {
    "execution": {
     "iopub.execute_input": "2022-05-10T19:40:24.826824Z",
     "iopub.status.busy": "2022-05-10T19:40:24.825277Z",
     "iopub.status.idle": "2022-05-10T19:40:24.850011Z",
     "shell.execute_reply": "2022-05-10T19:40:24.850826Z",
     "shell.execute_reply.started": "2022-05-10T19:18:13.912672Z"
    },
    "papermill": {
     "duration": 0.095945,
     "end_time": "2022-05-10T19:40:24.851113",
     "exception": false,
     "start_time": "2022-05-10T19:40:24.755168",
     "status": "completed"
    },
    "tags": []
   },
   "outputs": [
    {
     "name": "stdout",
     "output_type": "stream",
     "text": [
      "Precision: 94.249869%\n"
     ]
    }
   ],
   "source": [
    "finalModel=clf.best_estimator_\n",
    "Ypredfinal=finalModel.predict(Xtest)\n",
    "\n",
    "print('Precision:', precision(testY , Ypredfinal) )# worse model"
   ]
  },
  {
   "cell_type": "markdown",
   "id": "a709e226",
   "metadata": {
    "papermill": {
     "duration": 0.070013,
     "end_time": "2022-05-10T19:40:24.989857",
     "exception": false,
     "start_time": "2022-05-10T19:40:24.919844",
     "status": "completed"
    },
    "tags": []
   },
   "source": [
    "# Future improvements"
   ]
  },
  {
   "cell_type": "markdown",
   "id": "f1c74204",
   "metadata": {
    "papermill": {
     "duration": 0.069462,
     "end_time": "2022-05-10T19:40:25.128178",
     "exception": false,
     "start_time": "2022-05-10T19:40:25.058716",
     "status": "completed"
    },
    "tags": []
   },
   "source": [
    "The model  can be improvement by implementation some  Clusters model and  applying a stratification to the data."
   ]
  },
  {
   "cell_type": "code",
   "execution_count": 38,
   "id": "23308a83",
   "metadata": {
    "execution": {
     "iopub.execute_input": "2022-05-10T19:40:25.270718Z",
     "iopub.status.busy": "2022-05-10T19:40:25.269977Z",
     "iopub.status.idle": "2022-05-10T19:40:25.272746Z",
     "shell.execute_reply": "2022-05-10T19:40:25.272034Z",
     "shell.execute_reply.started": "2022-05-10T19:18:13.938778Z"
    },
    "papermill": {
     "duration": 0.074235,
     "end_time": "2022-05-10T19:40:25.272962",
     "exception": false,
     "start_time": "2022-05-10T19:40:25.198727",
     "status": "completed"
    },
    "tags": []
   },
   "outputs": [],
   "source": [
    "# **Deploy** #"
   ]
  }
 ],
 "metadata": {
  "kernelspec": {
   "display_name": "Python 3",
   "language": "python",
   "name": "python3"
  },
  "language_info": {
   "codemirror_mode": {
    "name": "ipython",
    "version": 3
   },
   "file_extension": ".py",
   "mimetype": "text/x-python",
   "name": "python",
   "nbconvert_exporter": "python",
   "pygments_lexer": "ipython3",
   "version": "3.7.12"
  },
  "papermill": {
   "default_parameters": {},
   "duration": 410.816984,
   "end_time": "2022-05-10T19:40:26.255196",
   "environment_variables": {},
   "exception": null,
   "input_path": "__notebook__.ipynb",
   "output_path": "__notebook__.ipynb",
   "parameters": {},
   "start_time": "2022-05-10T19:33:35.438212",
   "version": "2.3.3"
  }
 },
 "nbformat": 4,
 "nbformat_minor": 5
}
