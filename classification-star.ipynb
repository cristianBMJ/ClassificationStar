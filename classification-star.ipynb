{
 "cells": [
  {
   "cell_type": "code",
   "execution_count": 1,
   "id": "294b0aeb",
   "metadata": {
    "_cell_guid": "b1076dfc-b9ad-4769-8c92-a6c4dae69d19",
    "_kg_hide-input": true,
    "_kg_hide-output": true,
    "_uuid": "8f2839f25d086af736a60e9eeb907d3b93b6e0e5",
    "execution": {
     "iopub.execute_input": "2022-05-04T00:08:08.173937Z",
     "iopub.status.busy": "2022-05-04T00:08:08.172041Z",
     "iopub.status.idle": "2022-05-04T00:08:09.253177Z",
     "shell.execute_reply": "2022-05-04T00:08:09.253705Z",
     "shell.execute_reply.started": "2022-05-04T00:03:47.284553Z"
    },
    "papermill": {
     "duration": 1.13077,
     "end_time": "2022-05-04T00:08:09.254002",
     "exception": false,
     "start_time": "2022-05-04T00:08:08.123232",
     "status": "completed"
    },
    "tags": []
   },
   "outputs": [
    {
     "name": "stdout",
     "output_type": "stream",
     "text": [
      "/kaggle/input/star-categorization-giants-and-dwarfs/Star99999_raw.csv\n",
      "/kaggle/input/star-categorization-giants-and-dwarfs/Star39552_balanced.csv\n",
      "/kaggle/input/star-categorization-giants-and-dwarfs/Star9999_raw.csv\n",
      "/kaggle/input/star-categorization-giants-and-dwarfs/Star3642_balanced.csv\n"
     ]
    }
   ],
   "source": [
    "# This Python 3 environment comes with many helpful analytics libraries installed\n",
    "# It is defined by the kaggle/python Docker image: https://github.com/kaggle/docker-python\n",
    "# For example, here's several helpful packages to load\n",
    "\n",
    "%matplotlib inline\n",
    "\n",
    "import numpy as np # linear algebra\n",
    "import pandas as pd # data processing, CSV file I/O (e.g. pd.read_csv)\n",
    "\n",
    "import matplotlib.pyplot as plt\n",
    "import seaborn as sns\n",
    "# Input data files are available in the read-only \"../input/\" directory\n",
    "# For example, running this (by clicking run or pressing Shift+Enter) will list all files under the input directory\n",
    "\n",
    "import os\n",
    "for dirname, _, filenames in os.walk('/kaggle/input'):\n",
    "    for filename in filenames:\n",
    "        print(os.path.join(dirname, filename))\n",
    "\n",
    "# You can write up to 20GB to the current directory (/kaggle/working/) that gets preserved as output when you create a version using \"Save & Run All\" \n",
    "# You can also write temporary files to /kaggle/temp/, but they won't be saved outside of the current session\n"
   ]
  },
  {
   "cell_type": "markdown",
   "id": "99505a67",
   "metadata": {
    "papermill": {
     "duration": 0.041542,
     "end_time": "2022-05-04T00:08:09.341407",
     "exception": false,
     "start_time": "2022-05-04T00:08:09.299865",
     "status": "completed"
    },
    "tags": []
   },
   "source": [
    "# **Get Data** #"
   ]
  },
  {
   "cell_type": "code",
   "execution_count": 2,
   "id": "eb9807d5",
   "metadata": {
    "execution": {
     "iopub.execute_input": "2022-05-04T00:08:09.432683Z",
     "iopub.status.busy": "2022-05-04T00:08:09.431985Z",
     "iopub.status.idle": "2022-05-04T00:08:09.708130Z",
     "shell.execute_reply": "2022-05-04T00:08:09.707450Z",
     "shell.execute_reply.started": "2022-05-04T00:03:47.328068Z"
    },
    "papermill": {
     "duration": 0.322588,
     "end_time": "2022-05-04T00:08:09.708295",
     "exception": false,
     "start_time": "2022-05-04T00:08:09.385707",
     "status": "completed"
    },
    "tags": []
   },
   "outputs": [
    {
     "name": "stdout",
     "output_type": "stream",
     "text": [
      "<class 'pandas.core.frame.DataFrame'>\n",
      "RangeIndex: 99999 entries, 0 to 99998\n",
      "Data columns (total 6 columns):\n",
      " #   Column      Non-Null Count  Dtype \n",
      "---  ------      --------------  ----- \n",
      " 0   Unnamed: 0  99999 non-null  int64 \n",
      " 1   Vmag        99999 non-null  object\n",
      " 2   Plx         99999 non-null  object\n",
      " 3   e_Plx       99999 non-null  object\n",
      " 4   B-V         99999 non-null  object\n",
      " 5   SpType      97377 non-null  object\n",
      "dtypes: int64(1), object(5)\n",
      "memory usage: 4.6+ MB\n"
     ]
    }
   ],
   "source": [
    "# Read Data\n",
    "data = pd.read_csv('../input/star-categorization-giants-and-dwarfs/Star39552_balanced.csv') # data pre-processed\n",
    "dataRaw = pd.read_csv('/kaggle/input/star-categorization-giants-and-dwarfs/Star99999_raw.csv') # data initial or Raw \n",
    "dataRaw.info()  # review types variable"
   ]
  },
  {
   "cell_type": "markdown",
   "id": "3a0f5331",
   "metadata": {
    "papermill": {
     "duration": 0.041483,
     "end_time": "2022-05-04T00:08:09.794142",
     "exception": false,
     "start_time": "2022-05-04T00:08:09.752659",
     "status": "completed"
    },
    "tags": []
   },
   "source": [
    "#  **Exploratory Data Analysis** #"
   ]
  },
  {
   "cell_type": "code",
   "execution_count": 3,
   "id": "c452e828",
   "metadata": {
    "_kg_hide-input": true,
    "execution": {
     "iopub.execute_input": "2022-05-04T00:08:09.934997Z",
     "iopub.status.busy": "2022-05-04T00:08:09.884993Z",
     "iopub.status.idle": "2022-05-04T00:08:10.119979Z",
     "shell.execute_reply": "2022-05-04T00:08:10.120476Z",
     "shell.execute_reply.started": "2022-05-04T00:03:47.532840Z"
    },
    "papermill": {
     "duration": 0.284049,
     "end_time": "2022-05-04T00:08:10.120669",
     "exception": false,
     "start_time": "2022-05-04T00:08:09.836620",
     "status": "completed"
    },
    "tags": []
   },
   "outputs": [
    {
     "name": "stdout",
     "output_type": "stream",
     "text": [
      "<class 'pandas.core.frame.DataFrame'>\n",
      "RangeIndex: 99999 entries, 0 to 99998\n",
      "Data columns (total 6 columns):\n",
      " #   Column      Non-Null Count  Dtype  \n",
      "---  ------      --------------  -----  \n",
      " 0   Unnamed: 0  99999 non-null  int64  \n",
      " 1   Vmag        99998 non-null  float32\n",
      " 2   Plx         99768 non-null  float32\n",
      " 3   e_Plx       99768 non-null  float32\n",
      " 4   B-V         98871 non-null  float32\n",
      " 5   SpType      97377 non-null  object \n",
      "dtypes: float32(4), int64(1), object(1)\n",
      "memory usage: 3.1+ MB\n"
     ]
    }
   ],
   "source": [
    "# convert object to numeric\n",
    "dataRaw['Vmag'] = pd.to_numeric(dataRaw['Vmag'] , downcast='float' , errors='coerce')\n",
    "dataRaw['Plx'] = pd.to_numeric(dataRaw['Plx'] , downcast='float' , errors='coerce')\n",
    "dataRaw['e_Plx'] = pd.to_numeric(dataRaw['e_Plx'] , downcast='float' , errors='coerce')\n",
    "dataRaw['B-V'] = pd.to_numeric(dataRaw['B-V'] , downcast='float' , errors='coerce')\n",
    "dataRaw.info()"
   ]
  },
  {
   "cell_type": "markdown",
   "id": "aeed7359",
   "metadata": {
    "papermill": {
     "duration": 0.041939,
     "end_time": "2022-05-04T00:08:10.205103",
     "exception": false,
     "start_time": "2022-05-04T00:08:10.163164",
     "status": "completed"
    },
    "tags": []
   },
   "source": [
    "### Missing Values ###"
   ]
  },
  {
   "cell_type": "code",
   "execution_count": 4,
   "id": "99a290c1",
   "metadata": {
    "execution": {
     "iopub.execute_input": "2022-05-04T00:08:10.307699Z",
     "iopub.status.busy": "2022-05-04T00:08:10.306526Z",
     "iopub.status.idle": "2022-05-04T00:08:10.353396Z",
     "shell.execute_reply": "2022-05-04T00:08:10.352879Z",
     "shell.execute_reply.started": "2022-05-04T00:03:47.767553Z"
    },
    "papermill": {
     "duration": 0.106368,
     "end_time": "2022-05-04T00:08:10.353579",
     "exception": false,
     "start_time": "2022-05-04T00:08:10.247211",
     "status": "completed"
    },
    "tags": []
   },
   "outputs": [
    {
     "name": "stdout",
     "output_type": "stream",
     "text": [
      "Num_null:  4213\n",
      "(96742, 6) (99999, 6) (99999, 6)\n",
      "Percentage Missing:  0.702%\n"
     ]
    }
   ],
   "source": [
    "missingValueCount = dataRaw.isnull().sum()\n",
    "print('Num_null: ' , missingValueCount.sum() )\n",
    "\n",
    "dataLabel = dataRaw.dropna()\n",
    "dataUnlabel = dataRaw.fillna(0)\n",
    "\n",
    "print( dataLabel.shape , dataRaw.shape , dataUnlabel.shape )\n",
    "\n",
    "totalData = np.product(dataRaw.shape)\n",
    "percentMissing=missingValueCount.sum()/totalData\n",
    "\n",
    "print('Percentage Missing:', '{: .3%}'.format(percentMissing))\n",
    "dataRaw = dataLabel"
   ]
  },
  {
   "cell_type": "code",
   "execution_count": 5,
   "id": "f768bb95",
   "metadata": {
    "execution": {
     "iopub.execute_input": "2022-05-04T00:08:10.442921Z",
     "iopub.status.busy": "2022-05-04T00:08:10.442244Z",
     "iopub.status.idle": "2022-05-04T00:08:10.489181Z",
     "shell.execute_reply": "2022-05-04T00:08:10.489808Z",
     "shell.execute_reply.started": "2022-05-04T00:03:47.827228Z"
    },
    "papermill": {
     "duration": 0.093274,
     "end_time": "2022-05-04T00:08:10.490006",
     "exception": false,
     "start_time": "2022-05-04T00:08:10.396732",
     "status": "completed"
    },
    "tags": []
   },
   "outputs": [
    {
     "data": {
      "text/html": [
       "<div>\n",
       "<style scoped>\n",
       "    .dataframe tbody tr th:only-of-type {\n",
       "        vertical-align: middle;\n",
       "    }\n",
       "\n",
       "    .dataframe tbody tr th {\n",
       "        vertical-align: top;\n",
       "    }\n",
       "\n",
       "    .dataframe thead th {\n",
       "        text-align: right;\n",
       "    }\n",
       "</style>\n",
       "<table border=\"1\" class=\"dataframe\">\n",
       "  <thead>\n",
       "    <tr style=\"text-align: right;\">\n",
       "      <th></th>\n",
       "      <th>Vmag</th>\n",
       "      <th>Plx</th>\n",
       "      <th>e_Plx</th>\n",
       "      <th>B-V</th>\n",
       "    </tr>\n",
       "  </thead>\n",
       "  <tbody>\n",
       "    <tr>\n",
       "      <th>count</th>\n",
       "      <td>96742.000000</td>\n",
       "      <td>96742.000000</td>\n",
       "      <td>96742.000000</td>\n",
       "      <td>96742.000000</td>\n",
       "    </tr>\n",
       "    <tr>\n",
       "      <th>mean</th>\n",
       "      <td>8.291918</td>\n",
       "      <td>7.105242</td>\n",
       "      <td>1.264163</td>\n",
       "      <td>0.700663</td>\n",
       "    </tr>\n",
       "    <tr>\n",
       "      <th>std</th>\n",
       "      <td>1.247995</td>\n",
       "      <td>11.145643</td>\n",
       "      <td>1.156202</td>\n",
       "      <td>0.490053</td>\n",
       "    </tr>\n",
       "    <tr>\n",
       "      <th>min</th>\n",
       "      <td>-1.440000</td>\n",
       "      <td>-35.099998</td>\n",
       "      <td>0.380000</td>\n",
       "      <td>-0.400000</td>\n",
       "    </tr>\n",
       "    <tr>\n",
       "      <th>25%</th>\n",
       "      <td>7.610000</td>\n",
       "      <td>2.520000</td>\n",
       "      <td>0.870000</td>\n",
       "      <td>0.342000</td>\n",
       "    </tr>\n",
       "    <tr>\n",
       "      <th>50%</th>\n",
       "      <td>8.400000</td>\n",
       "      <td>4.600000</td>\n",
       "      <td>1.080000</td>\n",
       "      <td>0.605000</td>\n",
       "    </tr>\n",
       "    <tr>\n",
       "      <th>75%</th>\n",
       "      <td>9.070000</td>\n",
       "      <td>8.270000</td>\n",
       "      <td>1.360000</td>\n",
       "      <td>1.072000</td>\n",
       "    </tr>\n",
       "    <tr>\n",
       "      <th>max</th>\n",
       "      <td>13.610000</td>\n",
       "      <td>772.330017</td>\n",
       "      <td>69.070000</td>\n",
       "      <td>5.460000</td>\n",
       "    </tr>\n",
       "  </tbody>\n",
       "</table>\n",
       "</div>"
      ],
      "text/plain": [
       "               Vmag           Plx         e_Plx           B-V\n",
       "count  96742.000000  96742.000000  96742.000000  96742.000000\n",
       "mean       8.291918      7.105242      1.264163      0.700663\n",
       "std        1.247995     11.145643      1.156202      0.490053\n",
       "min       -1.440000    -35.099998      0.380000     -0.400000\n",
       "25%        7.610000      2.520000      0.870000      0.342000\n",
       "50%        8.400000      4.600000      1.080000      0.605000\n",
       "75%        9.070000      8.270000      1.360000      1.072000\n",
       "max       13.610000    772.330017     69.070000      5.460000"
      ]
     },
     "execution_count": 5,
     "metadata": {},
     "output_type": "execute_result"
    }
   ],
   "source": [
    "dataRaw = dataRaw.drop(['Unnamed: 0'], axis=1)\n",
    "dataRaw.describe()"
   ]
  },
  {
   "cell_type": "code",
   "execution_count": 6,
   "id": "584226bf",
   "metadata": {
    "execution": {
     "iopub.execute_input": "2022-05-04T00:08:10.582831Z",
     "iopub.status.busy": "2022-05-04T00:08:10.582022Z",
     "iopub.status.idle": "2022-05-04T00:08:12.503579Z",
     "shell.execute_reply": "2022-05-04T00:08:12.502867Z",
     "shell.execute_reply.started": "2022-05-04T00:03:47.866728Z"
    },
    "papermill": {
     "duration": 1.970165,
     "end_time": "2022-05-04T00:08:12.503721",
     "exception": false,
     "start_time": "2022-05-04T00:08:10.533556",
     "status": "completed"
    },
    "tags": []
   },
   "outputs": [
    {
     "data": {
      "text/plain": [
       "array([[<AxesSubplot:title={'center':'Vmag'}>,\n",
       "        <AxesSubplot:title={'center':'Plx'}>],\n",
       "       [<AxesSubplot:title={'center':'e_Plx'}>,\n",
       "        <AxesSubplot:title={'center':'B-V'}>],\n",
       "       [<AxesSubplot:title={'center':'Amag'}>,\n",
       "        <AxesSubplot:title={'center':'TargetClass'}>]], dtype=object)"
      ]
     },
     "execution_count": 6,
     "metadata": {},
     "output_type": "execute_result"
    },
    {
     "data": {
      "image/png": "[encoded data removed]",
      "text/plain": [
       "<Figure size 1440x1080 with 6 Axes>"
      ]
     },
     "metadata": {
      "needs_background": "light"
     },
     "output_type": "display_data"
    }
   ],
   "source": [
    "data.hist(bins=50 , figsize=(20,15) ) # histograma"
   ]
  },
  {
   "cell_type": "markdown",
   "id": "0f660850",
   "metadata": {
    "papermill": {
     "duration": 0.044884,
     "end_time": "2022-05-04T00:08:12.593598",
     "exception": false,
     "start_time": "2022-05-04T00:08:12.548714",
     "status": "completed"
    },
    "tags": []
   },
   "source": [
    "## Pre-Processing ##"
   ]
  },
  {
   "cell_type": "code",
   "execution_count": 7,
   "id": "36bd65ad",
   "metadata": {
    "execution": {
     "iopub.execute_input": "2022-05-04T00:08:12.686899Z",
     "iopub.status.busy": "2022-05-04T00:08:12.686271Z",
     "iopub.status.idle": "2022-05-04T00:08:12.715280Z",
     "shell.execute_reply": "2022-05-04T00:08:12.715887Z",
     "shell.execute_reply.started": "2022-05-04T00:03:49.559687Z"
    },
    "papermill": {
     "duration": 0.077622,
     "end_time": "2022-05-04T00:08:12.716058",
     "exception": false,
     "start_time": "2022-05-04T00:08:12.638436",
     "status": "completed"
    },
    "tags": []
   },
   "outputs": [
    {
     "data": {
      "text/html": [
       "<div>\n",
       "<style scoped>\n",
       "    .dataframe tbody tr th:only-of-type {\n",
       "        vertical-align: middle;\n",
       "    }\n",
       "\n",
       "    .dataframe tbody tr th {\n",
       "        vertical-align: top;\n",
       "    }\n",
       "\n",
       "    .dataframe thead th {\n",
       "        text-align: right;\n",
       "    }\n",
       "</style>\n",
       "<table border=\"1\" class=\"dataframe\">\n",
       "  <thead>\n",
       "    <tr style=\"text-align: right;\">\n",
       "      <th></th>\n",
       "      <th>Vmag</th>\n",
       "      <th>Plx</th>\n",
       "      <th>e_Plx</th>\n",
       "      <th>B-V</th>\n",
       "      <th>SpType</th>\n",
       "      <th>Amag</th>\n",
       "      <th>e_Amag</th>\n",
       "      <th>eA/A</th>\n",
       "      <th>eP/P</th>\n",
       "    </tr>\n",
       "  </thead>\n",
       "  <tbody>\n",
       "    <tr>\n",
       "      <th>0</th>\n",
       "      <td>9.10</td>\n",
       "      <td>3.54</td>\n",
       "      <td>1.39</td>\n",
       "      <td>0.482</td>\n",
       "      <td>F5</td>\n",
       "      <td>16.845016</td>\n",
       "      <td>0.852640</td>\n",
       "      <td>0.050617</td>\n",
       "      <td>0.392655</td>\n",
       "    </tr>\n",
       "    <tr>\n",
       "      <th>1</th>\n",
       "      <td>9.27</td>\n",
       "      <td>21.90</td>\n",
       "      <td>3.10</td>\n",
       "      <td>0.999</td>\n",
       "      <td>K3V</td>\n",
       "      <td>20.972221</td>\n",
       "      <td>0.307377</td>\n",
       "      <td>0.014656</td>\n",
       "      <td>0.141553</td>\n",
       "    </tr>\n",
       "    <tr>\n",
       "      <th>2</th>\n",
       "      <td>6.61</td>\n",
       "      <td>2.81</td>\n",
       "      <td>0.63</td>\n",
       "      <td>-0.019</td>\n",
       "      <td>B9</td>\n",
       "      <td>13.853533</td>\n",
       "      <td>0.486843</td>\n",
       "      <td>0.035142</td>\n",
       "      <td>0.224199</td>\n",
       "    </tr>\n",
       "    <tr>\n",
       "      <th>3</th>\n",
       "      <td>8.06</td>\n",
       "      <td>7.75</td>\n",
       "      <td>0.97</td>\n",
       "      <td>0.370</td>\n",
       "      <td>F0V</td>\n",
       "      <td>17.506508</td>\n",
       "      <td>0.271784</td>\n",
       "      <td>0.015525</td>\n",
       "      <td>0.125161</td>\n",
       "    </tr>\n",
       "    <tr>\n",
       "      <th>4</th>\n",
       "      <td>8.55</td>\n",
       "      <td>2.87</td>\n",
       "      <td>1.11</td>\n",
       "      <td>0.902</td>\n",
       "      <td>G8III</td>\n",
       "      <td>15.839410</td>\n",
       "      <td>0.839838</td>\n",
       "      <td>0.053022</td>\n",
       "      <td>0.386760</td>\n",
       "    </tr>\n",
       "  </tbody>\n",
       "</table>\n",
       "</div>"
      ],
      "text/plain": [
       "   Vmag    Plx  e_Plx    B-V SpType       Amag    e_Amag      eA/A      eP/P\n",
       "0  9.10   3.54   1.39  0.482     F5  16.845016  0.852640  0.050617  0.392655\n",
       "1  9.27  21.90   3.10  0.999    K3V  20.972221  0.307377  0.014656  0.141553\n",
       "2  6.61   2.81   0.63 -0.019     B9  13.853533  0.486843  0.035142  0.224199\n",
       "3  8.06   7.75   0.97  0.370    F0V  17.506508  0.271784  0.015525  0.125161\n",
       "4  8.55   2.87   1.11  0.902  G8III  15.839410  0.839838  0.053022  0.386760"
      ]
     },
     "execution_count": 7,
     "metadata": {},
     "output_type": "execute_result"
    }
   ],
   "source": [
    "# New variables\n",
    "\n",
    "data = dataRaw\n",
    "data = data[data.Plx != 0]\n",
    "data = data.reset_index(drop=True)\n",
    "\n",
    "data['Amag']   = data['Vmag'] + 5*( np.log10( np.abs( data['Plx'] ) )+ 1 )  # log is ln\n",
    "data['e_Amag'] = 5*data['e_Plx']/(data['Plx']*np.log(10) )   # propagacion de error\n",
    "\n",
    "data['eA/A']   = data['e_Amag']/data['Amag']\n",
    "data['eP/P']   = data['e_Plx']/data['Plx']\n",
    "\n",
    "dataRaw = data\n",
    "dataRaw.head()"
   ]
  },
  {
   "cell_type": "code",
   "execution_count": 8,
   "id": "7a0c06c2",
   "metadata": {
    "execution": {
     "iopub.execute_input": "2022-05-04T00:08:12.810397Z",
     "iopub.status.busy": "2022-05-04T00:08:12.809769Z",
     "iopub.status.idle": "2022-05-04T00:08:12.839081Z",
     "shell.execute_reply": "2022-05-04T00:08:12.839697Z",
     "shell.execute_reply.started": "2022-05-04T00:03:49.589296Z"
    },
    "papermill": {
     "duration": 0.078304,
     "end_time": "2022-05-04T00:08:12.839865",
     "exception": false,
     "start_time": "2022-05-04T00:08:12.761561",
     "status": "completed"
    },
    "tags": []
   },
   "outputs": [
    {
     "data": {
      "text/html": [
       "<div>\n",
       "<style scoped>\n",
       "    .dataframe tbody tr th:only-of-type {\n",
       "        vertical-align: middle;\n",
       "    }\n",
       "\n",
       "    .dataframe tbody tr th {\n",
       "        vertical-align: top;\n",
       "    }\n",
       "\n",
       "    .dataframe thead th {\n",
       "        text-align: right;\n",
       "    }\n",
       "</style>\n",
       "<table border=\"1\" class=\"dataframe\">\n",
       "  <thead>\n",
       "    <tr style=\"text-align: right;\">\n",
       "      <th></th>\n",
       "      <th>Vmag</th>\n",
       "      <th>Plx</th>\n",
       "      <th>e_Plx</th>\n",
       "      <th>B-V</th>\n",
       "      <th>SpType</th>\n",
       "      <th>Amag</th>\n",
       "      <th>e_Amag</th>\n",
       "      <th>eA/A</th>\n",
       "      <th>eP/P</th>\n",
       "      <th>TargetClass</th>\n",
       "    </tr>\n",
       "  </thead>\n",
       "  <tbody>\n",
       "    <tr>\n",
       "      <th>0</th>\n",
       "      <td>9.10</td>\n",
       "      <td>3.54</td>\n",
       "      <td>1.39</td>\n",
       "      <td>0.482</td>\n",
       "      <td>F5</td>\n",
       "      <td>16.845016</td>\n",
       "      <td>0.852640</td>\n",
       "      <td>0.050617</td>\n",
       "      <td>0.392655</td>\n",
       "      <td>F5</td>\n",
       "    </tr>\n",
       "    <tr>\n",
       "      <th>1</th>\n",
       "      <td>9.27</td>\n",
       "      <td>21.90</td>\n",
       "      <td>3.10</td>\n",
       "      <td>0.999</td>\n",
       "      <td>K3V</td>\n",
       "      <td>20.972221</td>\n",
       "      <td>0.307377</td>\n",
       "      <td>0.014656</td>\n",
       "      <td>0.141553</td>\n",
       "      <td>K3V</td>\n",
       "    </tr>\n",
       "    <tr>\n",
       "      <th>2</th>\n",
       "      <td>6.61</td>\n",
       "      <td>2.81</td>\n",
       "      <td>0.63</td>\n",
       "      <td>-0.019</td>\n",
       "      <td>B9</td>\n",
       "      <td>13.853533</td>\n",
       "      <td>0.486843</td>\n",
       "      <td>0.035142</td>\n",
       "      <td>0.224199</td>\n",
       "      <td>B9</td>\n",
       "    </tr>\n",
       "    <tr>\n",
       "      <th>3</th>\n",
       "      <td>8.06</td>\n",
       "      <td>7.75</td>\n",
       "      <td>0.97</td>\n",
       "      <td>0.370</td>\n",
       "      <td>F0V</td>\n",
       "      <td>17.506508</td>\n",
       "      <td>0.271784</td>\n",
       "      <td>0.015525</td>\n",
       "      <td>0.125161</td>\n",
       "      <td>F0V</td>\n",
       "    </tr>\n",
       "    <tr>\n",
       "      <th>4</th>\n",
       "      <td>8.55</td>\n",
       "      <td>2.87</td>\n",
       "      <td>1.11</td>\n",
       "      <td>0.902</td>\n",
       "      <td>G8III</td>\n",
       "      <td>15.839410</td>\n",
       "      <td>0.839838</td>\n",
       "      <td>0.053022</td>\n",
       "      <td>0.386760</td>\n",
       "      <td>G8III</td>\n",
       "    </tr>\n",
       "  </tbody>\n",
       "</table>\n",
       "</div>"
      ],
      "text/plain": [
       "   Vmag    Plx  e_Plx    B-V SpType       Amag    e_Amag      eA/A      eP/P  \\\n",
       "0  9.10   3.54   1.39  0.482     F5  16.845016  0.852640  0.050617  0.392655   \n",
       "1  9.27  21.90   3.10  0.999    K3V  20.972221  0.307377  0.014656  0.141553   \n",
       "2  6.61   2.81   0.63 -0.019     B9  13.853533  0.486843  0.035142  0.224199   \n",
       "3  8.06   7.75   0.97  0.370    F0V  17.506508  0.271784  0.015525  0.125161   \n",
       "4  8.55   2.87   1.11  0.902  G8III  15.839410  0.839838  0.053022  0.386760   \n",
       "\n",
       "  TargetClass  \n",
       "0          F5  \n",
       "1         K3V  \n",
       "2          B9  \n",
       "3         F0V  \n",
       "4       G8III  "
      ]
     },
     "execution_count": 8,
     "metadata": {},
     "output_type": "execute_result"
    }
   ],
   "source": [
    "#dataRaw = dataRaw.drop('Unnamed: 0', axis=1)\n",
    "dataRaw['TargetClass'] = dataRaw['SpType']\n",
    "\n",
    "dataRaw = dataRaw.reset_index(drop=True) # reindexar debido al drop\n",
    "dataRaw.head() "
   ]
  },
  {
   "cell_type": "code",
   "execution_count": 9,
   "id": "adb6cb3f",
   "metadata": {
    "execution": {
     "iopub.execute_input": "2022-05-04T00:08:12.936314Z",
     "iopub.status.busy": "2022-05-04T00:08:12.935696Z",
     "iopub.status.idle": "2022-05-04T00:08:12.969449Z",
     "shell.execute_reply": "2022-05-04T00:08:12.969931Z",
     "shell.execute_reply.started": "2022-05-04T00:03:49.613405Z"
    },
    "papermill": {
     "duration": 0.082967,
     "end_time": "2022-05-04T00:08:12.970107",
     "exception": false,
     "start_time": "2022-05-04T00:08:12.887140",
     "status": "completed"
    },
    "tags": []
   },
   "outputs": [
    {
     "name": "stdout",
     "output_type": "stream",
     "text": [
      "<class 'pandas.core.frame.DataFrame'>\n",
      "RangeIndex: 96707 entries, 0 to 96706\n",
      "Data columns (total 10 columns):\n",
      " #   Column       Non-Null Count  Dtype  \n",
      "---  ------       --------------  -----  \n",
      " 0   Vmag         96707 non-null  float32\n",
      " 1   Plx          96707 non-null  float32\n",
      " 2   e_Plx        96707 non-null  float32\n",
      " 3   B-V          96707 non-null  float32\n",
      " 4   SpType       96707 non-null  object \n",
      " 5   Amag         96707 non-null  float32\n",
      " 6   e_Amag       96707 non-null  float32\n",
      " 7   eA/A         96707 non-null  float32\n",
      " 8   eP/P         96707 non-null  float32\n",
      " 9   TargetClass  96707 non-null  object \n",
      "dtypes: float32(8), object(2)\n",
      "memory usage: 4.4+ MB\n"
     ]
    }
   ],
   "source": [
    "dataRaw.info()"
   ]
  },
  {
   "cell_type": "markdown",
   "id": "ba453c7c",
   "metadata": {
    "papermill": {
     "duration": 0.046229,
     "end_time": "2022-05-04T00:08:13.062912",
     "exception": false,
     "start_time": "2022-05-04T00:08:13.016683",
     "status": "completed"
    },
    "tags": []
   },
   "source": [
    "## Target Class: Giants or Dwarfs ##"
   ]
  },
  {
   "cell_type": "code",
   "execution_count": 10,
   "id": "446ed841",
   "metadata": {
    "execution": {
     "iopub.execute_input": "2022-05-04T00:08:13.163077Z",
     "iopub.status.busy": "2022-05-04T00:08:13.162408Z",
     "iopub.status.idle": "2022-05-04T00:10:11.545698Z",
     "shell.execute_reply": "2022-05-04T00:10:11.546219Z",
     "shell.execute_reply.started": "2022-05-04T00:03:49.650421Z"
    },
    "papermill": {
     "duration": 118.43358,
     "end_time": "2022-05-04T00:10:11.546400",
     "exception": false,
     "start_time": "2022-05-04T00:08:13.112820",
     "status": "completed"
    },
    "tags": []
   },
   "outputs": [
    {
     "data": {
      "text/html": [
       "<div>\n",
       "<style scoped>\n",
       "    .dataframe tbody tr th:only-of-type {\n",
       "        vertical-align: middle;\n",
       "    }\n",
       "\n",
       "    .dataframe tbody tr th {\n",
       "        vertical-align: top;\n",
       "    }\n",
       "\n",
       "    .dataframe thead th {\n",
       "        text-align: right;\n",
       "    }\n",
       "</style>\n",
       "<table border=\"1\" class=\"dataframe\">\n",
       "  <thead>\n",
       "    <tr style=\"text-align: right;\">\n",
       "      <th></th>\n",
       "      <th>Vmag</th>\n",
       "      <th>Plx</th>\n",
       "      <th>e_Plx</th>\n",
       "      <th>B-V</th>\n",
       "      <th>SpType</th>\n",
       "      <th>Amag</th>\n",
       "      <th>e_Amag</th>\n",
       "      <th>eA/A</th>\n",
       "      <th>eP/P</th>\n",
       "      <th>TargetClass</th>\n",
       "    </tr>\n",
       "  </thead>\n",
       "  <tbody>\n",
       "    <tr>\n",
       "      <th>0</th>\n",
       "      <td>9.10</td>\n",
       "      <td>3.54</td>\n",
       "      <td>1.39</td>\n",
       "      <td>0.482</td>\n",
       "      <td>F5</td>\n",
       "      <td>16.845016</td>\n",
       "      <td>0.852640</td>\n",
       "      <td>0.050617</td>\n",
       "      <td>0.392655</td>\n",
       "      <td>9</td>\n",
       "    </tr>\n",
       "    <tr>\n",
       "      <th>1</th>\n",
       "      <td>9.27</td>\n",
       "      <td>21.90</td>\n",
       "      <td>3.10</td>\n",
       "      <td>0.999</td>\n",
       "      <td>K3V</td>\n",
       "      <td>20.972221</td>\n",
       "      <td>0.307377</td>\n",
       "      <td>0.014656</td>\n",
       "      <td>0.141553</td>\n",
       "      <td>9</td>\n",
       "    </tr>\n",
       "    <tr>\n",
       "      <th>2</th>\n",
       "      <td>6.61</td>\n",
       "      <td>2.81</td>\n",
       "      <td>0.63</td>\n",
       "      <td>-0.019</td>\n",
       "      <td>B9</td>\n",
       "      <td>13.853533</td>\n",
       "      <td>0.486843</td>\n",
       "      <td>0.035142</td>\n",
       "      <td>0.224199</td>\n",
       "      <td>9</td>\n",
       "    </tr>\n",
       "    <tr>\n",
       "      <th>3</th>\n",
       "      <td>8.06</td>\n",
       "      <td>7.75</td>\n",
       "      <td>0.97</td>\n",
       "      <td>0.370</td>\n",
       "      <td>F0V</td>\n",
       "      <td>17.506508</td>\n",
       "      <td>0.271784</td>\n",
       "      <td>0.015525</td>\n",
       "      <td>0.125161</td>\n",
       "      <td>9</td>\n",
       "    </tr>\n",
       "    <tr>\n",
       "      <th>4</th>\n",
       "      <td>8.55</td>\n",
       "      <td>2.87</td>\n",
       "      <td>1.11</td>\n",
       "      <td>0.902</td>\n",
       "      <td>G8III</td>\n",
       "      <td>15.839410</td>\n",
       "      <td>0.839838</td>\n",
       "      <td>0.053022</td>\n",
       "      <td>0.386760</td>\n",
       "      <td>1</td>\n",
       "    </tr>\n",
       "  </tbody>\n",
       "</table>\n",
       "</div>"
      ],
      "text/plain": [
       "   Vmag    Plx  e_Plx    B-V SpType       Amag    e_Amag      eA/A      eP/P  \\\n",
       "0  9.10   3.54   1.39  0.482     F5  16.845016  0.852640  0.050617  0.392655   \n",
       "1  9.27  21.90   3.10  0.999    K3V  20.972221  0.307377  0.014656  0.141553   \n",
       "2  6.61   2.81   0.63 -0.019     B9  13.853533  0.486843  0.035142  0.224199   \n",
       "3  8.06   7.75   0.97  0.370    F0V  17.506508  0.271784  0.015525  0.125161   \n",
       "4  8.55   2.87   1.11  0.902  G8III  15.839410  0.839838  0.053022  0.386760   \n",
       "\n",
       "  TargetClass  \n",
       "0           9  \n",
       "1           9  \n",
       "2           9  \n",
       "3           9  \n",
       "4           1  "
      ]
     },
     "execution_count": 10,
     "metadata": {},
     "output_type": "execute_result"
    }
   ],
   "source": [
    "# Procesamiento target, clasificar en Giants and dwarfs\n",
    "\n",
    "\n",
    "for i in range(len(dataRaw['TargetClass'])):\n",
    "    if \"I\" in dataRaw.loc[i,'TargetClass']: \n",
    "        dataRaw.loc[i,'TargetClass'] = 1   # 1 giant       \n",
    "    elif (\"VII\" or \"VI\") in dataRaw.loc[i,'TargetClass']: \n",
    "        dataRaw.loc[i,'TargetClass'] = 0 # VII is Dwarf (0)\n",
    "    elif \"V\" in dataRaw.loc[i,'TargetClass']: \n",
    "        if ('G' or 'K' or 'M' or 'L' or 'T') in  dataRaw.loc[i,'TargetClass']:\n",
    "            dataRaw.loc[i,'TargetClass'] = 0\n",
    "        else:\n",
    "            dataRaw.loc[i,'TargetClass'] = 9\n",
    "    else: \n",
    "        dataRaw.loc[i,'TargetClass'] = 9 # None\n",
    "        \n",
    "dataRaw['TargetClass']\n",
    "\n",
    "dataRaw.head()"
   ]
  },
  {
   "cell_type": "code",
   "execution_count": 11,
   "id": "ae055e6e",
   "metadata": {
    "execution": {
     "iopub.execute_input": "2022-05-04T00:10:11.643378Z",
     "iopub.status.busy": "2022-05-04T00:10:11.642750Z",
     "iopub.status.idle": "2022-05-04T00:10:12.124434Z",
     "shell.execute_reply": "2022-05-04T00:10:12.124956Z",
     "shell.execute_reply.started": "2022-05-04T00:05:44.147654Z"
    },
    "papermill": {
     "duration": 0.531901,
     "end_time": "2022-05-04T00:10:12.125128",
     "exception": false,
     "start_time": "2022-05-04T00:10:11.593227",
     "status": "completed"
    },
    "tags": []
   },
   "outputs": [
    {
     "name": "stderr",
     "output_type": "stream",
     "text": [
      "/opt/conda/lib/python3.7/site-packages/seaborn/_decorators.py:43: FutureWarning: Pass the following variable as a keyword arg: x. From version 0.12, the only valid positional argument will be `data`, and passing other arguments without an explicit keyword will result in an error or misinterpretation.\n",
      "  FutureWarning\n"
     ]
    },
    {
     "data": {
      "text/plain": [
       "<AxesSubplot:xlabel='TargetClass', ylabel='count'>"
      ]
     },
     "execution_count": 11,
     "metadata": {},
     "output_type": "execute_result"
    },
    {
     "data": {
      "image/png": "[encoded data removed]",
      "text/plain": [
       "<Figure size 432x288 with 1 Axes>"
      ]
     },
     "metadata": {
      "needs_background": "light"
     },
     "output_type": "display_data"
    }
   ],
   "source": [
    "sns.countplot( dataRaw['TargetClass'] )"
   ]
  },
  {
   "cell_type": "code",
   "execution_count": 12,
   "id": "a8a4ce85",
   "metadata": {
    "execution": {
     "iopub.execute_input": "2022-05-04T00:10:12.230243Z",
     "iopub.status.busy": "2022-05-04T00:10:12.229550Z",
     "iopub.status.idle": "2022-05-04T00:10:12.248011Z",
     "shell.execute_reply": "2022-05-04T00:10:12.247461Z",
     "shell.execute_reply.started": "2022-05-04T00:05:44.617920Z"
    },
    "papermill": {
     "duration": 0.07405,
     "end_time": "2022-05-04T00:10:12.248172",
     "exception": false,
     "start_time": "2022-05-04T00:10:12.174122",
     "status": "completed"
    },
    "tags": []
   },
   "outputs": [
    {
     "data": {
      "text/plain": [
       "9    65279\n",
       "1    26647\n",
       "0     4781\n",
       "Name: TargetClass, dtype: int64"
      ]
     },
     "execution_count": 12,
     "metadata": {},
     "output_type": "execute_result"
    }
   ],
   "source": [
    "dataRaw['TargetClass'].value_counts()"
   ]
  },
  {
   "cell_type": "markdown",
   "id": "006739da",
   "metadata": {
    "papermill": {
     "duration": 0.048859,
     "end_time": "2022-05-04T00:10:12.348255",
     "exception": false,
     "start_time": "2022-05-04T00:10:12.299396",
     "status": "completed"
    },
    "tags": []
   },
   "source": [
    "### Selection only Giants or Dwarfs ###"
   ]
  },
  {
   "cell_type": "code",
   "execution_count": 13,
   "id": "bd0b7d1a",
   "metadata": {
    "execution": {
     "iopub.execute_input": "2022-05-04T00:10:12.450529Z",
     "iopub.status.busy": "2022-05-04T00:10:12.449864Z",
     "iopub.status.idle": "2022-05-04T00:10:12.471306Z",
     "shell.execute_reply": "2022-05-04T00:10:12.470773Z",
     "shell.execute_reply.started": "2022-05-04T00:05:44.637458Z"
    },
    "papermill": {
     "duration": 0.073931,
     "end_time": "2022-05-04T00:10:12.471454",
     "exception": false,
     "start_time": "2022-05-04T00:10:12.397523",
     "status": "completed"
    },
    "tags": []
   },
   "outputs": [],
   "source": [
    "# copy and drop number 9\n",
    "df = dataRaw[dataRaw.TargetClass != 9 ] # != return  boolean"
   ]
  },
  {
   "cell_type": "markdown",
   "id": "ba71b3e6",
   "metadata": {
    "papermill": {
     "duration": 0.048645,
     "end_time": "2022-05-04T00:10:12.569445",
     "exception": false,
     "start_time": "2022-05-04T00:10:12.520800",
     "status": "completed"
    },
    "tags": []
   },
   "source": [
    "## Balance ##"
   ]
  },
  {
   "cell_type": "code",
   "execution_count": 14,
   "id": "f01d1ed7",
   "metadata": {
    "execution": {
     "iopub.execute_input": "2022-05-04T00:10:12.681375Z",
     "iopub.status.busy": "2022-05-04T00:10:12.680692Z",
     "iopub.status.idle": "2022-05-04T00:10:12.789039Z",
     "shell.execute_reply": "2022-05-04T00:10:12.788456Z",
     "shell.execute_reply.started": "2022-05-04T00:05:44.665275Z"
    },
    "papermill": {
     "duration": 0.16905,
     "end_time": "2022-05-04T00:10:12.789191",
     "exception": false,
     "start_time": "2022-05-04T00:10:12.620141",
     "status": "completed"
    },
    "tags": []
   },
   "outputs": [],
   "source": [
    "# dividir set \n",
    "\n",
    "dfGiants = df[df.TargetClass == 1]\n",
    "dfDwarfs = df[df.TargetClass == 0]\n",
    "num_of_giant = dfGiants.shape[0]\n",
    "num_of_dwarf = dfDwarfs.shape[0]\n",
    "\n",
    "from sklearn.utils import resample\n",
    "dfGiantsDownSample = resample(dfGiants, \n",
    "                             replace = False, # sample without replacement\n",
    "                             n_samples = num_of_dwarf,\n",
    "                             random_state =1 \n",
    "                             )\n",
    "dfDownSampled = pd.concat([dfGiantsDownSample , dfDwarfs] )"
   ]
  },
  {
   "cell_type": "code",
   "execution_count": 15,
   "id": "a945eca3",
   "metadata": {
    "execution": {
     "iopub.execute_input": "2022-05-04T00:10:12.904091Z",
     "iopub.status.busy": "2022-05-04T00:10:12.890531Z",
     "iopub.status.idle": "2022-05-04T00:10:13.078650Z",
     "shell.execute_reply": "2022-05-04T00:10:13.079166Z",
     "shell.execute_reply.started": "2022-05-04T00:05:44.785337Z"
    },
    "papermill": {
     "duration": 0.24108,
     "end_time": "2022-05-04T00:10:13.079333",
     "exception": false,
     "start_time": "2022-05-04T00:10:12.838253",
     "status": "completed"
    },
    "tags": []
   },
   "outputs": [
    {
     "name": "stdout",
     "output_type": "stream",
     "text": [
      "1    4781\n",
      "0    4781\n",
      "Name: TargetClass, dtype: int64\n"
     ]
    },
    {
     "name": "stderr",
     "output_type": "stream",
     "text": [
      "/opt/conda/lib/python3.7/site-packages/seaborn/_decorators.py:43: FutureWarning: Pass the following variable as a keyword arg: x. From version 0.12, the only valid positional argument will be `data`, and passing other arguments without an explicit keyword will result in an error or misinterpretation.\n",
      "  FutureWarning\n"
     ]
    },
    {
     "data": {
      "image/png": "[encoded data removed]",
      "text/plain": [
       "<Figure size 432x288 with 1 Axes>"
      ]
     },
     "metadata": {
      "needs_background": "light"
     },
     "output_type": "display_data"
    }
   ],
   "source": [
    "sns.countplot(dfDownSampled['TargetClass'])\n",
    "print( dfDownSampled['TargetClass'].value_counts())"
   ]
  },
  {
   "cell_type": "code",
   "execution_count": 16,
   "id": "66928eb9",
   "metadata": {
    "execution": {
     "iopub.execute_input": "2022-05-04T00:10:13.183155Z",
     "iopub.status.busy": "2022-05-04T00:10:13.182357Z",
     "iopub.status.idle": "2022-05-04T00:10:13.198691Z",
     "shell.execute_reply": "2022-05-04T00:10:13.199453Z",
     "shell.execute_reply.started": "2022-05-04T00:05:44.984050Z"
    },
    "papermill": {
     "duration": 0.070335,
     "end_time": "2022-05-04T00:10:13.199707",
     "exception": false,
     "start_time": "2022-05-04T00:10:13.129372",
     "status": "completed"
    },
    "tags": []
   },
   "outputs": [
    {
     "name": "stdout",
     "output_type": "stream",
     "text": [
      "<class 'pandas.core.frame.DataFrame'>\n",
      "RangeIndex: 9562 entries, 0 to 9561\n",
      "Data columns (total 10 columns):\n",
      " #   Column       Non-Null Count  Dtype  \n",
      "---  ------       --------------  -----  \n",
      " 0   Vmag         9562 non-null   float32\n",
      " 1   Plx          9562 non-null   float32\n",
      " 2   e_Plx        9562 non-null   float32\n",
      " 3   B-V          9562 non-null   float32\n",
      " 4   SpType       9562 non-null   object \n",
      " 5   Amag         9562 non-null   float32\n",
      " 6   e_Amag       9562 non-null   float32\n",
      " 7   eA/A         9562 non-null   float32\n",
      " 8   eP/P         9562 non-null   float32\n",
      " 9   TargetClass  9562 non-null   object \n",
      "dtypes: float32(8), object(2)\n",
      "memory usage: 448.3+ KB\n"
     ]
    }
   ],
   "source": [
    "dfBalanced= dfDownSampled.reset_index(drop=True)\n",
    "dfBalanced.info()"
   ]
  },
  {
   "cell_type": "code",
   "execution_count": 17,
   "id": "606d7f9f",
   "metadata": {
    "execution": {
     "iopub.execute_input": "2022-05-04T00:10:13.307327Z",
     "iopub.status.busy": "2022-05-04T00:10:13.306683Z",
     "iopub.status.idle": "2022-05-04T00:10:13.312882Z",
     "shell.execute_reply": "2022-05-04T00:10:13.313384Z",
     "shell.execute_reply.started": "2022-05-04T00:05:45.006120Z"
    },
    "papermill": {
     "duration": 0.060072,
     "end_time": "2022-05-04T00:10:13.313578",
     "exception": false,
     "start_time": "2022-05-04T00:10:13.253506",
     "status": "completed"
    },
    "tags": []
   },
   "outputs": [],
   "source": [
    "dataStar = dfBalanced.sample(frac=1).reset_index(drop=True) # shuffle\n",
    "dfCopyStar = dataStar.copy()\n"
   ]
  },
  {
   "cell_type": "markdown",
   "id": "c46b69c1",
   "metadata": {
    "papermill": {
     "duration": 0.050186,
     "end_time": "2022-05-04T00:10:13.414255",
     "exception": false,
     "start_time": "2022-05-04T00:10:13.364069",
     "status": "completed"
    },
    "tags": []
   },
   "source": [
    "## Visualization ##"
   ]
  },
  {
   "cell_type": "code",
   "execution_count": 18,
   "id": "995d4903",
   "metadata": {
    "execution": {
     "iopub.execute_input": "2022-05-04T00:10:13.525015Z",
     "iopub.status.busy": "2022-05-04T00:10:13.524285Z",
     "iopub.status.idle": "2022-05-04T00:10:13.925427Z",
     "shell.execute_reply": "2022-05-04T00:10:13.924799Z",
     "shell.execute_reply.started": "2022-05-04T00:05:45.015083Z"
    },
    "papermill": {
     "duration": 0.459738,
     "end_time": "2022-05-04T00:10:13.925595",
     "exception": false,
     "start_time": "2022-05-04T00:10:13.465857",
     "status": "completed"
    },
    "tags": []
   },
   "outputs": [
    {
     "data": {
      "image/png": "[encoded data removed]",
      "text/plain": [
       "<Figure size 432x288 with 2 Axes>"
      ]
     },
     "metadata": {},
     "output_type": "display_data"
    },
    {
     "data": {
      "text/plain": [
       "<Figure size 432x288 with 0 Axes>"
      ]
     },
     "metadata": {},
     "output_type": "display_data"
    }
   ],
   "source": [
    "%matplotlib inline\n",
    "\n",
    "sns.set()\n",
    "dataStar.plot.scatter( x=\"Plx\" ,y=\"Amag\",cmap='viridis' ,  c='TargetClass' ,s=5); # problem with TargetClass\n",
    "plt.xlabel(\"Plx\")\n",
    "plt.figure()\n",
    "plt.show()\n"
   ]
  },
  {
   "cell_type": "code",
   "execution_count": 19,
   "id": "21aa771f",
   "metadata": {
    "execution": {
     "iopub.execute_input": "2022-05-04T00:10:14.040942Z",
     "iopub.status.busy": "2022-05-04T00:10:14.040153Z",
     "iopub.status.idle": "2022-05-04T00:10:14.435239Z",
     "shell.execute_reply": "2022-05-04T00:10:14.434711Z",
     "shell.execute_reply.started": "2022-05-04T00:05:45.370097Z"
    },
    "papermill": {
     "duration": 0.455481,
     "end_time": "2022-05-04T00:10:14.435386",
     "exception": false,
     "start_time": "2022-05-04T00:10:13.979905",
     "status": "completed"
    },
    "tags": []
   },
   "outputs": [
    {
     "data": {
      "image/png": "[encoded data removed]",
      "text/plain": [
       "<Figure size 432x288 with 2 Axes>"
      ]
     },
     "metadata": {},
     "output_type": "display_data"
    },
    {
     "data": {
      "text/plain": [
       "<Figure size 432x288 with 0 Axes>"
      ]
     },
     "metadata": {},
     "output_type": "display_data"
    }
   ],
   "source": [
    "%matplotlib inline\n",
    "sns.set()\n",
    "dataStar.plot.scatter( x=\"B-V\" ,y=\"Amag\",cmap='viridis' ,  c='TargetClass' ,s=5); # problem with TargetClass\n",
    "plt.xlabel(\"Plx\")\n",
    "plt.figure()\n",
    "plt.show()\n",
    "\n"
   ]
  },
  {
   "cell_type": "code",
   "execution_count": 20,
   "id": "4ab589b6",
   "metadata": {
    "execution": {
     "iopub.execute_input": "2022-05-04T00:10:14.554181Z",
     "iopub.status.busy": "2022-05-04T00:10:14.553374Z",
     "iopub.status.idle": "2022-05-04T00:10:17.913037Z",
     "shell.execute_reply": "2022-05-04T00:10:17.913551Z",
     "shell.execute_reply.started": "2022-05-04T00:05:45.720003Z"
    },
    "papermill": {
     "duration": 3.422339,
     "end_time": "2022-05-04T00:10:17.913724",
     "exception": false,
     "start_time": "2022-05-04T00:10:14.491385",
     "status": "completed"
    },
    "tags": []
   },
   "outputs": [
    {
     "data": {
      "text/plain": [
       "Vmag           0\n",
       "Plx            0\n",
       "e_Plx          0\n",
       "B-V            0\n",
       "SpType         0\n",
       "Amag           0\n",
       "e_Amag         0\n",
       "eA/A           0\n",
       "eP/P           0\n",
       "TargetClass    0\n",
       "dtype: int64"
      ]
     },
     "execution_count": 20,
     "metadata": {},
     "output_type": "execute_result"
    },
    {
     "data": {
      "image/png": "[encoded data removed]",
      "text/plain": [
       "<Figure size 864x576 with 25 Axes>"
      ]
     },
     "metadata": {},
     "output_type": "display_data"
    }
   ],
   "source": [
    "# scatter attributes\n",
    "\n",
    "from pandas.plotting import scatter_matrix\n",
    "\n",
    "attributes = ['TargetClass','Amag' , 'Vmag' , 'Plx' , 'B-V']\n",
    "\n",
    "# convert a numerical Targetclass \n",
    "dataStar['TargetClass'] = pd.to_numeric(dataStar['TargetClass'] , downcast='float' , errors='coerce')\n",
    "\n",
    "scatter_matrix(dataStar[attributes] , figsize=(12, 8))\n",
    "dataStar.isnull().sum()\n"
   ]
  },
  {
   "cell_type": "markdown",
   "id": "214f1fee",
   "metadata": {
    "papermill": {
     "duration": 0.057465,
     "end_time": "2022-05-04T00:10:18.028875",
     "exception": false,
     "start_time": "2022-05-04T00:10:17.971410",
     "status": "completed"
    },
    "tags": []
   },
   "source": [
    "## Correlation Linear ##"
   ]
  },
  {
   "cell_type": "code",
   "execution_count": 21,
   "id": "99943628",
   "metadata": {
    "execution": {
     "iopub.execute_input": "2022-05-04T00:10:18.149440Z",
     "iopub.status.busy": "2022-05-04T00:10:18.148822Z",
     "iopub.status.idle": "2022-05-04T00:10:18.159261Z",
     "shell.execute_reply": "2022-05-04T00:10:18.159783Z",
     "shell.execute_reply.started": "2022-05-04T00:05:49.310518Z"
    },
    "papermill": {
     "duration": 0.072034,
     "end_time": "2022-05-04T00:10:18.159957",
     "exception": false,
     "start_time": "2022-05-04T00:10:18.087923",
     "status": "completed"
    },
    "tags": []
   },
   "outputs": [
    {
     "data": {
      "text/plain": [
       "TargetClass    1.000000\n",
       "B-V            0.302299\n",
       "eP/P           0.036399\n",
       "e_Amag         0.036399\n",
       "eA/A           0.023408\n",
       "e_Plx         -0.242699\n",
       "Plx           -0.365910\n",
       "Vmag          -0.381619\n",
       "Amag          -0.735124\n",
       "Name: TargetClass, dtype: float64"
      ]
     },
     "execution_count": 21,
     "metadata": {},
     "output_type": "execute_result"
    }
   ],
   "source": [
    "corr_matrix = dataStar.corr()\n",
    "corr_matrix[\"TargetClass\"].sort_values(ascending=False)"
   ]
  },
  {
   "cell_type": "markdown",
   "id": "f09c44d8",
   "metadata": {
    "papermill": {
     "duration": 0.058057,
     "end_time": "2022-05-04T00:10:18.276088",
     "exception": false,
     "start_time": "2022-05-04T00:10:18.218031",
     "status": "completed"
    },
    "tags": []
   },
   "source": [
    "## Data Cleaning ##"
   ]
  },
  {
   "cell_type": "code",
   "execution_count": 22,
   "id": "a2ede122",
   "metadata": {
    "execution": {
     "iopub.execute_input": "2022-05-04T00:10:18.410521Z",
     "iopub.status.busy": "2022-05-04T00:10:18.409400Z",
     "iopub.status.idle": "2022-05-04T00:10:18.414545Z",
     "shell.execute_reply": "2022-05-04T00:10:18.415210Z",
     "shell.execute_reply.started": "2022-05-04T00:05:49.326566Z"
    },
    "papermill": {
     "duration": 0.081413,
     "end_time": "2022-05-04T00:10:18.415444",
     "exception": false,
     "start_time": "2022-05-04T00:10:18.334031",
     "status": "completed"
    },
    "tags": []
   },
   "outputs": [],
   "source": [
    "#dataStar = dataStar.drop(['Unnamed: 0'], axis =1)\n",
    "dataStar = dataStar.drop(['SpType'], axis =1)\n",
    "\n"
   ]
  },
  {
   "cell_type": "markdown",
   "id": "e1c45947",
   "metadata": {
    "papermill": {
     "duration": 0.05746,
     "end_time": "2022-05-04T00:10:18.538337",
     "exception": false,
     "start_time": "2022-05-04T00:10:18.480877",
     "status": "completed"
    },
    "tags": []
   },
   "source": [
    "# **Data Processing** #"
   ]
  },
  {
   "cell_type": "code",
   "execution_count": 23,
   "id": "459bed7b",
   "metadata": {
    "execution": {
     "iopub.execute_input": "2022-05-04T00:10:18.659246Z",
     "iopub.status.busy": "2022-05-04T00:10:18.658520Z",
     "iopub.status.idle": "2022-05-04T00:10:18.667350Z",
     "shell.execute_reply": "2022-05-04T00:10:18.667899Z",
     "shell.execute_reply.started": "2022-05-04T00:05:49.333969Z"
    },
    "papermill": {
     "duration": 0.071974,
     "end_time": "2022-05-04T00:10:18.668072",
     "exception": false,
     "start_time": "2022-05-04T00:10:18.596098",
     "status": "completed"
    },
    "tags": []
   },
   "outputs": [
    {
     "name": "stdout",
     "output_type": "stream",
     "text": [
      "<class 'pandas.core.frame.DataFrame'>\n",
      "RangeIndex: 9562 entries, 0 to 9561\n",
      "Data columns (total 9 columns):\n",
      " #   Column       Non-Null Count  Dtype  \n",
      "---  ------       --------------  -----  \n",
      " 0   Vmag         9562 non-null   float32\n",
      " 1   Plx          9562 non-null   float32\n",
      " 2   e_Plx        9562 non-null   float32\n",
      " 3   B-V          9562 non-null   float32\n",
      " 4   Amag         9562 non-null   float32\n",
      " 5   e_Amag       9562 non-null   float32\n",
      " 6   eA/A         9562 non-null   float32\n",
      " 7   eP/P         9562 non-null   float32\n",
      " 8   TargetClass  9562 non-null   float32\n",
      "dtypes: float32(9)\n",
      "memory usage: 336.3 KB\n"
     ]
    }
   ],
   "source": [
    "dataStar.info()"
   ]
  },
  {
   "cell_type": "markdown",
   "id": "ad662f71",
   "metadata": {
    "papermill": {
     "duration": 0.058254,
     "end_time": "2022-05-04T00:10:18.785089",
     "exception": false,
     "start_time": "2022-05-04T00:10:18.726835",
     "status": "completed"
    },
    "tags": []
   },
   "source": [
    "### Train and test Set ###"
   ]
  },
  {
   "cell_type": "code",
   "execution_count": 24,
   "id": "b2f25fa7",
   "metadata": {
    "execution": {
     "iopub.execute_input": "2022-05-04T00:10:18.906826Z",
     "iopub.status.busy": "2022-05-04T00:10:18.905944Z",
     "iopub.status.idle": "2022-05-04T00:10:19.166923Z",
     "shell.execute_reply": "2022-05-04T00:10:19.166246Z",
     "shell.execute_reply.started": "2022-05-04T00:05:49.354860Z"
    },
    "papermill": {
     "duration": 0.32319,
     "end_time": "2022-05-04T00:10:19.167075",
     "exception": false,
     "start_time": "2022-05-04T00:10:18.843885",
     "status": "completed"
    },
    "tags": []
   },
   "outputs": [],
   "source": [
    "from sklearn.model_selection import train_test_split\n",
    "\n",
    "\n",
    "train , test = train_test_split(dataStar , test_size = 0.2, random_state = 42 )\n",
    "train = train.reset_index(drop=True)\n",
    "test = test.reset_index(drop=True)"
   ]
  },
  {
   "cell_type": "code",
   "execution_count": 25,
   "id": "b3d9f010",
   "metadata": {
    "execution": {
     "iopub.execute_input": "2022-05-04T00:10:19.289827Z",
     "iopub.status.busy": "2022-05-04T00:10:19.289100Z",
     "iopub.status.idle": "2022-05-04T00:10:19.292264Z",
     "shell.execute_reply": "2022-05-04T00:10:19.291786Z",
     "shell.execute_reply.started": "2022-05-04T00:05:49.433068Z"
    },
    "papermill": {
     "duration": 0.066382,
     "end_time": "2022-05-04T00:10:19.292401",
     "exception": false,
     "start_time": "2022-05-04T00:10:19.226019",
     "status": "completed"
    },
    "tags": []
   },
   "outputs": [],
   "source": [
    "## Stratified ##\n",
    "#from sklearn.model_selection import StratifiedShuffleSplit\n",
    "#split = StratifiedShuffleSplit(n_splits=1, test_size=0.2, random_state=42)\n",
    "#for train_index, test_index in split.split(data, data[\"variableStratificada\"]):\n",
    "#strat_train_set = housing.loc[train_index]\n",
    "#strat_test_set = housing.loc[test_index]\n",
    "\n",
    "#from  sklearn.impute import SimpleImputer\n",
    "#imputer = SimpleImputer(strategy='median')\n",
    "\n",
    "#from  sklearn.preprocessing import OneHotEncoder\n",
    "#catEncoder = OneHotEncoder()\n",
    "\n",
    "## numerical ##\n",
    "#from  sklearn.pipeline import Pipeline\n",
    "#from  sklearn.preprocessing import StandardScaler\n",
    "#numerical_pipeline = Pipeline([('imputer', SimpleImputer(strategy=\"median\")),('attribs_adder', CombinedAttributesAdder()),])\n",
    "# new_variable_transformed_numerical = num_pipeline.fit_transform(varible_numerica)\n",
    "\n",
    "## numerical and categorial ##\n",
    "#from sklearn import ColumnTransformer\n",
    "#numerical_attribs = list(numerical_columns)\n",
    "#categorical_attribs = list(categorial_columns)\n",
    "#full_pipeline = ColumnTransformer([(\"num\", numerical_pipeline, numerical_attribs),(\"cat\", OneHotEncoder(), categorical_attribs),])\n",
    "#dataTotal_prepared = full_pipeline.fit_transform(dataTotal) "
   ]
  },
  {
   "cell_type": "markdown",
   "id": "cfb9437d",
   "metadata": {
    "papermill": {
     "duration": 0.058264,
     "end_time": "2022-05-04T00:10:19.409160",
     "exception": false,
     "start_time": "2022-05-04T00:10:19.350896",
     "status": "completed"
    },
    "tags": []
   },
   "source": [
    "## Target ## "
   ]
  },
  {
   "cell_type": "code",
   "execution_count": 26,
   "id": "dc6c75d2",
   "metadata": {
    "execution": {
     "iopub.execute_input": "2022-05-04T00:10:19.532877Z",
     "iopub.status.busy": "2022-05-04T00:10:19.532160Z",
     "iopub.status.idle": "2022-05-04T00:10:19.543473Z",
     "shell.execute_reply": "2022-05-04T00:10:19.544463Z",
     "shell.execute_reply.started": "2022-05-04T00:05:49.440258Z"
    },
    "papermill": {
     "duration": 0.077289,
     "end_time": "2022-05-04T00:10:19.544738",
     "exception": false,
     "start_time": "2022-05-04T00:10:19.467449",
     "status": "completed"
    },
    "tags": []
   },
   "outputs": [
    {
     "name": "stdout",
     "output_type": "stream",
     "text": [
      "<class 'pandas.core.frame.DataFrame'>\n",
      "RangeIndex: 7649 entries, 0 to 7648\n",
      "Data columns (total 8 columns):\n",
      " #   Column  Non-Null Count  Dtype  \n",
      "---  ------  --------------  -----  \n",
      " 0   Vmag    7649 non-null   float32\n",
      " 1   Plx     7649 non-null   float32\n",
      " 2   e_Plx   7649 non-null   float32\n",
      " 3   B-V     7649 non-null   float32\n",
      " 4   Amag    7649 non-null   float32\n",
      " 5   e_Amag  7649 non-null   float32\n",
      " 6   eA/A    7649 non-null   float32\n",
      " 7   eP/P    7649 non-null   float32\n",
      "dtypes: float32(8)\n",
      "memory usage: 239.2 KB\n"
     ]
    }
   ],
   "source": [
    "trainX = train.drop('TargetClass', axis=1)\n",
    "trainY = train['TargetClass'].copy()\n",
    "\n",
    "testX = test.drop('TargetClass', axis=1)\n",
    "testY = test['TargetClass'].copy()\n",
    "trainX.info()"
   ]
  },
  {
   "cell_type": "markdown",
   "id": "85eec038",
   "metadata": {
    "papermill": {
     "duration": 0.060343,
     "end_time": "2022-05-04T00:10:19.665458",
     "exception": false,
     "start_time": "2022-05-04T00:10:19.605115",
     "status": "completed"
    },
    "tags": []
   },
   "source": [
    "## Featuring Engineering ##"
   ]
  },
  {
   "cell_type": "markdown",
   "id": "39ae1475",
   "metadata": {
    "papermill": {
     "duration": 0.059039,
     "end_time": "2022-05-04T00:10:19.783174",
     "exception": false,
     "start_time": "2022-05-04T00:10:19.724135",
     "status": "completed"
    },
    "tags": []
   },
   "source": [
    "##  Pipeline and Featuring Scaling ##"
   ]
  },
  {
   "cell_type": "code",
   "execution_count": 27,
   "id": "a66cb94d",
   "metadata": {
    "execution": {
     "iopub.execute_input": "2022-05-04T00:10:19.906893Z",
     "iopub.status.busy": "2022-05-04T00:10:19.905916Z",
     "iopub.status.idle": "2022-05-04T00:10:20.065685Z",
     "shell.execute_reply": "2022-05-04T00:10:20.066146Z",
     "shell.execute_reply.started": "2022-05-04T00:05:49.465017Z"
    },
    "papermill": {
     "duration": 0.224662,
     "end_time": "2022-05-04T00:10:20.066332",
     "exception": false,
     "start_time": "2022-05-04T00:10:19.841670",
     "status": "completed"
    },
    "tags": []
   },
   "outputs": [
    {
     "name": "stdout",
     "output_type": "stream",
     "text": [
      "Done\n"
     ]
    }
   ],
   "source": [
    "from  sklearn.impute import SimpleImputer\n",
    "from  sklearn.preprocessing import OneHotEncoder\n",
    "\n",
    "from  sklearn.pipeline import Pipeline\n",
    "from  sklearn.preprocessing import StandardScaler\n",
    "\n",
    "numerical_pipeline = Pipeline([('imputer', SimpleImputer(strategy=\"median\")),\n",
    "                              ('std_scaler', StandardScaler())] )\n",
    "\n",
    "from sklearn.compose import ColumnTransformer\n",
    "\n",
    "num_attribs = list(trainX)\n",
    "#cat_attribs = [\"ocean_proximity\"] ---generar lista de attribus catecorial---\n",
    "full_pipeline = ColumnTransformer([(\"num\", numerical_pipeline, num_attribs),\n",
    "#                                   (\"cat\", OneHotEncoder(), cat_attribs),\n",
    "                                  ])\n",
    "\n",
    "Xtrain = full_pipeline.fit_transform(trainX)  # array\n",
    "\n",
    "print('Done')"
   ]
  },
  {
   "cell_type": "markdown",
   "id": "935e2e7b",
   "metadata": {
    "papermill": {
     "duration": 0.064521,
     "end_time": "2022-05-04T00:10:20.191420",
     "exception": false,
     "start_time": "2022-05-04T00:10:20.126899",
     "status": "completed"
    },
    "tags": []
   },
   "source": [
    " # **MODEL** # "
   ]
  },
  {
   "cell_type": "markdown",
   "id": "5f3a05c4",
   "metadata": {
    "papermill": {
     "duration": 0.062389,
     "end_time": "2022-05-04T00:10:20.329707",
     "exception": false,
     "start_time": "2022-05-04T00:10:20.267318",
     "status": "completed"
    },
    "tags": []
   },
   "source": [
    "#### Models ####"
   ]
  },
  {
   "cell_type": "code",
   "execution_count": 28,
   "id": "3c4ad8b0",
   "metadata": {
    "execution": {
     "iopub.execute_input": "2022-05-04T00:10:20.466171Z",
     "iopub.status.busy": "2022-05-04T00:10:20.465441Z",
     "iopub.status.idle": "2022-05-04T00:10:20.531262Z",
     "shell.execute_reply": "2022-05-04T00:10:20.531980Z",
     "shell.execute_reply.started": "2022-05-04T00:05:49.628800Z"
    },
    "papermill": {
     "duration": 0.130399,
     "end_time": "2022-05-04T00:10:20.532185",
     "exception": false,
     "start_time": "2022-05-04T00:10:20.401786",
     "status": "completed"
    },
    "tags": []
   },
   "outputs": [],
   "source": [
    "# Models ==> ['logisRegre' , 'SVM'   , 'SGDClf' ,  'randomForestClassifier' , 'navieBayes']\n",
    "\n",
    "# Classifier\n",
    "from sklearn.linear_model import SGDClassifier\n",
    "from sklearn.linear_model import LogisticRegression\n",
    "from sklearn.ensemble import RandomForestClassifier\n",
    "from sklearn.svm import LinearSVC\n"
   ]
  },
  {
   "cell_type": "code",
   "execution_count": 29,
   "id": "0fb1ff43",
   "metadata": {
    "execution": {
     "iopub.execute_input": "2022-05-04T00:10:20.659461Z",
     "iopub.status.busy": "2022-05-04T00:10:20.658781Z",
     "iopub.status.idle": "2022-05-04T00:10:20.689647Z",
     "shell.execute_reply": "2022-05-04T00:10:20.690172Z",
     "shell.execute_reply.started": "2022-05-04T00:05:49.686010Z"
    },
    "papermill": {
     "duration": 0.094892,
     "end_time": "2022-05-04T00:10:20.690346",
     "exception": false,
     "start_time": "2022-05-04T00:10:20.595454",
     "status": "completed"
    },
    "tags": []
   },
   "outputs": [],
   "source": [
    "\n",
    "SGDClf = SGDClassifier(random_state=42)\n",
    "SGDClf.fit(Xtrain, trainY) # fit equal training\n",
    "\n",
    "LRClf = LogisticRegression(random_state=0)\n",
    "RFClf = RandomForestClassifier(random_state=0)\n",
    "SVClf = LinearSVC(random_state=0)\n",
    "\n",
    "\n",
    "#SGDClf.fit(Xtrain, trainY)"
   ]
  },
  {
   "cell_type": "markdown",
   "id": "fce3b386",
   "metadata": {
    "papermill": {
     "duration": 0.060198,
     "end_time": "2022-05-04T00:10:20.809848",
     "exception": false,
     "start_time": "2022-05-04T00:10:20.749650",
     "status": "completed"
    },
    "tags": []
   },
   "source": [
    "## Cross-Validation ##"
   ]
  },
  {
   "cell_type": "code",
   "execution_count": 30,
   "id": "41e95cfd",
   "metadata": {
    "execution": {
     "iopub.execute_input": "2022-05-04T00:10:20.935346Z",
     "iopub.status.busy": "2022-05-04T00:10:20.934659Z",
     "iopub.status.idle": "2022-05-04T00:10:28.613379Z",
     "shell.execute_reply": "2022-05-04T00:10:28.612841Z",
     "shell.execute_reply.started": "2022-05-04T00:05:49.707849Z"
    },
    "papermill": {
     "duration": 7.742779,
     "end_time": "2022-05-04T00:10:28.613556",
     "exception": false,
     "start_time": "2022-05-04T00:10:20.870777",
     "status": "completed"
    },
    "tags": []
   },
   "outputs": [
    {
     "name": "stdout",
     "output_type": "stream",
     "text": [
      "{0.30375057207620687: SGDClassifier(random_state=42), 0.29300507733232456: LogisticRegression(random_state=0), 0.24437896575107723: RandomForestClassifier(random_state=0)}\n",
      "\n",
      "\n",
      "RandomForestClassifier(random_state=0)\n",
      "DONE\n"
     ]
    }
   ],
   "source": [
    "from sklearn.model_selection import cross_val_score\n",
    "\n",
    "# automatizar entre diversos modelos de la misma categoria\n",
    "def compareModels(models, x, y, numCV, scoringT=\"neg_mean_squared_error\"):\n",
    "    modelsCV = dict()\n",
    "    for mod in models:\n",
    "        scores = cross_val_score(mod, x, y, scoring = scoringT, cv=numCV)\n",
    "        meanScore = np.sqrt(-scores).mean()\n",
    "        modelsCV[meanScore] = mod\n",
    "    \n",
    "    val=min(modelsCV)\n",
    "    bestModel = modelsCV[val]\n",
    "    return modelsCV,bestModel\n",
    "    \n",
    "result, model =compareModels([SGDClf , LRClf, RFClf] , Xtrain , trainY , 6)\n",
    "print(result); print('\\n'); print(model); print('DONE')"
   ]
  },
  {
   "cell_type": "code",
   "execution_count": 31,
   "id": "7271a1fd",
   "metadata": {
    "execution": {
     "iopub.execute_input": "2022-05-04T00:10:28.740376Z",
     "iopub.status.busy": "2022-05-04T00:10:28.739345Z",
     "iopub.status.idle": "2022-05-04T00:10:30.209061Z",
     "shell.execute_reply": "2022-05-04T00:10:30.209644Z",
     "shell.execute_reply.started": "2022-05-04T00:05:57.554458Z"
    },
    "papermill": {
     "duration": 1.536351,
     "end_time": "2022-05-04T00:10:30.209823",
     "exception": false,
     "start_time": "2022-05-04T00:10:28.673472",
     "status": "completed"
    },
    "tags": []
   },
   "outputs": [],
   "source": [
    "model.fit(Xtrain, trainY)\n",
    "\n",
    "Xtest = full_pipeline.fit_transform(testX)\n",
    "Ypredicts = model.predict(Xtest)\n"
   ]
  },
  {
   "cell_type": "code",
   "execution_count": 32,
   "id": "e48c01c5",
   "metadata": {
    "execution": {
     "iopub.execute_input": "2022-05-04T00:10:30.332637Z",
     "iopub.status.busy": "2022-05-04T00:10:30.331929Z",
     "iopub.status.idle": "2022-05-04T00:10:30.338270Z",
     "shell.execute_reply": "2022-05-04T00:10:30.338961Z",
     "shell.execute_reply.started": "2022-05-04T00:05:59.015628Z"
    },
    "papermill": {
     "duration": 0.069586,
     "end_time": "2022-05-04T00:10:30.339152",
     "exception": false,
     "start_time": "2022-05-04T00:10:30.269566",
     "status": "completed"
    },
    "tags": []
   },
   "outputs": [
    {
     "data": {
      "text/plain": [
       "0.25765842"
      ]
     },
     "execution_count": 32,
     "metadata": {},
     "output_type": "execute_result"
    }
   ],
   "source": [
    "# metrica\n",
    "from sklearn.metrics import mean_squared_error\n",
    "\n",
    "mse = mean_squared_error(testY , Ypredicts) \n",
    "rmse = np.sqrt(mse)\n",
    "rmse"
   ]
  },
  {
   "cell_type": "code",
   "execution_count": 33,
   "id": "c7d52ef1",
   "metadata": {
    "execution": {
     "iopub.execute_input": "2022-05-04T00:10:30.465383Z",
     "iopub.status.busy": "2022-05-04T00:10:30.464663Z",
     "iopub.status.idle": "2022-05-04T00:10:30.484006Z",
     "shell.execute_reply": "2022-05-04T00:10:30.484554Z",
     "shell.execute_reply.started": "2022-05-04T00:05:59.024001Z"
    },
    "papermill": {
     "duration": 0.083095,
     "end_time": "2022-05-04T00:10:30.484768",
     "exception": false,
     "start_time": "2022-05-04T00:10:30.401673",
     "status": "completed"
    },
    "tags": []
   },
   "outputs": [
    {
     "data": {
      "text/plain": [
       "'93.361213%'"
      ]
     },
     "execution_count": 33,
     "metadata": {},
     "output_type": "execute_result"
    }
   ],
   "source": [
    "output = pd.DataFrame({'Star': testY, 'StarPred': Ypredicts})\n",
    "\n",
    "def precision(a, b):\n",
    "    cont = 0\n",
    "    for i in np.arange(len(a)):\n",
    "        if (a[i]==b[i]):\n",
    "            cont = cont +1\n",
    "             \n",
    "            \n",
    "    return  format( cont/len(a) , '2%') \n",
    "\n",
    "precision(testY , Ypredicts)"
   ]
  },
  {
   "cell_type": "code",
   "execution_count": 34,
   "id": "c5a948ea",
   "metadata": {
    "execution": {
     "iopub.execute_input": "2022-05-04T00:10:30.610273Z",
     "iopub.status.busy": "2022-05-04T00:10:30.609559Z",
     "iopub.status.idle": "2022-05-04T00:10:30.612566Z",
     "shell.execute_reply": "2022-05-04T00:10:30.613098Z",
     "shell.execute_reply.started": "2022-05-04T00:05:59.053099Z"
    },
    "papermill": {
     "duration": 0.066804,
     "end_time": "2022-05-04T00:10:30.613277",
     "exception": false,
     "start_time": "2022-05-04T00:10:30.546473",
     "status": "completed"
    },
    "tags": []
   },
   "outputs": [],
   "source": [
    "### stratified CV ### see pag 136  Geron's book\n",
    "#from sklearn.model_selection import StratifiedKFold\n",
    "#from sklearn.base import clone\n",
    "#skfolds = StratifiedKFold(n_splits=3, random_state=42)"
   ]
  },
  {
   "cell_type": "markdown",
   "id": "65485bbc",
   "metadata": {
    "papermill": {
     "duration": 0.059482,
     "end_time": "2022-05-04T00:10:30.735996",
     "exception": false,
     "start_time": "2022-05-04T00:10:30.676514",
     "status": "completed"
    },
    "tags": []
   },
   "source": [
    "# **Refinament** #"
   ]
  },
  {
   "cell_type": "markdown",
   "id": "fc9b23d3",
   "metadata": {
    "papermill": {
     "duration": 0.059486,
     "end_time": "2022-05-04T00:10:30.855453",
     "exception": false,
     "start_time": "2022-05-04T00:10:30.795967",
     "status": "completed"
    },
    "tags": []
   },
   "source": [
    "### Hyper-parameters ###"
   ]
  },
  {
   "cell_type": "code",
   "execution_count": 35,
   "id": "1ea7dda0",
   "metadata": {
    "execution": {
     "iopub.execute_input": "2022-05-04T00:10:30.978412Z",
     "iopub.status.busy": "2022-05-04T00:10:30.977772Z",
     "iopub.status.idle": "2022-05-04T00:10:48.965865Z",
     "shell.execute_reply": "2022-05-04T00:10:48.966400Z",
     "shell.execute_reply.started": "2022-05-04T00:05:59.058184Z"
    },
    "papermill": {
     "duration": 18.051229,
     "end_time": "2022-05-04T00:10:48.966590",
     "exception": false,
     "start_time": "2022-05-04T00:10:30.915361",
     "status": "completed"
    },
    "tags": []
   },
   "outputs": [
    {
     "data": {
      "text/plain": [
       "{'max_features': 4, 'n_estimators': 10}"
      ]
     },
     "execution_count": 35,
     "metadata": {},
     "output_type": "execute_result"
    }
   ],
   "source": [
    "from sklearn.model_selection import GridSearchCV\n",
    "from sklearn.model_selection import RandomizedSearchCV\n",
    "from scipy.stats import uniform\n",
    "\n",
    "\n",
    "#distributions = dict(C=uniform(loc=0, scale=4), penalty=['l2','l1'])\n",
    "#clf=RandomizedSearchCV( RFClf , distributions , random_state=0) # arg (model , distri , ...)\n",
    "\n",
    "\n",
    "parameter_grid = [{'n_estimators':[3,5,10], 'max_features':[2,4,6,8]} ,\n",
    "                  {'bootstrap':[False], 'n_estimators':[3,7,12] , 'max_features':[2,3,4]}]\n",
    "clf=GridSearchCV( RFClf , parameter_grid,\n",
    "                cv=5 ,  scoring='neg_mean_squared_error' , return_train_score=True) # arg (model , distri , ...)\n",
    "\n",
    "\n",
    "clf.fit(Xtrain, trainY)\n",
    "\n",
    "clf.best_params_"
   ]
  },
  {
   "cell_type": "markdown",
   "id": "a50d3b92",
   "metadata": {
    "papermill": {
     "duration": 0.061929,
     "end_time": "2022-05-04T00:10:49.088903",
     "exception": false,
     "start_time": "2022-05-04T00:10:49.026974",
     "status": "completed"
    },
    "tags": []
   },
   "source": [
    "###  Model-Hyperparameters ###"
   ]
  },
  {
   "cell_type": "code",
   "execution_count": 36,
   "id": "9fbce04c",
   "metadata": {
    "execution": {
     "iopub.execute_input": "2022-05-04T00:10:49.214930Z",
     "iopub.status.busy": "2022-05-04T00:10:49.214259Z",
     "iopub.status.idle": "2022-05-04T00:10:49.234447Z",
     "shell.execute_reply": "2022-05-04T00:10:49.235061Z",
     "shell.execute_reply.started": "2022-05-04T00:06:16.755784Z"
    },
    "papermill": {
     "duration": 0.083894,
     "end_time": "2022-05-04T00:10:49.235226",
     "exception": false,
     "start_time": "2022-05-04T00:10:49.151332",
     "status": "completed"
    },
    "tags": []
   },
   "outputs": [
    {
     "data": {
      "text/plain": [
       "'94.145321%'"
      ]
     },
     "execution_count": 36,
     "metadata": {},
     "output_type": "execute_result"
    }
   ],
   "source": [
    "finalModel=clf.best_estimator_\n",
    "Ypredfinal=finalModel.predict(Xtest)\n",
    "\n",
    "precision(testY , Ypredfinal) # worse model"
   ]
  },
  {
   "cell_type": "code",
   "execution_count": 37,
   "id": "ecd4dcd4",
   "metadata": {
    "execution": {
     "iopub.execute_input": "2022-05-04T00:10:49.360513Z",
     "iopub.status.busy": "2022-05-04T00:10:49.359866Z",
     "iopub.status.idle": "2022-05-04T00:10:49.364686Z",
     "shell.execute_reply": "2022-05-04T00:10:49.365122Z",
     "shell.execute_reply.started": "2022-05-04T00:06:16.778091Z"
    },
    "papermill": {
     "duration": 0.068874,
     "end_time": "2022-05-04T00:10:49.365293",
     "exception": false,
     "start_time": "2022-05-04T00:10:49.296419",
     "status": "completed"
    },
    "tags": []
   },
   "outputs": [
    {
     "name": "stdout",
     "output_type": "stream",
     "text": [
      "Done-\n"
     ]
    }
   ],
   "source": [
    "print('Done-')"
   ]
  },
  {
   "cell_type": "markdown",
   "id": "cfbfb240",
   "metadata": {
    "papermill": {
     "duration": 0.061055,
     "end_time": "2022-05-04T00:10:49.487768",
     "exception": false,
     "start_time": "2022-05-04T00:10:49.426713",
     "status": "completed"
    },
    "tags": []
   },
   "source": [
    "# **Deploy** #"
   ]
  },
  {
   "cell_type": "code",
   "execution_count": null,
   "id": "14ecc599",
   "metadata": {
    "papermill": {
     "duration": 0.06117,
     "end_time": "2022-05-04T00:10:49.611364",
     "exception": false,
     "start_time": "2022-05-04T00:10:49.550194",
     "status": "completed"
    },
    "tags": []
   },
   "outputs": [],
   "source": []
  },
  {
   "cell_type": "code",
   "execution_count": null,
   "id": "ebdd19f6",
   "metadata": {
    "papermill": {
     "duration": 0.061291,
     "end_time": "2022-05-04T00:10:49.734260",
     "exception": false,
     "start_time": "2022-05-04T00:10:49.672969",
     "status": "completed"
    },
    "tags": []
   },
   "outputs": [],
   "source": []
  }
 ],
 "metadata": {
  "kernelspec": {
   "display_name": "Python 3",
   "language": "python",
   "name": "python3"
  },
  "language_info": {
   "codemirror_mode": {
    "name": "ipython",
    "version": 3
   },
   "file_extension": ".py",
   "mimetype": "text/x-python",
   "name": "python",
   "nbconvert_exporter": "python",
   "pygments_lexer": "ipython3",
   "version": "3.7.12"
  },
  "papermill": {
   "default_parameters": {},
   "duration": 172.926889,
   "end_time": "2022-05-04T00:10:50.607599",
   "environment_variables": {},
   "exception": null,
   "input_path": "__notebook__.ipynb",
   "output_path": "__notebook__.ipynb",
   "parameters": {},
   "start_time": "2022-05-04T00:07:57.680710",
   "version": "2.3.3"
  }
 },
 "nbformat": 4,
 "nbformat_minor": 5
}
