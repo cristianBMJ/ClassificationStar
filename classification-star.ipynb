{
 "cells": [
  {
   "cell_type": "code",
   "execution_count": 1,
   "id": "b3b3681c",
   "metadata": {
    "_cell_guid": "b1076dfc-b9ad-4769-8c92-a6c4dae69d19",
    "_uuid": "8f2839f25d086af736a60e9eeb907d3b93b6e0e5",
    "execution": {
     "iopub.execute_input": "2022-03-02T21:48:27.294015Z",
     "iopub.status.busy": "2022-03-02T21:48:27.292803Z",
     "iopub.status.idle": "2022-03-02T21:48:28.417961Z",
     "shell.execute_reply": "2022-03-02T21:48:28.418467Z",
     "shell.execute_reply.started": "2022-03-02T21:32:33.807837Z"
    },
    "papermill": {
     "duration": 1.17161,
     "end_time": "2022-03-02T21:48:28.418784",
     "exception": false,
     "start_time": "2022-03-02T21:48:27.247174",
     "status": "completed"
    },
    "tags": []
   },
   "outputs": [
    {
     "name": "stdout",
     "output_type": "stream",
     "text": [
      "/kaggle/input/star-categorization-giants-and-dwarfs/Star99999_raw.csv\n",
      "/kaggle/input/star-categorization-giants-and-dwarfs/Star39552_balanced.csv\n",
      "/kaggle/input/star-categorization-giants-and-dwarfs/Star9999_raw.csv\n",
      "/kaggle/input/star-categorization-giants-and-dwarfs/Star3642_balanced.csv\n",
      "Done\n"
     ]
    }
   ],
   "source": [
    "# This Python 3 environment comes with many helpful analytics libraries installed\n",
    "# It is defined by the kaggle/python Docker image: https://github.com/kaggle/docker-python\n",
    "# For example, here's several helpful packages to load\n",
    "\n",
    "%matplotlib inline\n",
    "\n",
    "import numpy as np # linear algebra\n",
    "import pandas as pd # data processing, CSV file I/O (e.g. pd.read_csv)\n",
    "\n",
    "import matplotlib.pyplot as plt\n",
    "import seaborn as sns\n",
    "# Input data files are available in the read-only \"../input/\" directory\n",
    "# For example, running this (by clicking run or pressing Shift+Enter) will list all files under the input directory\n",
    "\n",
    "import os\n",
    "for dirname, _, filenames in os.walk('/kaggle/input'):\n",
    "    for filename in filenames:\n",
    "        print(os.path.join(dirname, filename))\n",
    "\n",
    "# You can write up to 20GB to the current directory (/kaggle/working/) that gets preserved as output when you create a version using \"Save & Run All\" \n",
    "# You can also write temporary files to /kaggle/temp/, but they won't be saved outside of the current session\n",
    "print('Done')"
   ]
  },
  {
   "cell_type": "markdown",
   "id": "eb82bd26",
   "metadata": {
    "papermill": {
     "duration": 0.040184,
     "end_time": "2022-03-02T21:48:28.500342",
     "exception": false,
     "start_time": "2022-03-02T21:48:28.460158",
     "status": "completed"
    },
    "tags": []
   },
   "source": [
    "# **Get Data** #"
   ]
  },
  {
   "cell_type": "code",
   "execution_count": 2,
   "id": "cc038ee6",
   "metadata": {
    "execution": {
     "iopub.execute_input": "2022-03-02T21:48:28.587717Z",
     "iopub.status.busy": "2022-03-02T21:48:28.586987Z",
     "iopub.status.idle": "2022-03-02T21:48:28.879069Z",
     "shell.execute_reply": "2022-03-02T21:48:28.879640Z",
     "shell.execute_reply.started": "2022-03-02T21:32:34.887113Z"
    },
    "papermill": {
     "duration": 0.339165,
     "end_time": "2022-03-02T21:48:28.879823",
     "exception": false,
     "start_time": "2022-03-02T21:48:28.540658",
     "status": "completed"
    },
    "tags": []
   },
   "outputs": [
    {
     "name": "stdout",
     "output_type": "stream",
     "text": [
      "<class 'pandas.core.frame.DataFrame'>\n",
      "RangeIndex: 99999 entries, 0 to 99998\n",
      "Data columns (total 6 columns):\n",
      " #   Column      Non-Null Count  Dtype \n",
      "---  ------      --------------  ----- \n",
      " 0   Unnamed: 0  99999 non-null  int64 \n",
      " 1   Vmag        99999 non-null  object\n",
      " 2   Plx         99999 non-null  object\n",
      " 3   e_Plx       99999 non-null  object\n",
      " 4   B-V         99999 non-null  object\n",
      " 5   SpType      97377 non-null  object\n",
      "dtypes: int64(1), object(5)\n",
      "memory usage: 4.6+ MB\n"
     ]
    }
   ],
   "source": [
    "# Read Data\n",
    "data = pd.read_csv('../input/star-categorization-giants-and-dwarfs/Star39552_balanced.csv') # data pre-processed\n",
    "dataRaw = pd.read_csv('/kaggle/input/star-categorization-giants-and-dwarfs/Star99999_raw.csv') # data initial or Raw \n",
    "dataRaw.info()  # review types variable"
   ]
  },
  {
   "cell_type": "markdown",
   "id": "e1c48aea",
   "metadata": {
    "papermill": {
     "duration": 0.041127,
     "end_time": "2022-03-02T21:48:28.964729",
     "exception": false,
     "start_time": "2022-03-02T21:48:28.923602",
     "status": "completed"
    },
    "tags": []
   },
   "source": [
    "#  **Exploratory Data Analysis** #"
   ]
  },
  {
   "cell_type": "code",
   "execution_count": 3,
   "id": "cc7b2f0f",
   "metadata": {
    "execution": {
     "iopub.execute_input": "2022-03-02T21:48:29.053301Z",
     "iopub.status.busy": "2022-03-02T21:48:29.052296Z",
     "iopub.status.idle": "2022-03-02T21:48:29.289603Z",
     "shell.execute_reply": "2022-03-02T21:48:29.288997Z",
     "shell.execute_reply.started": "2022-03-02T21:32:35.220850Z"
    },
    "papermill": {
     "duration": 0.282242,
     "end_time": "2022-03-02T21:48:29.289754",
     "exception": false,
     "start_time": "2022-03-02T21:48:29.007512",
     "status": "completed"
    },
    "tags": []
   },
   "outputs": [
    {
     "name": "stdout",
     "output_type": "stream",
     "text": [
      "<class 'pandas.core.frame.DataFrame'>\n",
      "RangeIndex: 99999 entries, 0 to 99998\n",
      "Data columns (total 6 columns):\n",
      " #   Column      Non-Null Count  Dtype  \n",
      "---  ------      --------------  -----  \n",
      " 0   Unnamed: 0  99999 non-null  int64  \n",
      " 1   Vmag        99998 non-null  float32\n",
      " 2   Plx         99768 non-null  float32\n",
      " 3   e_Plx       99768 non-null  float32\n",
      " 4   B-V         98871 non-null  float32\n",
      " 5   SpType      97377 non-null  object \n",
      "dtypes: float32(4), int64(1), object(1)\n",
      "memory usage: 3.1+ MB\n"
     ]
    }
   ],
   "source": [
    "# convert object to numeric\n",
    "dataRaw['Vmag'] = pd.to_numeric(dataRaw['Vmag'] , downcast='float' , errors='coerce')\n",
    "dataRaw['Plx'] = pd.to_numeric(dataRaw['Plx'] , downcast='float' , errors='coerce')\n",
    "dataRaw['e_Plx'] = pd.to_numeric(dataRaw['e_Plx'] , downcast='float' , errors='coerce')\n",
    "dataRaw['B-V'] = pd.to_numeric(dataRaw['B-V'] , downcast='float' , errors='coerce')\n",
    "dataRaw.info()"
   ]
  },
  {
   "cell_type": "markdown",
   "id": "ffc8cd37",
   "metadata": {
    "papermill": {
     "duration": 0.041107,
     "end_time": "2022-03-02T21:48:29.371900",
     "exception": false,
     "start_time": "2022-03-02T21:48:29.330793",
     "status": "completed"
    },
    "tags": []
   },
   "source": [
    "### Missing Values ###"
   ]
  },
  {
   "cell_type": "code",
   "execution_count": 4,
   "id": "30da1f7e",
   "metadata": {
    "execution": {
     "iopub.execute_input": "2022-03-02T21:48:29.458441Z",
     "iopub.status.busy": "2022-03-02T21:48:29.457726Z",
     "iopub.status.idle": "2022-03-02T21:48:29.519126Z",
     "shell.execute_reply": "2022-03-02T21:48:29.519960Z",
     "shell.execute_reply.started": "2022-03-02T21:32:35.454848Z"
    },
    "papermill": {
     "duration": 0.106998,
     "end_time": "2022-03-02T21:48:29.520216",
     "exception": false,
     "start_time": "2022-03-02T21:48:29.413218",
     "status": "completed"
    },
    "tags": []
   },
   "outputs": [
    {
     "name": "stdout",
     "output_type": "stream",
     "text": [
      "Num_null:  4213\n",
      "(96742, 6) (99999, 6) (99999, 6)\n",
      "Percentage Missing:  0.702%\n"
     ]
    }
   ],
   "source": [
    "missingValueCount = dataRaw.isnull().sum()\n",
    "print('Num_null: ' , missingValueCount.sum() )\n",
    "\n",
    "dataLabel = dataRaw.dropna()\n",
    "dataUnlabel = dataRaw.fillna(0)\n",
    "\n",
    "print( dataLabel.shape , dataRaw.shape , dataUnlabel.shape )\n",
    "\n",
    "totalData = np.product(dataRaw.shape)\n",
    "percentMissing=missingValueCount.sum()/totalData\n",
    "\n",
    "print('Percentage Missing:', '{: .3%}'.format(percentMissing))\n",
    "dataRaw = dataLabel"
   ]
  },
  {
   "cell_type": "code",
   "execution_count": 5,
   "id": "3381dd82",
   "metadata": {
    "execution": {
     "iopub.execute_input": "2022-03-02T21:48:29.628208Z",
     "iopub.status.busy": "2022-03-02T21:48:29.627492Z",
     "iopub.status.idle": "2022-03-02T21:48:29.675130Z",
     "shell.execute_reply": "2022-03-02T21:48:29.675685Z",
     "shell.execute_reply.started": "2022-03-02T21:32:35.514726Z"
    },
    "papermill": {
     "duration": 0.103056,
     "end_time": "2022-03-02T21:48:29.675866",
     "exception": false,
     "start_time": "2022-03-02T21:48:29.572810",
     "status": "completed"
    },
    "tags": []
   },
   "outputs": [
    {
     "data": {
      "text/html": [
       "<div>\n",
       "<style scoped>\n",
       "    .dataframe tbody tr th:only-of-type {\n",
       "        vertical-align: middle;\n",
       "    }\n",
       "\n",
       "    .dataframe tbody tr th {\n",
       "        vertical-align: top;\n",
       "    }\n",
       "\n",
       "    .dataframe thead th {\n",
       "        text-align: right;\n",
       "    }\n",
       "</style>\n",
       "<table border=\"1\" class=\"dataframe\">\n",
       "  <thead>\n",
       "    <tr style=\"text-align: right;\">\n",
       "      <th></th>\n",
       "      <th>Vmag</th>\n",
       "      <th>Plx</th>\n",
       "      <th>e_Plx</th>\n",
       "      <th>B-V</th>\n",
       "    </tr>\n",
       "  </thead>\n",
       "  <tbody>\n",
       "    <tr>\n",
       "      <th>count</th>\n",
       "      <td>96742.000000</td>\n",
       "      <td>96742.000000</td>\n",
       "      <td>96742.000000</td>\n",
       "      <td>96742.000000</td>\n",
       "    </tr>\n",
       "    <tr>\n",
       "      <th>mean</th>\n",
       "      <td>8.291918</td>\n",
       "      <td>7.105242</td>\n",
       "      <td>1.264163</td>\n",
       "      <td>0.700663</td>\n",
       "    </tr>\n",
       "    <tr>\n",
       "      <th>std</th>\n",
       "      <td>1.247995</td>\n",
       "      <td>11.145643</td>\n",
       "      <td>1.156202</td>\n",
       "      <td>0.490053</td>\n",
       "    </tr>\n",
       "    <tr>\n",
       "      <th>min</th>\n",
       "      <td>-1.440000</td>\n",
       "      <td>-35.099998</td>\n",
       "      <td>0.380000</td>\n",
       "      <td>-0.400000</td>\n",
       "    </tr>\n",
       "    <tr>\n",
       "      <th>25%</th>\n",
       "      <td>7.610000</td>\n",
       "      <td>2.520000</td>\n",
       "      <td>0.870000</td>\n",
       "      <td>0.342000</td>\n",
       "    </tr>\n",
       "    <tr>\n",
       "      <th>50%</th>\n",
       "      <td>8.400000</td>\n",
       "      <td>4.600000</td>\n",
       "      <td>1.080000</td>\n",
       "      <td>0.605000</td>\n",
       "    </tr>\n",
       "    <tr>\n",
       "      <th>75%</th>\n",
       "      <td>9.070000</td>\n",
       "      <td>8.270000</td>\n",
       "      <td>1.360000</td>\n",
       "      <td>1.072000</td>\n",
       "    </tr>\n",
       "    <tr>\n",
       "      <th>max</th>\n",
       "      <td>13.610000</td>\n",
       "      <td>772.330017</td>\n",
       "      <td>69.070000</td>\n",
       "      <td>5.460000</td>\n",
       "    </tr>\n",
       "  </tbody>\n",
       "</table>\n",
       "</div>"
      ],
      "text/plain": [
       "               Vmag           Plx         e_Plx           B-V\n",
       "count  96742.000000  96742.000000  96742.000000  96742.000000\n",
       "mean       8.291918      7.105242      1.264163      0.700663\n",
       "std        1.247995     11.145643      1.156202      0.490053\n",
       "min       -1.440000    -35.099998      0.380000     -0.400000\n",
       "25%        7.610000      2.520000      0.870000      0.342000\n",
       "50%        8.400000      4.600000      1.080000      0.605000\n",
       "75%        9.070000      8.270000      1.360000      1.072000\n",
       "max       13.610000    772.330017     69.070000      5.460000"
      ]
     },
     "execution_count": 5,
     "metadata": {},
     "output_type": "execute_result"
    }
   ],
   "source": [
    "dataRaw = dataRaw.drop(['Unnamed: 0'], axis=1)\n",
    "dataRaw.describe()"
   ]
  },
  {
   "cell_type": "code",
   "execution_count": 6,
   "id": "830eb3d4",
   "metadata": {
    "execution": {
     "iopub.execute_input": "2022-03-02T21:48:29.764123Z",
     "iopub.status.busy": "2022-03-02T21:48:29.763082Z",
     "iopub.status.idle": "2022-03-02T21:48:31.749266Z",
     "shell.execute_reply": "2022-03-02T21:48:31.749853Z",
     "shell.execute_reply.started": "2022-03-02T21:32:35.561414Z"
    },
    "papermill": {
     "duration": 2.032117,
     "end_time": "2022-03-02T21:48:31.750041",
     "exception": false,
     "start_time": "2022-03-02T21:48:29.717924",
     "status": "completed"
    },
    "tags": []
   },
   "outputs": [
    {
     "data": {
      "text/plain": [
       "array([[<AxesSubplot:title={'center':'Vmag'}>,\n",
       "        <AxesSubplot:title={'center':'Plx'}>],\n",
       "       [<AxesSubplot:title={'center':'e_Plx'}>,\n",
       "        <AxesSubplot:title={'center':'B-V'}>],\n",
       "       [<AxesSubplot:title={'center':'Amag'}>,\n",
       "        <AxesSubplot:title={'center':'TargetClass'}>]], dtype=object)"
      ]
     },
     "execution_count": 6,
     "metadata": {},
     "output_type": "execute_result"
    },
    {
     "data": {
      "image/png": "[encoded data removed]",
      "text/plain": [
       "<Figure size 1440x1080 with 6 Axes>"
      ]
     },
     "metadata": {
      "needs_background": "light"
     },
     "output_type": "display_data"
    }
   ],
   "source": [
    "data.hist(bins=50 , figsize=(20,15) ) # histograma"
   ]
  },
  {
   "cell_type": "markdown",
   "id": "e996b03c",
   "metadata": {
    "papermill": {
     "duration": 0.043869,
     "end_time": "2022-03-02T21:48:31.839116",
     "exception": false,
     "start_time": "2022-03-02T21:48:31.795247",
     "status": "completed"
    },
    "tags": []
   },
   "source": [
    "## Pre-Processing ##"
   ]
  },
  {
   "cell_type": "code",
   "execution_count": 7,
   "id": "09725bce",
   "metadata": {
    "execution": {
     "iopub.execute_input": "2022-03-02T21:48:31.938034Z",
     "iopub.status.busy": "2022-03-02T21:48:31.932198Z",
     "iopub.status.idle": "2022-03-02T21:48:31.964562Z",
     "shell.execute_reply": "2022-03-02T21:48:31.965095Z",
     "shell.execute_reply.started": "2022-03-02T21:32:37.407650Z"
    },
    "papermill": {
     "duration": 0.081258,
     "end_time": "2022-03-02T21:48:31.965274",
     "exception": false,
     "start_time": "2022-03-02T21:48:31.884016",
     "status": "completed"
    },
    "tags": []
   },
   "outputs": [
    {
     "data": {
      "text/html": [
       "<div>\n",
       "<style scoped>\n",
       "    .dataframe tbody tr th:only-of-type {\n",
       "        vertical-align: middle;\n",
       "    }\n",
       "\n",
       "    .dataframe tbody tr th {\n",
       "        vertical-align: top;\n",
       "    }\n",
       "\n",
       "    .dataframe thead th {\n",
       "        text-align: right;\n",
       "    }\n",
       "</style>\n",
       "<table border=\"1\" class=\"dataframe\">\n",
       "  <thead>\n",
       "    <tr style=\"text-align: right;\">\n",
       "      <th></th>\n",
       "      <th>Vmag</th>\n",
       "      <th>Plx</th>\n",
       "      <th>e_Plx</th>\n",
       "      <th>B-V</th>\n",
       "      <th>SpType</th>\n",
       "      <th>Amag</th>\n",
       "      <th>e_Amag</th>\n",
       "      <th>eA/A</th>\n",
       "      <th>eP/P</th>\n",
       "    </tr>\n",
       "  </thead>\n",
       "  <tbody>\n",
       "    <tr>\n",
       "      <th>0</th>\n",
       "      <td>9.10</td>\n",
       "      <td>3.54</td>\n",
       "      <td>1.39</td>\n",
       "      <td>0.482</td>\n",
       "      <td>F5</td>\n",
       "      <td>16.845016</td>\n",
       "      <td>0.852640</td>\n",
       "      <td>0.050617</td>\n",
       "      <td>0.392655</td>\n",
       "    </tr>\n",
       "    <tr>\n",
       "      <th>1</th>\n",
       "      <td>9.27</td>\n",
       "      <td>21.90</td>\n",
       "      <td>3.10</td>\n",
       "      <td>0.999</td>\n",
       "      <td>K3V</td>\n",
       "      <td>20.972221</td>\n",
       "      <td>0.307377</td>\n",
       "      <td>0.014656</td>\n",
       "      <td>0.141553</td>\n",
       "    </tr>\n",
       "    <tr>\n",
       "      <th>2</th>\n",
       "      <td>6.61</td>\n",
       "      <td>2.81</td>\n",
       "      <td>0.63</td>\n",
       "      <td>-0.019</td>\n",
       "      <td>B9</td>\n",
       "      <td>13.853533</td>\n",
       "      <td>0.486843</td>\n",
       "      <td>0.035142</td>\n",
       "      <td>0.224199</td>\n",
       "    </tr>\n",
       "    <tr>\n",
       "      <th>3</th>\n",
       "      <td>8.06</td>\n",
       "      <td>7.75</td>\n",
       "      <td>0.97</td>\n",
       "      <td>0.370</td>\n",
       "      <td>F0V</td>\n",
       "      <td>17.506508</td>\n",
       "      <td>0.271784</td>\n",
       "      <td>0.015525</td>\n",
       "      <td>0.125161</td>\n",
       "    </tr>\n",
       "    <tr>\n",
       "      <th>4</th>\n",
       "      <td>8.55</td>\n",
       "      <td>2.87</td>\n",
       "      <td>1.11</td>\n",
       "      <td>0.902</td>\n",
       "      <td>G8III</td>\n",
       "      <td>15.839410</td>\n",
       "      <td>0.839838</td>\n",
       "      <td>0.053022</td>\n",
       "      <td>0.386760</td>\n",
       "    </tr>\n",
       "  </tbody>\n",
       "</table>\n",
       "</div>"
      ],
      "text/plain": [
       "   Vmag    Plx  e_Plx    B-V SpType       Amag    e_Amag      eA/A      eP/P\n",
       "0  9.10   3.54   1.39  0.482     F5  16.845016  0.852640  0.050617  0.392655\n",
       "1  9.27  21.90   3.10  0.999    K3V  20.972221  0.307377  0.014656  0.141553\n",
       "2  6.61   2.81   0.63 -0.019     B9  13.853533  0.486843  0.035142  0.224199\n",
       "3  8.06   7.75   0.97  0.370    F0V  17.506508  0.271784  0.015525  0.125161\n",
       "4  8.55   2.87   1.11  0.902  G8III  15.839410  0.839838  0.053022  0.386760"
      ]
     },
     "execution_count": 7,
     "metadata": {},
     "output_type": "execute_result"
    }
   ],
   "source": [
    "# New variables\n",
    "\n",
    "data = dataRaw\n",
    "data = data[data.Plx != 0]\n",
    "data = data.reset_index(drop=True)\n",
    "\n",
    "data['Amag']   = data['Vmag'] + 5*( np.log10( np.abs( data['Plx'] ) )+ 1 )  # log is ln\n",
    "data['e_Amag'] = 5*data['e_Plx']/(data['Plx']*np.log(10) )   # propagacion de error\n",
    "\n",
    "data['eA/A']   = data['e_Amag']/data['Amag']\n",
    "data['eP/P']   = data['e_Plx']/data['Plx']\n",
    "\n",
    "dataRaw = data\n",
    "dataRaw.head()"
   ]
  },
  {
   "cell_type": "code",
   "execution_count": 8,
   "id": "65306dcd",
   "metadata": {
    "execution": {
     "iopub.execute_input": "2022-03-02T21:48:32.058179Z",
     "iopub.status.busy": "2022-03-02T21:48:32.057142Z",
     "iopub.status.idle": "2022-03-02T21:48:32.089569Z",
     "shell.execute_reply": "2022-03-02T21:48:32.090141Z",
     "shell.execute_reply.started": "2022-03-02T21:32:37.441016Z"
    },
    "papermill": {
     "duration": 0.080721,
     "end_time": "2022-03-02T21:48:32.090319",
     "exception": false,
     "start_time": "2022-03-02T21:48:32.009598",
     "status": "completed"
    },
    "tags": []
   },
   "outputs": [
    {
     "data": {
      "text/html": [
       "<div>\n",
       "<style scoped>\n",
       "    .dataframe tbody tr th:only-of-type {\n",
       "        vertical-align: middle;\n",
       "    }\n",
       "\n",
       "    .dataframe tbody tr th {\n",
       "        vertical-align: top;\n",
       "    }\n",
       "\n",
       "    .dataframe thead th {\n",
       "        text-align: right;\n",
       "    }\n",
       "</style>\n",
       "<table border=\"1\" class=\"dataframe\">\n",
       "  <thead>\n",
       "    <tr style=\"text-align: right;\">\n",
       "      <th></th>\n",
       "      <th>Vmag</th>\n",
       "      <th>Plx</th>\n",
       "      <th>e_Plx</th>\n",
       "      <th>B-V</th>\n",
       "      <th>SpType</th>\n",
       "      <th>Amag</th>\n",
       "      <th>e_Amag</th>\n",
       "      <th>eA/A</th>\n",
       "      <th>eP/P</th>\n",
       "      <th>TargetClass</th>\n",
       "    </tr>\n",
       "  </thead>\n",
       "  <tbody>\n",
       "    <tr>\n",
       "      <th>0</th>\n",
       "      <td>9.10</td>\n",
       "      <td>3.54</td>\n",
       "      <td>1.39</td>\n",
       "      <td>0.482</td>\n",
       "      <td>F5</td>\n",
       "      <td>16.845016</td>\n",
       "      <td>0.852640</td>\n",
       "      <td>0.050617</td>\n",
       "      <td>0.392655</td>\n",
       "      <td>F5</td>\n",
       "    </tr>\n",
       "    <tr>\n",
       "      <th>1</th>\n",
       "      <td>9.27</td>\n",
       "      <td>21.90</td>\n",
       "      <td>3.10</td>\n",
       "      <td>0.999</td>\n",
       "      <td>K3V</td>\n",
       "      <td>20.972221</td>\n",
       "      <td>0.307377</td>\n",
       "      <td>0.014656</td>\n",
       "      <td>0.141553</td>\n",
       "      <td>K3V</td>\n",
       "    </tr>\n",
       "    <tr>\n",
       "      <th>2</th>\n",
       "      <td>6.61</td>\n",
       "      <td>2.81</td>\n",
       "      <td>0.63</td>\n",
       "      <td>-0.019</td>\n",
       "      <td>B9</td>\n",
       "      <td>13.853533</td>\n",
       "      <td>0.486843</td>\n",
       "      <td>0.035142</td>\n",
       "      <td>0.224199</td>\n",
       "      <td>B9</td>\n",
       "    </tr>\n",
       "    <tr>\n",
       "      <th>3</th>\n",
       "      <td>8.06</td>\n",
       "      <td>7.75</td>\n",
       "      <td>0.97</td>\n",
       "      <td>0.370</td>\n",
       "      <td>F0V</td>\n",
       "      <td>17.506508</td>\n",
       "      <td>0.271784</td>\n",
       "      <td>0.015525</td>\n",
       "      <td>0.125161</td>\n",
       "      <td>F0V</td>\n",
       "    </tr>\n",
       "    <tr>\n",
       "      <th>4</th>\n",
       "      <td>8.55</td>\n",
       "      <td>2.87</td>\n",
       "      <td>1.11</td>\n",
       "      <td>0.902</td>\n",
       "      <td>G8III</td>\n",
       "      <td>15.839410</td>\n",
       "      <td>0.839838</td>\n",
       "      <td>0.053022</td>\n",
       "      <td>0.386760</td>\n",
       "      <td>G8III</td>\n",
       "    </tr>\n",
       "  </tbody>\n",
       "</table>\n",
       "</div>"
      ],
      "text/plain": [
       "   Vmag    Plx  e_Plx    B-V SpType       Amag    e_Amag      eA/A      eP/P  \\\n",
       "0  9.10   3.54   1.39  0.482     F5  16.845016  0.852640  0.050617  0.392655   \n",
       "1  9.27  21.90   3.10  0.999    K3V  20.972221  0.307377  0.014656  0.141553   \n",
       "2  6.61   2.81   0.63 -0.019     B9  13.853533  0.486843  0.035142  0.224199   \n",
       "3  8.06   7.75   0.97  0.370    F0V  17.506508  0.271784  0.015525  0.125161   \n",
       "4  8.55   2.87   1.11  0.902  G8III  15.839410  0.839838  0.053022  0.386760   \n",
       "\n",
       "  TargetClass  \n",
       "0          F5  \n",
       "1         K3V  \n",
       "2          B9  \n",
       "3         F0V  \n",
       "4       G8III  "
      ]
     },
     "execution_count": 8,
     "metadata": {},
     "output_type": "execute_result"
    }
   ],
   "source": [
    "#dataRaw = dataRaw.drop('Unnamed: 0', axis=1)\n",
    "dataRaw['TargetClass'] = dataRaw['SpType']\n",
    "\n",
    "dataRaw = dataRaw.reset_index(drop=True) # reindexar debido al drop\n",
    "dataRaw.head() "
   ]
  },
  {
   "cell_type": "code",
   "execution_count": 9,
   "id": "091520b7",
   "metadata": {
    "execution": {
     "iopub.execute_input": "2022-03-02T21:48:32.184270Z",
     "iopub.status.busy": "2022-03-02T21:48:32.183270Z",
     "iopub.status.idle": "2022-03-02T21:48:32.218943Z",
     "shell.execute_reply": "2022-03-02T21:48:32.219567Z",
     "shell.execute_reply.started": "2022-03-02T21:32:37.473009Z"
    },
    "papermill": {
     "duration": 0.084634,
     "end_time": "2022-03-02T21:48:32.219767",
     "exception": false,
     "start_time": "2022-03-02T21:48:32.135133",
     "status": "completed"
    },
    "tags": []
   },
   "outputs": [
    {
     "name": "stdout",
     "output_type": "stream",
     "text": [
      "<class 'pandas.core.frame.DataFrame'>\n",
      "RangeIndex: 96707 entries, 0 to 96706\n",
      "Data columns (total 10 columns):\n",
      " #   Column       Non-Null Count  Dtype  \n",
      "---  ------       --------------  -----  \n",
      " 0   Vmag         96707 non-null  float32\n",
      " 1   Plx          96707 non-null  float32\n",
      " 2   e_Plx        96707 non-null  float32\n",
      " 3   B-V          96707 non-null  float32\n",
      " 4   SpType       96707 non-null  object \n",
      " 5   Amag         96707 non-null  float32\n",
      " 6   e_Amag       96707 non-null  float32\n",
      " 7   eA/A         96707 non-null  float32\n",
      " 8   eP/P         96707 non-null  float32\n",
      " 9   TargetClass  96707 non-null  object \n",
      "dtypes: float32(8), object(2)\n",
      "memory usage: 4.4+ MB\n"
     ]
    }
   ],
   "source": [
    "dataRaw.info()"
   ]
  },
  {
   "cell_type": "markdown",
   "id": "ce216a5a",
   "metadata": {
    "papermill": {
     "duration": 0.047219,
     "end_time": "2022-03-02T21:48:32.314762",
     "exception": false,
     "start_time": "2022-03-02T21:48:32.267543",
     "status": "completed"
    },
    "tags": []
   },
   "source": [
    "## Target Class: Giants or Dwarfs ##"
   ]
  },
  {
   "cell_type": "code",
   "execution_count": 10,
   "id": "e80a29cb",
   "metadata": {
    "execution": {
     "iopub.execute_input": "2022-03-02T21:48:32.413587Z",
     "iopub.status.busy": "2022-03-02T21:48:32.412837Z",
     "iopub.status.idle": "2022-03-02T21:50:34.289121Z",
     "shell.execute_reply": "2022-03-02T21:50:34.289654Z",
     "shell.execute_reply.started": "2022-03-02T21:32:37.512984Z"
    },
    "papermill": {
     "duration": 121.927628,
     "end_time": "2022-03-02T21:50:34.289840",
     "exception": false,
     "start_time": "2022-03-02T21:48:32.362212",
     "status": "completed"
    },
    "tags": []
   },
   "outputs": [
    {
     "data": {
      "text/html": [
       "<div>\n",
       "<style scoped>\n",
       "    .dataframe tbody tr th:only-of-type {\n",
       "        vertical-align: middle;\n",
       "    }\n",
       "\n",
       "    .dataframe tbody tr th {\n",
       "        vertical-align: top;\n",
       "    }\n",
       "\n",
       "    .dataframe thead th {\n",
       "        text-align: right;\n",
       "    }\n",
       "</style>\n",
       "<table border=\"1\" class=\"dataframe\">\n",
       "  <thead>\n",
       "    <tr style=\"text-align: right;\">\n",
       "      <th></th>\n",
       "      <th>Vmag</th>\n",
       "      <th>Plx</th>\n",
       "      <th>e_Plx</th>\n",
       "      <th>B-V</th>\n",
       "      <th>SpType</th>\n",
       "      <th>Amag</th>\n",
       "      <th>e_Amag</th>\n",
       "      <th>eA/A</th>\n",
       "      <th>eP/P</th>\n",
       "      <th>TargetClass</th>\n",
       "    </tr>\n",
       "  </thead>\n",
       "  <tbody>\n",
       "    <tr>\n",
       "      <th>0</th>\n",
       "      <td>9.10</td>\n",
       "      <td>3.54</td>\n",
       "      <td>1.39</td>\n",
       "      <td>0.482</td>\n",
       "      <td>F5</td>\n",
       "      <td>16.845016</td>\n",
       "      <td>0.852640</td>\n",
       "      <td>0.050617</td>\n",
       "      <td>0.392655</td>\n",
       "      <td>9</td>\n",
       "    </tr>\n",
       "    <tr>\n",
       "      <th>1</th>\n",
       "      <td>9.27</td>\n",
       "      <td>21.90</td>\n",
       "      <td>3.10</td>\n",
       "      <td>0.999</td>\n",
       "      <td>K3V</td>\n",
       "      <td>20.972221</td>\n",
       "      <td>0.307377</td>\n",
       "      <td>0.014656</td>\n",
       "      <td>0.141553</td>\n",
       "      <td>9</td>\n",
       "    </tr>\n",
       "    <tr>\n",
       "      <th>2</th>\n",
       "      <td>6.61</td>\n",
       "      <td>2.81</td>\n",
       "      <td>0.63</td>\n",
       "      <td>-0.019</td>\n",
       "      <td>B9</td>\n",
       "      <td>13.853533</td>\n",
       "      <td>0.486843</td>\n",
       "      <td>0.035142</td>\n",
       "      <td>0.224199</td>\n",
       "      <td>9</td>\n",
       "    </tr>\n",
       "    <tr>\n",
       "      <th>3</th>\n",
       "      <td>8.06</td>\n",
       "      <td>7.75</td>\n",
       "      <td>0.97</td>\n",
       "      <td>0.370</td>\n",
       "      <td>F0V</td>\n",
       "      <td>17.506508</td>\n",
       "      <td>0.271784</td>\n",
       "      <td>0.015525</td>\n",
       "      <td>0.125161</td>\n",
       "      <td>9</td>\n",
       "    </tr>\n",
       "    <tr>\n",
       "      <th>4</th>\n",
       "      <td>8.55</td>\n",
       "      <td>2.87</td>\n",
       "      <td>1.11</td>\n",
       "      <td>0.902</td>\n",
       "      <td>G8III</td>\n",
       "      <td>15.839410</td>\n",
       "      <td>0.839838</td>\n",
       "      <td>0.053022</td>\n",
       "      <td>0.386760</td>\n",
       "      <td>1</td>\n",
       "    </tr>\n",
       "  </tbody>\n",
       "</table>\n",
       "</div>"
      ],
      "text/plain": [
       "   Vmag    Plx  e_Plx    B-V SpType       Amag    e_Amag      eA/A      eP/P  \\\n",
       "0  9.10   3.54   1.39  0.482     F5  16.845016  0.852640  0.050617  0.392655   \n",
       "1  9.27  21.90   3.10  0.999    K3V  20.972221  0.307377  0.014656  0.141553   \n",
       "2  6.61   2.81   0.63 -0.019     B9  13.853533  0.486843  0.035142  0.224199   \n",
       "3  8.06   7.75   0.97  0.370    F0V  17.506508  0.271784  0.015525  0.125161   \n",
       "4  8.55   2.87   1.11  0.902  G8III  15.839410  0.839838  0.053022  0.386760   \n",
       "\n",
       "  TargetClass  \n",
       "0           9  \n",
       "1           9  \n",
       "2           9  \n",
       "3           9  \n",
       "4           1  "
      ]
     },
     "execution_count": 10,
     "metadata": {},
     "output_type": "execute_result"
    }
   ],
   "source": [
    "# Procesamiento target, clasificar en Giants and dwarfs\n",
    "\n",
    "\n",
    "for i in range(len(dataRaw['TargetClass'])):\n",
    "    if \"I\" in dataRaw.loc[i,'TargetClass']: \n",
    "        dataRaw.loc[i,'TargetClass'] = 1   # 1 giant       \n",
    "    elif (\"VII\" or \"VI\") in dataRaw.loc[i,'TargetClass']: \n",
    "        dataRaw.loc[i,'TargetClass'] = 0 # VII is Dwarf (0)\n",
    "    elif \"V\" in dataRaw.loc[i,'TargetClass']: \n",
    "        if ('G' or 'K' or 'M' or 'L' or 'T') in  dataRaw.loc[i,'TargetClass']:\n",
    "            dataRaw.loc[i,'TargetClass'] = 0\n",
    "        else:\n",
    "            dataRaw.loc[i,'TargetClass'] = 9\n",
    "    else: \n",
    "        dataRaw.loc[i,'TargetClass'] = 9 # None\n",
    "        \n",
    "dataRaw['TargetClass']\n",
    "\n",
    "dataRaw.head()"
   ]
  },
  {
   "cell_type": "code",
   "execution_count": 11,
   "id": "a8858200",
   "metadata": {
    "execution": {
     "iopub.execute_input": "2022-03-02T21:50:34.388582Z",
     "iopub.status.busy": "2022-03-02T21:50:34.387584Z",
     "iopub.status.idle": "2022-03-02T21:50:34.871484Z",
     "shell.execute_reply": "2022-03-02T21:50:34.870497Z",
     "shell.execute_reply.started": "2022-03-02T21:34:34.389551Z"
    },
    "papermill": {
     "duration": 0.534702,
     "end_time": "2022-03-02T21:50:34.871637",
     "exception": false,
     "start_time": "2022-03-02T21:50:34.336935",
     "status": "completed"
    },
    "tags": []
   },
   "outputs": [
    {
     "name": "stderr",
     "output_type": "stream",
     "text": [
      "/opt/conda/lib/python3.7/site-packages/seaborn/_decorators.py:43: FutureWarning: Pass the following variable as a keyword arg: x. From version 0.12, the only valid positional argument will be `data`, and passing other arguments without an explicit keyword will result in an error or misinterpretation.\n",
      "  FutureWarning\n"
     ]
    },
    {
     "data": {
      "text/plain": [
       "<AxesSubplot:xlabel='TargetClass', ylabel='count'>"
      ]
     },
     "execution_count": 11,
     "metadata": {},
     "output_type": "execute_result"
    },
    {
     "data": {
      "image/png": "[encoded data removed]",
      "text/plain": [
       "<Figure size 432x288 with 1 Axes>"
      ]
     },
     "metadata": {
      "needs_background": "light"
     },
     "output_type": "display_data"
    }
   ],
   "source": [
    "sns.countplot( dataRaw['TargetClass'] )"
   ]
  },
  {
   "cell_type": "code",
   "execution_count": 12,
   "id": "b2f2c819",
   "metadata": {
    "execution": {
     "iopub.execute_input": "2022-03-02T21:50:34.969579Z",
     "iopub.status.busy": "2022-03-02T21:50:34.968872Z",
     "iopub.status.idle": "2022-03-02T21:50:34.986902Z",
     "shell.execute_reply": "2022-03-02T21:50:34.987455Z",
     "shell.execute_reply.started": "2022-03-02T21:34:34.830157Z"
    },
    "papermill": {
     "duration": 0.068656,
     "end_time": "2022-03-02T21:50:34.987629",
     "exception": false,
     "start_time": "2022-03-02T21:50:34.918973",
     "status": "completed"
    },
    "tags": []
   },
   "outputs": [
    {
     "data": {
      "text/plain": [
       "9    65279\n",
       "1    26647\n",
       "0     4781\n",
       "Name: TargetClass, dtype: int64"
      ]
     },
     "execution_count": 12,
     "metadata": {},
     "output_type": "execute_result"
    }
   ],
   "source": [
    "dataRaw['TargetClass'].value_counts()"
   ]
  },
  {
   "cell_type": "markdown",
   "id": "39839ffd",
   "metadata": {
    "papermill": {
     "duration": 0.047658,
     "end_time": "2022-03-02T21:50:35.083256",
     "exception": false,
     "start_time": "2022-03-02T21:50:35.035598",
     "status": "completed"
    },
    "tags": []
   },
   "source": [
    "### Selection only Giants or Dwarfs ###"
   ]
  },
  {
   "cell_type": "code",
   "execution_count": 13,
   "id": "58af32bb",
   "metadata": {
    "execution": {
     "iopub.execute_input": "2022-03-02T21:50:35.182439Z",
     "iopub.status.busy": "2022-03-02T21:50:35.181771Z",
     "iopub.status.idle": "2022-03-02T21:50:35.202584Z",
     "shell.execute_reply": "2022-03-02T21:50:35.203124Z",
     "shell.execute_reply.started": "2022-03-02T21:34:34.859095Z"
    },
    "papermill": {
     "duration": 0.072215,
     "end_time": "2022-03-02T21:50:35.203294",
     "exception": false,
     "start_time": "2022-03-02T21:50:35.131079",
     "status": "completed"
    },
    "tags": []
   },
   "outputs": [],
   "source": [
    "# copy and drop number 9\n",
    "df = dataRaw[dataRaw.TargetClass != 9 ] # != return  boolean"
   ]
  },
  {
   "cell_type": "markdown",
   "id": "69ac87ee",
   "metadata": {
    "papermill": {
     "duration": 0.047017,
     "end_time": "2022-03-02T21:50:35.297853",
     "exception": false,
     "start_time": "2022-03-02T21:50:35.250836",
     "status": "completed"
    },
    "tags": []
   },
   "source": [
    "## Balance ##"
   ]
  },
  {
   "cell_type": "code",
   "execution_count": 14,
   "id": "8df9100a",
   "metadata": {
    "execution": {
     "iopub.execute_input": "2022-03-02T21:50:35.406319Z",
     "iopub.status.busy": "2022-03-02T21:50:35.405242Z",
     "iopub.status.idle": "2022-03-02T21:50:35.534738Z",
     "shell.execute_reply": "2022-03-02T21:50:35.534007Z",
     "shell.execute_reply.started": "2022-03-02T21:34:34.889635Z"
    },
    "papermill": {
     "duration": 0.188793,
     "end_time": "2022-03-02T21:50:35.534897",
     "exception": false,
     "start_time": "2022-03-02T21:50:35.346104",
     "status": "completed"
    },
    "tags": []
   },
   "outputs": [],
   "source": [
    "# dividir set \n",
    "\n",
    "dfGiants = df[df.TargetClass == 1]\n",
    "dfDwarfs = df[df.TargetClass == 0]\n",
    "num_of_giant = dfGiants.shape[0]\n",
    "num_of_dwarf = dfDwarfs.shape[0]\n",
    "\n",
    "from sklearn.utils import resample\n",
    "dfGiantsDownSample = resample(dfGiants, \n",
    "                             replace = False, # sample without replacement\n",
    "                             n_samples = num_of_dwarf,\n",
    "                             random_state =1 \n",
    "                             )\n",
    "dfDownSampled = pd.concat([dfGiantsDownSample , dfDwarfs] )"
   ]
  },
  {
   "cell_type": "code",
   "execution_count": 15,
   "id": "27617c20",
   "metadata": {
    "execution": {
     "iopub.execute_input": "2022-03-02T21:50:35.635676Z",
     "iopub.status.busy": "2022-03-02T21:50:35.634969Z",
     "iopub.status.idle": "2022-03-02T21:50:35.828378Z",
     "shell.execute_reply": "2022-03-02T21:50:35.827855Z",
     "shell.execute_reply.started": "2022-03-02T21:34:35.013894Z"
    },
    "papermill": {
     "duration": 0.245775,
     "end_time": "2022-03-02T21:50:35.828524",
     "exception": false,
     "start_time": "2022-03-02T21:50:35.582749",
     "status": "completed"
    },
    "tags": []
   },
   "outputs": [
    {
     "name": "stdout",
     "output_type": "stream",
     "text": [
      "1    4781\n",
      "0    4781\n",
      "Name: TargetClass, dtype: int64\n"
     ]
    },
    {
     "name": "stderr",
     "output_type": "stream",
     "text": [
      "/opt/conda/lib/python3.7/site-packages/seaborn/_decorators.py:43: FutureWarning: Pass the following variable as a keyword arg: x. From version 0.12, the only valid positional argument will be `data`, and passing other arguments without an explicit keyword will result in an error or misinterpretation.\n",
      "  FutureWarning\n"
     ]
    },
    {
     "data": {
      "image/png": "[encoded data removed]",
      "text/plain": [
       "<Figure size 432x288 with 1 Axes>"
      ]
     },
     "metadata": {
      "needs_background": "light"
     },
     "output_type": "display_data"
    }
   ],
   "source": [
    "sns.countplot(dfDownSampled['TargetClass'])\n",
    "print( dfDownSampled['TargetClass'].value_counts())"
   ]
  },
  {
   "cell_type": "code",
   "execution_count": 16,
   "id": "d408eb51",
   "metadata": {
    "execution": {
     "iopub.execute_input": "2022-03-02T21:50:35.932783Z",
     "iopub.status.busy": "2022-03-02T21:50:35.932035Z",
     "iopub.status.idle": "2022-03-02T21:50:35.946006Z",
     "shell.execute_reply": "2022-03-02T21:50:35.946573Z",
     "shell.execute_reply.started": "2022-03-02T21:34:35.205154Z"
    },
    "papermill": {
     "duration": 0.068959,
     "end_time": "2022-03-02T21:50:35.946759",
     "exception": false,
     "start_time": "2022-03-02T21:50:35.877800",
     "status": "completed"
    },
    "tags": []
   },
   "outputs": [
    {
     "name": "stdout",
     "output_type": "stream",
     "text": [
      "<class 'pandas.core.frame.DataFrame'>\n",
      "RangeIndex: 9562 entries, 0 to 9561\n",
      "Data columns (total 10 columns):\n",
      " #   Column       Non-Null Count  Dtype  \n",
      "---  ------       --------------  -----  \n",
      " 0   Vmag         9562 non-null   float32\n",
      " 1   Plx          9562 non-null   float32\n",
      " 2   e_Plx        9562 non-null   float32\n",
      " 3   B-V          9562 non-null   float32\n",
      " 4   SpType       9562 non-null   object \n",
      " 5   Amag         9562 non-null   float32\n",
      " 6   e_Amag       9562 non-null   float32\n",
      " 7   eA/A         9562 non-null   float32\n",
      " 8   eP/P         9562 non-null   float32\n",
      " 9   TargetClass  9562 non-null   object \n",
      "dtypes: float32(8), object(2)\n",
      "memory usage: 448.3+ KB\n"
     ]
    }
   ],
   "source": [
    "dfBalanced= dfDownSampled.reset_index(drop=True)\n",
    "dfBalanced.info()"
   ]
  },
  {
   "cell_type": "code",
   "execution_count": 17,
   "id": "ea217d81",
   "metadata": {
    "execution": {
     "iopub.execute_input": "2022-03-02T21:50:36.051329Z",
     "iopub.status.busy": "2022-03-02T21:50:36.050325Z",
     "iopub.status.idle": "2022-03-02T21:50:36.057432Z",
     "shell.execute_reply": "2022-03-02T21:50:36.058020Z",
     "shell.execute_reply.started": "2022-03-02T21:34:35.224278Z"
    },
    "papermill": {
     "duration": 0.060534,
     "end_time": "2022-03-02T21:50:36.058195",
     "exception": false,
     "start_time": "2022-03-02T21:50:35.997661",
     "status": "completed"
    },
    "tags": []
   },
   "outputs": [],
   "source": [
    "dataStar = dfBalanced.sample(frac=1).reset_index(drop=True) # shuffle\n",
    "dfCopyStar = dataStar.copy()\n"
   ]
  },
  {
   "cell_type": "markdown",
   "id": "7612312e",
   "metadata": {
    "papermill": {
     "duration": 0.049206,
     "end_time": "2022-03-02T21:50:36.156972",
     "exception": false,
     "start_time": "2022-03-02T21:50:36.107766",
     "status": "completed"
    },
    "tags": []
   },
   "source": [
    "## Visualization ##"
   ]
  },
  {
   "cell_type": "code",
   "execution_count": 18,
   "id": "77dfe0bf",
   "metadata": {
    "execution": {
     "iopub.execute_input": "2022-03-02T21:50:36.259391Z",
     "iopub.status.busy": "2022-03-02T21:50:36.258674Z",
     "iopub.status.idle": "2022-03-02T21:50:36.672484Z",
     "shell.execute_reply": "2022-03-02T21:50:36.671796Z",
     "shell.execute_reply.started": "2022-03-02T21:34:35.233731Z"
    },
    "papermill": {
     "duration": 0.466398,
     "end_time": "2022-03-02T21:50:36.672638",
     "exception": false,
     "start_time": "2022-03-02T21:50:36.206240",
     "status": "completed"
    },
    "tags": []
   },
   "outputs": [
    {
     "data": {
      "image/png": "[encoded data removed]",
      "text/plain": [
       "<Figure size 432x288 with 2 Axes>"
      ]
     },
     "metadata": {},
     "output_type": "display_data"
    },
    {
     "data": {
      "text/plain": [
       "<Figure size 432x288 with 0 Axes>"
      ]
     },
     "metadata": {},
     "output_type": "display_data"
    }
   ],
   "source": [
    "%matplotlib inline\n",
    "\n",
    "sns.set()\n",
    "dataStar.plot.scatter( x=\"Plx\" ,y=\"Amag\",cmap='viridis' ,  c='TargetClass' ,s=5); # problem with TargetClass\n",
    "plt.xlabel(\"Plx\")\n",
    "plt.figure()\n",
    "plt.show()\n"
   ]
  },
  {
   "cell_type": "code",
   "execution_count": 19,
   "id": "6ee19ac4",
   "metadata": {
    "execution": {
     "iopub.execute_input": "2022-03-02T21:50:36.779508Z",
     "iopub.status.busy": "2022-03-02T21:50:36.778733Z",
     "iopub.status.idle": "2022-03-02T21:50:37.215279Z",
     "shell.execute_reply": "2022-03-02T21:50:37.215832Z",
     "shell.execute_reply.started": "2022-03-02T21:34:35.640613Z"
    },
    "papermill": {
     "duration": 0.492101,
     "end_time": "2022-03-02T21:50:37.216026",
     "exception": false,
     "start_time": "2022-03-02T21:50:36.723925",
     "status": "completed"
    },
    "tags": []
   },
   "outputs": [
    {
     "data": {
      "image/png": "[encoded data removed]",
      "text/plain": [
       "<Figure size 432x288 with 2 Axes>"
      ]
     },
     "metadata": {},
     "output_type": "display_data"
    },
    {
     "data": {
      "text/plain": [
       "<Figure size 432x288 with 0 Axes>"
      ]
     },
     "metadata": {},
     "output_type": "display_data"
    }
   ],
   "source": [
    "%matplotlib inline\n",
    "sns.set()\n",
    "dataStar.plot.scatter( x=\"B-V\" ,y=\"Amag\",cmap='viridis' ,  c='TargetClass' ,s=5); # problem with TargetClass\n",
    "plt.xlabel(\"Plx\")\n",
    "plt.figure()\n",
    "plt.show()\n",
    "\n"
   ]
  },
  {
   "cell_type": "code",
   "execution_count": 20,
   "id": "93da6966",
   "metadata": {
    "execution": {
     "iopub.execute_input": "2022-03-02T21:50:37.327052Z",
     "iopub.status.busy": "2022-03-02T21:50:37.325999Z",
     "iopub.status.idle": "2022-03-02T21:50:40.804501Z",
     "shell.execute_reply": "2022-03-02T21:50:40.805023Z",
     "shell.execute_reply.started": "2022-03-02T21:34:36.047190Z"
    },
    "papermill": {
     "duration": 3.536141,
     "end_time": "2022-03-02T21:50:40.805195",
     "exception": false,
     "start_time": "2022-03-02T21:50:37.269054",
     "status": "completed"
    },
    "tags": []
   },
   "outputs": [
    {
     "data": {
      "text/plain": [
       "Vmag           0\n",
       "Plx            0\n",
       "e_Plx          0\n",
       "B-V            0\n",
       "SpType         0\n",
       "Amag           0\n",
       "e_Amag         0\n",
       "eA/A           0\n",
       "eP/P           0\n",
       "TargetClass    0\n",
       "dtype: int64"
      ]
     },
     "execution_count": 20,
     "metadata": {},
     "output_type": "execute_result"
    },
    {
     "data": {
      "image/png": "[encoded data removed]",
      "text/plain": [
       "<Figure size 864x576 with 25 Axes>"
      ]
     },
     "metadata": {},
     "output_type": "display_data"
    }
   ],
   "source": [
    "# scatter attributes\n",
    "\n",
    "from pandas.plotting import scatter_matrix\n",
    "\n",
    "attributes = ['TargetClass','Amag' , 'Vmag' , 'Plx' , 'B-V']\n",
    "\n",
    "# convert a numerical Targetclass \n",
    "dataStar['TargetClass'] = pd.to_numeric(dataStar['TargetClass'] , downcast='float' , errors='coerce')\n",
    "\n",
    "scatter_matrix(dataStar[attributes] , figsize=(12, 8))\n",
    "dataStar.isnull().sum()\n"
   ]
  },
  {
   "cell_type": "markdown",
   "id": "afe4b1bc",
   "metadata": {
    "papermill": {
     "duration": 0.056785,
     "end_time": "2022-03-02T21:50:40.919333",
     "exception": false,
     "start_time": "2022-03-02T21:50:40.862548",
     "status": "completed"
    },
    "tags": []
   },
   "source": [
    "## Correlation Linear ##"
   ]
  },
  {
   "cell_type": "code",
   "execution_count": 21,
   "id": "dd0f057e",
   "metadata": {
    "execution": {
     "iopub.execute_input": "2022-03-02T21:50:41.037011Z",
     "iopub.status.busy": "2022-03-02T21:50:41.036281Z",
     "iopub.status.idle": "2022-03-02T21:50:41.049060Z",
     "shell.execute_reply": "2022-03-02T21:50:41.048436Z",
     "shell.execute_reply.started": "2022-03-02T21:34:39.444657Z"
    },
    "papermill": {
     "duration": 0.072341,
     "end_time": "2022-03-02T21:50:41.049207",
     "exception": false,
     "start_time": "2022-03-02T21:50:40.976866",
     "status": "completed"
    },
    "tags": []
   },
   "outputs": [
    {
     "data": {
      "text/plain": [
       "TargetClass    1.000000\n",
       "B-V            0.302299\n",
       "eP/P           0.036399\n",
       "e_Amag         0.036399\n",
       "eA/A           0.023408\n",
       "e_Plx         -0.242699\n",
       "Plx           -0.365910\n",
       "Vmag          -0.381619\n",
       "Amag          -0.735124\n",
       "Name: TargetClass, dtype: float64"
      ]
     },
     "execution_count": 21,
     "metadata": {},
     "output_type": "execute_result"
    }
   ],
   "source": [
    "corr_matrix = dataStar.corr()\n",
    "corr_matrix[\"TargetClass\"].sort_values(ascending=False)"
   ]
  },
  {
   "cell_type": "markdown",
   "id": "ff5f5e05",
   "metadata": {
    "papermill": {
     "duration": 0.056882,
     "end_time": "2022-03-02T21:50:41.164695",
     "exception": false,
     "start_time": "2022-03-02T21:50:41.107813",
     "status": "completed"
    },
    "tags": []
   },
   "source": [
    "## Data Cleaning ##"
   ]
  },
  {
   "cell_type": "code",
   "execution_count": 22,
   "id": "67ec11a5",
   "metadata": {
    "execution": {
     "iopub.execute_input": "2022-03-02T21:50:41.283162Z",
     "iopub.status.busy": "2022-03-02T21:50:41.282463Z",
     "iopub.status.idle": "2022-03-02T21:50:41.287468Z",
     "shell.execute_reply": "2022-03-02T21:50:41.287997Z",
     "shell.execute_reply.started": "2022-03-02T21:34:39.457821Z"
    },
    "papermill": {
     "duration": 0.065752,
     "end_time": "2022-03-02T21:50:41.288171",
     "exception": false,
     "start_time": "2022-03-02T21:50:41.222419",
     "status": "completed"
    },
    "tags": []
   },
   "outputs": [],
   "source": [
    "#dataStar = dataStar.drop(['Unnamed: 0'], axis =1)\n",
    "dataStar = dataStar.drop(['SpType'], axis =1)\n",
    "\n"
   ]
  },
  {
   "cell_type": "markdown",
   "id": "f0e33e04",
   "metadata": {
    "papermill": {
     "duration": 0.058236,
     "end_time": "2022-03-02T21:50:41.405505",
     "exception": false,
     "start_time": "2022-03-02T21:50:41.347269",
     "status": "completed"
    },
    "tags": []
   },
   "source": [
    "# **Data Processing** #"
   ]
  },
  {
   "cell_type": "code",
   "execution_count": 23,
   "id": "309227e5",
   "metadata": {
    "execution": {
     "iopub.execute_input": "2022-03-02T21:50:41.523009Z",
     "iopub.status.busy": "2022-03-02T21:50:41.522184Z",
     "iopub.status.idle": "2022-03-02T21:50:41.534923Z",
     "shell.execute_reply": "2022-03-02T21:50:41.534166Z",
     "shell.execute_reply.started": "2022-03-02T21:34:39.466594Z"
    },
    "papermill": {
     "duration": 0.072873,
     "end_time": "2022-03-02T21:50:41.535141",
     "exception": false,
     "start_time": "2022-03-02T21:50:41.462268",
     "status": "completed"
    },
    "tags": []
   },
   "outputs": [
    {
     "name": "stdout",
     "output_type": "stream",
     "text": [
      "<class 'pandas.core.frame.DataFrame'>\n",
      "RangeIndex: 9562 entries, 0 to 9561\n",
      "Data columns (total 9 columns):\n",
      " #   Column       Non-Null Count  Dtype  \n",
      "---  ------       --------------  -----  \n",
      " 0   Vmag         9562 non-null   float32\n",
      " 1   Plx          9562 non-null   float32\n",
      " 2   e_Plx        9562 non-null   float32\n",
      " 3   B-V          9562 non-null   float32\n",
      " 4   Amag         9562 non-null   float32\n",
      " 5   e_Amag       9562 non-null   float32\n",
      " 6   eA/A         9562 non-null   float32\n",
      " 7   eP/P         9562 non-null   float32\n",
      " 8   TargetClass  9562 non-null   float32\n",
      "dtypes: float32(9)\n",
      "memory usage: 336.3 KB\n"
     ]
    }
   ],
   "source": [
    "dataStar.info()"
   ]
  },
  {
   "cell_type": "markdown",
   "id": "51293585",
   "metadata": {
    "papermill": {
     "duration": 0.057861,
     "end_time": "2022-03-02T21:50:41.651468",
     "exception": false,
     "start_time": "2022-03-02T21:50:41.593607",
     "status": "completed"
    },
    "tags": []
   },
   "source": [
    "### Train and test Set ###"
   ]
  },
  {
   "cell_type": "code",
   "execution_count": 24,
   "id": "cf8197b7",
   "metadata": {
    "execution": {
     "iopub.execute_input": "2022-03-02T21:50:41.788586Z",
     "iopub.status.busy": "2022-03-02T21:50:41.787722Z",
     "iopub.status.idle": "2022-03-02T21:50:42.097637Z",
     "shell.execute_reply": "2022-03-02T21:50:42.096574Z",
     "shell.execute_reply.started": "2022-03-02T21:34:39.488377Z"
    },
    "papermill": {
     "duration": 0.378695,
     "end_time": "2022-03-02T21:50:42.097840",
     "exception": false,
     "start_time": "2022-03-02T21:50:41.719145",
     "status": "completed"
    },
    "tags": []
   },
   "outputs": [],
   "source": [
    "from sklearn.model_selection import train_test_split\n",
    "\n",
    "\n",
    "train , test = train_test_split(dataStar , test_size = 0.2, random_state = 42 )\n",
    "train = train.reset_index(drop=True)\n",
    "test = test.reset_index(drop=True)"
   ]
  },
  {
   "cell_type": "code",
   "execution_count": 25,
   "id": "29e7000b",
   "metadata": {
    "execution": {
     "iopub.execute_input": "2022-03-02T21:50:42.275280Z",
     "iopub.status.busy": "2022-03-02T21:50:42.274212Z",
     "iopub.status.idle": "2022-03-02T21:50:42.278534Z",
     "shell.execute_reply": "2022-03-02T21:50:42.279767Z",
     "shell.execute_reply.started": "2022-03-02T21:34:39.738692Z"
    },
    "papermill": {
     "duration": 0.087178,
     "end_time": "2022-03-02T21:50:42.279967",
     "exception": false,
     "start_time": "2022-03-02T21:50:42.192789",
     "status": "completed"
    },
    "tags": []
   },
   "outputs": [],
   "source": [
    "## Stratified ##\n",
    "#from sklearn.model_selection import StratifiedShuffleSplit\n",
    "#split = StratifiedShuffleSplit(n_splits=1, test_size=0.2, random_state=42)\n",
    "#for train_index, test_index in split.split(data, data[\"variableStratificada\"]):\n",
    "#strat_train_set = housing.loc[train_index]\n",
    "#strat_test_set = housing.loc[test_index]\n",
    "\n",
    "#from  sklearn.impute import SimpleImputer\n",
    "#imputer = SimpleImputer(strategy='median')\n",
    "\n",
    "#from  sklearn.preprocessing import OneHotEncoder\n",
    "#catEncoder = OneHotEncoder()\n",
    "\n",
    "## numerical ##\n",
    "#from  sklearn.pipeline import Pipeline\n",
    "#from  sklearn.preprocessing import StandardScaler\n",
    "#numerical_pipeline = Pipeline([('imputer', SimpleImputer(strategy=\"median\")),('attribs_adder', CombinedAttributesAdder()),])\n",
    "# new_variable_transformed_numerical = num_pipeline.fit_transform(varible_numerica)\n",
    "\n",
    "## numerical and categorial ##\n",
    "#from sklearn import ColumnTransformer\n",
    "#numerical_attribs = list(numerical_columns)\n",
    "#categorical_attribs = list(categorial_columns)\n",
    "#full_pipeline = ColumnTransformer([(\"num\", numerical_pipeline, numerical_attribs),(\"cat\", OneHotEncoder(), categorical_attribs),])\n",
    "#dataTotal_prepared = full_pipeline.fit_transform(dataTotal) "
   ]
  },
  {
   "cell_type": "markdown",
   "id": "2fdcd5c5",
   "metadata": {
    "papermill": {
     "duration": 0.061332,
     "end_time": "2022-03-02T21:50:42.400865",
     "exception": false,
     "start_time": "2022-03-02T21:50:42.339533",
     "status": "completed"
    },
    "tags": []
   },
   "source": [
    "## Target ## "
   ]
  },
  {
   "cell_type": "code",
   "execution_count": 26,
   "id": "8bb20246",
   "metadata": {
    "execution": {
     "iopub.execute_input": "2022-03-02T21:50:42.531692Z",
     "iopub.status.busy": "2022-03-02T21:50:42.527249Z",
     "iopub.status.idle": "2022-03-02T21:50:42.543978Z",
     "shell.execute_reply": "2022-03-02T21:50:42.545049Z",
     "shell.execute_reply.started": "2022-03-02T21:34:39.745148Z"
    },
    "papermill": {
     "duration": 0.082854,
     "end_time": "2022-03-02T21:50:42.545308",
     "exception": false,
     "start_time": "2022-03-02T21:50:42.462454",
     "status": "completed"
    },
    "tags": []
   },
   "outputs": [
    {
     "name": "stdout",
     "output_type": "stream",
     "text": [
      "<class 'pandas.core.frame.DataFrame'>\n",
      "RangeIndex: 7649 entries, 0 to 7648\n",
      "Data columns (total 8 columns):\n",
      " #   Column  Non-Null Count  Dtype  \n",
      "---  ------  --------------  -----  \n",
      " 0   Vmag    7649 non-null   float32\n",
      " 1   Plx     7649 non-null   float32\n",
      " 2   e_Plx   7649 non-null   float32\n",
      " 3   B-V     7649 non-null   float32\n",
      " 4   Amag    7649 non-null   float32\n",
      " 5   e_Amag  7649 non-null   float32\n",
      " 6   eA/A    7649 non-null   float32\n",
      " 7   eP/P    7649 non-null   float32\n",
      "dtypes: float32(8)\n",
      "memory usage: 239.2 KB\n"
     ]
    }
   ],
   "source": [
    "trainX = train.drop('TargetClass', axis=1)\n",
    "trainY = train['TargetClass'].copy()\n",
    "\n",
    "testX = test.drop('TargetClass', axis=1)\n",
    "testY = test['TargetClass'].copy()\n",
    "trainX.info()"
   ]
  },
  {
   "cell_type": "markdown",
   "id": "9168aea1",
   "metadata": {
    "papermill": {
     "duration": 0.061023,
     "end_time": "2022-03-02T21:50:42.666408",
     "exception": false,
     "start_time": "2022-03-02T21:50:42.605385",
     "status": "completed"
    },
    "tags": []
   },
   "source": [
    "## Featuring Engineering ##"
   ]
  },
  {
   "cell_type": "markdown",
   "id": "eb387d67",
   "metadata": {
    "papermill": {
     "duration": 0.061971,
     "end_time": "2022-03-02T21:50:42.790038",
     "exception": false,
     "start_time": "2022-03-02T21:50:42.728067",
     "status": "completed"
    },
    "tags": []
   },
   "source": [
    "##  Pipeline and Featuring Scaling ##"
   ]
  },
  {
   "cell_type": "code",
   "execution_count": 27,
   "id": "327b11ae",
   "metadata": {
    "execution": {
     "iopub.execute_input": "2022-03-02T21:50:42.917712Z",
     "iopub.status.busy": "2022-03-02T21:50:42.916822Z",
     "iopub.status.idle": "2022-03-02T21:50:43.119871Z",
     "shell.execute_reply": "2022-03-02T21:50:43.120591Z",
     "shell.execute_reply.started": "2022-03-02T21:34:39.769533Z"
    },
    "papermill": {
     "duration": 0.270735,
     "end_time": "2022-03-02T21:50:43.120843",
     "exception": false,
     "start_time": "2022-03-02T21:50:42.850108",
     "status": "completed"
    },
    "tags": []
   },
   "outputs": [
    {
     "name": "stdout",
     "output_type": "stream",
     "text": [
      "Done\n"
     ]
    }
   ],
   "source": [
    "from  sklearn.impute import SimpleImputer\n",
    "from  sklearn.preprocessing import OneHotEncoder\n",
    "\n",
    "from  sklearn.pipeline import Pipeline\n",
    "from  sklearn.preprocessing import StandardScaler\n",
    "\n",
    "numerical_pipeline = Pipeline([('imputer', SimpleImputer(strategy=\"median\")),\n",
    "                              ('std_scaler', StandardScaler())] )\n",
    "\n",
    "from sklearn.compose import ColumnTransformer\n",
    "\n",
    "num_attribs = list(trainX)\n",
    "#cat_attribs = [\"ocean_proximity\"] ---generar lista de attribus catecorial---\n",
    "full_pipeline = ColumnTransformer([(\"num\", numerical_pipeline, num_attribs),\n",
    "#                                   (\"cat\", OneHotEncoder(), cat_attribs),\n",
    "                                  ])\n",
    "\n",
    "Xtrain = full_pipeline.fit_transform(trainX)  # array\n",
    "\n",
    "print('Done')"
   ]
  },
  {
   "cell_type": "markdown",
   "id": "12787692",
   "metadata": {
    "papermill": {
     "duration": 0.057916,
     "end_time": "2022-03-02T21:50:43.241158",
     "exception": false,
     "start_time": "2022-03-02T21:50:43.183242",
     "status": "completed"
    },
    "tags": []
   },
   "source": [
    " # **MODEL** # "
   ]
  },
  {
   "cell_type": "markdown",
   "id": "0c3c8741",
   "metadata": {
    "papermill": {
     "duration": 0.058427,
     "end_time": "2022-03-02T21:50:43.358354",
     "exception": false,
     "start_time": "2022-03-02T21:50:43.299927",
     "status": "completed"
    },
    "tags": []
   },
   "source": [
    "#### Models ####"
   ]
  },
  {
   "cell_type": "code",
   "execution_count": 28,
   "id": "0dd76593",
   "metadata": {
    "execution": {
     "iopub.execute_input": "2022-03-02T21:50:43.485647Z",
     "iopub.status.busy": "2022-03-02T21:50:43.484610Z",
     "iopub.status.idle": "2022-03-02T21:50:43.549938Z",
     "shell.execute_reply": "2022-03-02T21:50:43.550486Z",
     "shell.execute_reply.started": "2022-03-02T21:34:39.942267Z"
    },
    "papermill": {
     "duration": 0.132012,
     "end_time": "2022-03-02T21:50:43.550689",
     "exception": false,
     "start_time": "2022-03-02T21:50:43.418677",
     "status": "completed"
    },
    "tags": []
   },
   "outputs": [],
   "source": [
    "# Models ==> ['logisRegre' , 'SVM'   , 'SGDClf' ,  'randomForestClassifier' , 'navieBayes']\n",
    "\n",
    "# Classifier\n",
    "from sklearn.linear_model import SGDClassifier\n",
    "from sklearn.linear_model import LogisticRegression\n",
    "from sklearn.ensemble import RandomForestClassifier\n",
    "from sklearn.svm import LinearSVC\n"
   ]
  },
  {
   "cell_type": "code",
   "execution_count": 29,
   "id": "22b74dcd",
   "metadata": {
    "execution": {
     "iopub.execute_input": "2022-03-02T21:50:43.677091Z",
     "iopub.status.busy": "2022-03-02T21:50:43.673108Z",
     "iopub.status.idle": "2022-03-02T21:50:43.696794Z",
     "shell.execute_reply": "2022-03-02T21:50:43.697376Z",
     "shell.execute_reply.started": "2022-03-02T21:34:39.997593Z"
    },
    "papermill": {
     "duration": 0.087766,
     "end_time": "2022-03-02T21:50:43.697573",
     "exception": false,
     "start_time": "2022-03-02T21:50:43.609807",
     "status": "completed"
    },
    "tags": []
   },
   "outputs": [],
   "source": [
    "\n",
    "SGDClf = SGDClassifier(random_state=42)\n",
    "SGDClf.fit(Xtrain, trainY) # fit equal training\n",
    "\n",
    "LRClf = LogisticRegression(random_state=0)\n",
    "RFClf = RandomForestClassifier(random_state=0)\n",
    "SVClf = LinearSVC(random_state=0)\n",
    "\n",
    "\n",
    "#SGDClf.fit(Xtrain, trainY)"
   ]
  },
  {
   "cell_type": "markdown",
   "id": "0af50a39",
   "metadata": {
    "papermill": {
     "duration": 0.060732,
     "end_time": "2022-03-02T21:50:43.819357",
     "exception": false,
     "start_time": "2022-03-02T21:50:43.758625",
     "status": "completed"
    },
    "tags": []
   },
   "source": [
    "## Cross-Validation ##"
   ]
  },
  {
   "cell_type": "code",
   "execution_count": 30,
   "id": "ebc57ce0",
   "metadata": {
    "execution": {
     "iopub.execute_input": "2022-03-02T21:50:43.944002Z",
     "iopub.status.busy": "2022-03-02T21:50:43.943228Z",
     "iopub.status.idle": "2022-03-02T21:50:52.018092Z",
     "shell.execute_reply": "2022-03-02T21:50:52.018621Z",
     "shell.execute_reply.started": "2022-03-02T21:34:40.024300Z"
    },
    "papermill": {
     "duration": 8.138824,
     "end_time": "2022-03-02T21:50:52.018794",
     "exception": false,
     "start_time": "2022-03-02T21:50:43.879970",
     "status": "completed"
    },
    "tags": []
   },
   "outputs": [
    {
     "name": "stdout",
     "output_type": "stream",
     "text": [
      "{0.2997346978924797: SGDClassifier(random_state=42), 0.2982272617709094: LogisticRegression(random_state=0), 0.24602236420338652: RandomForestClassifier(random_state=0)}\n",
      "\n",
      "\n",
      "RandomForestClassifier(random_state=0)\n",
      "DONE\n"
     ]
    }
   ],
   "source": [
    "from sklearn.model_selection import cross_val_score\n",
    "\n",
    "# automatizar entre diversos modelos de la misma categoria\n",
    "def compareModels(models, x, y, numCV, scoringT=\"neg_mean_squared_error\"):\n",
    "    modelsCV = dict()\n",
    "    for mod in models:\n",
    "        scores = cross_val_score(mod, x, y, scoring = scoringT, cv=numCV)\n",
    "        meanScore = np.sqrt(-scores).mean()\n",
    "        modelsCV[meanScore] = mod\n",
    "    \n",
    "    val=min(modelsCV)\n",
    "    bestModel = modelsCV[val]\n",
    "    return modelsCV,bestModel\n",
    "    \n",
    "result, model =compareModels([SGDClf , LRClf, RFClf] , Xtrain , trainY , 6)\n",
    "print(result); print('\\n'); print(model); print('DONE')"
   ]
  },
  {
   "cell_type": "code",
   "execution_count": 31,
   "id": "9410a4f0",
   "metadata": {
    "execution": {
     "iopub.execute_input": "2022-03-02T21:50:52.140943Z",
     "iopub.status.busy": "2022-03-02T21:50:52.140282Z",
     "iopub.status.idle": "2022-03-02T21:50:53.657739Z",
     "shell.execute_reply": "2022-03-02T21:50:53.658329Z",
     "shell.execute_reply.started": "2022-03-02T21:34:47.754171Z"
    },
    "papermill": {
     "duration": 1.580282,
     "end_time": "2022-03-02T21:50:53.658537",
     "exception": false,
     "start_time": "2022-03-02T21:50:52.078255",
     "status": "completed"
    },
    "tags": []
   },
   "outputs": [],
   "source": [
    "model.fit(Xtrain, trainY)\n",
    "\n",
    "Xtest = full_pipeline.fit_transform(testX)\n",
    "Ypredicts = model.predict(Xtest)\n"
   ]
  },
  {
   "cell_type": "code",
   "execution_count": 32,
   "id": "538cb46a",
   "metadata": {
    "execution": {
     "iopub.execute_input": "2022-03-02T21:50:53.785677Z",
     "iopub.status.busy": "2022-03-02T21:50:53.784973Z",
     "iopub.status.idle": "2022-03-02T21:50:53.788814Z",
     "shell.execute_reply": "2022-03-02T21:50:53.788119Z",
     "shell.execute_reply.started": "2022-03-02T21:34:49.208095Z"
    },
    "papermill": {
     "duration": 0.070365,
     "end_time": "2022-03-02T21:50:53.788969",
     "exception": false,
     "start_time": "2022-03-02T21:50:53.718604",
     "status": "completed"
    },
    "tags": []
   },
   "outputs": [
    {
     "data": {
      "text/plain": [
       "0.23428105"
      ]
     },
     "execution_count": 32,
     "metadata": {},
     "output_type": "execute_result"
    }
   ],
   "source": [
    "# metrica\n",
    "from sklearn.metrics import mean_squared_error\n",
    "\n",
    "mse = mean_squared_error(testY , Ypredicts) \n",
    "rmse = np.sqrt(mse)\n",
    "rmse"
   ]
  },
  {
   "cell_type": "code",
   "execution_count": 33,
   "id": "9709dbdf",
   "metadata": {
    "execution": {
     "iopub.execute_input": "2022-03-02T21:50:53.929964Z",
     "iopub.status.busy": "2022-03-02T21:50:53.929052Z",
     "iopub.status.idle": "2022-03-02T21:50:53.933315Z",
     "shell.execute_reply": "2022-03-02T21:50:53.932764Z",
     "shell.execute_reply.started": "2022-03-02T21:34:49.219103Z"
    },
    "papermill": {
     "duration": 0.084065,
     "end_time": "2022-03-02T21:50:53.933481",
     "exception": false,
     "start_time": "2022-03-02T21:50:53.849416",
     "status": "completed"
    },
    "tags": []
   },
   "outputs": [
    {
     "data": {
      "text/plain": [
       "'94.511239%'"
      ]
     },
     "execution_count": 33,
     "metadata": {},
     "output_type": "execute_result"
    }
   ],
   "source": [
    "output = pd.DataFrame({'Star': testY, 'StarPred': Ypredicts})\n",
    "\n",
    "def precision(a, b):\n",
    "    cont = 0\n",
    "    for i in np.arange(len(a)):\n",
    "        if (a[i]==b[i]):\n",
    "            cont = cont +1\n",
    "             \n",
    "            \n",
    "    return  format( cont/len(a) , '2%') \n",
    "\n",
    "precision(testY , Ypredicts)"
   ]
  },
  {
   "cell_type": "code",
   "execution_count": 34,
   "id": "e9d40a45",
   "metadata": {
    "execution": {
     "iopub.execute_input": "2022-03-02T21:50:54.058631Z",
     "iopub.status.busy": "2022-03-02T21:50:54.057866Z",
     "iopub.status.idle": "2022-03-02T21:50:54.060984Z",
     "shell.execute_reply": "2022-03-02T21:50:54.060382Z",
     "shell.execute_reply.started": "2022-03-02T21:34:49.247087Z"
    },
    "papermill": {
     "duration": 0.067669,
     "end_time": "2022-03-02T21:50:54.061123",
     "exception": false,
     "start_time": "2022-03-02T21:50:53.993454",
     "status": "completed"
    },
    "tags": []
   },
   "outputs": [],
   "source": [
    "### stratified CV ### see pag 136  Geron's book\n",
    "#from sklearn.model_selection import StratifiedKFold\n",
    "#from sklearn.base import clone\n",
    "#skfolds = StratifiedKFold(n_splits=3, random_state=42)"
   ]
  },
  {
   "cell_type": "markdown",
   "id": "ca23918b",
   "metadata": {
    "papermill": {
     "duration": 0.059062,
     "end_time": "2022-03-02T21:50:54.179511",
     "exception": false,
     "start_time": "2022-03-02T21:50:54.120449",
     "status": "completed"
    },
    "tags": []
   },
   "source": [
    "# **Refinament** #"
   ]
  },
  {
   "cell_type": "markdown",
   "id": "7c288648",
   "metadata": {
    "papermill": {
     "duration": 0.059126,
     "end_time": "2022-03-02T21:50:54.297711",
     "exception": false,
     "start_time": "2022-03-02T21:50:54.238585",
     "status": "completed"
    },
    "tags": []
   },
   "source": [
    "### Hyper-parameters ###"
   ]
  },
  {
   "cell_type": "code",
   "execution_count": 35,
   "id": "f8f4b6b2",
   "metadata": {
    "execution": {
     "iopub.execute_input": "2022-03-02T21:50:54.420911Z",
     "iopub.status.busy": "2022-03-02T21:50:54.420181Z",
     "iopub.status.idle": "2022-03-02T21:51:12.918230Z",
     "shell.execute_reply": "2022-03-02T21:51:12.918788Z",
     "shell.execute_reply.started": "2022-03-02T21:34:49.259587Z"
    },
    "papermill": {
     "duration": 18.561925,
     "end_time": "2022-03-02T21:51:12.918989",
     "exception": false,
     "start_time": "2022-03-02T21:50:54.357064",
     "status": "completed"
    },
    "tags": []
   },
   "outputs": [
    {
     "data": {
      "text/plain": [
       "{'max_features': 4, 'n_estimators': 10}"
      ]
     },
     "execution_count": 35,
     "metadata": {},
     "output_type": "execute_result"
    }
   ],
   "source": [
    "from sklearn.model_selection import GridSearchCV\n",
    "from sklearn.model_selection import RandomizedSearchCV\n",
    "from scipy.stats import uniform\n",
    "\n",
    "\n",
    "#distributions = dict(C=uniform(loc=0, scale=4), penalty=['l2','l1'])\n",
    "#clf=RandomizedSearchCV( RFClf , distributions , random_state=0) # arg (model , distri , ...)\n",
    "\n",
    "\n",
    "parameter_grid = [{'n_estimators':[3,5,10], 'max_features':[2,4,6,8]} ,\n",
    "                  {'bootstrap':[False], 'n_estimators':[3,7,12] , 'max_features':[2,3,4]}]\n",
    "clf=GridSearchCV( RFClf , parameter_grid,\n",
    "                cv=5 ,  scoring='neg_mean_squared_error' , return_train_score=True) # arg (model , distri , ...)\n",
    "\n",
    "\n",
    "clf.fit(Xtrain, trainY)\n",
    "\n",
    "clf.best_params_"
   ]
  },
  {
   "cell_type": "markdown",
   "id": "ed5dc690",
   "metadata": {
    "papermill": {
     "duration": 0.061785,
     "end_time": "2022-03-02T21:51:13.041787",
     "exception": false,
     "start_time": "2022-03-02T21:51:12.980002",
     "status": "completed"
    },
    "tags": []
   },
   "source": [
    "###  Model-Hyperparameters ###"
   ]
  },
  {
   "cell_type": "code",
   "execution_count": 36,
   "id": "d2a424c5",
   "metadata": {
    "execution": {
     "iopub.execute_input": "2022-03-02T21:51:13.167982Z",
     "iopub.status.busy": "2022-03-02T21:51:13.167223Z",
     "iopub.status.idle": "2022-03-02T21:51:13.186690Z",
     "shell.execute_reply": "2022-03-02T21:51:13.187299Z",
     "shell.execute_reply.started": "2022-03-02T21:35:07.161381Z"
    },
    "papermill": {
     "duration": 0.08422,
     "end_time": "2022-03-02T21:51:13.187496",
     "exception": false,
     "start_time": "2022-03-02T21:51:13.103276",
     "status": "completed"
    },
    "tags": []
   },
   "outputs": [
    {
     "data": {
      "text/plain": [
       "'93.988500%'"
      ]
     },
     "execution_count": 36,
     "metadata": {},
     "output_type": "execute_result"
    }
   ],
   "source": [
    "finalModel=clf.best_estimator_\n",
    "Ypredfinal=finalModel.predict(Xtest)\n",
    "\n",
    "precision(testY , Ypredfinal) # worse model"
   ]
  },
  {
   "cell_type": "markdown",
   "id": "e6eadfa4",
   "metadata": {
    "papermill": {
     "duration": 0.059559,
     "end_time": "2022-03-02T21:51:13.306806",
     "exception": false,
     "start_time": "2022-03-02T21:51:13.247247",
     "status": "completed"
    },
    "tags": []
   },
   "source": [
    "# **Deploy** #"
   ]
  },
  {
   "cell_type": "code",
   "execution_count": null,
   "id": "b33e47fe",
   "metadata": {
    "papermill": {
     "duration": 0.060731,
     "end_time": "2022-03-02T21:51:13.427662",
     "exception": false,
     "start_time": "2022-03-02T21:51:13.366931",
     "status": "completed"
    },
    "tags": []
   },
   "outputs": [],
   "source": []
  },
  {
   "cell_type": "code",
   "execution_count": null,
   "id": "972cdca7",
   "metadata": {
    "papermill": {
     "duration": 0.064408,
     "end_time": "2022-03-02T21:51:13.563496",
     "exception": false,
     "start_time": "2022-03-02T21:51:13.499088",
     "status": "completed"
    },
    "tags": []
   },
   "outputs": [],
   "source": []
  }
 ],
 "metadata": {
  "kernelspec": {
   "display_name": "Python 3",
   "language": "python",
   "name": "python3"
  },
  "language_info": {
   "codemirror_mode": {
    "name": "ipython",
    "version": 3
   },
   "file_extension": ".py",
   "mimetype": "text/x-python",
   "name": "python",
   "nbconvert_exporter": "python",
   "pygments_lexer": "ipython3",
   "version": "3.7.12"
  },
  "papermill": {
   "default_parameters": {},
   "duration": 177.965862,
   "end_time": "2022-03-02T21:51:14.437554",
   "environment_variables": {},
   "exception": null,
   "input_path": "__notebook__.ipynb",
   "output_path": "__notebook__.ipynb",
   "parameters": {},
   "start_time": "2022-03-02T21:48:16.471692",
   "version": "2.3.3"
  }
 },
 "nbformat": 4,
 "nbformat_minor": 5
}
