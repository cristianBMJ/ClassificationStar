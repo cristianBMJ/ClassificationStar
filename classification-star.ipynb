{
 "cells": [
  {
   "cell_type": "markdown",
   "id": "042488b6",
   "metadata": {
    "papermill": {
     "duration": 0.062387,
     "end_time": "2022-05-06T16:47:29.432102",
     "exception": false,
     "start_time": "2022-05-06T16:47:29.369715",
     "status": "completed"
    },
    "tags": []
   },
   "source": [
    "# Categorization Stars\n",
    "\n",
    "This proyect have goal prediction if one Star is Giant or Dwarfs, used Morgan-Keen (MK) classification system, type the models are the Classifications. The dataset for this proyect comes from [Kaggle Star](https://www.kaggle.com/vinesmsuic/star-categorization-giants-and-dwarfs).\n",
    "\n",
    "\n"
   ]
  },
  {
   "cell_type": "markdown",
   "id": "f6c69df1",
   "metadata": {
    "papermill": {
     "duration": 0.064713,
     "end_time": "2022-05-06T16:47:29.561934",
     "exception": false,
     "start_time": "2022-05-06T16:47:29.497221",
     "status": "completed"
    },
    "tags": []
   },
   "source": [
    "## Setting\n"
   ]
  },
  {
   "cell_type": "code",
   "execution_count": 1,
   "id": "4e0428a8",
   "metadata": {
    "_cell_guid": "b1076dfc-b9ad-4769-8c92-a6c4dae69d19",
    "_kg_hide-input": true,
    "_kg_hide-output": true,
    "_uuid": "8f2839f25d086af736a60e9eeb907d3b93b6e0e5",
    "execution": {
     "iopub.execute_input": "2022-05-06T16:47:29.704652Z",
     "iopub.status.busy": "2022-05-06T16:47:29.703674Z",
     "iopub.status.idle": "2022-05-06T16:47:31.299884Z",
     "shell.execute_reply": "2022-05-06T16:47:31.300497Z",
     "shell.execute_reply.started": "2022-05-06T16:38:47.188855Z"
    },
    "papermill": {
     "duration": 1.673025,
     "end_time": "2022-05-06T16:47:31.300870",
     "exception": false,
     "start_time": "2022-05-06T16:47:29.627845",
     "status": "completed"
    },
    "tags": []
   },
   "outputs": [
    {
     "name": "stdout",
     "output_type": "stream",
     "text": [
      "/kaggle/input/star-categorization-giants-and-dwarfs/Star99999_raw.csv\n",
      "/kaggle/input/star-categorization-giants-and-dwarfs/Star39552_balanced.csv\n",
      "/kaggle/input/star-categorization-giants-and-dwarfs/Star9999_raw.csv\n",
      "/kaggle/input/star-categorization-giants-and-dwarfs/Star3642_balanced.csv\n"
     ]
    }
   ],
   "source": [
    "# This Python 3 environment comes with many helpful analytics libraries installed\n",
    "# It is defined by the kaggle/python Docker image: https://github.com/kaggle/docker-python\n",
    "# For example, here's several helpful packages to load\n",
    "\n",
    "# Libraries\n",
    "%matplotlib inline\n",
    "\n",
    "import numpy as np # linear algebra\n",
    "import pandas as pd # data processing, CSV file I/O (e.g. pd.read_csv)\n",
    "\n",
    "import matplotlib.pyplot as plt\n",
    "import seaborn as sns\n",
    "# Input data files are available in the read-only \"../input/\" directory\n",
    "# For example, running this (by clicking run or pressing Shift+Enter) will list all files under the input directory\n",
    "\n",
    "import os\n",
    "for dirname, _, filenames in os.walk('/kaggle/input'):\n",
    "    for filename in filenames:\n",
    "        print(os.path.join(dirname, filename))\n",
    "\n",
    "# You can write up to 20GB to the current directory (/kaggle/working/) that gets preserved as output when you create a version using \"Save & Run All\" \n",
    "# You can also write temporary files to /kaggle/temp/, but they won't be saved outside of the current session\n"
   ]
  },
  {
   "cell_type": "markdown",
   "id": "2ae72de0",
   "metadata": {
    "papermill": {
     "duration": 0.040512,
     "end_time": "2022-05-06T16:47:31.382121",
     "exception": false,
     "start_time": "2022-05-06T16:47:31.341609",
     "status": "completed"
    },
    "tags": []
   },
   "source": [
    "# **Get Data** #"
   ]
  },
  {
   "cell_type": "code",
   "execution_count": 2,
   "id": "6e69a69e",
   "metadata": {
    "execution": {
     "iopub.execute_input": "2022-05-06T16:47:31.468453Z",
     "iopub.status.busy": "2022-05-06T16:47:31.467806Z",
     "iopub.status.idle": "2022-05-06T16:47:31.812362Z",
     "shell.execute_reply": "2022-05-06T16:47:31.813221Z",
     "shell.execute_reply.started": "2022-05-06T16:38:47.247423Z"
    },
    "papermill": {
     "duration": 0.391347,
     "end_time": "2022-05-06T16:47:31.813476",
     "exception": false,
     "start_time": "2022-05-06T16:47:31.422129",
     "status": "completed"
    },
    "tags": []
   },
   "outputs": [
    {
     "name": "stdout",
     "output_type": "stream",
     "text": [
      "<class 'pandas.core.frame.DataFrame'>\n",
      "RangeIndex: 99999 entries, 0 to 99998\n",
      "Data columns (total 6 columns):\n",
      " #   Column      Non-Null Count  Dtype \n",
      "---  ------      --------------  ----- \n",
      " 0   Unnamed: 0  99999 non-null  int64 \n",
      " 1   Vmag        99999 non-null  object\n",
      " 2   Plx         99999 non-null  object\n",
      " 3   e_Plx       99999 non-null  object\n",
      " 4   B-V         99999 non-null  object\n",
      " 5   SpType      97377 non-null  object\n",
      "dtypes: int64(1), object(5)\n",
      "memory usage: 4.6+ MB\n"
     ]
    }
   ],
   "source": [
    "# Read Data\n",
    "data = pd.read_csv('../input/star-categorization-giants-and-dwarfs/Star39552_balanced.csv') # data pre-processed\n",
    "dataRaw = pd.read_csv('/kaggle/input/star-categorization-giants-and-dwarfs/Star99999_raw.csv') # data initial or Raw \n",
    "dataRaw.info()  # review types variable"
   ]
  },
  {
   "cell_type": "markdown",
   "id": "cb944326",
   "metadata": {
    "papermill": {
     "duration": 0.06452,
     "end_time": "2022-05-06T16:47:31.943423",
     "exception": false,
     "start_time": "2022-05-06T16:47:31.878903",
     "status": "completed"
    },
    "tags": []
   },
   "source": [
    "#  **Exploratory Data Analysis** #"
   ]
  },
  {
   "cell_type": "code",
   "execution_count": 3,
   "id": "5346d764",
   "metadata": {
    "execution": {
     "iopub.execute_input": "2022-05-06T16:47:32.098455Z",
     "iopub.status.busy": "2022-05-06T16:47:32.097392Z",
     "iopub.status.idle": "2022-05-06T16:47:32.112043Z",
     "shell.execute_reply": "2022-05-06T16:47:32.111245Z",
     "shell.execute_reply.started": "2022-05-06T16:38:47.401755Z"
    },
    "papermill": {
     "duration": 0.103445,
     "end_time": "2022-05-06T16:47:32.112279",
     "exception": false,
     "start_time": "2022-05-06T16:47:32.008834",
     "status": "completed"
    },
    "tags": []
   },
   "outputs": [
    {
     "name": "stdout",
     "output_type": "stream",
     "text": [
      "<class 'pandas.core.frame.DataFrame'>\n",
      "RangeIndex: 99999 entries, 0 to 99998\n",
      "Data columns (total 6 columns):\n",
      " #   Column      Non-Null Count  Dtype \n",
      "---  ------      --------------  ----- \n",
      " 0   Unnamed: 0  99999 non-null  int64 \n",
      " 1   Vmag        99999 non-null  object\n",
      " 2   Plx         99999 non-null  object\n",
      " 3   e_Plx       99999 non-null  object\n",
      " 4   B-V         99999 non-null  object\n",
      " 5   SpType      97377 non-null  object\n",
      "dtypes: int64(1), object(5)\n",
      "memory usage: 4.6+ MB\n"
     ]
    }
   ],
   "source": [
    "dataRaw.info()"
   ]
  },
  {
   "cell_type": "markdown",
   "id": "c814ba98",
   "metadata": {
    "papermill": {
     "duration": 0.06398,
     "end_time": "2022-05-06T16:47:32.239500",
     "exception": false,
     "start_time": "2022-05-06T16:47:32.175520",
     "status": "completed"
    },
    "tags": []
   },
   "source": [
    "Convert object to numeric.\n"
   ]
  },
  {
   "cell_type": "code",
   "execution_count": 4,
   "id": "eaf1f886",
   "metadata": {
    "_kg_hide-input": true,
    "execution": {
     "iopub.execute_input": "2022-05-06T16:47:32.371272Z",
     "iopub.status.busy": "2022-05-06T16:47:32.370184Z",
     "iopub.status.idle": "2022-05-06T16:47:32.671653Z",
     "shell.execute_reply": "2022-05-06T16:47:32.672394Z",
     "shell.execute_reply.started": "2022-05-06T16:38:47.439649Z"
    },
    "papermill": {
     "duration": 0.370112,
     "end_time": "2022-05-06T16:47:32.672617",
     "exception": false,
     "start_time": "2022-05-06T16:47:32.302505",
     "status": "completed"
    },
    "tags": []
   },
   "outputs": [
    {
     "name": "stdout",
     "output_type": "stream",
     "text": [
      "<class 'pandas.core.frame.DataFrame'>\n",
      "RangeIndex: 99999 entries, 0 to 99998\n",
      "Data columns (total 6 columns):\n",
      " #   Column      Non-Null Count  Dtype  \n",
      "---  ------      --------------  -----  \n",
      " 0   Unnamed: 0  99999 non-null  int64  \n",
      " 1   Vmag        99998 non-null  float32\n",
      " 2   Plx         99768 non-null  float32\n",
      " 3   e_Plx       99768 non-null  float32\n",
      " 4   B-V         98871 non-null  float32\n",
      " 5   SpType      97377 non-null  object \n",
      "dtypes: float32(4), int64(1), object(1)\n",
      "memory usage: 3.1+ MB\n"
     ]
    },
    {
     "data": {
      "text/plain": [
       "None"
      ]
     },
     "metadata": {},
     "output_type": "display_data"
    },
    {
     "data": {
      "text/html": [
       "<div>\n",
       "<style scoped>\n",
       "    .dataframe tbody tr th:only-of-type {\n",
       "        vertical-align: middle;\n",
       "    }\n",
       "\n",
       "    .dataframe tbody tr th {\n",
       "        vertical-align: top;\n",
       "    }\n",
       "\n",
       "    .dataframe thead th {\n",
       "        text-align: right;\n",
       "    }\n",
       "</style>\n",
       "<table border=\"1\" class=\"dataframe\">\n",
       "  <thead>\n",
       "    <tr style=\"text-align: right;\">\n",
       "      <th></th>\n",
       "      <th>count</th>\n",
       "      <th>mean</th>\n",
       "      <th>std</th>\n",
       "      <th>min</th>\n",
       "      <th>25%</th>\n",
       "      <th>50%</th>\n",
       "      <th>75%</th>\n",
       "      <th>max</th>\n",
       "    </tr>\n",
       "  </thead>\n",
       "  <tbody>\n",
       "    <tr>\n",
       "      <th>Unnamed: 0</th>\n",
       "      <td>99999.0</td>\n",
       "      <td>49999.000000</td>\n",
       "      <td>28867.369122</td>\n",
       "      <td>0.000000</td>\n",
       "      <td>24999.500</td>\n",
       "      <td>49999.000</td>\n",
       "      <td>74998.500</td>\n",
       "      <td>99998.000000</td>\n",
       "    </tr>\n",
       "    <tr>\n",
       "      <th>Vmag</th>\n",
       "      <td>99998.0</td>\n",
       "      <td>8.369750</td>\n",
       "      <td>1.313896</td>\n",
       "      <td>-1.440000</td>\n",
       "      <td>7.640</td>\n",
       "      <td>8.440</td>\n",
       "      <td>9.140</td>\n",
       "      <td>14.080000</td>\n",
       "    </tr>\n",
       "    <tr>\n",
       "      <th>Plx</th>\n",
       "      <td>99768.0</td>\n",
       "      <td>7.212467</td>\n",
       "      <td>11.348988</td>\n",
       "      <td>-54.950001</td>\n",
       "      <td>2.510</td>\n",
       "      <td>4.630</td>\n",
       "      <td>8.410</td>\n",
       "      <td>772.330017</td>\n",
       "    </tr>\n",
       "    <tr>\n",
       "      <th>e_Plx</th>\n",
       "      <td>99768.0</td>\n",
       "      <td>1.365385</td>\n",
       "      <td>1.816838</td>\n",
       "      <td>0.380000</td>\n",
       "      <td>0.880</td>\n",
       "      <td>1.100</td>\n",
       "      <td>1.390</td>\n",
       "      <td>114.459999</td>\n",
       "    </tr>\n",
       "    <tr>\n",
       "      <th>B-V</th>\n",
       "      <td>98871.0</td>\n",
       "      <td>0.704726</td>\n",
       "      <td>0.489679</td>\n",
       "      <td>-0.400000</td>\n",
       "      <td>0.348</td>\n",
       "      <td>0.612</td>\n",
       "      <td>1.075</td>\n",
       "      <td>5.460000</td>\n",
       "    </tr>\n",
       "  </tbody>\n",
       "</table>\n",
       "</div>"
      ],
      "text/plain": [
       "              count          mean           std        min        25%  \\\n",
       "Unnamed: 0  99999.0  49999.000000  28867.369122   0.000000  24999.500   \n",
       "Vmag        99998.0      8.369750      1.313896  -1.440000      7.640   \n",
       "Plx         99768.0      7.212467     11.348988 -54.950001      2.510   \n",
       "e_Plx       99768.0      1.365385      1.816838   0.380000      0.880   \n",
       "B-V         98871.0      0.704726      0.489679  -0.400000      0.348   \n",
       "\n",
       "                  50%        75%           max  \n",
       "Unnamed: 0  49999.000  74998.500  99998.000000  \n",
       "Vmag            8.440      9.140     14.080000  \n",
       "Plx             4.630      8.410    772.330017  \n",
       "e_Plx           1.100      1.390    114.459999  \n",
       "B-V             0.612      1.075      5.460000  "
      ]
     },
     "execution_count": 4,
     "metadata": {},
     "output_type": "execute_result"
    }
   ],
   "source": [
    "dataRaw['Vmag'] = pd.to_numeric(dataRaw['Vmag'] , downcast='float' , errors='coerce')\n",
    "dataRaw['Plx'] = pd.to_numeric(dataRaw['Plx'] , downcast='float' , errors='coerce')\n",
    "dataRaw['e_Plx'] = pd.to_numeric(dataRaw['e_Plx'] , downcast='float' , errors='coerce')\n",
    "dataRaw['B-V'] = pd.to_numeric(dataRaw['B-V'] , downcast='float' , errors='coerce')\n",
    "display( dataRaw.info() )\n",
    "dataRaw.describe().T"
   ]
  },
  {
   "cell_type": "markdown",
   "id": "7c3e9f36",
   "metadata": {
    "papermill": {
     "duration": 0.072826,
     "end_time": "2022-05-06T16:47:32.813365",
     "exception": false,
     "start_time": "2022-05-06T16:47:32.740539",
     "status": "completed"
    },
    "tags": []
   },
   "source": [
    "### Missing Values ###"
   ]
  },
  {
   "cell_type": "code",
   "execution_count": 5,
   "id": "c07fd414",
   "metadata": {
    "execution": {
     "iopub.execute_input": "2022-05-06T16:47:32.954780Z",
     "iopub.status.busy": "2022-05-06T16:47:32.954178Z",
     "iopub.status.idle": "2022-05-06T16:47:33.025289Z",
     "shell.execute_reply": "2022-05-06T16:47:33.024703Z",
     "shell.execute_reply.started": "2022-05-06T16:38:47.612909Z"
    },
    "papermill": {
     "duration": 0.142043,
     "end_time": "2022-05-06T16:47:33.025431",
     "exception": false,
     "start_time": "2022-05-06T16:47:32.883388",
     "status": "completed"
    },
    "tags": []
   },
   "outputs": [
    {
     "name": "stdout",
     "output_type": "stream",
     "text": [
      "Num_null:  4213\n",
      "Percentage Missing:  0.702%\n"
     ]
    },
    {
     "data": {
      "text/html": [
       "<div>\n",
       "<style scoped>\n",
       "    .dataframe tbody tr th:only-of-type {\n",
       "        vertical-align: middle;\n",
       "    }\n",
       "\n",
       "    .dataframe tbody tr th {\n",
       "        vertical-align: top;\n",
       "    }\n",
       "\n",
       "    .dataframe thead th {\n",
       "        text-align: right;\n",
       "    }\n",
       "</style>\n",
       "<table border=\"1\" class=\"dataframe\">\n",
       "  <thead>\n",
       "    <tr style=\"text-align: right;\">\n",
       "      <th></th>\n",
       "      <th>Unnamed: 0</th>\n",
       "      <th>Vmag</th>\n",
       "      <th>Plx</th>\n",
       "      <th>e_Plx</th>\n",
       "      <th>B-V</th>\n",
       "      <th>SpType</th>\n",
       "    </tr>\n",
       "  </thead>\n",
       "  <tbody>\n",
       "    <tr>\n",
       "      <th>0</th>\n",
       "      <td>0</td>\n",
       "      <td>9.10</td>\n",
       "      <td>3.54</td>\n",
       "      <td>1.39</td>\n",
       "      <td>0.482</td>\n",
       "      <td>F5</td>\n",
       "    </tr>\n",
       "    <tr>\n",
       "      <th>1</th>\n",
       "      <td>1</td>\n",
       "      <td>9.27</td>\n",
       "      <td>21.90</td>\n",
       "      <td>3.10</td>\n",
       "      <td>0.999</td>\n",
       "      <td>K3V</td>\n",
       "    </tr>\n",
       "    <tr>\n",
       "      <th>2</th>\n",
       "      <td>2</td>\n",
       "      <td>6.61</td>\n",
       "      <td>2.81</td>\n",
       "      <td>0.63</td>\n",
       "      <td>-0.019</td>\n",
       "      <td>B9</td>\n",
       "    </tr>\n",
       "    <tr>\n",
       "      <th>3</th>\n",
       "      <td>3</td>\n",
       "      <td>8.06</td>\n",
       "      <td>7.75</td>\n",
       "      <td>0.97</td>\n",
       "      <td>0.370</td>\n",
       "      <td>F0V</td>\n",
       "    </tr>\n",
       "    <tr>\n",
       "      <th>4</th>\n",
       "      <td>4</td>\n",
       "      <td>8.55</td>\n",
       "      <td>2.87</td>\n",
       "      <td>1.11</td>\n",
       "      <td>0.902</td>\n",
       "      <td>G8III</td>\n",
       "    </tr>\n",
       "    <tr>\n",
       "      <th>...</th>\n",
       "      <td>...</td>\n",
       "      <td>...</td>\n",
       "      <td>...</td>\n",
       "      <td>...</td>\n",
       "      <td>...</td>\n",
       "      <td>...</td>\n",
       "    </tr>\n",
       "    <tr>\n",
       "      <th>99993</th>\n",
       "      <td>99993</td>\n",
       "      <td>7.92</td>\n",
       "      <td>3.93</td>\n",
       "      <td>1.24</td>\n",
       "      <td>0.133</td>\n",
       "      <td>Am...</td>\n",
       "    </tr>\n",
       "    <tr>\n",
       "      <th>99994</th>\n",
       "      <td>99994</td>\n",
       "      <td>8.72</td>\n",
       "      <td>3.07</td>\n",
       "      <td>0.87</td>\n",
       "      <td>0.097</td>\n",
       "      <td>B3</td>\n",
       "    </tr>\n",
       "    <tr>\n",
       "      <th>99996</th>\n",
       "      <td>99996</td>\n",
       "      <td>8.08</td>\n",
       "      <td>1.07</td>\n",
       "      <td>0.68</td>\n",
       "      <td>1.094</td>\n",
       "      <td>G5</td>\n",
       "    </tr>\n",
       "    <tr>\n",
       "      <th>99997</th>\n",
       "      <td>99997</td>\n",
       "      <td>6.98</td>\n",
       "      <td>2.97</td>\n",
       "      <td>0.76</td>\n",
       "      <td>-0.143</td>\n",
       "      <td>B1.5V</td>\n",
       "    </tr>\n",
       "    <tr>\n",
       "      <th>99998</th>\n",
       "      <td>99998</td>\n",
       "      <td>8.51</td>\n",
       "      <td>-1.18</td>\n",
       "      <td>1.34</td>\n",
       "      <td>1.568</td>\n",
       "      <td>K5/M0III</td>\n",
       "    </tr>\n",
       "  </tbody>\n",
       "</table>\n",
       "<p>96742 rows × 6 columns</p>\n",
       "</div>"
      ],
      "text/plain": [
       "       Unnamed: 0  Vmag    Plx  e_Plx    B-V    SpType\n",
       "0               0  9.10   3.54   1.39  0.482        F5\n",
       "1               1  9.27  21.90   3.10  0.999       K3V\n",
       "2               2  6.61   2.81   0.63 -0.019        B9\n",
       "3               3  8.06   7.75   0.97  0.370       F0V\n",
       "4               4  8.55   2.87   1.11  0.902     G8III\n",
       "...           ...   ...    ...    ...    ...       ...\n",
       "99993       99993  7.92   3.93   1.24  0.133     Am...\n",
       "99994       99994  8.72   3.07   0.87  0.097        B3\n",
       "99996       99996  8.08   1.07   0.68  1.094        G5\n",
       "99997       99997  6.98   2.97   0.76 -0.143     B1.5V\n",
       "99998       99998  8.51  -1.18   1.34  1.568  K5/M0III\n",
       "\n",
       "[96742 rows x 6 columns]"
      ]
     },
     "execution_count": 5,
     "metadata": {},
     "output_type": "execute_result"
    }
   ],
   "source": [
    "missingValueCount = dataRaw.isnull().sum()\n",
    "print('Num_null: ' , missingValueCount.sum() )\n",
    "\n",
    "\n",
    "\n",
    "\n",
    "totalData = np.product(dataRaw.shape)\n",
    "percentMissing=missingValueCount.sum()/totalData\n",
    "\n",
    "print('Percentage Missing:', '{: .3%}'.format(percentMissing))\n",
    "dataRaw.dropna(inplace=True)\n",
    "dataRaw.fillna(0)"
   ]
  },
  {
   "cell_type": "code",
   "execution_count": 6,
   "id": "de5111e6",
   "metadata": {
    "execution": {
     "iopub.execute_input": "2022-05-06T16:47:33.119371Z",
     "iopub.status.busy": "2022-05-06T16:47:33.118761Z",
     "iopub.status.idle": "2022-05-06T16:47:33.134958Z",
     "shell.execute_reply": "2022-05-06T16:47:33.135430Z",
     "shell.execute_reply.started": "2022-05-06T16:38:47.658912Z"
    },
    "papermill": {
     "duration": 0.066482,
     "end_time": "2022-05-06T16:47:33.135608",
     "exception": false,
     "start_time": "2022-05-06T16:47:33.069126",
     "status": "completed"
    },
    "tags": []
   },
   "outputs": [
    {
     "data": {
      "text/html": [
       "<div>\n",
       "<style scoped>\n",
       "    .dataframe tbody tr th:only-of-type {\n",
       "        vertical-align: middle;\n",
       "    }\n",
       "\n",
       "    .dataframe tbody tr th {\n",
       "        vertical-align: top;\n",
       "    }\n",
       "\n",
       "    .dataframe thead th {\n",
       "        text-align: right;\n",
       "    }\n",
       "</style>\n",
       "<table border=\"1\" class=\"dataframe\">\n",
       "  <thead>\n",
       "    <tr style=\"text-align: right;\">\n",
       "      <th></th>\n",
       "      <th>Vmag</th>\n",
       "      <th>Plx</th>\n",
       "      <th>e_Plx</th>\n",
       "      <th>B-V</th>\n",
       "      <th>SpType</th>\n",
       "    </tr>\n",
       "  </thead>\n",
       "  <tbody>\n",
       "    <tr>\n",
       "      <th>0</th>\n",
       "      <td>9.10</td>\n",
       "      <td>3.54</td>\n",
       "      <td>1.39</td>\n",
       "      <td>0.482</td>\n",
       "      <td>F5</td>\n",
       "    </tr>\n",
       "    <tr>\n",
       "      <th>1</th>\n",
       "      <td>9.27</td>\n",
       "      <td>21.90</td>\n",
       "      <td>3.10</td>\n",
       "      <td>0.999</td>\n",
       "      <td>K3V</td>\n",
       "    </tr>\n",
       "    <tr>\n",
       "      <th>2</th>\n",
       "      <td>6.61</td>\n",
       "      <td>2.81</td>\n",
       "      <td>0.63</td>\n",
       "      <td>-0.019</td>\n",
       "      <td>B9</td>\n",
       "    </tr>\n",
       "    <tr>\n",
       "      <th>3</th>\n",
       "      <td>8.06</td>\n",
       "      <td>7.75</td>\n",
       "      <td>0.97</td>\n",
       "      <td>0.370</td>\n",
       "      <td>F0V</td>\n",
       "    </tr>\n",
       "    <tr>\n",
       "      <th>4</th>\n",
       "      <td>8.55</td>\n",
       "      <td>2.87</td>\n",
       "      <td>1.11</td>\n",
       "      <td>0.902</td>\n",
       "      <td>G8III</td>\n",
       "    </tr>\n",
       "  </tbody>\n",
       "</table>\n",
       "</div>"
      ],
      "text/plain": [
       "   Vmag    Plx  e_Plx    B-V SpType\n",
       "0  9.10   3.54   1.39  0.482     F5\n",
       "1  9.27  21.90   3.10  0.999    K3V\n",
       "2  6.61   2.81   0.63 -0.019     B9\n",
       "3  8.06   7.75   0.97  0.370    F0V\n",
       "4  8.55   2.87   1.11  0.902  G8III"
      ]
     },
     "execution_count": 6,
     "metadata": {},
     "output_type": "execute_result"
    }
   ],
   "source": [
    "dataRaw = dataRaw.drop(['Unnamed: 0'], axis=1)\n",
    "dataRaw.head()"
   ]
  },
  {
   "cell_type": "markdown",
   "id": "c74c7fe4",
   "metadata": {
    "papermill": {
     "duration": 0.050135,
     "end_time": "2022-05-06T16:47:33.235912",
     "exception": false,
     "start_time": "2022-05-06T16:47:33.185777",
     "status": "completed"
    },
    "tags": []
   },
   "source": [
    "### Graphic Histogram "
   ]
  },
  {
   "cell_type": "code",
   "execution_count": 7,
   "id": "4b881fc7",
   "metadata": {
    "execution": {
     "iopub.execute_input": "2022-05-06T16:47:33.332840Z",
     "iopub.status.busy": "2022-05-06T16:47:33.332266Z",
     "iopub.status.idle": "2022-05-06T16:47:35.819846Z",
     "shell.execute_reply": "2022-05-06T16:47:35.819092Z",
     "shell.execute_reply.started": "2022-05-06T16:38:47.676455Z"
    },
    "papermill": {
     "duration": 2.539349,
     "end_time": "2022-05-06T16:47:35.820012",
     "exception": false,
     "start_time": "2022-05-06T16:47:33.280663",
     "status": "completed"
    },
    "tags": []
   },
   "outputs": [
    {
     "data": {
      "text/plain": [
       "array([[<AxesSubplot:title={'center':'Vmag'}>,\n",
       "        <AxesSubplot:title={'center':'Plx'}>],\n",
       "       [<AxesSubplot:title={'center':'e_Plx'}>,\n",
       "        <AxesSubplot:title={'center':'B-V'}>],\n",
       "       [<AxesSubplot:title={'center':'Amag'}>,\n",
       "        <AxesSubplot:title={'center':'TargetClass'}>]], dtype=object)"
      ]
     },
     "execution_count": 7,
     "metadata": {},
     "output_type": "execute_result"
    },
    {
     "data": {
      "image/png": "[encoded data removed]",
      "text/plain": [
       "<Figure size 1440x1080 with 6 Axes>"
      ]
     },
     "metadata": {
      "needs_background": "light"
     },
     "output_type": "display_data"
    }
   ],
   "source": [
    "data.hist(bins=50 , figsize=(20,15) ) # histogram"
   ]
  },
  {
   "cell_type": "markdown",
   "id": "055836f6",
   "metadata": {
    "papermill": {
     "duration": 0.044818,
     "end_time": "2022-05-06T16:47:35.913615",
     "exception": false,
     "start_time": "2022-05-06T16:47:35.868797",
     "status": "completed"
    },
    "tags": []
   },
   "source": [
    "## Pre-Processing ##"
   ]
  },
  {
   "cell_type": "markdown",
   "id": "db18beca",
   "metadata": {
    "papermill": {
     "duration": 0.048243,
     "end_time": "2022-05-06T16:47:36.007183",
     "exception": false,
     "start_time": "2022-05-06T16:47:35.958940",
     "status": "completed"
    },
    "tags": []
   },
   "source": [
    "### New Variables"
   ]
  },
  {
   "cell_type": "markdown",
   "id": "4a895d31",
   "metadata": {
    "execution": {
     "iopub.execute_input": "2022-05-05T22:00:14.356938Z",
     "iopub.status.busy": "2022-05-05T22:00:14.35586Z",
     "iopub.status.idle": "2022-05-05T22:00:14.386251Z",
     "shell.execute_reply": "2022-05-05T22:00:14.385412Z",
     "shell.execute_reply.started": "2022-05-05T22:00:14.3568Z"
    },
    "papermill": {
     "duration": 0.044442,
     "end_time": "2022-05-06T16:47:36.096701",
     "exception": false,
     "start_time": "2022-05-06T16:47:36.052259",
     "status": "completed"
    },
    "tags": []
   },
   "source": [
    "#### Generate four new variables.\n",
    "\n",
    "- **Amag**    Absolute Magnitude of the Star.\n",
    "- **e_Amag**  Progation error.\n",
    "- **eA/A**    Percent error Amag.\n",
    "- **eP/P**    Percent error.\n",
    "\n"
   ]
  },
  {
   "cell_type": "code",
   "execution_count": 8,
   "id": "5e8a0d20",
   "metadata": {
    "execution": {
     "iopub.execute_input": "2022-05-06T16:47:36.189695Z",
     "iopub.status.busy": "2022-05-06T16:47:36.189032Z",
     "iopub.status.idle": "2022-05-06T16:47:36.223987Z",
     "shell.execute_reply": "2022-05-06T16:47:36.224484Z",
     "shell.execute_reply.started": "2022-05-06T16:38:49.248208Z"
    },
    "papermill": {
     "duration": 0.08358,
     "end_time": "2022-05-06T16:47:36.224649",
     "exception": false,
     "start_time": "2022-05-06T16:47:36.141069",
     "status": "completed"
    },
    "tags": []
   },
   "outputs": [
    {
     "data": {
      "text/html": [
       "<div>\n",
       "<style scoped>\n",
       "    .dataframe tbody tr th:only-of-type {\n",
       "        vertical-align: middle;\n",
       "    }\n",
       "\n",
       "    .dataframe tbody tr th {\n",
       "        vertical-align: top;\n",
       "    }\n",
       "\n",
       "    .dataframe thead th {\n",
       "        text-align: right;\n",
       "    }\n",
       "</style>\n",
       "<table border=\"1\" class=\"dataframe\">\n",
       "  <thead>\n",
       "    <tr style=\"text-align: right;\">\n",
       "      <th></th>\n",
       "      <th>Vmag</th>\n",
       "      <th>Plx</th>\n",
       "      <th>e_Plx</th>\n",
       "      <th>B-V</th>\n",
       "      <th>SpType</th>\n",
       "      <th>Amag</th>\n",
       "      <th>e_Amag</th>\n",
       "      <th>eA/A</th>\n",
       "      <th>eP/P</th>\n",
       "    </tr>\n",
       "  </thead>\n",
       "  <tbody>\n",
       "    <tr>\n",
       "      <th>0</th>\n",
       "      <td>9.10</td>\n",
       "      <td>3.54</td>\n",
       "      <td>1.39</td>\n",
       "      <td>0.482</td>\n",
       "      <td>F5</td>\n",
       "      <td>16.845016</td>\n",
       "      <td>0.852640</td>\n",
       "      <td>0.050617</td>\n",
       "      <td>0.392655</td>\n",
       "    </tr>\n",
       "    <tr>\n",
       "      <th>1</th>\n",
       "      <td>9.27</td>\n",
       "      <td>21.90</td>\n",
       "      <td>3.10</td>\n",
       "      <td>0.999</td>\n",
       "      <td>K3V</td>\n",
       "      <td>20.972221</td>\n",
       "      <td>0.307377</td>\n",
       "      <td>0.014656</td>\n",
       "      <td>0.141553</td>\n",
       "    </tr>\n",
       "    <tr>\n",
       "      <th>2</th>\n",
       "      <td>6.61</td>\n",
       "      <td>2.81</td>\n",
       "      <td>0.63</td>\n",
       "      <td>-0.019</td>\n",
       "      <td>B9</td>\n",
       "      <td>13.853533</td>\n",
       "      <td>0.486843</td>\n",
       "      <td>0.035142</td>\n",
       "      <td>0.224199</td>\n",
       "    </tr>\n",
       "    <tr>\n",
       "      <th>3</th>\n",
       "      <td>8.06</td>\n",
       "      <td>7.75</td>\n",
       "      <td>0.97</td>\n",
       "      <td>0.370</td>\n",
       "      <td>F0V</td>\n",
       "      <td>17.506508</td>\n",
       "      <td>0.271784</td>\n",
       "      <td>0.015525</td>\n",
       "      <td>0.125161</td>\n",
       "    </tr>\n",
       "    <tr>\n",
       "      <th>4</th>\n",
       "      <td>8.55</td>\n",
       "      <td>2.87</td>\n",
       "      <td>1.11</td>\n",
       "      <td>0.902</td>\n",
       "      <td>G8III</td>\n",
       "      <td>15.839410</td>\n",
       "      <td>0.839838</td>\n",
       "      <td>0.053022</td>\n",
       "      <td>0.386760</td>\n",
       "    </tr>\n",
       "  </tbody>\n",
       "</table>\n",
       "</div>"
      ],
      "text/plain": [
       "   Vmag    Plx  e_Plx    B-V SpType       Amag    e_Amag      eA/A      eP/P\n",
       "0  9.10   3.54   1.39  0.482     F5  16.845016  0.852640  0.050617  0.392655\n",
       "1  9.27  21.90   3.10  0.999    K3V  20.972221  0.307377  0.014656  0.141553\n",
       "2  6.61   2.81   0.63 -0.019     B9  13.853533  0.486843  0.035142  0.224199\n",
       "3  8.06   7.75   0.97  0.370    F0V  17.506508  0.271784  0.015525  0.125161\n",
       "4  8.55   2.87   1.11  0.902  G8III  15.839410  0.839838  0.053022  0.386760"
      ]
     },
     "execution_count": 8,
     "metadata": {},
     "output_type": "execute_result"
    }
   ],
   "source": [
    "# New variables\n",
    "\n",
    "data = dataRaw\n",
    "data = data[data.Plx != 0]\n",
    "data = data.reset_index(drop=True)\n",
    "\n",
    "data['Amag']   = data['Vmag'] + 5*( np.log10( np.abs( data['Plx'] ) )+ 1 )  # log is ln\n",
    "data['e_Amag'] = 5*data['e_Plx']/(data['Plx']*np.log(10) )   # propagacion de error\n",
    "\n",
    "data['eA/A']   = data['e_Amag']/data['Amag']\n",
    "data['eP/P']   = data['e_Plx']/data['Plx']\n",
    "\n",
    "dataRaw = data\n",
    "dataRaw.head()"
   ]
  },
  {
   "cell_type": "markdown",
   "id": "d013cd3c",
   "metadata": {
    "papermill": {
     "duration": 0.044202,
     "end_time": "2022-05-06T16:47:36.312479",
     "exception": false,
     "start_time": "2022-05-06T16:47:36.268277",
     "status": "completed"
    },
    "tags": []
   },
   "source": [
    "###  Target "
   ]
  },
  {
   "cell_type": "markdown",
   "id": "6839fa13",
   "metadata": {
    "papermill": {
     "duration": 0.042625,
     "end_time": "2022-05-06T16:47:36.401004",
     "exception": false,
     "start_time": "2022-05-06T16:47:36.358379",
     "status": "completed"
    },
    "tags": []
   },
   "source": [
    "Target is Classification MK. "
   ]
  },
  {
   "cell_type": "code",
   "execution_count": 9,
   "id": "51f86895",
   "metadata": {
    "execution": {
     "iopub.execute_input": "2022-05-06T16:47:36.495608Z",
     "iopub.status.busy": "2022-05-06T16:47:36.494926Z",
     "iopub.status.idle": "2022-05-06T16:47:36.524992Z",
     "shell.execute_reply": "2022-05-06T16:47:36.525537Z",
     "shell.execute_reply.started": "2022-05-06T16:38:49.277219Z"
    },
    "papermill": {
     "duration": 0.081003,
     "end_time": "2022-05-06T16:47:36.525751",
     "exception": false,
     "start_time": "2022-05-06T16:47:36.444748",
     "status": "completed"
    },
    "tags": []
   },
   "outputs": [
    {
     "data": {
      "text/html": [
       "<div>\n",
       "<style scoped>\n",
       "    .dataframe tbody tr th:only-of-type {\n",
       "        vertical-align: middle;\n",
       "    }\n",
       "\n",
       "    .dataframe tbody tr th {\n",
       "        vertical-align: top;\n",
       "    }\n",
       "\n",
       "    .dataframe thead th {\n",
       "        text-align: right;\n",
       "    }\n",
       "</style>\n",
       "<table border=\"1\" class=\"dataframe\">\n",
       "  <thead>\n",
       "    <tr style=\"text-align: right;\">\n",
       "      <th></th>\n",
       "      <th>Vmag</th>\n",
       "      <th>Plx</th>\n",
       "      <th>e_Plx</th>\n",
       "      <th>B-V</th>\n",
       "      <th>SpType</th>\n",
       "      <th>Amag</th>\n",
       "      <th>e_Amag</th>\n",
       "      <th>eA/A</th>\n",
       "      <th>eP/P</th>\n",
       "      <th>TargetClass</th>\n",
       "    </tr>\n",
       "  </thead>\n",
       "  <tbody>\n",
       "    <tr>\n",
       "      <th>0</th>\n",
       "      <td>9.10</td>\n",
       "      <td>3.54</td>\n",
       "      <td>1.39</td>\n",
       "      <td>0.482</td>\n",
       "      <td>F5</td>\n",
       "      <td>16.845016</td>\n",
       "      <td>0.852640</td>\n",
       "      <td>0.050617</td>\n",
       "      <td>0.392655</td>\n",
       "      <td>F5</td>\n",
       "    </tr>\n",
       "    <tr>\n",
       "      <th>1</th>\n",
       "      <td>9.27</td>\n",
       "      <td>21.90</td>\n",
       "      <td>3.10</td>\n",
       "      <td>0.999</td>\n",
       "      <td>K3V</td>\n",
       "      <td>20.972221</td>\n",
       "      <td>0.307377</td>\n",
       "      <td>0.014656</td>\n",
       "      <td>0.141553</td>\n",
       "      <td>K3V</td>\n",
       "    </tr>\n",
       "    <tr>\n",
       "      <th>2</th>\n",
       "      <td>6.61</td>\n",
       "      <td>2.81</td>\n",
       "      <td>0.63</td>\n",
       "      <td>-0.019</td>\n",
       "      <td>B9</td>\n",
       "      <td>13.853533</td>\n",
       "      <td>0.486843</td>\n",
       "      <td>0.035142</td>\n",
       "      <td>0.224199</td>\n",
       "      <td>B9</td>\n",
       "    </tr>\n",
       "    <tr>\n",
       "      <th>3</th>\n",
       "      <td>8.06</td>\n",
       "      <td>7.75</td>\n",
       "      <td>0.97</td>\n",
       "      <td>0.370</td>\n",
       "      <td>F0V</td>\n",
       "      <td>17.506508</td>\n",
       "      <td>0.271784</td>\n",
       "      <td>0.015525</td>\n",
       "      <td>0.125161</td>\n",
       "      <td>F0V</td>\n",
       "    </tr>\n",
       "    <tr>\n",
       "      <th>4</th>\n",
       "      <td>8.55</td>\n",
       "      <td>2.87</td>\n",
       "      <td>1.11</td>\n",
       "      <td>0.902</td>\n",
       "      <td>G8III</td>\n",
       "      <td>15.839410</td>\n",
       "      <td>0.839838</td>\n",
       "      <td>0.053022</td>\n",
       "      <td>0.386760</td>\n",
       "      <td>G8III</td>\n",
       "    </tr>\n",
       "  </tbody>\n",
       "</table>\n",
       "</div>"
      ],
      "text/plain": [
       "   Vmag    Plx  e_Plx    B-V SpType       Amag    e_Amag      eA/A      eP/P  \\\n",
       "0  9.10   3.54   1.39  0.482     F5  16.845016  0.852640  0.050617  0.392655   \n",
       "1  9.27  21.90   3.10  0.999    K3V  20.972221  0.307377  0.014656  0.141553   \n",
       "2  6.61   2.81   0.63 -0.019     B9  13.853533  0.486843  0.035142  0.224199   \n",
       "3  8.06   7.75   0.97  0.370    F0V  17.506508  0.271784  0.015525  0.125161   \n",
       "4  8.55   2.87   1.11  0.902  G8III  15.839410  0.839838  0.053022  0.386760   \n",
       "\n",
       "  TargetClass  \n",
       "0          F5  \n",
       "1         K3V  \n",
       "2          B9  \n",
       "3         F0V  \n",
       "4       G8III  "
      ]
     },
     "execution_count": 9,
     "metadata": {},
     "output_type": "execute_result"
    }
   ],
   "source": [
    "dataRaw['TargetClass'] = dataRaw['SpType']\n",
    "\n",
    "dataRaw = dataRaw.reset_index(drop=True) # reindexar debido al drop\n",
    "dataRaw.head() "
   ]
  },
  {
   "cell_type": "code",
   "execution_count": 10,
   "id": "fad3bc8d",
   "metadata": {
    "execution": {
     "iopub.execute_input": "2022-05-06T16:47:36.622572Z",
     "iopub.status.busy": "2022-05-06T16:47:36.621803Z",
     "iopub.status.idle": "2022-05-06T16:47:36.658632Z",
     "shell.execute_reply": "2022-05-06T16:47:36.658020Z",
     "shell.execute_reply.started": "2022-05-06T16:38:49.302970Z"
    },
    "papermill": {
     "duration": 0.086548,
     "end_time": "2022-05-06T16:47:36.658797",
     "exception": false,
     "start_time": "2022-05-06T16:47:36.572249",
     "status": "completed"
    },
    "tags": []
   },
   "outputs": [
    {
     "name": "stdout",
     "output_type": "stream",
     "text": [
      "<class 'pandas.core.frame.DataFrame'>\n",
      "RangeIndex: 96707 entries, 0 to 96706\n",
      "Data columns (total 10 columns):\n",
      " #   Column       Non-Null Count  Dtype  \n",
      "---  ------       --------------  -----  \n",
      " 0   Vmag         96707 non-null  float32\n",
      " 1   Plx          96707 non-null  float32\n",
      " 2   e_Plx        96707 non-null  float32\n",
      " 3   B-V          96707 non-null  float32\n",
      " 4   SpType       96707 non-null  object \n",
      " 5   Amag         96707 non-null  float32\n",
      " 6   e_Amag       96707 non-null  float32\n",
      " 7   eA/A         96707 non-null  float32\n",
      " 8   eP/P         96707 non-null  float32\n",
      " 9   TargetClass  96707 non-null  object \n",
      "dtypes: float32(8), object(2)\n",
      "memory usage: 4.4+ MB\n"
     ]
    }
   ],
   "source": [
    "data = dataRaw\n",
    "data.info()"
   ]
  },
  {
   "cell_type": "markdown",
   "id": "51b1b189",
   "metadata": {
    "papermill": {
     "duration": 0.045479,
     "end_time": "2022-05-06T16:47:36.749309",
     "exception": false,
     "start_time": "2022-05-06T16:47:36.703830",
     "status": "completed"
    },
    "tags": []
   },
   "source": [
    "## Target Class: Giants or Dwarfs ##"
   ]
  },
  {
   "cell_type": "markdown",
   "id": "97e950ac",
   "metadata": {
    "papermill": {
     "duration": 0.046213,
     "end_time": "2022-05-06T16:47:36.841940",
     "exception": false,
     "start_time": "2022-05-06T16:47:36.795727",
     "status": "completed"
    },
    "tags": []
   },
   "source": [
    "**TargetClass** - Whether the Star is Dwarf (0) or Giant (1)"
   ]
  },
  {
   "cell_type": "code",
   "execution_count": 11,
   "id": "7747a04c",
   "metadata": {
    "execution": {
     "iopub.execute_input": "2022-05-06T16:47:36.946582Z",
     "iopub.status.busy": "2022-05-06T16:47:36.945720Z",
     "iopub.status.idle": "2022-05-06T16:51:04.974480Z",
     "shell.execute_reply": "2022-05-06T16:51:04.975017Z",
     "shell.execute_reply.started": "2022-05-06T16:38:49.327412Z"
    },
    "papermill": {
     "duration": 208.085594,
     "end_time": "2022-05-06T16:51:04.975228",
     "exception": false,
     "start_time": "2022-05-06T16:47:36.889634",
     "status": "completed"
    },
    "tags": []
   },
   "outputs": [
    {
     "data": {
      "text/html": [
       "<div>\n",
       "<style scoped>\n",
       "    .dataframe tbody tr th:only-of-type {\n",
       "        vertical-align: middle;\n",
       "    }\n",
       "\n",
       "    .dataframe tbody tr th {\n",
       "        vertical-align: top;\n",
       "    }\n",
       "\n",
       "    .dataframe thead th {\n",
       "        text-align: right;\n",
       "    }\n",
       "</style>\n",
       "<table border=\"1\" class=\"dataframe\">\n",
       "  <thead>\n",
       "    <tr style=\"text-align: right;\">\n",
       "      <th></th>\n",
       "      <th>Vmag</th>\n",
       "      <th>Plx</th>\n",
       "      <th>e_Plx</th>\n",
       "      <th>B-V</th>\n",
       "      <th>SpType</th>\n",
       "      <th>Amag</th>\n",
       "      <th>e_Amag</th>\n",
       "      <th>eA/A</th>\n",
       "      <th>eP/P</th>\n",
       "      <th>TargetClass</th>\n",
       "    </tr>\n",
       "  </thead>\n",
       "  <tbody>\n",
       "    <tr>\n",
       "      <th>0</th>\n",
       "      <td>9.10</td>\n",
       "      <td>3.54</td>\n",
       "      <td>1.39</td>\n",
       "      <td>0.482</td>\n",
       "      <td>F5</td>\n",
       "      <td>16.845016</td>\n",
       "      <td>0.852640</td>\n",
       "      <td>0.050617</td>\n",
       "      <td>0.392655</td>\n",
       "      <td>9</td>\n",
       "    </tr>\n",
       "    <tr>\n",
       "      <th>1</th>\n",
       "      <td>9.27</td>\n",
       "      <td>21.90</td>\n",
       "      <td>3.10</td>\n",
       "      <td>0.999</td>\n",
       "      <td>K3V</td>\n",
       "      <td>20.972221</td>\n",
       "      <td>0.307377</td>\n",
       "      <td>0.014656</td>\n",
       "      <td>0.141553</td>\n",
       "      <td>9</td>\n",
       "    </tr>\n",
       "    <tr>\n",
       "      <th>2</th>\n",
       "      <td>6.61</td>\n",
       "      <td>2.81</td>\n",
       "      <td>0.63</td>\n",
       "      <td>-0.019</td>\n",
       "      <td>B9</td>\n",
       "      <td>13.853533</td>\n",
       "      <td>0.486843</td>\n",
       "      <td>0.035142</td>\n",
       "      <td>0.224199</td>\n",
       "      <td>9</td>\n",
       "    </tr>\n",
       "    <tr>\n",
       "      <th>3</th>\n",
       "      <td>8.06</td>\n",
       "      <td>7.75</td>\n",
       "      <td>0.97</td>\n",
       "      <td>0.370</td>\n",
       "      <td>F0V</td>\n",
       "      <td>17.506508</td>\n",
       "      <td>0.271784</td>\n",
       "      <td>0.015525</td>\n",
       "      <td>0.125161</td>\n",
       "      <td>9</td>\n",
       "    </tr>\n",
       "    <tr>\n",
       "      <th>4</th>\n",
       "      <td>8.55</td>\n",
       "      <td>2.87</td>\n",
       "      <td>1.11</td>\n",
       "      <td>0.902</td>\n",
       "      <td>G8III</td>\n",
       "      <td>15.839410</td>\n",
       "      <td>0.839838</td>\n",
       "      <td>0.053022</td>\n",
       "      <td>0.386760</td>\n",
       "      <td>1</td>\n",
       "    </tr>\n",
       "  </tbody>\n",
       "</table>\n",
       "</div>"
      ],
      "text/plain": [
       "   Vmag    Plx  e_Plx    B-V SpType       Amag    e_Amag      eA/A      eP/P  \\\n",
       "0  9.10   3.54   1.39  0.482     F5  16.845016  0.852640  0.050617  0.392655   \n",
       "1  9.27  21.90   3.10  0.999    K3V  20.972221  0.307377  0.014656  0.141553   \n",
       "2  6.61   2.81   0.63 -0.019     B9  13.853533  0.486843  0.035142  0.224199   \n",
       "3  8.06   7.75   0.97  0.370    F0V  17.506508  0.271784  0.015525  0.125161   \n",
       "4  8.55   2.87   1.11  0.902  G8III  15.839410  0.839838  0.053022  0.386760   \n",
       "\n",
       "  TargetClass  \n",
       "0           9  \n",
       "1           9  \n",
       "2           9  \n",
       "3           9  \n",
       "4           1  "
      ]
     },
     "execution_count": 11,
     "metadata": {},
     "output_type": "execute_result"
    }
   ],
   "source": [
    "# Procesamiento target, clasificar en Giants and dwarfs\n",
    "\n",
    "Inum = str('I')\n",
    "for i in range(len(data['TargetClass'])):\n",
    "    itarget= str( data.loc[i,'TargetClass'] )\n",
    "    if 'I' in list(itarget): \n",
    "        data.loc[i,'TargetClass'] = 1   # 1 giant       \n",
    "    elif (\"VII\" or \"VI\") in list( itarget): \n",
    "        data.loc[i,'TargetClass'] = 0 # VII is Dwarf (0)\n",
    "    elif \"V\" in list( itarget): \n",
    "        if ('G' or 'K' or 'M' or 'L' or 'T') in  list(itarget):\n",
    "            data.loc[i,'TargetClass'] = 0\n",
    "        else:\n",
    "            data.loc[i,'TargetClass'] = 9\n",
    "    else: \n",
    "        data.loc[i,'TargetClass'] = 9 # None\n",
    "        \n",
    "data['TargetClass']\n",
    "\n",
    "data.head()"
   ]
  },
  {
   "cell_type": "code",
   "execution_count": 12,
   "id": "2e6fe265",
   "metadata": {
    "execution": {
     "iopub.execute_input": "2022-05-06T16:51:05.076774Z",
     "iopub.status.busy": "2022-05-06T16:51:05.075373Z",
     "iopub.status.idle": "2022-05-06T16:51:05.684296Z",
     "shell.execute_reply": "2022-05-06T16:51:05.683559Z",
     "shell.execute_reply.started": "2022-05-06T16:40:35.746093Z"
    },
    "papermill": {
     "duration": 0.661718,
     "end_time": "2022-05-06T16:51:05.684457",
     "exception": false,
     "start_time": "2022-05-06T16:51:05.022739",
     "status": "completed"
    },
    "tags": []
   },
   "outputs": [
    {
     "data": {
      "text/plain": [
       "<AxesSubplot:xlabel='TargetClass', ylabel='count'>"
      ]
     },
     "execution_count": 12,
     "metadata": {},
     "output_type": "execute_result"
    },
    {
     "data": {
      "image/png": "[encoded data removed]",
      "text/plain": [
       "<Figure size 432x288 with 1 Axes>"
      ]
     },
     "metadata": {
      "needs_background": "light"
     },
     "output_type": "display_data"
    }
   ],
   "source": [
    "sns.countplot(x=\"TargetClass\", data=data )"
   ]
  },
  {
   "cell_type": "code",
   "execution_count": 13,
   "id": "1b8a85d3",
   "metadata": {
    "execution": {
     "iopub.execute_input": "2022-05-06T16:51:05.795586Z",
     "iopub.status.busy": "2022-05-06T16:51:05.793002Z",
     "iopub.status.idle": "2022-05-06T16:51:05.815631Z",
     "shell.execute_reply": "2022-05-06T16:51:05.816579Z",
     "shell.execute_reply.started": "2022-05-06T16:40:36.108116Z"
    },
    "papermill": {
     "duration": 0.078928,
     "end_time": "2022-05-06T16:51:05.816804",
     "exception": false,
     "start_time": "2022-05-06T16:51:05.737876",
     "status": "completed"
    },
    "tags": []
   },
   "outputs": [
    {
     "data": {
      "text/plain": [
       "9    65279\n",
       "1    26647\n",
       "0     4781\n",
       "Name: TargetClass, dtype: int64"
      ]
     },
     "execution_count": 13,
     "metadata": {},
     "output_type": "execute_result"
    }
   ],
   "source": [
    "data['TargetClass'].value_counts()"
   ]
  },
  {
   "cell_type": "markdown",
   "id": "aae25b25",
   "metadata": {
    "papermill": {
     "duration": 0.049964,
     "end_time": "2022-05-06T16:51:05.921955",
     "exception": false,
     "start_time": "2022-05-06T16:51:05.871991",
     "status": "completed"
    },
    "tags": []
   },
   "source": [
    "### Selection only Giants or Dwarfs ###"
   ]
  },
  {
   "cell_type": "markdown",
   "id": "b9b44399",
   "metadata": {
    "papermill": {
     "duration": 0.048474,
     "end_time": "2022-05-06T16:51:06.021870",
     "exception": false,
     "start_time": "2022-05-06T16:51:05.973396",
     "status": "completed"
    },
    "tags": []
   },
   "source": [
    "Copy and drop number 9.\n"
   ]
  },
  {
   "cell_type": "code",
   "execution_count": 14,
   "id": "a6b345ec",
   "metadata": {
    "execution": {
     "iopub.execute_input": "2022-05-06T16:51:06.143999Z",
     "iopub.status.busy": "2022-05-06T16:51:06.143356Z",
     "iopub.status.idle": "2022-05-06T16:51:06.151436Z",
     "shell.execute_reply": "2022-05-06T16:51:06.150897Z",
     "shell.execute_reply.started": "2022-05-06T16:40:36.120909Z"
    },
    "papermill": {
     "duration": 0.079683,
     "end_time": "2022-05-06T16:51:06.151622",
     "exception": false,
     "start_time": "2022-05-06T16:51:06.071939",
     "status": "completed"
    },
    "tags": []
   },
   "outputs": [],
   "source": [
    "df = data[dataRaw.TargetClass != 9 ] # != return  boolean"
   ]
  },
  {
   "cell_type": "markdown",
   "id": "5da928d7",
   "metadata": {
    "papermill": {
     "duration": 0.052299,
     "end_time": "2022-05-06T16:51:06.257276",
     "exception": false,
     "start_time": "2022-05-06T16:51:06.204977",
     "status": "completed"
    },
    "tags": []
   },
   "source": [
    "## Balance ##"
   ]
  },
  {
   "cell_type": "code",
   "execution_count": 15,
   "id": "cd7d20fb",
   "metadata": {
    "execution": {
     "iopub.execute_input": "2022-05-06T16:51:06.364531Z",
     "iopub.status.busy": "2022-05-06T16:51:06.363756Z",
     "iopub.status.idle": "2022-05-06T16:51:06.554446Z",
     "shell.execute_reply": "2022-05-06T16:51:06.553523Z",
     "shell.execute_reply.started": "2022-05-06T16:40:36.144116Z"
    },
    "papermill": {
     "duration": 0.24691,
     "end_time": "2022-05-06T16:51:06.554918",
     "exception": false,
     "start_time": "2022-05-06T16:51:06.308008",
     "status": "completed"
    },
    "tags": []
   },
   "outputs": [
    {
     "name": "stdout",
     "output_type": "stream",
     "text": [
      "<class 'pandas.core.frame.DataFrame'>\n",
      "Int64Index: 9562 entries, 27343 to 96675\n",
      "Data columns (total 10 columns):\n",
      " #   Column       Non-Null Count  Dtype  \n",
      "---  ------       --------------  -----  \n",
      " 0   Vmag         9562 non-null   float32\n",
      " 1   Plx          9562 non-null   float32\n",
      " 2   e_Plx        9562 non-null   float32\n",
      " 3   B-V          9562 non-null   float32\n",
      " 4   SpType       9562 non-null   object \n",
      " 5   Amag         9562 non-null   float32\n",
      " 6   e_Amag       9562 non-null   float32\n",
      " 7   eA/A         9562 non-null   float32\n",
      " 8   eP/P         9562 non-null   float32\n",
      " 9   TargetClass  9562 non-null   object \n",
      "dtypes: float32(8), object(2)\n",
      "memory usage: 522.9+ KB\n"
     ]
    }
   ],
   "source": [
    "# dividir set \n",
    "\n",
    "dfGiants = df[df.TargetClass == 1]\n",
    "dfDwarfs = df[df.TargetClass == 0]\n",
    "num_of_giant = dfGiants.shape[0]\n",
    "num_of_dwarf = dfDwarfs.shape[0]\n",
    "\n",
    "from sklearn.utils import resample\n",
    "dfGiantsDownSample = resample(dfGiants, \n",
    "                             replace = False, # sample without replacement\n",
    "                             n_samples = num_of_dwarf,\n",
    "                             random_state =1 \n",
    "                             )\n",
    "dfDownSampled = pd.concat([dfGiantsDownSample , dfDwarfs] )\n",
    "dfDownSampled.info()"
   ]
  },
  {
   "cell_type": "code",
   "execution_count": 16,
   "id": "69047441",
   "metadata": {
    "execution": {
     "iopub.execute_input": "2022-05-06T16:51:06.661566Z",
     "iopub.status.busy": "2022-05-06T16:51:06.660347Z",
     "iopub.status.idle": "2022-05-06T16:51:06.799995Z",
     "shell.execute_reply": "2022-05-06T16:51:06.800690Z",
     "shell.execute_reply.started": "2022-05-06T16:40:36.205206Z"
    },
    "papermill": {
     "duration": 0.195813,
     "end_time": "2022-05-06T16:51:06.800924",
     "exception": false,
     "start_time": "2022-05-06T16:51:06.605111",
     "status": "completed"
    },
    "tags": []
   },
   "outputs": [
    {
     "name": "stdout",
     "output_type": "stream",
     "text": [
      "1    4781\n",
      "0    4781\n",
      "Name: TargetClass, dtype: int64\n"
     ]
    },
    {
     "data": {
      "image/png": "[encoded data removed]",
      "text/plain": [
       "<Figure size 432x288 with 1 Axes>"
      ]
     },
     "metadata": {
      "needs_background": "light"
     },
     "output_type": "display_data"
    }
   ],
   "source": [
    "sns.countplot(x='TargetClass', data=dfDownSampled)\n",
    "print( dfDownSampled['TargetClass'].value_counts())"
   ]
  },
  {
   "cell_type": "code",
   "execution_count": 17,
   "id": "346deb23",
   "metadata": {
    "execution": {
     "iopub.execute_input": "2022-05-06T16:51:06.981245Z",
     "iopub.status.busy": "2022-05-06T16:51:06.980460Z",
     "iopub.status.idle": "2022-05-06T16:51:06.993870Z",
     "shell.execute_reply": "2022-05-06T16:51:06.994616Z",
     "shell.execute_reply.started": "2022-05-06T16:40:36.394769Z"
    },
    "papermill": {
     "duration": 0.106638,
     "end_time": "2022-05-06T16:51:06.994868",
     "exception": false,
     "start_time": "2022-05-06T16:51:06.888230",
     "status": "completed"
    },
    "tags": []
   },
   "outputs": [
    {
     "name": "stdout",
     "output_type": "stream",
     "text": [
      "<class 'pandas.core.frame.DataFrame'>\n",
      "RangeIndex: 9562 entries, 0 to 9561\n",
      "Data columns (total 10 columns):\n",
      " #   Column       Non-Null Count  Dtype  \n",
      "---  ------       --------------  -----  \n",
      " 0   Vmag         9562 non-null   float32\n",
      " 1   Plx          9562 non-null   float32\n",
      " 2   e_Plx        9562 non-null   float32\n",
      " 3   B-V          9562 non-null   float32\n",
      " 4   SpType       9562 non-null   object \n",
      " 5   Amag         9562 non-null   float32\n",
      " 6   e_Amag       9562 non-null   float32\n",
      " 7   eA/A         9562 non-null   float32\n",
      " 8   eP/P         9562 non-null   float32\n",
      " 9   TargetClass  9562 non-null   object \n",
      "dtypes: float32(8), object(2)\n",
      "memory usage: 448.3+ KB\n"
     ]
    }
   ],
   "source": [
    "dfBalanced= dfDownSampled.reset_index(drop=True)\n",
    "dfBalanced.info()"
   ]
  },
  {
   "cell_type": "code",
   "execution_count": 18,
   "id": "f3e432a3",
   "metadata": {
    "execution": {
     "iopub.execute_input": "2022-05-06T16:51:07.174028Z",
     "iopub.status.busy": "2022-05-06T16:51:07.173210Z",
     "iopub.status.idle": "2022-05-06T16:51:07.186595Z",
     "shell.execute_reply": "2022-05-06T16:51:07.187305Z",
     "shell.execute_reply.started": "2022-05-06T16:40:36.409891Z"
    },
    "papermill": {
     "duration": 0.102188,
     "end_time": "2022-05-06T16:51:07.187553",
     "exception": false,
     "start_time": "2022-05-06T16:51:07.085365",
     "status": "completed"
    },
    "tags": []
   },
   "outputs": [
    {
     "name": "stdout",
     "output_type": "stream",
     "text": [
      "<class 'pandas.core.frame.DataFrame'>\n",
      "RangeIndex: 9562 entries, 0 to 9561\n",
      "Data columns (total 10 columns):\n",
      " #   Column       Non-Null Count  Dtype  \n",
      "---  ------       --------------  -----  \n",
      " 0   Vmag         9562 non-null   float32\n",
      " 1   Plx          9562 non-null   float32\n",
      " 2   e_Plx        9562 non-null   float32\n",
      " 3   B-V          9562 non-null   float32\n",
      " 4   SpType       9562 non-null   object \n",
      " 5   Amag         9562 non-null   float32\n",
      " 6   e_Amag       9562 non-null   float32\n",
      " 7   eA/A         9562 non-null   float32\n",
      " 8   eP/P         9562 non-null   float32\n",
      " 9   TargetClass  9562 non-null   object \n",
      "dtypes: float32(8), object(2)\n",
      "memory usage: 448.3+ KB\n"
     ]
    }
   ],
   "source": [
    "dataStar = dfBalanced.sample(frac=1).reset_index(drop=True) # shuffle\n",
    "dfCopyStar = dataStar.copy()\n",
    "\n",
    "dataStar.info(20)"
   ]
  },
  {
   "cell_type": "markdown",
   "id": "4b0482e9",
   "metadata": {
    "papermill": {
     "duration": 0.081865,
     "end_time": "2022-05-06T16:51:07.352803",
     "exception": false,
     "start_time": "2022-05-06T16:51:07.270938",
     "status": "completed"
    },
    "tags": []
   },
   "source": [
    "## Visualization ##"
   ]
  },
  {
   "cell_type": "code",
   "execution_count": 19,
   "id": "c4935792",
   "metadata": {
    "execution": {
     "iopub.execute_input": "2022-05-06T16:51:07.540410Z",
     "iopub.status.busy": "2022-05-06T16:51:07.538905Z",
     "iopub.status.idle": "2022-05-06T16:51:07.552639Z",
     "shell.execute_reply": "2022-05-06T16:51:07.553525Z",
     "shell.execute_reply.started": "2022-05-06T16:40:36.433932Z"
    },
    "papermill": {
     "duration": 0.109878,
     "end_time": "2022-05-06T16:51:07.553772",
     "exception": false,
     "start_time": "2022-05-06T16:51:07.443894",
     "status": "completed"
    },
    "tags": []
   },
   "outputs": [
    {
     "name": "stdout",
     "output_type": "stream",
     "text": [
      "<class 'pandas.core.frame.DataFrame'>\n",
      "Int64Index: 9562 entries, 0 to 9561\n",
      "Data columns (total 10 columns):\n",
      " #   Column       Non-Null Count  Dtype  \n",
      "---  ------       --------------  -----  \n",
      " 0   Vmag         9562 non-null   float32\n",
      " 1   Plx          9562 non-null   float32\n",
      " 2   e_Plx        9562 non-null   float32\n",
      " 3   B-V          9562 non-null   float32\n",
      " 4   SpType       9562 non-null   object \n",
      " 5   Amag         9562 non-null   float32\n",
      " 6   e_Amag       9562 non-null   float32\n",
      " 7   eA/A         9562 non-null   float32\n",
      " 8   eP/P         9562 non-null   float32\n",
      " 9   TargetClass  9562 non-null   object \n",
      "dtypes: float32(8), object(2)\n",
      "memory usage: 522.9+ KB\n"
     ]
    }
   ],
   "source": [
    "dataStar.dropna(inplace=True)\n",
    "dataStar.info()"
   ]
  },
  {
   "cell_type": "code",
   "execution_count": 20,
   "id": "467a877a",
   "metadata": {
    "execution": {
     "iopub.execute_input": "2022-05-06T16:51:07.727347Z",
     "iopub.status.busy": "2022-05-06T16:51:07.721002Z",
     "iopub.status.idle": "2022-05-06T16:51:08.391126Z",
     "shell.execute_reply": "2022-05-06T16:51:08.390486Z",
     "shell.execute_reply.started": "2022-05-06T16:40:36.455300Z"
    },
    "papermill": {
     "duration": 0.752692,
     "end_time": "2022-05-06T16:51:08.391325",
     "exception": false,
     "start_time": "2022-05-06T16:51:07.638633",
     "status": "completed"
    },
    "tags": []
   },
   "outputs": [
    {
     "data": {
      "image/png": "[encoded data removed]",
      "text/plain": [
       "<Figure size 432x288 with 2 Axes>"
      ]
     },
     "metadata": {
      "needs_background": "light"
     },
     "output_type": "display_data"
    }
   ],
   "source": [
    "%matplotlib inline\n",
    "\n",
    "dataStar['TargetClass'] = pd.to_numeric(dataStar['TargetClass'] , downcast='float' , errors='coerce')\n",
    "\n",
    "\n",
    "#sns.set()\n",
    "dataStar.plot.scatter( x=\"Plx\" ,y=\"Amag\",cmap='viridis' ,  c='TargetClass' ,s=5); # problem with TargetClass\n",
    "#plt.xlabel(\"Plx\")\n",
    "#plt.figure()\n",
    "#plt.show()\n"
   ]
  },
  {
   "cell_type": "code",
   "execution_count": 21,
   "id": "a1d43082",
   "metadata": {
    "execution": {
     "iopub.execute_input": "2022-05-06T16:51:08.543325Z",
     "iopub.status.busy": "2022-05-06T16:51:08.542127Z",
     "iopub.status.idle": "2022-05-06T16:51:08.918917Z",
     "shell.execute_reply": "2022-05-06T16:51:08.918283Z",
     "shell.execute_reply.started": "2022-05-06T16:40:36.976639Z"
    },
    "papermill": {
     "duration": 0.467468,
     "end_time": "2022-05-06T16:51:08.919099",
     "exception": false,
     "start_time": "2022-05-06T16:51:08.451631",
     "status": "completed"
    },
    "tags": []
   },
   "outputs": [
    {
     "data": {
      "image/png": "[encoded data removed]",
      "text/plain": [
       "<Figure size 432x288 with 2 Axes>"
      ]
     },
     "metadata": {},
     "output_type": "display_data"
    },
    {
     "data": {
      "text/plain": [
       "<Figure size 432x288 with 0 Axes>"
      ]
     },
     "metadata": {},
     "output_type": "display_data"
    }
   ],
   "source": [
    "%matplotlib inline\n",
    "sns.set()\n",
    "dataStar.plot.scatter( x=\"B-V\" ,y=\"Amag\",cmap='viridis' ,  c='TargetClass' ,s=5); # problem with TargetClass\n",
    "plt.xlabel(\"Plx\")\n",
    "plt.figure()\n",
    "plt.show()\n",
    "\n"
   ]
  },
  {
   "cell_type": "code",
   "execution_count": 22,
   "id": "46186945",
   "metadata": {
    "execution": {
     "iopub.execute_input": "2022-05-06T16:51:09.046658Z",
     "iopub.status.busy": "2022-05-06T16:51:09.045097Z",
     "iopub.status.idle": "2022-05-06T16:51:14.057760Z",
     "shell.execute_reply": "2022-05-06T16:51:14.055587Z",
     "shell.execute_reply.started": "2022-05-06T16:40:37.361209Z"
    },
    "papermill": {
     "duration": 5.081811,
     "end_time": "2022-05-06T16:51:14.058184",
     "exception": false,
     "start_time": "2022-05-06T16:51:08.976373",
     "status": "completed"
    },
    "tags": []
   },
   "outputs": [
    {
     "data": {
      "text/plain": [
       "Vmag           0\n",
       "Plx            0\n",
       "e_Plx          0\n",
       "B-V            0\n",
       "SpType         0\n",
       "Amag           0\n",
       "e_Amag         0\n",
       "eA/A           0\n",
       "eP/P           0\n",
       "TargetClass    0\n",
       "dtype: int64"
      ]
     },
     "execution_count": 22,
     "metadata": {},
     "output_type": "execute_result"
    },
    {
     "data": {
      "image/png": "[encoded data removed]",
      "text/plain": [
       "<Figure size 864x576 with 25 Axes>"
      ]
     },
     "metadata": {},
     "output_type": "display_data"
    }
   ],
   "source": [
    "# scatter attributes\n",
    "\n",
    "from pandas.plotting import scatter_matrix\n",
    "\n",
    "attributes = ['TargetClass','Amag' , 'Vmag' , 'Plx' , 'B-V']\n",
    "\n",
    "# convert a numerical Targetclass \n",
    "dataStar['TargetClass'] = pd.to_numeric(dataStar['TargetClass'] , downcast='float' , errors='coerce')\n",
    "\n",
    "scatter_matrix(dataStar[attributes] , figsize=(12, 8))\n",
    "dataStar.isnull().sum()\n"
   ]
  },
  {
   "cell_type": "markdown",
   "id": "b62ad1f3",
   "metadata": {
    "papermill": {
     "duration": 0.113788,
     "end_time": "2022-05-06T16:51:14.304400",
     "exception": false,
     "start_time": "2022-05-06T16:51:14.190612",
     "status": "completed"
    },
    "tags": []
   },
   "source": [
    "## Correlation Linear ##"
   ]
  },
  {
   "cell_type": "code",
   "execution_count": 23,
   "id": "c5dfe256",
   "metadata": {
    "execution": {
     "iopub.execute_input": "2022-05-06T16:51:14.529218Z",
     "iopub.status.busy": "2022-05-06T16:51:14.528036Z",
     "iopub.status.idle": "2022-05-06T16:51:14.540063Z",
     "shell.execute_reply": "2022-05-06T16:51:14.540867Z",
     "shell.execute_reply.started": "2022-05-06T16:40:40.569332Z"
    },
    "papermill": {
     "duration": 0.126755,
     "end_time": "2022-05-06T16:51:14.541168",
     "exception": false,
     "start_time": "2022-05-06T16:51:14.414413",
     "status": "completed"
    },
    "tags": []
   },
   "outputs": [
    {
     "data": {
      "text/plain": [
       "TargetClass    1.000000\n",
       "B-V            0.302299\n",
       "eP/P           0.036399\n",
       "e_Amag         0.036399\n",
       "eA/A           0.023408\n",
       "e_Plx         -0.242699\n",
       "Plx           -0.365910\n",
       "Vmag          -0.381619\n",
       "Amag          -0.735124\n",
       "Name: TargetClass, dtype: float64"
      ]
     },
     "execution_count": 23,
     "metadata": {},
     "output_type": "execute_result"
    }
   ],
   "source": [
    "corr_matrix = dataStar.corr()\n",
    "corr_matrix[\"TargetClass\"].sort_values(ascending=False)"
   ]
  },
  {
   "cell_type": "markdown",
   "id": "844ce6f8",
   "metadata": {
    "papermill": {
     "duration": 0.119095,
     "end_time": "2022-05-06T16:51:14.775441",
     "exception": false,
     "start_time": "2022-05-06T16:51:14.656346",
     "status": "completed"
    },
    "tags": []
   },
   "source": [
    "## Data Cleaning ##"
   ]
  },
  {
   "cell_type": "code",
   "execution_count": 24,
   "id": "b24fba9f",
   "metadata": {
    "execution": {
     "iopub.execute_input": "2022-05-06T16:51:14.977940Z",
     "iopub.status.busy": "2022-05-06T16:51:14.976277Z",
     "iopub.status.idle": "2022-05-06T16:51:14.989687Z",
     "shell.execute_reply": "2022-05-06T16:51:14.990705Z",
     "shell.execute_reply.started": "2022-05-06T16:40:40.579745Z"
    },
    "papermill": {
     "duration": 0.121441,
     "end_time": "2022-05-06T16:51:14.991316",
     "exception": false,
     "start_time": "2022-05-06T16:51:14.869875",
     "status": "completed"
    },
    "tags": []
   },
   "outputs": [],
   "source": [
    "#dataStar = dataStar.drop(['Unnamed: 0'], axis =1)\n",
    "dataStar = dataStar.drop(['SpType'], axis =1)\n",
    "\n"
   ]
  },
  {
   "cell_type": "markdown",
   "id": "32d6bbe1",
   "metadata": {
    "papermill": {
     "duration": 0.097773,
     "end_time": "2022-05-06T16:51:15.200797",
     "exception": false,
     "start_time": "2022-05-06T16:51:15.103024",
     "status": "completed"
    },
    "tags": []
   },
   "source": [
    "# **Data Processing** #"
   ]
  },
  {
   "cell_type": "code",
   "execution_count": 25,
   "id": "509d1325",
   "metadata": {
    "execution": {
     "iopub.execute_input": "2022-05-06T16:51:15.415071Z",
     "iopub.status.busy": "2022-05-06T16:51:15.405205Z",
     "iopub.status.idle": "2022-05-06T16:51:15.418343Z",
     "shell.execute_reply": "2022-05-06T16:51:15.419019Z",
     "shell.execute_reply.started": "2022-05-06T16:40:40.589768Z"
    },
    "papermill": {
     "duration": 0.119866,
     "end_time": "2022-05-06T16:51:15.419304",
     "exception": false,
     "start_time": "2022-05-06T16:51:15.299438",
     "status": "completed"
    },
    "tags": []
   },
   "outputs": [
    {
     "name": "stdout",
     "output_type": "stream",
     "text": [
      "<class 'pandas.core.frame.DataFrame'>\n",
      "Int64Index: 9562 entries, 0 to 9561\n",
      "Data columns (total 9 columns):\n",
      " #   Column       Non-Null Count  Dtype  \n",
      "---  ------       --------------  -----  \n",
      " 0   Vmag         9562 non-null   float32\n",
      " 1   Plx          9562 non-null   float32\n",
      " 2   e_Plx        9562 non-null   float32\n",
      " 3   B-V          9562 non-null   float32\n",
      " 4   Amag         9562 non-null   float32\n",
      " 5   e_Amag       9562 non-null   float32\n",
      " 6   eA/A         9562 non-null   float32\n",
      " 7   eP/P         9562 non-null   float32\n",
      " 8   TargetClass  9562 non-null   float32\n",
      "dtypes: float32(9)\n",
      "memory usage: 410.9 KB\n"
     ]
    }
   ],
   "source": [
    "dataStar.info()"
   ]
  },
  {
   "cell_type": "markdown",
   "id": "a72d9367",
   "metadata": {
    "papermill": {
     "duration": 0.104271,
     "end_time": "2022-05-06T16:51:15.626771",
     "exception": false,
     "start_time": "2022-05-06T16:51:15.522500",
     "status": "completed"
    },
    "tags": []
   },
   "source": [
    "### Train and test Set ###"
   ]
  },
  {
   "cell_type": "code",
   "execution_count": 26,
   "id": "dc2ad153",
   "metadata": {
    "execution": {
     "iopub.execute_input": "2022-05-06T16:51:15.850341Z",
     "iopub.status.busy": "2022-05-06T16:51:15.848990Z",
     "iopub.status.idle": "2022-05-06T16:51:16.036417Z",
     "shell.execute_reply": "2022-05-06T16:51:16.035033Z",
     "shell.execute_reply.started": "2022-05-06T16:40:40.611636Z"
    },
    "papermill": {
     "duration": 0.298118,
     "end_time": "2022-05-06T16:51:16.036637",
     "exception": false,
     "start_time": "2022-05-06T16:51:15.738519",
     "status": "completed"
    },
    "tags": []
   },
   "outputs": [],
   "source": [
    "from sklearn.model_selection import train_test_split\n",
    "\n",
    "\n",
    "train , test = train_test_split(dataStar , test_size = 0.2, random_state = 42 )\n",
    "train = train.reset_index(drop=True)\n",
    "test = test.reset_index(drop=True)"
   ]
  },
  {
   "cell_type": "code",
   "execution_count": 27,
   "id": "9a18d932",
   "metadata": {
    "execution": {
     "iopub.execute_input": "2022-05-06T16:51:16.177357Z",
     "iopub.status.busy": "2022-05-06T16:51:16.175848Z",
     "iopub.status.idle": "2022-05-06T16:51:16.181408Z",
     "shell.execute_reply": "2022-05-06T16:51:16.185290Z",
     "shell.execute_reply.started": "2022-05-06T16:40:40.644497Z"
    },
    "papermill": {
     "duration": 0.083631,
     "end_time": "2022-05-06T16:51:16.185676",
     "exception": false,
     "start_time": "2022-05-06T16:51:16.102045",
     "status": "completed"
    },
    "tags": []
   },
   "outputs": [],
   "source": [
    "## Stratified ##\n",
    "#from sklearn.model_selection import StratifiedShuffleSplit\n",
    "#split = StratifiedShuffleSplit(n_splits=1, test_size=0.2, random_state=42)\n",
    "#for train_index, test_index in split.split(data, data[\"variableStratificada\"]):\n",
    "#strat_train_set = housing.loc[train_index]\n",
    "#strat_test_set = housing.loc[test_index]\n",
    "\n",
    "#from  sklearn.impute import SimpleImputer\n",
    "#imputer = SimpleImputer(strategy='median')\n",
    "\n",
    "#from  sklearn.preprocessing import OneHotEncoder\n",
    "#catEncoder = OneHotEncoder()\n",
    "\n",
    "## numerical ##\n",
    "#from  sklearn.pipeline import Pipeline\n",
    "#from  sklearn.preprocessing import StandardScaler\n",
    "#numerical_pipeline = Pipeline([('imputer', SimpleImputer(strategy=\"median\")),('attribs_adder', CombinedAttributesAdder()),])\n",
    "# new_variable_transformed_numerical = num_pipeline.fit_transform(varible_numerica)\n",
    "\n",
    "## numerical and categorial ##\n",
    "#from sklearn import ColumnTransformer\n",
    "#numerical_attribs = list(numerical_columns)\n",
    "#categorical_attribs = list(categorial_columns)\n",
    "#full_pipeline = ColumnTransformer([(\"num\", numerical_pipeline, numerical_attribs),(\"cat\", OneHotEncoder(), categorical_attribs),])\n",
    "#dataTotal_prepared = full_pipeline.fit_transform(dataTotal) "
   ]
  },
  {
   "cell_type": "markdown",
   "id": "eea7c2fe",
   "metadata": {
    "papermill": {
     "duration": 0.067849,
     "end_time": "2022-05-06T16:51:16.328905",
     "exception": false,
     "start_time": "2022-05-06T16:51:16.261056",
     "status": "completed"
    },
    "tags": []
   },
   "source": [
    "## Target ## "
   ]
  },
  {
   "cell_type": "code",
   "execution_count": 28,
   "id": "8637a04f",
   "metadata": {
    "execution": {
     "iopub.execute_input": "2022-05-06T16:51:16.480797Z",
     "iopub.status.busy": "2022-05-06T16:51:16.478677Z",
     "iopub.status.idle": "2022-05-06T16:51:16.500366Z",
     "shell.execute_reply": "2022-05-06T16:51:16.500846Z",
     "shell.execute_reply.started": "2022-05-06T16:40:40.650246Z"
    },
    "papermill": {
     "duration": 0.101366,
     "end_time": "2022-05-06T16:51:16.501045",
     "exception": false,
     "start_time": "2022-05-06T16:51:16.399679",
     "status": "completed"
    },
    "tags": []
   },
   "outputs": [
    {
     "name": "stdout",
     "output_type": "stream",
     "text": [
      "<class 'pandas.core.frame.DataFrame'>\n",
      "RangeIndex: 7649 entries, 0 to 7648\n",
      "Data columns (total 8 columns):\n",
      " #   Column  Non-Null Count  Dtype  \n",
      "---  ------  --------------  -----  \n",
      " 0   Vmag    7649 non-null   float32\n",
      " 1   Plx     7649 non-null   float32\n",
      " 2   e_Plx   7649 non-null   float32\n",
      " 3   B-V     7649 non-null   float32\n",
      " 4   Amag    7649 non-null   float32\n",
      " 5   e_Amag  7649 non-null   float32\n",
      " 6   eA/A    7649 non-null   float32\n",
      " 7   eP/P    7649 non-null   float32\n",
      "dtypes: float32(8)\n",
      "memory usage: 239.2 KB\n"
     ]
    }
   ],
   "source": [
    "trainX = train.drop('TargetClass', axis=1)\n",
    "trainY = train['TargetClass'].copy()\n",
    "\n",
    "testX = test.drop('TargetClass', axis=1)\n",
    "testY = test['TargetClass'].copy()\n",
    "trainX.info()"
   ]
  },
  {
   "cell_type": "markdown",
   "id": "da178e46",
   "metadata": {
    "papermill": {
     "duration": 0.069215,
     "end_time": "2022-05-06T16:51:16.638562",
     "exception": false,
     "start_time": "2022-05-06T16:51:16.569347",
     "status": "completed"
    },
    "tags": []
   },
   "source": [
    "## Featuring Engineering ##"
   ]
  },
  {
   "cell_type": "markdown",
   "id": "033d1032",
   "metadata": {
    "papermill": {
     "duration": 0.06644,
     "end_time": "2022-05-06T16:51:16.789487",
     "exception": false,
     "start_time": "2022-05-06T16:51:16.723047",
     "status": "completed"
    },
    "tags": []
   },
   "source": [
    "##  Pipeline and Featuring Scaling ##"
   ]
  },
  {
   "cell_type": "code",
   "execution_count": 29,
   "id": "9969320b",
   "metadata": {
    "execution": {
     "iopub.execute_input": "2022-05-06T16:51:16.939249Z",
     "iopub.status.busy": "2022-05-06T16:51:16.938409Z",
     "iopub.status.idle": "2022-05-06T16:51:17.241587Z",
     "shell.execute_reply": "2022-05-06T16:51:17.241018Z",
     "shell.execute_reply.started": "2022-05-06T16:40:40.674291Z"
    },
    "papermill": {
     "duration": 0.381641,
     "end_time": "2022-05-06T16:51:17.241736",
     "exception": false,
     "start_time": "2022-05-06T16:51:16.860095",
     "status": "completed"
    },
    "tags": []
   },
   "outputs": [
    {
     "name": "stdout",
     "output_type": "stream",
     "text": [
      "Done\n"
     ]
    }
   ],
   "source": [
    "from  sklearn.impute import SimpleImputer\n",
    "from  sklearn.preprocessing import OneHotEncoder\n",
    "\n",
    "from  sklearn.pipeline import Pipeline\n",
    "from  sklearn.preprocessing import StandardScaler\n",
    "\n",
    "numerical_pipeline = Pipeline([('imputer', SimpleImputer(strategy=\"median\")),\n",
    "                              ('std_scaler', StandardScaler())] )\n",
    "\n",
    "from sklearn.compose import ColumnTransformer\n",
    "\n",
    "num_attribs = list(trainX)\n",
    "#cat_attribs = [\"ocean_proximity\"] ---generar lista de attribus catecorial---\n",
    "full_pipeline = ColumnTransformer([(\"num\", numerical_pipeline, num_attribs),\n",
    "#                                   (\"cat\", OneHotEncoder(), cat_attribs),\n",
    "                                  ])\n",
    "\n",
    "Xtrain = full_pipeline.fit_transform(trainX)  # array\n",
    "\n",
    "print('Done')"
   ]
  },
  {
   "cell_type": "markdown",
   "id": "de005ebe",
   "metadata": {
    "papermill": {
     "duration": 0.06892,
     "end_time": "2022-05-06T16:51:17.375281",
     "exception": false,
     "start_time": "2022-05-06T16:51:17.306361",
     "status": "completed"
    },
    "tags": []
   },
   "source": [
    " # **MODEL** # "
   ]
  },
  {
   "cell_type": "markdown",
   "id": "4d2971af",
   "metadata": {
    "papermill": {
     "duration": 0.074623,
     "end_time": "2022-05-06T16:51:17.524058",
     "exception": false,
     "start_time": "2022-05-06T16:51:17.449435",
     "status": "completed"
    },
    "tags": []
   },
   "source": [
    "#### Models ####"
   ]
  },
  {
   "cell_type": "code",
   "execution_count": 30,
   "id": "93c15ce2",
   "metadata": {
    "execution": {
     "iopub.execute_input": "2022-05-06T16:51:17.680546Z",
     "iopub.status.busy": "2022-05-06T16:51:17.677771Z",
     "iopub.status.idle": "2022-05-06T16:51:17.780089Z",
     "shell.execute_reply": "2022-05-06T16:51:17.780684Z",
     "shell.execute_reply.started": "2022-05-06T16:40:40.735637Z"
    },
    "papermill": {
     "duration": 0.181563,
     "end_time": "2022-05-06T16:51:17.780866",
     "exception": false,
     "start_time": "2022-05-06T16:51:17.599303",
     "status": "completed"
    },
    "tags": []
   },
   "outputs": [],
   "source": [
    "# Models ==> ['logisRegre' , 'SVM'   , 'SGDClf' ,  'randomForestClassifier' , 'navieBayes']\n",
    "\n",
    "# Classifier\n",
    "from sklearn.linear_model import SGDClassifier\n",
    "from sklearn.linear_model import LogisticRegression\n",
    "from sklearn.ensemble import RandomForestClassifier\n",
    "from sklearn.svm import LinearSVC\n"
   ]
  },
  {
   "cell_type": "code",
   "execution_count": 31,
   "id": "a26a197d",
   "metadata": {
    "execution": {
     "iopub.execute_input": "2022-05-06T16:51:17.914065Z",
     "iopub.status.busy": "2022-05-06T16:51:17.913014Z",
     "iopub.status.idle": "2022-05-06T16:51:17.988938Z",
     "shell.execute_reply": "2022-05-06T16:51:17.987715Z",
     "shell.execute_reply.started": "2022-05-06T16:40:40.756549Z"
    },
    "papermill": {
     "duration": 0.143026,
     "end_time": "2022-05-06T16:51:17.989306",
     "exception": false,
     "start_time": "2022-05-06T16:51:17.846280",
     "status": "completed"
    },
    "tags": []
   },
   "outputs": [],
   "source": [
    "\n",
    "SGDClf = SGDClassifier(random_state=42)\n",
    "SGDClf.fit(Xtrain, trainY) # fit equal training\n",
    "\n",
    "LRClf = LogisticRegression(random_state=0)\n",
    "RFClf = RandomForestClassifier(random_state=0)\n",
    "SVClf = LinearSVC(random_state=0)\n",
    "\n",
    "\n",
    "#SGDClf.fit(Xtrain, trainY)"
   ]
  },
  {
   "cell_type": "markdown",
   "id": "3d7be614",
   "metadata": {
    "papermill": {
     "duration": 0.092548,
     "end_time": "2022-05-06T16:51:18.176721",
     "exception": false,
     "start_time": "2022-05-06T16:51:18.084173",
     "status": "completed"
    },
    "tags": []
   },
   "source": [
    "## Cross-Validation ##"
   ]
  },
  {
   "cell_type": "code",
   "execution_count": 32,
   "id": "23275fa6",
   "metadata": {
    "execution": {
     "iopub.execute_input": "2022-05-06T16:51:18.382354Z",
     "iopub.status.busy": "2022-05-06T16:51:18.381332Z",
     "iopub.status.idle": "2022-05-06T16:51:28.921238Z",
     "shell.execute_reply": "2022-05-06T16:51:28.920584Z",
     "shell.execute_reply.started": "2022-05-06T16:40:40.779581Z"
    },
    "papermill": {
     "duration": 10.64783,
     "end_time": "2022-05-06T16:51:28.921415",
     "exception": false,
     "start_time": "2022-05-06T16:51:18.273585",
     "status": "completed"
    },
    "tags": []
   },
   "outputs": [
    {
     "name": "stdout",
     "output_type": "stream",
     "text": [
      "{0.3090405453017932: SGDClassifier(random_state=42), 0.29816297742446435: LogisticRegression(random_state=0), 0.24540901238934265: RandomForestClassifier(random_state=0)}\n",
      "\n",
      "\n",
      "Best model: RandomForestClassifier(random_state=0)\n",
      "DONE\n"
     ]
    }
   ],
   "source": [
    "from sklearn.model_selection import cross_val_score\n",
    "\n",
    "# automatizar entre diversos modelos de la misma categoria\n",
    "def compareModels(models, x, y, numCV, scoringT=\"neg_mean_squared_error\"):\n",
    "    modelsCV = dict()\n",
    "    for mod in models:\n",
    "        scores = cross_val_score(mod, x, y, scoring = scoringT, cv=numCV)\n",
    "        meanScore = np.sqrt(-scores).mean()\n",
    "        modelsCV[meanScore] = mod\n",
    "    \n",
    "    val=min(modelsCV)\n",
    "    bestModel = modelsCV[val]\n",
    "    return modelsCV,bestModel\n",
    "    \n",
    "result, model =compareModels([SGDClf , LRClf, RFClf] , Xtrain , trainY , 6)\n",
    "print(result); print('\\n'); print('Best model:', model); print('DONE')"
   ]
  },
  {
   "cell_type": "code",
   "execution_count": 33,
   "id": "392fd0f8",
   "metadata": {
    "execution": {
     "iopub.execute_input": "2022-05-06T16:51:29.048030Z",
     "iopub.status.busy": "2022-05-06T16:51:29.047101Z",
     "iopub.status.idle": "2022-05-06T16:51:30.978601Z",
     "shell.execute_reply": "2022-05-06T16:51:30.979050Z",
     "shell.execute_reply.started": "2022-05-06T16:40:48.174648Z"
    },
    "papermill": {
     "duration": 1.996975,
     "end_time": "2022-05-06T16:51:30.979277",
     "exception": false,
     "start_time": "2022-05-06T16:51:28.982302",
     "status": "completed"
    },
    "tags": []
   },
   "outputs": [],
   "source": [
    "model.fit(Xtrain, trainY)\n",
    "\n",
    "Xtest = full_pipeline.fit_transform(testX)\n",
    "Ypredicts = model.predict(Xtest)\n"
   ]
  },
  {
   "cell_type": "code",
   "execution_count": 34,
   "id": "9714775c",
   "metadata": {
    "execution": {
     "iopub.execute_input": "2022-05-06T16:51:31.100108Z",
     "iopub.status.busy": "2022-05-06T16:51:31.099385Z",
     "iopub.status.idle": "2022-05-06T16:51:31.107630Z",
     "shell.execute_reply": "2022-05-06T16:51:31.107066Z",
     "shell.execute_reply.started": "2022-05-06T16:40:49.609923Z"
    },
    "papermill": {
     "duration": 0.069515,
     "end_time": "2022-05-06T16:51:31.107785",
     "exception": false,
     "start_time": "2022-05-06T16:51:31.038270",
     "status": "completed"
    },
    "tags": []
   },
   "outputs": [
    {
     "data": {
      "text/plain": [
       "0.24836107"
      ]
     },
     "execution_count": 34,
     "metadata": {},
     "output_type": "execute_result"
    }
   ],
   "source": [
    "# metrica\n",
    "from sklearn.metrics import mean_squared_error\n",
    "\n",
    "mse = mean_squared_error(testY , Ypredicts) \n",
    "rmse = np.sqrt(mse)\n",
    "rmse"
   ]
  },
  {
   "cell_type": "code",
   "execution_count": 35,
   "id": "fbd56286",
   "metadata": {
    "execution": {
     "iopub.execute_input": "2022-05-06T16:51:31.228117Z",
     "iopub.status.busy": "2022-05-06T16:51:31.227366Z",
     "iopub.status.idle": "2022-05-06T16:51:31.240314Z",
     "shell.execute_reply": "2022-05-06T16:51:31.240854Z",
     "shell.execute_reply.started": "2022-05-06T16:40:49.617602Z"
    },
    "papermill": {
     "duration": 0.076339,
     "end_time": "2022-05-06T16:51:31.241077",
     "exception": false,
     "start_time": "2022-05-06T16:51:31.164738",
     "status": "completed"
    },
    "tags": []
   },
   "outputs": [
    {
     "data": {
      "text/plain": [
       "'93.831678%'"
      ]
     },
     "execution_count": 35,
     "metadata": {},
     "output_type": "execute_result"
    }
   ],
   "source": [
    "output = pd.DataFrame({'Star': testY, 'StarPred': Ypredicts})\n",
    "\n",
    "def precision(a, b):\n",
    "    cont = 0\n",
    "    for i in np.arange(len(a)):\n",
    "        if (a[i]==b[i]):\n",
    "            cont = cont +1\n",
    "             \n",
    "            \n",
    "    return  format( cont/len(a) , '2%') \n",
    "\n",
    "precision(testY , Ypredicts)"
   ]
  },
  {
   "cell_type": "code",
   "execution_count": 36,
   "id": "d20c5cfa",
   "metadata": {
    "execution": {
     "iopub.execute_input": "2022-05-06T16:51:31.359821Z",
     "iopub.status.busy": "2022-05-06T16:51:31.359063Z",
     "iopub.status.idle": "2022-05-06T16:51:31.362887Z",
     "shell.execute_reply": "2022-05-06T16:51:31.363404Z",
     "shell.execute_reply.started": "2022-05-06T16:40:49.644584Z"
    },
    "papermill": {
     "duration": 0.066356,
     "end_time": "2022-05-06T16:51:31.363587",
     "exception": false,
     "start_time": "2022-05-06T16:51:31.297231",
     "status": "completed"
    },
    "tags": []
   },
   "outputs": [],
   "source": [
    "### stratified CV ### see pag 136  Geron's book\n",
    "#from sklearn.model_selection import StratifiedKFold\n",
    "#from sklearn.base import clone\n",
    "#skfolds = StratifiedKFold(n_splits=3, random_state=42)"
   ]
  },
  {
   "cell_type": "markdown",
   "id": "cac2b35f",
   "metadata": {
    "papermill": {
     "duration": 0.05657,
     "end_time": "2022-05-06T16:51:31.481503",
     "exception": false,
     "start_time": "2022-05-06T16:51:31.424933",
     "status": "completed"
    },
    "tags": []
   },
   "source": [
    "# **Refinament** #"
   ]
  },
  {
   "cell_type": "markdown",
   "id": "cbe68b1b",
   "metadata": {
    "papermill": {
     "duration": 0.054573,
     "end_time": "2022-05-06T16:51:31.591458",
     "exception": false,
     "start_time": "2022-05-06T16:51:31.536885",
     "status": "completed"
    },
    "tags": []
   },
   "source": [
    "### Hyper-parameters ###"
   ]
  },
  {
   "cell_type": "code",
   "execution_count": 37,
   "id": "1a79bd6f",
   "metadata": {
    "execution": {
     "iopub.execute_input": "2022-05-06T16:51:31.713728Z",
     "iopub.status.busy": "2022-05-06T16:51:31.712596Z",
     "iopub.status.idle": "2022-05-06T16:56:55.924683Z",
     "shell.execute_reply": "2022-05-06T16:56:55.925250Z",
     "shell.execute_reply.started": "2022-05-06T16:40:49.650095Z"
    },
    "papermill": {
     "duration": 324.277731,
     "end_time": "2022-05-06T16:56:55.925444",
     "exception": false,
     "start_time": "2022-05-06T16:51:31.647713",
     "status": "completed"
    },
    "tags": []
   },
   "outputs": [
    {
     "data": {
      "text/plain": [
       "{'max_features': 4, 'n_estimators': 12}"
      ]
     },
     "execution_count": 37,
     "metadata": {},
     "output_type": "execute_result"
    }
   ],
   "source": [
    "from sklearn.model_selection import GridSearchCV\n",
    "from sklearn.model_selection import RandomizedSearchCV\n",
    "from scipy.stats import uniform\n",
    "\n",
    "\n",
    "#distributions = dict(C=uniform(loc=0, scale=4), penalty=['l2','l1'])\n",
    "#clf=RandomizedSearchCV( RFClf , distributions , random_state=0) # arg (model , distri , ...)\n",
    "\n",
    "\n",
    "parameter_grid = [{'n_estimators':[3,5,10,12, 14,16], 'max_features':[2,4,6]} ,\n",
    "                  {'bootstrap':[False], 'n_estimators':[3,7,12,14, 16] , 'max_features':[1,2,3,4, 6]}]\n",
    "clf=GridSearchCV( RFClf , parameter_grid,\n",
    "                cv=20 ,  scoring='neg_mean_squared_error' , return_train_score=True) # arg (model , distri , ...)\n",
    "\n",
    "\n",
    "clf.fit(Xtrain, trainY)\n",
    "\n",
    "clf.best_params_"
   ]
  },
  {
   "cell_type": "markdown",
   "id": "98e8e97d",
   "metadata": {
    "papermill": {
     "duration": 0.057165,
     "end_time": "2022-05-06T16:56:56.043924",
     "exception": false,
     "start_time": "2022-05-06T16:56:55.986759",
     "status": "completed"
    },
    "tags": []
   },
   "source": [
    "###  Model-Hyperparameters ###"
   ]
  },
  {
   "cell_type": "code",
   "execution_count": 38,
   "id": "a9422df4",
   "metadata": {
    "execution": {
     "iopub.execute_input": "2022-05-06T16:56:56.169034Z",
     "iopub.status.busy": "2022-05-06T16:56:56.168304Z",
     "iopub.status.idle": "2022-05-06T16:56:56.193193Z",
     "shell.execute_reply": "2022-05-06T16:56:56.192556Z",
     "shell.execute_reply.started": "2022-05-06T16:45:12.708298Z"
    },
    "papermill": {
     "duration": 0.089957,
     "end_time": "2022-05-06T16:56:56.193341",
     "exception": false,
     "start_time": "2022-05-06T16:56:56.103384",
     "status": "completed"
    },
    "tags": []
   },
   "outputs": [
    {
     "data": {
      "text/plain": [
       "'93.361213%'"
      ]
     },
     "execution_count": 38,
     "metadata": {},
     "output_type": "execute_result"
    }
   ],
   "source": [
    "finalModel=clf.best_estimator_\n",
    "Ypredfinal=finalModel.predict(Xtest)\n",
    "\n",
    "precision(testY , Ypredfinal) # worse model"
   ]
  },
  {
   "cell_type": "code",
   "execution_count": 39,
   "id": "5d7fc080",
   "metadata": {
    "execution": {
     "iopub.execute_input": "2022-05-06T16:56:56.328175Z",
     "iopub.status.busy": "2022-05-06T16:56:56.327561Z",
     "iopub.status.idle": "2022-05-06T16:56:56.329778Z",
     "shell.execute_reply": "2022-05-06T16:56:56.331433Z",
     "shell.execute_reply.started": "2022-05-06T16:45:12.729908Z"
    },
    "papermill": {
     "duration": 0.074834,
     "end_time": "2022-05-06T16:56:56.331778",
     "exception": false,
     "start_time": "2022-05-06T16:56:56.256944",
     "status": "completed"
    },
    "tags": []
   },
   "outputs": [
    {
     "name": "stdout",
     "output_type": "stream",
     "text": [
      "Done\n"
     ]
    }
   ],
   "source": [
    "\n",
    "print('Done')"
   ]
  },
  {
   "cell_type": "markdown",
   "id": "ddd6f68a",
   "metadata": {
    "papermill": {
     "duration": 0.102201,
     "end_time": "2022-05-06T16:56:56.526811",
     "exception": false,
     "start_time": "2022-05-06T16:56:56.424610",
     "status": "completed"
    },
    "tags": []
   },
   "source": [
    "# **Deploy** #"
   ]
  }
 ],
 "metadata": {
  "kernelspec": {
   "display_name": "Python 3",
   "language": "python",
   "name": "python3"
  },
  "language_info": {
   "codemirror_mode": {
    "name": "ipython",
    "version": 3
   },
   "file_extension": ".py",
   "mimetype": "text/x-python",
   "name": "python",
   "nbconvert_exporter": "python",
   "pygments_lexer": "ipython3",
   "version": "3.7.12"
  },
  "papermill": {
   "default_parameters": {},
   "duration": 583.548207,
   "end_time": "2022-05-06T16:56:58.044236",
   "environment_variables": {},
   "exception": null,
   "input_path": "__notebook__.ipynb",
   "output_path": "__notebook__.ipynb",
   "parameters": {},
   "start_time": "2022-05-06T16:47:14.496029",
   "version": "2.3.3"
  }
 },
 "nbformat": 4,
 "nbformat_minor": 5
}
