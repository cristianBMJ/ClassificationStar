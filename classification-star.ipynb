{
 "cells": [
  {
   "cell_type": "code",
   "execution_count": 1,
   "id": "ef3e597e",
   "metadata": {
    "_cell_guid": "b1076dfc-b9ad-4769-8c92-a6c4dae69d19",
    "_uuid": "8f2839f25d086af736a60e9eeb907d3b93b6e0e5",
    "execution": {
     "iopub.execute_input": "2022-05-03T22:58:42.952762Z",
     "iopub.status.busy": "2022-05-03T22:58:42.951983Z",
     "iopub.status.idle": "2022-05-03T22:58:44.019225Z",
     "shell.execute_reply": "2022-05-03T22:58:44.019851Z",
     "shell.execute_reply.started": "2022-03-02T21:32:33.807837Z"
    },
    "papermill": {
     "duration": 1.128102,
     "end_time": "2022-05-03T22:58:44.020188",
     "exception": false,
     "start_time": "2022-05-03T22:58:42.892086",
     "status": "completed"
    },
    "tags": []
   },
   "outputs": [
    {
     "name": "stdout",
     "output_type": "stream",
     "text": [
      "/kaggle/input/star-categorization-giants-and-dwarfs/Star99999_raw.csv\n",
      "/kaggle/input/star-categorization-giants-and-dwarfs/Star39552_balanced.csv\n",
      "/kaggle/input/star-categorization-giants-and-dwarfs/Star9999_raw.csv\n",
      "/kaggle/input/star-categorization-giants-and-dwarfs/Star3642_balanced.csv\n",
      "Done\n"
     ]
    }
   ],
   "source": [
    "# This Python 3 environment comes with many helpful analytics libraries installed\n",
    "# It is defined by the kaggle/python Docker image: https://github.com/kaggle/docker-python\n",
    "# For example, here's several helpful packages to load\n",
    "\n",
    "%matplotlib inline\n",
    "\n",
    "import numpy as np # linear algebra\n",
    "import pandas as pd # data processing, CSV file I/O (e.g. pd.read_csv)\n",
    "\n",
    "import matplotlib.pyplot as plt\n",
    "import seaborn as sns\n",
    "# Input data files are available in the read-only \"../input/\" directory\n",
    "# For example, running this (by clicking run or pressing Shift+Enter) will list all files under the input directory\n",
    "\n",
    "import os\n",
    "for dirname, _, filenames in os.walk('/kaggle/input'):\n",
    "    for filename in filenames:\n",
    "        print(os.path.join(dirname, filename))\n",
    "\n",
    "# You can write up to 20GB to the current directory (/kaggle/working/) that gets preserved as output when you create a version using \"Save & Run All\" \n",
    "# You can also write temporary files to /kaggle/temp/, but they won't be saved outside of the current session\n",
    "print('Done')"
   ]
  },
  {
   "cell_type": "markdown",
   "id": "8404512b",
   "metadata": {
    "papermill": {
     "duration": 0.04143,
     "end_time": "2022-05-03T22:58:44.105295",
     "exception": false,
     "start_time": "2022-05-03T22:58:44.063865",
     "status": "completed"
    },
    "tags": []
   },
   "source": [
    "# **Get Data** #"
   ]
  },
  {
   "cell_type": "code",
   "execution_count": 2,
   "id": "954f47d9",
   "metadata": {
    "execution": {
     "iopub.execute_input": "2022-05-03T22:58:44.193714Z",
     "iopub.status.busy": "2022-05-03T22:58:44.192999Z",
     "iopub.status.idle": "2022-05-03T22:58:44.469623Z",
     "shell.execute_reply": "2022-05-03T22:58:44.470623Z",
     "shell.execute_reply.started": "2022-03-02T21:32:34.887113Z"
    },
    "papermill": {
     "duration": 0.323743,
     "end_time": "2022-05-03T22:58:44.470889",
     "exception": false,
     "start_time": "2022-05-03T22:58:44.147146",
     "status": "completed"
    },
    "tags": []
   },
   "outputs": [
    {
     "name": "stdout",
     "output_type": "stream",
     "text": [
      "<class 'pandas.core.frame.DataFrame'>\n",
      "RangeIndex: 99999 entries, 0 to 99998\n",
      "Data columns (total 6 columns):\n",
      " #   Column      Non-Null Count  Dtype \n",
      "---  ------      --------------  ----- \n",
      " 0   Unnamed: 0  99999 non-null  int64 \n",
      " 1   Vmag        99999 non-null  object\n",
      " 2   Plx         99999 non-null  object\n",
      " 3   e_Plx       99999 non-null  object\n",
      " 4   B-V         99999 non-null  object\n",
      " 5   SpType      97377 non-null  object\n",
      "dtypes: int64(1), object(5)\n",
      "memory usage: 4.6+ MB\n"
     ]
    }
   ],
   "source": [
    "# Read Data\n",
    "data = pd.read_csv('../input/star-categorization-giants-and-dwarfs/Star39552_balanced.csv') # data pre-processed\n",
    "dataRaw = pd.read_csv('/kaggle/input/star-categorization-giants-and-dwarfs/Star99999_raw.csv') # data initial or Raw \n",
    "dataRaw.info()  # review types variable"
   ]
  },
  {
   "cell_type": "markdown",
   "id": "bd830bf6",
   "metadata": {
    "papermill": {
     "duration": 0.041452,
     "end_time": "2022-05-03T22:58:44.554813",
     "exception": false,
     "start_time": "2022-05-03T22:58:44.513361",
     "status": "completed"
    },
    "tags": []
   },
   "source": [
    "#  **Exploratory Data Analysis** #"
   ]
  },
  {
   "cell_type": "code",
   "execution_count": 3,
   "id": "6e0f75ca",
   "metadata": {
    "execution": {
     "iopub.execute_input": "2022-05-03T22:58:44.642829Z",
     "iopub.status.busy": "2022-05-03T22:58:44.642006Z",
     "iopub.status.idle": "2022-05-03T22:58:44.881329Z",
     "shell.execute_reply": "2022-05-03T22:58:44.880508Z",
     "shell.execute_reply.started": "2022-03-02T21:32:35.22085Z"
    },
    "papermill": {
     "duration": 0.28426,
     "end_time": "2022-05-03T22:58:44.881533",
     "exception": false,
     "start_time": "2022-05-03T22:58:44.597273",
     "status": "completed"
    },
    "tags": []
   },
   "outputs": [
    {
     "name": "stdout",
     "output_type": "stream",
     "text": [
      "<class 'pandas.core.frame.DataFrame'>\n",
      "RangeIndex: 99999 entries, 0 to 99998\n",
      "Data columns (total 6 columns):\n",
      " #   Column      Non-Null Count  Dtype  \n",
      "---  ------      --------------  -----  \n",
      " 0   Unnamed: 0  99999 non-null  int64  \n",
      " 1   Vmag        99998 non-null  float32\n",
      " 2   Plx         99768 non-null  float32\n",
      " 3   e_Plx       99768 non-null  float32\n",
      " 4   B-V         98871 non-null  float32\n",
      " 5   SpType      97377 non-null  object \n",
      "dtypes: float32(4), int64(1), object(1)\n",
      "memory usage: 3.1+ MB\n"
     ]
    }
   ],
   "source": [
    "# convert object to numeric\n",
    "dataRaw['Vmag'] = pd.to_numeric(dataRaw['Vmag'] , downcast='float' , errors='coerce')\n",
    "dataRaw['Plx'] = pd.to_numeric(dataRaw['Plx'] , downcast='float' , errors='coerce')\n",
    "dataRaw['e_Plx'] = pd.to_numeric(dataRaw['e_Plx'] , downcast='float' , errors='coerce')\n",
    "dataRaw['B-V'] = pd.to_numeric(dataRaw['B-V'] , downcast='float' , errors='coerce')\n",
    "dataRaw.info()"
   ]
  },
  {
   "cell_type": "markdown",
   "id": "dfaa4d04",
   "metadata": {
    "papermill": {
     "duration": 0.042366,
     "end_time": "2022-05-03T22:58:44.966456",
     "exception": false,
     "start_time": "2022-05-03T22:58:44.924090",
     "status": "completed"
    },
    "tags": []
   },
   "source": [
    "### Missing Values ###"
   ]
  },
  {
   "cell_type": "code",
   "execution_count": 4,
   "id": "57463f72",
   "metadata": {
    "execution": {
     "iopub.execute_input": "2022-05-03T22:58:45.059939Z",
     "iopub.status.busy": "2022-05-03T22:58:45.058946Z",
     "iopub.status.idle": "2022-05-03T22:58:45.116803Z",
     "shell.execute_reply": "2022-05-03T22:58:45.117334Z",
     "shell.execute_reply.started": "2022-03-02T21:32:35.454848Z"
    },
    "papermill": {
     "duration": 0.105245,
     "end_time": "2022-05-03T22:58:45.117511",
     "exception": false,
     "start_time": "2022-05-03T22:58:45.012266",
     "status": "completed"
    },
    "tags": []
   },
   "outputs": [
    {
     "name": "stdout",
     "output_type": "stream",
     "text": [
      "Num_null:  4213\n",
      "(96742, 6) (99999, 6) (99999, 6)\n",
      "Percentage Missing:  0.702%\n"
     ]
    }
   ],
   "source": [
    "missingValueCount = dataRaw.isnull().sum()\n",
    "print('Num_null: ' , missingValueCount.sum() )\n",
    "\n",
    "dataLabel = dataRaw.dropna()\n",
    "dataUnlabel = dataRaw.fillna(0)\n",
    "\n",
    "print( dataLabel.shape , dataRaw.shape , dataUnlabel.shape )\n",
    "\n",
    "totalData = np.product(dataRaw.shape)\n",
    "percentMissing=missingValueCount.sum()/totalData\n",
    "\n",
    "print('Percentage Missing:', '{: .3%}'.format(percentMissing))\n",
    "dataRaw = dataLabel"
   ]
  },
  {
   "cell_type": "code",
   "execution_count": 5,
   "id": "79b53c02",
   "metadata": {
    "execution": {
     "iopub.execute_input": "2022-05-03T22:58:45.212631Z",
     "iopub.status.busy": "2022-05-03T22:58:45.205204Z",
     "iopub.status.idle": "2022-05-03T22:58:45.252454Z",
     "shell.execute_reply": "2022-05-03T22:58:45.253041Z",
     "shell.execute_reply.started": "2022-03-02T21:32:35.514726Z"
    },
    "papermill": {
     "duration": 0.093296,
     "end_time": "2022-05-03T22:58:45.253238",
     "exception": false,
     "start_time": "2022-05-03T22:58:45.159942",
     "status": "completed"
    },
    "tags": []
   },
   "outputs": [
    {
     "data": {
      "text/html": [
       "<div>\n",
       "<style scoped>\n",
       "    .dataframe tbody tr th:only-of-type {\n",
       "        vertical-align: middle;\n",
       "    }\n",
       "\n",
       "    .dataframe tbody tr th {\n",
       "        vertical-align: top;\n",
       "    }\n",
       "\n",
       "    .dataframe thead th {\n",
       "        text-align: right;\n",
       "    }\n",
       "</style>\n",
       "<table border=\"1\" class=\"dataframe\">\n",
       "  <thead>\n",
       "    <tr style=\"text-align: right;\">\n",
       "      <th></th>\n",
       "      <th>Vmag</th>\n",
       "      <th>Plx</th>\n",
       "      <th>e_Plx</th>\n",
       "      <th>B-V</th>\n",
       "    </tr>\n",
       "  </thead>\n",
       "  <tbody>\n",
       "    <tr>\n",
       "      <th>count</th>\n",
       "      <td>96742.000000</td>\n",
       "      <td>96742.000000</td>\n",
       "      <td>96742.000000</td>\n",
       "      <td>96742.000000</td>\n",
       "    </tr>\n",
       "    <tr>\n",
       "      <th>mean</th>\n",
       "      <td>8.291918</td>\n",
       "      <td>7.105242</td>\n",
       "      <td>1.264163</td>\n",
       "      <td>0.700663</td>\n",
       "    </tr>\n",
       "    <tr>\n",
       "      <th>std</th>\n",
       "      <td>1.247995</td>\n",
       "      <td>11.145643</td>\n",
       "      <td>1.156202</td>\n",
       "      <td>0.490053</td>\n",
       "    </tr>\n",
       "    <tr>\n",
       "      <th>min</th>\n",
       "      <td>-1.440000</td>\n",
       "      <td>-35.099998</td>\n",
       "      <td>0.380000</td>\n",
       "      <td>-0.400000</td>\n",
       "    </tr>\n",
       "    <tr>\n",
       "      <th>25%</th>\n",
       "      <td>7.610000</td>\n",
       "      <td>2.520000</td>\n",
       "      <td>0.870000</td>\n",
       "      <td>0.342000</td>\n",
       "    </tr>\n",
       "    <tr>\n",
       "      <th>50%</th>\n",
       "      <td>8.400000</td>\n",
       "      <td>4.600000</td>\n",
       "      <td>1.080000</td>\n",
       "      <td>0.605000</td>\n",
       "    </tr>\n",
       "    <tr>\n",
       "      <th>75%</th>\n",
       "      <td>9.070000</td>\n",
       "      <td>8.270000</td>\n",
       "      <td>1.360000</td>\n",
       "      <td>1.072000</td>\n",
       "    </tr>\n",
       "    <tr>\n",
       "      <th>max</th>\n",
       "      <td>13.610000</td>\n",
       "      <td>772.330017</td>\n",
       "      <td>69.070000</td>\n",
       "      <td>5.460000</td>\n",
       "    </tr>\n",
       "  </tbody>\n",
       "</table>\n",
       "</div>"
      ],
      "text/plain": [
       "               Vmag           Plx         e_Plx           B-V\n",
       "count  96742.000000  96742.000000  96742.000000  96742.000000\n",
       "mean       8.291918      7.105242      1.264163      0.700663\n",
       "std        1.247995     11.145643      1.156202      0.490053\n",
       "min       -1.440000    -35.099998      0.380000     -0.400000\n",
       "25%        7.610000      2.520000      0.870000      0.342000\n",
       "50%        8.400000      4.600000      1.080000      0.605000\n",
       "75%        9.070000      8.270000      1.360000      1.072000\n",
       "max       13.610000    772.330017     69.070000      5.460000"
      ]
     },
     "execution_count": 5,
     "metadata": {},
     "output_type": "execute_result"
    }
   ],
   "source": [
    "dataRaw = dataRaw.drop(['Unnamed: 0'], axis=1)\n",
    "dataRaw.describe()"
   ]
  },
  {
   "cell_type": "code",
   "execution_count": 6,
   "id": "3ab6799b",
   "metadata": {
    "execution": {
     "iopub.execute_input": "2022-05-03T22:58:45.343335Z",
     "iopub.status.busy": "2022-05-03T22:58:45.342290Z",
     "iopub.status.idle": "2022-05-03T22:58:47.281417Z",
     "shell.execute_reply": "2022-05-03T22:58:47.280689Z",
     "shell.execute_reply.started": "2022-03-02T21:32:35.561414Z"
    },
    "papermill": {
     "duration": 1.985385,
     "end_time": "2022-05-03T22:58:47.281574",
     "exception": false,
     "start_time": "2022-05-03T22:58:45.296189",
     "status": "completed"
    },
    "tags": []
   },
   "outputs": [
    {
     "data": {
      "text/plain": [
       "array([[<AxesSubplot:title={'center':'Vmag'}>,\n",
       "        <AxesSubplot:title={'center':'Plx'}>],\n",
       "       [<AxesSubplot:title={'center':'e_Plx'}>,\n",
       "        <AxesSubplot:title={'center':'B-V'}>],\n",
       "       [<AxesSubplot:title={'center':'Amag'}>,\n",
       "        <AxesSubplot:title={'center':'TargetClass'}>]], dtype=object)"
      ]
     },
     "execution_count": 6,
     "metadata": {},
     "output_type": "execute_result"
    },
    {
     "data": {
      "image/png": "[encoded data removed]",
      "text/plain": [
       "<Figure size 1440x1080 with 6 Axes>"
      ]
     },
     "metadata": {
      "needs_background": "light"
     },
     "output_type": "display_data"
    }
   ],
   "source": [
    "data.hist(bins=50 , figsize=(20,15) ) # histograma"
   ]
  },
  {
   "cell_type": "markdown",
   "id": "8feb6e55",
   "metadata": {
    "papermill": {
     "duration": 0.044848,
     "end_time": "2022-05-03T22:58:47.372520",
     "exception": false,
     "start_time": "2022-05-03T22:58:47.327672",
     "status": "completed"
    },
    "tags": []
   },
   "source": [
    "## Pre-Processing ##"
   ]
  },
  {
   "cell_type": "code",
   "execution_count": 7,
   "id": "3e5badcf",
   "metadata": {
    "execution": {
     "iopub.execute_input": "2022-05-03T22:58:47.472179Z",
     "iopub.status.busy": "2022-05-03T22:58:47.466300Z",
     "iopub.status.idle": "2022-05-03T22:58:47.497975Z",
     "shell.execute_reply": "2022-05-03T22:58:47.498460Z",
     "shell.execute_reply.started": "2022-03-02T21:32:37.40765Z"
    },
    "papermill": {
     "duration": 0.080737,
     "end_time": "2022-05-03T22:58:47.498642",
     "exception": false,
     "start_time": "2022-05-03T22:58:47.417905",
     "status": "completed"
    },
    "tags": []
   },
   "outputs": [
    {
     "data": {
      "text/html": [
       "<div>\n",
       "<style scoped>\n",
       "    .dataframe tbody tr th:only-of-type {\n",
       "        vertical-align: middle;\n",
       "    }\n",
       "\n",
       "    .dataframe tbody tr th {\n",
       "        vertical-align: top;\n",
       "    }\n",
       "\n",
       "    .dataframe thead th {\n",
       "        text-align: right;\n",
       "    }\n",
       "</style>\n",
       "<table border=\"1\" class=\"dataframe\">\n",
       "  <thead>\n",
       "    <tr style=\"text-align: right;\">\n",
       "      <th></th>\n",
       "      <th>Vmag</th>\n",
       "      <th>Plx</th>\n",
       "      <th>e_Plx</th>\n",
       "      <th>B-V</th>\n",
       "      <th>SpType</th>\n",
       "      <th>Amag</th>\n",
       "      <th>e_Amag</th>\n",
       "      <th>eA/A</th>\n",
       "      <th>eP/P</th>\n",
       "    </tr>\n",
       "  </thead>\n",
       "  <tbody>\n",
       "    <tr>\n",
       "      <th>0</th>\n",
       "      <td>9.10</td>\n",
       "      <td>3.54</td>\n",
       "      <td>1.39</td>\n",
       "      <td>0.482</td>\n",
       "      <td>F5</td>\n",
       "      <td>16.845016</td>\n",
       "      <td>0.852640</td>\n",
       "      <td>0.050617</td>\n",
       "      <td>0.392655</td>\n",
       "    </tr>\n",
       "    <tr>\n",
       "      <th>1</th>\n",
       "      <td>9.27</td>\n",
       "      <td>21.90</td>\n",
       "      <td>3.10</td>\n",
       "      <td>0.999</td>\n",
       "      <td>K3V</td>\n",
       "      <td>20.972221</td>\n",
       "      <td>0.307377</td>\n",
       "      <td>0.014656</td>\n",
       "      <td>0.141553</td>\n",
       "    </tr>\n",
       "    <tr>\n",
       "      <th>2</th>\n",
       "      <td>6.61</td>\n",
       "      <td>2.81</td>\n",
       "      <td>0.63</td>\n",
       "      <td>-0.019</td>\n",
       "      <td>B9</td>\n",
       "      <td>13.853533</td>\n",
       "      <td>0.486843</td>\n",
       "      <td>0.035142</td>\n",
       "      <td>0.224199</td>\n",
       "    </tr>\n",
       "    <tr>\n",
       "      <th>3</th>\n",
       "      <td>8.06</td>\n",
       "      <td>7.75</td>\n",
       "      <td>0.97</td>\n",
       "      <td>0.370</td>\n",
       "      <td>F0V</td>\n",
       "      <td>17.506508</td>\n",
       "      <td>0.271784</td>\n",
       "      <td>0.015525</td>\n",
       "      <td>0.125161</td>\n",
       "    </tr>\n",
       "    <tr>\n",
       "      <th>4</th>\n",
       "      <td>8.55</td>\n",
       "      <td>2.87</td>\n",
       "      <td>1.11</td>\n",
       "      <td>0.902</td>\n",
       "      <td>G8III</td>\n",
       "      <td>15.839410</td>\n",
       "      <td>0.839838</td>\n",
       "      <td>0.053022</td>\n",
       "      <td>0.386760</td>\n",
       "    </tr>\n",
       "  </tbody>\n",
       "</table>\n",
       "</div>"
      ],
      "text/plain": [
       "   Vmag    Plx  e_Plx    B-V SpType       Amag    e_Amag      eA/A      eP/P\n",
       "0  9.10   3.54   1.39  0.482     F5  16.845016  0.852640  0.050617  0.392655\n",
       "1  9.27  21.90   3.10  0.999    K3V  20.972221  0.307377  0.014656  0.141553\n",
       "2  6.61   2.81   0.63 -0.019     B9  13.853533  0.486843  0.035142  0.224199\n",
       "3  8.06   7.75   0.97  0.370    F0V  17.506508  0.271784  0.015525  0.125161\n",
       "4  8.55   2.87   1.11  0.902  G8III  15.839410  0.839838  0.053022  0.386760"
      ]
     },
     "execution_count": 7,
     "metadata": {},
     "output_type": "execute_result"
    }
   ],
   "source": [
    "# New variables\n",
    "\n",
    "data = dataRaw\n",
    "data = data[data.Plx != 0]\n",
    "data = data.reset_index(drop=True)\n",
    "\n",
    "data['Amag']   = data['Vmag'] + 5*( np.log10( np.abs( data['Plx'] ) )+ 1 )  # log is ln\n",
    "data['e_Amag'] = 5*data['e_Plx']/(data['Plx']*np.log(10) )   # propagacion de error\n",
    "\n",
    "data['eA/A']   = data['e_Amag']/data['Amag']\n",
    "data['eP/P']   = data['e_Plx']/data['Plx']\n",
    "\n",
    "dataRaw = data\n",
    "dataRaw.head()"
   ]
  },
  {
   "cell_type": "code",
   "execution_count": 8,
   "id": "dc7e771a",
   "metadata": {
    "execution": {
     "iopub.execute_input": "2022-05-03T22:58:47.595262Z",
     "iopub.status.busy": "2022-05-03T22:58:47.594626Z",
     "iopub.status.idle": "2022-05-03T22:58:47.622184Z",
     "shell.execute_reply": "2022-05-03T22:58:47.621587Z",
     "shell.execute_reply.started": "2022-03-02T21:32:37.441016Z"
    },
    "papermill": {
     "duration": 0.07844,
     "end_time": "2022-05-03T22:58:47.622342",
     "exception": false,
     "start_time": "2022-05-03T22:58:47.543902",
     "status": "completed"
    },
    "tags": []
   },
   "outputs": [
    {
     "data": {
      "text/html": [
       "<div>\n",
       "<style scoped>\n",
       "    .dataframe tbody tr th:only-of-type {\n",
       "        vertical-align: middle;\n",
       "    }\n",
       "\n",
       "    .dataframe tbody tr th {\n",
       "        vertical-align: top;\n",
       "    }\n",
       "\n",
       "    .dataframe thead th {\n",
       "        text-align: right;\n",
       "    }\n",
       "</style>\n",
       "<table border=\"1\" class=\"dataframe\">\n",
       "  <thead>\n",
       "    <tr style=\"text-align: right;\">\n",
       "      <th></th>\n",
       "      <th>Vmag</th>\n",
       "      <th>Plx</th>\n",
       "      <th>e_Plx</th>\n",
       "      <th>B-V</th>\n",
       "      <th>SpType</th>\n",
       "      <th>Amag</th>\n",
       "      <th>e_Amag</th>\n",
       "      <th>eA/A</th>\n",
       "      <th>eP/P</th>\n",
       "      <th>TargetClass</th>\n",
       "    </tr>\n",
       "  </thead>\n",
       "  <tbody>\n",
       "    <tr>\n",
       "      <th>0</th>\n",
       "      <td>9.10</td>\n",
       "      <td>3.54</td>\n",
       "      <td>1.39</td>\n",
       "      <td>0.482</td>\n",
       "      <td>F5</td>\n",
       "      <td>16.845016</td>\n",
       "      <td>0.852640</td>\n",
       "      <td>0.050617</td>\n",
       "      <td>0.392655</td>\n",
       "      <td>F5</td>\n",
       "    </tr>\n",
       "    <tr>\n",
       "      <th>1</th>\n",
       "      <td>9.27</td>\n",
       "      <td>21.90</td>\n",
       "      <td>3.10</td>\n",
       "      <td>0.999</td>\n",
       "      <td>K3V</td>\n",
       "      <td>20.972221</td>\n",
       "      <td>0.307377</td>\n",
       "      <td>0.014656</td>\n",
       "      <td>0.141553</td>\n",
       "      <td>K3V</td>\n",
       "    </tr>\n",
       "    <tr>\n",
       "      <th>2</th>\n",
       "      <td>6.61</td>\n",
       "      <td>2.81</td>\n",
       "      <td>0.63</td>\n",
       "      <td>-0.019</td>\n",
       "      <td>B9</td>\n",
       "      <td>13.853533</td>\n",
       "      <td>0.486843</td>\n",
       "      <td>0.035142</td>\n",
       "      <td>0.224199</td>\n",
       "      <td>B9</td>\n",
       "    </tr>\n",
       "    <tr>\n",
       "      <th>3</th>\n",
       "      <td>8.06</td>\n",
       "      <td>7.75</td>\n",
       "      <td>0.97</td>\n",
       "      <td>0.370</td>\n",
       "      <td>F0V</td>\n",
       "      <td>17.506508</td>\n",
       "      <td>0.271784</td>\n",
       "      <td>0.015525</td>\n",
       "      <td>0.125161</td>\n",
       "      <td>F0V</td>\n",
       "    </tr>\n",
       "    <tr>\n",
       "      <th>4</th>\n",
       "      <td>8.55</td>\n",
       "      <td>2.87</td>\n",
       "      <td>1.11</td>\n",
       "      <td>0.902</td>\n",
       "      <td>G8III</td>\n",
       "      <td>15.839410</td>\n",
       "      <td>0.839838</td>\n",
       "      <td>0.053022</td>\n",
       "      <td>0.386760</td>\n",
       "      <td>G8III</td>\n",
       "    </tr>\n",
       "  </tbody>\n",
       "</table>\n",
       "</div>"
      ],
      "text/plain": [
       "   Vmag    Plx  e_Plx    B-V SpType       Amag    e_Amag      eA/A      eP/P  \\\n",
       "0  9.10   3.54   1.39  0.482     F5  16.845016  0.852640  0.050617  0.392655   \n",
       "1  9.27  21.90   3.10  0.999    K3V  20.972221  0.307377  0.014656  0.141553   \n",
       "2  6.61   2.81   0.63 -0.019     B9  13.853533  0.486843  0.035142  0.224199   \n",
       "3  8.06   7.75   0.97  0.370    F0V  17.506508  0.271784  0.015525  0.125161   \n",
       "4  8.55   2.87   1.11  0.902  G8III  15.839410  0.839838  0.053022  0.386760   \n",
       "\n",
       "  TargetClass  \n",
       "0          F5  \n",
       "1         K3V  \n",
       "2          B9  \n",
       "3         F0V  \n",
       "4       G8III  "
      ]
     },
     "execution_count": 8,
     "metadata": {},
     "output_type": "execute_result"
    }
   ],
   "source": [
    "#dataRaw = dataRaw.drop('Unnamed: 0', axis=1)\n",
    "dataRaw['TargetClass'] = dataRaw['SpType']\n",
    "\n",
    "dataRaw = dataRaw.reset_index(drop=True) # reindexar debido al drop\n",
    "dataRaw.head() "
   ]
  },
  {
   "cell_type": "code",
   "execution_count": 9,
   "id": "42fcebf9",
   "metadata": {
    "execution": {
     "iopub.execute_input": "2022-05-03T22:58:47.742143Z",
     "iopub.status.busy": "2022-05-03T22:58:47.741433Z",
     "iopub.status.idle": "2022-05-03T22:58:47.754268Z",
     "shell.execute_reply": "2022-05-03T22:58:47.754832Z",
     "shell.execute_reply.started": "2022-03-02T21:32:37.473009Z"
    },
    "papermill": {
     "duration": 0.085895,
     "end_time": "2022-05-03T22:58:47.755008",
     "exception": false,
     "start_time": "2022-05-03T22:58:47.669113",
     "status": "completed"
    },
    "tags": []
   },
   "outputs": [
    {
     "name": "stdout",
     "output_type": "stream",
     "text": [
      "<class 'pandas.core.frame.DataFrame'>\n",
      "RangeIndex: 96707 entries, 0 to 96706\n",
      "Data columns (total 10 columns):\n",
      " #   Column       Non-Null Count  Dtype  \n",
      "---  ------       --------------  -----  \n",
      " 0   Vmag         96707 non-null  float32\n",
      " 1   Plx          96707 non-null  float32\n",
      " 2   e_Plx        96707 non-null  float32\n",
      " 3   B-V          96707 non-null  float32\n",
      " 4   SpType       96707 non-null  object \n",
      " 5   Amag         96707 non-null  float32\n",
      " 6   e_Amag       96707 non-null  float32\n",
      " 7   eA/A         96707 non-null  float32\n",
      " 8   eP/P         96707 non-null  float32\n",
      " 9   TargetClass  96707 non-null  object \n",
      "dtypes: float32(8), object(2)\n",
      "memory usage: 4.4+ MB\n"
     ]
    }
   ],
   "source": [
    "dataRaw.info()"
   ]
  },
  {
   "cell_type": "markdown",
   "id": "ffbb10d6",
   "metadata": {
    "papermill": {
     "duration": 0.046105,
     "end_time": "2022-05-03T22:58:47.848049",
     "exception": false,
     "start_time": "2022-05-03T22:58:47.801944",
     "status": "completed"
    },
    "tags": []
   },
   "source": [
    "## Target Class: Giants or Dwarfs ##"
   ]
  },
  {
   "cell_type": "code",
   "execution_count": 10,
   "id": "13b2f355",
   "metadata": {
    "execution": {
     "iopub.execute_input": "2022-05-03T22:58:47.951854Z",
     "iopub.status.busy": "2022-05-03T22:58:47.945966Z",
     "iopub.status.idle": "2022-05-03T23:00:46.306996Z",
     "shell.execute_reply": "2022-05-03T23:00:46.307534Z",
     "shell.execute_reply.started": "2022-03-02T21:32:37.512984Z"
    },
    "papermill": {
     "duration": 118.413351,
     "end_time": "2022-05-03T23:00:46.307724",
     "exception": false,
     "start_time": "2022-05-03T22:58:47.894373",
     "status": "completed"
    },
    "tags": []
   },
   "outputs": [
    {
     "data": {
      "text/html": [
       "<div>\n",
       "<style scoped>\n",
       "    .dataframe tbody tr th:only-of-type {\n",
       "        vertical-align: middle;\n",
       "    }\n",
       "\n",
       "    .dataframe tbody tr th {\n",
       "        vertical-align: top;\n",
       "    }\n",
       "\n",
       "    .dataframe thead th {\n",
       "        text-align: right;\n",
       "    }\n",
       "</style>\n",
       "<table border=\"1\" class=\"dataframe\">\n",
       "  <thead>\n",
       "    <tr style=\"text-align: right;\">\n",
       "      <th></th>\n",
       "      <th>Vmag</th>\n",
       "      <th>Plx</th>\n",
       "      <th>e_Plx</th>\n",
       "      <th>B-V</th>\n",
       "      <th>SpType</th>\n",
       "      <th>Amag</th>\n",
       "      <th>e_Amag</th>\n",
       "      <th>eA/A</th>\n",
       "      <th>eP/P</th>\n",
       "      <th>TargetClass</th>\n",
       "    </tr>\n",
       "  </thead>\n",
       "  <tbody>\n",
       "    <tr>\n",
       "      <th>0</th>\n",
       "      <td>9.10</td>\n",
       "      <td>3.54</td>\n",
       "      <td>1.39</td>\n",
       "      <td>0.482</td>\n",
       "      <td>F5</td>\n",
       "      <td>16.845016</td>\n",
       "      <td>0.852640</td>\n",
       "      <td>0.050617</td>\n",
       "      <td>0.392655</td>\n",
       "      <td>9</td>\n",
       "    </tr>\n",
       "    <tr>\n",
       "      <th>1</th>\n",
       "      <td>9.27</td>\n",
       "      <td>21.90</td>\n",
       "      <td>3.10</td>\n",
       "      <td>0.999</td>\n",
       "      <td>K3V</td>\n",
       "      <td>20.972221</td>\n",
       "      <td>0.307377</td>\n",
       "      <td>0.014656</td>\n",
       "      <td>0.141553</td>\n",
       "      <td>9</td>\n",
       "    </tr>\n",
       "    <tr>\n",
       "      <th>2</th>\n",
       "      <td>6.61</td>\n",
       "      <td>2.81</td>\n",
       "      <td>0.63</td>\n",
       "      <td>-0.019</td>\n",
       "      <td>B9</td>\n",
       "      <td>13.853533</td>\n",
       "      <td>0.486843</td>\n",
       "      <td>0.035142</td>\n",
       "      <td>0.224199</td>\n",
       "      <td>9</td>\n",
       "    </tr>\n",
       "    <tr>\n",
       "      <th>3</th>\n",
       "      <td>8.06</td>\n",
       "      <td>7.75</td>\n",
       "      <td>0.97</td>\n",
       "      <td>0.370</td>\n",
       "      <td>F0V</td>\n",
       "      <td>17.506508</td>\n",
       "      <td>0.271784</td>\n",
       "      <td>0.015525</td>\n",
       "      <td>0.125161</td>\n",
       "      <td>9</td>\n",
       "    </tr>\n",
       "    <tr>\n",
       "      <th>4</th>\n",
       "      <td>8.55</td>\n",
       "      <td>2.87</td>\n",
       "      <td>1.11</td>\n",
       "      <td>0.902</td>\n",
       "      <td>G8III</td>\n",
       "      <td>15.839410</td>\n",
       "      <td>0.839838</td>\n",
       "      <td>0.053022</td>\n",
       "      <td>0.386760</td>\n",
       "      <td>1</td>\n",
       "    </tr>\n",
       "  </tbody>\n",
       "</table>\n",
       "</div>"
      ],
      "text/plain": [
       "   Vmag    Plx  e_Plx    B-V SpType       Amag    e_Amag      eA/A      eP/P  \\\n",
       "0  9.10   3.54   1.39  0.482     F5  16.845016  0.852640  0.050617  0.392655   \n",
       "1  9.27  21.90   3.10  0.999    K3V  20.972221  0.307377  0.014656  0.141553   \n",
       "2  6.61   2.81   0.63 -0.019     B9  13.853533  0.486843  0.035142  0.224199   \n",
       "3  8.06   7.75   0.97  0.370    F0V  17.506508  0.271784  0.015525  0.125161   \n",
       "4  8.55   2.87   1.11  0.902  G8III  15.839410  0.839838  0.053022  0.386760   \n",
       "\n",
       "  TargetClass  \n",
       "0           9  \n",
       "1           9  \n",
       "2           9  \n",
       "3           9  \n",
       "4           1  "
      ]
     },
     "execution_count": 10,
     "metadata": {},
     "output_type": "execute_result"
    }
   ],
   "source": [
    "# Procesamiento target, clasificar en Giants and dwarfs\n",
    "\n",
    "\n",
    "for i in range(len(dataRaw['TargetClass'])):\n",
    "    if \"I\" in dataRaw.loc[i,'TargetClass']: \n",
    "        dataRaw.loc[i,'TargetClass'] = 1   # 1 giant       \n",
    "    elif (\"VII\" or \"VI\") in dataRaw.loc[i,'TargetClass']: \n",
    "        dataRaw.loc[i,'TargetClass'] = 0 # VII is Dwarf (0)\n",
    "    elif \"V\" in dataRaw.loc[i,'TargetClass']: \n",
    "        if ('G' or 'K' or 'M' or 'L' or 'T') in  dataRaw.loc[i,'TargetClass']:\n",
    "            dataRaw.loc[i,'TargetClass'] = 0\n",
    "        else:\n",
    "            dataRaw.loc[i,'TargetClass'] = 9\n",
    "    else: \n",
    "        dataRaw.loc[i,'TargetClass'] = 9 # None\n",
    "        \n",
    "dataRaw['TargetClass']\n",
    "\n",
    "dataRaw.head()"
   ]
  },
  {
   "cell_type": "code",
   "execution_count": 11,
   "id": "e1bdad27",
   "metadata": {
    "execution": {
     "iopub.execute_input": "2022-05-03T23:00:46.406077Z",
     "iopub.status.busy": "2022-05-03T23:00:46.405167Z",
     "iopub.status.idle": "2022-05-03T23:00:46.888261Z",
     "shell.execute_reply": "2022-05-03T23:00:46.887733Z",
     "shell.execute_reply.started": "2022-03-02T21:34:34.389551Z"
    },
    "papermill": {
     "duration": 0.534461,
     "end_time": "2022-05-03T23:00:46.888453",
     "exception": false,
     "start_time": "2022-05-03T23:00:46.353992",
     "status": "completed"
    },
    "tags": []
   },
   "outputs": [
    {
     "name": "stderr",
     "output_type": "stream",
     "text": [
      "/opt/conda/lib/python3.7/site-packages/seaborn/_decorators.py:43: FutureWarning: Pass the following variable as a keyword arg: x. From version 0.12, the only valid positional argument will be `data`, and passing other arguments without an explicit keyword will result in an error or misinterpretation.\n",
      "  FutureWarning\n"
     ]
    },
    {
     "data": {
      "text/plain": [
       "<AxesSubplot:xlabel='TargetClass', ylabel='count'>"
      ]
     },
     "execution_count": 11,
     "metadata": {},
     "output_type": "execute_result"
    },
    {
     "data": {
      "image/png": "[encoded data removed]",
      "text/plain": [
       "<Figure size 432x288 with 1 Axes>"
      ]
     },
     "metadata": {
      "needs_background": "light"
     },
     "output_type": "display_data"
    }
   ],
   "source": [
    "sns.countplot( dataRaw['TargetClass'] )"
   ]
  },
  {
   "cell_type": "code",
   "execution_count": 12,
   "id": "10515241",
   "metadata": {
    "execution": {
     "iopub.execute_input": "2022-05-03T23:00:46.989527Z",
     "iopub.status.busy": "2022-05-03T23:00:46.988799Z",
     "iopub.status.idle": "2022-05-03T23:00:47.006354Z",
     "shell.execute_reply": "2022-05-03T23:00:47.006814Z",
     "shell.execute_reply.started": "2022-03-02T21:34:34.830157Z"
    },
    "papermill": {
     "duration": 0.070092,
     "end_time": "2022-05-03T23:00:47.006999",
     "exception": false,
     "start_time": "2022-05-03T23:00:46.936907",
     "status": "completed"
    },
    "tags": []
   },
   "outputs": [
    {
     "data": {
      "text/plain": [
       "9    65279\n",
       "1    26647\n",
       "0     4781\n",
       "Name: TargetClass, dtype: int64"
      ]
     },
     "execution_count": 12,
     "metadata": {},
     "output_type": "execute_result"
    }
   ],
   "source": [
    "dataRaw['TargetClass'].value_counts()"
   ]
  },
  {
   "cell_type": "markdown",
   "id": "c92a5ee4",
   "metadata": {
    "papermill": {
     "duration": 0.049343,
     "end_time": "2022-05-03T23:00:47.105402",
     "exception": false,
     "start_time": "2022-05-03T23:00:47.056059",
     "status": "completed"
    },
    "tags": []
   },
   "source": [
    "### Selection only Giants or Dwarfs ###"
   ]
  },
  {
   "cell_type": "code",
   "execution_count": 13,
   "id": "81b0d625",
   "metadata": {
    "execution": {
     "iopub.execute_input": "2022-05-03T23:00:47.223062Z",
     "iopub.status.busy": "2022-05-03T23:00:47.222015Z",
     "iopub.status.idle": "2022-05-03T23:00:47.227039Z",
     "shell.execute_reply": "2022-05-03T23:00:47.226520Z",
     "shell.execute_reply.started": "2022-03-02T21:34:34.859095Z"
    },
    "papermill": {
     "duration": 0.073484,
     "end_time": "2022-05-03T23:00:47.227204",
     "exception": false,
     "start_time": "2022-05-03T23:00:47.153720",
     "status": "completed"
    },
    "tags": []
   },
   "outputs": [],
   "source": [
    "# copy and drop number 9\n",
    "df = dataRaw[dataRaw.TargetClass != 9 ] # != return  boolean"
   ]
  },
  {
   "cell_type": "markdown",
   "id": "1bae917d",
   "metadata": {
    "papermill": {
     "duration": 0.048369,
     "end_time": "2022-05-03T23:00:47.323842",
     "exception": false,
     "start_time": "2022-05-03T23:00:47.275473",
     "status": "completed"
    },
    "tags": []
   },
   "source": [
    "## Balance ##"
   ]
  },
  {
   "cell_type": "code",
   "execution_count": 14,
   "id": "b42f8aab",
   "metadata": {
    "execution": {
     "iopub.execute_input": "2022-05-03T23:00:47.433125Z",
     "iopub.status.busy": "2022-05-03T23:00:47.432475Z",
     "iopub.status.idle": "2022-05-03T23:00:47.559344Z",
     "shell.execute_reply": "2022-05-03T23:00:47.558714Z",
     "shell.execute_reply.started": "2022-03-02T21:34:34.889635Z"
    },
    "papermill": {
     "duration": 0.186765,
     "end_time": "2022-05-03T23:00:47.559501",
     "exception": false,
     "start_time": "2022-05-03T23:00:47.372736",
     "status": "completed"
    },
    "tags": []
   },
   "outputs": [],
   "source": [
    "# dividir set \n",
    "\n",
    "dfGiants = df[df.TargetClass == 1]\n",
    "dfDwarfs = df[df.TargetClass == 0]\n",
    "num_of_giant = dfGiants.shape[0]\n",
    "num_of_dwarf = dfDwarfs.shape[0]\n",
    "\n",
    "from sklearn.utils import resample\n",
    "dfGiantsDownSample = resample(dfGiants, \n",
    "                             replace = False, # sample without replacement\n",
    "                             n_samples = num_of_dwarf,\n",
    "                             random_state =1 \n",
    "                             )\n",
    "dfDownSampled = pd.concat([dfGiantsDownSample , dfDwarfs] )"
   ]
  },
  {
   "cell_type": "code",
   "execution_count": 15,
   "id": "e94d63b3",
   "metadata": {
    "execution": {
     "iopub.execute_input": "2022-05-03T23:00:47.659741Z",
     "iopub.status.busy": "2022-05-03T23:00:47.659070Z",
     "iopub.status.idle": "2022-05-03T23:00:47.846704Z",
     "shell.execute_reply": "2022-05-03T23:00:47.847187Z",
     "shell.execute_reply.started": "2022-03-02T21:34:35.013894Z"
    },
    "papermill": {
     "duration": 0.239466,
     "end_time": "2022-05-03T23:00:47.847371",
     "exception": false,
     "start_time": "2022-05-03T23:00:47.607905",
     "status": "completed"
    },
    "tags": []
   },
   "outputs": [
    {
     "name": "stdout",
     "output_type": "stream",
     "text": [
      "1    4781\n",
      "0    4781\n",
      "Name: TargetClass, dtype: int64\n"
     ]
    },
    {
     "name": "stderr",
     "output_type": "stream",
     "text": [
      "/opt/conda/lib/python3.7/site-packages/seaborn/_decorators.py:43: FutureWarning: Pass the following variable as a keyword arg: x. From version 0.12, the only valid positional argument will be `data`, and passing other arguments without an explicit keyword will result in an error or misinterpretation.\n",
      "  FutureWarning\n"
     ]
    },
    {
     "data": {
      "image/png": "[encoded data removed]",
      "text/plain": [
       "<Figure size 432x288 with 1 Axes>"
      ]
     },
     "metadata": {
      "needs_background": "light"
     },
     "output_type": "display_data"
    }
   ],
   "source": [
    "sns.countplot(dfDownSampled['TargetClass'])\n",
    "print( dfDownSampled['TargetClass'].value_counts())"
   ]
  },
  {
   "cell_type": "code",
   "execution_count": 16,
   "id": "38563bf4",
   "metadata": {
    "execution": {
     "iopub.execute_input": "2022-05-03T23:00:47.951559Z",
     "iopub.status.busy": "2022-05-03T23:00:47.950902Z",
     "iopub.status.idle": "2022-05-03T23:00:47.965825Z",
     "shell.execute_reply": "2022-05-03T23:00:47.966578Z",
     "shell.execute_reply.started": "2022-03-02T21:34:35.205154Z"
    },
    "papermill": {
     "duration": 0.069769,
     "end_time": "2022-05-03T23:00:47.966818",
     "exception": false,
     "start_time": "2022-05-03T23:00:47.897049",
     "status": "completed"
    },
    "tags": []
   },
   "outputs": [
    {
     "name": "stdout",
     "output_type": "stream",
     "text": [
      "<class 'pandas.core.frame.DataFrame'>\n",
      "RangeIndex: 9562 entries, 0 to 9561\n",
      "Data columns (total 10 columns):\n",
      " #   Column       Non-Null Count  Dtype  \n",
      "---  ------       --------------  -----  \n",
      " 0   Vmag         9562 non-null   float32\n",
      " 1   Plx          9562 non-null   float32\n",
      " 2   e_Plx        9562 non-null   float32\n",
      " 3   B-V          9562 non-null   float32\n",
      " 4   SpType       9562 non-null   object \n",
      " 5   Amag         9562 non-null   float32\n",
      " 6   e_Amag       9562 non-null   float32\n",
      " 7   eA/A         9562 non-null   float32\n",
      " 8   eP/P         9562 non-null   float32\n",
      " 9   TargetClass  9562 non-null   object \n",
      "dtypes: float32(8), object(2)\n",
      "memory usage: 448.3+ KB\n"
     ]
    }
   ],
   "source": [
    "dfBalanced= dfDownSampled.reset_index(drop=True)\n",
    "dfBalanced.info()"
   ]
  },
  {
   "cell_type": "code",
   "execution_count": 17,
   "id": "747dce56",
   "metadata": {
    "execution": {
     "iopub.execute_input": "2022-05-03T23:00:48.073088Z",
     "iopub.status.busy": "2022-05-03T23:00:48.072455Z",
     "iopub.status.idle": "2022-05-03T23:00:48.078207Z",
     "shell.execute_reply": "2022-05-03T23:00:48.078779Z",
     "shell.execute_reply.started": "2022-03-02T21:34:35.224278Z"
    },
    "papermill": {
     "duration": 0.060736,
     "end_time": "2022-05-03T23:00:48.078960",
     "exception": false,
     "start_time": "2022-05-03T23:00:48.018224",
     "status": "completed"
    },
    "tags": []
   },
   "outputs": [],
   "source": [
    "dataStar = dfBalanced.sample(frac=1).reset_index(drop=True) # shuffle\n",
    "dfCopyStar = dataStar.copy()\n"
   ]
  },
  {
   "cell_type": "markdown",
   "id": "3551eba1",
   "metadata": {
    "papermill": {
     "duration": 0.049962,
     "end_time": "2022-05-03T23:00:48.180734",
     "exception": false,
     "start_time": "2022-05-03T23:00:48.130772",
     "status": "completed"
    },
    "tags": []
   },
   "source": [
    "## Visualization ##"
   ]
  },
  {
   "cell_type": "code",
   "execution_count": 18,
   "id": "328773d4",
   "metadata": {
    "execution": {
     "iopub.execute_input": "2022-05-03T23:00:48.284500Z",
     "iopub.status.busy": "2022-05-03T23:00:48.283841Z",
     "iopub.status.idle": "2022-05-03T23:00:48.685932Z",
     "shell.execute_reply": "2022-05-03T23:00:48.685293Z",
     "shell.execute_reply.started": "2022-03-02T21:34:35.233731Z"
    },
    "papermill": {
     "duration": 0.455208,
     "end_time": "2022-05-03T23:00:48.686074",
     "exception": false,
     "start_time": "2022-05-03T23:00:48.230866",
     "status": "completed"
    },
    "tags": []
   },
   "outputs": [
    {
     "data": {
      "image/png": "[encoded data removed]",
      "text/plain": [
       "<Figure size 432x288 with 2 Axes>"
      ]
     },
     "metadata": {},
     "output_type": "display_data"
    },
    {
     "data": {
      "text/plain": [
       "<Figure size 432x288 with 0 Axes>"
      ]
     },
     "metadata": {},
     "output_type": "display_data"
    }
   ],
   "source": [
    "%matplotlib inline\n",
    "\n",
    "sns.set()\n",
    "dataStar.plot.scatter( x=\"Plx\" ,y=\"Amag\",cmap='viridis' ,  c='TargetClass' ,s=5); # problem with TargetClass\n",
    "plt.xlabel(\"Plx\")\n",
    "plt.figure()\n",
    "plt.show()\n"
   ]
  },
  {
   "cell_type": "code",
   "execution_count": 19,
   "id": "817a79a3",
   "metadata": {
    "execution": {
     "iopub.execute_input": "2022-05-03T23:00:48.799534Z",
     "iopub.status.busy": "2022-05-03T23:00:48.798771Z",
     "iopub.status.idle": "2022-05-03T23:00:49.200780Z",
     "shell.execute_reply": "2022-05-03T23:00:49.200227Z",
     "shell.execute_reply.started": "2022-03-02T21:34:35.640613Z"
    },
    "papermill": {
     "duration": 0.462549,
     "end_time": "2022-05-03T23:00:49.200922",
     "exception": false,
     "start_time": "2022-05-03T23:00:48.738373",
     "status": "completed"
    },
    "tags": []
   },
   "outputs": [
    {
     "data": {
      "image/png": "[encoded data removed]",
      "text/plain": [
       "<Figure size 432x288 with 2 Axes>"
      ]
     },
     "metadata": {},
     "output_type": "display_data"
    },
    {
     "data": {
      "text/plain": [
       "<Figure size 432x288 with 0 Axes>"
      ]
     },
     "metadata": {},
     "output_type": "display_data"
    }
   ],
   "source": [
    "%matplotlib inline\n",
    "sns.set()\n",
    "dataStar.plot.scatter( x=\"B-V\" ,y=\"Amag\",cmap='viridis' ,  c='TargetClass' ,s=5); # problem with TargetClass\n",
    "plt.xlabel(\"Plx\")\n",
    "plt.figure()\n",
    "plt.show()\n",
    "\n"
   ]
  },
  {
   "cell_type": "code",
   "execution_count": 20,
   "id": "43fe0a92",
   "metadata": {
    "execution": {
     "iopub.execute_input": "2022-05-03T23:00:49.320122Z",
     "iopub.status.busy": "2022-05-03T23:00:49.319024Z",
     "iopub.status.idle": "2022-05-03T23:00:52.683473Z",
     "shell.execute_reply": "2022-05-03T23:00:52.683962Z",
     "shell.execute_reply.started": "2022-03-02T21:34:36.04719Z"
    },
    "papermill": {
     "duration": 3.429244,
     "end_time": "2022-05-03T23:00:52.684127",
     "exception": false,
     "start_time": "2022-05-03T23:00:49.254883",
     "status": "completed"
    },
    "tags": []
   },
   "outputs": [
    {
     "data": {
      "text/plain": [
       "Vmag           0\n",
       "Plx            0\n",
       "e_Plx          0\n",
       "B-V            0\n",
       "SpType         0\n",
       "Amag           0\n",
       "e_Amag         0\n",
       "eA/A           0\n",
       "eP/P           0\n",
       "TargetClass    0\n",
       "dtype: int64"
      ]
     },
     "execution_count": 20,
     "metadata": {},
     "output_type": "execute_result"
    },
    {
     "data": {
      "image/png": "[encoded data removed]",
      "text/plain": [
       "<Figure size 864x576 with 25 Axes>"
      ]
     },
     "metadata": {},
     "output_type": "display_data"
    }
   ],
   "source": [
    "# scatter attributes\n",
    "\n",
    "from pandas.plotting import scatter_matrix\n",
    "\n",
    "attributes = ['TargetClass','Amag' , 'Vmag' , 'Plx' , 'B-V']\n",
    "\n",
    "# convert a numerical Targetclass \n",
    "dataStar['TargetClass'] = pd.to_numeric(dataStar['TargetClass'] , downcast='float' , errors='coerce')\n",
    "\n",
    "scatter_matrix(dataStar[attributes] , figsize=(12, 8))\n",
    "dataStar.isnull().sum()\n"
   ]
  },
  {
   "cell_type": "markdown",
   "id": "2d60610a",
   "metadata": {
    "papermill": {
     "duration": 0.058998,
     "end_time": "2022-05-03T23:00:52.800764",
     "exception": false,
     "start_time": "2022-05-03T23:00:52.741766",
     "status": "completed"
    },
    "tags": []
   },
   "source": [
    "## Correlation Linear ##"
   ]
  },
  {
   "cell_type": "code",
   "execution_count": 21,
   "id": "ce6f7175",
   "metadata": {
    "execution": {
     "iopub.execute_input": "2022-05-03T23:00:52.922640Z",
     "iopub.status.busy": "2022-05-03T23:00:52.921952Z",
     "iopub.status.idle": "2022-05-03T23:00:52.930906Z",
     "shell.execute_reply": "2022-05-03T23:00:52.930258Z",
     "shell.execute_reply.started": "2022-03-02T21:34:39.444657Z"
    },
    "papermill": {
     "duration": 0.072781,
     "end_time": "2022-05-03T23:00:52.931052",
     "exception": false,
     "start_time": "2022-05-03T23:00:52.858271",
     "status": "completed"
    },
    "tags": []
   },
   "outputs": [
    {
     "data": {
      "text/plain": [
       "TargetClass    1.000000\n",
       "B-V            0.302299\n",
       "eP/P           0.036399\n",
       "e_Amag         0.036399\n",
       "eA/A           0.023408\n",
       "e_Plx         -0.242699\n",
       "Plx           -0.365910\n",
       "Vmag          -0.381619\n",
       "Amag          -0.735124\n",
       "Name: TargetClass, dtype: float64"
      ]
     },
     "execution_count": 21,
     "metadata": {},
     "output_type": "execute_result"
    }
   ],
   "source": [
    "corr_matrix = dataStar.corr()\n",
    "corr_matrix[\"TargetClass\"].sort_values(ascending=False)"
   ]
  },
  {
   "cell_type": "markdown",
   "id": "a317df69",
   "metadata": {
    "papermill": {
     "duration": 0.058094,
     "end_time": "2022-05-03T23:00:53.047170",
     "exception": false,
     "start_time": "2022-05-03T23:00:52.989076",
     "status": "completed"
    },
    "tags": []
   },
   "source": [
    "## Data Cleaning ##"
   ]
  },
  {
   "cell_type": "code",
   "execution_count": 22,
   "id": "61711795",
   "metadata": {
    "execution": {
     "iopub.execute_input": "2022-05-03T23:00:53.171247Z",
     "iopub.status.busy": "2022-05-03T23:00:53.170613Z",
     "iopub.status.idle": "2022-05-03T23:00:53.173437Z",
     "shell.execute_reply": "2022-05-03T23:00:53.172858Z",
     "shell.execute_reply.started": "2022-03-02T21:34:39.457821Z"
    },
    "papermill": {
     "duration": 0.068106,
     "end_time": "2022-05-03T23:00:53.173584",
     "exception": false,
     "start_time": "2022-05-03T23:00:53.105478",
     "status": "completed"
    },
    "tags": []
   },
   "outputs": [],
   "source": [
    "#dataStar = dataStar.drop(['Unnamed: 0'], axis =1)\n",
    "dataStar = dataStar.drop(['SpType'], axis =1)\n",
    "\n"
   ]
  },
  {
   "cell_type": "markdown",
   "id": "302eed0c",
   "metadata": {
    "papermill": {
     "duration": 0.057428,
     "end_time": "2022-05-03T23:00:53.289207",
     "exception": false,
     "start_time": "2022-05-03T23:00:53.231779",
     "status": "completed"
    },
    "tags": []
   },
   "source": [
    "# **Data Processing** #"
   ]
  },
  {
   "cell_type": "code",
   "execution_count": 23,
   "id": "b9d1bb0e",
   "metadata": {
    "execution": {
     "iopub.execute_input": "2022-05-03T23:00:53.437885Z",
     "iopub.status.busy": "2022-05-03T23:00:53.436834Z",
     "iopub.status.idle": "2022-05-03T23:00:53.447279Z",
     "shell.execute_reply": "2022-05-03T23:00:53.446665Z",
     "shell.execute_reply.started": "2022-03-02T21:34:39.466594Z"
    },
    "papermill": {
     "duration": 0.090494,
     "end_time": "2022-05-03T23:00:53.447445",
     "exception": false,
     "start_time": "2022-05-03T23:00:53.356951",
     "status": "completed"
    },
    "tags": []
   },
   "outputs": [
    {
     "name": "stdout",
     "output_type": "stream",
     "text": [
      "<class 'pandas.core.frame.DataFrame'>\n",
      "RangeIndex: 9562 entries, 0 to 9561\n",
      "Data columns (total 9 columns):\n",
      " #   Column       Non-Null Count  Dtype  \n",
      "---  ------       --------------  -----  \n",
      " 0   Vmag         9562 non-null   float32\n",
      " 1   Plx          9562 non-null   float32\n",
      " 2   e_Plx        9562 non-null   float32\n",
      " 3   B-V          9562 non-null   float32\n",
      " 4   Amag         9562 non-null   float32\n",
      " 5   e_Amag       9562 non-null   float32\n",
      " 6   eA/A         9562 non-null   float32\n",
      " 7   eP/P         9562 non-null   float32\n",
      " 8   TargetClass  9562 non-null   float32\n",
      "dtypes: float32(9)\n",
      "memory usage: 336.3 KB\n"
     ]
    }
   ],
   "source": [
    "dataStar.info()"
   ]
  },
  {
   "cell_type": "markdown",
   "id": "2b9b8e01",
   "metadata": {
    "papermill": {
     "duration": 0.067389,
     "end_time": "2022-05-03T23:00:53.573680",
     "exception": false,
     "start_time": "2022-05-03T23:00:53.506291",
     "status": "completed"
    },
    "tags": []
   },
   "source": [
    "### Train and test Set ###"
   ]
  },
  {
   "cell_type": "code",
   "execution_count": 24,
   "id": "14e6b6f8",
   "metadata": {
    "execution": {
     "iopub.execute_input": "2022-05-03T23:00:53.695694Z",
     "iopub.status.busy": "2022-05-03T23:00:53.694940Z",
     "iopub.status.idle": "2022-05-03T23:00:53.948349Z",
     "shell.execute_reply": "2022-05-03T23:00:53.947737Z",
     "shell.execute_reply.started": "2022-03-02T21:34:39.488377Z"
    },
    "papermill": {
     "duration": 0.3167,
     "end_time": "2022-05-03T23:00:53.948493",
     "exception": false,
     "start_time": "2022-05-03T23:00:53.631793",
     "status": "completed"
    },
    "tags": []
   },
   "outputs": [],
   "source": [
    "from sklearn.model_selection import train_test_split\n",
    "\n",
    "\n",
    "train , test = train_test_split(dataStar , test_size = 0.2, random_state = 42 )\n",
    "train = train.reset_index(drop=True)\n",
    "test = test.reset_index(drop=True)"
   ]
  },
  {
   "cell_type": "code",
   "execution_count": 25,
   "id": "ec9ddfd9",
   "metadata": {
    "execution": {
     "iopub.execute_input": "2022-05-03T23:00:54.069180Z",
     "iopub.status.busy": "2022-05-03T23:00:54.068549Z",
     "iopub.status.idle": "2022-05-03T23:00:54.072353Z",
     "shell.execute_reply": "2022-05-03T23:00:54.072830Z",
     "shell.execute_reply.started": "2022-03-02T21:34:39.738692Z"
    },
    "papermill": {
     "duration": 0.066153,
     "end_time": "2022-05-03T23:00:54.072997",
     "exception": false,
     "start_time": "2022-05-03T23:00:54.006844",
     "status": "completed"
    },
    "tags": []
   },
   "outputs": [],
   "source": [
    "## Stratified ##\n",
    "#from sklearn.model_selection import StratifiedShuffleSplit\n",
    "#split = StratifiedShuffleSplit(n_splits=1, test_size=0.2, random_state=42)\n",
    "#for train_index, test_index in split.split(data, data[\"variableStratificada\"]):\n",
    "#strat_train_set = housing.loc[train_index]\n",
    "#strat_test_set = housing.loc[test_index]\n",
    "\n",
    "#from  sklearn.impute import SimpleImputer\n",
    "#imputer = SimpleImputer(strategy='median')\n",
    "\n",
    "#from  sklearn.preprocessing import OneHotEncoder\n",
    "#catEncoder = OneHotEncoder()\n",
    "\n",
    "## numerical ##\n",
    "#from  sklearn.pipeline import Pipeline\n",
    "#from  sklearn.preprocessing import StandardScaler\n",
    "#numerical_pipeline = Pipeline([('imputer', SimpleImputer(strategy=\"median\")),('attribs_adder', CombinedAttributesAdder()),])\n",
    "# new_variable_transformed_numerical = num_pipeline.fit_transform(varible_numerica)\n",
    "\n",
    "## numerical and categorial ##\n",
    "#from sklearn import ColumnTransformer\n",
    "#numerical_attribs = list(numerical_columns)\n",
    "#categorical_attribs = list(categorial_columns)\n",
    "#full_pipeline = ColumnTransformer([(\"num\", numerical_pipeline, numerical_attribs),(\"cat\", OneHotEncoder(), categorical_attribs),])\n",
    "#dataTotal_prepared = full_pipeline.fit_transform(dataTotal) "
   ]
  },
  {
   "cell_type": "markdown",
   "id": "2a473b9e",
   "metadata": {
    "papermill": {
     "duration": 0.059906,
     "end_time": "2022-05-03T23:00:54.190956",
     "exception": false,
     "start_time": "2022-05-03T23:00:54.131050",
     "status": "completed"
    },
    "tags": []
   },
   "source": [
    "## Target ## "
   ]
  },
  {
   "cell_type": "code",
   "execution_count": 26,
   "id": "6b087b92",
   "metadata": {
    "execution": {
     "iopub.execute_input": "2022-05-03T23:00:54.313457Z",
     "iopub.status.busy": "2022-05-03T23:00:54.312770Z",
     "iopub.status.idle": "2022-05-03T23:00:54.326596Z",
     "shell.execute_reply": "2022-05-03T23:00:54.327406Z",
     "shell.execute_reply.started": "2022-03-02T21:34:39.745148Z"
    },
    "papermill": {
     "duration": 0.077837,
     "end_time": "2022-05-03T23:00:54.327657",
     "exception": false,
     "start_time": "2022-05-03T23:00:54.249820",
     "status": "completed"
    },
    "tags": []
   },
   "outputs": [
    {
     "name": "stdout",
     "output_type": "stream",
     "text": [
      "<class 'pandas.core.frame.DataFrame'>\n",
      "RangeIndex: 7649 entries, 0 to 7648\n",
      "Data columns (total 8 columns):\n",
      " #   Column  Non-Null Count  Dtype  \n",
      "---  ------  --------------  -----  \n",
      " 0   Vmag    7649 non-null   float32\n",
      " 1   Plx     7649 non-null   float32\n",
      " 2   e_Plx   7649 non-null   float32\n",
      " 3   B-V     7649 non-null   float32\n",
      " 4   Amag    7649 non-null   float32\n",
      " 5   e_Amag  7649 non-null   float32\n",
      " 6   eA/A    7649 non-null   float32\n",
      " 7   eP/P    7649 non-null   float32\n",
      "dtypes: float32(8)\n",
      "memory usage: 239.2 KB\n"
     ]
    }
   ],
   "source": [
    "trainX = train.drop('TargetClass', axis=1)\n",
    "trainY = train['TargetClass'].copy()\n",
    "\n",
    "testX = test.drop('TargetClass', axis=1)\n",
    "testY = test['TargetClass'].copy()\n",
    "trainX.info()"
   ]
  },
  {
   "cell_type": "markdown",
   "id": "0e9f67a8",
   "metadata": {
    "papermill": {
     "duration": 0.06285,
     "end_time": "2022-05-03T23:00:54.451516",
     "exception": false,
     "start_time": "2022-05-03T23:00:54.388666",
     "status": "completed"
    },
    "tags": []
   },
   "source": [
    "## Featuring Engineering ##"
   ]
  },
  {
   "cell_type": "markdown",
   "id": "c1e58f4e",
   "metadata": {
    "papermill": {
     "duration": 0.0589,
     "end_time": "2022-05-03T23:00:54.569750",
     "exception": false,
     "start_time": "2022-05-03T23:00:54.510850",
     "status": "completed"
    },
    "tags": []
   },
   "source": [
    "##  Pipeline and Featuring Scaling ##"
   ]
  },
  {
   "cell_type": "code",
   "execution_count": 27,
   "id": "6f76cbef",
   "metadata": {
    "execution": {
     "iopub.execute_input": "2022-05-03T23:00:54.693278Z",
     "iopub.status.busy": "2022-05-03T23:00:54.689383Z",
     "iopub.status.idle": "2022-05-03T23:00:54.848611Z",
     "shell.execute_reply": "2022-05-03T23:00:54.848035Z",
     "shell.execute_reply.started": "2022-03-02T21:34:39.769533Z"
    },
    "papermill": {
     "duration": 0.220522,
     "end_time": "2022-05-03T23:00:54.848758",
     "exception": false,
     "start_time": "2022-05-03T23:00:54.628236",
     "status": "completed"
    },
    "tags": []
   },
   "outputs": [
    {
     "name": "stdout",
     "output_type": "stream",
     "text": [
      "Done\n"
     ]
    }
   ],
   "source": [
    "from  sklearn.impute import SimpleImputer\n",
    "from  sklearn.preprocessing import OneHotEncoder\n",
    "\n",
    "from  sklearn.pipeline import Pipeline\n",
    "from  sklearn.preprocessing import StandardScaler\n",
    "\n",
    "numerical_pipeline = Pipeline([('imputer', SimpleImputer(strategy=\"median\")),\n",
    "                              ('std_scaler', StandardScaler())] )\n",
    "\n",
    "from sklearn.compose import ColumnTransformer\n",
    "\n",
    "num_attribs = list(trainX)\n",
    "#cat_attribs = [\"ocean_proximity\"] ---generar lista de attribus catecorial---\n",
    "full_pipeline = ColumnTransformer([(\"num\", numerical_pipeline, num_attribs),\n",
    "#                                   (\"cat\", OneHotEncoder(), cat_attribs),\n",
    "                                  ])\n",
    "\n",
    "Xtrain = full_pipeline.fit_transform(trainX)  # array\n",
    "\n",
    "print('Done')"
   ]
  },
  {
   "cell_type": "markdown",
   "id": "5d19cd45",
   "metadata": {
    "papermill": {
     "duration": 0.060179,
     "end_time": "2022-05-03T23:00:54.972091",
     "exception": false,
     "start_time": "2022-05-03T23:00:54.911912",
     "status": "completed"
    },
    "tags": []
   },
   "source": [
    " # **MODEL** # "
   ]
  },
  {
   "cell_type": "markdown",
   "id": "2b7690d2",
   "metadata": {
    "papermill": {
     "duration": 0.059264,
     "end_time": "2022-05-03T23:00:55.090680",
     "exception": false,
     "start_time": "2022-05-03T23:00:55.031416",
     "status": "completed"
    },
    "tags": []
   },
   "source": [
    "#### Models ####"
   ]
  },
  {
   "cell_type": "code",
   "execution_count": 28,
   "id": "a4f5d08f",
   "metadata": {
    "execution": {
     "iopub.execute_input": "2022-05-03T23:00:55.215803Z",
     "iopub.status.busy": "2022-05-03T23:00:55.215123Z",
     "iopub.status.idle": "2022-05-03T23:00:55.268141Z",
     "shell.execute_reply": "2022-05-03T23:00:55.268705Z",
     "shell.execute_reply.started": "2022-03-02T21:34:39.942267Z"
    },
    "papermill": {
     "duration": 0.118202,
     "end_time": "2022-05-03T23:00:55.268881",
     "exception": false,
     "start_time": "2022-05-03T23:00:55.150679",
     "status": "completed"
    },
    "tags": []
   },
   "outputs": [],
   "source": [
    "# Models ==> ['logisRegre' , 'SVM'   , 'SGDClf' ,  'randomForestClassifier' , 'navieBayes']\n",
    "\n",
    "# Classifier\n",
    "from sklearn.linear_model import SGDClassifier\n",
    "from sklearn.linear_model import LogisticRegression\n",
    "from sklearn.ensemble import RandomForestClassifier\n",
    "from sklearn.svm import LinearSVC\n"
   ]
  },
  {
   "cell_type": "code",
   "execution_count": 29,
   "id": "2fcd050b",
   "metadata": {
    "execution": {
     "iopub.execute_input": "2022-05-03T23:00:55.390744Z",
     "iopub.status.busy": "2022-05-03T23:00:55.389924Z",
     "iopub.status.idle": "2022-05-03T23:00:55.412606Z",
     "shell.execute_reply": "2022-05-03T23:00:55.413129Z",
     "shell.execute_reply.started": "2022-03-02T21:34:39.997593Z"
    },
    "papermill": {
     "duration": 0.084901,
     "end_time": "2022-05-03T23:00:55.413388",
     "exception": false,
     "start_time": "2022-05-03T23:00:55.328487",
     "status": "completed"
    },
    "tags": []
   },
   "outputs": [],
   "source": [
    "\n",
    "SGDClf = SGDClassifier(random_state=42)\n",
    "SGDClf.fit(Xtrain, trainY) # fit equal training\n",
    "\n",
    "LRClf = LogisticRegression(random_state=0)\n",
    "RFClf = RandomForestClassifier(random_state=0)\n",
    "SVClf = LinearSVC(random_state=0)\n",
    "\n",
    "\n",
    "#SGDClf.fit(Xtrain, trainY)"
   ]
  },
  {
   "cell_type": "markdown",
   "id": "e947b52d",
   "metadata": {
    "papermill": {
     "duration": 0.058283,
     "end_time": "2022-05-03T23:00:55.530416",
     "exception": false,
     "start_time": "2022-05-03T23:00:55.472133",
     "status": "completed"
    },
    "tags": []
   },
   "source": [
    "## Cross-Validation ##"
   ]
  },
  {
   "cell_type": "code",
   "execution_count": 30,
   "id": "8417029e",
   "metadata": {
    "execution": {
     "iopub.execute_input": "2022-05-03T23:00:55.654197Z",
     "iopub.status.busy": "2022-05-03T23:00:55.653198Z",
     "iopub.status.idle": "2022-05-03T23:01:03.576071Z",
     "shell.execute_reply": "2022-05-03T23:01:03.576702Z",
     "shell.execute_reply.started": "2022-03-02T21:34:40.0243Z"
    },
    "papermill": {
     "duration": 7.98686,
     "end_time": "2022-05-03T23:01:03.576894",
     "exception": false,
     "start_time": "2022-05-03T23:00:55.590034",
     "status": "completed"
    },
    "tags": []
   },
   "outputs": [
    {
     "name": "stdout",
     "output_type": "stream",
     "text": [
      "{0.2989115265177115: SGDClassifier(random_state=42), 0.29843616911827187: LogisticRegression(random_state=0), 0.24736895621629484: RandomForestClassifier(random_state=0)}\n",
      "\n",
      "\n",
      "RandomForestClassifier(random_state=0)\n",
      "DONE\n"
     ]
    }
   ],
   "source": [
    "from sklearn.model_selection import cross_val_score\n",
    "\n",
    "# automatizar entre diversos modelos de la misma categoria\n",
    "def compareModels(models, x, y, numCV, scoringT=\"neg_mean_squared_error\"):\n",
    "    modelsCV = dict()\n",
    "    for mod in models:\n",
    "        scores = cross_val_score(mod, x, y, scoring = scoringT, cv=numCV)\n",
    "        meanScore = np.sqrt(-scores).mean()\n",
    "        modelsCV[meanScore] = mod\n",
    "    \n",
    "    val=min(modelsCV)\n",
    "    bestModel = modelsCV[val]\n",
    "    return modelsCV,bestModel\n",
    "    \n",
    "result, model =compareModels([SGDClf , LRClf, RFClf] , Xtrain , trainY , 6)\n",
    "print(result); print('\\n'); print(model); print('DONE')"
   ]
  },
  {
   "cell_type": "code",
   "execution_count": 31,
   "id": "212acc54",
   "metadata": {
    "execution": {
     "iopub.execute_input": "2022-05-03T23:01:03.703849Z",
     "iopub.status.busy": "2022-05-03T23:01:03.702820Z",
     "iopub.status.idle": "2022-05-03T23:01:05.286730Z",
     "shell.execute_reply": "2022-05-03T23:01:05.286089Z",
     "shell.execute_reply.started": "2022-03-02T21:34:47.754171Z"
    },
    "papermill": {
     "duration": 1.648995,
     "end_time": "2022-05-03T23:01:05.286906",
     "exception": false,
     "start_time": "2022-05-03T23:01:03.637911",
     "status": "completed"
    },
    "tags": []
   },
   "outputs": [],
   "source": [
    "model.fit(Xtrain, trainY)\n",
    "\n",
    "Xtest = full_pipeline.fit_transform(testX)\n",
    "Ypredicts = model.predict(Xtest)\n"
   ]
  },
  {
   "cell_type": "code",
   "execution_count": 32,
   "id": "dd5cf6e4",
   "metadata": {
    "execution": {
     "iopub.execute_input": "2022-05-03T23:01:05.424284Z",
     "iopub.status.busy": "2022-05-03T23:01:05.423403Z",
     "iopub.status.idle": "2022-05-03T23:01:05.426588Z",
     "shell.execute_reply": "2022-05-03T23:01:05.427080Z",
     "shell.execute_reply.started": "2022-03-02T21:34:49.208095Z"
    },
    "papermill": {
     "duration": 0.076001,
     "end_time": "2022-05-03T23:01:05.427249",
     "exception": false,
     "start_time": "2022-05-03T23:01:05.351248",
     "status": "completed"
    },
    "tags": []
   },
   "outputs": [
    {
     "data": {
      "text/plain": [
       "0.23539403"
      ]
     },
     "execution_count": 32,
     "metadata": {},
     "output_type": "execute_result"
    }
   ],
   "source": [
    "# metrica\n",
    "from sklearn.metrics import mean_squared_error\n",
    "\n",
    "mse = mean_squared_error(testY , Ypredicts) \n",
    "rmse = np.sqrt(mse)\n",
    "rmse"
   ]
  },
  {
   "cell_type": "code",
   "execution_count": 33,
   "id": "a909e8f4",
   "metadata": {
    "execution": {
     "iopub.execute_input": "2022-05-03T23:01:05.556407Z",
     "iopub.status.busy": "2022-05-03T23:01:05.555726Z",
     "iopub.status.idle": "2022-05-03T23:01:05.575427Z",
     "shell.execute_reply": "2022-05-03T23:01:05.575919Z",
     "shell.execute_reply.started": "2022-03-02T21:34:49.219103Z"
    },
    "papermill": {
     "duration": 0.08585,
     "end_time": "2022-05-03T23:01:05.576095",
     "exception": false,
     "start_time": "2022-05-03T23:01:05.490245",
     "status": "completed"
    },
    "tags": []
   },
   "outputs": [
    {
     "data": {
      "text/plain": [
       "'94.458965%'"
      ]
     },
     "execution_count": 33,
     "metadata": {},
     "output_type": "execute_result"
    }
   ],
   "source": [
    "output = pd.DataFrame({'Star': testY, 'StarPred': Ypredicts})\n",
    "\n",
    "def precision(a, b):\n",
    "    cont = 0\n",
    "    for i in np.arange(len(a)):\n",
    "        if (a[i]==b[i]):\n",
    "            cont = cont +1\n",
    "             \n",
    "            \n",
    "    return  format( cont/len(a) , '2%') \n",
    "\n",
    "precision(testY , Ypredicts)"
   ]
  },
  {
   "cell_type": "code",
   "execution_count": 34,
   "id": "171220e2",
   "metadata": {
    "execution": {
     "iopub.execute_input": "2022-05-03T23:01:05.702071Z",
     "iopub.status.busy": "2022-05-03T23:01:05.701350Z",
     "iopub.status.idle": "2022-05-03T23:01:05.704352Z",
     "shell.execute_reply": "2022-05-03T23:01:05.704928Z",
     "shell.execute_reply.started": "2022-03-02T21:34:49.247087Z"
    },
    "papermill": {
     "duration": 0.068293,
     "end_time": "2022-05-03T23:01:05.705107",
     "exception": false,
     "start_time": "2022-05-03T23:01:05.636814",
     "status": "completed"
    },
    "tags": []
   },
   "outputs": [],
   "source": [
    "### stratified CV ### see pag 136  Geron's book\n",
    "#from sklearn.model_selection import StratifiedKFold\n",
    "#from sklearn.base import clone\n",
    "#skfolds = StratifiedKFold(n_splits=3, random_state=42)"
   ]
  },
  {
   "cell_type": "markdown",
   "id": "89ead945",
   "metadata": {
    "papermill": {
     "duration": 0.063828,
     "end_time": "2022-05-03T23:01:05.833083",
     "exception": false,
     "start_time": "2022-05-03T23:01:05.769255",
     "status": "completed"
    },
    "tags": []
   },
   "source": [
    "# **Refinament** #"
   ]
  },
  {
   "cell_type": "markdown",
   "id": "74e4ba0d",
   "metadata": {
    "papermill": {
     "duration": 0.064908,
     "end_time": "2022-05-03T23:01:05.962384",
     "exception": false,
     "start_time": "2022-05-03T23:01:05.897476",
     "status": "completed"
    },
    "tags": []
   },
   "source": [
    "### Hyper-parameters ###"
   ]
  },
  {
   "cell_type": "code",
   "execution_count": 35,
   "id": "fa563202",
   "metadata": {
    "execution": {
     "iopub.execute_input": "2022-05-03T23:01:06.100719Z",
     "iopub.status.busy": "2022-05-03T23:01:06.096484Z",
     "iopub.status.idle": "2022-05-03T23:01:24.453720Z",
     "shell.execute_reply": "2022-05-03T23:01:24.453038Z",
     "shell.execute_reply.started": "2022-03-02T21:34:49.259587Z"
    },
    "papermill": {
     "duration": 18.427133,
     "end_time": "2022-05-03T23:01:24.453862",
     "exception": false,
     "start_time": "2022-05-03T23:01:06.026729",
     "status": "completed"
    },
    "tags": []
   },
   "outputs": [
    {
     "data": {
      "text/plain": [
       "{'max_features': 2, 'n_estimators': 10}"
      ]
     },
     "execution_count": 35,
     "metadata": {},
     "output_type": "execute_result"
    }
   ],
   "source": [
    "from sklearn.model_selection import GridSearchCV\n",
    "from sklearn.model_selection import RandomizedSearchCV\n",
    "from scipy.stats import uniform\n",
    "\n",
    "\n",
    "#distributions = dict(C=uniform(loc=0, scale=4), penalty=['l2','l1'])\n",
    "#clf=RandomizedSearchCV( RFClf , distributions , random_state=0) # arg (model , distri , ...)\n",
    "\n",
    "\n",
    "parameter_grid = [{'n_estimators':[3,5,10], 'max_features':[2,4,6,8]} ,\n",
    "                  {'bootstrap':[False], 'n_estimators':[3,7,12] , 'max_features':[2,3,4]}]\n",
    "clf=GridSearchCV( RFClf , parameter_grid,\n",
    "                cv=5 ,  scoring='neg_mean_squared_error' , return_train_score=True) # arg (model , distri , ...)\n",
    "\n",
    "\n",
    "clf.fit(Xtrain, trainY)\n",
    "\n",
    "clf.best_params_"
   ]
  },
  {
   "cell_type": "markdown",
   "id": "eb7df4d1",
   "metadata": {
    "papermill": {
     "duration": 0.059752,
     "end_time": "2022-05-03T23:01:24.574617",
     "exception": false,
     "start_time": "2022-05-03T23:01:24.514865",
     "status": "completed"
    },
    "tags": []
   },
   "source": [
    "###  Model-Hyperparameters ###"
   ]
  },
  {
   "cell_type": "code",
   "execution_count": 36,
   "id": "a7c4b161",
   "metadata": {
    "execution": {
     "iopub.execute_input": "2022-05-03T23:01:24.698751Z",
     "iopub.status.busy": "2022-05-03T23:01:24.698086Z",
     "iopub.status.idle": "2022-05-03T23:01:24.718989Z",
     "shell.execute_reply": "2022-05-03T23:01:24.719473Z",
     "shell.execute_reply.started": "2022-03-02T21:35:07.161381Z"
    },
    "papermill": {
     "duration": 0.084594,
     "end_time": "2022-05-03T23:01:24.719663",
     "exception": false,
     "start_time": "2022-05-03T23:01:24.635069",
     "status": "completed"
    },
    "tags": []
   },
   "outputs": [
    {
     "data": {
      "text/plain": [
       "'94.145321%'"
      ]
     },
     "execution_count": 36,
     "metadata": {},
     "output_type": "execute_result"
    }
   ],
   "source": [
    "finalModel=clf.best_estimator_\n",
    "Ypredfinal=finalModel.predict(Xtest)\n",
    "\n",
    "precision(testY , Ypredfinal) # worse model"
   ]
  },
  {
   "cell_type": "code",
   "execution_count": 37,
   "id": "d83d2d70",
   "metadata": {
    "execution": {
     "iopub.execute_input": "2022-05-03T23:01:24.845472Z",
     "iopub.status.busy": "2022-05-03T23:01:24.844758Z",
     "iopub.status.idle": "2022-05-03T23:01:24.848726Z",
     "shell.execute_reply": "2022-05-03T23:01:24.849242Z"
    },
    "papermill": {
     "duration": 0.068508,
     "end_time": "2022-05-03T23:01:24.849454",
     "exception": false,
     "start_time": "2022-05-03T23:01:24.780946",
     "status": "completed"
    },
    "tags": []
   },
   "outputs": [
    {
     "name": "stdout",
     "output_type": "stream",
     "text": [
      "Done\n"
     ]
    }
   ],
   "source": [
    "print('Done')"
   ]
  },
  {
   "cell_type": "markdown",
   "id": "733646cf",
   "metadata": {
    "papermill": {
     "duration": 0.061332,
     "end_time": "2022-05-03T23:01:24.983564",
     "exception": false,
     "start_time": "2022-05-03T23:01:24.922232",
     "status": "completed"
    },
    "tags": []
   },
   "source": [
    "# **Deploy** #"
   ]
  },
  {
   "cell_type": "code",
   "execution_count": null,
   "id": "593c21d3",
   "metadata": {
    "papermill": {
     "duration": 0.061423,
     "end_time": "2022-05-03T23:01:25.107698",
     "exception": false,
     "start_time": "2022-05-03T23:01:25.046275",
     "status": "completed"
    },
    "tags": []
   },
   "outputs": [],
   "source": []
  },
  {
   "cell_type": "code",
   "execution_count": null,
   "id": "4f595989",
   "metadata": {
    "papermill": {
     "duration": 0.060642,
     "end_time": "2022-05-03T23:01:25.230209",
     "exception": false,
     "start_time": "2022-05-03T23:01:25.169567",
     "status": "completed"
    },
    "tags": []
   },
   "outputs": [],
   "source": []
  }
 ],
 "metadata": {
  "kernelspec": {
   "display_name": "Python 3",
   "language": "python",
   "name": "python3"
  },
  "language_info": {
   "codemirror_mode": {
    "name": "ipython",
    "version": 3
   },
   "file_extension": ".py",
   "mimetype": "text/x-python",
   "name": "python",
   "nbconvert_exporter": "python",
   "pygments_lexer": "ipython3",
   "version": "3.7.12"
  },
  "papermill": {
   "default_parameters": {},
   "duration": 173.754045,
   "end_time": "2022-05-03T23:01:26.102507",
   "environment_variables": {},
   "exception": null,
   "input_path": "__notebook__.ipynb",
   "output_path": "__notebook__.ipynb",
   "parameters": {},
   "start_time": "2022-05-03T22:58:32.348462",
   "version": "2.3.3"
  }
 },
 "nbformat": 4,
 "nbformat_minor": 5
}
