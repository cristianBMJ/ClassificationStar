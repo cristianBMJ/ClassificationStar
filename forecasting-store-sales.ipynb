{
 "cells": [
  {
   "cell_type": "markdown",
   "id": "0dacd837",
   "metadata": {
    "papermill": {
     "duration": 0.054536,
     "end_time": "2022-05-18T02:17:29.811970",
     "exception": false,
     "start_time": "2022-05-18T02:17:29.757434",
     "status": "completed"
    },
    "tags": []
   },
   "source": [
    "# **Forecasting: Store-Sales**\n",
    "\n",
    "This project aims to forecast the sales of a company's stores in Ecuador. We work with Time Series to predictions the sales, used tools of the **Pandas**. The Model learning  is the kind Hydrid,  it be first model `RandomForestRegressor` while the second model is `LinearRegression`. \n",
    "\n"
   ]
  },
  {
   "cell_type": "markdown",
   "id": "4f1b3298",
   "metadata": {
    "papermill": {
     "duration": 0.061251,
     "end_time": "2022-05-18T02:17:29.921651",
     "exception": false,
     "start_time": "2022-05-18T02:17:29.860400",
     "status": "completed"
    },
    "tags": []
   },
   "source": [
    "# **Setting** #\n",
    "\n",
    "Setup of the system  and necessary libraries."
   ]
  },
  {
   "cell_type": "code",
   "execution_count": 1,
   "id": "aadd67d5",
   "metadata": {
    "_cell_guid": "b1076dfc-b9ad-4769-8c92-a6c4dae69d19",
    "_uuid": "8f2839f25d086af736a60e9eeb907d3b93b6e0e5",
    "execution": {
     "iopub.execute_input": "2022-05-18T02:17:30.072004Z",
     "iopub.status.busy": "2022-05-18T02:17:30.049776Z",
     "iopub.status.idle": "2022-05-18T02:17:32.488690Z",
     "shell.execute_reply": "2022-05-18T02:17:32.489198Z",
     "shell.execute_reply.started": "2022-05-18T02:08:50.665472Z"
    },
    "papermill": {
     "duration": 2.493028,
     "end_time": "2022-05-18T02:17:32.489474",
     "exception": false,
     "start_time": "2022-05-18T02:17:29.996446",
     "status": "completed"
    },
    "tags": []
   },
   "outputs": [
    {
     "data": {
      "text/html": [
       "<style type='text/css'>\n",
       ".datatable table.frame { margin-bottom: 0; }\n",
       ".datatable table.frame thead { border-bottom: none; }\n",
       ".datatable table.frame tr.coltypes td {  color: #FFFFFF;  line-height: 6px;  padding: 0 0.5em;}\n",
       ".datatable .bool    { background: #DDDD99; }\n",
       ".datatable .object  { background: #565656; }\n",
       ".datatable .int     { background: #5D9E5D; }\n",
       ".datatable .float   { background: #4040CC; }\n",
       ".datatable .str     { background: #CC4040; }\n",
       ".datatable .time    { background: #40CC40; }\n",
       ".datatable .row_index {  background: var(--jp-border-color3);  border-right: 1px solid var(--jp-border-color0);  color: var(--jp-ui-font-color3);  font-size: 9px;}\n",
       ".datatable .frame tbody td { text-align: left; }\n",
       ".datatable .frame tr.coltypes .row_index {  background: var(--jp-border-color0);}\n",
       ".datatable th:nth-child(2) { padding-left: 12px; }\n",
       ".datatable .hellipsis {  color: var(--jp-cell-editor-border-color);}\n",
       ".datatable .vellipsis {  background: var(--jp-layout-color0);  color: var(--jp-cell-editor-border-color);}\n",
       ".datatable .na {  color: var(--jp-cell-editor-border-color);  font-size: 80%;}\n",
       ".datatable .sp {  opacity: 0.25;}\n",
       ".datatable .footer { font-size: 9px; }\n",
       ".datatable .frame_dimensions {  background: var(--jp-border-color3);  border-top: 1px solid var(--jp-border-color0);  color: var(--jp-ui-font-color3);  display: inline-block;  opacity: 0.6;  padding: 1px 10px 1px 5px;}\n",
       "</style>\n"
      ],
      "text/plain": [
       "<IPython.core.display.HTML object>"
      ]
     },
     "metadata": {},
     "output_type": "display_data"
    },
    {
     "name": "stdout",
     "output_type": "stream",
     "text": [
      "/kaggle/input/store-sales-time-series-forecasting/oil.csv\n",
      "/kaggle/input/store-sales-time-series-forecasting/sample_submission.csv\n",
      "/kaggle/input/store-sales-time-series-forecasting/holidays_events.csv\n",
      "/kaggle/input/store-sales-time-series-forecasting/stores.csv\n",
      "/kaggle/input/store-sales-time-series-forecasting/train.csv\n",
      "/kaggle/input/store-sales-time-series-forecasting/test.csv\n",
      "/kaggle/input/store-sales-time-series-forecasting/transactions.csv\n"
     ]
    }
   ],
   "source": [
    "# This Python 3 environment comes with many helpful analytics libraries installed\n",
    "# It is defined by the kaggle/python Docker image: https://github.com/kaggle/docker-python\n",
    "# For example, here's several helpful packages to load\n",
    "\n",
    "%matplotlib inline\n",
    "\n",
    "# Setup feedback system\n",
    "from learntools.core import binder\n",
    "binder.bind(globals())\n",
    "from learntools.time_series.ex3 import *\n",
    "\n",
    " # Allows the use of display() for DataFrames\n",
    "# from IPython.core.interactiveshell import InteractiveShell\n",
    "\n",
    "# InteractiveShell.ast_node_interactivity = \"all\"\n",
    "\n",
    "\n",
    "# Setup notebook\n",
    "from pathlib import Path\n",
    "from IPython.display import display\n",
    "\n",
    "from learntools.time_series.style import *  # plot style settings\n",
    "from learntools.time_series.utils import plot_periodogram, seasonal_plot\n",
    "\n",
    "\n",
    "import numpy as np # linear algebra\n",
    "import pandas as pd # data processing, CSV file I/O (e.g. pd.read_csv)\n",
    "\n",
    "%matplotlib inline\n",
    "import matplotlib.pyplot as plt\n",
    "import seaborn as sns\n",
    "\n",
    "\n",
    "from scipy.signal import periodogram\n",
    "from sklearn.ensemble import RandomForestRegressor\n",
    "from statsmodels.tsa.deterministic import CalendarFourier, DeterministicProcess\n",
    "from statsmodels.graphics.tsaplots import plot_pacf\n",
    "from sklearn.preprocessing import OneHotEncoder\n",
    "\n",
    "\n",
    "from sklearn.linear_model import LinearRegression\n",
    "from lightgbm import LGBMRegressor # make for microsoft\n",
    "from statsmodels.tsa.seasonal import seasonal_decompose\n",
    "from statsmodels.graphics.tsaplots import plot_acf\n",
    "from scipy.stats import t\n",
    "from sklearn.model_selection import TimeSeriesSplit, train_test_split\n",
    "from sklearn.metrics import mean_absolute_error as mae \n",
    "from sklearn.metrics import  mean_squared_log_error as msle\n",
    "\n",
    "\n",
    "\n",
    "\n",
    "# Input data files are available in the read-only \"../input/\" directory\n",
    "# For example, running this (by clicking run or pressing Shift+Enter) will list all files under the input directory\n",
    "\n",
    "import os\n",
    "for dirname, _, filenames in os.walk('/kaggle/input'):\n",
    "    for filename in filenames:\n",
    "        print(os.path.join(dirname, filename))\n",
    "\n",
    "        \n",
    "        \n",
    "# You can write up to 20GB to the current directory (/kaggle/working/) that gets preserved as output when you create a version using \"Save & Run All\" \n",
    "# You can also write temporary files to /kaggle/temp/, but they won't be saved outside of the current session\n"
   ]
  },
  {
   "cell_type": "markdown",
   "id": "25b17d62",
   "metadata": {
    "papermill": {
     "duration": 0.045256,
     "end_time": "2022-05-18T02:17:32.580839",
     "exception": false,
     "start_time": "2022-05-18T02:17:32.535583",
     "status": "completed"
    },
    "tags": []
   },
   "source": [
    "# **Get Data** #\n",
    "\n",
    "The data is in  [Kaggle Store sales](https://www.kaggle.com/c/store-sales-time-series-forecasting). \n"
   ]
  },
  {
   "cell_type": "code",
   "execution_count": 2,
   "id": "eca5c87e",
   "metadata": {
    "execution": {
     "iopub.execute_input": "2022-05-18T02:17:32.803478Z",
     "iopub.status.busy": "2022-05-18T02:17:32.673905Z",
     "iopub.status.idle": "2022-05-18T02:17:38.245716Z",
     "shell.execute_reply": "2022-05-18T02:17:38.245005Z",
     "shell.execute_reply.started": "2022-05-18T02:08:51.429797Z"
    },
    "papermill": {
     "duration": 5.619546,
     "end_time": "2022-05-18T02:17:38.245865",
     "exception": false,
     "start_time": "2022-05-18T02:17:32.626319",
     "status": "completed"
    },
    "tags": []
   },
   "outputs": [],
   "source": [
    "# Paths\n",
    "comp_dir = Path('../input/store-sales-time-series-forecasting')\n",
    "\n",
    "# timeInitial\n",
    "timeInitial = '2013'\n",
    "\n",
    "# Get datas\n",
    "holidays_events = pd.read_csv(\n",
    "    comp_dir / \"holidays_events.csv\",\n",
    "    dtype={\n",
    "        'type': 'category',\n",
    "        'locale': 'category',\n",
    "        'locale_name': 'category',\n",
    "        'description': 'category',\n",
    "        'transferred': 'bool',\n",
    "    },\n",
    "    parse_dates=['date'],\n",
    "    infer_datetime_format=True,\n",
    "    index_col='date'\n",
    ")\n",
    "\n",
    "hol = holidays_events.to_period('D')\n",
    "hol = hol[hol.locale == 'National'] # I'm only taking National holiday so there's no false positive.\n",
    "hol = hol.groupby(hol.index).first() # Removing duplicated holiday at the same date \n",
    "\n",
    "store_sales = pd.read_csv(\n",
    "    comp_dir / 'train.csv',\n",
    "    usecols=['store_nbr', 'family','onpromotion', 'date', 'sales'],\n",
    "    dtype={\n",
    "        'store_nbr': 'category',\n",
    "        'family': 'category',\n",
    "        'sales': 'float32',\n",
    "        'onpromotion': 'uint32',\n",
    "    },\n",
    "    parse_dates=['date'],\n",
    "    infer_datetime_format=True,\n",
    ")\n",
    "\n",
    "oil = pd.read_csv(\n",
    "    comp_dir / 'oil.csv',\n",
    "    usecols = ['date', 'dcoilwtico'],\n",
    "    dtype={'dcoilwtico': 'float32'    },\n",
    "    parse_dates=['date'],\n",
    "    infer_datetime_format=True,\n",
    ")\n",
    "\n",
    " \n",
    "holidays = (\n",
    "    holidays_events\n",
    "    .query(\"locale in ['National', 'Regional']\")\n",
    "    .loc[timeInitial :'2017-08-15', ['description'] ]\n",
    "    .assign(description=lambda x: x.description.cat.remove_unused_categories()) # assign new columns\n",
    ")\n",
    "\n",
    "df_test = pd.read_csv(\n",
    "    comp_dir / 'test.csv',\n",
    "    dtype={\n",
    "        'store_nbr': 'category',\n",
    "        'family': 'category',\n",
    "        'onpromotion': 'uint32',\n",
    "    },\n",
    "    parse_dates=['date'],\n",
    "    infer_datetime_format=True,\n",
    ")\n",
    "# Rearray to period\n",
    "\n",
    "transactions =  pd.read_csv( comp_dir / 'transactions.csv',\n",
    "                            parse_dates = ['date'], \n",
    "                            infer_datetime_format = True, \n",
    "                            )\n",
    "\n",
    "oil['date'] = oil.date.dt.to_period('D')\n",
    "oil = oil.set_index(['date']).sort_index()\n",
    "oil=oil.squeeze()\n",
    "\n",
    "store_sales['date'] = store_sales.date.dt.to_period('D')\n",
    "store_sales = store_sales.set_index(['store_nbr', 'family', 'date']).sort_index()\n",
    "\n"
   ]
  },
  {
   "cell_type": "markdown",
   "id": "39627fbd",
   "metadata": {
    "papermill": {
     "duration": 0.045548,
     "end_time": "2022-05-18T02:17:38.337691",
     "exception": false,
     "start_time": "2022-05-18T02:17:38.292143",
     "status": "completed"
    },
    "tags": []
   },
   "source": [
    "\n",
    "#  **Exploratory Data Analysis** #"
   ]
  },
  {
   "cell_type": "markdown",
   "id": "aeec2804",
   "metadata": {
    "papermill": {
     "duration": 0.044543,
     "end_time": "2022-05-18T02:17:38.427179",
     "exception": false,
     "start_time": "2022-05-18T02:17:38.382636",
     "status": "completed"
    },
    "tags": []
   },
   "source": [
    "Information preliminar about  `store_sales`."
   ]
  },
  {
   "cell_type": "code",
   "execution_count": 3,
   "id": "a53f3383",
   "metadata": {
    "execution": {
     "iopub.execute_input": "2022-05-18T02:17:38.527176Z",
     "iopub.status.busy": "2022-05-18T02:17:38.526533Z",
     "iopub.status.idle": "2022-05-18T02:17:38.803600Z",
     "shell.execute_reply": "2022-05-18T02:17:38.804044Z",
     "shell.execute_reply.started": "2022-05-18T02:08:54.907177Z"
    },
    "papermill": {
     "duration": 0.330521,
     "end_time": "2022-05-18T02:17:38.804208",
     "exception": false,
     "start_time": "2022-05-18T02:17:38.473687",
     "status": "completed"
    },
    "tags": []
   },
   "outputs": [
    {
     "name": "stdout",
     "output_type": "stream",
     "text": [
      "<class 'pandas.core.frame.DataFrame'>\n",
      "MultiIndex: 3000888 entries, ('1', 'AUTOMOTIVE', Period('2013-01-01', 'D')) to ('9', 'SEAFOOD', Period('2017-08-15', 'D'))\n",
      "Data columns (total 2 columns):\n",
      " #   Column       Dtype  \n",
      "---  ------       -----  \n",
      " 0   sales        float32\n",
      " 1   onpromotion  uint32 \n",
      "dtypes: float32(1), uint32(1)\n",
      "memory usage: 34.4 MB\n"
     ]
    },
    {
     "data": {
      "text/plain": [
       "None"
      ]
     },
     "metadata": {},
     "output_type": "display_data"
    },
    {
     "data": {
      "text/html": [
       "<div>\n",
       "<style scoped>\n",
       "    .dataframe tbody tr th:only-of-type {\n",
       "        vertical-align: middle;\n",
       "    }\n",
       "\n",
       "    .dataframe tbody tr th {\n",
       "        vertical-align: top;\n",
       "    }\n",
       "\n",
       "    .dataframe thead th {\n",
       "        text-align: right;\n",
       "    }\n",
       "</style>\n",
       "<table border=\"1\" class=\"dataframe\">\n",
       "  <thead>\n",
       "    <tr style=\"text-align: right;\">\n",
       "      <th></th>\n",
       "      <th>count</th>\n",
       "      <th>mean</th>\n",
       "      <th>std</th>\n",
       "      <th>min</th>\n",
       "      <th>25%</th>\n",
       "      <th>50%</th>\n",
       "      <th>75%</th>\n",
       "      <th>max</th>\n",
       "    </tr>\n",
       "  </thead>\n",
       "  <tbody>\n",
       "    <tr>\n",
       "      <th>sales</th>\n",
       "      <td>3000888.0</td>\n",
       "      <td>356.758392</td>\n",
       "      <td>1093.275879</td>\n",
       "      <td>0.0</td>\n",
       "      <td>0.0</td>\n",
       "      <td>11.0</td>\n",
       "      <td>195.847252</td>\n",
       "      <td>124717.0</td>\n",
       "    </tr>\n",
       "    <tr>\n",
       "      <th>onpromotion</th>\n",
       "      <td>3000888.0</td>\n",
       "      <td>2.602770</td>\n",
       "      <td>12.218882</td>\n",
       "      <td>0.0</td>\n",
       "      <td>0.0</td>\n",
       "      <td>0.0</td>\n",
       "      <td>0.000000</td>\n",
       "      <td>741.0</td>\n",
       "    </tr>\n",
       "  </tbody>\n",
       "</table>\n",
       "</div>"
      ],
      "text/plain": [
       "                 count        mean          std  min  25%   50%         75%  \\\n",
       "sales        3000888.0  356.758392  1093.275879  0.0  0.0  11.0  195.847252   \n",
       "onpromotion  3000888.0    2.602770    12.218882  0.0  0.0   0.0    0.000000   \n",
       "\n",
       "                  max  \n",
       "sales        124717.0  \n",
       "onpromotion     741.0  "
      ]
     },
     "metadata": {},
     "output_type": "display_data"
    }
   ],
   "source": [
    "display(store_sales.info())\n",
    "display( store_sales.describe().T)\n"
   ]
  },
  {
   "cell_type": "code",
   "execution_count": 4,
   "id": "6be99ca5",
   "metadata": {
    "execution": {
     "iopub.execute_input": "2022-05-18T02:17:38.901416Z",
     "iopub.status.busy": "2022-05-18T02:17:38.900810Z",
     "iopub.status.idle": "2022-05-18T02:17:38.909504Z",
     "shell.execute_reply": "2022-05-18T02:17:38.909969Z",
     "shell.execute_reply.started": "2022-05-18T02:08:55.183833Z"
    },
    "papermill": {
     "duration": 0.05844,
     "end_time": "2022-05-18T02:17:38.910142",
     "exception": false,
     "start_time": "2022-05-18T02:17:38.851702",
     "status": "completed"
    },
    "tags": []
   },
   "outputs": [],
   "source": [
    "store_sales['sales'].head()\n",
    "\n",
    "def salesDecompose(df, share_type='sales', samples=250, period=30):\n",
    "    if samples == 'all':\n",
    "        #decomposing all time series timestamps\n",
    "        res = seasonal_decompose(df[share_type].values, period=period)\n",
    "    else:\n",
    "        #decomposing a sample of the time series\n",
    "        res = seasonal_decompose(df[share_type].values[-samples:], period=period)\n",
    "    \n",
    "    observed = res.observed\n",
    "    trend = res.trend\n",
    "    seasonal = res.seasonal\n",
    "    residual = res.resid\n",
    "    \n",
    "    #plot the complete time series\n",
    "    fig, axs = plt.subplots(4, figsize=(16,8))\n",
    "    axs[0].set_title('OBSERVED', fontsize=16)\n",
    "    axs[0].plot(observed)\n",
    "    axs[0].grid()\n",
    "    \n",
    "    #plot the trend of the time series\n",
    "    axs[1].set_title('TREND', fontsize=16)\n",
    "    axs[1].plot(trend)\n",
    "    axs[1].grid()\n",
    "    \n",
    "    #plot the seasonality of the time series. Period=24 daily seasonality | Period=24*7 weekly seasonality.\n",
    "    axs[2].set_title('SEASONALITY', fontsize=16)\n",
    "    axs[2].plot(seasonal)\n",
    "    axs[2].grid()\n",
    "    \n",
    "    #plot the noise of the time series\n",
    "    axs[3].set_title('NOISE', fontsize=16)\n",
    "    axs[3].plot(residual)\n",
    "    axs[3].scatter(y=residual, x=range(len(residual)), alpha=0.5)\n",
    "    axs[3].grid()\n",
    "    \n",
    "    plt.show()\n",
    "    "
   ]
  },
  {
   "cell_type": "markdown",
   "id": "ea28d780",
   "metadata": {
    "papermill": {
     "duration": 0.04612,
     "end_time": "2022-05-18T02:17:39.002795",
     "exception": false,
     "start_time": "2022-05-18T02:17:38.956675",
     "status": "completed"
    },
    "tags": []
   },
   "source": [
    "### Sales Decompose\n",
    "In this section shown to sales decompose in three parts;  Observed, Trend and Seasonality, in a range time of  one year. "
   ]
  },
  {
   "cell_type": "code",
   "execution_count": 5,
   "id": "7788da09",
   "metadata": {
    "execution": {
     "iopub.execute_input": "2022-05-18T02:17:39.099313Z",
     "iopub.status.busy": "2022-05-18T02:17:39.098788Z",
     "iopub.status.idle": "2022-05-18T02:17:39.705801Z",
     "shell.execute_reply": "2022-05-18T02:17:39.706250Z",
     "shell.execute_reply.started": "2022-05-18T02:08:55.195070Z"
    },
    "papermill": {
     "duration": 0.656802,
     "end_time": "2022-05-18T02:17:39.706415",
     "exception": false,
     "start_time": "2022-05-18T02:17:39.049613",
     "status": "completed"
    },
    "tags": []
   },
   "outputs": [
    {
     "data": {
      "image/png": "[encoded data removed]",
      "text/plain": [
       "<Figure size 1152x576 with 4 Axes>"
      ]
     },
     "metadata": {
      "needs_background": "light"
     },
     "output_type": "display_data"
    }
   ],
   "source": [
    "salesDecompose(store_sales, samples= 365, period = 30 )"
   ]
  },
  {
   "cell_type": "markdown",
   "id": "a7fed80f",
   "metadata": {
    "papermill": {
     "duration": 0.050817,
     "end_time": "2022-05-18T02:17:39.808541",
     "exception": false,
     "start_time": "2022-05-18T02:17:39.757724",
     "status": "completed"
    },
    "tags": []
   },
   "source": [
    "Here, we maked average sales from time initial `2013`. Then we show Partial Correlation of Lags,  noting the most  significant ones.  "
   ]
  },
  {
   "cell_type": "code",
   "execution_count": 6,
   "id": "8706cb42",
   "metadata": {
    "execution": {
     "iopub.execute_input": "2022-05-18T02:17:39.914878Z",
     "iopub.status.busy": "2022-05-18T02:17:39.913910Z",
     "iopub.status.idle": "2022-05-18T02:17:40.329561Z",
     "shell.execute_reply": "2022-05-18T02:17:40.329967Z",
     "shell.execute_reply.started": "2022-05-18T02:08:55.656373Z"
    },
    "papermill": {
     "duration": 0.470259,
     "end_time": "2022-05-18T02:17:40.330130",
     "exception": false,
     "start_time": "2022-05-18T02:17:39.859871",
     "status": "completed"
    },
    "tags": []
   },
   "outputs": [
    {
     "name": "stdout",
     "output_type": "stream",
     "text": [
      "<class 'pandas.core.frame.DataFrame'>\n",
      "RangeIndex: 83488 entries, 0 to 83487\n",
      "Data columns (total 3 columns):\n",
      " #   Column        Non-Null Count  Dtype         \n",
      "---  ------        --------------  -----         \n",
      " 0   date          83488 non-null  datetime64[ns]\n",
      " 1   store_nbr     83488 non-null  int64         \n",
      " 2   transactions  83488 non-null  int64         \n",
      "dtypes: datetime64[ns](1), int64(2)\n",
      "memory usage: 1.9 MB\n",
      "<class 'pandas.core.frame.DataFrame'>\n",
      "PeriodIndex: 1684 entries, 2013-01-01 to 2017-08-15\n",
      "Freq: D\n",
      "Data columns (total 2 columns):\n",
      " #   Column       Non-Null Count  Dtype  \n",
      "---  ------       --------------  -----  \n",
      " 0   sales        1684 non-null   float32\n",
      " 1   onpromotion  1684 non-null   float64\n",
      "dtypes: float32(1), float64(1)\n",
      "memory usage: 32.9 KB\n"
     ]
    },
    {
     "data": {
      "text/plain": [
       "None"
      ]
     },
     "metadata": {},
     "output_type": "display_data"
    },
    {
     "data": {
      "text/html": [
       "<div>\n",
       "<style scoped>\n",
       "    .dataframe tbody tr th:only-of-type {\n",
       "        vertical-align: middle;\n",
       "    }\n",
       "\n",
       "    .dataframe tbody tr th {\n",
       "        vertical-align: top;\n",
       "    }\n",
       "\n",
       "    .dataframe thead th {\n",
       "        text-align: right;\n",
       "    }\n",
       "</style>\n",
       "<table border=\"1\" class=\"dataframe\">\n",
       "  <thead>\n",
       "    <tr style=\"text-align: right;\">\n",
       "      <th></th>\n",
       "      <th>sales</th>\n",
       "      <th>onpromotion</th>\n",
       "    </tr>\n",
       "    <tr>\n",
       "      <th>date</th>\n",
       "      <th></th>\n",
       "      <th></th>\n",
       "    </tr>\n",
       "  </thead>\n",
       "  <tbody>\n",
       "    <tr>\n",
       "      <th>2013-01-01</th>\n",
       "      <td>1.409438</td>\n",
       "      <td>0.0</td>\n",
       "    </tr>\n",
       "    <tr>\n",
       "      <th>2013-01-02</th>\n",
       "      <td>278.390808</td>\n",
       "      <td>0.0</td>\n",
       "    </tr>\n",
       "    <tr>\n",
       "      <th>2013-01-03</th>\n",
       "      <td>202.840195</td>\n",
       "      <td>0.0</td>\n",
       "    </tr>\n",
       "    <tr>\n",
       "      <th>2013-01-04</th>\n",
       "      <td>198.911148</td>\n",
       "      <td>0.0</td>\n",
       "    </tr>\n",
       "    <tr>\n",
       "      <th>2013-01-05</th>\n",
       "      <td>267.873230</td>\n",
       "      <td>0.0</td>\n",
       "    </tr>\n",
       "  </tbody>\n",
       "</table>\n",
       "</div>"
      ],
      "text/plain": [
       "                 sales  onpromotion\n",
       "date                               \n",
       "2013-01-01    1.409438          0.0\n",
       "2013-01-02  278.390808          0.0\n",
       "2013-01-03  202.840195          0.0\n",
       "2013-01-04  198.911148          0.0\n",
       "2013-01-05  267.873230          0.0"
      ]
     },
     "execution_count": 6,
     "metadata": {},
     "output_type": "execute_result"
    },
    {
     "data": {
      "image/png": "[encoded data removed]",
      "text/plain": [
       "<Figure size 432x288 with 1 Axes>"
      ]
     },
     "metadata": {
      "needs_background": "light"
     },
     "output_type": "display_data"
    }
   ],
   "source": [
    "# transactions per store\n",
    "transactions.info()\n",
    "\n",
    "\n",
    "# average sales \n",
    "average_sales = (\n",
    "    store_sales\n",
    "    .groupby('date').mean()\n",
    "    .squeeze()\n",
    "    .loc[timeInitial:]\n",
    ")\n",
    "\n",
    "\n",
    "plot_pacf(average_sales.sales, lags=15)\n",
    "\n",
    "\n",
    "display(average_sales.info())\n",
    "#ax = average_sales.plot(**plot_params, alpha = 0.5,  title='Averange Sales', ylabel='Items Sold')\n",
    "#ax.legend();\n",
    "\n",
    "average_sales.head()"
   ]
  },
  {
   "cell_type": "code",
   "execution_count": 7,
   "id": "322a222a",
   "metadata": {
    "execution": {
     "iopub.execute_input": "2022-05-18T02:17:40.440992Z",
     "iopub.status.busy": "2022-05-18T02:17:40.438586Z",
     "iopub.status.idle": "2022-05-18T02:17:40.449796Z",
     "shell.execute_reply": "2022-05-18T02:17:40.450577Z",
     "shell.execute_reply.started": "2022-05-18T02:08:56.088176Z"
    },
    "papermill": {
     "duration": 0.067897,
     "end_time": "2022-05-18T02:17:40.450874",
     "exception": false,
     "start_time": "2022-05-18T02:17:40.382977",
     "status": "completed"
    },
    "tags": []
   },
   "outputs": [
    {
     "name": "stdout",
     "output_type": "stream",
     "text": [
      "<class 'pandas.core.frame.DataFrame'>\n",
      "PeriodIndex: 1218 entries, 2013-01-01 to 2017-08-31\n",
      "Freq: D\n",
      "Data columns (total 1 columns):\n",
      " #   Column      Non-Null Count  Dtype  \n",
      "---  ------      --------------  -----  \n",
      " 0   dcoilwtico  1175 non-null   float32\n",
      "dtypes: float32(1)\n",
      "memory usage: 14.3 KB\n"
     ]
    }
   ],
   "source": [
    "# partial autocorrelation Oil\n",
    "dfOil = pd.DataFrame(oil)\n",
    "dfOil.info()"
   ]
  },
  {
   "cell_type": "markdown",
   "id": "d431a404",
   "metadata": {
    "papermill": {
     "duration": 0.052603,
     "end_time": "2022-05-18T02:17:40.558592",
     "exception": false,
     "start_time": "2022-05-18T02:17:40.505989",
     "status": "completed"
    },
    "tags": []
   },
   "source": [
    "The price's Oil during three years."
   ]
  },
  {
   "cell_type": "code",
   "execution_count": 8,
   "id": "8690f534",
   "metadata": {
    "execution": {
     "iopub.execute_input": "2022-05-18T02:17:40.667347Z",
     "iopub.status.busy": "2022-05-18T02:17:40.666760Z",
     "iopub.status.idle": "2022-05-18T02:17:40.918735Z",
     "shell.execute_reply": "2022-05-18T02:17:40.917954Z",
     "shell.execute_reply.started": "2022-05-18T02:08:56.102112Z"
    },
    "papermill": {
     "duration": 0.307459,
     "end_time": "2022-05-18T02:17:40.918886",
     "exception": false,
     "start_time": "2022-05-18T02:17:40.611427",
     "status": "completed"
    },
    "tags": []
   },
   "outputs": [
    {
     "data": {
      "image/png": "[encoded data removed]",
      "text/plain": [
       "<Figure size 432x288 with 1 Axes>"
      ]
     },
     "metadata": {
      "needs_background": "light"
     },
     "output_type": "display_data"
    }
   ],
   "source": [
    "oil[timeInitial:].plot()\n",
    "plt.show()\n",
    "\n",
    "\n"
   ]
  },
  {
   "cell_type": "code",
   "execution_count": 9,
   "id": "9e34b145",
   "metadata": {
    "execution": {
     "iopub.execute_input": "2022-05-18T02:17:41.040336Z",
     "iopub.status.busy": "2022-05-18T02:17:41.039763Z",
     "iopub.status.idle": "2022-05-18T02:17:41.042109Z",
     "shell.execute_reply": "2022-05-18T02:17:41.042593Z",
     "shell.execute_reply.started": "2022-05-18T02:08:56.410426Z"
    },
    "papermill": {
     "duration": 0.068665,
     "end_time": "2022-05-18T02:17:41.042756",
     "exception": false,
     "start_time": "2022-05-18T02:17:40.974091",
     "status": "completed"
    },
    "tags": []
   },
   "outputs": [
    {
     "name": "stdout",
     "output_type": "stream",
     "text": [
      "<class 'pandas.core.frame.DataFrame'>\n",
      "PeriodIndex: 1218 entries, 2013-01-01 to 2017-08-31\n",
      "Freq: D\n",
      "Data columns (total 1 columns):\n",
      " #   Column      Non-Null Count  Dtype  \n",
      "---  ------      --------------  -----  \n",
      " 0   dcoilwtico  1175 non-null   float32\n",
      "dtypes: float32(1)\n",
      "memory usage: 46.6 KB\n"
     ]
    }
   ],
   "source": [
    "dfOil = pd.DataFrame(oil)\n",
    "dfOil.info()"
   ]
  },
  {
   "cell_type": "code",
   "execution_count": 10,
   "id": "4992b448",
   "metadata": {
    "execution": {
     "iopub.execute_input": "2022-05-18T02:17:41.155649Z",
     "iopub.status.busy": "2022-05-18T02:17:41.155050Z",
     "iopub.status.idle": "2022-05-18T02:17:41.461638Z",
     "shell.execute_reply": "2022-05-18T02:17:41.461123Z",
     "shell.execute_reply.started": "2022-05-18T02:08:57.091308Z"
    },
    "papermill": {
     "duration": 0.364011,
     "end_time": "2022-05-18T02:17:41.461783",
     "exception": false,
     "start_time": "2022-05-18T02:17:41.097772",
     "status": "completed"
    },
    "tags": []
   },
   "outputs": [
    {
     "name": "stdout",
     "output_type": "stream",
     "text": [
      "<class 'pandas.core.frame.DataFrame'>\n",
      "PeriodIndex: 1218 entries, 2013-01-01 to 2017-08-31\n",
      "Freq: D\n",
      "Data columns (total 2 columns):\n",
      " #   Column      Non-Null Count  Dtype  \n",
      "---  ------      --------------  -----  \n",
      " 0   dcoilwtico  1217 non-null   float32\n",
      " 1   ma_oil      1211 non-null   float64\n",
      "dtypes: float32(1), float64(1)\n",
      "memory usage: 56.1 KB\n"
     ]
    },
    {
     "data": {
      "text/plain": [
       "<AxesSubplot:xlabel='date'>"
      ]
     },
     "execution_count": 10,
     "metadata": {},
     "output_type": "execute_result"
    },
    {
     "data": {
      "image/png": "[encoded data removed]",
      "text/plain": [
       "<Figure size 432x288 with 1 Axes>"
      ]
     },
     "metadata": {
      "needs_background": "light"
     },
     "output_type": "display_data"
    }
   ],
   "source": [
    "dfOil['ma_oil'] = dfOil['dcoilwtico'].rolling(7).mean() # calculating mean by oil ( there are NaNs  values)\n",
    "dfOil.fillna(method='ffill', inplace=True)\n",
    "dfOil.info()\n",
    "\n",
    "dfOil.plot()\n",
    "#dfOil.ma_oil[timeInitial:].plot()"
   ]
  },
  {
   "cell_type": "markdown",
   "id": "b7a70825",
   "metadata": {
    "papermill": {
     "duration": 0.056078,
     "end_time": "2022-05-18T02:17:41.574626",
     "exception": false,
     "start_time": "2022-05-18T02:17:41.518548",
     "status": "completed"
    },
    "tags": []
   },
   "source": [
    "# **Model with Oil** #\n"
   ]
  },
  {
   "cell_type": "markdown",
   "id": "ab544080",
   "metadata": {
    "papermill": {
     "duration": 0.056255,
     "end_time": "2022-05-18T02:17:41.687130",
     "exception": false,
     "start_time": "2022-05-18T02:17:41.630875",
     "status": "completed"
    },
    "tags": []
   },
   "source": [
    "We started create training  data, used `CalendarFourier`. For determine seasonal we take care `DeterministicProcess`. Futher, we add the Holiday days. "
   ]
  },
  {
   "cell_type": "code",
   "execution_count": 11,
   "id": "72d00715",
   "metadata": {
    "execution": {
     "iopub.execute_input": "2022-05-18T02:17:41.803179Z",
     "iopub.status.busy": "2022-05-18T02:17:41.802497Z",
     "iopub.status.idle": "2022-05-18T02:17:43.145825Z",
     "shell.execute_reply": "2022-05-18T02:17:43.146323Z",
     "shell.execute_reply.started": "2022-05-18T02:08:57.760500Z"
    },
    "papermill": {
     "duration": 1.403229,
     "end_time": "2022-05-18T02:17:43.146487",
     "exception": false,
     "start_time": "2022-05-18T02:17:41.743258",
     "status": "completed"
    },
    "tags": []
   },
   "outputs": [],
   "source": [
    "sdate = '2016-01-01'\n",
    "edate = '2017-08-15'\n",
    "y = store_sales.unstack(['store_nbr', 'family']).loc[sdate:] \n",
    "\n",
    "\n",
    "# y = y.join( oil.rename('Oil') , on='date').fillna(method = 'bfill')\n",
    "\n",
    "# Create training data\n",
    "fourier = CalendarFourier(freq='M', order=4)\n",
    "dp = DeterministicProcess(\n",
    "    index=y.index,\n",
    "    constant=True,\n",
    "    order=1,\n",
    "    seasonal=True,\n",
    "    additional_terms=[fourier],\n",
    "    drop=True,\n",
    ")\n",
    "\n",
    "X = dp.in_sample()\n",
    "\n",
    "X1 = X.copy() \n",
    "\n",
    "#holidays = holidays.groupby(holidays.index).first() # Removing duplicated holiday at the same date"
   ]
  },
  {
   "cell_type": "markdown",
   "id": "494e7f5b",
   "metadata": {
    "papermill": {
     "duration": 0.056701,
     "end_time": "2022-05-18T02:17:43.315382",
     "exception": false,
     "start_time": "2022-05-18T02:17:43.258681",
     "status": "completed"
    },
    "tags": []
   },
   "source": [
    "## Feature Engineering for Holidays"
   ]
  },
  {
   "cell_type": "code",
   "execution_count": 12,
   "id": "e798269e",
   "metadata": {
    "execution": {
     "iopub.execute_input": "2022-05-18T02:17:43.439001Z",
     "iopub.status.busy": "2022-05-18T02:17:43.432667Z",
     "iopub.status.idle": "2022-05-18T02:17:43.544537Z",
     "shell.execute_reply": "2022-05-18T02:17:43.544999Z",
     "shell.execute_reply.started": "2022-05-18T02:08:59.041385Z"
    },
    "papermill": {
     "duration": 0.17144,
     "end_time": "2022-05-18T02:17:43.545268",
     "exception": false,
     "start_time": "2022-05-18T02:17:43.373828",
     "status": "completed"
    },
    "tags": []
   },
   "outputs": [
    {
     "data": {
      "text/html": [
       "<div>\n",
       "<style scoped>\n",
       "    .dataframe tbody tr th:only-of-type {\n",
       "        vertical-align: middle;\n",
       "    }\n",
       "\n",
       "    .dataframe tbody tr th {\n",
       "        vertical-align: top;\n",
       "    }\n",
       "\n",
       "    .dataframe thead th {\n",
       "        text-align: right;\n",
       "    }\n",
       "</style>\n",
       "<table border=\"1\" class=\"dataframe\">\n",
       "  <thead>\n",
       "    <tr style=\"text-align: right;\">\n",
       "      <th></th>\n",
       "      <th>NewYear</th>\n",
       "      <th>wd</th>\n",
       "      <th>dofw_1</th>\n",
       "      <th>dofw_2</th>\n",
       "      <th>dofw_3</th>\n",
       "      <th>dofw_4</th>\n",
       "      <th>dofw_5</th>\n",
       "      <th>dofw_6</th>\n",
       "      <th>type_Additional</th>\n",
       "      <th>type_Bridge</th>\n",
       "      <th>type_Event</th>\n",
       "      <th>type_Holiday</th>\n",
       "      <th>type_Transfer</th>\n",
       "      <th>type_Work Day</th>\n",
       "      <th>school_season</th>\n",
       "    </tr>\n",
       "  </thead>\n",
       "  <tbody>\n",
       "    <tr>\n",
       "      <th>2013-01-01</th>\n",
       "      <td>True</td>\n",
       "      <td>0</td>\n",
       "      <td>1</td>\n",
       "      <td>0</td>\n",
       "      <td>0</td>\n",
       "      <td>0</td>\n",
       "      <td>0</td>\n",
       "      <td>0</td>\n",
       "      <td>0</td>\n",
       "      <td>0</td>\n",
       "      <td>0</td>\n",
       "      <td>1</td>\n",
       "      <td>0</td>\n",
       "      <td>0</td>\n",
       "      <td>0</td>\n",
       "    </tr>\n",
       "    <tr>\n",
       "      <th>2013-01-02</th>\n",
       "      <td>False</td>\n",
       "      <td>1</td>\n",
       "      <td>0</td>\n",
       "      <td>1</td>\n",
       "      <td>0</td>\n",
       "      <td>0</td>\n",
       "      <td>0</td>\n",
       "      <td>0</td>\n",
       "      <td>0</td>\n",
       "      <td>0</td>\n",
       "      <td>0</td>\n",
       "      <td>0</td>\n",
       "      <td>0</td>\n",
       "      <td>0</td>\n",
       "      <td>0</td>\n",
       "    </tr>\n",
       "    <tr>\n",
       "      <th>2013-01-03</th>\n",
       "      <td>False</td>\n",
       "      <td>1</td>\n",
       "      <td>0</td>\n",
       "      <td>0</td>\n",
       "      <td>1</td>\n",
       "      <td>0</td>\n",
       "      <td>0</td>\n",
       "      <td>0</td>\n",
       "      <td>0</td>\n",
       "      <td>0</td>\n",
       "      <td>0</td>\n",
       "      <td>0</td>\n",
       "      <td>0</td>\n",
       "      <td>0</td>\n",
       "      <td>0</td>\n",
       "    </tr>\n",
       "    <tr>\n",
       "      <th>2013-01-04</th>\n",
       "      <td>False</td>\n",
       "      <td>1</td>\n",
       "      <td>0</td>\n",
       "      <td>0</td>\n",
       "      <td>0</td>\n",
       "      <td>1</td>\n",
       "      <td>0</td>\n",
       "      <td>0</td>\n",
       "      <td>0</td>\n",
       "      <td>0</td>\n",
       "      <td>0</td>\n",
       "      <td>0</td>\n",
       "      <td>0</td>\n",
       "      <td>0</td>\n",
       "      <td>0</td>\n",
       "    </tr>\n",
       "    <tr>\n",
       "      <th>2013-01-05</th>\n",
       "      <td>False</td>\n",
       "      <td>1</td>\n",
       "      <td>0</td>\n",
       "      <td>0</td>\n",
       "      <td>0</td>\n",
       "      <td>0</td>\n",
       "      <td>1</td>\n",
       "      <td>0</td>\n",
       "      <td>0</td>\n",
       "      <td>0</td>\n",
       "      <td>0</td>\n",
       "      <td>0</td>\n",
       "      <td>0</td>\n",
       "      <td>1</td>\n",
       "      <td>0</td>\n",
       "    </tr>\n",
       "    <tr>\n",
       "      <th>...</th>\n",
       "      <td>...</td>\n",
       "      <td>...</td>\n",
       "      <td>...</td>\n",
       "      <td>...</td>\n",
       "      <td>...</td>\n",
       "      <td>...</td>\n",
       "      <td>...</td>\n",
       "      <td>...</td>\n",
       "      <td>...</td>\n",
       "      <td>...</td>\n",
       "      <td>...</td>\n",
       "      <td>...</td>\n",
       "      <td>...</td>\n",
       "      <td>...</td>\n",
       "      <td>...</td>\n",
       "    </tr>\n",
       "    <tr>\n",
       "      <th>2017-08-27</th>\n",
       "      <td>False</td>\n",
       "      <td>0</td>\n",
       "      <td>0</td>\n",
       "      <td>0</td>\n",
       "      <td>0</td>\n",
       "      <td>0</td>\n",
       "      <td>0</td>\n",
       "      <td>1</td>\n",
       "      <td>0</td>\n",
       "      <td>0</td>\n",
       "      <td>0</td>\n",
       "      <td>0</td>\n",
       "      <td>0</td>\n",
       "      <td>0</td>\n",
       "      <td>1</td>\n",
       "    </tr>\n",
       "    <tr>\n",
       "      <th>2017-08-28</th>\n",
       "      <td>False</td>\n",
       "      <td>1</td>\n",
       "      <td>0</td>\n",
       "      <td>0</td>\n",
       "      <td>0</td>\n",
       "      <td>0</td>\n",
       "      <td>0</td>\n",
       "      <td>0</td>\n",
       "      <td>0</td>\n",
       "      <td>0</td>\n",
       "      <td>0</td>\n",
       "      <td>0</td>\n",
       "      <td>0</td>\n",
       "      <td>0</td>\n",
       "      <td>1</td>\n",
       "    </tr>\n",
       "    <tr>\n",
       "      <th>2017-08-29</th>\n",
       "      <td>False</td>\n",
       "      <td>1</td>\n",
       "      <td>1</td>\n",
       "      <td>0</td>\n",
       "      <td>0</td>\n",
       "      <td>0</td>\n",
       "      <td>0</td>\n",
       "      <td>0</td>\n",
       "      <td>0</td>\n",
       "      <td>0</td>\n",
       "      <td>0</td>\n",
       "      <td>0</td>\n",
       "      <td>0</td>\n",
       "      <td>0</td>\n",
       "      <td>1</td>\n",
       "    </tr>\n",
       "    <tr>\n",
       "      <th>2017-08-30</th>\n",
       "      <td>False</td>\n",
       "      <td>1</td>\n",
       "      <td>0</td>\n",
       "      <td>1</td>\n",
       "      <td>0</td>\n",
       "      <td>0</td>\n",
       "      <td>0</td>\n",
       "      <td>0</td>\n",
       "      <td>0</td>\n",
       "      <td>0</td>\n",
       "      <td>0</td>\n",
       "      <td>0</td>\n",
       "      <td>0</td>\n",
       "      <td>0</td>\n",
       "      <td>1</td>\n",
       "    </tr>\n",
       "    <tr>\n",
       "      <th>2017-08-31</th>\n",
       "      <td>False</td>\n",
       "      <td>1</td>\n",
       "      <td>0</td>\n",
       "      <td>0</td>\n",
       "      <td>1</td>\n",
       "      <td>0</td>\n",
       "      <td>0</td>\n",
       "      <td>0</td>\n",
       "      <td>0</td>\n",
       "      <td>0</td>\n",
       "      <td>0</td>\n",
       "      <td>0</td>\n",
       "      <td>0</td>\n",
       "      <td>0</td>\n",
       "      <td>1</td>\n",
       "    </tr>\n",
       "  </tbody>\n",
       "</table>\n",
       "<p>1704 rows × 15 columns</p>\n",
       "</div>"
      ],
      "text/plain": [
       "            NewYear  wd  dofw_1  dofw_2  dofw_3  dofw_4  dofw_5  dofw_6  \\\n",
       "2013-01-01     True   0       1       0       0       0       0       0   \n",
       "2013-01-02    False   1       0       1       0       0       0       0   \n",
       "2013-01-03    False   1       0       0       1       0       0       0   \n",
       "2013-01-04    False   1       0       0       0       1       0       0   \n",
       "2013-01-05    False   1       0       0       0       0       1       0   \n",
       "...             ...  ..     ...     ...     ...     ...     ...     ...   \n",
       "2017-08-27    False   0       0       0       0       0       0       1   \n",
       "2017-08-28    False   1       0       0       0       0       0       0   \n",
       "2017-08-29    False   1       1       0       0       0       0       0   \n",
       "2017-08-30    False   1       0       1       0       0       0       0   \n",
       "2017-08-31    False   1       0       0       1       0       0       0   \n",
       "\n",
       "            type_Additional  type_Bridge  type_Event  type_Holiday  \\\n",
       "2013-01-01                0            0           0             1   \n",
       "2013-01-02                0            0           0             0   \n",
       "2013-01-03                0            0           0             0   \n",
       "2013-01-04                0            0           0             0   \n",
       "2013-01-05                0            0           0             0   \n",
       "...                     ...          ...         ...           ...   \n",
       "2017-08-27                0            0           0             0   \n",
       "2017-08-28                0            0           0             0   \n",
       "2017-08-29                0            0           0             0   \n",
       "2017-08-30                0            0           0             0   \n",
       "2017-08-31                0            0           0             0   \n",
       "\n",
       "            type_Transfer  type_Work Day  school_season  \n",
       "2013-01-01              0              0              0  \n",
       "2013-01-02              0              0              0  \n",
       "2013-01-03              0              0              0  \n",
       "2013-01-04              0              0              0  \n",
       "2013-01-05              0              1              0  \n",
       "...                   ...            ...            ...  \n",
       "2017-08-27              0              0              1  \n",
       "2017-08-28              0              0              1  \n",
       "2017-08-29              0              0              1  \n",
       "2017-08-30              0              0              1  \n",
       "2017-08-31              0              0              1  \n",
       "\n",
       "[1704 rows x 15 columns]"
      ]
     },
     "execution_count": 12,
     "metadata": {},
     "output_type": "execute_result"
    }
   ],
   "source": [
    "#calendar = X.join(hol)\n",
    "calendar = pd.DataFrame(index = pd.date_range('2013-01-01', '2017-08-31')).to_period('D')\n",
    "\n",
    "calendar['NewYear'] = (calendar.index.dayofyear == 1)\n",
    "\n",
    "calendar['dofw'] = calendar.index.dayofweek # Weekly day\n",
    "calendar['wd'] = True\n",
    "calendar.loc[calendar.dofw > 4, 'wd'] = False # not work day\n",
    "\n",
    "calendar = calendar.join(hol) # Joining calendar with holiday dataset\n",
    "calendar['dofw'] = calendar.index.dayofweek # Weekly day\n",
    "calendar['wd'] = 1\n",
    "calendar.loc[calendar.dofw > 4, 'wd'] = 0 # If it's saturday or sunday then it's not Weekday\n",
    "calendar.loc[calendar.type == 'Work Day', 'wd'] = 1 # If it's Work Day event then it's a workday\n",
    "calendar.loc[calendar.type == 'Transfer', 'wd'] = 0 # If it's Transfer event then it's not a work day\n",
    "calendar.loc[calendar.type == 'Bridge', 'wd'] = 0 # If it's Bridge event then it's not a work day\n",
    "calendar.loc[(calendar.type == 'Holiday') & (calendar.transferred == False), 'wd'] = 0 # If it's holiday and the holiday is not transferred then it's holiday\n",
    "calendar.loc[(calendar.type == 'Holiday') & (calendar.transferred == True), 'wd'] = 1 # If it's holiday and transferred then it's not holiday\n",
    "calendar = pd.get_dummies(calendar, columns = ['dofw'], drop_first = True) # One-hot encoding (Make sure to drop one of the columns by 'drop_first = True')\n",
    "calendar = pd.get_dummies(calendar, columns = ['type']) # One-hot encoding for type holiday (No need to drop one of the columns because there's a \"No holiday\" already)\n",
    "calendar.drop(['locale', 'locale_name', 'description', 'transferred'], axis = 1, inplace = True) # Unused columns\n",
    "\n",
    "\n",
    "school_season = [] # Feature for school fluctuations\n",
    "for i, r in calendar.iterrows() :\n",
    "    if i.month in [4, 5, 8, 9] :\n",
    "        school_season.append(1)\n",
    "    else :\n",
    "        school_season.append(0)\n",
    "calendar['school_season'] = school_season\n",
    "\n",
    "calendar"
   ]
  },
  {
   "cell_type": "code",
   "execution_count": 13,
   "id": "69eeae7d",
   "metadata": {
    "execution": {
     "iopub.execute_input": "2022-05-18T02:17:43.664765Z",
     "iopub.status.busy": "2022-05-18T02:17:43.664180Z",
     "iopub.status.idle": "2022-05-18T02:17:43.693272Z",
     "shell.execute_reply": "2022-05-18T02:17:43.692450Z",
     "shell.execute_reply.started": "2022-05-18T02:08:59.544283Z"
    },
    "papermill": {
     "duration": 0.089119,
     "end_time": "2022-05-18T02:17:43.693467",
     "exception": false,
     "start_time": "2022-05-18T02:17:43.604348",
     "status": "completed"
    },
    "tags": []
   },
   "outputs": [],
   "source": [
    "#X = X.join( oil.rename('Oil') , on='date').fillna(method = 'bfill')\n",
    "\n",
    "oilInitial = oil[timeInitial:] \n",
    "\n",
    "fourier = CalendarFourier(freq='M', order=4)\n",
    "dpOil = DeterministicProcess(\n",
    "    index=oilInitial.index,\n",
    "    constant=True,\n",
    "    order=1,\n",
    "    seasonal=True,\n",
    "    additional_terms=[fourier],\n",
    "    drop=True,\n",
    ")\n",
    "\n",
    "Xoil = dpOil.in_sample()\n"
   ]
  },
  {
   "cell_type": "markdown",
   "id": "6c6b3d74",
   "metadata": {
    "papermill": {
     "duration": 0.05728,
     "end_time": "2022-05-18T02:17:43.899063",
     "exception": false,
     "start_time": "2022-05-18T02:17:43.841783",
     "status": "completed"
    },
    "tags": []
   },
   "source": [
    "Missing Values Count"
   ]
  },
  {
   "cell_type": "code",
   "execution_count": 14,
   "id": "2e314577",
   "metadata": {
    "execution": {
     "iopub.execute_input": "2022-05-18T02:17:44.019623Z",
     "iopub.status.busy": "2022-05-18T02:17:44.018981Z",
     "iopub.status.idle": "2022-05-18T02:17:44.022859Z",
     "shell.execute_reply": "2022-05-18T02:17:44.023443Z",
     "shell.execute_reply.started": "2022-05-18T02:09:00.756939Z"
    },
    "papermill": {
     "duration": 0.067528,
     "end_time": "2022-05-18T02:17:44.023669",
     "exception": false,
     "start_time": "2022-05-18T02:17:43.956141",
     "status": "completed"
    },
    "tags": []
   },
   "outputs": [
    {
     "name": "stdout",
     "output_type": "stream",
     "text": [
      "Num_null:  0\n"
     ]
    }
   ],
   "source": [
    "\n",
    "missingValueCount = X1.isnull().sum()\n",
    "print('Num_null: ' , missingValueCount.sum() )\n",
    "#X2 = X2.dropna()\n",
    "#X2 = X2.fillna(0)\n"
   ]
  },
  {
   "cell_type": "markdown",
   "id": "5d42ea8a",
   "metadata": {
    "papermill": {
     "duration": 0.058159,
     "end_time": "2022-05-18T02:17:44.140313",
     "exception": false,
     "start_time": "2022-05-18T02:17:44.082154",
     "status": "completed"
    },
    "tags": []
   },
   "source": [
    "Add new columns to train set. From Lag's graph, we consider seven Lags. While Oil, we saw that three Lags are enough."
   ]
  },
  {
   "cell_type": "code",
   "execution_count": 15,
   "id": "a133126e",
   "metadata": {
    "execution": {
     "iopub.execute_input": "2022-05-18T02:17:44.261884Z",
     "iopub.status.busy": "2022-05-18T02:17:44.261220Z",
     "iopub.status.idle": "2022-05-18T02:17:44.508648Z",
     "shell.execute_reply": "2022-05-18T02:17:44.509043Z",
     "shell.execute_reply.started": "2022-05-18T02:09:01.445854Z"
    },
    "papermill": {
     "duration": 0.311237,
     "end_time": "2022-05-18T02:17:44.509204",
     "exception": false,
     "start_time": "2022-05-18T02:17:44.197967",
     "status": "completed"
    },
    "tags": []
   },
   "outputs": [
    {
     "data": {
      "image/png": "[encoded data removed]",
      "text/plain": [
       "<Figure size 432x288 with 1 Axes>"
      ]
     },
     "metadata": {
      "needs_background": "light"
     },
     "output_type": "display_data"
    }
   ],
   "source": [
    "calendar['Oil'] = dfOil['ma_oil']\n",
    "\n",
    "\n",
    "_ = plot_pacf(calendar.Oil, lags = 12) # Lagplot oil price (Feature Engineering)\n",
    "\n",
    "# first \n",
    "n_lags = 3\n",
    "for l in range(1, n_lags + 1) :\n",
    "    calendar[f'oil_lags{l}'] = calendar.Oil.shift(l)\n",
    "\n",
    "\n",
    "    \n",
    "#X2.Oil.fillna(value = oil.mean() , inplace=True ) # drop values NaNs\n",
    "#X2.fillna(method='ffill') # drop values NaNs\n",
    "\n",
    "#X2['salesLag1'] = average_sales.sales.shift(periods=1, freq='D')\n",
    "#X2['salesLag2'] = average_sales.sales.shift(2)\n"
   ]
  },
  {
   "cell_type": "code",
   "execution_count": 16,
   "id": "d3f54ff5",
   "metadata": {
    "execution": {
     "iopub.execute_input": "2022-05-18T02:17:44.628503Z",
     "iopub.status.busy": "2022-05-18T02:17:44.627980Z",
     "iopub.status.idle": "2022-05-18T02:17:44.633144Z",
     "shell.execute_reply": "2022-05-18T02:17:44.633583Z",
     "shell.execute_reply.started": "2022-05-18T02:09:02.249642Z"
    },
    "papermill": {
     "duration": 0.066273,
     "end_time": "2022-05-18T02:17:44.633733",
     "exception": false,
     "start_time": "2022-05-18T02:17:44.567460",
     "status": "completed"
    },
    "tags": []
   },
   "outputs": [],
   "source": [
    "X1 = X1.join(calendar)"
   ]
  },
  {
   "cell_type": "code",
   "execution_count": 17,
   "id": "b02490e9",
   "metadata": {
    "execution": {
     "iopub.execute_input": "2022-05-18T02:17:44.753455Z",
     "iopub.status.busy": "2022-05-18T02:17:44.752855Z",
     "iopub.status.idle": "2022-05-18T02:17:44.766581Z",
     "shell.execute_reply": "2022-05-18T02:17:44.767227Z",
     "shell.execute_reply.started": "2022-05-18T02:09:02.857629Z"
    },
    "papermill": {
     "duration": 0.07538,
     "end_time": "2022-05-18T02:17:44.767431",
     "exception": false,
     "start_time": "2022-05-18T02:17:44.692051",
     "status": "completed"
    },
    "tags": []
   },
   "outputs": [],
   "source": [
    "X1['Onpromotion'] = average_sales['onpromotion']\n",
    "X1['salesLag7'] = average_sales.sales.shift(7)\n",
    "\n",
    "X2 = X1.join( Xoil , on='date', rsuffix='RT').fillna(method = 'ffill')\n",
    "\n",
    "#X = X.join( oil.rename('Oil') , on='date').fillna(method = 'bfill')\n",
    "\n",
    "#X1.fillna(method='ffill') # drop values NaNs\n",
    "\n",
    "X2.dropna(how='any', axis=0, inplace=True) # drop values NaNs\n"
   ]
  },
  {
   "cell_type": "code",
   "execution_count": 18,
   "id": "76541228",
   "metadata": {
    "execution": {
     "iopub.execute_input": "2022-05-18T02:17:44.893811Z",
     "iopub.status.busy": "2022-05-18T02:17:44.893160Z",
     "iopub.status.idle": "2022-05-18T02:17:44.904038Z",
     "shell.execute_reply": "2022-05-18T02:17:44.903363Z",
     "shell.execute_reply.started": "2022-05-18T02:09:03.232307Z"
    },
    "papermill": {
     "duration": 0.076907,
     "end_time": "2022-05-18T02:17:44.904174",
     "exception": false,
     "start_time": "2022-05-18T02:17:44.827267",
     "status": "completed"
    },
    "tags": []
   },
   "outputs": [],
   "source": [
    "dateRange =  X2.index\n",
    "\n",
    "# train set and target train\n",
    "y_train = y.loc[dateRange]\n",
    "Xtrain=X2.copy()"
   ]
  },
  {
   "cell_type": "markdown",
   "id": "e6357576",
   "metadata": {
    "papermill": {
     "duration": 0.05838,
     "end_time": "2022-05-18T02:17:45.021139",
     "exception": false,
     "start_time": "2022-05-18T02:17:44.962759",
     "status": "completed"
    },
    "tags": []
   },
   "source": [
    "#  **Hybrid Model**\n",
    "\n",
    "First  model to get us seasonal information. Meanwhile, the second model will take care of training the rest of the data.\n",
    "While, second model to  training  rest of train set."
   ]
  },
  {
   "cell_type": "code",
   "execution_count": 19,
   "id": "31b92a2d",
   "metadata": {
    "execution": {
     "iopub.execute_input": "2022-05-18T02:17:45.146178Z",
     "iopub.status.busy": "2022-05-18T02:17:45.145564Z",
     "iopub.status.idle": "2022-05-18T02:19:14.092870Z",
     "shell.execute_reply": "2022-05-18T02:19:14.093678Z",
     "shell.execute_reply.started": "2022-05-18T02:09:03.731008Z"
    },
    "papermill": {
     "duration": 89.01411,
     "end_time": "2022-05-18T02:19:14.093975",
     "exception": false,
     "start_time": "2022-05-18T02:17:45.079865",
     "status": "completed"
    },
    "tags": []
   },
   "outputs": [],
   "source": [
    "# The data set is already  divided, test Train\n",
    "model1 = RandomForestRegressor(random_state = 42)\n",
    "model1.fit(Xtrain, y_train)\n",
    "\n",
    "y_fit = model1.predict(Xtrain)\n",
    "\n",
    "y_resid = y_train - y_fit\n",
    "\n",
    "\n",
    "\n",
    "#model = LinearRegression(fit_intercept=False)\n",
    "model = LinearRegression(fit_intercept = True, n_jobs = -1, normalize = True) # argument to improvemnt considerment performance\n",
    "\n",
    "# model = LGBMRegressor(random_state = 42) \"not work with  mulpli-columns\"\n",
    "\n",
    "model.fit(Xtrain, y_resid)\n",
    "y_pred = pd.DataFrame(model.predict(Xtrain), index=Xtrain.index, columns=y.columns)\n",
    "\n",
    "\n",
    "yLR_RF = y_pred + y_fit\n",
    "#y_pred_boosted = xgb.predict(X_test) + y_pred"
   ]
  },
  {
   "cell_type": "code",
   "execution_count": 20,
   "id": "37c3cae9",
   "metadata": {
    "execution": {
     "iopub.execute_input": "2022-05-18T02:19:14.290416Z",
     "iopub.status.busy": "2022-05-18T02:19:14.289446Z",
     "iopub.status.idle": "2022-05-18T02:19:14.301737Z",
     "shell.execute_reply": "2022-05-18T02:19:14.301066Z",
     "shell.execute_reply.started": "2022-05-18T02:10:31.038259Z"
    },
    "papermill": {
     "duration": 0.079561,
     "end_time": "2022-05-18T02:19:14.301923",
     "exception": false,
     "start_time": "2022-05-18T02:19:14.222362",
     "status": "completed"
    },
    "tags": []
   },
   "outputs": [
    {
     "name": "stdout",
     "output_type": "stream",
     "text": [
      "<class 'pandas.core.frame.DataFrame'>\n",
      "PeriodIndex: 592 entries, 2016-01-01 to 2017-08-15\n",
      "Freq: D\n",
      "Data columns (total 53 columns):\n",
      " #   Column           Non-Null Count  Dtype  \n",
      "---  ------           --------------  -----  \n",
      " 0   const            592 non-null    float64\n",
      " 1   trend            592 non-null    float64\n",
      " 2   s(2,7)           592 non-null    float64\n",
      " 3   s(3,7)           592 non-null    float64\n",
      " 4   s(4,7)           592 non-null    float64\n",
      " 5   s(5,7)           592 non-null    float64\n",
      " 6   s(6,7)           592 non-null    float64\n",
      " 7   s(7,7)           592 non-null    float64\n",
      " 8   sin(1,freq=M)    592 non-null    float64\n",
      " 9   cos(1,freq=M)    592 non-null    float64\n",
      " 10  sin(2,freq=M)    592 non-null    float64\n",
      " 11  cos(2,freq=M)    592 non-null    float64\n",
      " 12  sin(3,freq=M)    592 non-null    float64\n",
      " 13  cos(3,freq=M)    592 non-null    float64\n",
      " 14  sin(4,freq=M)    592 non-null    float64\n",
      " 15  cos(4,freq=M)    592 non-null    float64\n",
      " 16  NewYear          592 non-null    bool   \n",
      " 17  wd               592 non-null    int64  \n",
      " 18  dofw_1           592 non-null    uint8  \n",
      " 19  dofw_2           592 non-null    uint8  \n",
      " 20  dofw_3           592 non-null    uint8  \n",
      " 21  dofw_4           592 non-null    uint8  \n",
      " 22  dofw_5           592 non-null    uint8  \n",
      " 23  dofw_6           592 non-null    uint8  \n",
      " 24  type_Additional  592 non-null    uint8  \n",
      " 25  type_Bridge      592 non-null    uint8  \n",
      " 26  type_Event       592 non-null    uint8  \n",
      " 27  type_Holiday     592 non-null    uint8  \n",
      " 28  type_Transfer    592 non-null    uint8  \n",
      " 29  type_Work Day    592 non-null    uint8  \n",
      " 30  school_season    592 non-null    int64  \n",
      " 31  Oil              592 non-null    float64\n",
      " 32  oil_lags1        592 non-null    float64\n",
      " 33  oil_lags2        592 non-null    float64\n",
      " 34  oil_lags3        592 non-null    float64\n",
      " 35  Onpromotion      592 non-null    float64\n",
      " 36  salesLag7        592 non-null    float32\n",
      " 37  constRT          592 non-null    float64\n",
      " 38  trendRT          592 non-null    float64\n",
      " 39  s(2,7)RT         592 non-null    float64\n",
      " 40  s(3,7)RT         592 non-null    float64\n",
      " 41  s(4,7)RT         592 non-null    float64\n",
      " 42  s(5,7)RT         592 non-null    float64\n",
      " 43  s(6,7)RT         592 non-null    float64\n",
      " 44  s(7,7)RT         592 non-null    float64\n",
      " 45  sin(1,freq=M)RT  592 non-null    float64\n",
      " 46  cos(1,freq=M)RT  592 non-null    float64\n",
      " 47  sin(2,freq=M)RT  592 non-null    float64\n",
      " 48  cos(2,freq=M)RT  592 non-null    float64\n",
      " 49  sin(3,freq=M)RT  592 non-null    float64\n",
      " 50  cos(3,freq=M)RT  592 non-null    float64\n",
      " 51  sin(4,freq=M)RT  592 non-null    float64\n",
      " 52  cos(4,freq=M)RT  592 non-null    float64\n",
      "dtypes: bool(1), float32(1), float64(37), int64(2), uint8(12)\n",
      "memory usage: 194.8 KB\n"
     ]
    }
   ],
   "source": [
    "Xtrain.info()"
   ]
  },
  {
   "cell_type": "markdown",
   "id": "2b4234c0",
   "metadata": {
    "papermill": {
     "duration": 0.063747,
     "end_time": "2022-05-18T02:19:14.432337",
     "exception": false,
     "start_time": "2022-05-18T02:19:14.368590",
     "status": "completed"
    },
    "tags": []
   },
   "source": [
    "In the next figure, we see the `Produce` sales at Store 1, compare the value of sales and value prediction by the hybrid model."
   ]
  },
  {
   "cell_type": "code",
   "execution_count": 21,
   "id": "bbda6803",
   "metadata": {
    "execution": {
     "iopub.execute_input": "2022-05-18T02:19:14.554456Z",
     "iopub.status.busy": "2022-05-18T02:19:14.553878Z",
     "iopub.status.idle": "2022-05-18T02:19:15.528018Z",
     "shell.execute_reply": "2022-05-18T02:19:15.527488Z",
     "shell.execute_reply.started": "2022-05-18T02:10:31.100484Z"
    },
    "papermill": {
     "duration": 1.036356,
     "end_time": "2022-05-18T02:19:15.528153",
     "exception": false,
     "start_time": "2022-05-18T02:19:14.491797",
     "status": "completed"
    },
    "tags": []
   },
   "outputs": [
    {
     "data": {
      "text/plain": [
       "CategoricalIndex(['AUTOMOTIVE', 'BABY CARE', 'BEAUTY', 'BEVERAGES', 'BOOKS',\n",
       "                  'BREAD/BAKERY', 'CELEBRATION', 'CLEANING', 'DAIRY', 'DELI',\n",
       "                  'EGGS', 'FROZEN FOODS', 'GROCERY I', 'GROCERY II',\n",
       "                  'HARDWARE', 'HOME AND KITCHEN I', 'HOME AND KITCHEN II',\n",
       "                  'HOME APPLIANCES', 'HOME CARE', 'LADIESWEAR',\n",
       "                  'LAWN AND GARDEN', 'LINGERIE', 'LIQUOR,WINE,BEER',\n",
       "                  'MAGAZINES', 'MEATS', 'PERSONAL CARE', 'PET SUPPLIES',\n",
       "                  'PLAYERS AND ELECTRONICS', 'POULTRY', 'PREPARED FOODS',\n",
       "                  'PRODUCE', 'SCHOOL AND OFFICE SUPPLIES', 'SEAFOOD'],\n",
       "                 categories=['AUTOMOTIVE', 'BABY CARE', 'BEAUTY', 'BEVERAGES', 'BOOKS', 'BREAD/BAKERY', 'CELEBRATION', 'CLEANING', ...], ordered=False, dtype='category', name='family')"
      ]
     },
     "metadata": {},
     "output_type": "display_data"
    },
    {
     "name": "stdout",
     "output_type": "stream",
     "text": [
      "<class 'pandas.core.frame.DataFrame'>\n",
      "PeriodIndex: 592 entries, 2016-01-01 to 2017-08-15\n",
      "Freq: D\n",
      "Columns: 3564 entries, ('sales', '1', 'AUTOMOTIVE') to ('onpromotion', '9', 'SEAFOOD')\n",
      "dtypes: float32(1782), uint32(1782)\n",
      "memory usage: 8.1 MB\n"
     ]
    },
    {
     "data": {
      "image/png": "[encoded data removed]",
      "text/plain": [
       "<Figure size 432x288 with 1 Axes>"
      ]
     },
     "metadata": {
      "needs_background": "light"
     },
     "output_type": "display_data"
    }
   ],
   "source": [
    "STORE_NBR = '1'  # 1 - 54\n",
    "FAMILY = 'PRODUCE'\n",
    "# Uncomment to see a list of product families\n",
    "display(store_sales.index.get_level_values('family').unique())\n",
    "\n",
    "ax = y_train.loc(axis=1)['sales', STORE_NBR, FAMILY].plot(**plot_params) # choose single store 1 and family equal produce. \n",
    "ax = yLR_RF.loc(axis=1)['sales', STORE_NBR, FAMILY].plot(ax=ax, color='red')\n",
    "ax.set_title(f'{FAMILY} Sales at Store {STORE_NBR}');\n",
    "\n",
    "y.info()"
   ]
  },
  {
   "cell_type": "markdown",
   "id": "d1521034",
   "metadata": {
    "papermill": {
     "duration": 0.061891,
     "end_time": "2022-05-18T02:19:15.656893",
     "exception": false,
     "start_time": "2022-05-18T02:19:15.595002",
     "status": "completed"
    },
    "tags": []
   },
   "source": [
    "### Metrics\n",
    "\n",
    "It's calculating metrics:\n",
    "\n",
    "- Mean Absolute Error MAE\n",
    "- Root Mean Squared Log Error RMSE"
   ]
  },
  {
   "cell_type": "code",
   "execution_count": 22,
   "id": "78ad372b",
   "metadata": {
    "execution": {
     "iopub.execute_input": "2022-05-18T02:19:15.788794Z",
     "iopub.status.busy": "2022-05-18T02:19:15.787223Z",
     "iopub.status.idle": "2022-05-18T02:19:15.819178Z",
     "shell.execute_reply": "2022-05-18T02:19:15.818659Z",
     "shell.execute_reply.started": "2022-05-18T02:10:31.867058Z"
    },
    "papermill": {
     "duration": 0.101132,
     "end_time": "2022-05-18T02:19:15.819311",
     "exception": false,
     "start_time": "2022-05-18T02:19:15.718179",
     "status": "completed"
    },
    "tags": []
   },
   "outputs": [],
   "source": [
    "Y = y_train.loc(axis=1)['sales', STORE_NBR, FAMILY]\n",
    "Ypred = yLR_RF.loc(axis=1)['sales', STORE_NBR, FAMILY]\n",
    "\n",
    "yfit_lnr = pd.DataFrame(yLR_RF, index = Xtrain.index, columns = y_train.columns).clip(0.)\n",
    "\n",
    "Mae = np.round(mae(Y, Ypred), 3)  \n",
    "#Rmsle =  np.round(msle(Y, Ypred)**0.5, 3 )"
   ]
  },
  {
   "cell_type": "code",
   "execution_count": 23,
   "id": "f24f5634",
   "metadata": {
    "execution": {
     "iopub.execute_input": "2022-05-18T02:19:15.949179Z",
     "iopub.status.busy": "2022-05-18T02:19:15.948478Z",
     "iopub.status.idle": "2022-05-18T02:19:17.023771Z",
     "shell.execute_reply": "2022-05-18T02:19:17.023233Z",
     "shell.execute_reply.started": "2022-05-18T02:10:31.900488Z"
    },
    "papermill": {
     "duration": 1.143202,
     "end_time": "2022-05-18T02:19:17.023921",
     "exception": false,
     "start_time": "2022-05-18T02:19:15.880719",
     "status": "completed"
    },
    "tags": []
   },
   "outputs": [
    {
     "name": "stdout",
     "output_type": "stream",
     "text": [
      "family\n",
      "AUTOMOTIVE                    0.242199\n",
      "BABY CARE                     0.123287\n",
      "BEAUTY                        0.227191\n",
      "BEVERAGES                     0.546491\n",
      "BOOKS                         0.107755\n",
      "BREAD/BAKERY                  0.372674\n",
      "CELEBRATION                   0.269299\n",
      "CLEANING                      0.438489\n",
      "DAIRY                         0.404359\n",
      "DELI                          0.294824\n",
      "EGGS                          0.289731\n",
      "FROZEN FOODS                  0.359261\n",
      "GROCERY I                     0.585797\n",
      "GROCERY II                    0.325606\n",
      "HARDWARE                      0.232017\n",
      "HOME AND KITCHEN I            0.300651\n",
      "HOME AND KITCHEN II           0.244954\n",
      "HOME APPLIANCES               0.147151\n",
      "HOME CARE                     0.299778\n",
      "LADIESWEAR                    0.234364\n",
      "LAWN AND GARDEN               0.302077\n",
      "LINGERIE                      0.333161\n",
      "LIQUOR,WINE,BEER              0.641923\n",
      "MAGAZINES                     0.234743\n",
      "MEATS                         0.479675\n",
      "PERSONAL CARE                 0.310346\n",
      "PET SUPPLIES                  0.208394\n",
      "PLAYERS AND ELECTRONICS       0.235181\n",
      "POULTRY                       0.307471\n",
      "PREPARED FOODS                0.216268\n",
      "PRODUCE                       0.515374\n",
      "SCHOOL AND OFFICE SUPPLIES    0.661097\n",
      "SEAFOOD                       0.236445\n",
      "dtype: float64\n",
      "RF+LNR RMSLE : 0.3059776717229985\n"
     ]
    }
   ],
   "source": [
    "y_pred2   = yLR_RF.stack(['store_nbr', 'family']).reset_index()\n",
    "y_target = y_train.stack(['store_nbr', 'family']).reset_index().copy()\n",
    "\n",
    "y_target['sales_pred'] = y_pred2['sales'].clip(0.) # Sales should be >= 0\n",
    "\n",
    "\n",
    "print( y_target.groupby('family').apply(lambda r: np.sqrt(msle(r['sales'], r['sales_pred'] ))) )\n",
    "print('RF+LNR RMSLE :', np.sqrt(  msle(y_train, yfit_lnr) ))"
   ]
  },
  {
   "cell_type": "markdown",
   "id": "452bc698",
   "metadata": {
    "papermill": {
     "duration": 0.061483,
     "end_time": "2022-05-18T02:19:17.147968",
     "exception": false,
     "start_time": "2022-05-18T02:19:17.086485",
     "status": "completed"
    },
    "tags": []
   },
   "source": [
    "We seek, there is overfiting. "
   ]
  },
  {
   "cell_type": "markdown",
   "id": "b8bdc65f",
   "metadata": {
    "papermill": {
     "duration": 0.061516,
     "end_time": "2022-05-18T02:19:17.271092",
     "exception": false,
     "start_time": "2022-05-18T02:19:17.209576",
     "status": "completed"
    },
    "tags": []
   },
   "source": [
    "# Test set\n",
    "\n",
    "The test set, building with same variables the train set, it has 16 steps.\n",
    "\n",
    "### Missing Values ###"
   ]
  },
  {
   "cell_type": "code",
   "execution_count": 24,
   "id": "362f1e2a",
   "metadata": {
    "execution": {
     "iopub.execute_input": "2022-05-18T02:19:17.401216Z",
     "iopub.status.busy": "2022-05-18T02:19:17.400460Z",
     "iopub.status.idle": "2022-05-18T02:19:17.454964Z",
     "shell.execute_reply": "2022-05-18T02:19:17.455504Z",
     "shell.execute_reply.started": "2022-05-18T02:10:32.851844Z"
    },
    "papermill": {
     "duration": 0.123356,
     "end_time": "2022-05-18T02:19:17.455721",
     "exception": false,
     "start_time": "2022-05-18T02:19:17.332365",
     "status": "completed"
    },
    "tags": []
   },
   "outputs": [],
   "source": [
    "df_test = pd.read_csv(\n",
    "    comp_dir / 'test.csv',\n",
    "    dtype={\n",
    "        'store_nbr': 'category',\n",
    "        'family': 'category',\n",
    "        'onpromotion': 'uint32',\n",
    "    },\n",
    "    parse_dates=['date'],\n",
    "    infer_datetime_format=True,\n",
    ")\n",
    "\n",
    "df_test['date'] = df_test.date.dt.to_period('D')\n",
    "df_test = df_test.set_index(['store_nbr', 'family', 'date']).sort_index()\n",
    "\n",
    "\n",
    "average_sales_test = (\n",
    "    df_test\n",
    "    .groupby('date').mean()\n",
    "    .squeeze()\n",
    "    .loc['2017']\n",
    ")\n",
    "\n",
    "\n",
    "#df_test = df_test.loc['2017'] \n",
    "# Create features for test set\n",
    "X_test = dp.out_of_sample(steps=16)\n",
    "X_testOil = dpOil.out_of_sample(steps=16)\n",
    "\n",
    "X_test.index.name = 'date'\n",
    "\n",
    "X_test1 = X_test.copy()\n",
    "\n",
    "\n",
    "\n",
    "\n",
    "X_test1 = X_test1.join(calendar)\n",
    "\n"
   ]
  },
  {
   "cell_type": "code",
   "execution_count": 25,
   "id": "290c0a2e",
   "metadata": {
    "execution": {
     "iopub.execute_input": "2022-05-18T02:19:17.597824Z",
     "iopub.status.busy": "2022-05-18T02:19:17.596710Z",
     "iopub.status.idle": "2022-05-18T02:19:17.599999Z",
     "shell.execute_reply": "2022-05-18T02:19:17.600653Z",
     "shell.execute_reply.started": "2022-05-18T02:10:32.912260Z"
    },
    "papermill": {
     "duration": 0.080054,
     "end_time": "2022-05-18T02:19:17.600882",
     "exception": false,
     "start_time": "2022-05-18T02:19:17.520828",
     "status": "completed"
    },
    "tags": []
   },
   "outputs": [
    {
     "name": "stdout",
     "output_type": "stream",
     "text": [
      "<class 'pandas.core.frame.DataFrame'>\n",
      "PeriodIndex: 1218 entries, 2013-01-01 to 2017-08-31\n",
      "Freq: D\n",
      "Data columns (total 16 columns):\n",
      " #   Column         Non-Null Count  Dtype  \n",
      "---  ------         --------------  -----  \n",
      " 0   const          1218 non-null   float64\n",
      " 1   trend          1218 non-null   float64\n",
      " 2   s(2,7)         1218 non-null   float64\n",
      " 3   s(3,7)         1218 non-null   float64\n",
      " 4   s(4,7)         1218 non-null   float64\n",
      " 5   s(5,7)         1218 non-null   float64\n",
      " 6   s(6,7)         1218 non-null   float64\n",
      " 7   s(7,7)         1218 non-null   float64\n",
      " 8   sin(1,freq=M)  1218 non-null   float64\n",
      " 9   cos(1,freq=M)  1218 non-null   float64\n",
      " 10  sin(2,freq=M)  1218 non-null   float64\n",
      " 11  cos(2,freq=M)  1218 non-null   float64\n",
      " 12  sin(3,freq=M)  1218 non-null   float64\n",
      " 13  cos(3,freq=M)  1218 non-null   float64\n",
      " 14  sin(4,freq=M)  1218 non-null   float64\n",
      " 15  cos(4,freq=M)  1218 non-null   float64\n",
      "dtypes: float64(16)\n",
      "memory usage: 161.8 KB\n"
     ]
    }
   ],
   "source": [
    "Xoil.info()"
   ]
  },
  {
   "cell_type": "markdown",
   "id": "bdb7fbe2",
   "metadata": {
    "papermill": {
     "duration": 0.06347,
     "end_time": "2022-05-18T02:19:17.733630",
     "exception": false,
     "start_time": "2022-05-18T02:19:17.670160",
     "status": "completed"
    },
    "tags": []
   },
   "source": [
    "Preparation Test set."
   ]
  },
  {
   "cell_type": "code",
   "execution_count": 26,
   "id": "62b24d7b",
   "metadata": {
    "execution": {
     "iopub.execute_input": "2022-05-18T02:19:17.868424Z",
     "iopub.status.busy": "2022-05-18T02:19:17.867506Z",
     "iopub.status.idle": "2022-05-18T02:19:17.870163Z",
     "shell.execute_reply": "2022-05-18T02:19:17.869682Z",
     "shell.execute_reply.started": "2022-05-18T02:10:32.925846Z"
    },
    "papermill": {
     "duration": 0.073603,
     "end_time": "2022-05-18T02:19:17.870299",
     "exception": false,
     "start_time": "2022-05-18T02:19:17.796696",
     "status": "completed"
    },
    "tags": []
   },
   "outputs": [],
   "source": [
    "X_test1['Onpromotion'] = average_sales_test['onpromotion']\n",
    "X_test1['salesLag7'] = average_sales.sales.shift(periods=16, freq='D')"
   ]
  },
  {
   "cell_type": "code",
   "execution_count": 27,
   "id": "bb941999",
   "metadata": {
    "execution": {
     "iopub.execute_input": "2022-05-18T02:19:18.021764Z",
     "iopub.status.busy": "2022-05-18T02:19:18.020796Z",
     "iopub.status.idle": "2022-05-18T02:19:18.025001Z",
     "shell.execute_reply": "2022-05-18T02:19:18.024506Z",
     "shell.execute_reply.started": "2022-05-18T02:10:32.939193Z"
    },
    "papermill": {
     "duration": 0.092472,
     "end_time": "2022-05-18T02:19:18.025129",
     "exception": false,
     "start_time": "2022-05-18T02:19:17.932657",
     "status": "completed"
    },
    "tags": []
   },
   "outputs": [
    {
     "data": {
      "text/html": [
       "<div>\n",
       "<style scoped>\n",
       "    .dataframe tbody tr th:only-of-type {\n",
       "        vertical-align: middle;\n",
       "    }\n",
       "\n",
       "    .dataframe tbody tr th {\n",
       "        vertical-align: top;\n",
       "    }\n",
       "\n",
       "    .dataframe thead th {\n",
       "        text-align: right;\n",
       "    }\n",
       "</style>\n",
       "<table border=\"1\" class=\"dataframe\">\n",
       "  <thead>\n",
       "    <tr style=\"text-align: right;\">\n",
       "      <th></th>\n",
       "      <th>const</th>\n",
       "      <th>trend</th>\n",
       "      <th>s(2,7)</th>\n",
       "      <th>s(3,7)</th>\n",
       "      <th>s(4,7)</th>\n",
       "      <th>s(5,7)</th>\n",
       "      <th>s(6,7)</th>\n",
       "      <th>s(7,7)</th>\n",
       "      <th>sin(1,freq=M)</th>\n",
       "      <th>cos(1,freq=M)</th>\n",
       "      <th>...</th>\n",
       "      <th>type_Holiday</th>\n",
       "      <th>type_Transfer</th>\n",
       "      <th>type_Work Day</th>\n",
       "      <th>school_season</th>\n",
       "      <th>Oil</th>\n",
       "      <th>oil_lags1</th>\n",
       "      <th>oil_lags2</th>\n",
       "      <th>oil_lags3</th>\n",
       "      <th>Onpromotion</th>\n",
       "      <th>salesLag7</th>\n",
       "    </tr>\n",
       "    <tr>\n",
       "      <th>date</th>\n",
       "      <th></th>\n",
       "      <th></th>\n",
       "      <th></th>\n",
       "      <th></th>\n",
       "      <th></th>\n",
       "      <th></th>\n",
       "      <th></th>\n",
       "      <th></th>\n",
       "      <th></th>\n",
       "      <th></th>\n",
       "      <th></th>\n",
       "      <th></th>\n",
       "      <th></th>\n",
       "      <th></th>\n",
       "      <th></th>\n",
       "      <th></th>\n",
       "      <th></th>\n",
       "      <th></th>\n",
       "      <th></th>\n",
       "      <th></th>\n",
       "      <th></th>\n",
       "    </tr>\n",
       "  </thead>\n",
       "  <tbody>\n",
       "    <tr>\n",
       "      <th>2017-08-16</th>\n",
       "      <td>1.0</td>\n",
       "      <td>593.0</td>\n",
       "      <td>0.0</td>\n",
       "      <td>0.0</td>\n",
       "      <td>0.0</td>\n",
       "      <td>1.0</td>\n",
       "      <td>0.0</td>\n",
       "      <td>0.0</td>\n",
       "      <td>0.101168</td>\n",
       "      <td>-0.994869</td>\n",
       "      <td>...</td>\n",
       "      <td>0</td>\n",
       "      <td>0</td>\n",
       "      <td>0</td>\n",
       "      <td>1</td>\n",
       "      <td>48.281429</td>\n",
       "      <td>48.648572</td>\n",
       "      <td>48.934286</td>\n",
       "      <td>NaN</td>\n",
       "      <td>17.137486</td>\n",
       "      <td>497.113831</td>\n",
       "    </tr>\n",
       "    <tr>\n",
       "      <th>2017-08-17</th>\n",
       "      <td>1.0</td>\n",
       "      <td>594.0</td>\n",
       "      <td>0.0</td>\n",
       "      <td>0.0</td>\n",
       "      <td>0.0</td>\n",
       "      <td>0.0</td>\n",
       "      <td>1.0</td>\n",
       "      <td>0.0</td>\n",
       "      <td>-0.101168</td>\n",
       "      <td>-0.994869</td>\n",
       "      <td>...</td>\n",
       "      <td>0</td>\n",
       "      <td>0</td>\n",
       "      <td>0</td>\n",
       "      <td>1</td>\n",
       "      <td>47.995714</td>\n",
       "      <td>48.281429</td>\n",
       "      <td>48.648572</td>\n",
       "      <td>48.934286</td>\n",
       "      <td>4.211560</td>\n",
       "      <td>554.729370</td>\n",
       "    </tr>\n",
       "    <tr>\n",
       "      <th>2017-08-18</th>\n",
       "      <td>1.0</td>\n",
       "      <td>595.0</td>\n",
       "      <td>0.0</td>\n",
       "      <td>0.0</td>\n",
       "      <td>0.0</td>\n",
       "      <td>0.0</td>\n",
       "      <td>0.0</td>\n",
       "      <td>1.0</td>\n",
       "      <td>-0.299363</td>\n",
       "      <td>-0.954139</td>\n",
       "      <td>...</td>\n",
       "      <td>0</td>\n",
       "      <td>0</td>\n",
       "      <td>0</td>\n",
       "      <td>1</td>\n",
       "      <td>47.852857</td>\n",
       "      <td>47.995714</td>\n",
       "      <td>48.281429</td>\n",
       "      <td>48.648572</td>\n",
       "      <td>7.731201</td>\n",
       "      <td>541.364746</td>\n",
       "    </tr>\n",
       "    <tr>\n",
       "      <th>2017-08-19</th>\n",
       "      <td>1.0</td>\n",
       "      <td>596.0</td>\n",
       "      <td>0.0</td>\n",
       "      <td>0.0</td>\n",
       "      <td>0.0</td>\n",
       "      <td>0.0</td>\n",
       "      <td>0.0</td>\n",
       "      <td>0.0</td>\n",
       "      <td>-0.485302</td>\n",
       "      <td>-0.874347</td>\n",
       "      <td>...</td>\n",
       "      <td>0</td>\n",
       "      <td>0</td>\n",
       "      <td>0</td>\n",
       "      <td>1</td>\n",
       "      <td>NaN</td>\n",
       "      <td>47.852857</td>\n",
       "      <td>47.995714</td>\n",
       "      <td>48.281429</td>\n",
       "      <td>4.833895</td>\n",
       "      <td>408.568176</td>\n",
       "    </tr>\n",
       "    <tr>\n",
       "      <th>2017-08-20</th>\n",
       "      <td>1.0</td>\n",
       "      <td>597.0</td>\n",
       "      <td>1.0</td>\n",
       "      <td>0.0</td>\n",
       "      <td>0.0</td>\n",
       "      <td>0.0</td>\n",
       "      <td>0.0</td>\n",
       "      <td>0.0</td>\n",
       "      <td>-0.651372</td>\n",
       "      <td>-0.758758</td>\n",
       "      <td>...</td>\n",
       "      <td>0</td>\n",
       "      <td>0</td>\n",
       "      <td>0</td>\n",
       "      <td>1</td>\n",
       "      <td>NaN</td>\n",
       "      <td>NaN</td>\n",
       "      <td>47.852857</td>\n",
       "      <td>47.995714</td>\n",
       "      <td>5.338384</td>\n",
       "      <td>464.520599</td>\n",
       "    </tr>\n",
       "  </tbody>\n",
       "</table>\n",
       "<p>5 rows × 37 columns</p>\n",
       "</div>"
      ],
      "text/plain": [
       "            const  trend  s(2,7)  s(3,7)  s(4,7)  s(5,7)  s(6,7)  s(7,7)  \\\n",
       "date                                                                       \n",
       "2017-08-16    1.0  593.0     0.0     0.0     0.0     1.0     0.0     0.0   \n",
       "2017-08-17    1.0  594.0     0.0     0.0     0.0     0.0     1.0     0.0   \n",
       "2017-08-18    1.0  595.0     0.0     0.0     0.0     0.0     0.0     1.0   \n",
       "2017-08-19    1.0  596.0     0.0     0.0     0.0     0.0     0.0     0.0   \n",
       "2017-08-20    1.0  597.0     1.0     0.0     0.0     0.0     0.0     0.0   \n",
       "\n",
       "            sin(1,freq=M)  cos(1,freq=M)  ...  type_Holiday  type_Transfer  \\\n",
       "date                                      ...                                \n",
       "2017-08-16       0.101168      -0.994869  ...             0              0   \n",
       "2017-08-17      -0.101168      -0.994869  ...             0              0   \n",
       "2017-08-18      -0.299363      -0.954139  ...             0              0   \n",
       "2017-08-19      -0.485302      -0.874347  ...             0              0   \n",
       "2017-08-20      -0.651372      -0.758758  ...             0              0   \n",
       "\n",
       "            type_Work Day  school_season        Oil  oil_lags1  oil_lags2  \\\n",
       "date                                                                        \n",
       "2017-08-16              0              1  48.281429  48.648572  48.934286   \n",
       "2017-08-17              0              1  47.995714  48.281429  48.648572   \n",
       "2017-08-18              0              1  47.852857  47.995714  48.281429   \n",
       "2017-08-19              0              1        NaN  47.852857  47.995714   \n",
       "2017-08-20              0              1        NaN        NaN  47.852857   \n",
       "\n",
       "            oil_lags3  Onpromotion   salesLag7  \n",
       "date                                            \n",
       "2017-08-16        NaN    17.137486  497.113831  \n",
       "2017-08-17  48.934286     4.211560  554.729370  \n",
       "2017-08-18  48.648572     7.731201  541.364746  \n",
       "2017-08-19  48.281429     4.833895  408.568176  \n",
       "2017-08-20  47.995714     5.338384  464.520599  \n",
       "\n",
       "[5 rows x 37 columns]"
      ]
     },
     "execution_count": 27,
     "metadata": {},
     "output_type": "execute_result"
    }
   ],
   "source": [
    "X_test1.head()"
   ]
  },
  {
   "cell_type": "code",
   "execution_count": 28,
   "id": "b09fc5d1",
   "metadata": {
    "execution": {
     "iopub.execute_input": "2022-05-18T02:19:18.160268Z",
     "iopub.status.busy": "2022-05-18T02:19:18.159693Z",
     "iopub.status.idle": "2022-05-18T02:19:18.161606Z",
     "shell.execute_reply": "2022-05-18T02:19:18.161036Z",
     "shell.execute_reply.started": "2022-05-18T02:10:32.972459Z"
    },
    "papermill": {
     "duration": 0.072033,
     "end_time": "2022-05-18T02:19:18.161730",
     "exception": false,
     "start_time": "2022-05-18T02:19:18.089697",
     "status": "completed"
    },
    "tags": []
   },
   "outputs": [],
   "source": [
    "X_test2 = X_test1.join( Xoil , on='date', rsuffix='RT').fillna(method = 'ffill')"
   ]
  },
  {
   "cell_type": "code",
   "execution_count": 29,
   "id": "7d28adac",
   "metadata": {
    "execution": {
     "iopub.execute_input": "2022-05-18T02:19:18.317100Z",
     "iopub.status.busy": "2022-05-18T02:19:18.304744Z",
     "iopub.status.idle": "2022-05-18T02:19:18.324080Z",
     "shell.execute_reply": "2022-05-18T02:19:18.323581Z",
     "shell.execute_reply.started": "2022-05-18T02:10:32.981435Z"
    },
    "papermill": {
     "duration": 0.09932,
     "end_time": "2022-05-18T02:19:18.324212",
     "exception": false,
     "start_time": "2022-05-18T02:19:18.224892",
     "status": "completed"
    },
    "tags": []
   },
   "outputs": [
    {
     "data": {
      "text/html": [
       "<div>\n",
       "<style scoped>\n",
       "    .dataframe tbody tr th:only-of-type {\n",
       "        vertical-align: middle;\n",
       "    }\n",
       "\n",
       "    .dataframe tbody tr th {\n",
       "        vertical-align: top;\n",
       "    }\n",
       "\n",
       "    .dataframe thead th {\n",
       "        text-align: right;\n",
       "    }\n",
       "</style>\n",
       "<table border=\"1\" class=\"dataframe\">\n",
       "  <thead>\n",
       "    <tr style=\"text-align: right;\">\n",
       "      <th></th>\n",
       "      <th>const</th>\n",
       "      <th>trend</th>\n",
       "      <th>s(2,7)</th>\n",
       "      <th>s(3,7)</th>\n",
       "      <th>s(4,7)</th>\n",
       "      <th>s(5,7)</th>\n",
       "      <th>s(6,7)</th>\n",
       "      <th>s(7,7)</th>\n",
       "      <th>sin(1,freq=M)</th>\n",
       "      <th>cos(1,freq=M)</th>\n",
       "      <th>...</th>\n",
       "      <th>s(6,7)RT</th>\n",
       "      <th>s(7,7)RT</th>\n",
       "      <th>sin(1,freq=M)RT</th>\n",
       "      <th>cos(1,freq=M)RT</th>\n",
       "      <th>sin(2,freq=M)RT</th>\n",
       "      <th>cos(2,freq=M)RT</th>\n",
       "      <th>sin(3,freq=M)RT</th>\n",
       "      <th>cos(3,freq=M)RT</th>\n",
       "      <th>sin(4,freq=M)RT</th>\n",
       "      <th>cos(4,freq=M)RT</th>\n",
       "    </tr>\n",
       "    <tr>\n",
       "      <th>date</th>\n",
       "      <th></th>\n",
       "      <th></th>\n",
       "      <th></th>\n",
       "      <th></th>\n",
       "      <th></th>\n",
       "      <th></th>\n",
       "      <th></th>\n",
       "      <th></th>\n",
       "      <th></th>\n",
       "      <th></th>\n",
       "      <th></th>\n",
       "      <th></th>\n",
       "      <th></th>\n",
       "      <th></th>\n",
       "      <th></th>\n",
       "      <th></th>\n",
       "      <th></th>\n",
       "      <th></th>\n",
       "      <th></th>\n",
       "      <th></th>\n",
       "      <th></th>\n",
       "    </tr>\n",
       "  </thead>\n",
       "  <tbody>\n",
       "    <tr>\n",
       "      <th>2017-08-16</th>\n",
       "      <td>1.0</td>\n",
       "      <td>593.0</td>\n",
       "      <td>0.0</td>\n",
       "      <td>0.0</td>\n",
       "      <td>0.0</td>\n",
       "      <td>1.0</td>\n",
       "      <td>0.0</td>\n",
       "      <td>0.0</td>\n",
       "      <td>0.101168</td>\n",
       "      <td>-0.994869</td>\n",
       "      <td>...</td>\n",
       "      <td>0.0</td>\n",
       "      <td>0.0</td>\n",
       "      <td>0.101168</td>\n",
       "      <td>-0.994869</td>\n",
       "      <td>-0.201299</td>\n",
       "      <td>0.979530</td>\n",
       "      <td>0.299363</td>\n",
       "      <td>-0.954139</td>\n",
       "      <td>-0.394356</td>\n",
       "      <td>0.918958</td>\n",
       "    </tr>\n",
       "    <tr>\n",
       "      <th>2017-08-17</th>\n",
       "      <td>1.0</td>\n",
       "      <td>594.0</td>\n",
       "      <td>0.0</td>\n",
       "      <td>0.0</td>\n",
       "      <td>0.0</td>\n",
       "      <td>0.0</td>\n",
       "      <td>1.0</td>\n",
       "      <td>0.0</td>\n",
       "      <td>-0.101168</td>\n",
       "      <td>-0.994869</td>\n",
       "      <td>...</td>\n",
       "      <td>0.0</td>\n",
       "      <td>0.0</td>\n",
       "      <td>-0.101168</td>\n",
       "      <td>-0.994869</td>\n",
       "      <td>0.201299</td>\n",
       "      <td>0.979530</td>\n",
       "      <td>-0.299363</td>\n",
       "      <td>-0.954139</td>\n",
       "      <td>0.394356</td>\n",
       "      <td>0.918958</td>\n",
       "    </tr>\n",
       "    <tr>\n",
       "      <th>2017-08-18</th>\n",
       "      <td>1.0</td>\n",
       "      <td>595.0</td>\n",
       "      <td>0.0</td>\n",
       "      <td>0.0</td>\n",
       "      <td>0.0</td>\n",
       "      <td>0.0</td>\n",
       "      <td>0.0</td>\n",
       "      <td>1.0</td>\n",
       "      <td>-0.299363</td>\n",
       "      <td>-0.954139</td>\n",
       "      <td>...</td>\n",
       "      <td>0.0</td>\n",
       "      <td>0.0</td>\n",
       "      <td>-0.299363</td>\n",
       "      <td>-0.954139</td>\n",
       "      <td>0.571268</td>\n",
       "      <td>0.820763</td>\n",
       "      <td>-0.790776</td>\n",
       "      <td>-0.612106</td>\n",
       "      <td>0.937752</td>\n",
       "      <td>0.347305</td>\n",
       "    </tr>\n",
       "    <tr>\n",
       "      <th>2017-08-19</th>\n",
       "      <td>1.0</td>\n",
       "      <td>596.0</td>\n",
       "      <td>0.0</td>\n",
       "      <td>0.0</td>\n",
       "      <td>0.0</td>\n",
       "      <td>0.0</td>\n",
       "      <td>0.0</td>\n",
       "      <td>0.0</td>\n",
       "      <td>-0.485302</td>\n",
       "      <td>-0.874347</td>\n",
       "      <td>...</td>\n",
       "      <td>0.0</td>\n",
       "      <td>0.0</td>\n",
       "      <td>-0.299363</td>\n",
       "      <td>-0.954139</td>\n",
       "      <td>0.571268</td>\n",
       "      <td>0.820763</td>\n",
       "      <td>-0.790776</td>\n",
       "      <td>-0.612106</td>\n",
       "      <td>0.937752</td>\n",
       "      <td>0.347305</td>\n",
       "    </tr>\n",
       "    <tr>\n",
       "      <th>2017-08-20</th>\n",
       "      <td>1.0</td>\n",
       "      <td>597.0</td>\n",
       "      <td>1.0</td>\n",
       "      <td>0.0</td>\n",
       "      <td>0.0</td>\n",
       "      <td>0.0</td>\n",
       "      <td>0.0</td>\n",
       "      <td>0.0</td>\n",
       "      <td>-0.651372</td>\n",
       "      <td>-0.758758</td>\n",
       "      <td>...</td>\n",
       "      <td>0.0</td>\n",
       "      <td>0.0</td>\n",
       "      <td>-0.299363</td>\n",
       "      <td>-0.954139</td>\n",
       "      <td>0.571268</td>\n",
       "      <td>0.820763</td>\n",
       "      <td>-0.790776</td>\n",
       "      <td>-0.612106</td>\n",
       "      <td>0.937752</td>\n",
       "      <td>0.347305</td>\n",
       "    </tr>\n",
       "  </tbody>\n",
       "</table>\n",
       "<p>5 rows × 53 columns</p>\n",
       "</div>"
      ],
      "text/plain": [
       "            const  trend  s(2,7)  s(3,7)  s(4,7)  s(5,7)  s(6,7)  s(7,7)  \\\n",
       "date                                                                       \n",
       "2017-08-16    1.0  593.0     0.0     0.0     0.0     1.0     0.0     0.0   \n",
       "2017-08-17    1.0  594.0     0.0     0.0     0.0     0.0     1.0     0.0   \n",
       "2017-08-18    1.0  595.0     0.0     0.0     0.0     0.0     0.0     1.0   \n",
       "2017-08-19    1.0  596.0     0.0     0.0     0.0     0.0     0.0     0.0   \n",
       "2017-08-20    1.0  597.0     1.0     0.0     0.0     0.0     0.0     0.0   \n",
       "\n",
       "            sin(1,freq=M)  cos(1,freq=M)  ...  s(6,7)RT  s(7,7)RT  \\\n",
       "date                                      ...                       \n",
       "2017-08-16       0.101168      -0.994869  ...       0.0       0.0   \n",
       "2017-08-17      -0.101168      -0.994869  ...       0.0       0.0   \n",
       "2017-08-18      -0.299363      -0.954139  ...       0.0       0.0   \n",
       "2017-08-19      -0.485302      -0.874347  ...       0.0       0.0   \n",
       "2017-08-20      -0.651372      -0.758758  ...       0.0       0.0   \n",
       "\n",
       "            sin(1,freq=M)RT  cos(1,freq=M)RT  sin(2,freq=M)RT  \\\n",
       "date                                                            \n",
       "2017-08-16         0.101168        -0.994869        -0.201299   \n",
       "2017-08-17        -0.101168        -0.994869         0.201299   \n",
       "2017-08-18        -0.299363        -0.954139         0.571268   \n",
       "2017-08-19        -0.299363        -0.954139         0.571268   \n",
       "2017-08-20        -0.299363        -0.954139         0.571268   \n",
       "\n",
       "            cos(2,freq=M)RT  sin(3,freq=M)RT  cos(3,freq=M)RT  \\\n",
       "date                                                            \n",
       "2017-08-16         0.979530         0.299363        -0.954139   \n",
       "2017-08-17         0.979530        -0.299363        -0.954139   \n",
       "2017-08-18         0.820763        -0.790776        -0.612106   \n",
       "2017-08-19         0.820763        -0.790776        -0.612106   \n",
       "2017-08-20         0.820763        -0.790776        -0.612106   \n",
       "\n",
       "            sin(4,freq=M)RT  cos(4,freq=M)RT  \n",
       "date                                          \n",
       "2017-08-16        -0.394356         0.918958  \n",
       "2017-08-17         0.394356         0.918958  \n",
       "2017-08-18         0.937752         0.347305  \n",
       "2017-08-19         0.937752         0.347305  \n",
       "2017-08-20         0.937752         0.347305  \n",
       "\n",
       "[5 rows x 53 columns]"
      ]
     },
     "execution_count": 29,
     "metadata": {},
     "output_type": "execute_result"
    }
   ],
   "source": [
    "X_test2.fillna(method='ffill', inplace=True)\n",
    "X_test2.fillna(method='bfill', inplace=True)\n",
    "\n",
    "X_test2.head()"
   ]
  },
  {
   "cell_type": "code",
   "execution_count": 30,
   "id": "a12b5414",
   "metadata": {
    "execution": {
     "iopub.execute_input": "2022-05-18T02:19:18.462021Z",
     "iopub.status.busy": "2022-05-18T02:19:18.460788Z",
     "iopub.status.idle": "2022-05-18T02:19:18.493247Z",
     "shell.execute_reply": "2022-05-18T02:19:18.494206Z",
     "shell.execute_reply.started": "2022-05-18T02:10:33.014683Z"
    },
    "papermill": {
     "duration": 0.105768,
     "end_time": "2022-05-18T02:19:18.494473",
     "exception": false,
     "start_time": "2022-05-18T02:19:18.388705",
     "status": "completed"
    },
    "tags": []
   },
   "outputs": [
    {
     "name": "stdout",
     "output_type": "stream",
     "text": [
      "(16, 3564) \n",
      "  (16, 3564)\n"
     ]
    }
   ],
   "source": [
    "y_pred1 = model1.predict(X_test2)\n",
    "y_pred2 = model.predict(X_test2)\n",
    "\n",
    "print(y_pred1.shape, '\\n ',  y_pred2.shape)"
   ]
  },
  {
   "cell_type": "code",
   "execution_count": 31,
   "id": "054ebe15",
   "metadata": {
    "execution": {
     "iopub.execute_input": "2022-05-18T02:19:18.683703Z",
     "iopub.status.busy": "2022-05-18T02:19:18.683081Z",
     "iopub.status.idle": "2022-05-18T02:19:18.685301Z",
     "shell.execute_reply": "2022-05-18T02:19:18.684774Z",
     "shell.execute_reply.started": "2022-05-18T02:10:33.057716Z"
    },
    "papermill": {
     "duration": 0.069626,
     "end_time": "2022-05-18T02:19:18.685422",
     "exception": false,
     "start_time": "2022-05-18T02:19:18.615796",
     "status": "completed"
    },
    "tags": []
   },
   "outputs": [],
   "source": [
    "y_final = y_pred2 + y_pred1\n"
   ]
  },
  {
   "cell_type": "markdown",
   "id": "72c67eb8",
   "metadata": {
    "papermill": {
     "duration": 0.064038,
     "end_time": "2022-05-18T02:19:18.812869",
     "exception": false,
     "start_time": "2022-05-18T02:19:18.748831",
     "status": "completed"
    },
    "tags": []
   },
   "source": [
    "## Creation Submit\n",
    "\n"
   ]
  },
  {
   "cell_type": "code",
   "execution_count": 32,
   "id": "27b45b54",
   "metadata": {
    "execution": {
     "iopub.execute_input": "2022-05-18T02:19:18.945301Z",
     "iopub.status.busy": "2022-05-18T02:19:18.944710Z",
     "iopub.status.idle": "2022-05-18T02:19:19.373356Z",
     "shell.execute_reply": "2022-05-18T02:19:19.372846Z",
     "shell.execute_reply.started": "2022-05-18T02:10:33.064949Z"
    },
    "papermill": {
     "duration": 0.497295,
     "end_time": "2022-05-18T02:19:19.373540",
     "exception": false,
     "start_time": "2022-05-18T02:19:18.876245",
     "status": "completed"
    },
    "tags": []
   },
   "outputs": [],
   "source": [
    "y_submit = pd.DataFrame(y_final, index=X_test2.index, columns=y.columns)\n",
    "y_submit = y_submit.stack(['store_nbr', 'family'])\n",
    "y_submit = y_submit.join(df_test.id).reindex(columns=['id', 'sales'])\n",
    "y_submit.to_csv('submission.csv', index=False)"
   ]
  },
  {
   "cell_type": "code",
   "execution_count": 33,
   "id": "f42f66d2",
   "metadata": {
    "execution": {
     "iopub.execute_input": "2022-05-18T02:19:19.506219Z",
     "iopub.status.busy": "2022-05-18T02:19:19.505577Z",
     "iopub.status.idle": "2022-05-18T02:19:19.508104Z",
     "shell.execute_reply": "2022-05-18T02:19:19.508559Z",
     "shell.execute_reply.started": "2022-05-18T02:10:33.624552Z"
    },
    "papermill": {
     "duration": 0.071769,
     "end_time": "2022-05-18T02:19:19.508722",
     "exception": false,
     "start_time": "2022-05-18T02:19:19.436953",
     "status": "completed"
    },
    "tags": []
   },
   "outputs": [
    {
     "name": "stdout",
     "output_type": "stream",
     "text": [
      "\n",
      " 2022-05-18 02:19:19.503214\n"
     ]
    }
   ],
   "source": [
    "\n",
    "from datetime import datetime\n",
    "\n",
    "now = datetime.now()\n",
    "print('\\n', now)\n"
   ]
  },
  {
   "cell_type": "markdown",
   "id": "77c5c3ab",
   "metadata": {
    "execution": {
     "iopub.execute_input": "2022-05-13T00:46:44.238365Z",
     "iopub.status.busy": "2022-05-13T00:46:44.237872Z",
     "iopub.status.idle": "2022-05-13T00:46:44.251793Z",
     "shell.execute_reply": "2022-05-13T00:46:44.250084Z",
     "shell.execute_reply.started": "2022-05-13T00:46:44.238303Z"
    },
    "papermill": {
     "duration": 0.063206,
     "end_time": "2022-05-18T02:19:19.637864",
     "exception": false,
     "start_time": "2022-05-18T02:19:19.574658",
     "status": "completed"
    },
    "tags": []
   },
   "source": [
    "File submit."
   ]
  },
  {
   "cell_type": "code",
   "execution_count": 34,
   "id": "ca6ea07d",
   "metadata": {
    "execution": {
     "iopub.execute_input": "2022-05-18T02:19:19.770003Z",
     "iopub.status.busy": "2022-05-18T02:19:19.769281Z",
     "iopub.status.idle": "2022-05-18T02:19:19.774848Z",
     "shell.execute_reply": "2022-05-18T02:19:19.775323Z",
     "shell.execute_reply.started": "2022-05-18T02:10:33.630963Z"
    },
    "papermill": {
     "duration": 0.073508,
     "end_time": "2022-05-18T02:19:19.775480",
     "exception": false,
     "start_time": "2022-05-18T02:19:19.701972",
     "status": "completed"
    },
    "tags": []
   },
   "outputs": [
    {
     "data": {
      "text/plain": [
       "array([ True,  True,  True,  True,  True,  True,  True,  True,  True,\n",
       "        True,  True,  True,  True,  True,  True,  True,  True,  True,\n",
       "        True,  True,  True,  True,  True,  True,  True,  True,  True,\n",
       "        True,  True,  True,  True,  True,  True,  True,  True,  True,\n",
       "        True,  True,  True,  True,  True,  True,  True,  True,  True,\n",
       "        True,  True,  True,  True,  True,  True,  True,  True])"
      ]
     },
     "execution_count": 34,
     "metadata": {},
     "output_type": "execute_result"
    }
   ],
   "source": [
    "Xtrain.columns == X_test2.columns"
   ]
  },
  {
   "cell_type": "code",
   "execution_count": 35,
   "id": "b9f1c32f",
   "metadata": {
    "execution": {
     "iopub.execute_input": "2022-05-18T02:19:19.908270Z",
     "iopub.status.busy": "2022-05-18T02:19:19.907710Z",
     "iopub.status.idle": "2022-05-18T02:19:19.916081Z",
     "shell.execute_reply": "2022-05-18T02:19:19.916609Z",
     "shell.execute_reply.started": "2022-05-18T02:10:33.644995Z"
    },
    "papermill": {
     "duration": 0.075857,
     "end_time": "2022-05-18T02:19:19.916769",
     "exception": false,
     "start_time": "2022-05-18T02:19:19.840912",
     "status": "completed"
    },
    "tags": []
   },
   "outputs": [
    {
     "data": {
      "text/html": [
       "<div>\n",
       "<style scoped>\n",
       "    .dataframe tbody tr th:only-of-type {\n",
       "        vertical-align: middle;\n",
       "    }\n",
       "\n",
       "    .dataframe tbody tr th {\n",
       "        vertical-align: top;\n",
       "    }\n",
       "\n",
       "    .dataframe thead th {\n",
       "        text-align: right;\n",
       "    }\n",
       "</style>\n",
       "<table border=\"1\" class=\"dataframe\">\n",
       "  <thead>\n",
       "    <tr style=\"text-align: right;\">\n",
       "      <th></th>\n",
       "      <th></th>\n",
       "      <th></th>\n",
       "      <th>id</th>\n",
       "      <th>sales</th>\n",
       "    </tr>\n",
       "    <tr>\n",
       "      <th>date</th>\n",
       "      <th>store_nbr</th>\n",
       "      <th>family</th>\n",
       "      <th></th>\n",
       "      <th></th>\n",
       "    </tr>\n",
       "  </thead>\n",
       "  <tbody>\n",
       "    <tr>\n",
       "      <th rowspan=\"5\" valign=\"top\">2017-08-16</th>\n",
       "      <th rowspan=\"5\" valign=\"top\">1</th>\n",
       "      <th>AUTOMOTIVE</th>\n",
       "      <td>3000888</td>\n",
       "      <td>2.780464</td>\n",
       "    </tr>\n",
       "    <tr>\n",
       "      <th>BABY CARE</th>\n",
       "      <td>3000889</td>\n",
       "      <td>0.000000</td>\n",
       "    </tr>\n",
       "    <tr>\n",
       "      <th>BEAUTY</th>\n",
       "      <td>3000890</td>\n",
       "      <td>4.990113</td>\n",
       "    </tr>\n",
       "    <tr>\n",
       "      <th>BEVERAGES</th>\n",
       "      <td>3000891</td>\n",
       "      <td>2493.921393</td>\n",
       "    </tr>\n",
       "    <tr>\n",
       "      <th>BOOKS</th>\n",
       "      <td>3000892</td>\n",
       "      <td>0.953839</td>\n",
       "    </tr>\n",
       "  </tbody>\n",
       "</table>\n",
       "</div>"
      ],
      "text/plain": [
       "                                      id        sales\n",
       "date       store_nbr family                          \n",
       "2017-08-16 1         AUTOMOTIVE  3000888     2.780464\n",
       "                     BABY CARE   3000889     0.000000\n",
       "                     BEAUTY      3000890     4.990113\n",
       "                     BEVERAGES   3000891  2493.921393\n",
       "                     BOOKS       3000892     0.953839"
      ]
     },
     "execution_count": 35,
     "metadata": {},
     "output_type": "execute_result"
    }
   ],
   "source": [
    "y_submit.head()\n"
   ]
  },
  {
   "cell_type": "markdown",
   "id": "be5db922",
   "metadata": {
    "papermill": {
     "duration": 0.065973,
     "end_time": "2022-05-18T02:19:20.047476",
     "exception": false,
     "start_time": "2022-05-18T02:19:19.981503",
     "status": "completed"
    },
    "tags": []
   },
   "source": [
    "## Pre-Processing ##"
   ]
  },
  {
   "cell_type": "markdown",
   "id": "8c3136ca",
   "metadata": {
    "papermill": {
     "duration": 0.065148,
     "end_time": "2022-05-18T02:19:20.178767",
     "exception": false,
     "start_time": "2022-05-18T02:19:20.113619",
     "status": "completed"
    },
    "tags": []
   },
   "source": [
    "### Selection only Giants or Dwarfs ###"
   ]
  },
  {
   "cell_type": "markdown",
   "id": "084f5c01",
   "metadata": {
    "papermill": {
     "duration": 0.064287,
     "end_time": "2022-05-18T02:19:20.307995",
     "exception": false,
     "start_time": "2022-05-18T02:19:20.243708",
     "status": "completed"
    },
    "tags": []
   },
   "source": [
    "## Balance ##"
   ]
  },
  {
   "cell_type": "code",
   "execution_count": 36,
   "id": "e541f40d",
   "metadata": {
    "execution": {
     "iopub.execute_input": "2022-05-18T02:19:20.440607Z",
     "iopub.status.busy": "2022-05-18T02:19:20.440024Z",
     "iopub.status.idle": "2022-05-18T02:19:20.443015Z",
     "shell.execute_reply": "2022-05-18T02:19:20.443549Z",
     "shell.execute_reply.started": "2022-05-18T02:10:33.662506Z"
    },
    "papermill": {
     "duration": 0.071295,
     "end_time": "2022-05-18T02:19:20.443713",
     "exception": false,
     "start_time": "2022-05-18T02:19:20.372418",
     "status": "completed"
    },
    "tags": []
   },
   "outputs": [],
   "source": [
    "# dividir set \n",
    "\n",
    "\n",
    "\n",
    "# from sklearn.utils import resample\n",
    "# dfGiantsDownSample = resample(dfGiants, \n",
    "  #                           replace = False, # sample without replacement\n",
    "   #                          n_samples = num_of_dwarf,\n",
    "   #                          random_state =1 \n",
    " #                            )\n",
    "#dfDownSampled = pd.concat([dfGiantsDownSample , dfDwarfs] )\n",
    "\n",
    "#dfBalanced= dfDownSampled.reset_index(drop=True)\n",
    "\n",
    "# dataStar = dfBalanced.sample(frac=1).reset_index(drop=True) # shuffle\n",
    "# dfCopyStar = dataStar.copy()"
   ]
  },
  {
   "cell_type": "markdown",
   "id": "b3ea7357",
   "metadata": {
    "papermill": {
     "duration": 0.064265,
     "end_time": "2022-05-18T02:19:20.572677",
     "exception": false,
     "start_time": "2022-05-18T02:19:20.508412",
     "status": "completed"
    },
    "tags": []
   },
   "source": [
    "## Visualization ##"
   ]
  },
  {
   "cell_type": "markdown",
   "id": "d893ff80",
   "metadata": {
    "papermill": {
     "duration": 0.064004,
     "end_time": "2022-05-18T02:19:20.703749",
     "exception": false,
     "start_time": "2022-05-18T02:19:20.639745",
     "status": "completed"
    },
    "tags": []
   },
   "source": [
    "## Correlation Linear ##"
   ]
  },
  {
   "cell_type": "markdown",
   "id": "747004ab",
   "metadata": {
    "papermill": {
     "duration": 0.064737,
     "end_time": "2022-05-18T02:19:20.832855",
     "exception": false,
     "start_time": "2022-05-18T02:19:20.768118",
     "status": "completed"
    },
    "tags": []
   },
   "source": [
    "## Data Cleaning ##"
   ]
  },
  {
   "cell_type": "markdown",
   "id": "ce2767f1",
   "metadata": {
    "papermill": {
     "duration": 0.065442,
     "end_time": "2022-05-18T02:19:20.962848",
     "exception": false,
     "start_time": "2022-05-18T02:19:20.897406",
     "status": "completed"
    },
    "tags": []
   },
   "source": [
    "# **Data Processing** #"
   ]
  },
  {
   "cell_type": "markdown",
   "id": "c77d74c2",
   "metadata": {
    "papermill": {
     "duration": 0.064718,
     "end_time": "2022-05-18T02:19:21.091801",
     "exception": false,
     "start_time": "2022-05-18T02:19:21.027083",
     "status": "completed"
    },
    "tags": []
   },
   "source": [
    "### Train and test Set ###"
   ]
  },
  {
   "cell_type": "code",
   "execution_count": 37,
   "id": "4ad6be87",
   "metadata": {
    "execution": {
     "iopub.execute_input": "2022-05-18T02:19:21.232957Z",
     "iopub.status.busy": "2022-05-18T02:19:21.231919Z",
     "iopub.status.idle": "2022-05-18T02:19:21.236332Z",
     "shell.execute_reply": "2022-05-18T02:19:21.236979Z",
     "shell.execute_reply.started": "2022-05-18T02:10:33.668849Z"
    },
    "papermill": {
     "duration": 0.081179,
     "end_time": "2022-05-18T02:19:21.237160",
     "exception": false,
     "start_time": "2022-05-18T02:19:21.155981",
     "status": "completed"
    },
    "tags": []
   },
   "outputs": [],
   "source": [
    "## Stratified ##\n",
    "#from sklearn.model_selection import StratifiedShuffleSplit\n",
    "#split = StratifiedShuffleSplit(n_splits=1, test_size=0.2, random_state=42)\n",
    "#for train_index, test_index in split.split(data, data[\"variableStratificada\"]):\n",
    "#strat_train_set = housing.loc[train_index]\n",
    "#strat_test_set = housing.loc[test_index]\n",
    "\n",
    "#from  sklearn.impute import SimpleImputer\n",
    "#imputer = SimpleImputer(strategy='median')\n",
    "\n",
    "#from  sklearn.preprocessing import OneHotEncoder\n",
    "#catEncoder = OneHotEncoder()\n",
    "\n",
    "## numerical ##\n",
    "#from  sklearn.pipeline import Pipeline\n",
    "#from  sklearn.preprocessing import StandardScaler\n",
    "#numerical_pipeline = Pipeline([('imputer', SimpleImputer(strategy=\"median\")),('attribs_adder', CombinedAttributesAdder()),])\n",
    "# new_variable_transformed_numerical = num_pipeline.fit_transform(varible_numerica)\n",
    "\n",
    "## numerical and categorial ##\n",
    "#from sklearn import ColumnTransformer\n",
    "#numerical_attribs = list(numerical_columns)\n",
    "#categorical_attribs = list(categorial_columns)\n",
    "#full_pipeline = ColumnTransformer([(\"num\", numerical_pipeline, numerical_attribs),(\"cat\", OneHotEncoder(), categorical_attribs),])\n",
    "#dataTotal_prepared = full_pipeline.fit_transform(dataTotal) "
   ]
  },
  {
   "cell_type": "markdown",
   "id": "7cde14f6",
   "metadata": {
    "papermill": {
     "duration": 0.063746,
     "end_time": "2022-05-18T02:19:21.374134",
     "exception": false,
     "start_time": "2022-05-18T02:19:21.310388",
     "status": "completed"
    },
    "tags": []
   },
   "source": [
    "## Target ## "
   ]
  },
  {
   "cell_type": "markdown",
   "id": "634a649e",
   "metadata": {
    "papermill": {
     "duration": 0.0634,
     "end_time": "2022-05-18T02:19:21.501450",
     "exception": false,
     "start_time": "2022-05-18T02:19:21.438050",
     "status": "completed"
    },
    "tags": []
   },
   "source": [
    "## Featuring Engineering ##"
   ]
  },
  {
   "cell_type": "markdown",
   "id": "837ebabc",
   "metadata": {
    "papermill": {
     "duration": 0.063426,
     "end_time": "2022-05-18T02:19:21.629007",
     "exception": false,
     "start_time": "2022-05-18T02:19:21.565581",
     "status": "completed"
    },
    "tags": []
   },
   "source": [
    "##  Pipeline and Featuring Scaling ##"
   ]
  },
  {
   "cell_type": "markdown",
   "id": "77831d6c",
   "metadata": {
    "papermill": {
     "duration": 0.063876,
     "end_time": "2022-05-18T02:19:21.756757",
     "exception": false,
     "start_time": "2022-05-18T02:19:21.692881",
     "status": "completed"
    },
    "tags": []
   },
   "source": [
    " # **MODEL** # "
   ]
  },
  {
   "cell_type": "markdown",
   "id": "b1067fdf",
   "metadata": {
    "papermill": {
     "duration": 0.064294,
     "end_time": "2022-05-18T02:19:21.886163",
     "exception": false,
     "start_time": "2022-05-18T02:19:21.821869",
     "status": "completed"
    },
    "tags": []
   },
   "source": [
    "#### Models ####"
   ]
  },
  {
   "cell_type": "code",
   "execution_count": 38,
   "id": "217d6a9e",
   "metadata": {
    "execution": {
     "iopub.execute_input": "2022-05-18T02:19:22.018570Z",
     "iopub.status.busy": "2022-05-18T02:19:22.018011Z",
     "iopub.status.idle": "2022-05-18T02:19:22.021601Z",
     "shell.execute_reply": "2022-05-18T02:19:22.021162Z",
     "shell.execute_reply.started": "2022-05-18T02:10:33.686524Z"
    },
    "papermill": {
     "duration": 0.07145,
     "end_time": "2022-05-18T02:19:22.021733",
     "exception": false,
     "start_time": "2022-05-18T02:19:21.950283",
     "status": "completed"
    },
    "tags": []
   },
   "outputs": [],
   "source": [
    "### stratified CV ### see pag 136  Geron's book\n",
    "#from sklearn.model_selection import StratifiedKFold\n",
    "#from sklearn.base import clone\n",
    "#skfolds = StratifiedKFold(n_splits=3, random_state=42)"
   ]
  },
  {
   "cell_type": "markdown",
   "id": "9b7cba33",
   "metadata": {
    "papermill": {
     "duration": 0.063733,
     "end_time": "2022-05-18T02:19:22.150739",
     "exception": false,
     "start_time": "2022-05-18T02:19:22.087006",
     "status": "completed"
    },
    "tags": []
   },
   "source": [
    "# **Refinament** #"
   ]
  },
  {
   "cell_type": "code",
   "execution_count": null,
   "id": "af0445f2",
   "metadata": {
    "papermill": {
     "duration": 0.063772,
     "end_time": "2022-05-18T02:19:22.278368",
     "exception": false,
     "start_time": "2022-05-18T02:19:22.214596",
     "status": "completed"
    },
    "tags": []
   },
   "outputs": [],
   "source": []
  },
  {
   "cell_type": "markdown",
   "id": "68eeca9b",
   "metadata": {
    "papermill": {
     "duration": 0.063734,
     "end_time": "2022-05-18T02:19:22.406292",
     "exception": false,
     "start_time": "2022-05-18T02:19:22.342558",
     "status": "completed"
    },
    "tags": []
   },
   "source": [
    "# **Deploy** #"
   ]
  },
  {
   "cell_type": "code",
   "execution_count": null,
   "id": "d52527f3",
   "metadata": {
    "papermill": {
     "duration": 0.064194,
     "end_time": "2022-05-18T02:19:22.534817",
     "exception": false,
     "start_time": "2022-05-18T02:19:22.470623",
     "status": "completed"
    },
    "tags": []
   },
   "outputs": [],
   "source": []
  },
  {
   "cell_type": "code",
   "execution_count": null,
   "id": "db5aacba",
   "metadata": {
    "papermill": {
     "duration": 0.063818,
     "end_time": "2022-05-18T02:19:22.662999",
     "exception": false,
     "start_time": "2022-05-18T02:19:22.599181",
     "status": "completed"
    },
    "tags": []
   },
   "outputs": [],
   "source": []
  }
 ],
 "metadata": {
  "kernelspec": {
   "display_name": "Python 3",
   "language": "python",
   "name": "python3"
  },
  "language_info": {
   "codemirror_mode": {
    "name": "ipython",
    "version": 3
   },
   "file_extension": ".py",
   "mimetype": "text/x-python",
   "name": "python",
   "nbconvert_exporter": "python",
   "pygments_lexer": "ipython3",
   "version": "3.7.12"
  },
  "papermill": {
   "default_parameters": {},
   "duration": 122.440557,
   "end_time": "2022-05-18T02:19:23.638299",
   "environment_variables": {},
   "exception": null,
   "input_path": "__notebook__.ipynb",
   "output_path": "__notebook__.ipynb",
   "parameters": {},
   "start_time": "2022-05-18T02:17:21.197742",
   "version": "2.3.3"
  }
 },
 "nbformat": 4,
 "nbformat_minor": 5
}
