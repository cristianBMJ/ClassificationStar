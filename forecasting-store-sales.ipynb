{
 "cells": [
  {
   "cell_type": "markdown",
   "id": "9cc2e35a",
   "metadata": {
    "papermill": {
     "duration": 0.059941,
     "end_time": "2022-05-16T16:15:53.974732",
     "exception": false,
     "start_time": "2022-05-16T16:15:53.914791",
     "status": "completed"
    },
    "tags": []
   },
   "source": [
    "# **Forecasting: Store-Sales**\n",
    "\n",
    "This project aims to forecast the sales of a company's stores in Ecuador. We work with Time Series to predictions the sales, used tools of the **Pandas**. The Model learning  is the kind Hydrid,  it be first model `RandomForestRegressor` while the second model is `LinearRegression`. \n",
    "\n"
   ]
  },
  {
   "cell_type": "markdown",
   "id": "b707a630",
   "metadata": {
    "papermill": {
     "duration": 0.057869,
     "end_time": "2022-05-16T16:15:54.094470",
     "exception": false,
     "start_time": "2022-05-16T16:15:54.036601",
     "status": "completed"
    },
    "tags": []
   },
   "source": [
    "# **Setting** #\n",
    "\n",
    "Setup of the system  and necessary libraries."
   ]
  },
  {
   "cell_type": "code",
   "execution_count": 1,
   "id": "1305dc81",
   "metadata": {
    "_cell_guid": "b1076dfc-b9ad-4769-8c92-a6c4dae69d19",
    "_uuid": "8f2839f25d086af736a60e9eeb907d3b93b6e0e5",
    "execution": {
     "iopub.execute_input": "2022-05-16T16:15:54.219954Z",
     "iopub.status.busy": "2022-05-16T16:15:54.214605Z",
     "iopub.status.idle": "2022-05-16T16:15:57.025088Z",
     "shell.execute_reply": "2022-05-16T16:15:57.024362Z",
     "shell.execute_reply.started": "2022-05-16T16:14:07.061245Z"
    },
    "papermill": {
     "duration": 2.872052,
     "end_time": "2022-05-16T16:15:57.025275",
     "exception": false,
     "start_time": "2022-05-16T16:15:54.153223",
     "status": "completed"
    },
    "tags": []
   },
   "outputs": [
    {
     "data": {
      "text/html": [
       "<style type='text/css'>\n",
       ".datatable table.frame { margin-bottom: 0; }\n",
       ".datatable table.frame thead { border-bottom: none; }\n",
       ".datatable table.frame tr.coltypes td {  color: #FFFFFF;  line-height: 6px;  padding: 0 0.5em;}\n",
       ".datatable .bool    { background: #DDDD99; }\n",
       ".datatable .object  { background: #565656; }\n",
       ".datatable .int     { background: #5D9E5D; }\n",
       ".datatable .float   { background: #4040CC; }\n",
       ".datatable .str     { background: #CC4040; }\n",
       ".datatable .time    { background: #40CC40; }\n",
       ".datatable .row_index {  background: var(--jp-border-color3);  border-right: 1px solid var(--jp-border-color0);  color: var(--jp-ui-font-color3);  font-size: 9px;}\n",
       ".datatable .frame tbody td { text-align: left; }\n",
       ".datatable .frame tr.coltypes .row_index {  background: var(--jp-border-color0);}\n",
       ".datatable th:nth-child(2) { padding-left: 12px; }\n",
       ".datatable .hellipsis {  color: var(--jp-cell-editor-border-color);}\n",
       ".datatable .vellipsis {  background: var(--jp-layout-color0);  color: var(--jp-cell-editor-border-color);}\n",
       ".datatable .na {  color: var(--jp-cell-editor-border-color);  font-size: 80%;}\n",
       ".datatable .sp {  opacity: 0.25;}\n",
       ".datatable .footer { font-size: 9px; }\n",
       ".datatable .frame_dimensions {  background: var(--jp-border-color3);  border-top: 1px solid var(--jp-border-color0);  color: var(--jp-ui-font-color3);  display: inline-block;  opacity: 0.6;  padding: 1px 10px 1px 5px;}\n",
       "</style>\n"
      ],
      "text/plain": [
       "<IPython.core.display.HTML object>"
      ]
     },
     "metadata": {},
     "output_type": "display_data"
    },
    {
     "name": "stdout",
     "output_type": "stream",
     "text": [
      "/kaggle/input/store-sales-time-series-forecasting/oil.csv\n",
      "/kaggle/input/store-sales-time-series-forecasting/sample_submission.csv\n",
      "/kaggle/input/store-sales-time-series-forecasting/holidays_events.csv\n",
      "/kaggle/input/store-sales-time-series-forecasting/stores.csv\n",
      "/kaggle/input/store-sales-time-series-forecasting/train.csv\n",
      "/kaggle/input/store-sales-time-series-forecasting/test.csv\n",
      "/kaggle/input/store-sales-time-series-forecasting/transactions.csv\n"
     ]
    }
   ],
   "source": [
    "# This Python 3 environment comes with many helpful analytics libraries installed\n",
    "# It is defined by the kaggle/python Docker image: https://github.com/kaggle/docker-python\n",
    "# For example, here's several helpful packages to load\n",
    "\n",
    "%matplotlib inline\n",
    "\n",
    "# Setup feedback system\n",
    "from learntools.core import binder\n",
    "binder.bind(globals())\n",
    "from learntools.time_series.ex3 import *\n",
    "\n",
    " # Allows the use of display() for DataFrames\n",
    "# from IPython.core.interactiveshell import InteractiveShell\n",
    "\n",
    "# InteractiveShell.ast_node_interactivity = \"all\"\n",
    "\n",
    "\n",
    "# Setup notebook\n",
    "from pathlib import Path\n",
    "from IPython.display import display\n",
    "\n",
    "from learntools.time_series.style import *  # plot style settings\n",
    "from learntools.time_series.utils import plot_periodogram, seasonal_plot\n",
    "\n",
    "\n",
    "import numpy as np # linear algebra\n",
    "import pandas as pd # data processing, CSV file I/O (e.g. pd.read_csv)\n",
    "\n",
    "%matplotlib inline\n",
    "import matplotlib.pyplot as plt\n",
    "import seaborn as sns\n",
    "\n",
    "\n",
    "from scipy.signal import periodogram\n",
    "from sklearn.ensemble import RandomForestRegressor\n",
    "from statsmodels.tsa.deterministic import CalendarFourier, DeterministicProcess\n",
    "from statsmodels.graphics.tsaplots import plot_pacf\n",
    "from sklearn.preprocessing import OneHotEncoder\n",
    "\n",
    "\n",
    "from sklearn.linear_model import LinearRegression\n",
    "from lightgbm import LGBMRegressor # make for microsoft\n",
    "from statsmodels.tsa.seasonal import seasonal_decompose\n",
    "from statsmodels.graphics.tsaplots import plot_acf\n",
    "from scipy.stats import t\n",
    "from sklearn.model_selection import TimeSeriesSplit, train_test_split\n",
    "from sklearn.metrics import mean_absolute_error, mean_squared_log_error\n",
    "\n",
    "\n",
    "# Input data files are available in the read-only \"../input/\" directory\n",
    "# For example, running this (by clicking run or pressing Shift+Enter) will list all files under the input directory\n",
    "\n",
    "import os\n",
    "for dirname, _, filenames in os.walk('/kaggle/input'):\n",
    "    for filename in filenames:\n",
    "        print(os.path.join(dirname, filename))\n",
    "\n",
    "        \n",
    "        \n",
    "# You can write up to 20GB to the current directory (/kaggle/working/) that gets preserved as output when you create a version using \"Save & Run All\" \n",
    "# You can also write temporary files to /kaggle/temp/, but they won't be saved outside of the current session\n"
   ]
  },
  {
   "cell_type": "markdown",
   "id": "486efaec",
   "metadata": {
    "papermill": {
     "duration": 0.05902,
     "end_time": "2022-05-16T16:15:57.145569",
     "exception": false,
     "start_time": "2022-05-16T16:15:57.086549",
     "status": "completed"
    },
    "tags": []
   },
   "source": [
    "# **Get Data** #\n",
    "\n",
    "The data is in  [Kaggle Store sales](https://www.kaggle.com/c/store-sales-time-series-forecasting). \n"
   ]
  },
  {
   "cell_type": "code",
   "execution_count": 2,
   "id": "fdbe2ab5",
   "metadata": {
    "execution": {
     "iopub.execute_input": "2022-05-16T16:15:57.267356Z",
     "iopub.status.busy": "2022-05-16T16:15:57.266650Z",
     "iopub.status.idle": "2022-05-16T16:16:02.985690Z",
     "shell.execute_reply": "2022-05-16T16:16:02.985052Z",
     "shell.execute_reply.started": "2022-05-16T16:14:08.384340Z"
    },
    "papermill": {
     "duration": 5.781221,
     "end_time": "2022-05-16T16:16:02.985840",
     "exception": false,
     "start_time": "2022-05-16T16:15:57.204619",
     "status": "completed"
    },
    "tags": []
   },
   "outputs": [],
   "source": [
    "# Paths\n",
    "comp_dir = Path('../input/store-sales-time-series-forecasting')\n",
    "\n",
    "# timeInitial\n",
    "timeInitial = '2016-08'\n",
    "\n",
    "# Get datas\n",
    "holidays_events = pd.read_csv(\n",
    "    comp_dir / \"holidays_events.csv\",\n",
    "    dtype={\n",
    "        'type': 'category',\n",
    "        'locale': 'category',\n",
    "        'locale_name': 'category',\n",
    "        'description': 'category',\n",
    "        'transferred': 'bool',\n",
    "    },\n",
    "    parse_dates=['date'],\n",
    "    infer_datetime_format=True,\n",
    "    index_col='date'\n",
    ")\n",
    "\n",
    "hol = holidays_events.to_period('D')\n",
    "hol = hol[hol.locale == 'National'] # I'm only taking National holiday so there's no false positive.\n",
    "hol = hol.groupby(hol.index).first() # Removing duplicated holiday at the same date \n",
    "\n",
    "store_sales = pd.read_csv(\n",
    "    comp_dir / 'train.csv',\n",
    "    usecols=['store_nbr', 'family','onpromotion', 'date', 'sales'],\n",
    "    dtype={\n",
    "        'store_nbr': 'category',\n",
    "        'family': 'category',\n",
    "        'sales': 'float32',\n",
    "        'onpromotion': 'uint32',\n",
    "    },\n",
    "    parse_dates=['date'],\n",
    "    infer_datetime_format=True,\n",
    ")\n",
    "\n",
    "oil = pd.read_csv(\n",
    "    comp_dir / 'oil.csv',\n",
    "    usecols = ['date', 'dcoilwtico'],\n",
    "    dtype={'dcoilwtico': 'float32'    },\n",
    "    parse_dates=['date'],\n",
    "    infer_datetime_format=True,\n",
    ")\n",
    "\n",
    " \n",
    "holidays = (\n",
    "    holidays_events\n",
    "    .query(\"locale in ['National', 'Regional']\")\n",
    "    .loc[timeInitial :'2017-08-15', ]\n",
    "    .assign(description=lambda x: x.description.cat.remove_unused_categories()) # assign new columns\n",
    ")\n",
    "\n",
    "df_test = pd.read_csv(\n",
    "    comp_dir / 'test.csv',\n",
    "    dtype={\n",
    "        'store_nbr': 'category',\n",
    "        'family': 'category',\n",
    "        'onpromotion': 'uint32',\n",
    "    },\n",
    "    parse_dates=['date'],\n",
    "    infer_datetime_format=True,\n",
    ")\n",
    "# Rearray to period\n",
    "\n",
    "transactions =  pd.read_csv( comp_dir / 'transactions.csv',\n",
    "                            parse_dates = ['date'], \n",
    "                            infer_datetime_format = True, \n",
    "                            )\n",
    "\n",
    "oil['date'] = oil.date.dt.to_period('D')\n",
    "oil = oil.set_index(['date']).sort_index()\n",
    "oil=oil.squeeze()\n",
    "\n",
    "store_sales['date'] = store_sales.date.dt.to_period('D')\n",
    "store_sales = store_sales.set_index(['store_nbr', 'family', 'date']).sort_index()\n",
    "\n"
   ]
  },
  {
   "cell_type": "markdown",
   "id": "dc034649",
   "metadata": {
    "papermill": {
     "duration": 0.06069,
     "end_time": "2022-05-16T16:16:03.105576",
     "exception": false,
     "start_time": "2022-05-16T16:16:03.044886",
     "status": "completed"
    },
    "tags": []
   },
   "source": [
    "\n",
    "#  **Exploratory Data Analysis** #"
   ]
  },
  {
   "cell_type": "markdown",
   "id": "07aff229",
   "metadata": {
    "papermill": {
     "duration": 0.065795,
     "end_time": "2022-05-16T16:16:03.230550",
     "exception": false,
     "start_time": "2022-05-16T16:16:03.164755",
     "status": "completed"
    },
    "tags": []
   },
   "source": [
    "Information preliminar about  `store_sales`."
   ]
  },
  {
   "cell_type": "code",
   "execution_count": 3,
   "id": "10f10075",
   "metadata": {
    "execution": {
     "iopub.execute_input": "2022-05-16T16:16:03.377283Z",
     "iopub.status.busy": "2022-05-16T16:16:03.376647Z",
     "iopub.status.idle": "2022-05-16T16:16:03.668657Z",
     "shell.execute_reply": "2022-05-16T16:16:03.668012Z",
     "shell.execute_reply.started": "2022-05-16T16:14:12.873965Z"
    },
    "papermill": {
     "duration": 0.358864,
     "end_time": "2022-05-16T16:16:03.668835",
     "exception": false,
     "start_time": "2022-05-16T16:16:03.309971",
     "status": "completed"
    },
    "tags": []
   },
   "outputs": [
    {
     "name": "stdout",
     "output_type": "stream",
     "text": [
      "<class 'pandas.core.frame.DataFrame'>\n",
      "MultiIndex: 3000888 entries, ('1', 'AUTOMOTIVE', Period('2013-01-01', 'D')) to ('9', 'SEAFOOD', Period('2017-08-15', 'D'))\n",
      "Data columns (total 2 columns):\n",
      " #   Column       Dtype  \n",
      "---  ------       -----  \n",
      " 0   sales        float32\n",
      " 1   onpromotion  uint32 \n",
      "dtypes: float32(1), uint32(1)\n",
      "memory usage: 34.4 MB\n"
     ]
    },
    {
     "data": {
      "text/plain": [
       "None"
      ]
     },
     "metadata": {},
     "output_type": "display_data"
    },
    {
     "data": {
      "text/html": [
       "<div>\n",
       "<style scoped>\n",
       "    .dataframe tbody tr th:only-of-type {\n",
       "        vertical-align: middle;\n",
       "    }\n",
       "\n",
       "    .dataframe tbody tr th {\n",
       "        vertical-align: top;\n",
       "    }\n",
       "\n",
       "    .dataframe thead th {\n",
       "        text-align: right;\n",
       "    }\n",
       "</style>\n",
       "<table border=\"1\" class=\"dataframe\">\n",
       "  <thead>\n",
       "    <tr style=\"text-align: right;\">\n",
       "      <th></th>\n",
       "      <th>count</th>\n",
       "      <th>mean</th>\n",
       "      <th>std</th>\n",
       "      <th>min</th>\n",
       "      <th>25%</th>\n",
       "      <th>50%</th>\n",
       "      <th>75%</th>\n",
       "      <th>max</th>\n",
       "    </tr>\n",
       "  </thead>\n",
       "  <tbody>\n",
       "    <tr>\n",
       "      <th>sales</th>\n",
       "      <td>3000888.0</td>\n",
       "      <td>356.758392</td>\n",
       "      <td>1093.275879</td>\n",
       "      <td>0.0</td>\n",
       "      <td>0.0</td>\n",
       "      <td>11.0</td>\n",
       "      <td>195.847252</td>\n",
       "      <td>124717.0</td>\n",
       "    </tr>\n",
       "    <tr>\n",
       "      <th>onpromotion</th>\n",
       "      <td>3000888.0</td>\n",
       "      <td>2.602770</td>\n",
       "      <td>12.218882</td>\n",
       "      <td>0.0</td>\n",
       "      <td>0.0</td>\n",
       "      <td>0.0</td>\n",
       "      <td>0.000000</td>\n",
       "      <td>741.0</td>\n",
       "    </tr>\n",
       "  </tbody>\n",
       "</table>\n",
       "</div>"
      ],
      "text/plain": [
       "                 count        mean          std  min  25%   50%         75%  \\\n",
       "sales        3000888.0  356.758392  1093.275879  0.0  0.0  11.0  195.847252   \n",
       "onpromotion  3000888.0    2.602770    12.218882  0.0  0.0   0.0    0.000000   \n",
       "\n",
       "                  max  \n",
       "sales        124717.0  \n",
       "onpromotion     741.0  "
      ]
     },
     "metadata": {},
     "output_type": "display_data"
    }
   ],
   "source": [
    "display(store_sales.info())\n",
    "display( store_sales.describe().T)\n"
   ]
  },
  {
   "cell_type": "code",
   "execution_count": 4,
   "id": "c13f44a0",
   "metadata": {
    "execution": {
     "iopub.execute_input": "2022-05-16T16:16:03.800859Z",
     "iopub.status.busy": "2022-05-16T16:16:03.800139Z",
     "iopub.status.idle": "2022-05-16T16:16:03.805721Z",
     "shell.execute_reply": "2022-05-16T16:16:03.806284Z",
     "shell.execute_reply.started": "2022-05-16T16:14:13.167126Z"
    },
    "papermill": {
     "duration": 0.075774,
     "end_time": "2022-05-16T16:16:03.806474",
     "exception": false,
     "start_time": "2022-05-16T16:16:03.730700",
     "status": "completed"
    },
    "tags": []
   },
   "outputs": [],
   "source": [
    "store_sales['sales'].head()\n",
    "\n",
    "def salesDecompose(df, share_type='sales', samples=250, period=30):\n",
    "    if samples == 'all':\n",
    "        #decomposing all time series timestamps\n",
    "        res = seasonal_decompose(df[share_type].values, period=period)\n",
    "    else:\n",
    "        #decomposing a sample of the time series\n",
    "        res = seasonal_decompose(df[share_type].values[-samples:], period=period)\n",
    "    \n",
    "    observed = res.observed\n",
    "    trend = res.trend\n",
    "    seasonal = res.seasonal\n",
    "    residual = res.resid\n",
    "    \n",
    "    #plot the complete time series\n",
    "    fig, axs = plt.subplots(4, figsize=(16,8))\n",
    "    axs[0].set_title('OBSERVED', fontsize=16)\n",
    "    axs[0].plot(observed)\n",
    "    axs[0].grid()\n",
    "    \n",
    "    #plot the trend of the time series\n",
    "    axs[1].set_title('TREND', fontsize=16)\n",
    "    axs[1].plot(trend)\n",
    "    axs[1].grid()\n",
    "    \n",
    "    #plot the seasonality of the time series. Period=24 daily seasonality | Period=24*7 weekly seasonality.\n",
    "    axs[2].set_title('SEASONALITY', fontsize=16)\n",
    "    axs[2].plot(seasonal)\n",
    "    axs[2].grid()\n",
    "    \n",
    "    #plot the noise of the time series\n",
    "    axs[3].set_title('NOISE', fontsize=16)\n",
    "    axs[3].plot(residual)\n",
    "    axs[3].scatter(y=residual, x=range(len(residual)), alpha=0.5)\n",
    "    axs[3].grid()\n",
    "    \n",
    "    plt.show()\n",
    "    "
   ]
  },
  {
   "cell_type": "markdown",
   "id": "3e3dbd89",
   "metadata": {
    "papermill": {
     "duration": 0.060103,
     "end_time": "2022-05-16T16:16:03.927130",
     "exception": false,
     "start_time": "2022-05-16T16:16:03.867027",
     "status": "completed"
    },
    "tags": []
   },
   "source": [
    "### Sales Decompose\n",
    "In this section shown to sales decompose in three parts;  Observed, Trend and Seasonality, in a range time of  one year. "
   ]
  },
  {
   "cell_type": "code",
   "execution_count": 5,
   "id": "9c160afb",
   "metadata": {
    "execution": {
     "iopub.execute_input": "2022-05-16T16:16:04.054158Z",
     "iopub.status.busy": "2022-05-16T16:16:04.053529Z",
     "iopub.status.idle": "2022-05-16T16:16:04.720484Z",
     "shell.execute_reply": "2022-05-16T16:16:04.720976Z",
     "shell.execute_reply.started": "2022-05-16T16:14:13.180717Z"
    },
    "papermill": {
     "duration": 0.732751,
     "end_time": "2022-05-16T16:16:04.721146",
     "exception": false,
     "start_time": "2022-05-16T16:16:03.988395",
     "status": "completed"
    },
    "tags": []
   },
   "outputs": [
    {
     "data": {
      "image/png": "[encoded data removed]",
      "text/plain": [
       "<Figure size 1152x576 with 4 Axes>"
      ]
     },
     "metadata": {
      "needs_background": "light"
     },
     "output_type": "display_data"
    }
   ],
   "source": [
    "salesDecompose(store_sales, samples= 365, period = 30 )"
   ]
  },
  {
   "cell_type": "markdown",
   "id": "5ee56360",
   "metadata": {
    "papermill": {
     "duration": 0.065871,
     "end_time": "2022-05-16T16:16:04.855279",
     "exception": false,
     "start_time": "2022-05-16T16:16:04.789408",
     "status": "completed"
    },
    "tags": []
   },
   "source": [
    "Here, we maked average sales from time initial `2015`. Then we show Partial Correlation of Lags,  noting the most  significant ones.  "
   ]
  },
  {
   "cell_type": "code",
   "execution_count": 6,
   "id": "6ab548ae",
   "metadata": {
    "execution": {
     "iopub.execute_input": "2022-05-16T16:16:04.992899Z",
     "iopub.status.busy": "2022-05-16T16:16:04.992148Z",
     "iopub.status.idle": "2022-05-16T16:16:05.448963Z",
     "shell.execute_reply": "2022-05-16T16:16:05.448226Z",
     "shell.execute_reply.started": "2022-05-16T16:14:13.711659Z"
    },
    "papermill": {
     "duration": 0.527495,
     "end_time": "2022-05-16T16:16:05.449117",
     "exception": false,
     "start_time": "2022-05-16T16:16:04.921622",
     "status": "completed"
    },
    "tags": []
   },
   "outputs": [
    {
     "name": "stdout",
     "output_type": "stream",
     "text": [
      "<class 'pandas.core.frame.DataFrame'>\n",
      "RangeIndex: 83488 entries, 0 to 83487\n",
      "Data columns (total 3 columns):\n",
      " #   Column        Non-Null Count  Dtype         \n",
      "---  ------        --------------  -----         \n",
      " 0   date          83488 non-null  datetime64[ns]\n",
      " 1   store_nbr     83488 non-null  int64         \n",
      " 2   transactions  83488 non-null  int64         \n",
      "dtypes: datetime64[ns](1), int64(2)\n",
      "memory usage: 1.9 MB\n",
      "<class 'pandas.core.frame.DataFrame'>\n",
      "PeriodIndex: 379 entries, 2016-08-01 to 2017-08-15\n",
      "Freq: D\n",
      "Data columns (total 2 columns):\n",
      " #   Column       Non-Null Count  Dtype  \n",
      "---  ------       --------------  -----  \n",
      " 0   sales        379 non-null    float32\n",
      " 1   onpromotion  379 non-null    float64\n",
      "dtypes: float32(1), float64(1)\n",
      "memory usage: 7.4 KB\n"
     ]
    },
    {
     "data": {
      "text/plain": [
       "None"
      ]
     },
     "metadata": {},
     "output_type": "display_data"
    },
    {
     "data": {
      "text/html": [
       "<div>\n",
       "<style scoped>\n",
       "    .dataframe tbody tr th:only-of-type {\n",
       "        vertical-align: middle;\n",
       "    }\n",
       "\n",
       "    .dataframe tbody tr th {\n",
       "        vertical-align: top;\n",
       "    }\n",
       "\n",
       "    .dataframe thead th {\n",
       "        text-align: right;\n",
       "    }\n",
       "</style>\n",
       "<table border=\"1\" class=\"dataframe\">\n",
       "  <thead>\n",
       "    <tr style=\"text-align: right;\">\n",
       "      <th></th>\n",
       "      <th>sales</th>\n",
       "      <th>onpromotion</th>\n",
       "    </tr>\n",
       "    <tr>\n",
       "      <th>date</th>\n",
       "      <th></th>\n",
       "      <th></th>\n",
       "    </tr>\n",
       "  </thead>\n",
       "  <tbody>\n",
       "    <tr>\n",
       "      <th>2016-08-01</th>\n",
       "      <td>502.570374</td>\n",
       "      <td>3.001684</td>\n",
       "    </tr>\n",
       "    <tr>\n",
       "      <th>2016-08-02</th>\n",
       "      <td>436.359619</td>\n",
       "      <td>4.424242</td>\n",
       "    </tr>\n",
       "    <tr>\n",
       "      <th>2016-08-03</th>\n",
       "      <td>437.623352</td>\n",
       "      <td>7.497755</td>\n",
       "    </tr>\n",
       "    <tr>\n",
       "      <th>2016-08-04</th>\n",
       "      <td>349.541595</td>\n",
       "      <td>3.341751</td>\n",
       "    </tr>\n",
       "    <tr>\n",
       "      <th>2016-08-05</th>\n",
       "      <td>395.113770</td>\n",
       "      <td>6.523008</td>\n",
       "    </tr>\n",
       "  </tbody>\n",
       "</table>\n",
       "</div>"
      ],
      "text/plain": [
       "                 sales  onpromotion\n",
       "date                               \n",
       "2016-08-01  502.570374     3.001684\n",
       "2016-08-02  436.359619     4.424242\n",
       "2016-08-03  437.623352     7.497755\n",
       "2016-08-04  349.541595     3.341751\n",
       "2016-08-05  395.113770     6.523008"
      ]
     },
     "execution_count": 6,
     "metadata": {},
     "output_type": "execute_result"
    },
    {
     "data": {
      "image/png": "[encoded data removed]",
      "text/plain": [
       "<Figure size 432x288 with 1 Axes>"
      ]
     },
     "metadata": {
      "needs_background": "light"
     },
     "output_type": "display_data"
    }
   ],
   "source": [
    "# transactions per store\n",
    "transactions.info()\n",
    "\n",
    "\n",
    "# average sales \n",
    "average_sales = (\n",
    "    store_sales\n",
    "    .groupby('date').mean()\n",
    "    .squeeze()\n",
    "    .loc[timeInitial:]\n",
    ")\n",
    "\n",
    "\n",
    "plot_pacf(average_sales.sales, lags=15)\n",
    "\n",
    "\n",
    "display(average_sales.info())\n",
    "#ax = average_sales.plot(**plot_params, alpha = 0.5,  title='Averange Sales', ylabel='Items Sold')\n",
    "#ax.legend();\n",
    "\n",
    "average_sales.head()"
   ]
  },
  {
   "cell_type": "code",
   "execution_count": 7,
   "id": "385c259a",
   "metadata": {
    "execution": {
     "iopub.execute_input": "2022-05-16T16:16:05.590811Z",
     "iopub.status.busy": "2022-05-16T16:16:05.589859Z",
     "iopub.status.idle": "2022-05-16T16:16:05.600970Z",
     "shell.execute_reply": "2022-05-16T16:16:05.601542Z",
     "shell.execute_reply.started": "2022-05-16T16:14:14.089945Z"
    },
    "papermill": {
     "duration": 0.083865,
     "end_time": "2022-05-16T16:16:05.601730",
     "exception": false,
     "start_time": "2022-05-16T16:16:05.517865",
     "status": "completed"
    },
    "tags": []
   },
   "outputs": [
    {
     "name": "stdout",
     "output_type": "stream",
     "text": [
      "<class 'pandas.core.frame.DataFrame'>\n",
      "PeriodIndex: 1218 entries, 2013-01-01 to 2017-08-31\n",
      "Freq: D\n",
      "Data columns (total 1 columns):\n",
      " #   Column      Non-Null Count  Dtype  \n",
      "---  ------      --------------  -----  \n",
      " 0   dcoilwtico  1175 non-null   float32\n",
      "dtypes: float32(1)\n",
      "memory usage: 14.3 KB\n"
     ]
    }
   ],
   "source": [
    "# partial autocorrelation Oil\n",
    "dfOil = pd.DataFrame(oil)\n",
    "dfOil.info()"
   ]
  },
  {
   "cell_type": "markdown",
   "id": "387bc101",
   "metadata": {
    "papermill": {
     "duration": 0.068961,
     "end_time": "2022-05-16T16:16:05.739553",
     "exception": false,
     "start_time": "2022-05-16T16:16:05.670592",
     "status": "completed"
    },
    "tags": []
   },
   "source": [
    "The price's Oil during three years."
   ]
  },
  {
   "cell_type": "code",
   "execution_count": 8,
   "id": "d8c7ed2b",
   "metadata": {
    "execution": {
     "iopub.execute_input": "2022-05-16T16:16:05.881467Z",
     "iopub.status.busy": "2022-05-16T16:16:05.880488Z",
     "iopub.status.idle": "2022-05-16T16:16:06.358725Z",
     "shell.execute_reply": "2022-05-16T16:16:06.359220Z",
     "shell.execute_reply.started": "2022-05-16T16:14:14.104165Z"
    },
    "papermill": {
     "duration": 0.551001,
     "end_time": "2022-05-16T16:16:06.359405",
     "exception": false,
     "start_time": "2022-05-16T16:16:05.808404",
     "status": "completed"
    },
    "tags": []
   },
   "outputs": [
    {
     "data": {
      "image/png": "[encoded data removed]",
      "text/plain": [
       "<Figure size 432x288 with 1 Axes>"
      ]
     },
     "metadata": {
      "needs_background": "light"
     },
     "output_type": "display_data"
    }
   ],
   "source": [
    "oil[timeInitial:].plot()\n",
    "plt.show()\n",
    "\n",
    "\n"
   ]
  },
  {
   "cell_type": "code",
   "execution_count": 9,
   "id": "d2b14014",
   "metadata": {
    "execution": {
     "iopub.execute_input": "2022-05-16T16:16:06.505294Z",
     "iopub.status.busy": "2022-05-16T16:16:06.504319Z",
     "iopub.status.idle": "2022-05-16T16:16:06.514865Z",
     "shell.execute_reply": "2022-05-16T16:16:06.515423Z",
     "shell.execute_reply.started": "2022-05-16T16:14:14.584192Z"
    },
    "papermill": {
     "duration": 0.085001,
     "end_time": "2022-05-16T16:16:06.515602",
     "exception": false,
     "start_time": "2022-05-16T16:16:06.430601",
     "status": "completed"
    },
    "tags": []
   },
   "outputs": [
    {
     "name": "stdout",
     "output_type": "stream",
     "text": [
      "<class 'pandas.core.frame.DataFrame'>\n",
      "PeriodIndex: 1218 entries, 2013-01-01 to 2017-08-31\n",
      "Freq: D\n",
      "Data columns (total 1 columns):\n",
      " #   Column      Non-Null Count  Dtype  \n",
      "---  ------      --------------  -----  \n",
      " 0   dcoilwtico  1175 non-null   float32\n",
      "dtypes: float32(1)\n",
      "memory usage: 46.6 KB\n"
     ]
    }
   ],
   "source": [
    "dfOil = pd.DataFrame(oil)\n",
    "dfOil.info()"
   ]
  },
  {
   "cell_type": "code",
   "execution_count": 10,
   "id": "4c5f8ad2",
   "metadata": {
    "execution": {
     "iopub.execute_input": "2022-05-16T16:16:06.693596Z",
     "iopub.status.busy": "2022-05-16T16:16:06.688594Z",
     "iopub.status.idle": "2022-05-16T16:16:07.002076Z",
     "shell.execute_reply": "2022-05-16T16:16:07.001539Z",
     "shell.execute_reply.started": "2022-05-16T16:14:14.597953Z"
    },
    "papermill": {
     "duration": 0.414899,
     "end_time": "2022-05-16T16:16:07.002214",
     "exception": false,
     "start_time": "2022-05-16T16:16:06.587315",
     "status": "completed"
    },
    "tags": []
   },
   "outputs": [
    {
     "name": "stdout",
     "output_type": "stream",
     "text": [
      "<class 'pandas.core.frame.DataFrame'>\n",
      "PeriodIndex: 1218 entries, 2013-01-01 to 2017-08-31\n",
      "Freq: D\n",
      "Data columns (total 2 columns):\n",
      " #   Column      Non-Null Count  Dtype  \n",
      "---  ------      --------------  -----  \n",
      " 0   dcoilwtico  1217 non-null   float32\n",
      " 1   ma_oil      1211 non-null   float64\n",
      "dtypes: float32(1), float64(1)\n",
      "memory usage: 56.1 KB\n"
     ]
    },
    {
     "data": {
      "text/plain": [
       "<AxesSubplot:xlabel='date'>"
      ]
     },
     "execution_count": 10,
     "metadata": {},
     "output_type": "execute_result"
    },
    {
     "data": {
      "image/png": "[encoded data removed]",
      "text/plain": [
       "<Figure size 432x288 with 1 Axes>"
      ]
     },
     "metadata": {
      "needs_background": "light"
     },
     "output_type": "display_data"
    }
   ],
   "source": [
    "dfOil['ma_oil'] = dfOil['dcoilwtico'].rolling(7).mean() # calculating mean by oil ( there are NaNs  values)\n",
    "dfOil.fillna(method='ffill', inplace=True)\n",
    "dfOil.info()\n",
    "\n",
    "dfOil.plot()\n",
    "#dfOil.ma_oil[timeInitial:].plot()"
   ]
  },
  {
   "cell_type": "markdown",
   "id": "f6463ccd",
   "metadata": {
    "papermill": {
     "duration": 0.072121,
     "end_time": "2022-05-16T16:16:07.146960",
     "exception": false,
     "start_time": "2022-05-16T16:16:07.074839",
     "status": "completed"
    },
    "tags": []
   },
   "source": [
    "# **Model with Oil** #\n"
   ]
  },
  {
   "cell_type": "markdown",
   "id": "4b8b42b7",
   "metadata": {
    "papermill": {
     "duration": 0.072615,
     "end_time": "2022-05-16T16:16:07.291918",
     "exception": false,
     "start_time": "2022-05-16T16:16:07.219303",
     "status": "completed"
    },
    "tags": []
   },
   "source": [
    "We started create training  data, used `CalendarFourier`. For determine seasonal we take care `DeterministicProcess`. Futher, we add the Holiday days. "
   ]
  },
  {
   "cell_type": "code",
   "execution_count": 11,
   "id": "c629e5f1",
   "metadata": {
    "execution": {
     "iopub.execute_input": "2022-05-16T16:16:07.447032Z",
     "iopub.status.busy": "2022-05-16T16:16:07.446301Z",
     "iopub.status.idle": "2022-05-16T16:16:08.760545Z",
     "shell.execute_reply": "2022-05-16T16:16:08.761113Z",
     "shell.execute_reply.started": "2022-05-16T16:14:14.937130Z"
    },
    "papermill": {
     "duration": 1.393991,
     "end_time": "2022-05-16T16:16:08.761293",
     "exception": false,
     "start_time": "2022-05-16T16:16:07.367302",
     "status": "completed"
    },
    "tags": []
   },
   "outputs": [],
   "source": [
    "y = store_sales.unstack(['store_nbr', 'family']).loc[timeInitial:] \n",
    "\n",
    "\n",
    "# y = y.join( oil.rename('Oil') , on='date').fillna(method = 'bfill')\n",
    "\n",
    "# Create training data\n",
    "fourier = CalendarFourier(freq='M', order=4)\n",
    "dp = DeterministicProcess(\n",
    "    index=y.index,\n",
    "    constant=True,\n",
    "    order=1,\n",
    "    seasonal=True,\n",
    "    additional_terms=[fourier],\n",
    "    drop=True,\n",
    ")"
   ]
  },
  {
   "cell_type": "code",
   "execution_count": 12,
   "id": "f899671d",
   "metadata": {
    "execution": {
     "iopub.execute_input": "2022-05-16T16:16:08.914304Z",
     "iopub.status.busy": "2022-05-16T16:16:08.913645Z",
     "iopub.status.idle": "2022-05-16T16:16:08.962644Z",
     "shell.execute_reply": "2022-05-16T16:16:08.963236Z",
     "shell.execute_reply.started": "2022-05-16T16:14:16.215467Z"
    },
    "papermill": {
     "duration": 0.126867,
     "end_time": "2022-05-16T16:16:08.963422",
     "exception": false,
     "start_time": "2022-05-16T16:16:08.836555",
     "status": "completed"
    },
    "tags": []
   },
   "outputs": [
    {
     "data": {
      "text/html": [
       "<div>\n",
       "<style scoped>\n",
       "    .dataframe tbody tr th:only-of-type {\n",
       "        vertical-align: middle;\n",
       "    }\n",
       "\n",
       "    .dataframe tbody tr th {\n",
       "        vertical-align: top;\n",
       "    }\n",
       "\n",
       "    .dataframe thead th {\n",
       "        text-align: right;\n",
       "    }\n",
       "</style>\n",
       "<table border=\"1\" class=\"dataframe\">\n",
       "  <thead>\n",
       "    <tr style=\"text-align: right;\">\n",
       "      <th></th>\n",
       "      <th>const</th>\n",
       "      <th>trend</th>\n",
       "      <th>s(2,7)</th>\n",
       "      <th>s(3,7)</th>\n",
       "      <th>s(4,7)</th>\n",
       "      <th>s(5,7)</th>\n",
       "      <th>s(6,7)</th>\n",
       "      <th>s(7,7)</th>\n",
       "      <th>sin(1,freq=M)</th>\n",
       "      <th>cos(1,freq=M)</th>\n",
       "      <th>sin(2,freq=M)</th>\n",
       "      <th>cos(2,freq=M)</th>\n",
       "      <th>sin(3,freq=M)</th>\n",
       "      <th>cos(3,freq=M)</th>\n",
       "      <th>sin(4,freq=M)</th>\n",
       "      <th>cos(4,freq=M)</th>\n",
       "      <th>NewYear</th>\n",
       "    </tr>\n",
       "    <tr>\n",
       "      <th>date</th>\n",
       "      <th></th>\n",
       "      <th></th>\n",
       "      <th></th>\n",
       "      <th></th>\n",
       "      <th></th>\n",
       "      <th></th>\n",
       "      <th></th>\n",
       "      <th></th>\n",
       "      <th></th>\n",
       "      <th></th>\n",
       "      <th></th>\n",
       "      <th></th>\n",
       "      <th></th>\n",
       "      <th></th>\n",
       "      <th></th>\n",
       "      <th></th>\n",
       "      <th></th>\n",
       "    </tr>\n",
       "  </thead>\n",
       "  <tbody>\n",
       "    <tr>\n",
       "      <th>2016-08-01</th>\n",
       "      <td>1.0</td>\n",
       "      <td>1.0</td>\n",
       "      <td>0.0</td>\n",
       "      <td>0.0</td>\n",
       "      <td>0.0</td>\n",
       "      <td>0.0</td>\n",
       "      <td>0.0</td>\n",
       "      <td>0.0</td>\n",
       "      <td>0.000000</td>\n",
       "      <td>1.000000</td>\n",
       "      <td>0.000000</td>\n",
       "      <td>1.000000</td>\n",
       "      <td>0.000000</td>\n",
       "      <td>1.000000</td>\n",
       "      <td>0.000000</td>\n",
       "      <td>1.000000</td>\n",
       "      <td>False</td>\n",
       "    </tr>\n",
       "    <tr>\n",
       "      <th>2016-08-02</th>\n",
       "      <td>1.0</td>\n",
       "      <td>2.0</td>\n",
       "      <td>1.0</td>\n",
       "      <td>0.0</td>\n",
       "      <td>0.0</td>\n",
       "      <td>0.0</td>\n",
       "      <td>0.0</td>\n",
       "      <td>0.0</td>\n",
       "      <td>0.201299</td>\n",
       "      <td>0.979530</td>\n",
       "      <td>0.394356</td>\n",
       "      <td>0.918958</td>\n",
       "      <td>0.571268</td>\n",
       "      <td>0.820763</td>\n",
       "      <td>0.724793</td>\n",
       "      <td>0.688967</td>\n",
       "      <td>False</td>\n",
       "    </tr>\n",
       "    <tr>\n",
       "      <th>2016-08-03</th>\n",
       "      <td>1.0</td>\n",
       "      <td>3.0</td>\n",
       "      <td>0.0</td>\n",
       "      <td>1.0</td>\n",
       "      <td>0.0</td>\n",
       "      <td>0.0</td>\n",
       "      <td>0.0</td>\n",
       "      <td>0.0</td>\n",
       "      <td>0.394356</td>\n",
       "      <td>0.918958</td>\n",
       "      <td>0.724793</td>\n",
       "      <td>0.688967</td>\n",
       "      <td>0.937752</td>\n",
       "      <td>0.347305</td>\n",
       "      <td>0.998717</td>\n",
       "      <td>-0.050649</td>\n",
       "      <td>False</td>\n",
       "    </tr>\n",
       "    <tr>\n",
       "      <th>2016-08-04</th>\n",
       "      <td>1.0</td>\n",
       "      <td>4.0</td>\n",
       "      <td>0.0</td>\n",
       "      <td>0.0</td>\n",
       "      <td>1.0</td>\n",
       "      <td>0.0</td>\n",
       "      <td>0.0</td>\n",
       "      <td>0.0</td>\n",
       "      <td>0.571268</td>\n",
       "      <td>0.820763</td>\n",
       "      <td>0.937752</td>\n",
       "      <td>0.347305</td>\n",
       "      <td>0.968077</td>\n",
       "      <td>-0.250653</td>\n",
       "      <td>0.651372</td>\n",
       "      <td>-0.758758</td>\n",
       "      <td>False</td>\n",
       "    </tr>\n",
       "    <tr>\n",
       "      <th>2016-08-05</th>\n",
       "      <td>1.0</td>\n",
       "      <td>5.0</td>\n",
       "      <td>0.0</td>\n",
       "      <td>0.0</td>\n",
       "      <td>0.0</td>\n",
       "      <td>1.0</td>\n",
       "      <td>0.0</td>\n",
       "      <td>0.0</td>\n",
       "      <td>0.724793</td>\n",
       "      <td>0.688967</td>\n",
       "      <td>0.998717</td>\n",
       "      <td>-0.050649</td>\n",
       "      <td>0.651372</td>\n",
       "      <td>-0.758758</td>\n",
       "      <td>-0.101168</td>\n",
       "      <td>-0.994869</td>\n",
       "      <td>False</td>\n",
       "    </tr>\n",
       "  </tbody>\n",
       "</table>\n",
       "</div>"
      ],
      "text/plain": [
       "            const  trend  s(2,7)  s(3,7)  s(4,7)  s(5,7)  s(6,7)  s(7,7)  \\\n",
       "date                                                                       \n",
       "2016-08-01    1.0    1.0     0.0     0.0     0.0     0.0     0.0     0.0   \n",
       "2016-08-02    1.0    2.0     1.0     0.0     0.0     0.0     0.0     0.0   \n",
       "2016-08-03    1.0    3.0     0.0     1.0     0.0     0.0     0.0     0.0   \n",
       "2016-08-04    1.0    4.0     0.0     0.0     1.0     0.0     0.0     0.0   \n",
       "2016-08-05    1.0    5.0     0.0     0.0     0.0     1.0     0.0     0.0   \n",
       "\n",
       "            sin(1,freq=M)  cos(1,freq=M)  sin(2,freq=M)  cos(2,freq=M)  \\\n",
       "date                                                                     \n",
       "2016-08-01       0.000000       1.000000       0.000000       1.000000   \n",
       "2016-08-02       0.201299       0.979530       0.394356       0.918958   \n",
       "2016-08-03       0.394356       0.918958       0.724793       0.688967   \n",
       "2016-08-04       0.571268       0.820763       0.937752       0.347305   \n",
       "2016-08-05       0.724793       0.688967       0.998717      -0.050649   \n",
       "\n",
       "            sin(3,freq=M)  cos(3,freq=M)  sin(4,freq=M)  cos(4,freq=M)  \\\n",
       "date                                                                     \n",
       "2016-08-01       0.000000       1.000000       0.000000       1.000000   \n",
       "2016-08-02       0.571268       0.820763       0.724793       0.688967   \n",
       "2016-08-03       0.937752       0.347305       0.998717      -0.050649   \n",
       "2016-08-04       0.968077      -0.250653       0.651372      -0.758758   \n",
       "2016-08-05       0.651372      -0.758758      -0.101168      -0.994869   \n",
       "\n",
       "            NewYear  \n",
       "date                 \n",
       "2016-08-01    False  \n",
       "2016-08-02    False  \n",
       "2016-08-03    False  \n",
       "2016-08-04    False  \n",
       "2016-08-05    False  "
      ]
     },
     "execution_count": 12,
     "metadata": {},
     "output_type": "execute_result"
    }
   ],
   "source": [
    "X = dp.in_sample()\n",
    "X['NewYear'] = (X.index.dayofyear == 1)\n",
    "X.head()\n",
    "#holidays = holidays.groupby(holidays.index).first() # Removing duplicated holiday at the same date"
   ]
  },
  {
   "cell_type": "markdown",
   "id": "0a4beb21",
   "metadata": {
    "papermill": {
     "duration": 0.07666,
     "end_time": "2022-05-16T16:16:09.116976",
     "exception": false,
     "start_time": "2022-05-16T16:16:09.040316",
     "status": "completed"
    },
    "tags": []
   },
   "source": [
    "## Feature Engineering for Holidays"
   ]
  },
  {
   "cell_type": "code",
   "execution_count": 13,
   "id": "39128db5",
   "metadata": {
    "execution": {
     "iopub.execute_input": "2022-05-16T16:16:09.276454Z",
     "iopub.status.busy": "2022-05-16T16:16:09.275443Z",
     "iopub.status.idle": "2022-05-16T16:16:09.313124Z",
     "shell.execute_reply": "2022-05-16T16:16:09.312614Z",
     "shell.execute_reply.started": "2022-05-16T16:14:16.254410Z"
    },
    "papermill": {
     "duration": 0.120327,
     "end_time": "2022-05-16T16:16:09.313267",
     "exception": false,
     "start_time": "2022-05-16T16:16:09.192940",
     "status": "completed"
    },
    "tags": []
   },
   "outputs": [
    {
     "data": {
      "text/html": [
       "<div>\n",
       "<style scoped>\n",
       "    .dataframe tbody tr th:only-of-type {\n",
       "        vertical-align: middle;\n",
       "    }\n",
       "\n",
       "    .dataframe tbody tr th {\n",
       "        vertical-align: top;\n",
       "    }\n",
       "\n",
       "    .dataframe thead th {\n",
       "        text-align: right;\n",
       "    }\n",
       "</style>\n",
       "<table border=\"1\" class=\"dataframe\">\n",
       "  <thead>\n",
       "    <tr style=\"text-align: right;\">\n",
       "      <th></th>\n",
       "      <th>wd</th>\n",
       "      <th>dofw_1</th>\n",
       "      <th>dofw_2</th>\n",
       "      <th>dofw_3</th>\n",
       "      <th>dofw_4</th>\n",
       "      <th>dofw_5</th>\n",
       "      <th>dofw_6</th>\n",
       "      <th>type_Additional</th>\n",
       "      <th>type_Bridge</th>\n",
       "      <th>type_Event</th>\n",
       "      <th>type_Holiday</th>\n",
       "      <th>type_Transfer</th>\n",
       "      <th>type_Work Day</th>\n",
       "    </tr>\n",
       "  </thead>\n",
       "  <tbody>\n",
       "    <tr>\n",
       "      <th>2013-01-01</th>\n",
       "      <td>0</td>\n",
       "      <td>1</td>\n",
       "      <td>0</td>\n",
       "      <td>0</td>\n",
       "      <td>0</td>\n",
       "      <td>0</td>\n",
       "      <td>0</td>\n",
       "      <td>0</td>\n",
       "      <td>0</td>\n",
       "      <td>0</td>\n",
       "      <td>1</td>\n",
       "      <td>0</td>\n",
       "      <td>0</td>\n",
       "    </tr>\n",
       "    <tr>\n",
       "      <th>2013-01-02</th>\n",
       "      <td>1</td>\n",
       "      <td>0</td>\n",
       "      <td>1</td>\n",
       "      <td>0</td>\n",
       "      <td>0</td>\n",
       "      <td>0</td>\n",
       "      <td>0</td>\n",
       "      <td>0</td>\n",
       "      <td>0</td>\n",
       "      <td>0</td>\n",
       "      <td>0</td>\n",
       "      <td>0</td>\n",
       "      <td>0</td>\n",
       "    </tr>\n",
       "    <tr>\n",
       "      <th>2013-01-03</th>\n",
       "      <td>1</td>\n",
       "      <td>0</td>\n",
       "      <td>0</td>\n",
       "      <td>1</td>\n",
       "      <td>0</td>\n",
       "      <td>0</td>\n",
       "      <td>0</td>\n",
       "      <td>0</td>\n",
       "      <td>0</td>\n",
       "      <td>0</td>\n",
       "      <td>0</td>\n",
       "      <td>0</td>\n",
       "      <td>0</td>\n",
       "    </tr>\n",
       "    <tr>\n",
       "      <th>2013-01-04</th>\n",
       "      <td>1</td>\n",
       "      <td>0</td>\n",
       "      <td>0</td>\n",
       "      <td>0</td>\n",
       "      <td>1</td>\n",
       "      <td>0</td>\n",
       "      <td>0</td>\n",
       "      <td>0</td>\n",
       "      <td>0</td>\n",
       "      <td>0</td>\n",
       "      <td>0</td>\n",
       "      <td>0</td>\n",
       "      <td>0</td>\n",
       "    </tr>\n",
       "    <tr>\n",
       "      <th>2013-01-05</th>\n",
       "      <td>1</td>\n",
       "      <td>0</td>\n",
       "      <td>0</td>\n",
       "      <td>0</td>\n",
       "      <td>0</td>\n",
       "      <td>1</td>\n",
       "      <td>0</td>\n",
       "      <td>0</td>\n",
       "      <td>0</td>\n",
       "      <td>0</td>\n",
       "      <td>0</td>\n",
       "      <td>0</td>\n",
       "      <td>1</td>\n",
       "    </tr>\n",
       "  </tbody>\n",
       "</table>\n",
       "</div>"
      ],
      "text/plain": [
       "            wd  dofw_1  dofw_2  dofw_3  dofw_4  dofw_5  dofw_6  \\\n",
       "2013-01-01   0       1       0       0       0       0       0   \n",
       "2013-01-02   1       0       1       0       0       0       0   \n",
       "2013-01-03   1       0       0       1       0       0       0   \n",
       "2013-01-04   1       0       0       0       1       0       0   \n",
       "2013-01-05   1       0       0       0       0       1       0   \n",
       "\n",
       "            type_Additional  type_Bridge  type_Event  type_Holiday  \\\n",
       "2013-01-01                0            0           0             1   \n",
       "2013-01-02                0            0           0             0   \n",
       "2013-01-03                0            0           0             0   \n",
       "2013-01-04                0            0           0             0   \n",
       "2013-01-05                0            0           0             0   \n",
       "\n",
       "            type_Transfer  type_Work Day  \n",
       "2013-01-01              0              0  \n",
       "2013-01-02              0              0  \n",
       "2013-01-03              0              0  \n",
       "2013-01-04              0              0  \n",
       "2013-01-05              0              1  "
      ]
     },
     "execution_count": 13,
     "metadata": {},
     "output_type": "execute_result"
    }
   ],
   "source": [
    "#calendar = X.join(hol)\n",
    "calendar = pd.DataFrame(index = pd.date_range('2013-01-01', '2017-08-31')).to_period('D')\n",
    "\n",
    "calendar['dofw'] = calendar.index.dayofweek # Weekly day\n",
    "calendar['wd'] = True\n",
    "calendar.loc[calendar.dofw > 4, 'wd'] = False # not work day\n",
    "\n",
    "calendar = calendar.join(hol) # Joining calendar with holiday dataset\n",
    "calendar['dofw'] = calendar.index.dayofweek # Weekly day\n",
    "calendar['wd'] = 1\n",
    "calendar.loc[calendar.dofw > 4, 'wd'] = 0 # If it's saturday or sunday then it's not Weekday\n",
    "calendar.loc[calendar.type == 'Work Day', 'wd'] = 1 # If it's Work Day event then it's a workday\n",
    "calendar.loc[calendar.type == 'Transfer', 'wd'] = 0 # If it's Transfer event then it's not a work day\n",
    "calendar.loc[calendar.type == 'Bridge', 'wd'] = 0 # If it's Bridge event then it's not a work day\n",
    "calendar.loc[(calendar.type == 'Holiday') & (calendar.transferred == False), 'wd'] = 0 # If it's holiday and the holiday is not transferred then it's holiday\n",
    "calendar.loc[(calendar.type == 'Holiday') & (calendar.transferred == True), 'wd'] = 1 # If it's holiday and transferred then it's not holiday\n",
    "calendar = pd.get_dummies(calendar, columns = ['dofw'], drop_first = True) # One-hot encoding (Make sure to drop one of the columns by 'drop_first = True')\n",
    "calendar = pd.get_dummies(calendar, columns = ['type']) # One-hot encoding for type holiday (No need to drop one of the columns because there's a \"No holiday\" already)\n",
    "calendar.drop(['locale', 'locale_name', 'description', 'transferred'], axis = 1, inplace = True) # Unused columns\n",
    "calendar\n",
    "\n",
    "\n",
    "\n",
    "calendar.head()"
   ]
  },
  {
   "cell_type": "code",
   "execution_count": 14,
   "id": "a877021e",
   "metadata": {
    "execution": {
     "iopub.execute_input": "2022-05-16T16:16:09.466531Z",
     "iopub.status.busy": "2022-05-16T16:16:09.465789Z",
     "iopub.status.idle": "2022-05-16T16:16:09.563111Z",
     "shell.execute_reply": "2022-05-16T16:16:09.563738Z",
     "shell.execute_reply.started": "2022-05-16T16:14:16.297723Z"
    },
    "papermill": {
     "duration": 0.174768,
     "end_time": "2022-05-16T16:16:09.563913",
     "exception": false,
     "start_time": "2022-05-16T16:16:09.389145",
     "status": "completed"
    },
    "tags": []
   },
   "outputs": [
    {
     "data": {
      "text/html": [
       "<div>\n",
       "<style scoped>\n",
       "    .dataframe tbody tr th:only-of-type {\n",
       "        vertical-align: middle;\n",
       "    }\n",
       "\n",
       "    .dataframe tbody tr th {\n",
       "        vertical-align: top;\n",
       "    }\n",
       "\n",
       "    .dataframe thead th {\n",
       "        text-align: right;\n",
       "    }\n",
       "</style>\n",
       "<table border=\"1\" class=\"dataframe\">\n",
       "  <thead>\n",
       "    <tr style=\"text-align: right;\">\n",
       "      <th></th>\n",
       "      <th>wd</th>\n",
       "      <th>dofw_1</th>\n",
       "      <th>dofw_2</th>\n",
       "      <th>dofw_3</th>\n",
       "      <th>dofw_4</th>\n",
       "      <th>dofw_5</th>\n",
       "      <th>dofw_6</th>\n",
       "      <th>type_Additional</th>\n",
       "      <th>type_Bridge</th>\n",
       "      <th>type_Event</th>\n",
       "      <th>type_Holiday</th>\n",
       "      <th>type_Transfer</th>\n",
       "      <th>type_Work Day</th>\n",
       "      <th>school_season</th>\n",
       "    </tr>\n",
       "  </thead>\n",
       "  <tbody>\n",
       "    <tr>\n",
       "      <th>2013-01-01</th>\n",
       "      <td>0</td>\n",
       "      <td>1</td>\n",
       "      <td>0</td>\n",
       "      <td>0</td>\n",
       "      <td>0</td>\n",
       "      <td>0</td>\n",
       "      <td>0</td>\n",
       "      <td>0</td>\n",
       "      <td>0</td>\n",
       "      <td>0</td>\n",
       "      <td>1</td>\n",
       "      <td>0</td>\n",
       "      <td>0</td>\n",
       "      <td>0</td>\n",
       "    </tr>\n",
       "    <tr>\n",
       "      <th>2013-01-02</th>\n",
       "      <td>1</td>\n",
       "      <td>0</td>\n",
       "      <td>1</td>\n",
       "      <td>0</td>\n",
       "      <td>0</td>\n",
       "      <td>0</td>\n",
       "      <td>0</td>\n",
       "      <td>0</td>\n",
       "      <td>0</td>\n",
       "      <td>0</td>\n",
       "      <td>0</td>\n",
       "      <td>0</td>\n",
       "      <td>0</td>\n",
       "      <td>0</td>\n",
       "    </tr>\n",
       "    <tr>\n",
       "      <th>2013-01-03</th>\n",
       "      <td>1</td>\n",
       "      <td>0</td>\n",
       "      <td>0</td>\n",
       "      <td>1</td>\n",
       "      <td>0</td>\n",
       "      <td>0</td>\n",
       "      <td>0</td>\n",
       "      <td>0</td>\n",
       "      <td>0</td>\n",
       "      <td>0</td>\n",
       "      <td>0</td>\n",
       "      <td>0</td>\n",
       "      <td>0</td>\n",
       "      <td>0</td>\n",
       "    </tr>\n",
       "    <tr>\n",
       "      <th>2013-01-04</th>\n",
       "      <td>1</td>\n",
       "      <td>0</td>\n",
       "      <td>0</td>\n",
       "      <td>0</td>\n",
       "      <td>1</td>\n",
       "      <td>0</td>\n",
       "      <td>0</td>\n",
       "      <td>0</td>\n",
       "      <td>0</td>\n",
       "      <td>0</td>\n",
       "      <td>0</td>\n",
       "      <td>0</td>\n",
       "      <td>0</td>\n",
       "      <td>0</td>\n",
       "    </tr>\n",
       "    <tr>\n",
       "      <th>2013-01-05</th>\n",
       "      <td>1</td>\n",
       "      <td>0</td>\n",
       "      <td>0</td>\n",
       "      <td>0</td>\n",
       "      <td>0</td>\n",
       "      <td>1</td>\n",
       "      <td>0</td>\n",
       "      <td>0</td>\n",
       "      <td>0</td>\n",
       "      <td>0</td>\n",
       "      <td>0</td>\n",
       "      <td>0</td>\n",
       "      <td>1</td>\n",
       "      <td>0</td>\n",
       "    </tr>\n",
       "    <tr>\n",
       "      <th>...</th>\n",
       "      <td>...</td>\n",
       "      <td>...</td>\n",
       "      <td>...</td>\n",
       "      <td>...</td>\n",
       "      <td>...</td>\n",
       "      <td>...</td>\n",
       "      <td>...</td>\n",
       "      <td>...</td>\n",
       "      <td>...</td>\n",
       "      <td>...</td>\n",
       "      <td>...</td>\n",
       "      <td>...</td>\n",
       "      <td>...</td>\n",
       "      <td>...</td>\n",
       "    </tr>\n",
       "    <tr>\n",
       "      <th>2017-08-27</th>\n",
       "      <td>0</td>\n",
       "      <td>0</td>\n",
       "      <td>0</td>\n",
       "      <td>0</td>\n",
       "      <td>0</td>\n",
       "      <td>0</td>\n",
       "      <td>1</td>\n",
       "      <td>0</td>\n",
       "      <td>0</td>\n",
       "      <td>0</td>\n",
       "      <td>0</td>\n",
       "      <td>0</td>\n",
       "      <td>0</td>\n",
       "      <td>1</td>\n",
       "    </tr>\n",
       "    <tr>\n",
       "      <th>2017-08-28</th>\n",
       "      <td>1</td>\n",
       "      <td>0</td>\n",
       "      <td>0</td>\n",
       "      <td>0</td>\n",
       "      <td>0</td>\n",
       "      <td>0</td>\n",
       "      <td>0</td>\n",
       "      <td>0</td>\n",
       "      <td>0</td>\n",
       "      <td>0</td>\n",
       "      <td>0</td>\n",
       "      <td>0</td>\n",
       "      <td>0</td>\n",
       "      <td>1</td>\n",
       "    </tr>\n",
       "    <tr>\n",
       "      <th>2017-08-29</th>\n",
       "      <td>1</td>\n",
       "      <td>1</td>\n",
       "      <td>0</td>\n",
       "      <td>0</td>\n",
       "      <td>0</td>\n",
       "      <td>0</td>\n",
       "      <td>0</td>\n",
       "      <td>0</td>\n",
       "      <td>0</td>\n",
       "      <td>0</td>\n",
       "      <td>0</td>\n",
       "      <td>0</td>\n",
       "      <td>0</td>\n",
       "      <td>1</td>\n",
       "    </tr>\n",
       "    <tr>\n",
       "      <th>2017-08-30</th>\n",
       "      <td>1</td>\n",
       "      <td>0</td>\n",
       "      <td>1</td>\n",
       "      <td>0</td>\n",
       "      <td>0</td>\n",
       "      <td>0</td>\n",
       "      <td>0</td>\n",
       "      <td>0</td>\n",
       "      <td>0</td>\n",
       "      <td>0</td>\n",
       "      <td>0</td>\n",
       "      <td>0</td>\n",
       "      <td>0</td>\n",
       "      <td>1</td>\n",
       "    </tr>\n",
       "    <tr>\n",
       "      <th>2017-08-31</th>\n",
       "      <td>1</td>\n",
       "      <td>0</td>\n",
       "      <td>0</td>\n",
       "      <td>1</td>\n",
       "      <td>0</td>\n",
       "      <td>0</td>\n",
       "      <td>0</td>\n",
       "      <td>0</td>\n",
       "      <td>0</td>\n",
       "      <td>0</td>\n",
       "      <td>0</td>\n",
       "      <td>0</td>\n",
       "      <td>0</td>\n",
       "      <td>1</td>\n",
       "    </tr>\n",
       "  </tbody>\n",
       "</table>\n",
       "<p>1704 rows × 14 columns</p>\n",
       "</div>"
      ],
      "text/plain": [
       "            wd  dofw_1  dofw_2  dofw_3  dofw_4  dofw_5  dofw_6  \\\n",
       "2013-01-01   0       1       0       0       0       0       0   \n",
       "2013-01-02   1       0       1       0       0       0       0   \n",
       "2013-01-03   1       0       0       1       0       0       0   \n",
       "2013-01-04   1       0       0       0       1       0       0   \n",
       "2013-01-05   1       0       0       0       0       1       0   \n",
       "...         ..     ...     ...     ...     ...     ...     ...   \n",
       "2017-08-27   0       0       0       0       0       0       1   \n",
       "2017-08-28   1       0       0       0       0       0       0   \n",
       "2017-08-29   1       1       0       0       0       0       0   \n",
       "2017-08-30   1       0       1       0       0       0       0   \n",
       "2017-08-31   1       0       0       1       0       0       0   \n",
       "\n",
       "            type_Additional  type_Bridge  type_Event  type_Holiday  \\\n",
       "2013-01-01                0            0           0             1   \n",
       "2013-01-02                0            0           0             0   \n",
       "2013-01-03                0            0           0             0   \n",
       "2013-01-04                0            0           0             0   \n",
       "2013-01-05                0            0           0             0   \n",
       "...                     ...          ...         ...           ...   \n",
       "2017-08-27                0            0           0             0   \n",
       "2017-08-28                0            0           0             0   \n",
       "2017-08-29                0            0           0             0   \n",
       "2017-08-30                0            0           0             0   \n",
       "2017-08-31                0            0           0             0   \n",
       "\n",
       "            type_Transfer  type_Work Day  school_season  \n",
       "2013-01-01              0              0              0  \n",
       "2013-01-02              0              0              0  \n",
       "2013-01-03              0              0              0  \n",
       "2013-01-04              0              0              0  \n",
       "2013-01-05              0              1              0  \n",
       "...                   ...            ...            ...  \n",
       "2017-08-27              0              0              1  \n",
       "2017-08-28              0              0              1  \n",
       "2017-08-29              0              0              1  \n",
       "2017-08-30              0              0              1  \n",
       "2017-08-31              0              0              1  \n",
       "\n",
       "[1704 rows x 14 columns]"
      ]
     },
     "execution_count": 14,
     "metadata": {},
     "output_type": "execute_result"
    }
   ],
   "source": [
    "school_season = [] # Feature for school fluctuations\n",
    "for i, r in calendar.iterrows() :\n",
    "    if i.month in [4, 5, 8, 9] :\n",
    "        school_season.append(1)\n",
    "    else :\n",
    "        school_season.append(0)\n",
    "calendar['school_season'] = school_season\n",
    "calendar"
   ]
  },
  {
   "cell_type": "code",
   "execution_count": 15,
   "id": "b6c7c2f4",
   "metadata": {
    "execution": {
     "iopub.execute_input": "2022-05-16T16:16:09.722297Z",
     "iopub.status.busy": "2022-05-16T16:16:09.719389Z",
     "iopub.status.idle": "2022-05-16T16:16:09.724597Z",
     "shell.execute_reply": "2022-05-16T16:16:09.725179Z",
     "shell.execute_reply.started": "2022-05-16T16:14:16.399006Z"
    },
    "papermill": {
     "duration": 0.086369,
     "end_time": "2022-05-16T16:16:09.725376",
     "exception": false,
     "start_time": "2022-05-16T16:16:09.639007",
     "status": "completed"
    },
    "tags": []
   },
   "outputs": [],
   "source": [
    "X = X.join(calendar)"
   ]
  },
  {
   "cell_type": "code",
   "execution_count": 16,
   "id": "6c802d6f",
   "metadata": {
    "execution": {
     "iopub.execute_input": "2022-05-16T16:16:09.880830Z",
     "iopub.status.busy": "2022-05-16T16:16:09.880056Z",
     "iopub.status.idle": "2022-05-16T16:16:09.894999Z",
     "shell.execute_reply": "2022-05-16T16:16:09.894367Z",
     "shell.execute_reply.started": "2022-05-16T16:14:16.406717Z"
    },
    "papermill": {
     "duration": 0.093573,
     "end_time": "2022-05-16T16:16:09.895136",
     "exception": false,
     "start_time": "2022-05-16T16:16:09.801563",
     "status": "completed"
    },
    "tags": []
   },
   "outputs": [
    {
     "name": "stdout",
     "output_type": "stream",
     "text": [
      "<class 'pandas.core.frame.DataFrame'>\n",
      "PeriodIndex: 379 entries, 2016-08-01 to 2017-08-15\n",
      "Freq: D\n",
      "Data columns (total 31 columns):\n",
      " #   Column           Non-Null Count  Dtype  \n",
      "---  ------           --------------  -----  \n",
      " 0   const            379 non-null    float64\n",
      " 1   trend            379 non-null    float64\n",
      " 2   s(2,7)           379 non-null    float64\n",
      " 3   s(3,7)           379 non-null    float64\n",
      " 4   s(4,7)           379 non-null    float64\n",
      " 5   s(5,7)           379 non-null    float64\n",
      " 6   s(6,7)           379 non-null    float64\n",
      " 7   s(7,7)           379 non-null    float64\n",
      " 8   sin(1,freq=M)    379 non-null    float64\n",
      " 9   cos(1,freq=M)    379 non-null    float64\n",
      " 10  sin(2,freq=M)    379 non-null    float64\n",
      " 11  cos(2,freq=M)    379 non-null    float64\n",
      " 12  sin(3,freq=M)    379 non-null    float64\n",
      " 13  cos(3,freq=M)    379 non-null    float64\n",
      " 14  sin(4,freq=M)    379 non-null    float64\n",
      " 15  cos(4,freq=M)    379 non-null    float64\n",
      " 16  NewYear          379 non-null    bool   \n",
      " 17  wd               379 non-null    int64  \n",
      " 18  dofw_1           379 non-null    uint8  \n",
      " 19  dofw_2           379 non-null    uint8  \n",
      " 20  dofw_3           379 non-null    uint8  \n",
      " 21  dofw_4           379 non-null    uint8  \n",
      " 22  dofw_5           379 non-null    uint8  \n",
      " 23  dofw_6           379 non-null    uint8  \n",
      " 24  type_Additional  379 non-null    uint8  \n",
      " 25  type_Bridge      379 non-null    uint8  \n",
      " 26  type_Event       379 non-null    uint8  \n",
      " 27  type_Holiday     379 non-null    uint8  \n",
      " 28  type_Transfer    379 non-null    uint8  \n",
      " 29  type_Work Day    379 non-null    uint8  \n",
      " 30  school_season    379 non-null    int64  \n",
      "dtypes: bool(1), float64(16), int64(2), uint8(12)\n",
      "memory usage: 69.2 KB\n"
     ]
    }
   ],
   "source": [
    "X.info()"
   ]
  },
  {
   "cell_type": "code",
   "execution_count": 17,
   "id": "36e05c41",
   "metadata": {
    "execution": {
     "iopub.execute_input": "2022-05-16T16:16:10.053194Z",
     "iopub.status.busy": "2022-05-16T16:16:10.052382Z",
     "iopub.status.idle": "2022-05-16T16:16:10.055032Z",
     "shell.execute_reply": "2022-05-16T16:16:10.055627Z",
     "shell.execute_reply.started": "2022-05-16T16:14:16.433047Z"
    },
    "papermill": {
     "duration": 0.084365,
     "end_time": "2022-05-16T16:16:10.055798",
     "exception": false,
     "start_time": "2022-05-16T16:16:09.971433",
     "status": "completed"
    },
    "tags": []
   },
   "outputs": [],
   "source": [
    "\n",
    "\n",
    "\n",
    "#X_holidays = pd.get_dummies(holidays) # add columns on Holidays, more featured, way matricial\n",
    "X1 = X.copy()\n",
    "\n",
    "#X2 = X1.join(X_holidays, on='date').fillna(0.0)\n"
   ]
  },
  {
   "cell_type": "code",
   "execution_count": 18,
   "id": "9918417d",
   "metadata": {
    "execution": {
     "iopub.execute_input": "2022-05-16T16:16:10.212295Z",
     "iopub.status.busy": "2022-05-16T16:16:10.211307Z",
     "iopub.status.idle": "2022-05-16T16:16:10.248763Z",
     "shell.execute_reply": "2022-05-16T16:16:10.248178Z",
     "shell.execute_reply.started": "2022-05-16T16:14:16.440883Z"
    },
    "papermill": {
     "duration": 0.117133,
     "end_time": "2022-05-16T16:16:10.248912",
     "exception": false,
     "start_time": "2022-05-16T16:16:10.131779",
     "status": "completed"
    },
    "tags": []
   },
   "outputs": [
    {
     "data": {
      "text/html": [
       "<div>\n",
       "<style scoped>\n",
       "    .dataframe tbody tr th:only-of-type {\n",
       "        vertical-align: middle;\n",
       "    }\n",
       "\n",
       "    .dataframe tbody tr th {\n",
       "        vertical-align: top;\n",
       "    }\n",
       "\n",
       "    .dataframe thead th {\n",
       "        text-align: right;\n",
       "    }\n",
       "</style>\n",
       "<table border=\"1\" class=\"dataframe\">\n",
       "  <thead>\n",
       "    <tr style=\"text-align: right;\">\n",
       "      <th></th>\n",
       "      <th>const</th>\n",
       "      <th>trend</th>\n",
       "      <th>s(2,7)</th>\n",
       "      <th>s(3,7)</th>\n",
       "      <th>s(4,7)</th>\n",
       "      <th>s(5,7)</th>\n",
       "      <th>s(6,7)</th>\n",
       "      <th>s(7,7)</th>\n",
       "      <th>sin(1,freq=M)</th>\n",
       "      <th>cos(1,freq=M)</th>\n",
       "      <th>sin(2,freq=M)</th>\n",
       "      <th>cos(2,freq=M)</th>\n",
       "      <th>sin(3,freq=M)</th>\n",
       "      <th>cos(3,freq=M)</th>\n",
       "      <th>sin(4,freq=M)</th>\n",
       "      <th>cos(4,freq=M)</th>\n",
       "    </tr>\n",
       "    <tr>\n",
       "      <th>date</th>\n",
       "      <th></th>\n",
       "      <th></th>\n",
       "      <th></th>\n",
       "      <th></th>\n",
       "      <th></th>\n",
       "      <th></th>\n",
       "      <th></th>\n",
       "      <th></th>\n",
       "      <th></th>\n",
       "      <th></th>\n",
       "      <th></th>\n",
       "      <th></th>\n",
       "      <th></th>\n",
       "      <th></th>\n",
       "      <th></th>\n",
       "      <th></th>\n",
       "    </tr>\n",
       "  </thead>\n",
       "  <tbody>\n",
       "    <tr>\n",
       "      <th>2016-08-01</th>\n",
       "      <td>1.0</td>\n",
       "      <td>1.0</td>\n",
       "      <td>0.0</td>\n",
       "      <td>0.0</td>\n",
       "      <td>0.0</td>\n",
       "      <td>0.0</td>\n",
       "      <td>0.0</td>\n",
       "      <td>0.0</td>\n",
       "      <td>0.000000</td>\n",
       "      <td>1.000000</td>\n",
       "      <td>0.000000</td>\n",
       "      <td>1.000000</td>\n",
       "      <td>0.000000</td>\n",
       "      <td>1.000000</td>\n",
       "      <td>0.000000</td>\n",
       "      <td>1.000000</td>\n",
       "    </tr>\n",
       "    <tr>\n",
       "      <th>2016-08-02</th>\n",
       "      <td>1.0</td>\n",
       "      <td>2.0</td>\n",
       "      <td>1.0</td>\n",
       "      <td>0.0</td>\n",
       "      <td>0.0</td>\n",
       "      <td>0.0</td>\n",
       "      <td>0.0</td>\n",
       "      <td>0.0</td>\n",
       "      <td>0.201299</td>\n",
       "      <td>0.979530</td>\n",
       "      <td>0.394356</td>\n",
       "      <td>0.918958</td>\n",
       "      <td>0.571268</td>\n",
       "      <td>0.820763</td>\n",
       "      <td>0.724793</td>\n",
       "      <td>0.688967</td>\n",
       "    </tr>\n",
       "    <tr>\n",
       "      <th>2016-08-03</th>\n",
       "      <td>1.0</td>\n",
       "      <td>3.0</td>\n",
       "      <td>0.0</td>\n",
       "      <td>1.0</td>\n",
       "      <td>0.0</td>\n",
       "      <td>0.0</td>\n",
       "      <td>0.0</td>\n",
       "      <td>0.0</td>\n",
       "      <td>0.394356</td>\n",
       "      <td>0.918958</td>\n",
       "      <td>0.724793</td>\n",
       "      <td>0.688967</td>\n",
       "      <td>0.937752</td>\n",
       "      <td>0.347305</td>\n",
       "      <td>0.998717</td>\n",
       "      <td>-0.050649</td>\n",
       "    </tr>\n",
       "    <tr>\n",
       "      <th>2016-08-04</th>\n",
       "      <td>1.0</td>\n",
       "      <td>4.0</td>\n",
       "      <td>0.0</td>\n",
       "      <td>0.0</td>\n",
       "      <td>1.0</td>\n",
       "      <td>0.0</td>\n",
       "      <td>0.0</td>\n",
       "      <td>0.0</td>\n",
       "      <td>0.571268</td>\n",
       "      <td>0.820763</td>\n",
       "      <td>0.937752</td>\n",
       "      <td>0.347305</td>\n",
       "      <td>0.968077</td>\n",
       "      <td>-0.250653</td>\n",
       "      <td>0.651372</td>\n",
       "      <td>-0.758758</td>\n",
       "    </tr>\n",
       "    <tr>\n",
       "      <th>2016-08-05</th>\n",
       "      <td>1.0</td>\n",
       "      <td>5.0</td>\n",
       "      <td>0.0</td>\n",
       "      <td>0.0</td>\n",
       "      <td>0.0</td>\n",
       "      <td>1.0</td>\n",
       "      <td>0.0</td>\n",
       "      <td>0.0</td>\n",
       "      <td>0.724793</td>\n",
       "      <td>0.688967</td>\n",
       "      <td>0.998717</td>\n",
       "      <td>-0.050649</td>\n",
       "      <td>0.651372</td>\n",
       "      <td>-0.758758</td>\n",
       "      <td>-0.101168</td>\n",
       "      <td>-0.994869</td>\n",
       "    </tr>\n",
       "  </tbody>\n",
       "</table>\n",
       "</div>"
      ],
      "text/plain": [
       "            const  trend  s(2,7)  s(3,7)  s(4,7)  s(5,7)  s(6,7)  s(7,7)  \\\n",
       "date                                                                       \n",
       "2016-08-01    1.0    1.0     0.0     0.0     0.0     0.0     0.0     0.0   \n",
       "2016-08-02    1.0    2.0     1.0     0.0     0.0     0.0     0.0     0.0   \n",
       "2016-08-03    1.0    3.0     0.0     1.0     0.0     0.0     0.0     0.0   \n",
       "2016-08-04    1.0    4.0     0.0     0.0     1.0     0.0     0.0     0.0   \n",
       "2016-08-05    1.0    5.0     0.0     0.0     0.0     1.0     0.0     0.0   \n",
       "\n",
       "            sin(1,freq=M)  cos(1,freq=M)  sin(2,freq=M)  cos(2,freq=M)  \\\n",
       "date                                                                     \n",
       "2016-08-01       0.000000       1.000000       0.000000       1.000000   \n",
       "2016-08-02       0.201299       0.979530       0.394356       0.918958   \n",
       "2016-08-03       0.394356       0.918958       0.724793       0.688967   \n",
       "2016-08-04       0.571268       0.820763       0.937752       0.347305   \n",
       "2016-08-05       0.724793       0.688967       0.998717      -0.050649   \n",
       "\n",
       "            sin(3,freq=M)  cos(3,freq=M)  sin(4,freq=M)  cos(4,freq=M)  \n",
       "date                                                                    \n",
       "2016-08-01       0.000000       1.000000       0.000000       1.000000  \n",
       "2016-08-02       0.571268       0.820763       0.724793       0.688967  \n",
       "2016-08-03       0.937752       0.347305       0.998717      -0.050649  \n",
       "2016-08-04       0.968077      -0.250653       0.651372      -0.758758  \n",
       "2016-08-05       0.651372      -0.758758      -0.101168      -0.994869  "
      ]
     },
     "execution_count": 18,
     "metadata": {},
     "output_type": "execute_result"
    }
   ],
   "source": [
    "#X = X.join( oil.rename('Oil') , on='date').fillna(method = 'bfill')\n",
    "\n",
    "oilInitial = oil[timeInitial:] \n",
    "\n",
    "fourier = CalendarFourier(freq='M', order=4)\n",
    "dpOil = DeterministicProcess(\n",
    "    index=oilInitial.index,\n",
    "    constant=True,\n",
    "    order=1,\n",
    "    seasonal=True,\n",
    "    additional_terms=[fourier],\n",
    "    drop=True,\n",
    ")\n",
    "\n",
    "Xoil = dpOil.in_sample()\n",
    "\n",
    "Xoil.head()"
   ]
  },
  {
   "cell_type": "code",
   "execution_count": 19,
   "id": "e790ad5f",
   "metadata": {
    "execution": {
     "iopub.execute_input": "2022-05-16T16:16:10.409801Z",
     "iopub.status.busy": "2022-05-16T16:16:10.408801Z",
     "iopub.status.idle": "2022-05-16T16:16:10.416010Z",
     "shell.execute_reply": "2022-05-16T16:16:10.416524Z",
     "shell.execute_reply.started": "2022-05-16T16:14:16.488235Z"
    },
    "papermill": {
     "duration": 0.090398,
     "end_time": "2022-05-16T16:16:10.416705",
     "exception": false,
     "start_time": "2022-05-16T16:16:10.326307",
     "status": "completed"
    },
    "tags": []
   },
   "outputs": [
    {
     "name": "stdout",
     "output_type": "stream",
     "text": [
      "Num_null:  0\n"
     ]
    }
   ],
   "source": [
    "\n",
    "missingValueCount = X1.isnull().sum()\n",
    "print('Num_null: ' , missingValueCount.sum() )\n",
    "#X2 = X2.dropna()\n",
    "#X2 = X2.fillna(0)"
   ]
  },
  {
   "cell_type": "markdown",
   "id": "7a5a0ac4",
   "metadata": {
    "papermill": {
     "duration": 0.076241,
     "end_time": "2022-05-16T16:16:10.569153",
     "exception": false,
     "start_time": "2022-05-16T16:16:10.492912",
     "status": "completed"
    },
    "tags": []
   },
   "source": [
    "Add new columns to train set. From Lag's graph, we consider seven Lags."
   ]
  },
  {
   "cell_type": "code",
   "execution_count": 20,
   "id": "a9291349",
   "metadata": {
    "execution": {
     "iopub.execute_input": "2022-05-16T16:16:10.728370Z",
     "iopub.status.busy": "2022-05-16T16:16:10.727333Z",
     "iopub.status.idle": "2022-05-16T16:16:10.731670Z",
     "shell.execute_reply": "2022-05-16T16:16:10.732142Z",
     "shell.execute_reply.started": "2022-05-16T16:14:16.499359Z"
    },
    "papermill": {
     "duration": 0.087025,
     "end_time": "2022-05-16T16:16:10.732319",
     "exception": false,
     "start_time": "2022-05-16T16:16:10.645294",
     "status": "completed"
    },
    "tags": []
   },
   "outputs": [],
   "source": [
    "X1['Onpromotion'] = average_sales['onpromotion']\n",
    "X1['Oil'] = dfOil['ma_oil']\n",
    "\n",
    "#X2.Oil.fillna(value = oil.mean() , inplace=True ) # drop values NaNs\n",
    "#X2.fillna(method='ffill') # drop values NaNs\n",
    "\n",
    "#X2['salesLag1'] = average_sales.sales.shift(periods=1, freq='D')\n",
    "#X2['salesLag2'] = average_sales.sales.shift(2)\n"
   ]
  },
  {
   "cell_type": "code",
   "execution_count": 21,
   "id": "bcc81807",
   "metadata": {
    "execution": {
     "iopub.execute_input": "2022-05-16T16:16:10.897897Z",
     "iopub.status.busy": "2022-05-16T16:16:10.897175Z",
     "iopub.status.idle": "2022-05-16T16:16:11.174375Z",
     "shell.execute_reply": "2022-05-16T16:16:11.173850Z",
     "shell.execute_reply.started": "2022-05-16T16:14:16.517150Z"
    },
    "papermill": {
     "duration": 0.36409,
     "end_time": "2022-05-16T16:16:11.174525",
     "exception": false,
     "start_time": "2022-05-16T16:16:10.810435",
     "status": "completed"
    },
    "tags": []
   },
   "outputs": [
    {
     "data": {
      "image/png": "[encoded data removed]",
      "text/plain": [
       "<Figure size 432x288 with 1 Axes>"
      ]
     },
     "metadata": {
      "needs_background": "light"
     },
     "output_type": "display_data"
    }
   ],
   "source": [
    "plot_pacf(X1.Oil, lags = 12) # Lagplot oil price (Feature Engineering)\n",
    "\n",
    "# first \n",
    "n_lags = 3\n",
    "for l in range(1, n_lags + 1) :\n",
    "    X1[f'oil_lags{l}'] = X1.Oil.shift(l)\n",
    "X1['salesLag7'] = average_sales.sales.shift(7)"
   ]
  },
  {
   "cell_type": "code",
   "execution_count": 22,
   "id": "23844d4e",
   "metadata": {
    "execution": {
     "iopub.execute_input": "2022-05-16T16:16:11.334619Z",
     "iopub.status.busy": "2022-05-16T16:16:11.333653Z",
     "iopub.status.idle": "2022-05-16T16:16:11.356066Z",
     "shell.execute_reply": "2022-05-16T16:16:11.356723Z",
     "shell.execute_reply.started": "2022-05-16T16:14:16.823662Z"
    },
    "papermill": {
     "duration": 0.104523,
     "end_time": "2022-05-16T16:16:11.356905",
     "exception": false,
     "start_time": "2022-05-16T16:16:11.252382",
     "status": "completed"
    },
    "tags": []
   },
   "outputs": [
    {
     "name": "stdout",
     "output_type": "stream",
     "text": [
      "<class 'pandas.core.frame.DataFrame'>\n",
      "PeriodIndex: 106 entries, 2016-08-11 to 2017-08-11\n",
      "Freq: D\n",
      "Data columns (total 37 columns):\n",
      " #   Column           Non-Null Count  Dtype  \n",
      "---  ------           --------------  -----  \n",
      " 0   const            106 non-null    float64\n",
      " 1   trend            106 non-null    float64\n",
      " 2   s(2,7)           106 non-null    float64\n",
      " 3   s(3,7)           106 non-null    float64\n",
      " 4   s(4,7)           106 non-null    float64\n",
      " 5   s(5,7)           106 non-null    float64\n",
      " 6   s(6,7)           106 non-null    float64\n",
      " 7   s(7,7)           106 non-null    float64\n",
      " 8   sin(1,freq=M)    106 non-null    float64\n",
      " 9   cos(1,freq=M)    106 non-null    float64\n",
      " 10  sin(2,freq=M)    106 non-null    float64\n",
      " 11  cos(2,freq=M)    106 non-null    float64\n",
      " 12  sin(3,freq=M)    106 non-null    float64\n",
      " 13  cos(3,freq=M)    106 non-null    float64\n",
      " 14  sin(4,freq=M)    106 non-null    float64\n",
      " 15  cos(4,freq=M)    106 non-null    float64\n",
      " 16  NewYear          106 non-null    bool   \n",
      " 17  wd               106 non-null    int64  \n",
      " 18  dofw_1           106 non-null    uint8  \n",
      " 19  dofw_2           106 non-null    uint8  \n",
      " 20  dofw_3           106 non-null    uint8  \n",
      " 21  dofw_4           106 non-null    uint8  \n",
      " 22  dofw_5           106 non-null    uint8  \n",
      " 23  dofw_6           106 non-null    uint8  \n",
      " 24  type_Additional  106 non-null    uint8  \n",
      " 25  type_Bridge      106 non-null    uint8  \n",
      " 26  type_Event       106 non-null    uint8  \n",
      " 27  type_Holiday     106 non-null    uint8  \n",
      " 28  type_Transfer    106 non-null    uint8  \n",
      " 29  type_Work Day    106 non-null    uint8  \n",
      " 30  school_season    106 non-null    int64  \n",
      " 31  Onpromotion      106 non-null    float64\n",
      " 32  Oil              106 non-null    float64\n",
      " 33  oil_lags1        106 non-null    float64\n",
      " 34  oil_lags2        106 non-null    float64\n",
      " 35  oil_lags3        106 non-null    float64\n",
      " 36  salesLag7        106 non-null    float32\n",
      "dtypes: bool(1), float32(1), float64(21), int64(2), uint8(12)\n",
      "memory usage: 21.6 KB\n"
     ]
    }
   ],
   "source": [
    "#X2.fillna(method='ffill') # drop values NaNs\n",
    "X1.dropna(how='any', axis=0, inplace=True) # drop values NaNs\n",
    "dateRange =  X1.index\n",
    "\n",
    "# train set and target train\n",
    "y_train = y.loc[dateRange]\n",
    "Xtrain=X1.copy()\n",
    "Xtrain.info()"
   ]
  },
  {
   "cell_type": "markdown",
   "id": "44db1d78",
   "metadata": {
    "papermill": {
     "duration": 0.077778,
     "end_time": "2022-05-16T16:16:11.513674",
     "exception": false,
     "start_time": "2022-05-16T16:16:11.435896",
     "status": "completed"
    },
    "tags": []
   },
   "source": [
    "#  **Hybrid Model**\n",
    "\n",
    "First  model to get us seasonal information. Meanwhile, the second model will take care of training the rest of the data.\n",
    "While, second model to  training  rest of train set."
   ]
  },
  {
   "cell_type": "code",
   "execution_count": 23,
   "id": "a1095731",
   "metadata": {
    "execution": {
     "iopub.execute_input": "2022-05-16T16:16:11.674330Z",
     "iopub.status.busy": "2022-05-16T16:16:11.673371Z",
     "iopub.status.idle": "2022-05-16T16:16:20.306456Z",
     "shell.execute_reply": "2022-05-16T16:16:20.307665Z",
     "shell.execute_reply.started": "2022-05-16T16:14:16.852654Z"
    },
    "papermill": {
     "duration": 8.715165,
     "end_time": "2022-05-16T16:16:20.307969",
     "exception": false,
     "start_time": "2022-05-16T16:16:11.592804",
     "status": "completed"
    },
    "tags": []
   },
   "outputs": [],
   "source": [
    "# The data set is already  divided, test Train\n",
    "model1 = RandomForestRegressor(random_state = 42)\n",
    "model1.fit(Xtrain, y_train)\n",
    "\n",
    "y_fit = model1.predict(Xtrain)\n",
    "\n",
    "y_resid = y_train - y_fit\n",
    "\n",
    "\n",
    "\n",
    "#model = LinearRegression(fit_intercept=False)\n",
    "model = LinearRegression()\n",
    "\n",
    "# model = LGBMRegressor(random_state = 42) \"not work with  mulpli-columns\"\n",
    "\n",
    "model.fit(Xtrain, y_resid)\n",
    "y_pred = pd.DataFrame(model.predict(Xtrain), index=Xtrain.index, columns=y_train.columns)\n",
    "\n",
    "\n",
    "yLR_RF = y_pred + y_fit\n",
    "#y_pred_boosted = xgb.predict(X_test) + y_pred"
   ]
  },
  {
   "cell_type": "markdown",
   "id": "b4d8ca16",
   "metadata": {
    "papermill": {
     "duration": 0.077791,
     "end_time": "2022-05-16T16:16:20.536794",
     "exception": false,
     "start_time": "2022-05-16T16:16:20.459003",
     "status": "completed"
    },
    "tags": []
   },
   "source": [
    "In the next figure, we see the `Produce` sales at Store 1, compare the value of sales and value prediction by the hybrid model."
   ]
  },
  {
   "cell_type": "code",
   "execution_count": 24,
   "id": "c3351aec",
   "metadata": {
    "execution": {
     "iopub.execute_input": "2022-05-16T16:16:20.701065Z",
     "iopub.status.busy": "2022-05-16T16:16:20.699808Z",
     "iopub.status.idle": "2022-05-16T16:16:21.946037Z",
     "shell.execute_reply": "2022-05-16T16:16:21.945451Z",
     "shell.execute_reply.started": "2022-05-16T16:14:25.366860Z"
    },
    "papermill": {
     "duration": 1.331769,
     "end_time": "2022-05-16T16:16:21.946183",
     "exception": false,
     "start_time": "2022-05-16T16:16:20.614414",
     "status": "completed"
    },
    "tags": []
   },
   "outputs": [
    {
     "data": {
      "text/plain": [
       "CategoricalIndex(['AUTOMOTIVE', 'BABY CARE', 'BEAUTY', 'BEVERAGES', 'BOOKS',\n",
       "                  'BREAD/BAKERY', 'CELEBRATION', 'CLEANING', 'DAIRY', 'DELI',\n",
       "                  'EGGS', 'FROZEN FOODS', 'GROCERY I', 'GROCERY II',\n",
       "                  'HARDWARE', 'HOME AND KITCHEN I', 'HOME AND KITCHEN II',\n",
       "                  'HOME APPLIANCES', 'HOME CARE', 'LADIESWEAR',\n",
       "                  'LAWN AND GARDEN', 'LINGERIE', 'LIQUOR,WINE,BEER',\n",
       "                  'MAGAZINES', 'MEATS', 'PERSONAL CARE', 'PET SUPPLIES',\n",
       "                  'PLAYERS AND ELECTRONICS', 'POULTRY', 'PREPARED FOODS',\n",
       "                  'PRODUCE', 'SCHOOL AND OFFICE SUPPLIES', 'SEAFOOD'],\n",
       "                 categories=['AUTOMOTIVE', 'BABY CARE', 'BEAUTY', 'BEVERAGES', 'BOOKS', 'BREAD/BAKERY', 'CELEBRATION', 'CLEANING', ...], ordered=False, dtype='category', name='family')"
      ]
     },
     "metadata": {},
     "output_type": "display_data"
    },
    {
     "name": "stdout",
     "output_type": "stream",
     "text": [
      "<class 'pandas.core.frame.DataFrame'>\n",
      "PeriodIndex: 106 entries, 2016-08-11 to 2017-08-11\n",
      "Freq: D\n",
      "Columns: 3564 entries, ('sales', '1', 'AUTOMOTIVE') to ('onpromotion', '9', 'SEAFOOD')\n",
      "dtypes: float32(1782), uint32(1782)\n",
      "memory usage: 1.4 MB\n"
     ]
    },
    {
     "data": {
      "image/png": "[encoded data removed]",
      "text/plain": [
       "<Figure size 432x288 with 1 Axes>"
      ]
     },
     "metadata": {
      "needs_background": "light"
     },
     "output_type": "display_data"
    }
   ],
   "source": [
    "STORE_NBR = '1'  # 1 - 54\n",
    "FAMILY = 'PRODUCE'\n",
    "# Uncomment to see a list of product families\n",
    "display(store_sales.index.get_level_values('family').unique())\n",
    "\n",
    "ax = y_train.loc(axis=1)['sales', STORE_NBR, FAMILY].plot(**plot_params) # choose single store 1 and family equal produce. \n",
    "ax = yLR_RF.loc(axis=1)['sales', STORE_NBR, FAMILY].plot(ax=ax, color='red')\n",
    "ax.set_title(f'{FAMILY} Sales at Store {STORE_NBR}');\n",
    "\n",
    "y_train.info()"
   ]
  },
  {
   "cell_type": "markdown",
   "id": "3ccdaa64",
   "metadata": {
    "papermill": {
     "duration": 0.08227,
     "end_time": "2022-05-16T16:16:22.110106",
     "exception": false,
     "start_time": "2022-05-16T16:16:22.027836",
     "status": "completed"
    },
    "tags": []
   },
   "source": [
    "### Metrics\n",
    "\n",
    "It's calculating metrics:\n",
    "\n",
    "- Mean Absolute Error MAE\n",
    "- Root Mean Squared Log Error RMSE"
   ]
  },
  {
   "cell_type": "code",
   "execution_count": 25,
   "id": "40d23d1c",
   "metadata": {
    "execution": {
     "iopub.execute_input": "2022-05-16T16:16:22.280370Z",
     "iopub.status.busy": "2022-05-16T16:16:22.279393Z",
     "iopub.status.idle": "2022-05-16T16:16:22.281840Z",
     "shell.execute_reply": "2022-05-16T16:16:22.282308Z",
     "shell.execute_reply.started": "2022-05-16T16:14:26.690490Z"
    },
    "papermill": {
     "duration": 0.092008,
     "end_time": "2022-05-16T16:16:22.282521",
     "exception": false,
     "start_time": "2022-05-16T16:16:22.190513",
     "status": "completed"
    },
    "tags": []
   },
   "outputs": [],
   "source": [
    "Y = y_train.loc(axis=1)['sales', STORE_NBR, FAMILY]\n",
    "Ypred = yLR_RF.loc(axis=1)['sales', STORE_NBR, FAMILY]\n",
    "\n",
    "mae = np.round(mean_absolute_error(Y, Ypred), 3)  \n",
    "rmsle =  np.round(mean_squared_log_error(Y, Ypred), 3 )"
   ]
  },
  {
   "cell_type": "code",
   "execution_count": 26,
   "id": "b41234bd",
   "metadata": {
    "execution": {
     "iopub.execute_input": "2022-05-16T16:16:22.453414Z",
     "iopub.status.busy": "2022-05-16T16:16:22.452309Z",
     "iopub.status.idle": "2022-05-16T16:16:22.987961Z",
     "shell.execute_reply": "2022-05-16T16:16:22.988518Z",
     "shell.execute_reply.started": "2022-05-16T16:14:26.700898Z"
    },
    "papermill": {
     "duration": 0.622867,
     "end_time": "2022-05-16T16:16:22.988702",
     "exception": false,
     "start_time": "2022-05-16T16:16:22.365835",
     "status": "completed"
    },
    "tags": []
   },
   "outputs": [
    {
     "name": "stdout",
     "output_type": "stream",
     "text": [
      "MAE: 319.497 \n",
      " RMSLE 0.038\n"
     ]
    },
    {
     "data": {
      "text/plain": [
       "family\n",
       "AUTOMOTIVE                    0.570447\n",
       "BABY CARE                     0.098761\n",
       "BEAUTY                        0.352535\n",
       "BEVERAGES                     1.116865\n",
       "BOOKS                         0.057319\n",
       "BREAD/BAKERY                  0.540481\n",
       "CELEBRATION                   0.890165\n",
       "CLEANING                      0.831421\n",
       "DAIRY                         0.511650\n",
       "DELI                          0.357756\n",
       "EGGS                          0.882363\n",
       "FROZEN FOODS                  3.471601\n",
       "GROCERY I                     0.945831\n",
       "GROCERY II                    0.601165\n",
       "HARDWARE                      0.230052\n",
       "HOME AND KITCHEN I            1.178290\n",
       "HOME AND KITCHEN II           0.610704\n",
       "HOME APPLIANCES               0.087093\n",
       "HOME CARE                     0.448277\n",
       "LADIESWEAR                    0.376821\n",
       "LAWN AND GARDEN               0.535711\n",
       "LINGERIE                      0.574114\n",
       "LIQUOR,WINE,BEER              2.236174\n",
       "MAGAZINES                     0.429806\n",
       "MEATS                         0.901405\n",
       "PERSONAL CARE                 0.507419\n",
       "PET SUPPLIES                  0.328840\n",
       "PLAYERS AND ELECTRONICS       0.466537\n",
       "POULTRY                       0.484266\n",
       "PREPARED FOODS                0.447052\n",
       "PRODUCE                       0.635541\n",
       "SCHOOL AND OFFICE SUPPLIES    1.161281\n",
       "SEAFOOD                       0.495865\n",
       "dtype: float64"
      ]
     },
     "execution_count": 26,
     "metadata": {},
     "output_type": "execute_result"
    }
   ],
   "source": [
    "y_pred2   = yLR_RF.stack(['store_nbr', 'family']).reset_index()\n",
    "y_target = y_train.stack(['store_nbr', 'family']).reset_index().copy()\n",
    "\n",
    "y_target['sales_pred'] = y_pred2['sales'].clip(0.) # Sales should be >= 0\n",
    "\n",
    "print('MAE:', mae, '\\n', \n",
    "      'RMSLE', rmsle)\n",
    "\n",
    "y_target.groupby('family').apply(lambda r: mean_squared_log_error(r['sales'], r['sales_pred']))"
   ]
  },
  {
   "cell_type": "markdown",
   "id": "e81f2eaf",
   "metadata": {
    "papermill": {
     "duration": 0.080387,
     "end_time": "2022-05-16T16:16:23.151968",
     "exception": false,
     "start_time": "2022-05-16T16:16:23.071581",
     "status": "completed"
    },
    "tags": []
   },
   "source": [
    "# Test set\n",
    "\n",
    "The test set, building with same variables the train set, it has 16 steps.\n",
    "\n",
    "### Missing Values ###"
   ]
  },
  {
   "cell_type": "code",
   "execution_count": 27,
   "id": "2fd79a0d",
   "metadata": {
    "execution": {
     "iopub.execute_input": "2022-05-16T16:16:23.322320Z",
     "iopub.status.busy": "2022-05-16T16:16:23.321624Z",
     "iopub.status.idle": "2022-05-16T16:16:23.385302Z",
     "shell.execute_reply": "2022-05-16T16:16:23.385860Z",
     "shell.execute_reply.started": "2022-05-16T16:14:27.239132Z"
    },
    "papermill": {
     "duration": 0.153415,
     "end_time": "2022-05-16T16:16:23.386045",
     "exception": false,
     "start_time": "2022-05-16T16:16:23.232630",
     "status": "completed"
    },
    "tags": []
   },
   "outputs": [
    {
     "name": "stdout",
     "output_type": "stream",
     "text": [
      "<class 'pandas.core.frame.DataFrame'>\n",
      "PeriodIndex: 16 entries, 2017-08-16 to 2017-08-31\n",
      "Freq: D\n",
      "Data columns (total 17 columns):\n",
      " #   Column         Non-Null Count  Dtype  \n",
      "---  ------         --------------  -----  \n",
      " 0   const          16 non-null     float64\n",
      " 1   trend          16 non-null     float64\n",
      " 2   s(2,7)         16 non-null     float64\n",
      " 3   s(3,7)         16 non-null     float64\n",
      " 4   s(4,7)         16 non-null     float64\n",
      " 5   s(5,7)         16 non-null     float64\n",
      " 6   s(6,7)         16 non-null     float64\n",
      " 7   s(7,7)         16 non-null     float64\n",
      " 8   sin(1,freq=M)  16 non-null     float64\n",
      " 9   cos(1,freq=M)  16 non-null     float64\n",
      " 10  sin(2,freq=M)  16 non-null     float64\n",
      " 11  cos(2,freq=M)  16 non-null     float64\n",
      " 12  sin(3,freq=M)  16 non-null     float64\n",
      " 13  cos(3,freq=M)  16 non-null     float64\n",
      " 14  sin(4,freq=M)  16 non-null     float64\n",
      " 15  cos(4,freq=M)  16 non-null     float64\n",
      " 16  NewYear        16 non-null     bool   \n",
      "dtypes: bool(1), float64(16)\n",
      "memory usage: 2.7 KB\n"
     ]
    }
   ],
   "source": [
    "df_test = pd.read_csv(\n",
    "    comp_dir / 'test.csv',\n",
    "    dtype={\n",
    "        'store_nbr': 'category',\n",
    "        'family': 'category',\n",
    "        'onpromotion': 'uint32',\n",
    "    },\n",
    "    parse_dates=['date'],\n",
    "    infer_datetime_format=True,\n",
    ")\n",
    "\n",
    "df_test['date'] = df_test.date.dt.to_period('D')\n",
    "df_test = df_test.set_index(['store_nbr', 'family', 'date']).sort_index()\n",
    "\n",
    "\n",
    "average_sales_test = (\n",
    "    df_test\n",
    "    .groupby('date').mean()\n",
    "    .squeeze()\n",
    "    .loc['2017']\n",
    ")\n",
    "\n",
    "\n",
    "#df_test = df_test.loc['2017'] \n",
    "# Create features for test set\n",
    "X_test = dp.out_of_sample(steps=16)\n",
    "X_test.index.name = 'date'\n",
    "\n",
    "X_test['NewYear'] = (X_test.index.dayofyear == 1)\n",
    "\n",
    "\n",
    "\n",
    "\n",
    "X_test2 = X_test.join(calendar)\n",
    "\n",
    "#X_test = X_test.join( oil.rename('Oil') , on='date').fillna(method = 'bfill')\n",
    "#X_test1 = X_test.join( Xoil , on='date', rsuffix='RT').fillna(method = 'bfill')\n",
    "\n",
    "X_test1 =  X_test.copy()\n",
    "X_test1.info()"
   ]
  },
  {
   "cell_type": "markdown",
   "id": "c90b7199",
   "metadata": {
    "papermill": {
     "duration": 0.081208,
     "end_time": "2022-05-16T16:16:23.548391",
     "exception": false,
     "start_time": "2022-05-16T16:16:23.467183",
     "status": "completed"
    },
    "tags": []
   },
   "source": [
    "Preparation Test set."
   ]
  },
  {
   "cell_type": "code",
   "execution_count": 28,
   "id": "437339a8",
   "metadata": {
    "execution": {
     "iopub.execute_input": "2022-05-16T16:16:23.721378Z",
     "iopub.status.busy": "2022-05-16T16:16:23.716288Z",
     "iopub.status.idle": "2022-05-16T16:16:23.729392Z",
     "shell.execute_reply": "2022-05-16T16:16:23.729883Z",
     "shell.execute_reply.started": "2022-05-16T16:14:27.308894Z"
    },
    "papermill": {
     "duration": 0.100271,
     "end_time": "2022-05-16T16:16:23.730072",
     "exception": false,
     "start_time": "2022-05-16T16:16:23.629801",
     "status": "completed"
    },
    "tags": []
   },
   "outputs": [],
   "source": [
    "\n",
    "\n",
    "\n",
    "X_test2['Onpromotion'] = average_sales_test['onpromotion']\n",
    "#X_test2['Oil'] = oil\n",
    "X_test2['Oil'] = dfOil['ma_oil']\n",
    "\n",
    "\n",
    "n_lags = 3\n",
    "for l in range(1, n_lags + 1) :\n",
    "    X_test2[f'oil_lags{l}'] = X_test2.Oil.shift(l)\n",
    "\n",
    "#X_test2.fillna(method='ffill', inplace=True)\n",
    "\n",
    "\n",
    "#X_test2['OilLagsOne'] = oil.shift(periods=1, freq='D')\n",
    "#X_test2['salesLag1'] = average_sales.sales.shift(periods=16, freq='D')\n",
    "#X_test2['salesLag2'] = average_sales.sales.shift(periods=16, freq='D')\n",
    "X_test2['salesLag7'] = average_sales.sales.shift(periods=16, freq='D')\n",
    "\n",
    "\n"
   ]
  },
  {
   "cell_type": "code",
   "execution_count": 29,
   "id": "e497c5f7",
   "metadata": {
    "execution": {
     "iopub.execute_input": "2022-05-16T16:16:23.897632Z",
     "iopub.status.busy": "2022-05-16T16:16:23.896599Z",
     "iopub.status.idle": "2022-05-16T16:16:23.915162Z",
     "shell.execute_reply": "2022-05-16T16:16:23.915673Z",
     "shell.execute_reply.started": "2022-05-16T16:14:27.325194Z"
    },
    "papermill": {
     "duration": 0.104285,
     "end_time": "2022-05-16T16:16:23.915899",
     "exception": false,
     "start_time": "2022-05-16T16:16:23.811614",
     "status": "completed"
    },
    "tags": []
   },
   "outputs": [
    {
     "name": "stdout",
     "output_type": "stream",
     "text": [
      "<class 'pandas.core.frame.DataFrame'>\n",
      "PeriodIndex: 16 entries, 2017-08-16 to 2017-08-31\n",
      "Freq: D\n",
      "Data columns (total 37 columns):\n",
      " #   Column           Non-Null Count  Dtype  \n",
      "---  ------           --------------  -----  \n",
      " 0   const            16 non-null     float64\n",
      " 1   trend            16 non-null     float64\n",
      " 2   s(2,7)           16 non-null     float64\n",
      " 3   s(3,7)           16 non-null     float64\n",
      " 4   s(4,7)           16 non-null     float64\n",
      " 5   s(5,7)           16 non-null     float64\n",
      " 6   s(6,7)           16 non-null     float64\n",
      " 7   s(7,7)           16 non-null     float64\n",
      " 8   sin(1,freq=M)    16 non-null     float64\n",
      " 9   cos(1,freq=M)    16 non-null     float64\n",
      " 10  sin(2,freq=M)    16 non-null     float64\n",
      " 11  cos(2,freq=M)    16 non-null     float64\n",
      " 12  sin(3,freq=M)    16 non-null     float64\n",
      " 13  cos(3,freq=M)    16 non-null     float64\n",
      " 14  sin(4,freq=M)    16 non-null     float64\n",
      " 15  cos(4,freq=M)    16 non-null     float64\n",
      " 16  NewYear          16 non-null     bool   \n",
      " 17  wd               16 non-null     int64  \n",
      " 18  dofw_1           16 non-null     uint8  \n",
      " 19  dofw_2           16 non-null     uint8  \n",
      " 20  dofw_3           16 non-null     uint8  \n",
      " 21  dofw_4           16 non-null     uint8  \n",
      " 22  dofw_5           16 non-null     uint8  \n",
      " 23  dofw_6           16 non-null     uint8  \n",
      " 24  type_Additional  16 non-null     uint8  \n",
      " 25  type_Bridge      16 non-null     uint8  \n",
      " 26  type_Event       16 non-null     uint8  \n",
      " 27  type_Holiday     16 non-null     uint8  \n",
      " 28  type_Transfer    16 non-null     uint8  \n",
      " 29  type_Work Day    16 non-null     uint8  \n",
      " 30  school_season    16 non-null     int64  \n",
      " 31  Onpromotion      16 non-null     float64\n",
      " 32  Oil              16 non-null     float64\n",
      " 33  oil_lags1        16 non-null     float64\n",
      " 34  oil_lags2        16 non-null     float64\n",
      " 35  oil_lags3        16 non-null     float64\n",
      " 36  salesLag7        16 non-null     float32\n",
      "dtypes: bool(1), float32(1), float64(21), int64(2), uint8(12)\n",
      "memory usage: 3.8 KB\n"
     ]
    }
   ],
   "source": [
    "X_test2.fillna(method='ffill', inplace=True)\n",
    "X_test2.fillna(method='bfill', inplace=True)\n",
    "\n",
    "X_test2.info()"
   ]
  },
  {
   "cell_type": "code",
   "execution_count": 30,
   "id": "6bceea95",
   "metadata": {
    "execution": {
     "iopub.execute_input": "2022-05-16T16:16:24.089688Z",
     "iopub.status.busy": "2022-05-16T16:16:24.088428Z",
     "iopub.status.idle": "2022-05-16T16:16:24.121956Z",
     "shell.execute_reply": "2022-05-16T16:16:24.121030Z",
     "shell.execute_reply.started": "2022-05-16T16:14:27.350431Z"
    },
    "papermill": {
     "duration": 0.124198,
     "end_time": "2022-05-16T16:16:24.122202",
     "exception": false,
     "start_time": "2022-05-16T16:16:23.998004",
     "status": "completed"
    },
    "tags": []
   },
   "outputs": [
    {
     "name": "stdout",
     "output_type": "stream",
     "text": [
      "(16, 3564) \n",
      "  (16, 3564)\n"
     ]
    }
   ],
   "source": [
    "y_pred1 = model1.predict(X_test2)\n",
    "y_pred2 = model.predict(X_test2)\n",
    "\n",
    "print(y_pred1.shape, '\\n ',  y_pred2.shape)"
   ]
  },
  {
   "cell_type": "code",
   "execution_count": 31,
   "id": "3e184fc2",
   "metadata": {
    "execution": {
     "iopub.execute_input": "2022-05-16T16:16:24.347977Z",
     "iopub.status.busy": "2022-05-16T16:16:24.347177Z",
     "iopub.status.idle": "2022-05-16T16:16:24.350724Z",
     "shell.execute_reply": "2022-05-16T16:16:24.350061Z",
     "shell.execute_reply.started": "2022-05-16T16:14:27.389761Z"
    },
    "papermill": {
     "duration": 0.0909,
     "end_time": "2022-05-16T16:16:24.350871",
     "exception": false,
     "start_time": "2022-05-16T16:16:24.259971",
     "status": "completed"
    },
    "tags": []
   },
   "outputs": [],
   "source": [
    "y_final = y_pred2 + y_pred1\n"
   ]
  },
  {
   "cell_type": "markdown",
   "id": "53578af1",
   "metadata": {
    "papermill": {
     "duration": 0.082219,
     "end_time": "2022-05-16T16:16:24.515608",
     "exception": false,
     "start_time": "2022-05-16T16:16:24.433389",
     "status": "completed"
    },
    "tags": []
   },
   "source": [
    "## Creation Submit\n",
    "\n"
   ]
  },
  {
   "cell_type": "code",
   "execution_count": 32,
   "id": "f58312db",
   "metadata": {
    "execution": {
     "iopub.execute_input": "2022-05-16T16:16:24.688710Z",
     "iopub.status.busy": "2022-05-16T16:16:24.687658Z",
     "iopub.status.idle": "2022-05-16T16:16:25.283444Z",
     "shell.execute_reply": "2022-05-16T16:16:25.282556Z",
     "shell.execute_reply.started": "2022-05-16T16:14:27.397855Z"
    },
    "papermill": {
     "duration": 0.684773,
     "end_time": "2022-05-16T16:16:25.283644",
     "exception": false,
     "start_time": "2022-05-16T16:16:24.598871",
     "status": "completed"
    },
    "tags": []
   },
   "outputs": [],
   "source": [
    "y_submit = pd.DataFrame(y_final, index=X_test2.index, columns=y.columns)\n",
    "y_submit = y_submit.stack(['store_nbr', 'family'])\n",
    "y_submit = y_submit.join(df_test.id).reindex(columns=['id', 'sales'])\n",
    "y_submit.to_csv('submission.csv', index=False)"
   ]
  },
  {
   "cell_type": "code",
   "execution_count": 33,
   "id": "85a4cf50",
   "metadata": {
    "execution": {
     "iopub.execute_input": "2022-05-16T16:16:25.461885Z",
     "iopub.status.busy": "2022-05-16T16:16:25.461134Z",
     "iopub.status.idle": "2022-05-16T16:16:25.463755Z",
     "shell.execute_reply": "2022-05-16T16:16:25.463061Z",
     "shell.execute_reply.started": "2022-05-16T16:14:28.021643Z"
    },
    "papermill": {
     "duration": 0.089136,
     "end_time": "2022-05-16T16:16:25.463906",
     "exception": false,
     "start_time": "2022-05-16T16:16:25.374770",
     "status": "completed"
    },
    "tags": []
   },
   "outputs": [],
   "source": [
    "\n",
    "#from datetime import datetime\n",
    "\n",
    "#now = datetime.now()\n",
    "#print('\\n', now)\n"
   ]
  },
  {
   "cell_type": "markdown",
   "id": "14919fbf",
   "metadata": {
    "execution": {
     "iopub.execute_input": "2022-05-13T00:46:44.238365Z",
     "iopub.status.busy": "2022-05-13T00:46:44.237872Z",
     "iopub.status.idle": "2022-05-13T00:46:44.251793Z",
     "shell.execute_reply": "2022-05-13T00:46:44.250084Z",
     "shell.execute_reply.started": "2022-05-13T00:46:44.238303Z"
    },
    "papermill": {
     "duration": 0.082185,
     "end_time": "2022-05-16T16:16:25.632223",
     "exception": false,
     "start_time": "2022-05-16T16:16:25.550038",
     "status": "completed"
    },
    "tags": []
   },
   "source": [
    "File submit."
   ]
  },
  {
   "cell_type": "code",
   "execution_count": 34,
   "id": "1d732831",
   "metadata": {
    "execution": {
     "iopub.execute_input": "2022-05-16T16:16:25.806268Z",
     "iopub.status.busy": "2022-05-16T16:16:25.805546Z",
     "iopub.status.idle": "2022-05-16T16:16:25.811168Z",
     "shell.execute_reply": "2022-05-16T16:16:25.811802Z",
     "shell.execute_reply.started": "2022-05-16T16:14:28.026721Z"
    },
    "papermill": {
     "duration": 0.097545,
     "end_time": "2022-05-16T16:16:25.811973",
     "exception": false,
     "start_time": "2022-05-16T16:16:25.714428",
     "status": "completed"
    },
    "tags": []
   },
   "outputs": [
    {
     "data": {
      "text/html": [
       "<div>\n",
       "<style scoped>\n",
       "    .dataframe tbody tr th:only-of-type {\n",
       "        vertical-align: middle;\n",
       "    }\n",
       "\n",
       "    .dataframe tbody tr th {\n",
       "        vertical-align: top;\n",
       "    }\n",
       "\n",
       "    .dataframe thead th {\n",
       "        text-align: right;\n",
       "    }\n",
       "</style>\n",
       "<table border=\"1\" class=\"dataframe\">\n",
       "  <thead>\n",
       "    <tr style=\"text-align: right;\">\n",
       "      <th></th>\n",
       "      <th></th>\n",
       "      <th></th>\n",
       "      <th>id</th>\n",
       "      <th>sales</th>\n",
       "    </tr>\n",
       "    <tr>\n",
       "      <th>date</th>\n",
       "      <th>store_nbr</th>\n",
       "      <th>family</th>\n",
       "      <th></th>\n",
       "      <th></th>\n",
       "    </tr>\n",
       "  </thead>\n",
       "  <tbody>\n",
       "    <tr>\n",
       "      <th rowspan=\"5\" valign=\"top\">2017-08-16</th>\n",
       "      <th rowspan=\"5\" valign=\"top\">1</th>\n",
       "      <th>AUTOMOTIVE</th>\n",
       "      <td>3000888</td>\n",
       "      <td>10.619102</td>\n",
       "    </tr>\n",
       "    <tr>\n",
       "      <th>BABY CARE</th>\n",
       "      <td>3000889</td>\n",
       "      <td>0.000000</td>\n",
       "    </tr>\n",
       "    <tr>\n",
       "      <th>BEAUTY</th>\n",
       "      <td>3000890</td>\n",
       "      <td>0.482363</td>\n",
       "    </tr>\n",
       "    <tr>\n",
       "      <th>BEVERAGES</th>\n",
       "      <td>3000891</td>\n",
       "      <td>2797.298750</td>\n",
       "    </tr>\n",
       "    <tr>\n",
       "      <th>BOOKS</th>\n",
       "      <td>3000892</td>\n",
       "      <td>0.571849</td>\n",
       "    </tr>\n",
       "  </tbody>\n",
       "</table>\n",
       "</div>"
      ],
      "text/plain": [
       "                                      id        sales\n",
       "date       store_nbr family                          \n",
       "2017-08-16 1         AUTOMOTIVE  3000888    10.619102\n",
       "                     BABY CARE   3000889     0.000000\n",
       "                     BEAUTY      3000890     0.482363\n",
       "                     BEVERAGES   3000891  2797.298750\n",
       "                     BOOKS       3000892     0.571849"
      ]
     },
     "execution_count": 34,
     "metadata": {},
     "output_type": "execute_result"
    }
   ],
   "source": [
    "y_submit.head()\n"
   ]
  },
  {
   "cell_type": "markdown",
   "id": "7a6aec72",
   "metadata": {
    "papermill": {
     "duration": 0.082045,
     "end_time": "2022-05-16T16:16:25.978075",
     "exception": false,
     "start_time": "2022-05-16T16:16:25.896030",
     "status": "completed"
    },
    "tags": []
   },
   "source": [
    "## Pre-Processing ##"
   ]
  },
  {
   "cell_type": "markdown",
   "id": "7bb3c0ca",
   "metadata": {
    "papermill": {
     "duration": 0.082761,
     "end_time": "2022-05-16T16:16:26.145305",
     "exception": false,
     "start_time": "2022-05-16T16:16:26.062544",
     "status": "completed"
    },
    "tags": []
   },
   "source": [
    "### Selection only Giants or Dwarfs ###"
   ]
  },
  {
   "cell_type": "markdown",
   "id": "7b1aae9d",
   "metadata": {
    "papermill": {
     "duration": 0.083127,
     "end_time": "2022-05-16T16:16:26.311510",
     "exception": false,
     "start_time": "2022-05-16T16:16:26.228383",
     "status": "completed"
    },
    "tags": []
   },
   "source": [
    "## Balance ##"
   ]
  },
  {
   "cell_type": "code",
   "execution_count": 35,
   "id": "bc0381f4",
   "metadata": {
    "execution": {
     "iopub.execute_input": "2022-05-16T16:16:26.484221Z",
     "iopub.status.busy": "2022-05-16T16:16:26.483536Z",
     "iopub.status.idle": "2022-05-16T16:16:26.486909Z",
     "shell.execute_reply": "2022-05-16T16:16:26.487418Z",
     "shell.execute_reply.started": "2022-05-16T16:14:28.049264Z"
    },
    "papermill": {
     "duration": 0.09104,
     "end_time": "2022-05-16T16:16:26.487611",
     "exception": false,
     "start_time": "2022-05-16T16:16:26.396571",
     "status": "completed"
    },
    "tags": []
   },
   "outputs": [],
   "source": [
    "# dividir set \n",
    "\n",
    "\n",
    "\n",
    "# from sklearn.utils import resample\n",
    "# dfGiantsDownSample = resample(dfGiants, \n",
    "  #                           replace = False, # sample without replacement\n",
    "   #                          n_samples = num_of_dwarf,\n",
    "   #                          random_state =1 \n",
    " #                            )\n",
    "#dfDownSampled = pd.concat([dfGiantsDownSample , dfDwarfs] )\n",
    "\n",
    "#dfBalanced= dfDownSampled.reset_index(drop=True)\n",
    "\n",
    "# dataStar = dfBalanced.sample(frac=1).reset_index(drop=True) # shuffle\n",
    "# dfCopyStar = dataStar.copy()"
   ]
  },
  {
   "cell_type": "markdown",
   "id": "86650f70",
   "metadata": {
    "papermill": {
     "duration": 0.082173,
     "end_time": "2022-05-16T16:16:26.655542",
     "exception": false,
     "start_time": "2022-05-16T16:16:26.573369",
     "status": "completed"
    },
    "tags": []
   },
   "source": [
    "## Visualization ##"
   ]
  },
  {
   "cell_type": "markdown",
   "id": "438dc233",
   "metadata": {
    "papermill": {
     "duration": 0.082337,
     "end_time": "2022-05-16T16:16:26.820331",
     "exception": false,
     "start_time": "2022-05-16T16:16:26.737994",
     "status": "completed"
    },
    "tags": []
   },
   "source": [
    "## Correlation Linear ##"
   ]
  },
  {
   "cell_type": "markdown",
   "id": "f0d0d699",
   "metadata": {
    "papermill": {
     "duration": 0.08196,
     "end_time": "2022-05-16T16:16:26.984849",
     "exception": false,
     "start_time": "2022-05-16T16:16:26.902889",
     "status": "completed"
    },
    "tags": []
   },
   "source": [
    "## Data Cleaning ##"
   ]
  },
  {
   "cell_type": "markdown",
   "id": "ed64db98",
   "metadata": {
    "papermill": {
     "duration": 0.084342,
     "end_time": "2022-05-16T16:16:27.155010",
     "exception": false,
     "start_time": "2022-05-16T16:16:27.070668",
     "status": "completed"
    },
    "tags": []
   },
   "source": [
    "# **Data Processing** #"
   ]
  },
  {
   "cell_type": "markdown",
   "id": "5bfe5885",
   "metadata": {
    "papermill": {
     "duration": 0.082888,
     "end_time": "2022-05-16T16:16:27.321888",
     "exception": false,
     "start_time": "2022-05-16T16:16:27.239000",
     "status": "completed"
    },
    "tags": []
   },
   "source": [
    "### Train and test Set ###"
   ]
  },
  {
   "cell_type": "code",
   "execution_count": 36,
   "id": "0242d693",
   "metadata": {
    "execution": {
     "iopub.execute_input": "2022-05-16T16:16:27.492529Z",
     "iopub.status.busy": "2022-05-16T16:16:27.491736Z",
     "iopub.status.idle": "2022-05-16T16:16:27.495360Z",
     "shell.execute_reply": "2022-05-16T16:16:27.495951Z",
     "shell.execute_reply.started": "2022-05-16T16:14:28.056417Z"
    },
    "papermill": {
     "duration": 0.090334,
     "end_time": "2022-05-16T16:16:27.496117",
     "exception": false,
     "start_time": "2022-05-16T16:16:27.405783",
     "status": "completed"
    },
    "tags": []
   },
   "outputs": [],
   "source": [
    "## Stratified ##\n",
    "#from sklearn.model_selection import StratifiedShuffleSplit\n",
    "#split = StratifiedShuffleSplit(n_splits=1, test_size=0.2, random_state=42)\n",
    "#for train_index, test_index in split.split(data, data[\"variableStratificada\"]):\n",
    "#strat_train_set = housing.loc[train_index]\n",
    "#strat_test_set = housing.loc[test_index]\n",
    "\n",
    "#from  sklearn.impute import SimpleImputer\n",
    "#imputer = SimpleImputer(strategy='median')\n",
    "\n",
    "#from  sklearn.preprocessing import OneHotEncoder\n",
    "#catEncoder = OneHotEncoder()\n",
    "\n",
    "## numerical ##\n",
    "#from  sklearn.pipeline import Pipeline\n",
    "#from  sklearn.preprocessing import StandardScaler\n",
    "#numerical_pipeline = Pipeline([('imputer', SimpleImputer(strategy=\"median\")),('attribs_adder', CombinedAttributesAdder()),])\n",
    "# new_variable_transformed_numerical = num_pipeline.fit_transform(varible_numerica)\n",
    "\n",
    "## numerical and categorial ##\n",
    "#from sklearn import ColumnTransformer\n",
    "#numerical_attribs = list(numerical_columns)\n",
    "#categorical_attribs = list(categorial_columns)\n",
    "#full_pipeline = ColumnTransformer([(\"num\", numerical_pipeline, numerical_attribs),(\"cat\", OneHotEncoder(), categorical_attribs),])\n",
    "#dataTotal_prepared = full_pipeline.fit_transform(dataTotal) "
   ]
  },
  {
   "cell_type": "markdown",
   "id": "421e7b2c",
   "metadata": {
    "papermill": {
     "duration": 0.082214,
     "end_time": "2022-05-16T16:16:27.661588",
     "exception": false,
     "start_time": "2022-05-16T16:16:27.579374",
     "status": "completed"
    },
    "tags": []
   },
   "source": [
    "## Target ## "
   ]
  },
  {
   "cell_type": "markdown",
   "id": "6a5910d9",
   "metadata": {
    "papermill": {
     "duration": 0.082414,
     "end_time": "2022-05-16T16:16:27.826810",
     "exception": false,
     "start_time": "2022-05-16T16:16:27.744396",
     "status": "completed"
    },
    "tags": []
   },
   "source": [
    "## Featuring Engineering ##"
   ]
  },
  {
   "cell_type": "markdown",
   "id": "c22824c4",
   "metadata": {
    "papermill": {
     "duration": 0.0819,
     "end_time": "2022-05-16T16:16:27.990972",
     "exception": false,
     "start_time": "2022-05-16T16:16:27.909072",
     "status": "completed"
    },
    "tags": []
   },
   "source": [
    "##  Pipeline and Featuring Scaling ##"
   ]
  },
  {
   "cell_type": "markdown",
   "id": "9e6374c6",
   "metadata": {
    "papermill": {
     "duration": 0.082171,
     "end_time": "2022-05-16T16:16:28.156857",
     "exception": false,
     "start_time": "2022-05-16T16:16:28.074686",
     "status": "completed"
    },
    "tags": []
   },
   "source": [
    " # **MODEL** # "
   ]
  },
  {
   "cell_type": "markdown",
   "id": "5c6c826a",
   "metadata": {
    "papermill": {
     "duration": 0.082077,
     "end_time": "2022-05-16T16:16:28.321547",
     "exception": false,
     "start_time": "2022-05-16T16:16:28.239470",
     "status": "completed"
    },
    "tags": []
   },
   "source": [
    "#### Models ####"
   ]
  },
  {
   "cell_type": "code",
   "execution_count": 37,
   "id": "22e2131c",
   "metadata": {
    "execution": {
     "iopub.execute_input": "2022-05-16T16:16:28.490871Z",
     "iopub.status.busy": "2022-05-16T16:16:28.490139Z",
     "iopub.status.idle": "2022-05-16T16:16:28.492977Z",
     "shell.execute_reply": "2022-05-16T16:16:28.493539Z",
     "shell.execute_reply.started": "2022-05-16T16:14:28.070001Z"
    },
    "papermill": {
     "duration": 0.088262,
     "end_time": "2022-05-16T16:16:28.493714",
     "exception": false,
     "start_time": "2022-05-16T16:16:28.405452",
     "status": "completed"
    },
    "tags": []
   },
   "outputs": [],
   "source": [
    "### stratified CV ### see pag 136  Geron's book\n",
    "#from sklearn.model_selection import StratifiedKFold\n",
    "#from sklearn.base import clone\n",
    "#skfolds = StratifiedKFold(n_splits=3, random_state=42)"
   ]
  },
  {
   "cell_type": "markdown",
   "id": "ce5d694f",
   "metadata": {
    "papermill": {
     "duration": 0.084179,
     "end_time": "2022-05-16T16:16:28.662313",
     "exception": false,
     "start_time": "2022-05-16T16:16:28.578134",
     "status": "completed"
    },
    "tags": []
   },
   "source": [
    "# **Refinament** #"
   ]
  },
  {
   "cell_type": "code",
   "execution_count": null,
   "id": "e56df77e",
   "metadata": {
    "papermill": {
     "duration": 0.084879,
     "end_time": "2022-05-16T16:16:28.830989",
     "exception": false,
     "start_time": "2022-05-16T16:16:28.746110",
     "status": "completed"
    },
    "tags": []
   },
   "outputs": [],
   "source": []
  },
  {
   "cell_type": "markdown",
   "id": "9bbade2f",
   "metadata": {
    "papermill": {
     "duration": 0.081952,
     "end_time": "2022-05-16T16:16:28.996582",
     "exception": false,
     "start_time": "2022-05-16T16:16:28.914630",
     "status": "completed"
    },
    "tags": []
   },
   "source": [
    "# **Deploy** #"
   ]
  },
  {
   "cell_type": "code",
   "execution_count": null,
   "id": "664f10da",
   "metadata": {
    "papermill": {
     "duration": 0.081816,
     "end_time": "2022-05-16T16:16:29.161486",
     "exception": false,
     "start_time": "2022-05-16T16:16:29.079670",
     "status": "completed"
    },
    "tags": []
   },
   "outputs": [],
   "source": []
  },
  {
   "cell_type": "code",
   "execution_count": null,
   "id": "fcd91181",
   "metadata": {
    "papermill": {
     "duration": 0.081601,
     "end_time": "2022-05-16T16:16:29.325287",
     "exception": false,
     "start_time": "2022-05-16T16:16:29.243686",
     "status": "completed"
    },
    "tags": []
   },
   "outputs": [],
   "source": []
  }
 ],
 "metadata": {
  "kernelspec": {
   "display_name": "Python 3",
   "language": "python",
   "name": "python3"
  },
  "language_info": {
   "codemirror_mode": {
    "name": "ipython",
    "version": 3
   },
   "file_extension": ".py",
   "mimetype": "text/x-python",
   "name": "python",
   "nbconvert_exporter": "python",
   "pygments_lexer": "ipython3",
   "version": "3.7.12"
  },
  "papermill": {
   "default_parameters": {},
   "duration": 46.798025,
   "end_time": "2022-05-16T16:16:30.320040",
   "environment_variables": {},
   "exception": null,
   "input_path": "__notebook__.ipynb",
   "output_path": "__notebook__.ipynb",
   "parameters": {},
   "start_time": "2022-05-16T16:15:43.522015",
   "version": "2.3.3"
  }
 },
 "nbformat": 4,
 "nbformat_minor": 5
}
