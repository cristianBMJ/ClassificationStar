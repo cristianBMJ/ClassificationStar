{
 "cells": [
  {
   "cell_type": "markdown",
   "id": "46173487",
   "metadata": {
    "papermill": {
     "duration": 0.067475,
     "end_time": "2022-05-16T22:44:33.652010",
     "exception": false,
     "start_time": "2022-05-16T22:44:33.584535",
     "status": "completed"
    },
    "tags": []
   },
   "source": [
    "# **Forecasting: Store-Sales**\n",
    "\n",
    "This project aims to forecast the sales of a company's stores in Ecuador. We work with Time Series to predictions the sales, used tools of the **Pandas**. The Model learning  is the kind Hydrid,  it be first model `RandomForestRegressor` while the second model is `LinearRegression`. \n",
    "\n"
   ]
  },
  {
   "cell_type": "markdown",
   "id": "3ca83bc3",
   "metadata": {
    "papermill": {
     "duration": 0.060703,
     "end_time": "2022-05-16T22:44:33.779513",
     "exception": false,
     "start_time": "2022-05-16T22:44:33.718810",
     "status": "completed"
    },
    "tags": []
   },
   "source": [
    "# **Setting** #\n",
    "\n",
    "Setup of the system  and necessary libraries."
   ]
  },
  {
   "cell_type": "code",
   "execution_count": 1,
   "id": "55b8ced9",
   "metadata": {
    "_cell_guid": "b1076dfc-b9ad-4769-8c92-a6c4dae69d19",
    "_uuid": "8f2839f25d086af736a60e9eeb907d3b93b6e0e5",
    "execution": {
     "iopub.execute_input": "2022-05-16T22:44:33.906492Z",
     "iopub.status.busy": "2022-05-16T22:44:33.904912Z",
     "iopub.status.idle": "2022-05-16T22:44:37.193750Z",
     "shell.execute_reply": "2022-05-16T22:44:37.192348Z",
     "shell.execute_reply.started": "2022-05-16T22:12:51.939435Z"
    },
    "papermill": {
     "duration": 3.353282,
     "end_time": "2022-05-16T22:44:37.194050",
     "exception": false,
     "start_time": "2022-05-16T22:44:33.840768",
     "status": "completed"
    },
    "tags": []
   },
   "outputs": [
    {
     "data": {
      "text/html": [
       "<style type='text/css'>\n",
       ".datatable table.frame { margin-bottom: 0; }\n",
       ".datatable table.frame thead { border-bottom: none; }\n",
       ".datatable table.frame tr.coltypes td {  color: #FFFFFF;  line-height: 6px;  padding: 0 0.5em;}\n",
       ".datatable .bool    { background: #DDDD99; }\n",
       ".datatable .object  { background: #565656; }\n",
       ".datatable .int     { background: #5D9E5D; }\n",
       ".datatable .float   { background: #4040CC; }\n",
       ".datatable .str     { background: #CC4040; }\n",
       ".datatable .time    { background: #40CC40; }\n",
       ".datatable .row_index {  background: var(--jp-border-color3);  border-right: 1px solid var(--jp-border-color0);  color: var(--jp-ui-font-color3);  font-size: 9px;}\n",
       ".datatable .frame tbody td { text-align: left; }\n",
       ".datatable .frame tr.coltypes .row_index {  background: var(--jp-border-color0);}\n",
       ".datatable th:nth-child(2) { padding-left: 12px; }\n",
       ".datatable .hellipsis {  color: var(--jp-cell-editor-border-color);}\n",
       ".datatable .vellipsis {  background: var(--jp-layout-color0);  color: var(--jp-cell-editor-border-color);}\n",
       ".datatable .na {  color: var(--jp-cell-editor-border-color);  font-size: 80%;}\n",
       ".datatable .sp {  opacity: 0.25;}\n",
       ".datatable .footer { font-size: 9px; }\n",
       ".datatable .frame_dimensions {  background: var(--jp-border-color3);  border-top: 1px solid var(--jp-border-color0);  color: var(--jp-ui-font-color3);  display: inline-block;  opacity: 0.6;  padding: 1px 10px 1px 5px;}\n",
       "</style>\n"
      ],
      "text/plain": [
       "<IPython.core.display.HTML object>"
      ]
     },
     "metadata": {},
     "output_type": "display_data"
    },
    {
     "name": "stdout",
     "output_type": "stream",
     "text": [
      "/kaggle/input/store-sales-time-series-forecasting/oil.csv\n",
      "/kaggle/input/store-sales-time-series-forecasting/sample_submission.csv\n",
      "/kaggle/input/store-sales-time-series-forecasting/holidays_events.csv\n",
      "/kaggle/input/store-sales-time-series-forecasting/stores.csv\n",
      "/kaggle/input/store-sales-time-series-forecasting/train.csv\n",
      "/kaggle/input/store-sales-time-series-forecasting/test.csv\n",
      "/kaggle/input/store-sales-time-series-forecasting/transactions.csv\n"
     ]
    }
   ],
   "source": [
    "# This Python 3 environment comes with many helpful analytics libraries installed\n",
    "# It is defined by the kaggle/python Docker image: https://github.com/kaggle/docker-python\n",
    "# For example, here's several helpful packages to load\n",
    "\n",
    "%matplotlib inline\n",
    "\n",
    "# Setup feedback system\n",
    "from learntools.core import binder\n",
    "binder.bind(globals())\n",
    "from learntools.time_series.ex3 import *\n",
    "\n",
    " # Allows the use of display() for DataFrames\n",
    "# from IPython.core.interactiveshell import InteractiveShell\n",
    "\n",
    "# InteractiveShell.ast_node_interactivity = \"all\"\n",
    "\n",
    "\n",
    "# Setup notebook\n",
    "from pathlib import Path\n",
    "from IPython.display import display\n",
    "\n",
    "from learntools.time_series.style import *  # plot style settings\n",
    "from learntools.time_series.utils import plot_periodogram, seasonal_plot\n",
    "\n",
    "\n",
    "import numpy as np # linear algebra\n",
    "import pandas as pd # data processing, CSV file I/O (e.g. pd.read_csv)\n",
    "\n",
    "%matplotlib inline\n",
    "import matplotlib.pyplot as plt\n",
    "import seaborn as sns\n",
    "\n",
    "\n",
    "from scipy.signal import periodogram\n",
    "from sklearn.ensemble import RandomForestRegressor\n",
    "from statsmodels.tsa.deterministic import CalendarFourier, DeterministicProcess\n",
    "from statsmodels.graphics.tsaplots import plot_pacf\n",
    "from sklearn.preprocessing import OneHotEncoder\n",
    "\n",
    "\n",
    "from sklearn.linear_model import LinearRegression\n",
    "from lightgbm import LGBMRegressor # make for microsoft\n",
    "from statsmodels.tsa.seasonal import seasonal_decompose\n",
    "from statsmodels.graphics.tsaplots import plot_acf\n",
    "from scipy.stats import t\n",
    "from sklearn.model_selection import TimeSeriesSplit, train_test_split\n",
    "from sklearn.metrics import mean_absolute_error as mae \n",
    "from sklearn.metrics import  mean_squared_log_error as msle\n",
    "\n",
    "\n",
    "\n",
    "\n",
    "# Input data files are available in the read-only \"../input/\" directory\n",
    "# For example, running this (by clicking run or pressing Shift+Enter) will list all files under the input directory\n",
    "\n",
    "import os\n",
    "for dirname, _, filenames in os.walk('/kaggle/input'):\n",
    "    for filename in filenames:\n",
    "        print(os.path.join(dirname, filename))\n",
    "\n",
    "        \n",
    "        \n",
    "# You can write up to 20GB to the current directory (/kaggle/working/) that gets preserved as output when you create a version using \"Save & Run All\" \n",
    "# You can also write temporary files to /kaggle/temp/, but they won't be saved outside of the current session\n"
   ]
  },
  {
   "cell_type": "markdown",
   "id": "db58486a",
   "metadata": {
    "papermill": {
     "duration": 0.063086,
     "end_time": "2022-05-16T22:44:37.319264",
     "exception": false,
     "start_time": "2022-05-16T22:44:37.256178",
     "status": "completed"
    },
    "tags": []
   },
   "source": [
    "# **Get Data** #\n",
    "\n",
    "The data is in  [Kaggle Store sales](https://www.kaggle.com/c/store-sales-time-series-forecasting). \n"
   ]
  },
  {
   "cell_type": "code",
   "execution_count": 2,
   "id": "5cf26fc0",
   "metadata": {
    "execution": {
     "iopub.execute_input": "2022-05-16T22:44:37.623000Z",
     "iopub.status.busy": "2022-05-16T22:44:37.614341Z",
     "iopub.status.idle": "2022-05-16T22:44:43.615253Z",
     "shell.execute_reply": "2022-05-16T22:44:43.614613Z",
     "shell.execute_reply.started": "2022-05-16T22:12:52.152396Z"
    },
    "papermill": {
     "duration": 6.235855,
     "end_time": "2022-05-16T22:44:43.615440",
     "exception": false,
     "start_time": "2022-05-16T22:44:37.379585",
     "status": "completed"
    },
    "tags": []
   },
   "outputs": [],
   "source": [
    "# Paths\n",
    "comp_dir = Path('../input/store-sales-time-series-forecasting')\n",
    "\n",
    "# timeInitial\n",
    "timeInitial = '2017-04'\n",
    "\n",
    "# Get datas\n",
    "holidays_events = pd.read_csv(\n",
    "    comp_dir / \"holidays_events.csv\",\n",
    "    dtype={\n",
    "        'type': 'category',\n",
    "        'locale': 'category',\n",
    "        'locale_name': 'category',\n",
    "        'description': 'category',\n",
    "        'transferred': 'bool',\n",
    "    },\n",
    "    parse_dates=['date'],\n",
    "    infer_datetime_format=True,\n",
    "    index_col='date'\n",
    ")\n",
    "\n",
    "hol = holidays_events.to_period('D')\n",
    "hol = hol[hol.locale == 'National'] # I'm only taking National holiday so there's no false positive.\n",
    "hol = hol.groupby(hol.index).first() # Removing duplicated holiday at the same date \n",
    "\n",
    "store_sales = pd.read_csv(\n",
    "    comp_dir / 'train.csv',\n",
    "    usecols=['store_nbr', 'family','onpromotion', 'date', 'sales'],\n",
    "    dtype={\n",
    "        'store_nbr': 'category',\n",
    "        'family': 'category',\n",
    "        'sales': 'float32',\n",
    "        'onpromotion': 'uint32',\n",
    "    },\n",
    "    parse_dates=['date'],\n",
    "    infer_datetime_format=True,\n",
    ")\n",
    "\n",
    "oil = pd.read_csv(\n",
    "    comp_dir / 'oil.csv',\n",
    "    usecols = ['date', 'dcoilwtico'],\n",
    "    dtype={'dcoilwtico': 'float32'    },\n",
    "    parse_dates=['date'],\n",
    "    infer_datetime_format=True,\n",
    ")\n",
    "\n",
    " \n",
    "holidays = (\n",
    "    holidays_events\n",
    "    .query(\"locale in ['National', 'Regional']\")\n",
    "    .loc[timeInitial :'2017-08-15', ]\n",
    "    .assign(description=lambda x: x.description.cat.remove_unused_categories()) # assign new columns\n",
    ")\n",
    "\n",
    "df_test = pd.read_csv(\n",
    "    comp_dir / 'test.csv',\n",
    "    dtype={\n",
    "        'store_nbr': 'category',\n",
    "        'family': 'category',\n",
    "        'onpromotion': 'uint32',\n",
    "    },\n",
    "    parse_dates=['date'],\n",
    "    infer_datetime_format=True,\n",
    ")\n",
    "# Rearray to period\n",
    "\n",
    "transactions =  pd.read_csv( comp_dir / 'transactions.csv',\n",
    "                            parse_dates = ['date'], \n",
    "                            infer_datetime_format = True, \n",
    "                            )\n",
    "\n",
    "oil['date'] = oil.date.dt.to_period('D')\n",
    "oil = oil.set_index(['date']).sort_index()\n",
    "oil=oil.squeeze()\n",
    "\n",
    "store_sales['date'] = store_sales.date.dt.to_period('D')\n",
    "store_sales = store_sales.set_index(['store_nbr', 'family', 'date']).sort_index()\n",
    "\n"
   ]
  },
  {
   "cell_type": "markdown",
   "id": "0cb16b43",
   "metadata": {
    "papermill": {
     "duration": 0.061948,
     "end_time": "2022-05-16T22:44:43.738083",
     "exception": false,
     "start_time": "2022-05-16T22:44:43.676135",
     "status": "completed"
    },
    "tags": []
   },
   "source": [
    "\n",
    "#  **Exploratory Data Analysis** #"
   ]
  },
  {
   "cell_type": "markdown",
   "id": "d25b1534",
   "metadata": {
    "papermill": {
     "duration": 0.060507,
     "end_time": "2022-05-16T22:44:43.860157",
     "exception": false,
     "start_time": "2022-05-16T22:44:43.799650",
     "status": "completed"
    },
    "tags": []
   },
   "source": [
    "Information preliminar about  `store_sales`."
   ]
  },
  {
   "cell_type": "code",
   "execution_count": 3,
   "id": "903e44e0",
   "metadata": {
    "execution": {
     "iopub.execute_input": "2022-05-16T22:44:43.996914Z",
     "iopub.status.busy": "2022-05-16T22:44:43.996105Z",
     "iopub.status.idle": "2022-05-16T22:44:44.354472Z",
     "shell.execute_reply": "2022-05-16T22:44:44.353687Z",
     "shell.execute_reply.started": "2022-05-16T22:12:56.312082Z"
    },
    "papermill": {
     "duration": 0.428088,
     "end_time": "2022-05-16T22:44:44.354638",
     "exception": false,
     "start_time": "2022-05-16T22:44:43.926550",
     "status": "completed"
    },
    "tags": []
   },
   "outputs": [
    {
     "name": "stdout",
     "output_type": "stream",
     "text": [
      "<class 'pandas.core.frame.DataFrame'>\n",
      "MultiIndex: 3000888 entries, ('1', 'AUTOMOTIVE', Period('2013-01-01', 'D')) to ('9', 'SEAFOOD', Period('2017-08-15', 'D'))\n",
      "Data columns (total 2 columns):\n",
      " #   Column       Dtype  \n",
      "---  ------       -----  \n",
      " 0   sales        float32\n",
      " 1   onpromotion  uint32 \n",
      "dtypes: float32(1), uint32(1)\n",
      "memory usage: 34.4 MB\n"
     ]
    },
    {
     "data": {
      "text/plain": [
       "None"
      ]
     },
     "metadata": {},
     "output_type": "display_data"
    },
    {
     "data": {
      "text/html": [
       "<div>\n",
       "<style scoped>\n",
       "    .dataframe tbody tr th:only-of-type {\n",
       "        vertical-align: middle;\n",
       "    }\n",
       "\n",
       "    .dataframe tbody tr th {\n",
       "        vertical-align: top;\n",
       "    }\n",
       "\n",
       "    .dataframe thead th {\n",
       "        text-align: right;\n",
       "    }\n",
       "</style>\n",
       "<table border=\"1\" class=\"dataframe\">\n",
       "  <thead>\n",
       "    <tr style=\"text-align: right;\">\n",
       "      <th></th>\n",
       "      <th>count</th>\n",
       "      <th>mean</th>\n",
       "      <th>std</th>\n",
       "      <th>min</th>\n",
       "      <th>25%</th>\n",
       "      <th>50%</th>\n",
       "      <th>75%</th>\n",
       "      <th>max</th>\n",
       "    </tr>\n",
       "  </thead>\n",
       "  <tbody>\n",
       "    <tr>\n",
       "      <th>sales</th>\n",
       "      <td>3000888.0</td>\n",
       "      <td>356.758392</td>\n",
       "      <td>1093.275879</td>\n",
       "      <td>0.0</td>\n",
       "      <td>0.0</td>\n",
       "      <td>11.0</td>\n",
       "      <td>195.847252</td>\n",
       "      <td>124717.0</td>\n",
       "    </tr>\n",
       "    <tr>\n",
       "      <th>onpromotion</th>\n",
       "      <td>3000888.0</td>\n",
       "      <td>2.602770</td>\n",
       "      <td>12.218882</td>\n",
       "      <td>0.0</td>\n",
       "      <td>0.0</td>\n",
       "      <td>0.0</td>\n",
       "      <td>0.000000</td>\n",
       "      <td>741.0</td>\n",
       "    </tr>\n",
       "  </tbody>\n",
       "</table>\n",
       "</div>"
      ],
      "text/plain": [
       "                 count        mean          std  min  25%   50%         75%  \\\n",
       "sales        3000888.0  356.758392  1093.275879  0.0  0.0  11.0  195.847252   \n",
       "onpromotion  3000888.0    2.602770    12.218882  0.0  0.0   0.0    0.000000   \n",
       "\n",
       "                  max  \n",
       "sales        124717.0  \n",
       "onpromotion     741.0  "
      ]
     },
     "metadata": {},
     "output_type": "display_data"
    }
   ],
   "source": [
    "display(store_sales.info())\n",
    "display( store_sales.describe().T)\n"
   ]
  },
  {
   "cell_type": "code",
   "execution_count": 4,
   "id": "f89e7d58",
   "metadata": {
    "execution": {
     "iopub.execute_input": "2022-05-16T22:44:44.500336Z",
     "iopub.status.busy": "2022-05-16T22:44:44.499247Z",
     "iopub.status.idle": "2022-05-16T22:44:44.501974Z",
     "shell.execute_reply": "2022-05-16T22:44:44.501285Z",
     "shell.execute_reply.started": "2022-05-16T22:12:56.564670Z"
    },
    "papermill": {
     "duration": 0.083369,
     "end_time": "2022-05-16T22:44:44.502135",
     "exception": false,
     "start_time": "2022-05-16T22:44:44.418766",
     "status": "completed"
    },
    "tags": []
   },
   "outputs": [],
   "source": [
    "store_sales['sales'].head()\n",
    "\n",
    "def salesDecompose(df, share_type='sales', samples=250, period=30):\n",
    "    if samples == 'all':\n",
    "        #decomposing all time series timestamps\n",
    "        res = seasonal_decompose(df[share_type].values, period=period)\n",
    "    else:\n",
    "        #decomposing a sample of the time series\n",
    "        res = seasonal_decompose(df[share_type].values[-samples:], period=period)\n",
    "    \n",
    "    observed = res.observed\n",
    "    trend = res.trend\n",
    "    seasonal = res.seasonal\n",
    "    residual = res.resid\n",
    "    \n",
    "    #plot the complete time series\n",
    "    fig, axs = plt.subplots(4, figsize=(16,8))\n",
    "    axs[0].set_title('OBSERVED', fontsize=16)\n",
    "    axs[0].plot(observed)\n",
    "    axs[0].grid()\n",
    "    \n",
    "    #plot the trend of the time series\n",
    "    axs[1].set_title('TREND', fontsize=16)\n",
    "    axs[1].plot(trend)\n",
    "    axs[1].grid()\n",
    "    \n",
    "    #plot the seasonality of the time series. Period=24 daily seasonality | Period=24*7 weekly seasonality.\n",
    "    axs[2].set_title('SEASONALITY', fontsize=16)\n",
    "    axs[2].plot(seasonal)\n",
    "    axs[2].grid()\n",
    "    \n",
    "    #plot the noise of the time series\n",
    "    axs[3].set_title('NOISE', fontsize=16)\n",
    "    axs[3].plot(residual)\n",
    "    axs[3].scatter(y=residual, x=range(len(residual)), alpha=0.5)\n",
    "    axs[3].grid()\n",
    "    \n",
    "    plt.show()\n",
    "    "
   ]
  },
  {
   "cell_type": "markdown",
   "id": "4e1ff48e",
   "metadata": {
    "papermill": {
     "duration": 0.06236,
     "end_time": "2022-05-16T22:44:44.628714",
     "exception": false,
     "start_time": "2022-05-16T22:44:44.566354",
     "status": "completed"
    },
    "tags": []
   },
   "source": [
    "### Sales Decompose\n",
    "In this section shown to sales decompose in three parts;  Observed, Trend and Seasonality, in a range time of  one year. "
   ]
  },
  {
   "cell_type": "code",
   "execution_count": 5,
   "id": "fb605c90",
   "metadata": {
    "execution": {
     "iopub.execute_input": "2022-05-16T22:44:44.777292Z",
     "iopub.status.busy": "2022-05-16T22:44:44.776523Z",
     "iopub.status.idle": "2022-05-16T22:44:45.478355Z",
     "shell.execute_reply": "2022-05-16T22:44:45.479036Z",
     "shell.execute_reply.started": "2022-05-16T22:12:56.578114Z"
    },
    "papermill": {
     "duration": 0.782295,
     "end_time": "2022-05-16T22:44:45.479291",
     "exception": false,
     "start_time": "2022-05-16T22:44:44.696996",
     "status": "completed"
    },
    "tags": []
   },
   "outputs": [
    {
     "data": {
      "image/png": "[encoded data removed]",
      "text/plain": [
       "<Figure size 1152x576 with 4 Axes>"
      ]
     },
     "metadata": {
      "needs_background": "light"
     },
     "output_type": "display_data"
    }
   ],
   "source": [
    "salesDecompose(store_sales, samples= 365, period = 30 )"
   ]
  },
  {
   "cell_type": "markdown",
   "id": "3490f29d",
   "metadata": {
    "papermill": {
     "duration": 0.067689,
     "end_time": "2022-05-16T22:44:45.624886",
     "exception": false,
     "start_time": "2022-05-16T22:44:45.557197",
     "status": "completed"
    },
    "tags": []
   },
   "source": [
    "Here, we maked average sales from time initial `2015`. Then we show Partial Correlation of Lags,  noting the most  significant ones.  "
   ]
  },
  {
   "cell_type": "code",
   "execution_count": 6,
   "id": "21485b7b",
   "metadata": {
    "execution": {
     "iopub.execute_input": "2022-05-16T22:44:45.775346Z",
     "iopub.status.busy": "2022-05-16T22:44:45.774589Z",
     "iopub.status.idle": "2022-05-16T22:44:46.267955Z",
     "shell.execute_reply": "2022-05-16T22:44:46.268509Z",
     "shell.execute_reply.started": "2022-05-16T22:12:57.192488Z"
    },
    "papermill": {
     "duration": 0.574326,
     "end_time": "2022-05-16T22:44:46.268710",
     "exception": false,
     "start_time": "2022-05-16T22:44:45.694384",
     "status": "completed"
    },
    "tags": []
   },
   "outputs": [
    {
     "name": "stdout",
     "output_type": "stream",
     "text": [
      "<class 'pandas.core.frame.DataFrame'>\n",
      "RangeIndex: 83488 entries, 0 to 83487\n",
      "Data columns (total 3 columns):\n",
      " #   Column        Non-Null Count  Dtype         \n",
      "---  ------        --------------  -----         \n",
      " 0   date          83488 non-null  datetime64[ns]\n",
      " 1   store_nbr     83488 non-null  int64         \n",
      " 2   transactions  83488 non-null  int64         \n",
      "dtypes: datetime64[ns](1), int64(2)\n",
      "memory usage: 1.9 MB\n",
      "<class 'pandas.core.frame.DataFrame'>\n",
      "PeriodIndex: 137 entries, 2017-04-01 to 2017-08-15\n",
      "Freq: D\n",
      "Data columns (total 2 columns):\n",
      " #   Column       Non-Null Count  Dtype  \n",
      "---  ------       --------------  -----  \n",
      " 0   sales        137 non-null    float32\n",
      " 1   onpromotion  137 non-null    float64\n",
      "dtypes: float32(1), float64(1)\n",
      "memory usage: 2.7 KB\n"
     ]
    },
    {
     "data": {
      "text/plain": [
       "None"
      ]
     },
     "metadata": {},
     "output_type": "display_data"
    },
    {
     "data": {
      "text/html": [
       "<div>\n",
       "<style scoped>\n",
       "    .dataframe tbody tr th:only-of-type {\n",
       "        vertical-align: middle;\n",
       "    }\n",
       "\n",
       "    .dataframe tbody tr th {\n",
       "        vertical-align: top;\n",
       "    }\n",
       "\n",
       "    .dataframe thead th {\n",
       "        text-align: right;\n",
       "    }\n",
       "</style>\n",
       "<table border=\"1\" class=\"dataframe\">\n",
       "  <thead>\n",
       "    <tr style=\"text-align: right;\">\n",
       "      <th></th>\n",
       "      <th>sales</th>\n",
       "      <th>onpromotion</th>\n",
       "    </tr>\n",
       "    <tr>\n",
       "      <th>date</th>\n",
       "      <th></th>\n",
       "      <th></th>\n",
       "    </tr>\n",
       "  </thead>\n",
       "  <tbody>\n",
       "    <tr>\n",
       "      <th>2017-04-01</th>\n",
       "      <td>821.034790</td>\n",
       "      <td>4.180696</td>\n",
       "    </tr>\n",
       "    <tr>\n",
       "      <th>2017-04-02</th>\n",
       "      <td>638.973083</td>\n",
       "      <td>4.459035</td>\n",
       "    </tr>\n",
       "    <tr>\n",
       "      <th>2017-04-03</th>\n",
       "      <td>468.682159</td>\n",
       "      <td>3.672840</td>\n",
       "    </tr>\n",
       "    <tr>\n",
       "      <th>2017-04-04</th>\n",
       "      <td>468.912811</td>\n",
       "      <td>5.227834</td>\n",
       "    </tr>\n",
       "    <tr>\n",
       "      <th>2017-04-05</th>\n",
       "      <td>475.101746</td>\n",
       "      <td>8.470258</td>\n",
       "    </tr>\n",
       "  </tbody>\n",
       "</table>\n",
       "</div>"
      ],
      "text/plain": [
       "                 sales  onpromotion\n",
       "date                               \n",
       "2017-04-01  821.034790     4.180696\n",
       "2017-04-02  638.973083     4.459035\n",
       "2017-04-03  468.682159     3.672840\n",
       "2017-04-04  468.912811     5.227834\n",
       "2017-04-05  475.101746     8.470258"
      ]
     },
     "execution_count": 6,
     "metadata": {},
     "output_type": "execute_result"
    },
    {
     "data": {
      "image/png": "[encoded data removed]",
      "text/plain": [
       "<Figure size 432x288 with 1 Axes>"
      ]
     },
     "metadata": {
      "needs_background": "light"
     },
     "output_type": "display_data"
    }
   ],
   "source": [
    "# transactions per store\n",
    "transactions.info()\n",
    "\n",
    "\n",
    "# average sales \n",
    "average_sales = (\n",
    "    store_sales\n",
    "    .groupby('date').mean()\n",
    "    .squeeze()\n",
    "    .loc[timeInitial:]\n",
    ")\n",
    "\n",
    "\n",
    "plot_pacf(average_sales.sales, lags=15)\n",
    "\n",
    "\n",
    "display(average_sales.info())\n",
    "#ax = average_sales.plot(**plot_params, alpha = 0.5,  title='Averange Sales', ylabel='Items Sold')\n",
    "#ax.legend();\n",
    "\n",
    "average_sales.head()"
   ]
  },
  {
   "cell_type": "code",
   "execution_count": 7,
   "id": "e775a775",
   "metadata": {
    "execution": {
     "iopub.execute_input": "2022-05-16T22:44:46.414701Z",
     "iopub.status.busy": "2022-05-16T22:44:46.413978Z",
     "iopub.status.idle": "2022-05-16T22:44:46.426565Z",
     "shell.execute_reply": "2022-05-16T22:44:46.425760Z",
     "shell.execute_reply.started": "2022-05-16T22:12:57.627805Z"
    },
    "papermill": {
     "duration": 0.087397,
     "end_time": "2022-05-16T22:44:46.426755",
     "exception": false,
     "start_time": "2022-05-16T22:44:46.339358",
     "status": "completed"
    },
    "tags": []
   },
   "outputs": [
    {
     "name": "stdout",
     "output_type": "stream",
     "text": [
      "<class 'pandas.core.frame.DataFrame'>\n",
      "PeriodIndex: 1218 entries, 2013-01-01 to 2017-08-31\n",
      "Freq: D\n",
      "Data columns (total 1 columns):\n",
      " #   Column      Non-Null Count  Dtype  \n",
      "---  ------      --------------  -----  \n",
      " 0   dcoilwtico  1175 non-null   float32\n",
      "dtypes: float32(1)\n",
      "memory usage: 14.3 KB\n"
     ]
    }
   ],
   "source": [
    "# partial autocorrelation Oil\n",
    "dfOil = pd.DataFrame(oil)\n",
    "dfOil.info()"
   ]
  },
  {
   "cell_type": "markdown",
   "id": "65700e1f",
   "metadata": {
    "papermill": {
     "duration": 0.070839,
     "end_time": "2022-05-16T22:44:46.568204",
     "exception": false,
     "start_time": "2022-05-16T22:44:46.497365",
     "status": "completed"
    },
    "tags": []
   },
   "source": [
    "The price's Oil during three years."
   ]
  },
  {
   "cell_type": "code",
   "execution_count": 8,
   "id": "e2fd927b",
   "metadata": {
    "execution": {
     "iopub.execute_input": "2022-05-16T22:44:46.715512Z",
     "iopub.status.busy": "2022-05-16T22:44:46.714753Z",
     "iopub.status.idle": "2022-05-16T22:44:47.036267Z",
     "shell.execute_reply": "2022-05-16T22:44:47.036820Z",
     "shell.execute_reply.started": "2022-05-16T22:12:57.642113Z"
    },
    "papermill": {
     "duration": 0.398374,
     "end_time": "2022-05-16T22:44:47.037014",
     "exception": false,
     "start_time": "2022-05-16T22:44:46.638640",
     "status": "completed"
    },
    "tags": []
   },
   "outputs": [
    {
     "data": {
      "image/png": "[encoded data removed]",
      "text/plain": [
       "<Figure size 432x288 with 1 Axes>"
      ]
     },
     "metadata": {
      "needs_background": "light"
     },
     "output_type": "display_data"
    }
   ],
   "source": [
    "oil[timeInitial:].plot()\n",
    "plt.show()\n",
    "\n",
    "\n"
   ]
  },
  {
   "cell_type": "code",
   "execution_count": 9,
   "id": "5ea616d1",
   "metadata": {
    "execution": {
     "iopub.execute_input": "2022-05-16T22:44:47.186348Z",
     "iopub.status.busy": "2022-05-16T22:44:47.185527Z",
     "iopub.status.idle": "2022-05-16T22:44:47.200570Z",
     "shell.execute_reply": "2022-05-16T22:44:47.201124Z",
     "shell.execute_reply.started": "2022-05-16T22:12:58.117779Z"
    },
    "papermill": {
     "duration": 0.091513,
     "end_time": "2022-05-16T22:44:47.201355",
     "exception": false,
     "start_time": "2022-05-16T22:44:47.109842",
     "status": "completed"
    },
    "tags": []
   },
   "outputs": [
    {
     "name": "stdout",
     "output_type": "stream",
     "text": [
      "<class 'pandas.core.frame.DataFrame'>\n",
      "PeriodIndex: 1218 entries, 2013-01-01 to 2017-08-31\n",
      "Freq: D\n",
      "Data columns (total 1 columns):\n",
      " #   Column      Non-Null Count  Dtype  \n",
      "---  ------      --------------  -----  \n",
      " 0   dcoilwtico  1175 non-null   float32\n",
      "dtypes: float32(1)\n",
      "memory usage: 46.6 KB\n"
     ]
    }
   ],
   "source": [
    "dfOil = pd.DataFrame(oil)\n",
    "dfOil.info()"
   ]
  },
  {
   "cell_type": "code",
   "execution_count": 10,
   "id": "fe3e2bc0",
   "metadata": {
    "execution": {
     "iopub.execute_input": "2022-05-16T22:44:47.351843Z",
     "iopub.status.busy": "2022-05-16T22:44:47.350950Z",
     "iopub.status.idle": "2022-05-16T22:44:47.746775Z",
     "shell.execute_reply": "2022-05-16T22:44:47.745998Z",
     "shell.execute_reply.started": "2022-05-16T22:12:58.131136Z"
    },
    "papermill": {
     "duration": 0.472085,
     "end_time": "2022-05-16T22:44:47.746942",
     "exception": false,
     "start_time": "2022-05-16T22:44:47.274857",
     "status": "completed"
    },
    "tags": []
   },
   "outputs": [
    {
     "name": "stdout",
     "output_type": "stream",
     "text": [
      "<class 'pandas.core.frame.DataFrame'>\n",
      "PeriodIndex: 1218 entries, 2013-01-01 to 2017-08-31\n",
      "Freq: D\n",
      "Data columns (total 2 columns):\n",
      " #   Column      Non-Null Count  Dtype  \n",
      "---  ------      --------------  -----  \n",
      " 0   dcoilwtico  1217 non-null   float32\n",
      " 1   ma_oil      1211 non-null   float64\n",
      "dtypes: float32(1), float64(1)\n",
      "memory usage: 56.1 KB\n"
     ]
    },
    {
     "data": {
      "text/plain": [
       "<AxesSubplot:xlabel='date'>"
      ]
     },
     "execution_count": 10,
     "metadata": {},
     "output_type": "execute_result"
    },
    {
     "data": {
      "image/png": "[encoded data removed]",
      "text/plain": [
       "<Figure size 432x288 with 1 Axes>"
      ]
     },
     "metadata": {
      "needs_background": "light"
     },
     "output_type": "display_data"
    }
   ],
   "source": [
    "dfOil['ma_oil'] = dfOil['dcoilwtico'].rolling(7).mean() # calculating mean by oil ( there are NaNs  values)\n",
    "dfOil.fillna(method='ffill', inplace=True)\n",
    "dfOil.info()\n",
    "\n",
    "dfOil.plot()\n",
    "#dfOil.ma_oil[timeInitial:].plot()"
   ]
  },
  {
   "cell_type": "markdown",
   "id": "93b2e91e",
   "metadata": {
    "papermill": {
     "duration": 0.082719,
     "end_time": "2022-05-16T22:44:47.909442",
     "exception": false,
     "start_time": "2022-05-16T22:44:47.826723",
     "status": "completed"
    },
    "tags": []
   },
   "source": [
    "# **Model with Oil** #\n"
   ]
  },
  {
   "cell_type": "markdown",
   "id": "1d783a1b",
   "metadata": {
    "papermill": {
     "duration": 0.077268,
     "end_time": "2022-05-16T22:44:48.068779",
     "exception": false,
     "start_time": "2022-05-16T22:44:47.991511",
     "status": "completed"
    },
    "tags": []
   },
   "source": [
    "We started create training  data, used `CalendarFourier`. For determine seasonal we take care `DeterministicProcess`. Futher, we add the Holiday days. "
   ]
  },
  {
   "cell_type": "code",
   "execution_count": 11,
   "id": "7b71e932",
   "metadata": {
    "execution": {
     "iopub.execute_input": "2022-05-16T22:44:48.225979Z",
     "iopub.status.busy": "2022-05-16T22:44:48.225146Z",
     "iopub.status.idle": "2022-05-16T22:44:49.808679Z",
     "shell.execute_reply": "2022-05-16T22:44:49.807936Z",
     "shell.execute_reply.started": "2022-05-16T22:12:58.480076Z"
    },
    "papermill": {
     "duration": 1.666232,
     "end_time": "2022-05-16T22:44:49.808867",
     "exception": false,
     "start_time": "2022-05-16T22:44:48.142635",
     "status": "completed"
    },
    "tags": []
   },
   "outputs": [],
   "source": [
    "sdate = '2017-04-01'\n",
    "edate = '2017-08-15'\n",
    "y = store_sales.unstack(['store_nbr', 'family']).loc[timeInitial:] \n",
    "\n",
    "\n",
    "# y = y.join( oil.rename('Oil') , on='date').fillna(method = 'bfill')\n",
    "\n",
    "# Create training data\n",
    "fourier = CalendarFourier(freq='M', order=4)\n",
    "dp = DeterministicProcess(\n",
    "    index=y.index,\n",
    "    constant=True,\n",
    "    order=1,\n",
    "    seasonal=True,\n",
    "    additional_terms=[fourier],\n",
    "    drop=True,\n",
    ")"
   ]
  },
  {
   "cell_type": "code",
   "execution_count": 12,
   "id": "b29be45f",
   "metadata": {
    "execution": {
     "iopub.execute_input": "2022-05-16T22:44:49.966365Z",
     "iopub.status.busy": "2022-05-16T22:44:49.965211Z",
     "iopub.status.idle": "2022-05-16T22:44:49.993726Z",
     "shell.execute_reply": "2022-05-16T22:44:49.994614Z",
     "shell.execute_reply.started": "2022-05-16T22:12:59.774742Z"
    },
    "papermill": {
     "duration": 0.11076,
     "end_time": "2022-05-16T22:44:49.994956",
     "exception": false,
     "start_time": "2022-05-16T22:44:49.884196",
     "status": "completed"
    },
    "tags": []
   },
   "outputs": [],
   "source": [
    "X = dp.in_sample()\n",
    "X1 = X.copy() \n",
    "#holidays = holidays.groupby(holidays.index).first() # Removing duplicated holiday at the same date"
   ]
  },
  {
   "cell_type": "markdown",
   "id": "a3f32d31",
   "metadata": {
    "papermill": {
     "duration": 0.072989,
     "end_time": "2022-05-16T22:44:50.157136",
     "exception": false,
     "start_time": "2022-05-16T22:44:50.084147",
     "status": "completed"
    },
    "tags": []
   },
   "source": [
    "## Feature Engineering for Holidays"
   ]
  },
  {
   "cell_type": "code",
   "execution_count": 13,
   "id": "dd6a4e35",
   "metadata": {
    "execution": {
     "iopub.execute_input": "2022-05-16T22:44:50.308248Z",
     "iopub.status.busy": "2022-05-16T22:44:50.307484Z",
     "iopub.status.idle": "2022-05-16T22:44:50.355910Z",
     "shell.execute_reply": "2022-05-16T22:44:50.355336Z",
     "shell.execute_reply.started": "2022-05-16T22:12:59.795249Z"
    },
    "papermill": {
     "duration": 0.125432,
     "end_time": "2022-05-16T22:44:50.356076",
     "exception": false,
     "start_time": "2022-05-16T22:44:50.230644",
     "status": "completed"
    },
    "tags": []
   },
   "outputs": [
    {
     "data": {
      "text/html": [
       "<div>\n",
       "<style scoped>\n",
       "    .dataframe tbody tr th:only-of-type {\n",
       "        vertical-align: middle;\n",
       "    }\n",
       "\n",
       "    .dataframe tbody tr th {\n",
       "        vertical-align: top;\n",
       "    }\n",
       "\n",
       "    .dataframe thead th {\n",
       "        text-align: right;\n",
       "    }\n",
       "</style>\n",
       "<table border=\"1\" class=\"dataframe\">\n",
       "  <thead>\n",
       "    <tr style=\"text-align: right;\">\n",
       "      <th></th>\n",
       "      <th>NewYear</th>\n",
       "      <th>wd</th>\n",
       "      <th>dofw_1</th>\n",
       "      <th>dofw_2</th>\n",
       "      <th>dofw_3</th>\n",
       "      <th>dofw_4</th>\n",
       "      <th>dofw_5</th>\n",
       "      <th>dofw_6</th>\n",
       "      <th>type_Additional</th>\n",
       "      <th>type_Bridge</th>\n",
       "      <th>type_Event</th>\n",
       "      <th>type_Holiday</th>\n",
       "      <th>type_Transfer</th>\n",
       "      <th>type_Work Day</th>\n",
       "    </tr>\n",
       "  </thead>\n",
       "  <tbody>\n",
       "    <tr>\n",
       "      <th>2013-01-01</th>\n",
       "      <td>True</td>\n",
       "      <td>0</td>\n",
       "      <td>1</td>\n",
       "      <td>0</td>\n",
       "      <td>0</td>\n",
       "      <td>0</td>\n",
       "      <td>0</td>\n",
       "      <td>0</td>\n",
       "      <td>0</td>\n",
       "      <td>0</td>\n",
       "      <td>0</td>\n",
       "      <td>1</td>\n",
       "      <td>0</td>\n",
       "      <td>0</td>\n",
       "    </tr>\n",
       "    <tr>\n",
       "      <th>2013-01-02</th>\n",
       "      <td>False</td>\n",
       "      <td>1</td>\n",
       "      <td>0</td>\n",
       "      <td>1</td>\n",
       "      <td>0</td>\n",
       "      <td>0</td>\n",
       "      <td>0</td>\n",
       "      <td>0</td>\n",
       "      <td>0</td>\n",
       "      <td>0</td>\n",
       "      <td>0</td>\n",
       "      <td>0</td>\n",
       "      <td>0</td>\n",
       "      <td>0</td>\n",
       "    </tr>\n",
       "    <tr>\n",
       "      <th>2013-01-03</th>\n",
       "      <td>False</td>\n",
       "      <td>1</td>\n",
       "      <td>0</td>\n",
       "      <td>0</td>\n",
       "      <td>1</td>\n",
       "      <td>0</td>\n",
       "      <td>0</td>\n",
       "      <td>0</td>\n",
       "      <td>0</td>\n",
       "      <td>0</td>\n",
       "      <td>0</td>\n",
       "      <td>0</td>\n",
       "      <td>0</td>\n",
       "      <td>0</td>\n",
       "    </tr>\n",
       "    <tr>\n",
       "      <th>2013-01-04</th>\n",
       "      <td>False</td>\n",
       "      <td>1</td>\n",
       "      <td>0</td>\n",
       "      <td>0</td>\n",
       "      <td>0</td>\n",
       "      <td>1</td>\n",
       "      <td>0</td>\n",
       "      <td>0</td>\n",
       "      <td>0</td>\n",
       "      <td>0</td>\n",
       "      <td>0</td>\n",
       "      <td>0</td>\n",
       "      <td>0</td>\n",
       "      <td>0</td>\n",
       "    </tr>\n",
       "    <tr>\n",
       "      <th>2013-01-05</th>\n",
       "      <td>False</td>\n",
       "      <td>1</td>\n",
       "      <td>0</td>\n",
       "      <td>0</td>\n",
       "      <td>0</td>\n",
       "      <td>0</td>\n",
       "      <td>1</td>\n",
       "      <td>0</td>\n",
       "      <td>0</td>\n",
       "      <td>0</td>\n",
       "      <td>0</td>\n",
       "      <td>0</td>\n",
       "      <td>0</td>\n",
       "      <td>1</td>\n",
       "    </tr>\n",
       "  </tbody>\n",
       "</table>\n",
       "</div>"
      ],
      "text/plain": [
       "            NewYear  wd  dofw_1  dofw_2  dofw_3  dofw_4  dofw_5  dofw_6  \\\n",
       "2013-01-01     True   0       1       0       0       0       0       0   \n",
       "2013-01-02    False   1       0       1       0       0       0       0   \n",
       "2013-01-03    False   1       0       0       1       0       0       0   \n",
       "2013-01-04    False   1       0       0       0       1       0       0   \n",
       "2013-01-05    False   1       0       0       0       0       1       0   \n",
       "\n",
       "            type_Additional  type_Bridge  type_Event  type_Holiday  \\\n",
       "2013-01-01                0            0           0             1   \n",
       "2013-01-02                0            0           0             0   \n",
       "2013-01-03                0            0           0             0   \n",
       "2013-01-04                0            0           0             0   \n",
       "2013-01-05                0            0           0             0   \n",
       "\n",
       "            type_Transfer  type_Work Day  \n",
       "2013-01-01              0              0  \n",
       "2013-01-02              0              0  \n",
       "2013-01-03              0              0  \n",
       "2013-01-04              0              0  \n",
       "2013-01-05              0              1  "
      ]
     },
     "execution_count": 13,
     "metadata": {},
     "output_type": "execute_result"
    }
   ],
   "source": [
    "#calendar = X.join(hol)\n",
    "calendar = pd.DataFrame(index = pd.date_range('2013-01-01', '2017-08-31')).to_period('D')\n",
    "\n",
    "calendar['NewYear'] = (calendar.index.dayofyear == 1)\n",
    "\n",
    "calendar['dofw'] = calendar.index.dayofweek # Weekly day\n",
    "calendar['wd'] = True\n",
    "calendar.loc[calendar.dofw > 4, 'wd'] = False # not work day\n",
    "\n",
    "calendar = calendar.join(hol) # Joining calendar with holiday dataset\n",
    "calendar['dofw'] = calendar.index.dayofweek # Weekly day\n",
    "calendar['wd'] = 1\n",
    "calendar.loc[calendar.dofw > 4, 'wd'] = 0 # If it's saturday or sunday then it's not Weekday\n",
    "calendar.loc[calendar.type == 'Work Day', 'wd'] = 1 # If it's Work Day event then it's a workday\n",
    "calendar.loc[calendar.type == 'Transfer', 'wd'] = 0 # If it's Transfer event then it's not a work day\n",
    "calendar.loc[calendar.type == 'Bridge', 'wd'] = 0 # If it's Bridge event then it's not a work day\n",
    "calendar.loc[(calendar.type == 'Holiday') & (calendar.transferred == False), 'wd'] = 0 # If it's holiday and the holiday is not transferred then it's holiday\n",
    "calendar.loc[(calendar.type == 'Holiday') & (calendar.transferred == True), 'wd'] = 1 # If it's holiday and transferred then it's not holiday\n",
    "calendar = pd.get_dummies(calendar, columns = ['dofw'], drop_first = True) # One-hot encoding (Make sure to drop one of the columns by 'drop_first = True')\n",
    "calendar = pd.get_dummies(calendar, columns = ['type']) # One-hot encoding for type holiday (No need to drop one of the columns because there's a \"No holiday\" already)\n",
    "calendar.drop(['locale', 'locale_name', 'description', 'transferred'], axis = 1, inplace = True) # Unused columns\n",
    "calendar\n",
    "\n",
    "\n",
    "\n",
    "calendar.head()"
   ]
  },
  {
   "cell_type": "code",
   "execution_count": 14,
   "id": "0174badb",
   "metadata": {
    "execution": {
     "iopub.execute_input": "2022-05-16T22:44:50.512129Z",
     "iopub.status.busy": "2022-05-16T22:44:50.511405Z",
     "iopub.status.idle": "2022-05-16T22:44:50.617505Z",
     "shell.execute_reply": "2022-05-16T22:44:50.618044Z",
     "shell.execute_reply.started": "2022-05-16T22:12:59.839259Z"
    },
    "papermill": {
     "duration": 0.187695,
     "end_time": "2022-05-16T22:44:50.618243",
     "exception": false,
     "start_time": "2022-05-16T22:44:50.430548",
     "status": "completed"
    },
    "tags": []
   },
   "outputs": [
    {
     "data": {
      "text/html": [
       "<div>\n",
       "<style scoped>\n",
       "    .dataframe tbody tr th:only-of-type {\n",
       "        vertical-align: middle;\n",
       "    }\n",
       "\n",
       "    .dataframe tbody tr th {\n",
       "        vertical-align: top;\n",
       "    }\n",
       "\n",
       "    .dataframe thead th {\n",
       "        text-align: right;\n",
       "    }\n",
       "</style>\n",
       "<table border=\"1\" class=\"dataframe\">\n",
       "  <thead>\n",
       "    <tr style=\"text-align: right;\">\n",
       "      <th></th>\n",
       "      <th>NewYear</th>\n",
       "      <th>wd</th>\n",
       "      <th>dofw_1</th>\n",
       "      <th>dofw_2</th>\n",
       "      <th>dofw_3</th>\n",
       "      <th>dofw_4</th>\n",
       "      <th>dofw_5</th>\n",
       "      <th>dofw_6</th>\n",
       "      <th>type_Additional</th>\n",
       "      <th>type_Bridge</th>\n",
       "      <th>type_Event</th>\n",
       "      <th>type_Holiday</th>\n",
       "      <th>type_Transfer</th>\n",
       "      <th>type_Work Day</th>\n",
       "      <th>school_season</th>\n",
       "    </tr>\n",
       "  </thead>\n",
       "  <tbody>\n",
       "    <tr>\n",
       "      <th>2013-01-01</th>\n",
       "      <td>True</td>\n",
       "      <td>0</td>\n",
       "      <td>1</td>\n",
       "      <td>0</td>\n",
       "      <td>0</td>\n",
       "      <td>0</td>\n",
       "      <td>0</td>\n",
       "      <td>0</td>\n",
       "      <td>0</td>\n",
       "      <td>0</td>\n",
       "      <td>0</td>\n",
       "      <td>1</td>\n",
       "      <td>0</td>\n",
       "      <td>0</td>\n",
       "      <td>0</td>\n",
       "    </tr>\n",
       "    <tr>\n",
       "      <th>2013-01-02</th>\n",
       "      <td>False</td>\n",
       "      <td>1</td>\n",
       "      <td>0</td>\n",
       "      <td>1</td>\n",
       "      <td>0</td>\n",
       "      <td>0</td>\n",
       "      <td>0</td>\n",
       "      <td>0</td>\n",
       "      <td>0</td>\n",
       "      <td>0</td>\n",
       "      <td>0</td>\n",
       "      <td>0</td>\n",
       "      <td>0</td>\n",
       "      <td>0</td>\n",
       "      <td>0</td>\n",
       "    </tr>\n",
       "    <tr>\n",
       "      <th>2013-01-03</th>\n",
       "      <td>False</td>\n",
       "      <td>1</td>\n",
       "      <td>0</td>\n",
       "      <td>0</td>\n",
       "      <td>1</td>\n",
       "      <td>0</td>\n",
       "      <td>0</td>\n",
       "      <td>0</td>\n",
       "      <td>0</td>\n",
       "      <td>0</td>\n",
       "      <td>0</td>\n",
       "      <td>0</td>\n",
       "      <td>0</td>\n",
       "      <td>0</td>\n",
       "      <td>0</td>\n",
       "    </tr>\n",
       "    <tr>\n",
       "      <th>2013-01-04</th>\n",
       "      <td>False</td>\n",
       "      <td>1</td>\n",
       "      <td>0</td>\n",
       "      <td>0</td>\n",
       "      <td>0</td>\n",
       "      <td>1</td>\n",
       "      <td>0</td>\n",
       "      <td>0</td>\n",
       "      <td>0</td>\n",
       "      <td>0</td>\n",
       "      <td>0</td>\n",
       "      <td>0</td>\n",
       "      <td>0</td>\n",
       "      <td>0</td>\n",
       "      <td>0</td>\n",
       "    </tr>\n",
       "    <tr>\n",
       "      <th>2013-01-05</th>\n",
       "      <td>False</td>\n",
       "      <td>1</td>\n",
       "      <td>0</td>\n",
       "      <td>0</td>\n",
       "      <td>0</td>\n",
       "      <td>0</td>\n",
       "      <td>1</td>\n",
       "      <td>0</td>\n",
       "      <td>0</td>\n",
       "      <td>0</td>\n",
       "      <td>0</td>\n",
       "      <td>0</td>\n",
       "      <td>0</td>\n",
       "      <td>1</td>\n",
       "      <td>0</td>\n",
       "    </tr>\n",
       "    <tr>\n",
       "      <th>...</th>\n",
       "      <td>...</td>\n",
       "      <td>...</td>\n",
       "      <td>...</td>\n",
       "      <td>...</td>\n",
       "      <td>...</td>\n",
       "      <td>...</td>\n",
       "      <td>...</td>\n",
       "      <td>...</td>\n",
       "      <td>...</td>\n",
       "      <td>...</td>\n",
       "      <td>...</td>\n",
       "      <td>...</td>\n",
       "      <td>...</td>\n",
       "      <td>...</td>\n",
       "      <td>...</td>\n",
       "    </tr>\n",
       "    <tr>\n",
       "      <th>2017-08-27</th>\n",
       "      <td>False</td>\n",
       "      <td>0</td>\n",
       "      <td>0</td>\n",
       "      <td>0</td>\n",
       "      <td>0</td>\n",
       "      <td>0</td>\n",
       "      <td>0</td>\n",
       "      <td>1</td>\n",
       "      <td>0</td>\n",
       "      <td>0</td>\n",
       "      <td>0</td>\n",
       "      <td>0</td>\n",
       "      <td>0</td>\n",
       "      <td>0</td>\n",
       "      <td>1</td>\n",
       "    </tr>\n",
       "    <tr>\n",
       "      <th>2017-08-28</th>\n",
       "      <td>False</td>\n",
       "      <td>1</td>\n",
       "      <td>0</td>\n",
       "      <td>0</td>\n",
       "      <td>0</td>\n",
       "      <td>0</td>\n",
       "      <td>0</td>\n",
       "      <td>0</td>\n",
       "      <td>0</td>\n",
       "      <td>0</td>\n",
       "      <td>0</td>\n",
       "      <td>0</td>\n",
       "      <td>0</td>\n",
       "      <td>0</td>\n",
       "      <td>1</td>\n",
       "    </tr>\n",
       "    <tr>\n",
       "      <th>2017-08-29</th>\n",
       "      <td>False</td>\n",
       "      <td>1</td>\n",
       "      <td>1</td>\n",
       "      <td>0</td>\n",
       "      <td>0</td>\n",
       "      <td>0</td>\n",
       "      <td>0</td>\n",
       "      <td>0</td>\n",
       "      <td>0</td>\n",
       "      <td>0</td>\n",
       "      <td>0</td>\n",
       "      <td>0</td>\n",
       "      <td>0</td>\n",
       "      <td>0</td>\n",
       "      <td>1</td>\n",
       "    </tr>\n",
       "    <tr>\n",
       "      <th>2017-08-30</th>\n",
       "      <td>False</td>\n",
       "      <td>1</td>\n",
       "      <td>0</td>\n",
       "      <td>1</td>\n",
       "      <td>0</td>\n",
       "      <td>0</td>\n",
       "      <td>0</td>\n",
       "      <td>0</td>\n",
       "      <td>0</td>\n",
       "      <td>0</td>\n",
       "      <td>0</td>\n",
       "      <td>0</td>\n",
       "      <td>0</td>\n",
       "      <td>0</td>\n",
       "      <td>1</td>\n",
       "    </tr>\n",
       "    <tr>\n",
       "      <th>2017-08-31</th>\n",
       "      <td>False</td>\n",
       "      <td>1</td>\n",
       "      <td>0</td>\n",
       "      <td>0</td>\n",
       "      <td>1</td>\n",
       "      <td>0</td>\n",
       "      <td>0</td>\n",
       "      <td>0</td>\n",
       "      <td>0</td>\n",
       "      <td>0</td>\n",
       "      <td>0</td>\n",
       "      <td>0</td>\n",
       "      <td>0</td>\n",
       "      <td>0</td>\n",
       "      <td>1</td>\n",
       "    </tr>\n",
       "  </tbody>\n",
       "</table>\n",
       "<p>1704 rows × 15 columns</p>\n",
       "</div>"
      ],
      "text/plain": [
       "            NewYear  wd  dofw_1  dofw_2  dofw_3  dofw_4  dofw_5  dofw_6  \\\n",
       "2013-01-01     True   0       1       0       0       0       0       0   \n",
       "2013-01-02    False   1       0       1       0       0       0       0   \n",
       "2013-01-03    False   1       0       0       1       0       0       0   \n",
       "2013-01-04    False   1       0       0       0       1       0       0   \n",
       "2013-01-05    False   1       0       0       0       0       1       0   \n",
       "...             ...  ..     ...     ...     ...     ...     ...     ...   \n",
       "2017-08-27    False   0       0       0       0       0       0       1   \n",
       "2017-08-28    False   1       0       0       0       0       0       0   \n",
       "2017-08-29    False   1       1       0       0       0       0       0   \n",
       "2017-08-30    False   1       0       1       0       0       0       0   \n",
       "2017-08-31    False   1       0       0       1       0       0       0   \n",
       "\n",
       "            type_Additional  type_Bridge  type_Event  type_Holiday  \\\n",
       "2013-01-01                0            0           0             1   \n",
       "2013-01-02                0            0           0             0   \n",
       "2013-01-03                0            0           0             0   \n",
       "2013-01-04                0            0           0             0   \n",
       "2013-01-05                0            0           0             0   \n",
       "...                     ...          ...         ...           ...   \n",
       "2017-08-27                0            0           0             0   \n",
       "2017-08-28                0            0           0             0   \n",
       "2017-08-29                0            0           0             0   \n",
       "2017-08-30                0            0           0             0   \n",
       "2017-08-31                0            0           0             0   \n",
       "\n",
       "            type_Transfer  type_Work Day  school_season  \n",
       "2013-01-01              0              0              0  \n",
       "2013-01-02              0              0              0  \n",
       "2013-01-03              0              0              0  \n",
       "2013-01-04              0              0              0  \n",
       "2013-01-05              0              1              0  \n",
       "...                   ...            ...            ...  \n",
       "2017-08-27              0              0              1  \n",
       "2017-08-28              0              0              1  \n",
       "2017-08-29              0              0              1  \n",
       "2017-08-30              0              0              1  \n",
       "2017-08-31              0              0              1  \n",
       "\n",
       "[1704 rows x 15 columns]"
      ]
     },
     "execution_count": 14,
     "metadata": {},
     "output_type": "execute_result"
    }
   ],
   "source": [
    "school_season = [] # Feature for school fluctuations\n",
    "for i, r in calendar.iterrows() :\n",
    "    if i.month in [4, 5, 8, 9] :\n",
    "        school_season.append(1)\n",
    "    else :\n",
    "        school_season.append(0)\n",
    "calendar['school_season'] = school_season\n",
    "calendar"
   ]
  },
  {
   "cell_type": "code",
   "execution_count": 15,
   "id": "d27fc9e8",
   "metadata": {
    "execution": {
     "iopub.execute_input": "2022-05-16T22:44:50.774612Z",
     "iopub.status.busy": "2022-05-16T22:44:50.773874Z",
     "iopub.status.idle": "2022-05-16T22:44:50.776562Z",
     "shell.execute_reply": "2022-05-16T22:44:50.777110Z",
     "shell.execute_reply.started": "2022-05-16T22:12:59.945229Z"
    },
    "papermill": {
     "duration": 0.082485,
     "end_time": "2022-05-16T22:44:50.777320",
     "exception": false,
     "start_time": "2022-05-16T22:44:50.694835",
     "status": "completed"
    },
    "tags": []
   },
   "outputs": [],
   "source": [
    "#X_holidays = pd.get_dummies(holidays) # add columns on Holidays, more featured, way matricial\n",
    "\n",
    "#X2 = X1.join(X_holidays, on='date').fillna(0.0)\n"
   ]
  },
  {
   "cell_type": "code",
   "execution_count": 16,
   "id": "fea821e0",
   "metadata": {
    "execution": {
     "iopub.execute_input": "2022-05-16T22:44:50.943377Z",
     "iopub.status.busy": "2022-05-16T22:44:50.942568Z",
     "iopub.status.idle": "2022-05-16T22:44:50.972777Z",
     "shell.execute_reply": "2022-05-16T22:44:50.973341Z",
     "shell.execute_reply.started": "2022-05-16T22:12:59.950096Z"
    },
    "papermill": {
     "duration": 0.119828,
     "end_time": "2022-05-16T22:44:50.973539",
     "exception": false,
     "start_time": "2022-05-16T22:44:50.853711",
     "status": "completed"
    },
    "tags": []
   },
   "outputs": [
    {
     "data": {
      "text/html": [
       "<div>\n",
       "<style scoped>\n",
       "    .dataframe tbody tr th:only-of-type {\n",
       "        vertical-align: middle;\n",
       "    }\n",
       "\n",
       "    .dataframe tbody tr th {\n",
       "        vertical-align: top;\n",
       "    }\n",
       "\n",
       "    .dataframe thead th {\n",
       "        text-align: right;\n",
       "    }\n",
       "</style>\n",
       "<table border=\"1\" class=\"dataframe\">\n",
       "  <thead>\n",
       "    <tr style=\"text-align: right;\">\n",
       "      <th></th>\n",
       "      <th>const</th>\n",
       "      <th>trend</th>\n",
       "      <th>s(2,7)</th>\n",
       "      <th>s(3,7)</th>\n",
       "      <th>s(4,7)</th>\n",
       "      <th>s(5,7)</th>\n",
       "      <th>s(6,7)</th>\n",
       "      <th>s(7,7)</th>\n",
       "      <th>sin(1,freq=M)</th>\n",
       "      <th>cos(1,freq=M)</th>\n",
       "      <th>sin(2,freq=M)</th>\n",
       "      <th>cos(2,freq=M)</th>\n",
       "      <th>sin(3,freq=M)</th>\n",
       "      <th>cos(3,freq=M)</th>\n",
       "      <th>sin(4,freq=M)</th>\n",
       "      <th>cos(4,freq=M)</th>\n",
       "    </tr>\n",
       "    <tr>\n",
       "      <th>date</th>\n",
       "      <th></th>\n",
       "      <th></th>\n",
       "      <th></th>\n",
       "      <th></th>\n",
       "      <th></th>\n",
       "      <th></th>\n",
       "      <th></th>\n",
       "      <th></th>\n",
       "      <th></th>\n",
       "      <th></th>\n",
       "      <th></th>\n",
       "      <th></th>\n",
       "      <th></th>\n",
       "      <th></th>\n",
       "      <th></th>\n",
       "      <th></th>\n",
       "    </tr>\n",
       "  </thead>\n",
       "  <tbody>\n",
       "    <tr>\n",
       "      <th>2017-04-03</th>\n",
       "      <td>1.0</td>\n",
       "      <td>1.0</td>\n",
       "      <td>0.0</td>\n",
       "      <td>0.0</td>\n",
       "      <td>0.0</td>\n",
       "      <td>0.0</td>\n",
       "      <td>0.0</td>\n",
       "      <td>0.0</td>\n",
       "      <td>0.406737</td>\n",
       "      <td>0.913545</td>\n",
       "      <td>0.743145</td>\n",
       "      <td>0.669131</td>\n",
       "      <td>9.510565e-01</td>\n",
       "      <td>0.309017</td>\n",
       "      <td>0.994522</td>\n",
       "      <td>-0.104528</td>\n",
       "    </tr>\n",
       "    <tr>\n",
       "      <th>2017-04-04</th>\n",
       "      <td>1.0</td>\n",
       "      <td>2.0</td>\n",
       "      <td>1.0</td>\n",
       "      <td>0.0</td>\n",
       "      <td>0.0</td>\n",
       "      <td>0.0</td>\n",
       "      <td>0.0</td>\n",
       "      <td>0.0</td>\n",
       "      <td>0.587785</td>\n",
       "      <td>0.809017</td>\n",
       "      <td>0.951057</td>\n",
       "      <td>0.309017</td>\n",
       "      <td>9.510565e-01</td>\n",
       "      <td>-0.309017</td>\n",
       "      <td>0.587785</td>\n",
       "      <td>-0.809017</td>\n",
       "    </tr>\n",
       "    <tr>\n",
       "      <th>2017-04-05</th>\n",
       "      <td>1.0</td>\n",
       "      <td>3.0</td>\n",
       "      <td>0.0</td>\n",
       "      <td>1.0</td>\n",
       "      <td>0.0</td>\n",
       "      <td>0.0</td>\n",
       "      <td>0.0</td>\n",
       "      <td>0.0</td>\n",
       "      <td>0.743145</td>\n",
       "      <td>0.669131</td>\n",
       "      <td>0.994522</td>\n",
       "      <td>-0.104528</td>\n",
       "      <td>5.877853e-01</td>\n",
       "      <td>-0.809017</td>\n",
       "      <td>-0.207912</td>\n",
       "      <td>-0.978148</td>\n",
       "    </tr>\n",
       "    <tr>\n",
       "      <th>2017-04-06</th>\n",
       "      <td>1.0</td>\n",
       "      <td>4.0</td>\n",
       "      <td>0.0</td>\n",
       "      <td>0.0</td>\n",
       "      <td>1.0</td>\n",
       "      <td>0.0</td>\n",
       "      <td>0.0</td>\n",
       "      <td>0.0</td>\n",
       "      <td>0.866025</td>\n",
       "      <td>0.500000</td>\n",
       "      <td>0.866025</td>\n",
       "      <td>-0.500000</td>\n",
       "      <td>1.224647e-16</td>\n",
       "      <td>-1.000000</td>\n",
       "      <td>-0.866025</td>\n",
       "      <td>-0.500000</td>\n",
       "    </tr>\n",
       "    <tr>\n",
       "      <th>2017-04-07</th>\n",
       "      <td>1.0</td>\n",
       "      <td>5.0</td>\n",
       "      <td>0.0</td>\n",
       "      <td>0.0</td>\n",
       "      <td>0.0</td>\n",
       "      <td>1.0</td>\n",
       "      <td>0.0</td>\n",
       "      <td>0.0</td>\n",
       "      <td>0.951057</td>\n",
       "      <td>0.309017</td>\n",
       "      <td>0.587785</td>\n",
       "      <td>-0.809017</td>\n",
       "      <td>-5.877853e-01</td>\n",
       "      <td>-0.809017</td>\n",
       "      <td>-0.951057</td>\n",
       "      <td>0.309017</td>\n",
       "    </tr>\n",
       "  </tbody>\n",
       "</table>\n",
       "</div>"
      ],
      "text/plain": [
       "            const  trend  s(2,7)  s(3,7)  s(4,7)  s(5,7)  s(6,7)  s(7,7)  \\\n",
       "date                                                                       \n",
       "2017-04-03    1.0    1.0     0.0     0.0     0.0     0.0     0.0     0.0   \n",
       "2017-04-04    1.0    2.0     1.0     0.0     0.0     0.0     0.0     0.0   \n",
       "2017-04-05    1.0    3.0     0.0     1.0     0.0     0.0     0.0     0.0   \n",
       "2017-04-06    1.0    4.0     0.0     0.0     1.0     0.0     0.0     0.0   \n",
       "2017-04-07    1.0    5.0     0.0     0.0     0.0     1.0     0.0     0.0   \n",
       "\n",
       "            sin(1,freq=M)  cos(1,freq=M)  sin(2,freq=M)  cos(2,freq=M)  \\\n",
       "date                                                                     \n",
       "2017-04-03       0.406737       0.913545       0.743145       0.669131   \n",
       "2017-04-04       0.587785       0.809017       0.951057       0.309017   \n",
       "2017-04-05       0.743145       0.669131       0.994522      -0.104528   \n",
       "2017-04-06       0.866025       0.500000       0.866025      -0.500000   \n",
       "2017-04-07       0.951057       0.309017       0.587785      -0.809017   \n",
       "\n",
       "            sin(3,freq=M)  cos(3,freq=M)  sin(4,freq=M)  cos(4,freq=M)  \n",
       "date                                                                    \n",
       "2017-04-03   9.510565e-01       0.309017       0.994522      -0.104528  \n",
       "2017-04-04   9.510565e-01      -0.309017       0.587785      -0.809017  \n",
       "2017-04-05   5.877853e-01      -0.809017      -0.207912      -0.978148  \n",
       "2017-04-06   1.224647e-16      -1.000000      -0.866025      -0.500000  \n",
       "2017-04-07  -5.877853e-01      -0.809017      -0.951057       0.309017  "
      ]
     },
     "execution_count": 16,
     "metadata": {},
     "output_type": "execute_result"
    }
   ],
   "source": [
    "#X = X.join( oil.rename('Oil') , on='date').fillna(method = 'bfill')\n",
    "\n",
    "oilInitial = oil[timeInitial:] \n",
    "\n",
    "fourier = CalendarFourier(freq='M', order=4)\n",
    "dpOil = DeterministicProcess(\n",
    "    index=oilInitial.index,\n",
    "    constant=True,\n",
    "    order=1,\n",
    "    seasonal=True,\n",
    "    additional_terms=[fourier],\n",
    "    drop=True,\n",
    ")\n",
    "\n",
    "Xoil = dpOil.in_sample()\n",
    "\n",
    "Xoil.head()"
   ]
  },
  {
   "cell_type": "code",
   "execution_count": 17,
   "id": "a7769964",
   "metadata": {
    "execution": {
     "iopub.execute_input": "2022-05-16T22:44:51.132117Z",
     "iopub.status.busy": "2022-05-16T22:44:51.131417Z",
     "iopub.status.idle": "2022-05-16T22:44:51.139869Z",
     "shell.execute_reply": "2022-05-16T22:44:51.139267Z",
     "shell.execute_reply.started": "2022-05-16T22:12:59.996926Z"
    },
    "papermill": {
     "duration": 0.089247,
     "end_time": "2022-05-16T22:44:51.140032",
     "exception": false,
     "start_time": "2022-05-16T22:44:51.050785",
     "status": "completed"
    },
    "tags": []
   },
   "outputs": [
    {
     "name": "stdout",
     "output_type": "stream",
     "text": [
      "Num_null:  0\n"
     ]
    }
   ],
   "source": [
    "\n",
    "missingValueCount = X1.isnull().sum()\n",
    "print('Num_null: ' , missingValueCount.sum() )\n",
    "#X2 = X2.dropna()\n",
    "#X2 = X2.fillna(0)"
   ]
  },
  {
   "cell_type": "markdown",
   "id": "d21a4276",
   "metadata": {
    "papermill": {
     "duration": 0.08086,
     "end_time": "2022-05-16T22:44:51.298053",
     "exception": false,
     "start_time": "2022-05-16T22:44:51.217193",
     "status": "completed"
    },
    "tags": []
   },
   "source": [
    "Add new columns to train set. From Lag's graph, we consider seven Lags."
   ]
  },
  {
   "cell_type": "code",
   "execution_count": 18,
   "id": "fa8d52c4",
   "metadata": {
    "execution": {
     "iopub.execute_input": "2022-05-16T22:44:51.464026Z",
     "iopub.status.busy": "2022-05-16T22:44:51.463133Z",
     "iopub.status.idle": "2022-05-16T22:44:51.467139Z",
     "shell.execute_reply": "2022-05-16T22:44:51.466484Z",
     "shell.execute_reply.started": "2022-05-16T22:13:00.004744Z"
    },
    "papermill": {
     "duration": 0.089659,
     "end_time": "2022-05-16T22:44:51.467319",
     "exception": false,
     "start_time": "2022-05-16T22:44:51.377660",
     "status": "completed"
    },
    "tags": []
   },
   "outputs": [],
   "source": [
    "calendar['Oil'] = dfOil['ma_oil']\n",
    "\n",
    "#X2.Oil.fillna(value = oil.mean() , inplace=True ) # drop values NaNs\n",
    "#X2.fillna(method='ffill') # drop values NaNs\n",
    "\n",
    "#X2['salesLag1'] = average_sales.sales.shift(periods=1, freq='D')\n",
    "#X2['salesLag2'] = average_sales.sales.shift(2)\n"
   ]
  },
  {
   "cell_type": "code",
   "execution_count": 19,
   "id": "d4973230",
   "metadata": {
    "execution": {
     "iopub.execute_input": "2022-05-16T22:44:51.653141Z",
     "iopub.status.busy": "2022-05-16T22:44:51.652256Z",
     "iopub.status.idle": "2022-05-16T22:44:51.977439Z",
     "shell.execute_reply": "2022-05-16T22:44:51.978338Z",
     "shell.execute_reply.started": "2022-05-16T22:13:00.023744Z"
    },
    "papermill": {
     "duration": 0.429461,
     "end_time": "2022-05-16T22:44:51.978655",
     "exception": false,
     "start_time": "2022-05-16T22:44:51.549194",
     "status": "completed"
    },
    "tags": []
   },
   "outputs": [
    {
     "data": {
      "image/png": "[encoded data removed]",
      "text/plain": [
       "<Figure size 432x288 with 1 Axes>"
      ]
     },
     "metadata": {
      "needs_background": "light"
     },
     "output_type": "display_data"
    }
   ],
   "source": [
    "_ = plot_pacf(calendar.Oil, lags = 12) # Lagplot oil price (Feature Engineering)\n",
    "\n",
    "# first \n",
    "n_lags = 3\n",
    "for l in range(1, n_lags + 1) :\n",
    "    calendar[f'oil_lags{l}'] = calendar.Oil.shift(l)\n"
   ]
  },
  {
   "cell_type": "code",
   "execution_count": 20,
   "id": "758b3c3f",
   "metadata": {
    "execution": {
     "iopub.execute_input": "2022-05-16T22:44:52.187416Z",
     "iopub.status.busy": "2022-05-16T22:44:52.186201Z",
     "iopub.status.idle": "2022-05-16T22:44:52.208027Z",
     "shell.execute_reply": "2022-05-16T22:44:52.207388Z",
     "shell.execute_reply.started": "2022-05-16T22:13:00.308145Z"
    },
    "papermill": {
     "duration": 0.135582,
     "end_time": "2022-05-16T22:44:52.208194",
     "exception": false,
     "start_time": "2022-05-16T22:44:52.072612",
     "status": "completed"
    },
    "tags": []
   },
   "outputs": [
    {
     "name": "stdout",
     "output_type": "stream",
     "text": [
      "<class 'pandas.core.frame.DataFrame'>\n",
      "PeriodIndex: 36 entries, 2017-04-13 to 2017-08-11\n",
      "Freq: D\n",
      "Data columns (total 37 columns):\n",
      " #   Column           Non-Null Count  Dtype  \n",
      "---  ------           --------------  -----  \n",
      " 0   const            36 non-null     float64\n",
      " 1   trend            36 non-null     float64\n",
      " 2   s(2,7)           36 non-null     float64\n",
      " 3   s(3,7)           36 non-null     float64\n",
      " 4   s(4,7)           36 non-null     float64\n",
      " 5   s(5,7)           36 non-null     float64\n",
      " 6   s(6,7)           36 non-null     float64\n",
      " 7   s(7,7)           36 non-null     float64\n",
      " 8   sin(1,freq=M)    36 non-null     float64\n",
      " 9   cos(1,freq=M)    36 non-null     float64\n",
      " 10  sin(2,freq=M)    36 non-null     float64\n",
      " 11  cos(2,freq=M)    36 non-null     float64\n",
      " 12  sin(3,freq=M)    36 non-null     float64\n",
      " 13  cos(3,freq=M)    36 non-null     float64\n",
      " 14  sin(4,freq=M)    36 non-null     float64\n",
      " 15  cos(4,freq=M)    36 non-null     float64\n",
      " 16  NewYear          36 non-null     bool   \n",
      " 17  wd               36 non-null     int64  \n",
      " 18  dofw_1           36 non-null     uint8  \n",
      " 19  dofw_2           36 non-null     uint8  \n",
      " 20  dofw_3           36 non-null     uint8  \n",
      " 21  dofw_4           36 non-null     uint8  \n",
      " 22  dofw_5           36 non-null     uint8  \n",
      " 23  dofw_6           36 non-null     uint8  \n",
      " 24  type_Additional  36 non-null     uint8  \n",
      " 25  type_Bridge      36 non-null     uint8  \n",
      " 26  type_Event       36 non-null     uint8  \n",
      " 27  type_Holiday     36 non-null     uint8  \n",
      " 28  type_Transfer    36 non-null     uint8  \n",
      " 29  type_Work Day    36 non-null     uint8  \n",
      " 30  school_season    36 non-null     int64  \n",
      " 31  Oil              36 non-null     float64\n",
      " 32  oil_lags1        36 non-null     float64\n",
      " 33  oil_lags2        36 non-null     float64\n",
      " 34  oil_lags3        36 non-null     float64\n",
      " 35  Onpromotion      36 non-null     float64\n",
      " 36  salesLag7        36 non-null     float32\n",
      "dtypes: bool(1), float32(1), float64(21), int64(2), uint8(12)\n",
      "memory usage: 7.3 KB\n"
     ]
    }
   ],
   "source": [
    "X1 = X1.join(calendar)\n",
    "\n",
    "X1['Onpromotion'] = average_sales['onpromotion']\n",
    "X1['salesLag7'] = average_sales.sales.shift(7)\n",
    "#X2.fillna(method='ffill') # drop values NaNs\n",
    "X1.dropna(how='any', axis=0, inplace=True) # drop values NaNs\n",
    "dateRange =  X1.index\n",
    "\n",
    "\n",
    "# train set and target train\n",
    "y_train = y.loc[dateRange]\n",
    "Xtrain=X1.copy()\n",
    "Xtrain.info()"
   ]
  },
  {
   "cell_type": "code",
   "execution_count": 21,
   "id": "05601034",
   "metadata": {
    "execution": {
     "iopub.execute_input": "2022-05-16T22:44:52.382459Z",
     "iopub.status.busy": "2022-05-16T22:44:52.381367Z",
     "iopub.status.idle": "2022-05-16T22:44:53.070289Z",
     "shell.execute_reply": "2022-05-16T22:44:53.069329Z",
     "shell.execute_reply.started": "2022-05-16T22:13:00.338385Z"
    },
    "papermill": {
     "duration": 0.772206,
     "end_time": "2022-05-16T22:44:53.070519",
     "exception": false,
     "start_time": "2022-05-16T22:44:52.298313",
     "status": "completed"
    },
    "tags": []
   },
   "outputs": [
    {
     "name": "stdout",
     "output_type": "stream",
     "text": [
      "<class 'pandas.core.frame.DataFrame'>\n",
      "PeriodIndex: 36 entries, 2017-04-13 to 2017-08-11\n",
      "Freq: D\n",
      "Columns: 3564 entries, ('sales', '1', 'AUTOMOTIVE') to ('onpromotion', '9', 'SEAFOOD')\n",
      "dtypes: float32(1782), uint32(1782)\n",
      "memory usage: 501.5 KB\n"
     ]
    }
   ],
   "source": [
    "y_train.info()"
   ]
  },
  {
   "cell_type": "markdown",
   "id": "82d394cb",
   "metadata": {
    "papermill": {
     "duration": 0.084798,
     "end_time": "2022-05-16T22:44:53.237124",
     "exception": false,
     "start_time": "2022-05-16T22:44:53.152326",
     "status": "completed"
    },
    "tags": []
   },
   "source": [
    "#  **Hybrid Model**\n",
    "\n",
    "First  model to get us seasonal information. Meanwhile, the second model will take care of training the rest of the data.\n",
    "While, second model to  training  rest of train set."
   ]
  },
  {
   "cell_type": "code",
   "execution_count": 22,
   "id": "13ae1003",
   "metadata": {
    "execution": {
     "iopub.execute_input": "2022-05-16T22:44:53.444709Z",
     "iopub.status.busy": "2022-05-16T22:44:53.409326Z",
     "iopub.status.idle": "2022-05-16T22:44:55.880261Z",
     "shell.execute_reply": "2022-05-16T22:44:55.881872Z",
     "shell.execute_reply.started": "2022-05-16T22:13:00.779250Z"
    },
    "papermill": {
     "duration": 2.56043,
     "end_time": "2022-05-16T22:44:55.882257",
     "exception": false,
     "start_time": "2022-05-16T22:44:53.321827",
     "status": "completed"
    },
    "tags": []
   },
   "outputs": [],
   "source": [
    "# The data set is already  divided, test Train\n",
    "model1 = RandomForestRegressor(random_state = 42)\n",
    "model1.fit(Xtrain, y_train)\n",
    "\n",
    "y_fit = model1.predict(Xtrain)\n",
    "\n",
    "y_resid = y_train - y_fit\n",
    "\n",
    "\n",
    "\n",
    "#model = LinearRegression(fit_intercept=False)\n",
    "model = LinearRegression(fit_intercept = True, n_jobs = -1, normalize = True) # argument to improvemnt considerment performance\n",
    "\n",
    "# model = LGBMRegressor(random_state = 42) \"not work with  mulpli-columns\"\n",
    "\n",
    "model.fit(Xtrain, y_resid)\n",
    "y_pred = pd.DataFrame(model.predict(Xtrain), index=Xtrain.index, columns=y_train.columns)\n",
    "\n",
    "\n",
    "yLR_RF = y_pred + y_fit\n",
    "#y_pred_boosted = xgb.predict(X_test) + y_pred"
   ]
  },
  {
   "cell_type": "markdown",
   "id": "9138f14c",
   "metadata": {
    "papermill": {
     "duration": 0.080718,
     "end_time": "2022-05-16T22:44:56.123051",
     "exception": false,
     "start_time": "2022-05-16T22:44:56.042333",
     "status": "completed"
    },
    "tags": []
   },
   "source": [
    "In the next figure, we see the `Produce` sales at Store 1, compare the value of sales and value prediction by the hybrid model."
   ]
  },
  {
   "cell_type": "code",
   "execution_count": 23,
   "id": "15dbe115",
   "metadata": {
    "execution": {
     "iopub.execute_input": "2022-05-16T22:44:56.291332Z",
     "iopub.status.busy": "2022-05-16T22:44:56.289357Z",
     "iopub.status.idle": "2022-05-16T22:44:56.784338Z",
     "shell.execute_reply": "2022-05-16T22:44:56.783607Z",
     "shell.execute_reply.started": "2022-05-16T22:13:03.118382Z"
    },
    "papermill": {
     "duration": 0.581931,
     "end_time": "2022-05-16T22:44:56.784509",
     "exception": false,
     "start_time": "2022-05-16T22:44:56.202578",
     "status": "completed"
    },
    "tags": []
   },
   "outputs": [
    {
     "data": {
      "text/plain": [
       "CategoricalIndex(['AUTOMOTIVE', 'BABY CARE', 'BEAUTY', 'BEVERAGES', 'BOOKS',\n",
       "                  'BREAD/BAKERY', 'CELEBRATION', 'CLEANING', 'DAIRY', 'DELI',\n",
       "                  'EGGS', 'FROZEN FOODS', 'GROCERY I', 'GROCERY II',\n",
       "                  'HARDWARE', 'HOME AND KITCHEN I', 'HOME AND KITCHEN II',\n",
       "                  'HOME APPLIANCES', 'HOME CARE', 'LADIESWEAR',\n",
       "                  'LAWN AND GARDEN', 'LINGERIE', 'LIQUOR,WINE,BEER',\n",
       "                  'MAGAZINES', 'MEATS', 'PERSONAL CARE', 'PET SUPPLIES',\n",
       "                  'PLAYERS AND ELECTRONICS', 'POULTRY', 'PREPARED FOODS',\n",
       "                  'PRODUCE', 'SCHOOL AND OFFICE SUPPLIES', 'SEAFOOD'],\n",
       "                 categories=['AUTOMOTIVE', 'BABY CARE', 'BEAUTY', 'BEVERAGES', 'BOOKS', 'BREAD/BAKERY', 'CELEBRATION', 'CLEANING', ...], ordered=False, dtype='category', name='family')"
      ]
     },
     "metadata": {},
     "output_type": "display_data"
    },
    {
     "name": "stdout",
     "output_type": "stream",
     "text": [
      "<class 'pandas.core.frame.DataFrame'>\n",
      "PeriodIndex: 36 entries, 2017-04-13 to 2017-08-11\n",
      "Freq: D\n",
      "Columns: 3564 entries, ('sales', '1', 'AUTOMOTIVE') to ('onpromotion', '9', 'SEAFOOD')\n",
      "dtypes: float32(1782), uint32(1782)\n",
      "memory usage: 501.5 KB\n"
     ]
    },
    {
     "data": {
      "image/png": "[encoded data removed]",
      "text/plain": [
       "<Figure size 432x288 with 1 Axes>"
      ]
     },
     "metadata": {
      "needs_background": "light"
     },
     "output_type": "display_data"
    }
   ],
   "source": [
    "STORE_NBR = '1'  # 1 - 54\n",
    "FAMILY = 'PRODUCE'\n",
    "# Uncomment to see a list of product families\n",
    "display(store_sales.index.get_level_values('family').unique())\n",
    "\n",
    "ax = y_train.loc(axis=1)['sales', STORE_NBR, FAMILY].plot(**plot_params) # choose single store 1 and family equal produce. \n",
    "ax = yLR_RF.loc(axis=1)['sales', STORE_NBR, FAMILY].plot(ax=ax, color='red')\n",
    "ax.set_title(f'{FAMILY} Sales at Store {STORE_NBR}');\n",
    "\n",
    "y_train.info()"
   ]
  },
  {
   "cell_type": "markdown",
   "id": "f1109fac",
   "metadata": {
    "papermill": {
     "duration": 0.087672,
     "end_time": "2022-05-16T22:44:56.954243",
     "exception": false,
     "start_time": "2022-05-16T22:44:56.866571",
     "status": "completed"
    },
    "tags": []
   },
   "source": [
    "### Metrics\n",
    "\n",
    "It's calculating metrics:\n",
    "\n",
    "- Mean Absolute Error MAE\n",
    "- Root Mean Squared Log Error RMSE"
   ]
  },
  {
   "cell_type": "code",
   "execution_count": 24,
   "id": "b233a3f1",
   "metadata": {
    "execution": {
     "iopub.execute_input": "2022-05-16T22:44:57.138916Z",
     "iopub.status.busy": "2022-05-16T22:44:57.137596Z",
     "iopub.status.idle": "2022-05-16T22:44:57.157136Z",
     "shell.execute_reply": "2022-05-16T22:44:57.156379Z",
     "shell.execute_reply.started": "2022-05-16T22:13:03.642407Z"
    },
    "papermill": {
     "duration": 0.111418,
     "end_time": "2022-05-16T22:44:57.157305",
     "exception": false,
     "start_time": "2022-05-16T22:44:57.045887",
     "status": "completed"
    },
    "tags": []
   },
   "outputs": [],
   "source": [
    "Y = y_train.loc(axis=1)['sales', STORE_NBR, FAMILY]\n",
    "Ypred = yLR_RF.loc(axis=1)['sales', STORE_NBR, FAMILY]\n",
    "\n",
    "yfit_lnr = pd.DataFrame(yLR_RF, index = Xtrain.index, columns = y_train.columns).clip(0.)\n",
    "\n",
    "Mae = np.round(mae(Y, Ypred), 3)  \n",
    "Rmsle =  np.round(msle(Y, Ypred)**0.5, 3 )"
   ]
  },
  {
   "cell_type": "code",
   "execution_count": 25,
   "id": "5395f2c6",
   "metadata": {
    "execution": {
     "iopub.execute_input": "2022-05-16T22:44:57.330992Z",
     "iopub.status.busy": "2022-05-16T22:44:57.330243Z",
     "iopub.status.idle": "2022-05-16T22:44:57.924671Z",
     "shell.execute_reply": "2022-05-16T22:44:57.925696Z",
     "shell.execute_reply.started": "2022-05-16T22:13:03.665912Z"
    },
    "papermill": {
     "duration": 0.685691,
     "end_time": "2022-05-16T22:44:57.926009",
     "exception": false,
     "start_time": "2022-05-16T22:44:57.240318",
     "status": "completed"
    },
    "tags": []
   },
   "outputs": [
    {
     "name": "stdout",
     "output_type": "stream",
     "text": [
      "MAE: 35.07 \n",
      " RMSLE 0.02\n",
      "family\n",
      "AUTOMOTIVE                    0.168620\n",
      "BABY CARE                     0.068226\n",
      "BEAUTY                        0.168116\n",
      "BEVERAGES                     0.164467\n",
      "BOOKS                         0.045115\n",
      "BREAD/BAKERY                  0.124112\n",
      "CELEBRATION                   0.205321\n",
      "CLEANING                      0.195187\n",
      "DAIRY                         0.129578\n",
      "DELI                          0.108314\n",
      "EGGS                          0.133592\n",
      "FROZEN FOODS                  0.130673\n",
      "GROCERY I                     0.171422\n",
      "GROCERY II                    0.221027\n",
      "HARDWARE                      0.167944\n",
      "HOME AND KITCHEN I            0.189891\n",
      "HOME AND KITCHEN II           0.218001\n",
      "HOME APPLIANCES               0.108219\n",
      "HOME CARE                     0.110368\n",
      "LADIESWEAR                    0.172500\n",
      "LAWN AND GARDEN               0.189906\n",
      "LINGERIE                      0.218197\n",
      "LIQUOR,WINE,BEER              0.263363\n",
      "MAGAZINES                     0.159854\n",
      "MEATS                         0.116796\n",
      "PERSONAL CARE                 0.116698\n",
      "PET SUPPLIES                  0.150508\n",
      "PLAYERS AND ELECTRONICS       0.161962\n",
      "POULTRY                       0.183844\n",
      "PREPARED FOODS                0.117162\n",
      "PRODUCE                       0.159964\n",
      "SCHOOL AND OFFICE SUPPLIES    0.550623\n",
      "SEAFOOD                       0.172562\n",
      "dtype: float64\n",
      "LNR RMSLE : 0.1563353994140669\n"
     ]
    }
   ],
   "source": [
    "y_pred2   = yLR_RF.stack(['store_nbr', 'family']).reset_index()\n",
    "y_target = y_train.stack(['store_nbr', 'family']).reset_index().copy()\n",
    "\n",
    "y_target['sales_pred'] = y_pred2['sales'].clip(0.) # Sales should be >= 0\n",
    "\n",
    "print('MAE:', Mae, '\\n', \n",
    "      'RMSLE', Rmsle)\n",
    "\n",
    "print( y_target.groupby('family').apply(lambda r: np.sqrt(msle(r['sales'], r['sales_pred'] ))) )\n",
    "print('LNR RMSLE :', np.sqrt(  msle(y_train, yfit_lnr) ))"
   ]
  },
  {
   "cell_type": "markdown",
   "id": "376b6d25",
   "metadata": {
    "papermill": {
     "duration": 0.087336,
     "end_time": "2022-05-16T22:44:58.107232",
     "exception": false,
     "start_time": "2022-05-16T22:44:58.019896",
     "status": "completed"
    },
    "tags": []
   },
   "source": [
    "We seek, there is overfiting. "
   ]
  },
  {
   "cell_type": "markdown",
   "id": "d2da0750",
   "metadata": {
    "papermill": {
     "duration": 0.084217,
     "end_time": "2022-05-16T22:44:58.286229",
     "exception": false,
     "start_time": "2022-05-16T22:44:58.202012",
     "status": "completed"
    },
    "tags": []
   },
   "source": [
    "# Test set\n",
    "\n",
    "The test set, building with same variables the train set, it has 16 steps.\n",
    "\n",
    "### Missing Values ###"
   ]
  },
  {
   "cell_type": "code",
   "execution_count": 26,
   "id": "5a4a9585",
   "metadata": {
    "execution": {
     "iopub.execute_input": "2022-05-16T22:44:58.469634Z",
     "iopub.status.busy": "2022-05-16T22:44:58.467610Z",
     "iopub.status.idle": "2022-05-16T22:44:58.543231Z",
     "shell.execute_reply": "2022-05-16T22:44:58.543908Z",
     "shell.execute_reply.started": "2022-05-16T22:13:04.221728Z"
    },
    "papermill": {
     "duration": 0.173981,
     "end_time": "2022-05-16T22:44:58.544119",
     "exception": false,
     "start_time": "2022-05-16T22:44:58.370138",
     "status": "completed"
    },
    "tags": []
   },
   "outputs": [
    {
     "name": "stdout",
     "output_type": "stream",
     "text": [
      "<class 'pandas.core.frame.DataFrame'>\n",
      "PeriodIndex: 16 entries, 2017-08-16 to 2017-08-31\n",
      "Freq: D\n",
      "Data columns (total 16 columns):\n",
      " #   Column         Non-Null Count  Dtype  \n",
      "---  ------         --------------  -----  \n",
      " 0   const          16 non-null     float64\n",
      " 1   trend          16 non-null     float64\n",
      " 2   s(2,7)         16 non-null     float64\n",
      " 3   s(3,7)         16 non-null     float64\n",
      " 4   s(4,7)         16 non-null     float64\n",
      " 5   s(5,7)         16 non-null     float64\n",
      " 6   s(6,7)         16 non-null     float64\n",
      " 7   s(7,7)         16 non-null     float64\n",
      " 8   sin(1,freq=M)  16 non-null     float64\n",
      " 9   cos(1,freq=M)  16 non-null     float64\n",
      " 10  sin(2,freq=M)  16 non-null     float64\n",
      " 11  cos(2,freq=M)  16 non-null     float64\n",
      " 12  sin(3,freq=M)  16 non-null     float64\n",
      " 13  cos(3,freq=M)  16 non-null     float64\n",
      " 14  sin(4,freq=M)  16 non-null     float64\n",
      " 15  cos(4,freq=M)  16 non-null     float64\n",
      "dtypes: float64(16)\n",
      "memory usage: 2.7 KB\n"
     ]
    }
   ],
   "source": [
    "df_test = pd.read_csv(\n",
    "    comp_dir / 'test.csv',\n",
    "    dtype={\n",
    "        'store_nbr': 'category',\n",
    "        'family': 'category',\n",
    "        'onpromotion': 'uint32',\n",
    "    },\n",
    "    parse_dates=['date'],\n",
    "    infer_datetime_format=True,\n",
    ")\n",
    "\n",
    "df_test['date'] = df_test.date.dt.to_period('D')\n",
    "df_test = df_test.set_index(['store_nbr', 'family', 'date']).sort_index()\n",
    "\n",
    "\n",
    "average_sales_test = (\n",
    "    df_test\n",
    "    .groupby('date').mean()\n",
    "    .squeeze()\n",
    "    .loc['2017']\n",
    ")\n",
    "\n",
    "\n",
    "#df_test = df_test.loc['2017'] \n",
    "# Create features for test set\n",
    "X_test = dp.out_of_sample(steps=16)\n",
    "X_test.index.name = 'date'\n",
    "\n",
    "\n",
    "\n",
    "\n",
    "\n",
    "X_test2 = X_test.join(calendar)\n",
    "\n",
    "#X_test = X_test.join( oil.rename('Oil') , on='date').fillna(method = 'bfill')\n",
    "#X_test1 = X_test.join( Xoil , on='date', rsuffix='RT').fillna(method = 'bfill')\n",
    "\n",
    "X_test1 =  X_test.copy()\n",
    "X_test1.info()"
   ]
  },
  {
   "cell_type": "markdown",
   "id": "c32de229",
   "metadata": {
    "papermill": {
     "duration": 0.084222,
     "end_time": "2022-05-16T22:44:58.719185",
     "exception": false,
     "start_time": "2022-05-16T22:44:58.634963",
     "status": "completed"
    },
    "tags": []
   },
   "source": [
    "Preparation Test set."
   ]
  },
  {
   "cell_type": "code",
   "execution_count": 27,
   "id": "f43ac020",
   "metadata": {
    "execution": {
     "iopub.execute_input": "2022-05-16T22:44:58.889687Z",
     "iopub.status.busy": "2022-05-16T22:44:58.888960Z",
     "iopub.status.idle": "2022-05-16T22:44:58.897892Z",
     "shell.execute_reply": "2022-05-16T22:44:58.898442Z",
     "shell.execute_reply.started": "2022-05-16T22:13:04.291049Z"
    },
    "papermill": {
     "duration": 0.096396,
     "end_time": "2022-05-16T22:44:58.898644",
     "exception": false,
     "start_time": "2022-05-16T22:44:58.802248",
     "status": "completed"
    },
    "tags": []
   },
   "outputs": [],
   "source": [
    "\n",
    "\n",
    "\n",
    "X_test2['Onpromotion'] = average_sales_test['onpromotion']\n",
    "#X_test2['Oil'] = oil\n",
    "\n",
    "\n",
    "\n",
    "\n",
    "#X_test2.fillna(method='ffill', inplace=True)\n",
    "\n",
    "\n",
    "#X_test2['OilLagsOne'] = oil.shift(periods=1, freq='D')\n",
    "#X_test2['salesLag1'] = average_sales.sales.shift(periods=16, freq='D')\n",
    "#X_test2['salesLag2'] = average_sales.sales.shift(periods=16, freq='D')\n",
    "X_test2['salesLag7'] = average_sales.sales.shift(periods=16, freq='D')\n",
    "\n",
    "\n"
   ]
  },
  {
   "cell_type": "code",
   "execution_count": 28,
   "id": "11489b48",
   "metadata": {
    "execution": {
     "iopub.execute_input": "2022-05-16T22:44:59.084518Z",
     "iopub.status.busy": "2022-05-16T22:44:59.069533Z",
     "iopub.status.idle": "2022-05-16T22:44:59.105253Z",
     "shell.execute_reply": "2022-05-16T22:44:59.105792Z",
     "shell.execute_reply.started": "2022-05-16T22:14:58.922657Z"
    },
    "papermill": {
     "duration": 0.125503,
     "end_time": "2022-05-16T22:44:59.105997",
     "exception": false,
     "start_time": "2022-05-16T22:44:58.980494",
     "status": "completed"
    },
    "tags": []
   },
   "outputs": [
    {
     "data": {
      "text/html": [
       "<div>\n",
       "<style scoped>\n",
       "    .dataframe tbody tr th:only-of-type {\n",
       "        vertical-align: middle;\n",
       "    }\n",
       "\n",
       "    .dataframe tbody tr th {\n",
       "        vertical-align: top;\n",
       "    }\n",
       "\n",
       "    .dataframe thead th {\n",
       "        text-align: right;\n",
       "    }\n",
       "</style>\n",
       "<table border=\"1\" class=\"dataframe\">\n",
       "  <thead>\n",
       "    <tr style=\"text-align: right;\">\n",
       "      <th></th>\n",
       "      <th>const</th>\n",
       "      <th>trend</th>\n",
       "      <th>s(2,7)</th>\n",
       "      <th>s(3,7)</th>\n",
       "      <th>s(4,7)</th>\n",
       "      <th>s(5,7)</th>\n",
       "      <th>s(6,7)</th>\n",
       "      <th>s(7,7)</th>\n",
       "      <th>sin(1,freq=M)</th>\n",
       "      <th>cos(1,freq=M)</th>\n",
       "      <th>...</th>\n",
       "      <th>type_Holiday</th>\n",
       "      <th>type_Transfer</th>\n",
       "      <th>type_Work Day</th>\n",
       "      <th>school_season</th>\n",
       "      <th>Oil</th>\n",
       "      <th>oil_lags1</th>\n",
       "      <th>oil_lags2</th>\n",
       "      <th>oil_lags3</th>\n",
       "      <th>Onpromotion</th>\n",
       "      <th>salesLag7</th>\n",
       "    </tr>\n",
       "    <tr>\n",
       "      <th>date</th>\n",
       "      <th></th>\n",
       "      <th></th>\n",
       "      <th></th>\n",
       "      <th></th>\n",
       "      <th></th>\n",
       "      <th></th>\n",
       "      <th></th>\n",
       "      <th></th>\n",
       "      <th></th>\n",
       "      <th></th>\n",
       "      <th></th>\n",
       "      <th></th>\n",
       "      <th></th>\n",
       "      <th></th>\n",
       "      <th></th>\n",
       "      <th></th>\n",
       "      <th></th>\n",
       "      <th></th>\n",
       "      <th></th>\n",
       "      <th></th>\n",
       "      <th></th>\n",
       "    </tr>\n",
       "  </thead>\n",
       "  <tbody>\n",
       "    <tr>\n",
       "      <th>2017-08-16</th>\n",
       "      <td>1.0</td>\n",
       "      <td>138.0</td>\n",
       "      <td>0.0</td>\n",
       "      <td>0.0</td>\n",
       "      <td>0.0</td>\n",
       "      <td>1.0</td>\n",
       "      <td>0.0</td>\n",
       "      <td>0.0</td>\n",
       "      <td>0.101168</td>\n",
       "      <td>-0.994869</td>\n",
       "      <td>...</td>\n",
       "      <td>0</td>\n",
       "      <td>0</td>\n",
       "      <td>0</td>\n",
       "      <td>1</td>\n",
       "      <td>48.281429</td>\n",
       "      <td>48.648572</td>\n",
       "      <td>48.934286</td>\n",
       "      <td>48.934286</td>\n",
       "      <td>17.137486</td>\n",
       "      <td>497.113831</td>\n",
       "    </tr>\n",
       "    <tr>\n",
       "      <th>2017-08-17</th>\n",
       "      <td>1.0</td>\n",
       "      <td>139.0</td>\n",
       "      <td>0.0</td>\n",
       "      <td>0.0</td>\n",
       "      <td>0.0</td>\n",
       "      <td>0.0</td>\n",
       "      <td>1.0</td>\n",
       "      <td>0.0</td>\n",
       "      <td>-0.101168</td>\n",
       "      <td>-0.994869</td>\n",
       "      <td>...</td>\n",
       "      <td>0</td>\n",
       "      <td>0</td>\n",
       "      <td>0</td>\n",
       "      <td>1</td>\n",
       "      <td>47.995714</td>\n",
       "      <td>48.281429</td>\n",
       "      <td>48.648572</td>\n",
       "      <td>48.934286</td>\n",
       "      <td>4.211560</td>\n",
       "      <td>554.729370</td>\n",
       "    </tr>\n",
       "    <tr>\n",
       "      <th>2017-08-18</th>\n",
       "      <td>1.0</td>\n",
       "      <td>140.0</td>\n",
       "      <td>0.0</td>\n",
       "      <td>0.0</td>\n",
       "      <td>0.0</td>\n",
       "      <td>0.0</td>\n",
       "      <td>0.0</td>\n",
       "      <td>1.0</td>\n",
       "      <td>-0.299363</td>\n",
       "      <td>-0.954139</td>\n",
       "      <td>...</td>\n",
       "      <td>0</td>\n",
       "      <td>0</td>\n",
       "      <td>0</td>\n",
       "      <td>1</td>\n",
       "      <td>47.852857</td>\n",
       "      <td>47.995714</td>\n",
       "      <td>48.281429</td>\n",
       "      <td>48.648572</td>\n",
       "      <td>7.731201</td>\n",
       "      <td>541.364746</td>\n",
       "    </tr>\n",
       "    <tr>\n",
       "      <th>2017-08-19</th>\n",
       "      <td>1.0</td>\n",
       "      <td>141.0</td>\n",
       "      <td>0.0</td>\n",
       "      <td>0.0</td>\n",
       "      <td>0.0</td>\n",
       "      <td>0.0</td>\n",
       "      <td>0.0</td>\n",
       "      <td>0.0</td>\n",
       "      <td>-0.485302</td>\n",
       "      <td>-0.874347</td>\n",
       "      <td>...</td>\n",
       "      <td>0</td>\n",
       "      <td>0</td>\n",
       "      <td>0</td>\n",
       "      <td>1</td>\n",
       "      <td>47.852857</td>\n",
       "      <td>47.852857</td>\n",
       "      <td>47.995714</td>\n",
       "      <td>48.281429</td>\n",
       "      <td>4.833895</td>\n",
       "      <td>408.568176</td>\n",
       "    </tr>\n",
       "    <tr>\n",
       "      <th>2017-08-20</th>\n",
       "      <td>1.0</td>\n",
       "      <td>142.0</td>\n",
       "      <td>1.0</td>\n",
       "      <td>0.0</td>\n",
       "      <td>0.0</td>\n",
       "      <td>0.0</td>\n",
       "      <td>0.0</td>\n",
       "      <td>0.0</td>\n",
       "      <td>-0.651372</td>\n",
       "      <td>-0.758758</td>\n",
       "      <td>...</td>\n",
       "      <td>0</td>\n",
       "      <td>0</td>\n",
       "      <td>0</td>\n",
       "      <td>1</td>\n",
       "      <td>47.852857</td>\n",
       "      <td>47.852857</td>\n",
       "      <td>47.852857</td>\n",
       "      <td>47.995714</td>\n",
       "      <td>5.338384</td>\n",
       "      <td>464.520599</td>\n",
       "    </tr>\n",
       "  </tbody>\n",
       "</table>\n",
       "<p>5 rows × 37 columns</p>\n",
       "</div>"
      ],
      "text/plain": [
       "            const  trend  s(2,7)  s(3,7)  s(4,7)  s(5,7)  s(6,7)  s(7,7)  \\\n",
       "date                                                                       \n",
       "2017-08-16    1.0  138.0     0.0     0.0     0.0     1.0     0.0     0.0   \n",
       "2017-08-17    1.0  139.0     0.0     0.0     0.0     0.0     1.0     0.0   \n",
       "2017-08-18    1.0  140.0     0.0     0.0     0.0     0.0     0.0     1.0   \n",
       "2017-08-19    1.0  141.0     0.0     0.0     0.0     0.0     0.0     0.0   \n",
       "2017-08-20    1.0  142.0     1.0     0.0     0.0     0.0     0.0     0.0   \n",
       "\n",
       "            sin(1,freq=M)  cos(1,freq=M)  ...  type_Holiday  type_Transfer  \\\n",
       "date                                      ...                                \n",
       "2017-08-16       0.101168      -0.994869  ...             0              0   \n",
       "2017-08-17      -0.101168      -0.994869  ...             0              0   \n",
       "2017-08-18      -0.299363      -0.954139  ...             0              0   \n",
       "2017-08-19      -0.485302      -0.874347  ...             0              0   \n",
       "2017-08-20      -0.651372      -0.758758  ...             0              0   \n",
       "\n",
       "            type_Work Day  school_season        Oil  oil_lags1  oil_lags2  \\\n",
       "date                                                                        \n",
       "2017-08-16              0              1  48.281429  48.648572  48.934286   \n",
       "2017-08-17              0              1  47.995714  48.281429  48.648572   \n",
       "2017-08-18              0              1  47.852857  47.995714  48.281429   \n",
       "2017-08-19              0              1  47.852857  47.852857  47.995714   \n",
       "2017-08-20              0              1  47.852857  47.852857  47.852857   \n",
       "\n",
       "            oil_lags3  Onpromotion   salesLag7  \n",
       "date                                            \n",
       "2017-08-16  48.934286    17.137486  497.113831  \n",
       "2017-08-17  48.934286     4.211560  554.729370  \n",
       "2017-08-18  48.648572     7.731201  541.364746  \n",
       "2017-08-19  48.281429     4.833895  408.568176  \n",
       "2017-08-20  47.995714     5.338384  464.520599  \n",
       "\n",
       "[5 rows x 37 columns]"
      ]
     },
     "execution_count": 28,
     "metadata": {},
     "output_type": "execute_result"
    }
   ],
   "source": [
    "X_test2.fillna(method='ffill', inplace=True)\n",
    "X_test2.fillna(method='bfill', inplace=True)\n",
    "\n",
    "X_test2.head()"
   ]
  },
  {
   "cell_type": "code",
   "execution_count": 29,
   "id": "8873f8bc",
   "metadata": {
    "execution": {
     "iopub.execute_input": "2022-05-16T22:44:59.283624Z",
     "iopub.status.busy": "2022-05-16T22:44:59.277946Z",
     "iopub.status.idle": "2022-05-16T22:44:59.317415Z",
     "shell.execute_reply": "2022-05-16T22:44:59.318494Z",
     "shell.execute_reply.started": "2022-05-16T22:15:11.128390Z"
    },
    "papermill": {
     "duration": 0.127203,
     "end_time": "2022-05-16T22:44:59.318847",
     "exception": false,
     "start_time": "2022-05-16T22:44:59.191644",
     "status": "completed"
    },
    "tags": []
   },
   "outputs": [
    {
     "name": "stdout",
     "output_type": "stream",
     "text": [
      "(16, 3564) \n",
      "  (16, 3564)\n"
     ]
    }
   ],
   "source": [
    "y_pred1 = model1.predict(X_test2)\n",
    "y_pred2 = model.predict(X_test2)\n",
    "\n",
    "print(y_pred1.shape, '\\n ',  y_pred2.shape)"
   ]
  },
  {
   "cell_type": "code",
   "execution_count": 30,
   "id": "9e42b4f5",
   "metadata": {
    "execution": {
     "iopub.execute_input": "2022-05-16T22:44:59.550172Z",
     "iopub.status.busy": "2022-05-16T22:44:59.549133Z",
     "iopub.status.idle": "2022-05-16T22:44:59.551997Z",
     "shell.execute_reply": "2022-05-16T22:44:59.551454Z",
     "shell.execute_reply.started": "2022-05-16T22:15:16.433532Z"
    },
    "papermill": {
     "duration": 0.09426,
     "end_time": "2022-05-16T22:44:59.552165",
     "exception": false,
     "start_time": "2022-05-16T22:44:59.457905",
     "status": "completed"
    },
    "tags": []
   },
   "outputs": [],
   "source": [
    "y_final = y_pred2 + y_pred1\n"
   ]
  },
  {
   "cell_type": "markdown",
   "id": "c9cf5339",
   "metadata": {
    "papermill": {
     "duration": 0.084578,
     "end_time": "2022-05-16T22:44:59.723224",
     "exception": false,
     "start_time": "2022-05-16T22:44:59.638646",
     "status": "completed"
    },
    "tags": []
   },
   "source": [
    "## Creation Submit\n",
    "\n"
   ]
  },
  {
   "cell_type": "code",
   "execution_count": 31,
   "id": "712a0034",
   "metadata": {
    "execution": {
     "iopub.execute_input": "2022-05-16T22:44:59.910270Z",
     "iopub.status.busy": "2022-05-16T22:44:59.909443Z",
     "iopub.status.idle": "2022-05-16T22:45:00.545929Z",
     "shell.execute_reply": "2022-05-16T22:45:00.545227Z",
     "shell.execute_reply.started": "2022-05-16T22:15:21.475105Z"
    },
    "papermill": {
     "duration": 0.734775,
     "end_time": "2022-05-16T22:45:00.546108",
     "exception": false,
     "start_time": "2022-05-16T22:44:59.811333",
     "status": "completed"
    },
    "tags": []
   },
   "outputs": [],
   "source": [
    "y_submit = pd.DataFrame(y_final, index=X_test2.index, columns=y.columns)\n",
    "y_submit = y_submit.stack(['store_nbr', 'family'])\n",
    "y_submit = y_submit.join(df_test.id).reindex(columns=['id', 'sales'])\n",
    "y_submit.to_csv('submission.csv', index=False)"
   ]
  },
  {
   "cell_type": "code",
   "execution_count": 32,
   "id": "3b66a232",
   "metadata": {
    "execution": {
     "iopub.execute_input": "2022-05-16T22:45:00.718310Z",
     "iopub.status.busy": "2022-05-16T22:45:00.716542Z",
     "iopub.status.idle": "2022-05-16T22:45:00.723189Z",
     "shell.execute_reply": "2022-05-16T22:45:00.722574Z",
     "shell.execute_reply.started": "2022-05-16T22:15:25.121535Z"
    },
    "papermill": {
     "duration": 0.093379,
     "end_time": "2022-05-16T22:45:00.723373",
     "exception": false,
     "start_time": "2022-05-16T22:45:00.629994",
     "status": "completed"
    },
    "tags": []
   },
   "outputs": [
    {
     "name": "stdout",
     "output_type": "stream",
     "text": [
      "\n",
      " 2022-05-16 22:45:00.717072\n"
     ]
    }
   ],
   "source": [
    "\n",
    "from datetime import datetime\n",
    "\n",
    "now = datetime.now()\n",
    "print('\\n', now)\n"
   ]
  },
  {
   "cell_type": "markdown",
   "id": "208d2081",
   "metadata": {
    "execution": {
     "iopub.execute_input": "2022-05-13T00:46:44.238365Z",
     "iopub.status.busy": "2022-05-13T00:46:44.237872Z",
     "iopub.status.idle": "2022-05-13T00:46:44.251793Z",
     "shell.execute_reply": "2022-05-13T00:46:44.250084Z",
     "shell.execute_reply.started": "2022-05-13T00:46:44.238303Z"
    },
    "papermill": {
     "duration": 0.084774,
     "end_time": "2022-05-16T22:45:00.891598",
     "exception": false,
     "start_time": "2022-05-16T22:45:00.806824",
     "status": "completed"
    },
    "tags": []
   },
   "source": [
    "File submit."
   ]
  },
  {
   "cell_type": "code",
   "execution_count": 33,
   "id": "036eb9a8",
   "metadata": {
    "execution": {
     "iopub.execute_input": "2022-05-16T22:45:01.088612Z",
     "iopub.status.busy": "2022-05-16T22:45:01.087846Z",
     "iopub.status.idle": "2022-05-16T22:45:01.091596Z",
     "shell.execute_reply": "2022-05-16T22:45:01.090866Z",
     "shell.execute_reply.started": "2022-05-16T22:16:16.218673Z"
    },
    "papermill": {
     "duration": 0.111868,
     "end_time": "2022-05-16T22:45:01.091831",
     "exception": false,
     "start_time": "2022-05-16T22:45:00.979963",
     "status": "completed"
    },
    "tags": []
   },
   "outputs": [
    {
     "data": {
      "text/plain": [
       "array([ True,  True,  True,  True,  True,  True,  True,  True,  True,\n",
       "        True,  True,  True,  True,  True,  True,  True,  True,  True,\n",
       "        True,  True,  True,  True,  True,  True,  True,  True,  True,\n",
       "        True,  True,  True,  True,  True,  True,  True,  True,  True,\n",
       "        True])"
      ]
     },
     "execution_count": 33,
     "metadata": {},
     "output_type": "execute_result"
    }
   ],
   "source": [
    "Xtrain.columns == X_test2.columns"
   ]
  },
  {
   "cell_type": "code",
   "execution_count": 34,
   "id": "77c63519",
   "metadata": {
    "execution": {
     "iopub.execute_input": "2022-05-16T22:45:01.274833Z",
     "iopub.status.busy": "2022-05-16T22:45:01.274067Z",
     "iopub.status.idle": "2022-05-16T22:45:01.288554Z",
     "shell.execute_reply": "2022-05-16T22:45:01.289196Z",
     "shell.execute_reply.started": "2022-05-16T21:41:12.484607Z"
    },
    "papermill": {
     "duration": 0.105896,
     "end_time": "2022-05-16T22:45:01.289408",
     "exception": false,
     "start_time": "2022-05-16T22:45:01.183512",
     "status": "completed"
    },
    "tags": []
   },
   "outputs": [
    {
     "data": {
      "text/html": [
       "<div>\n",
       "<style scoped>\n",
       "    .dataframe tbody tr th:only-of-type {\n",
       "        vertical-align: middle;\n",
       "    }\n",
       "\n",
       "    .dataframe tbody tr th {\n",
       "        vertical-align: top;\n",
       "    }\n",
       "\n",
       "    .dataframe thead th {\n",
       "        text-align: right;\n",
       "    }\n",
       "</style>\n",
       "<table border=\"1\" class=\"dataframe\">\n",
       "  <thead>\n",
       "    <tr style=\"text-align: right;\">\n",
       "      <th></th>\n",
       "      <th></th>\n",
       "      <th></th>\n",
       "      <th>id</th>\n",
       "      <th>sales</th>\n",
       "    </tr>\n",
       "    <tr>\n",
       "      <th>date</th>\n",
       "      <th>store_nbr</th>\n",
       "      <th>family</th>\n",
       "      <th></th>\n",
       "      <th></th>\n",
       "    </tr>\n",
       "  </thead>\n",
       "  <tbody>\n",
       "    <tr>\n",
       "      <th rowspan=\"5\" valign=\"top\">2017-08-16</th>\n",
       "      <th rowspan=\"5\" valign=\"top\">1</th>\n",
       "      <th>AUTOMOTIVE</th>\n",
       "      <td>3000888</td>\n",
       "      <td>2.528893</td>\n",
       "    </tr>\n",
       "    <tr>\n",
       "      <th>BABY CARE</th>\n",
       "      <td>3000889</td>\n",
       "      <td>0.000000</td>\n",
       "    </tr>\n",
       "    <tr>\n",
       "      <th>BEAUTY</th>\n",
       "      <td>3000890</td>\n",
       "      <td>9.751864</td>\n",
       "    </tr>\n",
       "    <tr>\n",
       "      <th>BEVERAGES</th>\n",
       "      <td>3000891</td>\n",
       "      <td>2504.618612</td>\n",
       "    </tr>\n",
       "    <tr>\n",
       "      <th>BOOKS</th>\n",
       "      <td>3000892</td>\n",
       "      <td>-2.234031</td>\n",
       "    </tr>\n",
       "  </tbody>\n",
       "</table>\n",
       "</div>"
      ],
      "text/plain": [
       "                                      id        sales\n",
       "date       store_nbr family                          \n",
       "2017-08-16 1         AUTOMOTIVE  3000888     2.528893\n",
       "                     BABY CARE   3000889     0.000000\n",
       "                     BEAUTY      3000890     9.751864\n",
       "                     BEVERAGES   3000891  2504.618612\n",
       "                     BOOKS       3000892    -2.234031"
      ]
     },
     "execution_count": 34,
     "metadata": {},
     "output_type": "execute_result"
    }
   ],
   "source": [
    "y_submit.head()\n"
   ]
  },
  {
   "cell_type": "markdown",
   "id": "2e5d26f0",
   "metadata": {
    "papermill": {
     "duration": 0.085988,
     "end_time": "2022-05-16T22:45:01.460875",
     "exception": false,
     "start_time": "2022-05-16T22:45:01.374887",
     "status": "completed"
    },
    "tags": []
   },
   "source": [
    "## Pre-Processing ##"
   ]
  },
  {
   "cell_type": "markdown",
   "id": "9d421eb4",
   "metadata": {
    "papermill": {
     "duration": 0.086663,
     "end_time": "2022-05-16T22:45:01.633722",
     "exception": false,
     "start_time": "2022-05-16T22:45:01.547059",
     "status": "completed"
    },
    "tags": []
   },
   "source": [
    "### Selection only Giants or Dwarfs ###"
   ]
  },
  {
   "cell_type": "markdown",
   "id": "0459646f",
   "metadata": {
    "papermill": {
     "duration": 0.091771,
     "end_time": "2022-05-16T22:45:01.819002",
     "exception": false,
     "start_time": "2022-05-16T22:45:01.727231",
     "status": "completed"
    },
    "tags": []
   },
   "source": [
    "## Balance ##"
   ]
  },
  {
   "cell_type": "code",
   "execution_count": 35,
   "id": "d70e6edb",
   "metadata": {
    "execution": {
     "iopub.execute_input": "2022-05-16T22:45:02.008248Z",
     "iopub.status.busy": "2022-05-16T22:45:02.007143Z",
     "iopub.status.idle": "2022-05-16T22:45:02.011688Z",
     "shell.execute_reply": "2022-05-16T22:45:02.012484Z",
     "shell.execute_reply.started": "2022-05-16T21:41:12.504567Z"
    },
    "papermill": {
     "duration": 0.10471,
     "end_time": "2022-05-16T22:45:02.012725",
     "exception": false,
     "start_time": "2022-05-16T22:45:01.908015",
     "status": "completed"
    },
    "tags": []
   },
   "outputs": [],
   "source": [
    "# dividir set \n",
    "\n",
    "\n",
    "\n",
    "# from sklearn.utils import resample\n",
    "# dfGiantsDownSample = resample(dfGiants, \n",
    "  #                           replace = False, # sample without replacement\n",
    "   #                          n_samples = num_of_dwarf,\n",
    "   #                          random_state =1 \n",
    " #                            )\n",
    "#dfDownSampled = pd.concat([dfGiantsDownSample , dfDwarfs] )\n",
    "\n",
    "#dfBalanced= dfDownSampled.reset_index(drop=True)\n",
    "\n",
    "# dataStar = dfBalanced.sample(frac=1).reset_index(drop=True) # shuffle\n",
    "# dfCopyStar = dataStar.copy()"
   ]
  },
  {
   "cell_type": "markdown",
   "id": "b2445429",
   "metadata": {
    "papermill": {
     "duration": 0.091184,
     "end_time": "2022-05-16T22:45:02.200319",
     "exception": false,
     "start_time": "2022-05-16T22:45:02.109135",
     "status": "completed"
    },
    "tags": []
   },
   "source": [
    "## Visualization ##"
   ]
  },
  {
   "cell_type": "markdown",
   "id": "040f0033",
   "metadata": {
    "papermill": {
     "duration": 0.085616,
     "end_time": "2022-05-16T22:45:02.375722",
     "exception": false,
     "start_time": "2022-05-16T22:45:02.290106",
     "status": "completed"
    },
    "tags": []
   },
   "source": [
    "## Correlation Linear ##"
   ]
  },
  {
   "cell_type": "markdown",
   "id": "2d23ab51",
   "metadata": {
    "papermill": {
     "duration": 0.090008,
     "end_time": "2022-05-16T22:45:02.555610",
     "exception": false,
     "start_time": "2022-05-16T22:45:02.465602",
     "status": "completed"
    },
    "tags": []
   },
   "source": [
    "## Data Cleaning ##"
   ]
  },
  {
   "cell_type": "markdown",
   "id": "2f82e0ad",
   "metadata": {
    "papermill": {
     "duration": 0.08703,
     "end_time": "2022-05-16T22:45:02.733827",
     "exception": false,
     "start_time": "2022-05-16T22:45:02.646797",
     "status": "completed"
    },
    "tags": []
   },
   "source": [
    "# **Data Processing** #"
   ]
  },
  {
   "cell_type": "markdown",
   "id": "bb5b3d16",
   "metadata": {
    "papermill": {
     "duration": 0.087328,
     "end_time": "2022-05-16T22:45:02.908971",
     "exception": false,
     "start_time": "2022-05-16T22:45:02.821643",
     "status": "completed"
    },
    "tags": []
   },
   "source": [
    "### Train and test Set ###"
   ]
  },
  {
   "cell_type": "code",
   "execution_count": 36,
   "id": "06d9d7eb",
   "metadata": {
    "execution": {
     "iopub.execute_input": "2022-05-16T22:45:03.090380Z",
     "iopub.status.busy": "2022-05-16T22:45:03.089411Z",
     "iopub.status.idle": "2022-05-16T22:45:03.093336Z",
     "shell.execute_reply": "2022-05-16T22:45:03.094052Z",
     "shell.execute_reply.started": "2022-05-16T21:41:12.510294Z"
    },
    "papermill": {
     "duration": 0.097112,
     "end_time": "2022-05-16T22:45:03.094308",
     "exception": false,
     "start_time": "2022-05-16T22:45:02.997196",
     "status": "completed"
    },
    "tags": []
   },
   "outputs": [],
   "source": [
    "## Stratified ##\n",
    "#from sklearn.model_selection import StratifiedShuffleSplit\n",
    "#split = StratifiedShuffleSplit(n_splits=1, test_size=0.2, random_state=42)\n",
    "#for train_index, test_index in split.split(data, data[\"variableStratificada\"]):\n",
    "#strat_train_set = housing.loc[train_index]\n",
    "#strat_test_set = housing.loc[test_index]\n",
    "\n",
    "#from  sklearn.impute import SimpleImputer\n",
    "#imputer = SimpleImputer(strategy='median')\n",
    "\n",
    "#from  sklearn.preprocessing import OneHotEncoder\n",
    "#catEncoder = OneHotEncoder()\n",
    "\n",
    "## numerical ##\n",
    "#from  sklearn.pipeline import Pipeline\n",
    "#from  sklearn.preprocessing import StandardScaler\n",
    "#numerical_pipeline = Pipeline([('imputer', SimpleImputer(strategy=\"median\")),('attribs_adder', CombinedAttributesAdder()),])\n",
    "# new_variable_transformed_numerical = num_pipeline.fit_transform(varible_numerica)\n",
    "\n",
    "## numerical and categorial ##\n",
    "#from sklearn import ColumnTransformer\n",
    "#numerical_attribs = list(numerical_columns)\n",
    "#categorical_attribs = list(categorial_columns)\n",
    "#full_pipeline = ColumnTransformer([(\"num\", numerical_pipeline, numerical_attribs),(\"cat\", OneHotEncoder(), categorical_attribs),])\n",
    "#dataTotal_prepared = full_pipeline.fit_transform(dataTotal) "
   ]
  },
  {
   "cell_type": "markdown",
   "id": "dc2567af",
   "metadata": {
    "papermill": {
     "duration": 0.087468,
     "end_time": "2022-05-16T22:45:03.270168",
     "exception": false,
     "start_time": "2022-05-16T22:45:03.182700",
     "status": "completed"
    },
    "tags": []
   },
   "source": [
    "## Target ## "
   ]
  },
  {
   "cell_type": "markdown",
   "id": "67649cc9",
   "metadata": {
    "papermill": {
     "duration": 0.084934,
     "end_time": "2022-05-16T22:45:03.441121",
     "exception": false,
     "start_time": "2022-05-16T22:45:03.356187",
     "status": "completed"
    },
    "tags": []
   },
   "source": [
    "## Featuring Engineering ##"
   ]
  },
  {
   "cell_type": "markdown",
   "id": "b310cb7c",
   "metadata": {
    "papermill": {
     "duration": 0.085133,
     "end_time": "2022-05-16T22:45:03.612170",
     "exception": false,
     "start_time": "2022-05-16T22:45:03.527037",
     "status": "completed"
    },
    "tags": []
   },
   "source": [
    "##  Pipeline and Featuring Scaling ##"
   ]
  },
  {
   "cell_type": "markdown",
   "id": "13d277b3",
   "metadata": {
    "papermill": {
     "duration": 0.085272,
     "end_time": "2022-05-16T22:45:03.787162",
     "exception": false,
     "start_time": "2022-05-16T22:45:03.701890",
     "status": "completed"
    },
    "tags": []
   },
   "source": [
    " # **MODEL** # "
   ]
  },
  {
   "cell_type": "markdown",
   "id": "967f3c07",
   "metadata": {
    "papermill": {
     "duration": 0.084169,
     "end_time": "2022-05-16T22:45:03.957508",
     "exception": false,
     "start_time": "2022-05-16T22:45:03.873339",
     "status": "completed"
    },
    "tags": []
   },
   "source": [
    "#### Models ####"
   ]
  },
  {
   "cell_type": "code",
   "execution_count": 37,
   "id": "94c57399",
   "metadata": {
    "execution": {
     "iopub.execute_input": "2022-05-16T22:45:04.151074Z",
     "iopub.status.busy": "2022-05-16T22:45:04.150267Z",
     "iopub.status.idle": "2022-05-16T22:45:04.153401Z",
     "shell.execute_reply": "2022-05-16T22:45:04.154013Z",
     "shell.execute_reply.started": "2022-05-16T21:41:12.523656Z"
    },
    "papermill": {
     "duration": 0.104215,
     "end_time": "2022-05-16T22:45:04.154216",
     "exception": false,
     "start_time": "2022-05-16T22:45:04.050001",
     "status": "completed"
    },
    "tags": []
   },
   "outputs": [],
   "source": [
    "### stratified CV ### see pag 136  Geron's book\n",
    "#from sklearn.model_selection import StratifiedKFold\n",
    "#from sklearn.base import clone\n",
    "#skfolds = StratifiedKFold(n_splits=3, random_state=42)"
   ]
  },
  {
   "cell_type": "markdown",
   "id": "7c01679a",
   "metadata": {
    "papermill": {
     "duration": 0.084868,
     "end_time": "2022-05-16T22:45:04.324280",
     "exception": false,
     "start_time": "2022-05-16T22:45:04.239412",
     "status": "completed"
    },
    "tags": []
   },
   "source": [
    "# **Refinament** #"
   ]
  },
  {
   "cell_type": "code",
   "execution_count": null,
   "id": "f9bb015e",
   "metadata": {
    "papermill": {
     "duration": 0.084135,
     "end_time": "2022-05-16T22:45:04.493844",
     "exception": false,
     "start_time": "2022-05-16T22:45:04.409709",
     "status": "completed"
    },
    "tags": []
   },
   "outputs": [],
   "source": []
  },
  {
   "cell_type": "markdown",
   "id": "b3be31b2",
   "metadata": {
    "papermill": {
     "duration": 0.084077,
     "end_time": "2022-05-16T22:45:04.662795",
     "exception": false,
     "start_time": "2022-05-16T22:45:04.578718",
     "status": "completed"
    },
    "tags": []
   },
   "source": [
    "# **Deploy** #"
   ]
  },
  {
   "cell_type": "code",
   "execution_count": null,
   "id": "793c5ce7",
   "metadata": {
    "papermill": {
     "duration": 0.085403,
     "end_time": "2022-05-16T22:45:04.832269",
     "exception": false,
     "start_time": "2022-05-16T22:45:04.746866",
     "status": "completed"
    },
    "tags": []
   },
   "outputs": [],
   "source": []
  },
  {
   "cell_type": "code",
   "execution_count": null,
   "id": "0a56efa7",
   "metadata": {
    "papermill": {
     "duration": 0.085807,
     "end_time": "2022-05-16T22:45:05.003721",
     "exception": false,
     "start_time": "2022-05-16T22:45:04.917914",
     "status": "completed"
    },
    "tags": []
   },
   "outputs": [],
   "source": []
  }
 ],
 "metadata": {
  "kernelspec": {
   "display_name": "Python 3",
   "language": "python",
   "name": "python3"
  },
  "language_info": {
   "codemirror_mode": {
    "name": "ipython",
    "version": 3
   },
   "file_extension": ".py",
   "mimetype": "text/x-python",
   "name": "python",
   "nbconvert_exporter": "python",
   "pygments_lexer": "ipython3",
   "version": "3.7.12"
  },
  "papermill": {
   "default_parameters": {},
   "duration": 46.233568,
   "end_time": "2022-05-16T22:45:06.103306",
   "environment_variables": {},
   "exception": null,
   "input_path": "__notebook__.ipynb",
   "output_path": "__notebook__.ipynb",
   "parameters": {},
   "start_time": "2022-05-16T22:44:19.869738",
   "version": "2.3.3"
  }
 },
 "nbformat": 4,
 "nbformat_minor": 5
}
