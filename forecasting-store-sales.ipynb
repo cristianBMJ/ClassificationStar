{
 "cells": [
  {
   "cell_type": "markdown",
   "id": "30bd839c",
   "metadata": {
    "papermill": {
     "duration": 0.050212,
     "end_time": "2022-05-14T16:36:34.340149",
     "exception": false,
     "start_time": "2022-05-14T16:36:34.289937",
     "status": "completed"
    },
    "tags": []
   },
   "source": [
    "# **Forecasting: Store-Sales**\n",
    "\n",
    "This project aims to forecast the sales of a company's stores in Ecuador. We work with Time Series to predictions the sales, used tools of the **Pandas**. The Model learning  is the kind Hydrid,  it be first model `RandomForestRegressor` while the second model is `LinearRegression`. \n",
    "\n"
   ]
  },
  {
   "cell_type": "markdown",
   "id": "c3965925",
   "metadata": {
    "papermill": {
     "duration": 0.045597,
     "end_time": "2022-05-14T16:36:34.437671",
     "exception": false,
     "start_time": "2022-05-14T16:36:34.392074",
     "status": "completed"
    },
    "tags": []
   },
   "source": [
    "# **Setting** #\n",
    "\n",
    "Setup of the system  and necessary libraries."
   ]
  },
  {
   "cell_type": "code",
   "execution_count": 1,
   "id": "f4bd7cf8",
   "metadata": {
    "_cell_guid": "b1076dfc-b9ad-4769-8c92-a6c4dae69d19",
    "_uuid": "8f2839f25d086af736a60e9eeb907d3b93b6e0e5",
    "execution": {
     "iopub.execute_input": "2022-05-14T16:36:34.528551Z",
     "iopub.status.busy": "2022-05-14T16:36:34.527811Z",
     "iopub.status.idle": "2022-05-14T16:36:37.114058Z",
     "shell.execute_reply": "2022-05-14T16:36:37.113367Z",
     "shell.execute_reply.started": "2022-05-14T16:33:11.251084Z"
    },
    "papermill": {
     "duration": 2.639201,
     "end_time": "2022-05-14T16:36:37.114239",
     "exception": false,
     "start_time": "2022-05-14T16:36:34.475038",
     "status": "completed"
    },
    "tags": []
   },
   "outputs": [
    {
     "data": {
      "text/html": [
       "<style type='text/css'>\n",
       ".datatable table.frame { margin-bottom: 0; }\n",
       ".datatable table.frame thead { border-bottom: none; }\n",
       ".datatable table.frame tr.coltypes td {  color: #FFFFFF;  line-height: 6px;  padding: 0 0.5em;}\n",
       ".datatable .bool    { background: #DDDD99; }\n",
       ".datatable .object  { background: #565656; }\n",
       ".datatable .int     { background: #5D9E5D; }\n",
       ".datatable .float   { background: #4040CC; }\n",
       ".datatable .str     { background: #CC4040; }\n",
       ".datatable .time    { background: #40CC40; }\n",
       ".datatable .row_index {  background: var(--jp-border-color3);  border-right: 1px solid var(--jp-border-color0);  color: var(--jp-ui-font-color3);  font-size: 9px;}\n",
       ".datatable .frame tbody td { text-align: left; }\n",
       ".datatable .frame tr.coltypes .row_index {  background: var(--jp-border-color0);}\n",
       ".datatable th:nth-child(2) { padding-left: 12px; }\n",
       ".datatable .hellipsis {  color: var(--jp-cell-editor-border-color);}\n",
       ".datatable .vellipsis {  background: var(--jp-layout-color0);  color: var(--jp-cell-editor-border-color);}\n",
       ".datatable .na {  color: var(--jp-cell-editor-border-color);  font-size: 80%;}\n",
       ".datatable .sp {  opacity: 0.25;}\n",
       ".datatable .footer { font-size: 9px; }\n",
       ".datatable .frame_dimensions {  background: var(--jp-border-color3);  border-top: 1px solid var(--jp-border-color0);  color: var(--jp-ui-font-color3);  display: inline-block;  opacity: 0.6;  padding: 1px 10px 1px 5px;}\n",
       "</style>\n"
      ],
      "text/plain": [
       "<IPython.core.display.HTML object>"
      ]
     },
     "metadata": {},
     "output_type": "display_data"
    },
    {
     "name": "stdout",
     "output_type": "stream",
     "text": [
      "/kaggle/input/store-sales-time-series-forecasting/oil.csv\n",
      "/kaggle/input/store-sales-time-series-forecasting/sample_submission.csv\n",
      "/kaggle/input/store-sales-time-series-forecasting/holidays_events.csv\n",
      "/kaggle/input/store-sales-time-series-forecasting/stores.csv\n",
      "/kaggle/input/store-sales-time-series-forecasting/train.csv\n",
      "/kaggle/input/store-sales-time-series-forecasting/test.csv\n",
      "/kaggle/input/store-sales-time-series-forecasting/transactions.csv\n"
     ]
    }
   ],
   "source": [
    "# This Python 3 environment comes with many helpful analytics libraries installed\n",
    "# It is defined by the kaggle/python Docker image: https://github.com/kaggle/docker-python\n",
    "# For example, here's several helpful packages to load\n",
    "\n",
    "%matplotlib inline\n",
    "\n",
    "# Setup feedback system\n",
    "from learntools.core import binder\n",
    "binder.bind(globals())\n",
    "from learntools.time_series.ex3 import *\n",
    "\n",
    " # Allows the use of display() for DataFrames\n",
    "# from IPython.core.interactiveshell import InteractiveShell\n",
    "\n",
    "# InteractiveShell.ast_node_interactivity = \"all\"\n",
    "\n",
    "\n",
    "# Setup notebook\n",
    "from pathlib import Path\n",
    "from IPython.display import display\n",
    "\n",
    "from learntools.time_series.style import *  # plot style settings\n",
    "from learntools.time_series.utils import plot_periodogram, seasonal_plot\n",
    "\n",
    "\n",
    "import numpy as np # linear algebra\n",
    "import pandas as pd # data processing, CSV file I/O (e.g. pd.read_csv)\n",
    "\n",
    "%matplotlib inline\n",
    "import matplotlib.pyplot as plt\n",
    "import seaborn as sns\n",
    "\n",
    "\n",
    "from scipy.signal import periodogram\n",
    "from sklearn.ensemble import RandomForestRegressor\n",
    "from statsmodels.tsa.deterministic import CalendarFourier, DeterministicProcess\n",
    "from statsmodels.graphics.tsaplots import plot_pacf\n",
    "from sklearn.preprocessing import OneHotEncoder\n",
    "\n",
    "\n",
    "from sklearn.linear_model import LinearRegression\n",
    "from lightgbm import LGBMRegressor # make for microsoft\n",
    "from statsmodels.tsa.seasonal import seasonal_decompose\n",
    "from statsmodels.graphics.tsaplots import plot_acf\n",
    "from scipy.stats import t\n",
    "from sklearn.model_selection import TimeSeriesSplit, train_test_split\n",
    "from sklearn.metrics import mean_absolute_error, mean_squared_log_error, mean_squared_error\n",
    "\n",
    "\n",
    "# Input data files are available in the read-only \"../input/\" directory\n",
    "# For example, running this (by clicking run or pressing Shift+Enter) will list all files under the input directory\n",
    "\n",
    "import os\n",
    "for dirname, _, filenames in os.walk('/kaggle/input'):\n",
    "    for filename in filenames:\n",
    "        print(os.path.join(dirname, filename))\n",
    "\n",
    "        \n",
    "        \n",
    "# You can write up to 20GB to the current directory (/kaggle/working/) that gets preserved as output when you create a version using \"Save & Run All\" \n",
    "# You can also write temporary files to /kaggle/temp/, but they won't be saved outside of the current session\n"
   ]
  },
  {
   "cell_type": "markdown",
   "id": "9b54e053",
   "metadata": {
    "papermill": {
     "duration": 0.037697,
     "end_time": "2022-05-14T16:36:37.192333",
     "exception": false,
     "start_time": "2022-05-14T16:36:37.154636",
     "status": "completed"
    },
    "tags": []
   },
   "source": [
    "# **Get Data** #\n",
    "\n",
    "The data is in  [Kaggle Store sales](https://www.kaggle.com/c/store-sales-time-series-forecasting). \n"
   ]
  },
  {
   "cell_type": "code",
   "execution_count": 2,
   "id": "cdad9ffc",
   "metadata": {
    "execution": {
     "iopub.execute_input": "2022-05-14T16:36:37.273170Z",
     "iopub.status.busy": "2022-05-14T16:36:37.272125Z",
     "iopub.status.idle": "2022-05-14T16:36:42.052407Z",
     "shell.execute_reply": "2022-05-14T16:36:42.051791Z",
     "shell.execute_reply.started": "2022-05-14T16:33:13.803056Z"
    },
    "papermill": {
     "duration": 4.822017,
     "end_time": "2022-05-14T16:36:42.052604",
     "exception": false,
     "start_time": "2022-05-14T16:36:37.230587",
     "status": "completed"
    },
    "tags": []
   },
   "outputs": [],
   "source": [
    "# Paths\n",
    "comp_dir = Path('../input/store-sales-time-series-forecasting')\n",
    "\n",
    "# timeInitial\n",
    "timeInitial = '2016-08'\n",
    "\n",
    "# Get datas\n",
    "holidays_events = pd.read_csv(\n",
    "    comp_dir / \"holidays_events.csv\",\n",
    "    dtype={\n",
    "        'type': 'category',\n",
    "        'locale': 'category',\n",
    "        'locale_name': 'category',\n",
    "        'description': 'category',\n",
    "        'transferred': 'bool',\n",
    "    },\n",
    "    parse_dates=['date'],\n",
    "    infer_datetime_format=True,\n",
    ")\n",
    "holidays_events = holidays_events.set_index('date').to_period('D')\n",
    "\n",
    "store_sales = pd.read_csv(\n",
    "    comp_dir / 'train.csv',\n",
    "    usecols=['store_nbr', 'family','onpromotion', 'date', 'sales'],\n",
    "    dtype={\n",
    "        'store_nbr': 'category',\n",
    "        'family': 'category',\n",
    "        'sales': 'float32',\n",
    "        'onpromotion': 'uint32',\n",
    "    },\n",
    "    parse_dates=['date'],\n",
    "    infer_datetime_format=True,\n",
    ")\n",
    "\n",
    "oil = pd.read_csv(\n",
    "    comp_dir / 'oil.csv',\n",
    "    usecols = ['date', 'dcoilwtico'],\n",
    "    dtype={'dcoilwtico': 'float32'    },\n",
    "    parse_dates=['date'],\n",
    "    infer_datetime_format=True,\n",
    ")\n",
    "\n",
    " \n",
    "holidays = (\n",
    "    holidays_events\n",
    "    .query(\"locale in ['National', 'Regional']\")\n",
    "    .loc[timeInitial :'2017-08-15', ['description']]\n",
    "    .assign(description=lambda x: x.description.cat.remove_unused_categories()) # assign new columns\n",
    ")\n",
    "\n",
    "df_test = pd.read_csv(\n",
    "    comp_dir / 'test.csv',\n",
    "    dtype={\n",
    "        'store_nbr': 'category',\n",
    "        'family': 'category',\n",
    "        'onpromotion': 'uint32',\n",
    "    },\n",
    "    parse_dates=['date'],\n",
    "    infer_datetime_format=True,\n",
    ")\n",
    "# Rearray to period\n",
    "\n",
    "transactions =  pd.read_csv( comp_dir / 'transactions.csv',\n",
    "                            parse_dates = ['date'], \n",
    "                            infer_datetime_format = True, \n",
    "                            )\n",
    "\n",
    "oil['date'] = oil.date.dt.to_period('D')\n",
    "oil = oil.set_index(['date']).sort_index()\n",
    "oil=oil.squeeze()\n",
    "\n",
    "store_sales['date'] = store_sales.date.dt.to_period('D')\n",
    "store_sales = store_sales.set_index(['store_nbr', 'family', 'date']).sort_index()\n",
    "\n"
   ]
  },
  {
   "cell_type": "markdown",
   "id": "64f8ebf5",
   "metadata": {
    "papermill": {
     "duration": 0.039982,
     "end_time": "2022-05-14T16:36:42.132886",
     "exception": false,
     "start_time": "2022-05-14T16:36:42.092904",
     "status": "completed"
    },
    "tags": []
   },
   "source": [
    "\n",
    "#  **Exploratory Data Analysis** #"
   ]
  },
  {
   "cell_type": "markdown",
   "id": "4bab90e9",
   "metadata": {
    "papermill": {
     "duration": 0.038129,
     "end_time": "2022-05-14T16:36:42.210192",
     "exception": false,
     "start_time": "2022-05-14T16:36:42.172063",
     "status": "completed"
    },
    "tags": []
   },
   "source": [
    "Information preliminar about  `store_sales`."
   ]
  },
  {
   "cell_type": "code",
   "execution_count": 3,
   "id": "9ecdb204",
   "metadata": {
    "execution": {
     "iopub.execute_input": "2022-05-14T16:36:42.297381Z",
     "iopub.status.busy": "2022-05-14T16:36:42.296659Z",
     "iopub.status.idle": "2022-05-14T16:36:42.582670Z",
     "shell.execute_reply": "2022-05-14T16:36:42.583171Z",
     "shell.execute_reply.started": "2022-05-14T16:33:18.676315Z"
    },
    "papermill": {
     "duration": 0.333374,
     "end_time": "2022-05-14T16:36:42.583343",
     "exception": false,
     "start_time": "2022-05-14T16:36:42.249969",
     "status": "completed"
    },
    "tags": []
   },
   "outputs": [
    {
     "name": "stdout",
     "output_type": "stream",
     "text": [
      "<class 'pandas.core.frame.DataFrame'>\n",
      "MultiIndex: 3000888 entries, ('1', 'AUTOMOTIVE', Period('2013-01-01', 'D')) to ('9', 'SEAFOOD', Period('2017-08-15', 'D'))\n",
      "Data columns (total 2 columns):\n",
      " #   Column       Dtype  \n",
      "---  ------       -----  \n",
      " 0   sales        float32\n",
      " 1   onpromotion  uint32 \n",
      "dtypes: float32(1), uint32(1)\n",
      "memory usage: 34.4 MB\n"
     ]
    },
    {
     "data": {
      "text/plain": [
       "None"
      ]
     },
     "metadata": {},
     "output_type": "display_data"
    },
    {
     "data": {
      "text/html": [
       "<div>\n",
       "<style scoped>\n",
       "    .dataframe tbody tr th:only-of-type {\n",
       "        vertical-align: middle;\n",
       "    }\n",
       "\n",
       "    .dataframe tbody tr th {\n",
       "        vertical-align: top;\n",
       "    }\n",
       "\n",
       "    .dataframe thead th {\n",
       "        text-align: right;\n",
       "    }\n",
       "</style>\n",
       "<table border=\"1\" class=\"dataframe\">\n",
       "  <thead>\n",
       "    <tr style=\"text-align: right;\">\n",
       "      <th></th>\n",
       "      <th>count</th>\n",
       "      <th>mean</th>\n",
       "      <th>std</th>\n",
       "      <th>min</th>\n",
       "      <th>25%</th>\n",
       "      <th>50%</th>\n",
       "      <th>75%</th>\n",
       "      <th>max</th>\n",
       "    </tr>\n",
       "  </thead>\n",
       "  <tbody>\n",
       "    <tr>\n",
       "      <th>sales</th>\n",
       "      <td>3000888.0</td>\n",
       "      <td>356.758392</td>\n",
       "      <td>1093.275879</td>\n",
       "      <td>0.0</td>\n",
       "      <td>0.0</td>\n",
       "      <td>11.0</td>\n",
       "      <td>195.847252</td>\n",
       "      <td>124717.0</td>\n",
       "    </tr>\n",
       "    <tr>\n",
       "      <th>onpromotion</th>\n",
       "      <td>3000888.0</td>\n",
       "      <td>2.602770</td>\n",
       "      <td>12.218882</td>\n",
       "      <td>0.0</td>\n",
       "      <td>0.0</td>\n",
       "      <td>0.0</td>\n",
       "      <td>0.000000</td>\n",
       "      <td>741.0</td>\n",
       "    </tr>\n",
       "  </tbody>\n",
       "</table>\n",
       "</div>"
      ],
      "text/plain": [
       "                 count        mean          std  min  25%   50%         75%  \\\n",
       "sales        3000888.0  356.758392  1093.275879  0.0  0.0  11.0  195.847252   \n",
       "onpromotion  3000888.0    2.602770    12.218882  0.0  0.0   0.0    0.000000   \n",
       "\n",
       "                  max  \n",
       "sales        124717.0  \n",
       "onpromotion     741.0  "
      ]
     },
     "metadata": {},
     "output_type": "display_data"
    }
   ],
   "source": [
    "display(store_sales.info())\n",
    "display( store_sales.describe().T)\n"
   ]
  },
  {
   "cell_type": "code",
   "execution_count": 4,
   "id": "5b82fa81",
   "metadata": {
    "execution": {
     "iopub.execute_input": "2022-05-14T16:36:42.665226Z",
     "iopub.status.busy": "2022-05-14T16:36:42.664572Z",
     "iopub.status.idle": "2022-05-14T16:36:42.673223Z",
     "shell.execute_reply": "2022-05-14T16:36:42.673696Z",
     "shell.execute_reply.started": "2022-05-14T16:33:18.963128Z"
    },
    "papermill": {
     "duration": 0.051397,
     "end_time": "2022-05-14T16:36:42.673889",
     "exception": false,
     "start_time": "2022-05-14T16:36:42.622492",
     "status": "completed"
    },
    "tags": []
   },
   "outputs": [],
   "source": [
    "store_sales['sales'].head()\n",
    "\n",
    "def salesDecompose(df, share_type='sales', samples=250, period=30):\n",
    "    if samples == 'all':\n",
    "        #decomposing all time series timestamps\n",
    "        res = seasonal_decompose(df[share_type].values, period=period)\n",
    "    else:\n",
    "        #decomposing a sample of the time series\n",
    "        res = seasonal_decompose(df[share_type].values[-samples:], period=period)\n",
    "    \n",
    "    observed = res.observed\n",
    "    trend = res.trend\n",
    "    seasonal = res.seasonal\n",
    "    residual = res.resid\n",
    "    \n",
    "    #plot the complete time series\n",
    "    fig, axs = plt.subplots(4, figsize=(16,8))\n",
    "    axs[0].set_title('OBSERVED', fontsize=16)\n",
    "    axs[0].plot(observed)\n",
    "    axs[0].grid()\n",
    "    \n",
    "    #plot the trend of the time series\n",
    "    axs[1].set_title('TREND', fontsize=16)\n",
    "    axs[1].plot(trend)\n",
    "    axs[1].grid()\n",
    "    \n",
    "    #plot the seasonality of the time series. Period=24 daily seasonality | Period=24*7 weekly seasonality.\n",
    "    axs[2].set_title('SEASONALITY', fontsize=16)\n",
    "    axs[2].plot(seasonal)\n",
    "    axs[2].grid()\n",
    "    \n",
    "    #plot the noise of the time series\n",
    "    axs[3].set_title('NOISE', fontsize=16)\n",
    "    axs[3].plot(residual)\n",
    "    axs[3].scatter(y=residual, x=range(len(residual)), alpha=0.5)\n",
    "    axs[3].grid()\n",
    "    \n",
    "    plt.show()\n",
    "    "
   ]
  },
  {
   "cell_type": "markdown",
   "id": "02b92878",
   "metadata": {
    "papermill": {
     "duration": 0.038758,
     "end_time": "2022-05-14T16:36:42.751670",
     "exception": false,
     "start_time": "2022-05-14T16:36:42.712912",
     "status": "completed"
    },
    "tags": []
   },
   "source": [
    "### Sales Decompose\n",
    "In this section shown to sales decompose in three parts;  Observed, Trend and Seasonality, in a range time of  one year. "
   ]
  },
  {
   "cell_type": "code",
   "execution_count": 5,
   "id": "7beb74af",
   "metadata": {
    "execution": {
     "iopub.execute_input": "2022-05-14T16:36:42.835000Z",
     "iopub.status.busy": "2022-05-14T16:36:42.834374Z",
     "iopub.status.idle": "2022-05-14T16:36:43.425888Z",
     "shell.execute_reply": "2022-05-14T16:36:43.426445Z",
     "shell.execute_reply.started": "2022-05-14T16:33:18.975589Z"
    },
    "papermill": {
     "duration": 0.635552,
     "end_time": "2022-05-14T16:36:43.426632",
     "exception": false,
     "start_time": "2022-05-14T16:36:42.791080",
     "status": "completed"
    },
    "tags": []
   },
   "outputs": [
    {
     "data": {
      "image/png": "[encoded data removed]",
      "text/plain": [
       "<Figure size 1152x576 with 4 Axes>"
      ]
     },
     "metadata": {
      "needs_background": "light"
     },
     "output_type": "display_data"
    }
   ],
   "source": [
    "salesDecompose(store_sales, samples= 365, period = 30 )"
   ]
  },
  {
   "cell_type": "markdown",
   "id": "4e5febd7",
   "metadata": {
    "papermill": {
     "duration": 0.044399,
     "end_time": "2022-05-14T16:36:43.516095",
     "exception": false,
     "start_time": "2022-05-14T16:36:43.471696",
     "status": "completed"
    },
    "tags": []
   },
   "source": [
    "Here, we maked average sales from time initial `2015`. Then we show Partial Correlation of Lags,  noting the most  significant ones.  "
   ]
  },
  {
   "cell_type": "code",
   "execution_count": 6,
   "id": "f6d95426",
   "metadata": {
    "execution": {
     "iopub.execute_input": "2022-05-14T16:36:43.617171Z",
     "iopub.status.busy": "2022-05-14T16:36:43.616460Z",
     "iopub.status.idle": "2022-05-14T16:36:44.089391Z",
     "shell.execute_reply": "2022-05-14T16:36:44.088861Z",
     "shell.execute_reply.started": "2022-05-14T16:33:19.638177Z"
    },
    "papermill": {
     "duration": 0.527174,
     "end_time": "2022-05-14T16:36:44.089563",
     "exception": false,
     "start_time": "2022-05-14T16:36:43.562389",
     "status": "completed"
    },
    "tags": []
   },
   "outputs": [
    {
     "name": "stdout",
     "output_type": "stream",
     "text": [
      "<class 'pandas.core.frame.DataFrame'>\n",
      "RangeIndex: 83488 entries, 0 to 83487\n",
      "Data columns (total 3 columns):\n",
      " #   Column        Non-Null Count  Dtype         \n",
      "---  ------        --------------  -----         \n",
      " 0   date          83488 non-null  datetime64[ns]\n",
      " 1   store_nbr     83488 non-null  int64         \n",
      " 2   transactions  83488 non-null  int64         \n",
      "dtypes: datetime64[ns](1), int64(2)\n",
      "memory usage: 1.9 MB\n",
      "<class 'pandas.core.frame.DataFrame'>\n",
      "PeriodIndex: 379 entries, 2016-08-01 to 2017-08-15\n",
      "Freq: D\n",
      "Data columns (total 2 columns):\n",
      " #   Column       Non-Null Count  Dtype  \n",
      "---  ------       --------------  -----  \n",
      " 0   sales        379 non-null    float32\n",
      " 1   onpromotion  379 non-null    float64\n",
      "dtypes: float32(1), float64(1)\n",
      "memory usage: 7.4 KB\n"
     ]
    },
    {
     "data": {
      "text/plain": [
       "None"
      ]
     },
     "metadata": {},
     "output_type": "display_data"
    },
    {
     "data": {
      "text/html": [
       "<div>\n",
       "<style scoped>\n",
       "    .dataframe tbody tr th:only-of-type {\n",
       "        vertical-align: middle;\n",
       "    }\n",
       "\n",
       "    .dataframe tbody tr th {\n",
       "        vertical-align: top;\n",
       "    }\n",
       "\n",
       "    .dataframe thead th {\n",
       "        text-align: right;\n",
       "    }\n",
       "</style>\n",
       "<table border=\"1\" class=\"dataframe\">\n",
       "  <thead>\n",
       "    <tr style=\"text-align: right;\">\n",
       "      <th></th>\n",
       "      <th>sales</th>\n",
       "      <th>onpromotion</th>\n",
       "    </tr>\n",
       "    <tr>\n",
       "      <th>date</th>\n",
       "      <th></th>\n",
       "      <th></th>\n",
       "    </tr>\n",
       "  </thead>\n",
       "  <tbody>\n",
       "    <tr>\n",
       "      <th>2016-08-01</th>\n",
       "      <td>502.570374</td>\n",
       "      <td>3.001684</td>\n",
       "    </tr>\n",
       "    <tr>\n",
       "      <th>2016-08-02</th>\n",
       "      <td>436.359619</td>\n",
       "      <td>4.424242</td>\n",
       "    </tr>\n",
       "    <tr>\n",
       "      <th>2016-08-03</th>\n",
       "      <td>437.623352</td>\n",
       "      <td>7.497755</td>\n",
       "    </tr>\n",
       "    <tr>\n",
       "      <th>2016-08-04</th>\n",
       "      <td>349.541595</td>\n",
       "      <td>3.341751</td>\n",
       "    </tr>\n",
       "    <tr>\n",
       "      <th>2016-08-05</th>\n",
       "      <td>395.113770</td>\n",
       "      <td>6.523008</td>\n",
       "    </tr>\n",
       "  </tbody>\n",
       "</table>\n",
       "</div>"
      ],
      "text/plain": [
       "                 sales  onpromotion\n",
       "date                               \n",
       "2016-08-01  502.570374     3.001684\n",
       "2016-08-02  436.359619     4.424242\n",
       "2016-08-03  437.623352     7.497755\n",
       "2016-08-04  349.541595     3.341751\n",
       "2016-08-05  395.113770     6.523008"
      ]
     },
     "execution_count": 6,
     "metadata": {},
     "output_type": "execute_result"
    },
    {
     "data": {
      "image/png": "[encoded data removed]",
      "text/plain": [
       "<Figure size 432x288 with 1 Axes>"
      ]
     },
     "metadata": {
      "needs_background": "light"
     },
     "output_type": "display_data"
    }
   ],
   "source": [
    "# transactions per store\n",
    "transactions.info()\n",
    "\n",
    "\n",
    "# average sales \n",
    "average_sales = (\n",
    "    store_sales\n",
    "    .groupby('date').mean()\n",
    "    .squeeze()\n",
    "    .loc[timeInitial:]\n",
    ")\n",
    "\n",
    "\n",
    "plot_pacf(average_sales.sales, lags=15)\n",
    "\n",
    "\n",
    "display(average_sales.info())\n",
    "#ax = average_sales.plot(**plot_params, alpha = 0.5,  title='Averange Sales', ylabel='Items Sold')\n",
    "#ax.legend();\n",
    "\n",
    "average_sales.head()"
   ]
  },
  {
   "cell_type": "code",
   "execution_count": 7,
   "id": "154cf7ef",
   "metadata": {
    "execution": {
     "iopub.execute_input": "2022-05-14T16:36:44.196503Z",
     "iopub.status.busy": "2022-05-14T16:36:44.195855Z",
     "iopub.status.idle": "2022-05-14T16:36:44.198191Z",
     "shell.execute_reply": "2022-05-14T16:36:44.198652Z",
     "shell.execute_reply.started": "2022-05-14T16:33:20.070210Z"
    },
    "papermill": {
     "duration": 0.062306,
     "end_time": "2022-05-14T16:36:44.198817",
     "exception": false,
     "start_time": "2022-05-14T16:36:44.136511",
     "status": "completed"
    },
    "tags": []
   },
   "outputs": [
    {
     "name": "stdout",
     "output_type": "stream",
     "text": [
      "<class 'pandas.core.frame.DataFrame'>\n",
      "PeriodIndex: 1218 entries, 2013-01-01 to 2017-08-31\n",
      "Freq: D\n",
      "Data columns (total 1 columns):\n",
      " #   Column      Non-Null Count  Dtype  \n",
      "---  ------      --------------  -----  \n",
      " 0   dcoilwtico  1175 non-null   float32\n",
      "dtypes: float32(1)\n",
      "memory usage: 14.3 KB\n"
     ]
    }
   ],
   "source": [
    "# partial autocorrelation Oil\n",
    "dfOil = pd.DataFrame(oil)\n",
    "dfOil.info()"
   ]
  },
  {
   "cell_type": "markdown",
   "id": "e524b49f",
   "metadata": {
    "papermill": {
     "duration": 0.047186,
     "end_time": "2022-05-14T16:36:44.292295",
     "exception": false,
     "start_time": "2022-05-14T16:36:44.245109",
     "status": "completed"
    },
    "tags": []
   },
   "source": [
    "The price's Oil during three years."
   ]
  },
  {
   "cell_type": "code",
   "execution_count": 8,
   "id": "74a91852",
   "metadata": {
    "execution": {
     "iopub.execute_input": "2022-05-14T16:36:44.390342Z",
     "iopub.status.busy": "2022-05-14T16:36:44.389716Z",
     "iopub.status.idle": "2022-05-14T16:36:44.818597Z",
     "shell.execute_reply": "2022-05-14T16:36:44.819054Z",
     "shell.execute_reply.started": "2022-05-14T16:33:20.084420Z"
    },
    "papermill": {
     "duration": 0.480606,
     "end_time": "2022-05-14T16:36:44.819217",
     "exception": false,
     "start_time": "2022-05-14T16:36:44.338611",
     "status": "completed"
    },
    "tags": []
   },
   "outputs": [
    {
     "data": {
      "image/png": "[encoded data removed]",
      "text/plain": [
       "<Figure size 432x288 with 1 Axes>"
      ]
     },
     "metadata": {
      "needs_background": "light"
     },
     "output_type": "display_data"
    }
   ],
   "source": [
    "oil[timeInitial:].plot()\n",
    "plt.show()\n",
    "\n",
    "\n"
   ]
  },
  {
   "cell_type": "code",
   "execution_count": 9,
   "id": "9eccabde",
   "metadata": {
    "execution": {
     "iopub.execute_input": "2022-05-14T16:36:44.920775Z",
     "iopub.status.busy": "2022-05-14T16:36:44.920083Z",
     "iopub.status.idle": "2022-05-14T16:36:44.932642Z",
     "shell.execute_reply": "2022-05-14T16:36:44.931714Z",
     "shell.execute_reply.started": "2022-05-14T16:33:20.518954Z"
    },
    "papermill": {
     "duration": 0.063318,
     "end_time": "2022-05-14T16:36:44.932875",
     "exception": false,
     "start_time": "2022-05-14T16:36:44.869557",
     "status": "completed"
    },
    "tags": []
   },
   "outputs": [
    {
     "name": "stdout",
     "output_type": "stream",
     "text": [
      "<class 'pandas.core.frame.DataFrame'>\n",
      "PeriodIndex: 1218 entries, 2013-01-01 to 2017-08-31\n",
      "Freq: D\n",
      "Data columns (total 1 columns):\n",
      " #   Column      Non-Null Count  Dtype  \n",
      "---  ------      --------------  -----  \n",
      " 0   dcoilwtico  1175 non-null   float32\n",
      "dtypes: float32(1)\n",
      "memory usage: 46.6 KB\n"
     ]
    }
   ],
   "source": [
    "dfOil = pd.DataFrame(oil)\n",
    "dfOil.info()"
   ]
  },
  {
   "cell_type": "code",
   "execution_count": 10,
   "id": "3eb3477f",
   "metadata": {
    "execution": {
     "iopub.execute_input": "2022-05-14T16:36:45.039104Z",
     "iopub.status.busy": "2022-05-14T16:36:45.038121Z",
     "iopub.status.idle": "2022-05-14T16:36:45.371718Z",
     "shell.execute_reply": "2022-05-14T16:36:45.370716Z",
     "shell.execute_reply.started": "2022-05-14T16:33:20.533839Z"
    },
    "papermill": {
     "duration": 0.389259,
     "end_time": "2022-05-14T16:36:45.371938",
     "exception": false,
     "start_time": "2022-05-14T16:36:44.982679",
     "status": "completed"
    },
    "tags": []
   },
   "outputs": [
    {
     "name": "stdout",
     "output_type": "stream",
     "text": [
      "<class 'pandas.core.frame.DataFrame'>\n",
      "PeriodIndex: 1218 entries, 2013-01-01 to 2017-08-31\n",
      "Freq: D\n",
      "Data columns (total 2 columns):\n",
      " #   Column      Non-Null Count  Dtype  \n",
      "---  ------      --------------  -----  \n",
      " 0   dcoilwtico  1217 non-null   float32\n",
      " 1   ma_oil      1211 non-null   float64\n",
      "dtypes: float32(1), float64(1)\n",
      "memory usage: 56.1 KB\n"
     ]
    },
    {
     "data": {
      "text/plain": [
       "<AxesSubplot:xlabel='date'>"
      ]
     },
     "execution_count": 10,
     "metadata": {},
     "output_type": "execute_result"
    },
    {
     "data": {
      "image/png": "[encoded data removed]",
      "text/plain": [
       "<Figure size 432x288 with 1 Axes>"
      ]
     },
     "metadata": {
      "needs_background": "light"
     },
     "output_type": "display_data"
    }
   ],
   "source": [
    "dfOil['ma_oil'] = dfOil['dcoilwtico'].rolling(7).mean() # calculating mean by oil ( there are NaNs  values)\n",
    "dfOil.fillna(method='ffill', inplace=True)\n",
    "dfOil.info()\n",
    "\n",
    "dfOil.plot()\n",
    "#dfOil.ma_oil[timeInitial:].plot()"
   ]
  },
  {
   "cell_type": "code",
   "execution_count": 11,
   "id": "a708cfb7",
   "metadata": {
    "execution": {
     "iopub.execute_input": "2022-05-14T16:36:45.497973Z",
     "iopub.status.busy": "2022-05-14T16:36:45.497102Z",
     "iopub.status.idle": "2022-05-14T16:36:45.501059Z",
     "shell.execute_reply": "2022-05-14T16:36:45.500598Z",
     "shell.execute_reply.started": "2022-05-14T16:33:20.875288Z"
    },
    "papermill": {
     "duration": 0.06736,
     "end_time": "2022-05-14T16:36:45.501197",
     "exception": false,
     "start_time": "2022-05-14T16:36:45.433837",
     "status": "completed"
    },
    "tags": []
   },
   "outputs": [
    {
     "data": {
      "text/html": [
       "<div>\n",
       "<style scoped>\n",
       "    .dataframe tbody tr th:only-of-type {\n",
       "        vertical-align: middle;\n",
       "    }\n",
       "\n",
       "    .dataframe tbody tr th {\n",
       "        vertical-align: top;\n",
       "    }\n",
       "\n",
       "    .dataframe thead th {\n",
       "        text-align: right;\n",
       "    }\n",
       "</style>\n",
       "<table border=\"1\" class=\"dataframe\">\n",
       "  <thead>\n",
       "    <tr style=\"text-align: right;\">\n",
       "      <th></th>\n",
       "      <th>dcoilwtico</th>\n",
       "      <th>ma_oil</th>\n",
       "    </tr>\n",
       "    <tr>\n",
       "      <th>date</th>\n",
       "      <th></th>\n",
       "      <th></th>\n",
       "    </tr>\n",
       "  </thead>\n",
       "  <tbody>\n",
       "    <tr>\n",
       "      <th>2013-01-01</th>\n",
       "      <td>NaN</td>\n",
       "      <td>NaN</td>\n",
       "    </tr>\n",
       "    <tr>\n",
       "      <th>2013-01-02</th>\n",
       "      <td>93.139999</td>\n",
       "      <td>NaN</td>\n",
       "    </tr>\n",
       "    <tr>\n",
       "      <th>2013-01-03</th>\n",
       "      <td>92.970001</td>\n",
       "      <td>NaN</td>\n",
       "    </tr>\n",
       "    <tr>\n",
       "      <th>2013-01-04</th>\n",
       "      <td>93.120003</td>\n",
       "      <td>NaN</td>\n",
       "    </tr>\n",
       "    <tr>\n",
       "      <th>2013-01-07</th>\n",
       "      <td>93.199997</td>\n",
       "      <td>NaN</td>\n",
       "    </tr>\n",
       "    <tr>\n",
       "      <th>2013-01-08</th>\n",
       "      <td>93.209999</td>\n",
       "      <td>NaN</td>\n",
       "    </tr>\n",
       "    <tr>\n",
       "      <th>2013-01-09</th>\n",
       "      <td>93.080002</td>\n",
       "      <td>NaN</td>\n",
       "    </tr>\n",
       "    <tr>\n",
       "      <th>2013-01-10</th>\n",
       "      <td>93.809998</td>\n",
       "      <td>93.218571</td>\n",
       "    </tr>\n",
       "    <tr>\n",
       "      <th>2013-01-11</th>\n",
       "      <td>93.599998</td>\n",
       "      <td>93.284285</td>\n",
       "    </tr>\n",
       "    <tr>\n",
       "      <th>2013-01-14</th>\n",
       "      <td>94.269997</td>\n",
       "      <td>93.469999</td>\n",
       "    </tr>\n",
       "    <tr>\n",
       "      <th>2013-01-15</th>\n",
       "      <td>93.260002</td>\n",
       "      <td>93.489999</td>\n",
       "    </tr>\n",
       "    <tr>\n",
       "      <th>2013-01-16</th>\n",
       "      <td>94.279999</td>\n",
       "      <td>93.644285</td>\n",
       "    </tr>\n",
       "    <tr>\n",
       "      <th>2013-01-17</th>\n",
       "      <td>95.489998</td>\n",
       "      <td>93.969999</td>\n",
       "    </tr>\n",
       "    <tr>\n",
       "      <th>2013-01-18</th>\n",
       "      <td>95.610001</td>\n",
       "      <td>94.331427</td>\n",
       "    </tr>\n",
       "    <tr>\n",
       "      <th>2013-01-21</th>\n",
       "      <td>95.610001</td>\n",
       "      <td>94.331427</td>\n",
       "    </tr>\n",
       "    <tr>\n",
       "      <th>2013-01-22</th>\n",
       "      <td>96.089996</td>\n",
       "      <td>94.331427</td>\n",
       "    </tr>\n",
       "    <tr>\n",
       "      <th>2013-01-23</th>\n",
       "      <td>95.059998</td>\n",
       "      <td>94.331427</td>\n",
       "    </tr>\n",
       "    <tr>\n",
       "      <th>2013-01-24</th>\n",
       "      <td>95.349998</td>\n",
       "      <td>94.331427</td>\n",
       "    </tr>\n",
       "    <tr>\n",
       "      <th>2013-01-25</th>\n",
       "      <td>95.150002</td>\n",
       "      <td>94.331427</td>\n",
       "    </tr>\n",
       "    <tr>\n",
       "      <th>2013-01-28</th>\n",
       "      <td>95.949997</td>\n",
       "      <td>94.331427</td>\n",
       "    </tr>\n",
       "  </tbody>\n",
       "</table>\n",
       "</div>"
      ],
      "text/plain": [
       "            dcoilwtico     ma_oil\n",
       "date                             \n",
       "2013-01-01         NaN        NaN\n",
       "2013-01-02   93.139999        NaN\n",
       "2013-01-03   92.970001        NaN\n",
       "2013-01-04   93.120003        NaN\n",
       "2013-01-07   93.199997        NaN\n",
       "2013-01-08   93.209999        NaN\n",
       "2013-01-09   93.080002        NaN\n",
       "2013-01-10   93.809998  93.218571\n",
       "2013-01-11   93.599998  93.284285\n",
       "2013-01-14   94.269997  93.469999\n",
       "2013-01-15   93.260002  93.489999\n",
       "2013-01-16   94.279999  93.644285\n",
       "2013-01-17   95.489998  93.969999\n",
       "2013-01-18   95.610001  94.331427\n",
       "2013-01-21   95.610001  94.331427\n",
       "2013-01-22   96.089996  94.331427\n",
       "2013-01-23   95.059998  94.331427\n",
       "2013-01-24   95.349998  94.331427\n",
       "2013-01-25   95.150002  94.331427\n",
       "2013-01-28   95.949997  94.331427"
      ]
     },
     "execution_count": 11,
     "metadata": {},
     "output_type": "execute_result"
    }
   ],
   "source": [
    "dfOil.head(20)"
   ]
  },
  {
   "cell_type": "markdown",
   "id": "8e2eb402",
   "metadata": {
    "papermill": {
     "duration": 0.050389,
     "end_time": "2022-05-14T16:36:45.602258",
     "exception": false,
     "start_time": "2022-05-14T16:36:45.551869",
     "status": "completed"
    },
    "tags": []
   },
   "source": [
    "# **Model with Oil** #\n"
   ]
  },
  {
   "cell_type": "markdown",
   "id": "d1001d24",
   "metadata": {
    "papermill": {
     "duration": 0.051223,
     "end_time": "2022-05-14T16:36:45.705888",
     "exception": false,
     "start_time": "2022-05-14T16:36:45.654665",
     "status": "completed"
    },
    "tags": []
   },
   "source": [
    "We started create training  data, used `CalendarFourier`. For determine seasonal we take care `DeterministicProcess`. Futher, we add the Holiday days. "
   ]
  },
  {
   "cell_type": "code",
   "execution_count": 12,
   "id": "d3b422b8",
   "metadata": {
    "execution": {
     "iopub.execute_input": "2022-05-14T16:36:45.819584Z",
     "iopub.status.busy": "2022-05-14T16:36:45.817772Z",
     "iopub.status.idle": "2022-05-14T16:36:47.173820Z",
     "shell.execute_reply": "2022-05-14T16:36:47.173104Z",
     "shell.execute_reply.started": "2022-05-14T16:33:20.887563Z"
    },
    "papermill": {
     "duration": 1.41571,
     "end_time": "2022-05-14T16:36:47.173964",
     "exception": false,
     "start_time": "2022-05-14T16:36:45.758254",
     "status": "completed"
    },
    "tags": []
   },
   "outputs": [],
   "source": [
    "y = store_sales.unstack(['store_nbr', 'family']).loc[timeInitial:] \n",
    "\n",
    "\n",
    "# y = y.join( oil.rename('Oil') , on='date').fillna(method = 'bfill')\n",
    "\n",
    "# Create training data\n",
    "fourier = CalendarFourier(freq='M', order=4)\n",
    "dp = DeterministicProcess(\n",
    "    index=y.index,\n",
    "    constant=True,\n",
    "    order=1,\n",
    "    seasonal=True,\n",
    "    additional_terms=[fourier],\n",
    "    drop=True,\n",
    ")\n",
    "\n",
    "X = dp.in_sample()\n",
    "X['NewYear'] = (X.index.dayofyear == 1)\n",
    "X_holidays = pd.get_dummies(holidays) # add columns on Holidays, more featured, way matricial\n",
    "\n",
    "\n",
    "\n",
    "#X = X.join( oil.rename('Oil') , on='date').fillna(method = 'bfill')\n",
    "\n",
    "oilInitial = oil[timeInitial:] \n",
    "\n",
    "fourier = CalendarFourier(freq='M', order=4)\n",
    "dpOil = DeterministicProcess(\n",
    "    index=oilInitial.index,\n",
    "    constant=True,\n",
    "    order=1,\n",
    "    seasonal=True,\n",
    "    additional_terms=[fourier],\n",
    "    drop=True,\n",
    ")\n",
    "\n",
    "Xoil = dpOil.in_sample()\n",
    "\n",
    "Xoil.head()\n",
    "\n",
    "#X1 = X.join( Xoil , on='date', rsuffix='RT').fillna(method = 'ffill')\n",
    "X1 = X.copy()"
   ]
  },
  {
   "cell_type": "code",
   "execution_count": 13,
   "id": "75d067e2",
   "metadata": {
    "execution": {
     "iopub.execute_input": "2022-05-14T16:36:47.289267Z",
     "iopub.status.busy": "2022-05-14T16:36:47.288600Z",
     "iopub.status.idle": "2022-05-14T16:36:47.299811Z",
     "shell.execute_reply": "2022-05-14T16:36:47.299003Z",
     "shell.execute_reply.started": "2022-05-14T16:33:22.259054Z"
    },
    "papermill": {
     "duration": 0.072784,
     "end_time": "2022-05-14T16:36:47.300042",
     "exception": false,
     "start_time": "2022-05-14T16:36:47.227258",
     "status": "completed"
    },
    "tags": []
   },
   "outputs": [
    {
     "name": "stdout",
     "output_type": "stream",
     "text": [
      "Num_null:  0\n"
     ]
    }
   ],
   "source": [
    "X2 = X1.join(X_holidays, on='date').fillna(0.0)\n",
    "\n",
    "missingValueCount = X2.isnull().sum()\n",
    "print('Num_null: ' , missingValueCount.sum() )\n",
    "#X2 = X2.dropna()\n",
    "#X2 = X2.fillna(0)"
   ]
  },
  {
   "cell_type": "markdown",
   "id": "965233d5",
   "metadata": {
    "papermill": {
     "duration": 0.051567,
     "end_time": "2022-05-14T16:36:47.406088",
     "exception": false,
     "start_time": "2022-05-14T16:36:47.354521",
     "status": "completed"
    },
    "tags": []
   },
   "source": [
    "Add new columns to train set. From Lag's graph, we consider seven Lags."
   ]
  },
  {
   "cell_type": "code",
   "execution_count": 14,
   "id": "4b41b633",
   "metadata": {
    "execution": {
     "iopub.execute_input": "2022-05-14T16:36:47.523369Z",
     "iopub.status.busy": "2022-05-14T16:36:47.520385Z",
     "iopub.status.idle": "2022-05-14T16:36:47.535685Z",
     "shell.execute_reply": "2022-05-14T16:36:47.536212Z",
     "shell.execute_reply.started": "2022-05-14T16:33:22.274406Z"
    },
    "papermill": {
     "duration": 0.077364,
     "end_time": "2022-05-14T16:36:47.536407",
     "exception": false,
     "start_time": "2022-05-14T16:36:47.459043",
     "status": "completed"
    },
    "tags": []
   },
   "outputs": [],
   "source": [
    "X2['Onpromotion'] = average_sales['onpromotion']\n",
    "X2['Oil'] = dfOil['ma_oil']\n",
    "X2['OilLag1'] = dfOil['ma_oil'].shift(1)\n",
    "\n",
    "#X2.Oil.fillna(value = oil.mean() , inplace=True ) # drop values NaNs\n",
    "#X2.fillna(method='ffill') # drop values NaNs\n",
    "\n",
    "#X2['salesLag1'] = average_sales.sales.shift(periods=1, freq='D')\n",
    "#X2['salesLag2'] = average_sales.sales.shift(2)\n",
    "X2['salesLag7'] = average_sales.sales.shift(7)\n",
    "\n",
    "#X2.fillna(method='ffill') # drop values NaNs\n",
    "X2.dropna(how='any', axis=0, inplace=True) # drop values NaNs\n",
    "dateRange =  X2.index\n",
    "\n",
    "# train set and target train\n",
    "y_train = y.loc[dateRange]\n",
    "Xtrain=X2.copy()"
   ]
  },
  {
   "cell_type": "markdown",
   "id": "0b6e32ad",
   "metadata": {
    "papermill": {
     "duration": 0.053143,
     "end_time": "2022-05-14T16:36:47.643144",
     "exception": false,
     "start_time": "2022-05-14T16:36:47.590001",
     "status": "completed"
    },
    "tags": []
   },
   "source": [
    "#  **Hybrid Model**\n",
    "\n",
    "First  model to get us seasonal information. Meanwhile, the second model will take care of training the rest of the data.\n",
    "While, second model to  training  rest of train set."
   ]
  },
  {
   "cell_type": "code",
   "execution_count": 15,
   "id": "9877cd8e",
   "metadata": {
    "execution": {
     "iopub.execute_input": "2022-05-14T16:36:47.767027Z",
     "iopub.status.busy": "2022-05-14T16:36:47.756882Z",
     "iopub.status.idle": "2022-05-14T16:37:09.816676Z",
     "shell.execute_reply": "2022-05-14T16:37:09.817841Z",
     "shell.execute_reply.started": "2022-05-14T16:33:22.297057Z"
    },
    "papermill": {
     "duration": 22.122601,
     "end_time": "2022-05-14T16:37:09.818129",
     "exception": false,
     "start_time": "2022-05-14T16:36:47.695528",
     "status": "completed"
    },
    "tags": []
   },
   "outputs": [],
   "source": [
    "# The data set is already  divided, test Train\n",
    "model1 = RandomForestRegressor(random_state = 42)\n",
    "model1.fit(Xtrain, y_train)\n",
    "\n",
    "y_fit = model1.predict(Xtrain)\n",
    "\n",
    "y_resid = y_train - y_fit\n",
    "\n",
    "\n",
    "\n",
    "#model = LinearRegression(fit_intercept=False)\n",
    "model = LinearRegression()\n",
    "\n",
    "# model = LGBMRegressor(random_state = 42) \"not work with  mulpli-columns\"\n",
    "\n",
    "model.fit(Xtrain, y_resid)\n",
    "y_pred = pd.DataFrame(model.predict(Xtrain), index=Xtrain.index, columns=y_train.columns)\n",
    "\n",
    "\n",
    "yLR_RF = y_pred + y_fit\n",
    "#y_pred_boosted = xgb.predict(X_test) + y_pred"
   ]
  },
  {
   "cell_type": "markdown",
   "id": "791a633e",
   "metadata": {
    "papermill": {
     "duration": 0.057391,
     "end_time": "2022-05-14T16:37:10.000986",
     "exception": false,
     "start_time": "2022-05-14T16:37:09.943595",
     "status": "completed"
    },
    "tags": []
   },
   "source": [
    "In the next figure, we see the `Produce` sales at Store 1, compare the value of sales and value prediction by the hybrid model."
   ]
  },
  {
   "cell_type": "code",
   "execution_count": 16,
   "id": "63987faa",
   "metadata": {
    "execution": {
     "iopub.execute_input": "2022-05-14T16:37:10.122779Z",
     "iopub.status.busy": "2022-05-14T16:37:10.121289Z",
     "iopub.status.idle": "2022-05-14T16:37:10.685167Z",
     "shell.execute_reply": "2022-05-14T16:37:10.685682Z",
     "shell.execute_reply.started": "2022-05-14T16:33:43.977023Z"
    },
    "papermill": {
     "duration": 0.626638,
     "end_time": "2022-05-14T16:37:10.685862",
     "exception": false,
     "start_time": "2022-05-14T16:37:10.059224",
     "status": "completed"
    },
    "tags": []
   },
   "outputs": [
    {
     "data": {
      "text/plain": [
       "CategoricalIndex(['AUTOMOTIVE', 'BABY CARE', 'BEAUTY', 'BEVERAGES', 'BOOKS',\n",
       "                  'BREAD/BAKERY', 'CELEBRATION', 'CLEANING', 'DAIRY', 'DELI',\n",
       "                  'EGGS', 'FROZEN FOODS', 'GROCERY I', 'GROCERY II',\n",
       "                  'HARDWARE', 'HOME AND KITCHEN I', 'HOME AND KITCHEN II',\n",
       "                  'HOME APPLIANCES', 'HOME CARE', 'LADIESWEAR',\n",
       "                  'LAWN AND GARDEN', 'LINGERIE', 'LIQUOR,WINE,BEER',\n",
       "                  'MAGAZINES', 'MEATS', 'PERSONAL CARE', 'PET SUPPLIES',\n",
       "                  'PLAYERS AND ELECTRONICS', 'POULTRY', 'PREPARED FOODS',\n",
       "                  'PRODUCE', 'SCHOOL AND OFFICE SUPPLIES', 'SEAFOOD'],\n",
       "                 categories=['AUTOMOTIVE', 'BABY CARE', 'BEAUTY', 'BEVERAGES', 'BOOKS', 'BREAD/BAKERY', 'CELEBRATION', 'CLEANING', ...], ordered=False, dtype='category', name='family')"
      ]
     },
     "metadata": {},
     "output_type": "display_data"
    },
    {
     "data": {
      "image/png": "[encoded data removed]",
      "text/plain": [
       "<Figure size 432x288 with 1 Axes>"
      ]
     },
     "metadata": {
      "needs_background": "light"
     },
     "output_type": "display_data"
    }
   ],
   "source": [
    "STORE_NBR = '1'  # 1 - 54\n",
    "FAMILY = 'PRODUCE'\n",
    "# Uncomment to see a list of product families\n",
    "display(store_sales.index.get_level_values('family').unique())\n",
    "\n",
    "ax = y_train.loc(axis=1)['sales', STORE_NBR, FAMILY].plot(**plot_params) # choose single store 1 and family equal produce. \n",
    "ax = yLR_RF.loc(axis=1)['sales', STORE_NBR, FAMILY].plot(ax=ax, color='red')\n",
    "ax.set_title(f'{FAMILY} Sales at Store {STORE_NBR}');"
   ]
  },
  {
   "cell_type": "markdown",
   "id": "302ff274",
   "metadata": {
    "papermill": {
     "duration": 0.053728,
     "end_time": "2022-05-14T16:37:10.792542",
     "exception": false,
     "start_time": "2022-05-14T16:37:10.738814",
     "status": "completed"
    },
    "tags": []
   },
   "source": [
    "### Metrics\n",
    "\n",
    "It's calculating two metrics:\n",
    "\n",
    "- Mean Absolute Error MAE\n",
    "- Root Mean Squared Log Error RMSE"
   ]
  },
  {
   "cell_type": "code",
   "execution_count": 17,
   "id": "9e98d0ad",
   "metadata": {
    "execution": {
     "iopub.execute_input": "2022-05-14T16:37:10.911641Z",
     "iopub.status.busy": "2022-05-14T16:37:10.910945Z",
     "iopub.status.idle": "2022-05-14T16:37:10.915104Z",
     "shell.execute_reply": "2022-05-14T16:37:10.915975Z",
     "shell.execute_reply.started": "2022-05-14T16:33:44.585070Z"
    },
    "papermill": {
     "duration": 0.069917,
     "end_time": "2022-05-14T16:37:10.916200",
     "exception": false,
     "start_time": "2022-05-14T16:37:10.846283",
     "status": "completed"
    },
    "tags": []
   },
   "outputs": [
    {
     "name": "stdout",
     "output_type": "stream",
     "text": [
      "MAE: 86.894 \n",
      " RMSE 135.334 \n",
      " RMSLE 0.064\n"
     ]
    }
   ],
   "source": [
    "Y = y_train.loc(axis=1)['sales', STORE_NBR, FAMILY]\n",
    "Ypred = yLR_RF.loc(axis=1)['sales', STORE_NBR, FAMILY]\n",
    "\n",
    "mae = np.round(mean_absolute_error(Y, Ypred), 3)  \n",
    "rmse =  np.round(mean_squared_error(Y, Ypred)**0.5, 3 )\n",
    "rmsle =  np.round(mean_squared_log_error(Y, Ypred)**0.5, 3 )\n",
    "\n",
    "\n",
    "print('MAE:', mae, '\\n', \n",
    "      'RMSE', rmse, '\\n',       \n",
    "      'RMSLE', rmsle)"
   ]
  },
  {
   "cell_type": "markdown",
   "id": "4c5ed95f",
   "metadata": {
    "papermill": {
     "duration": 0.052245,
     "end_time": "2022-05-14T16:37:11.025187",
     "exception": false,
     "start_time": "2022-05-14T16:37:10.972942",
     "status": "completed"
    },
    "tags": []
   },
   "source": [
    "# Test set\n",
    "\n",
    "The test set, building with same variables the train set, it has 16 steps.\n",
    "\n",
    "### Missing Values ###"
   ]
  },
  {
   "cell_type": "code",
   "execution_count": 18,
   "id": "8a8e4299",
   "metadata": {
    "execution": {
     "iopub.execute_input": "2022-05-14T16:37:11.137857Z",
     "iopub.status.busy": "2022-05-14T16:37:11.137201Z",
     "iopub.status.idle": "2022-05-14T16:37:11.197804Z",
     "shell.execute_reply": "2022-05-14T16:37:11.198591Z",
     "shell.execute_reply.started": "2022-05-14T16:33:44.597521Z"
    },
    "papermill": {
     "duration": 0.119195,
     "end_time": "2022-05-14T16:37:11.198837",
     "exception": false,
     "start_time": "2022-05-14T16:37:11.079642",
     "status": "completed"
    },
    "tags": []
   },
   "outputs": [
    {
     "name": "stdout",
     "output_type": "stream",
     "text": [
      "<class 'pandas.core.frame.DataFrame'>\n",
      "PeriodIndex: 16 entries, 2017-08-16 to 2017-08-31\n",
      "Freq: D\n",
      "Data columns (total 17 columns):\n",
      " #   Column         Non-Null Count  Dtype  \n",
      "---  ------         --------------  -----  \n",
      " 0   const          16 non-null     float64\n",
      " 1   trend          16 non-null     float64\n",
      " 2   s(2,7)         16 non-null     float64\n",
      " 3   s(3,7)         16 non-null     float64\n",
      " 4   s(4,7)         16 non-null     float64\n",
      " 5   s(5,7)         16 non-null     float64\n",
      " 6   s(6,7)         16 non-null     float64\n",
      " 7   s(7,7)         16 non-null     float64\n",
      " 8   sin(1,freq=M)  16 non-null     float64\n",
      " 9   cos(1,freq=M)  16 non-null     float64\n",
      " 10  sin(2,freq=M)  16 non-null     float64\n",
      " 11  cos(2,freq=M)  16 non-null     float64\n",
      " 12  sin(3,freq=M)  16 non-null     float64\n",
      " 13  cos(3,freq=M)  16 non-null     float64\n",
      " 14  sin(4,freq=M)  16 non-null     float64\n",
      " 15  cos(4,freq=M)  16 non-null     float64\n",
      " 16  NewYear        16 non-null     bool   \n",
      "dtypes: bool(1), float64(16)\n",
      "memory usage: 2.1 KB\n"
     ]
    }
   ],
   "source": [
    "df_test = pd.read_csv(\n",
    "    comp_dir / 'test.csv',\n",
    "    dtype={\n",
    "        'store_nbr': 'category',\n",
    "        'family': 'category',\n",
    "        'onpromotion': 'uint32',\n",
    "    },\n",
    "    parse_dates=['date'],\n",
    "    infer_datetime_format=True,\n",
    ")\n",
    "\n",
    "df_test['date'] = df_test.date.dt.to_period('D')\n",
    "df_test = df_test.set_index(['store_nbr', 'family', 'date']).sort_index()\n",
    "\n",
    "\n",
    "average_sales_test = (\n",
    "    df_test\n",
    "    .groupby('date').mean()\n",
    "    .squeeze()\n",
    "    .loc['2017']\n",
    ")\n",
    "\n",
    "\n",
    "#df_test = df_test.loc['2017'] \n",
    "# Create features for test set\n",
    "X_test = dp.out_of_sample(steps=16)\n",
    "X_test.index.name = 'date'\n",
    "X_test['NewYear'] = (X_test.index.dayofyear == 1)\n",
    "#X_test = X_test.join( oil.rename('Oil') , on='date').fillna(method = 'bfill')\n",
    "#X_test1 = X_test.join( Xoil , on='date', rsuffix='RT').fillna(method = 'bfill')\n",
    "\n",
    "X_test1 =  X_test.copy()\n",
    "X_test1.info()"
   ]
  },
  {
   "cell_type": "markdown",
   "id": "98bfbedf",
   "metadata": {
    "papermill": {
     "duration": 0.052651,
     "end_time": "2022-05-14T16:37:11.305515",
     "exception": false,
     "start_time": "2022-05-14T16:37:11.252864",
     "status": "completed"
    },
    "tags": []
   },
   "source": [
    "Preparation Test set."
   ]
  },
  {
   "cell_type": "code",
   "execution_count": 19,
   "id": "93a97cac",
   "metadata": {
    "execution": {
     "iopub.execute_input": "2022-05-14T16:37:11.417453Z",
     "iopub.status.busy": "2022-05-14T16:37:11.416742Z",
     "iopub.status.idle": "2022-05-14T16:37:11.428504Z",
     "shell.execute_reply": "2022-05-14T16:37:11.428992Z",
     "shell.execute_reply.started": "2022-05-14T16:33:44.664414Z"
    },
    "papermill": {
     "duration": 0.069651,
     "end_time": "2022-05-14T16:37:11.429157",
     "exception": false,
     "start_time": "2022-05-14T16:37:11.359506",
     "status": "completed"
    },
    "tags": []
   },
   "outputs": [],
   "source": [
    "X_test2 = X_test1.join(X_holidays, on='date').fillna(0.0)\n",
    "\n",
    "X_test2['Onpromotion'] = average_sales_test['onpromotion']\n",
    "#X_test2['Oil'] = oil\n",
    "X_test2['Oil'] = dfOil['ma_oil']\n",
    "\n",
    "X_test2['OilLag1'] = oil.shift(1)\n",
    "\n",
    "#X_test2.fillna(method='ffill', inplace=True)\n",
    "\n",
    "\n",
    "#X_test2['OilLagsOne'] = oil.shift(periods=1, freq='D')\n",
    "#X_test2['salesLag1'] = average_sales.sales.shift(periods=16, freq='D')\n",
    "#X_test2['salesLag2'] = average_sales.sales.shift(periods=16, freq='D')\n",
    "X_test2['salesLag7'] = average_sales.sales.shift(periods=16, freq='D')\n",
    "\n",
    "\n"
   ]
  },
  {
   "cell_type": "code",
   "execution_count": 20,
   "id": "21b9698a",
   "metadata": {
    "execution": {
     "iopub.execute_input": "2022-05-14T16:37:11.541733Z",
     "iopub.status.busy": "2022-05-14T16:37:11.541080Z",
     "iopub.status.idle": "2022-05-14T16:37:11.545605Z",
     "shell.execute_reply": "2022-05-14T16:37:11.546114Z",
     "shell.execute_reply.started": "2022-05-14T16:33:44.680118Z"
    },
    "papermill": {
     "duration": 0.063104,
     "end_time": "2022-05-14T16:37:11.546295",
     "exception": false,
     "start_time": "2022-05-14T16:37:11.483191",
     "status": "completed"
    },
    "tags": []
   },
   "outputs": [],
   "source": [
    "X_test2.fillna(method='ffill', inplace=True)"
   ]
  },
  {
   "cell_type": "code",
   "execution_count": 21,
   "id": "f2672baa",
   "metadata": {
    "execution": {
     "iopub.execute_input": "2022-05-14T16:37:11.656961Z",
     "iopub.status.busy": "2022-05-14T16:37:11.656203Z",
     "iopub.status.idle": "2022-05-14T16:37:11.693453Z",
     "shell.execute_reply": "2022-05-14T16:37:11.694478Z",
     "shell.execute_reply.started": "2022-05-14T16:33:44.687359Z"
    },
    "papermill": {
     "duration": 0.095097,
     "end_time": "2022-05-14T16:37:11.694753",
     "exception": false,
     "start_time": "2022-05-14T16:37:11.599656",
     "status": "completed"
    },
    "tags": []
   },
   "outputs": [
    {
     "name": "stdout",
     "output_type": "stream",
     "text": [
      "(16, 3564) \n",
      "  (16, 3564)\n"
     ]
    }
   ],
   "source": [
    "y_pred1 = model1.predict(X_test2)\n",
    "y_pred2 = model.predict(X_test2)\n",
    "\n",
    "print(y_pred1.shape, '\\n ',  y_pred2.shape)"
   ]
  },
  {
   "cell_type": "code",
   "execution_count": 22,
   "id": "7d3e1d34",
   "metadata": {
    "execution": {
     "iopub.execute_input": "2022-05-14T16:37:11.864839Z",
     "iopub.status.busy": "2022-05-14T16:37:11.864148Z",
     "iopub.status.idle": "2022-05-14T16:37:11.866087Z",
     "shell.execute_reply": "2022-05-14T16:37:11.865545Z",
     "shell.execute_reply.started": "2022-05-14T16:33:44.732434Z"
    },
    "papermill": {
     "duration": 0.05982,
     "end_time": "2022-05-14T16:37:11.866217",
     "exception": false,
     "start_time": "2022-05-14T16:37:11.806397",
     "status": "completed"
    },
    "tags": []
   },
   "outputs": [],
   "source": [
    "y_final = y_pred2 + y_pred1\n"
   ]
  },
  {
   "cell_type": "markdown",
   "id": "0437f40d",
   "metadata": {
    "papermill": {
     "duration": 0.057183,
     "end_time": "2022-05-14T16:37:11.978401",
     "exception": false,
     "start_time": "2022-05-14T16:37:11.921218",
     "status": "completed"
    },
    "tags": []
   },
   "source": [
    "## Creation Submit\n",
    "\n"
   ]
  },
  {
   "cell_type": "code",
   "execution_count": 23,
   "id": "cf6284a8",
   "metadata": {
    "execution": {
     "iopub.execute_input": "2022-05-14T16:37:12.095128Z",
     "iopub.status.busy": "2022-05-14T16:37:12.094491Z",
     "iopub.status.idle": "2022-05-14T16:37:12.551952Z",
     "shell.execute_reply": "2022-05-14T16:37:12.551122Z",
     "shell.execute_reply.started": "2022-05-14T16:33:44.740367Z"
    },
    "papermill": {
     "duration": 0.517271,
     "end_time": "2022-05-14T16:37:12.552123",
     "exception": false,
     "start_time": "2022-05-14T16:37:12.034852",
     "status": "completed"
    },
    "tags": []
   },
   "outputs": [],
   "source": [
    "y_submit = pd.DataFrame(y_final, index=X_test2.index, columns=y.columns)\n",
    "y_submit = y_submit.stack(['store_nbr', 'family'])\n",
    "y_submit = y_submit.join(df_test.id).reindex(columns=['id', 'sales'])\n",
    "y_submit.to_csv('submission.csv', index=False)"
   ]
  },
  {
   "cell_type": "code",
   "execution_count": 24,
   "id": "8dd2f429",
   "metadata": {
    "execution": {
     "iopub.execute_input": "2022-05-14T16:37:12.665278Z",
     "iopub.status.busy": "2022-05-14T16:37:12.664385Z",
     "iopub.status.idle": "2022-05-14T16:37:12.667072Z",
     "shell.execute_reply": "2022-05-14T16:37:12.666495Z",
     "shell.execute_reply.started": "2022-05-14T16:33:45.225094Z"
    },
    "papermill": {
     "duration": 0.060889,
     "end_time": "2022-05-14T16:37:12.667207",
     "exception": false,
     "start_time": "2022-05-14T16:37:12.606318",
     "status": "completed"
    },
    "tags": []
   },
   "outputs": [],
   "source": [
    "\n",
    "#from datetime import datetime\n",
    "\n",
    "#now = datetime.now()\n",
    "#print('\\n', now)\n"
   ]
  },
  {
   "cell_type": "markdown",
   "id": "c9d81966",
   "metadata": {
    "execution": {
     "iopub.execute_input": "2022-05-13T00:46:44.238365Z",
     "iopub.status.busy": "2022-05-13T00:46:44.237872Z",
     "iopub.status.idle": "2022-05-13T00:46:44.251793Z",
     "shell.execute_reply": "2022-05-13T00:46:44.250084Z",
     "shell.execute_reply.started": "2022-05-13T00:46:44.238303Z"
    },
    "papermill": {
     "duration": 0.053559,
     "end_time": "2022-05-14T16:37:12.774796",
     "exception": false,
     "start_time": "2022-05-14T16:37:12.721237",
     "status": "completed"
    },
    "tags": []
   },
   "source": [
    "File submit."
   ]
  },
  {
   "cell_type": "code",
   "execution_count": 25,
   "id": "d76abb64",
   "metadata": {
    "execution": {
     "iopub.execute_input": "2022-05-14T16:37:12.893725Z",
     "iopub.status.busy": "2022-05-14T16:37:12.893097Z",
     "iopub.status.idle": "2022-05-14T16:37:12.895654Z",
     "shell.execute_reply": "2022-05-14T16:37:12.896174Z",
     "shell.execute_reply.started": "2022-05-14T16:33:45.233878Z"
    },
    "papermill": {
     "duration": 0.067209,
     "end_time": "2022-05-14T16:37:12.896329",
     "exception": false,
     "start_time": "2022-05-14T16:37:12.829120",
     "status": "completed"
    },
    "tags": []
   },
   "outputs": [
    {
     "data": {
      "text/html": [
       "<div>\n",
       "<style scoped>\n",
       "    .dataframe tbody tr th:only-of-type {\n",
       "        vertical-align: middle;\n",
       "    }\n",
       "\n",
       "    .dataframe tbody tr th {\n",
       "        vertical-align: top;\n",
       "    }\n",
       "\n",
       "    .dataframe thead th {\n",
       "        text-align: right;\n",
       "    }\n",
       "</style>\n",
       "<table border=\"1\" class=\"dataframe\">\n",
       "  <thead>\n",
       "    <tr style=\"text-align: right;\">\n",
       "      <th></th>\n",
       "      <th></th>\n",
       "      <th></th>\n",
       "      <th>id</th>\n",
       "      <th>sales</th>\n",
       "    </tr>\n",
       "    <tr>\n",
       "      <th>date</th>\n",
       "      <th>store_nbr</th>\n",
       "      <th>family</th>\n",
       "      <th></th>\n",
       "      <th></th>\n",
       "    </tr>\n",
       "  </thead>\n",
       "  <tbody>\n",
       "    <tr>\n",
       "      <th rowspan=\"5\" valign=\"top\">2017-08-16</th>\n",
       "      <th rowspan=\"5\" valign=\"top\">1</th>\n",
       "      <th>AUTOMOTIVE</th>\n",
       "      <td>3000888</td>\n",
       "      <td>2.534461</td>\n",
       "    </tr>\n",
       "    <tr>\n",
       "      <th>BABY CARE</th>\n",
       "      <td>3000889</td>\n",
       "      <td>0.000000</td>\n",
       "    </tr>\n",
       "    <tr>\n",
       "      <th>BEAUTY</th>\n",
       "      <td>3000890</td>\n",
       "      <td>4.582500</td>\n",
       "    </tr>\n",
       "    <tr>\n",
       "      <th>BEVERAGES</th>\n",
       "      <td>3000891</td>\n",
       "      <td>2474.350110</td>\n",
       "    </tr>\n",
       "    <tr>\n",
       "      <th>BOOKS</th>\n",
       "      <td>3000892</td>\n",
       "      <td>0.718859</td>\n",
       "    </tr>\n",
       "  </tbody>\n",
       "</table>\n",
       "</div>"
      ],
      "text/plain": [
       "                                      id        sales\n",
       "date       store_nbr family                          \n",
       "2017-08-16 1         AUTOMOTIVE  3000888     2.534461\n",
       "                     BABY CARE   3000889     0.000000\n",
       "                     BEAUTY      3000890     4.582500\n",
       "                     BEVERAGES   3000891  2474.350110\n",
       "                     BOOKS       3000892     0.718859"
      ]
     },
     "execution_count": 25,
     "metadata": {},
     "output_type": "execute_result"
    }
   ],
   "source": [
    "y_submit.head()\n"
   ]
  },
  {
   "cell_type": "markdown",
   "id": "ac9b86d4",
   "metadata": {
    "papermill": {
     "duration": 0.056746,
     "end_time": "2022-05-14T16:37:13.007776",
     "exception": false,
     "start_time": "2022-05-14T16:37:12.951030",
     "status": "completed"
    },
    "tags": []
   },
   "source": [
    "## Pre-Processing ##"
   ]
  },
  {
   "cell_type": "markdown",
   "id": "1b6c2c6e",
   "metadata": {
    "papermill": {
     "duration": 0.057818,
     "end_time": "2022-05-14T16:37:13.120183",
     "exception": false,
     "start_time": "2022-05-14T16:37:13.062365",
     "status": "completed"
    },
    "tags": []
   },
   "source": [
    "### Selection only Giants or Dwarfs ###"
   ]
  },
  {
   "cell_type": "markdown",
   "id": "2376dc9a",
   "metadata": {
    "papermill": {
     "duration": 0.054212,
     "end_time": "2022-05-14T16:37:13.230709",
     "exception": false,
     "start_time": "2022-05-14T16:37:13.176497",
     "status": "completed"
    },
    "tags": []
   },
   "source": [
    "## Balance ##"
   ]
  },
  {
   "cell_type": "code",
   "execution_count": 26,
   "id": "55830f8e",
   "metadata": {
    "execution": {
     "iopub.execute_input": "2022-05-14T16:37:13.345138Z",
     "iopub.status.busy": "2022-05-14T16:37:13.344387Z",
     "iopub.status.idle": "2022-05-14T16:37:13.348245Z",
     "shell.execute_reply": "2022-05-14T16:37:13.348805Z",
     "shell.execute_reply.started": "2022-05-14T16:33:45.251366Z"
    },
    "papermill": {
     "duration": 0.063054,
     "end_time": "2022-05-14T16:37:13.348999",
     "exception": false,
     "start_time": "2022-05-14T16:37:13.285945",
     "status": "completed"
    },
    "tags": []
   },
   "outputs": [],
   "source": [
    "# dividir set \n",
    "\n",
    "\n",
    "\n",
    "# from sklearn.utils import resample\n",
    "# dfGiantsDownSample = resample(dfGiants, \n",
    "  #                           replace = False, # sample without replacement\n",
    "   #                          n_samples = num_of_dwarf,\n",
    "   #                          random_state =1 \n",
    " #                            )\n",
    "#dfDownSampled = pd.concat([dfGiantsDownSample , dfDwarfs] )\n",
    "\n",
    "#dfBalanced= dfDownSampled.reset_index(drop=True)\n",
    "\n",
    "# dataStar = dfBalanced.sample(frac=1).reset_index(drop=True) # shuffle\n",
    "# dfCopyStar = dataStar.copy()"
   ]
  },
  {
   "cell_type": "markdown",
   "id": "0d0942b3",
   "metadata": {
    "papermill": {
     "duration": 0.055266,
     "end_time": "2022-05-14T16:37:13.460780",
     "exception": false,
     "start_time": "2022-05-14T16:37:13.405514",
     "status": "completed"
    },
    "tags": []
   },
   "source": [
    "## Visualization ##"
   ]
  },
  {
   "cell_type": "markdown",
   "id": "24fd304a",
   "metadata": {
    "papermill": {
     "duration": 0.055365,
     "end_time": "2022-05-14T16:37:13.573143",
     "exception": false,
     "start_time": "2022-05-14T16:37:13.517778",
     "status": "completed"
    },
    "tags": []
   },
   "source": [
    "## Correlation Linear ##"
   ]
  },
  {
   "cell_type": "markdown",
   "id": "ce176e97",
   "metadata": {
    "papermill": {
     "duration": 0.056457,
     "end_time": "2022-05-14T16:37:13.684923",
     "exception": false,
     "start_time": "2022-05-14T16:37:13.628466",
     "status": "completed"
    },
    "tags": []
   },
   "source": [
    "## Data Cleaning ##"
   ]
  },
  {
   "cell_type": "markdown",
   "id": "89b3a053",
   "metadata": {
    "papermill": {
     "duration": 0.05618,
     "end_time": "2022-05-14T16:37:13.796199",
     "exception": false,
     "start_time": "2022-05-14T16:37:13.740019",
     "status": "completed"
    },
    "tags": []
   },
   "source": [
    "# **Data Processing** #"
   ]
  },
  {
   "cell_type": "markdown",
   "id": "5a7e2149",
   "metadata": {
    "papermill": {
     "duration": 0.060892,
     "end_time": "2022-05-14T16:37:13.914783",
     "exception": false,
     "start_time": "2022-05-14T16:37:13.853891",
     "status": "completed"
    },
    "tags": []
   },
   "source": [
    "### Train and test Set ###"
   ]
  },
  {
   "cell_type": "code",
   "execution_count": 27,
   "id": "0c3c3f54",
   "metadata": {
    "execution": {
     "iopub.execute_input": "2022-05-14T16:37:14.034766Z",
     "iopub.status.busy": "2022-05-14T16:37:14.033683Z",
     "iopub.status.idle": "2022-05-14T16:37:14.035670Z",
     "shell.execute_reply": "2022-05-14T16:37:14.036219Z",
     "shell.execute_reply.started": "2022-05-14T16:33:45.259672Z"
    },
    "papermill": {
     "duration": 0.064027,
     "end_time": "2022-05-14T16:37:14.036387",
     "exception": false,
     "start_time": "2022-05-14T16:37:13.972360",
     "status": "completed"
    },
    "tags": []
   },
   "outputs": [],
   "source": [
    "## Stratified ##\n",
    "#from sklearn.model_selection import StratifiedShuffleSplit\n",
    "#split = StratifiedShuffleSplit(n_splits=1, test_size=0.2, random_state=42)\n",
    "#for train_index, test_index in split.split(data, data[\"variableStratificada\"]):\n",
    "#strat_train_set = housing.loc[train_index]\n",
    "#strat_test_set = housing.loc[test_index]\n",
    "\n",
    "#from  sklearn.impute import SimpleImputer\n",
    "#imputer = SimpleImputer(strategy='median')\n",
    "\n",
    "#from  sklearn.preprocessing import OneHotEncoder\n",
    "#catEncoder = OneHotEncoder()\n",
    "\n",
    "## numerical ##\n",
    "#from  sklearn.pipeline import Pipeline\n",
    "#from  sklearn.preprocessing import StandardScaler\n",
    "#numerical_pipeline = Pipeline([('imputer', SimpleImputer(strategy=\"median\")),('attribs_adder', CombinedAttributesAdder()),])\n",
    "# new_variable_transformed_numerical = num_pipeline.fit_transform(varible_numerica)\n",
    "\n",
    "## numerical and categorial ##\n",
    "#from sklearn import ColumnTransformer\n",
    "#numerical_attribs = list(numerical_columns)\n",
    "#categorical_attribs = list(categorial_columns)\n",
    "#full_pipeline = ColumnTransformer([(\"num\", numerical_pipeline, numerical_attribs),(\"cat\", OneHotEncoder(), categorical_attribs),])\n",
    "#dataTotal_prepared = full_pipeline.fit_transform(dataTotal) "
   ]
  },
  {
   "cell_type": "markdown",
   "id": "4bbe42c1",
   "metadata": {
    "papermill": {
     "duration": 0.05368,
     "end_time": "2022-05-14T16:37:14.147662",
     "exception": false,
     "start_time": "2022-05-14T16:37:14.093982",
     "status": "completed"
    },
    "tags": []
   },
   "source": [
    "## Target ## "
   ]
  },
  {
   "cell_type": "markdown",
   "id": "f0401a51",
   "metadata": {
    "papermill": {
     "duration": 0.053591,
     "end_time": "2022-05-14T16:37:14.254979",
     "exception": false,
     "start_time": "2022-05-14T16:37:14.201388",
     "status": "completed"
    },
    "tags": []
   },
   "source": [
    "## Featuring Engineering ##"
   ]
  },
  {
   "cell_type": "markdown",
   "id": "af880118",
   "metadata": {
    "papermill": {
     "duration": 0.053711,
     "end_time": "2022-05-14T16:37:14.362907",
     "exception": false,
     "start_time": "2022-05-14T16:37:14.309196",
     "status": "completed"
    },
    "tags": []
   },
   "source": [
    "##  Pipeline and Featuring Scaling ##"
   ]
  },
  {
   "cell_type": "markdown",
   "id": "2a17f323",
   "metadata": {
    "papermill": {
     "duration": 0.053733,
     "end_time": "2022-05-14T16:37:14.472048",
     "exception": false,
     "start_time": "2022-05-14T16:37:14.418315",
     "status": "completed"
    },
    "tags": []
   },
   "source": [
    " # **MODEL** # "
   ]
  },
  {
   "cell_type": "markdown",
   "id": "572c863b",
   "metadata": {
    "papermill": {
     "duration": 0.053503,
     "end_time": "2022-05-14T16:37:14.579186",
     "exception": false,
     "start_time": "2022-05-14T16:37:14.525683",
     "status": "completed"
    },
    "tags": []
   },
   "source": [
    "#### Models ####"
   ]
  },
  {
   "cell_type": "code",
   "execution_count": 28,
   "id": "a226352c",
   "metadata": {
    "execution": {
     "iopub.execute_input": "2022-05-14T16:37:14.690918Z",
     "iopub.status.busy": "2022-05-14T16:37:14.689979Z",
     "iopub.status.idle": "2022-05-14T16:37:14.694381Z",
     "shell.execute_reply": "2022-05-14T16:37:14.693934Z",
     "shell.execute_reply.started": "2022-05-14T16:33:45.275708Z"
    },
    "papermill": {
     "duration": 0.061243,
     "end_time": "2022-05-14T16:37:14.694559",
     "exception": false,
     "start_time": "2022-05-14T16:37:14.633316",
     "status": "completed"
    },
    "tags": []
   },
   "outputs": [],
   "source": [
    "### stratified CV ### see pag 136  Geron's book\n",
    "#from sklearn.model_selection import StratifiedKFold\n",
    "#from sklearn.base import clone\n",
    "#skfolds = StratifiedKFold(n_splits=3, random_state=42)"
   ]
  },
  {
   "cell_type": "markdown",
   "id": "1335ed6d",
   "metadata": {
    "papermill": {
     "duration": 0.05348,
     "end_time": "2022-05-14T16:37:14.803405",
     "exception": false,
     "start_time": "2022-05-14T16:37:14.749925",
     "status": "completed"
    },
    "tags": []
   },
   "source": [
    "# **Refinament** #"
   ]
  },
  {
   "cell_type": "code",
   "execution_count": null,
   "id": "1162505b",
   "metadata": {
    "papermill": {
     "duration": 0.055959,
     "end_time": "2022-05-14T16:37:14.915184",
     "exception": false,
     "start_time": "2022-05-14T16:37:14.859225",
     "status": "completed"
    },
    "tags": []
   },
   "outputs": [],
   "source": []
  },
  {
   "cell_type": "markdown",
   "id": "58f2186d",
   "metadata": {
    "papermill": {
     "duration": 0.056313,
     "end_time": "2022-05-14T16:37:15.025603",
     "exception": false,
     "start_time": "2022-05-14T16:37:14.969290",
     "status": "completed"
    },
    "tags": []
   },
   "source": [
    "# **Deploy** #"
   ]
  },
  {
   "cell_type": "code",
   "execution_count": null,
   "id": "6cd69873",
   "metadata": {
    "papermill": {
     "duration": 0.056603,
     "end_time": "2022-05-14T16:37:15.136538",
     "exception": false,
     "start_time": "2022-05-14T16:37:15.079935",
     "status": "completed"
    },
    "tags": []
   },
   "outputs": [],
   "source": []
  },
  {
   "cell_type": "code",
   "execution_count": null,
   "id": "5abe4a1e",
   "metadata": {
    "papermill": {
     "duration": 0.053879,
     "end_time": "2022-05-14T16:37:15.246188",
     "exception": false,
     "start_time": "2022-05-14T16:37:15.192309",
     "status": "completed"
    },
    "tags": []
   },
   "outputs": [],
   "source": []
  }
 ],
 "metadata": {
  "kernelspec": {
   "display_name": "Python 3",
   "language": "python",
   "name": "python3"
  },
  "language_info": {
   "codemirror_mode": {
    "name": "ipython",
    "version": 3
   },
   "file_extension": ".py",
   "mimetype": "text/x-python",
   "name": "python",
   "nbconvert_exporter": "python",
   "pygments_lexer": "ipython3",
   "version": "3.7.12"
  },
  "papermill": {
   "default_parameters": {},
   "duration": 51.013629,
   "end_time": "2022-05-14T16:37:16.211845",
   "environment_variables": {},
   "exception": null,
   "input_path": "__notebook__.ipynb",
   "output_path": "__notebook__.ipynb",
   "parameters": {},
   "start_time": "2022-05-14T16:36:25.198216",
   "version": "2.3.3"
  }
 },
 "nbformat": 4,
 "nbformat_minor": 5
}
