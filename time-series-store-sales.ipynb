{
 "cells": [
  {
   "cell_type": "markdown",
   "id": "a0d3987e",
   "metadata": {
    "papermill": {
     "duration": 0.034851,
     "end_time": "2022-04-04T16:21:19.200056",
     "exception": false,
     "start_time": "2022-04-04T16:21:19.165205",
     "status": "completed"
    },
    "tags": []
   },
   "source": [
    "# **Setting** #"
   ]
  },
  {
   "cell_type": "code",
   "execution_count": 1,
   "id": "962cf0ca",
   "metadata": {
    "_cell_guid": "b1076dfc-b9ad-4769-8c92-a6c4dae69d19",
    "_uuid": "8f2839f25d086af736a60e9eeb907d3b93b6e0e5",
    "execution": {
     "iopub.execute_input": "2022-04-04T16:21:19.278703Z",
     "iopub.status.busy": "2022-04-04T16:21:19.278029Z",
     "iopub.status.idle": "2022-04-04T16:21:20.771480Z",
     "shell.execute_reply": "2022-04-04T16:21:20.772486Z",
     "shell.execute_reply.started": "2022-04-04T16:15:39.880096Z"
    },
    "papermill": {
     "duration": 1.537057,
     "end_time": "2022-04-04T16:21:20.773015",
     "exception": false,
     "start_time": "2022-04-04T16:21:19.235958",
     "status": "completed"
    },
    "tags": []
   },
   "outputs": [
    {
     "name": "stdout",
     "output_type": "stream",
     "text": [
      "/kaggle/input/store-sales-time-series-forecasting/oil.csv\n",
      "/kaggle/input/store-sales-time-series-forecasting/sample_submission.csv\n",
      "/kaggle/input/store-sales-time-series-forecasting/holidays_events.csv\n",
      "/kaggle/input/store-sales-time-series-forecasting/stores.csv\n",
      "/kaggle/input/store-sales-time-series-forecasting/train.csv\n",
      "/kaggle/input/store-sales-time-series-forecasting/test.csv\n",
      "/kaggle/input/store-sales-time-series-forecasting/transactions.csv\n"
     ]
    }
   ],
   "source": [
    "# This Python 3 environment comes with many helpful analytics libraries installed\n",
    "# It is defined by the kaggle/python Docker image: https://github.com/kaggle/docker-python\n",
    "# For example, here's several helpful packages to load\n",
    "\n",
    "%matplotlib inline\n",
    "\n",
    "# Setup feedback system\n",
    "from learntools.core import binder\n",
    "binder.bind(globals())\n",
    "from learntools.time_series.ex3 import *\n",
    "\n",
    " # Allows the use of display() for DataFrames\n",
    "# from IPython.core.interactiveshell import InteractiveShell \n",
    "# InteractiveShell.ast_node_interactivity = \"all\"\n",
    "\n",
    "\n",
    "# Setup notebook\n",
    "from pathlib import Path\n",
    "from IPython.display import display\n",
    "\n",
    "from learntools.time_series.style import *  # plot style settings\n",
    "from learntools.time_series.utils import plot_periodogram, seasonal_plot\n",
    "\n",
    "\n",
    "import numpy as np # linear algebra\n",
    "import pandas as pd # data processing, CSV file I/O (e.g. pd.read_csv)\n",
    "\n",
    "%matplotlib inline\n",
    "import matplotlib.pyplot as plt\n",
    "import seaborn as sns\n",
    "\n",
    "from sklearn.linear_model import LinearRegression\n",
    "from statsmodels.tsa.deterministic import CalendarFourier, DeterministicProcess\n",
    "\n",
    "\n",
    "# Input data files are available in the read-only \"../input/\" directory\n",
    "# For example, running this (by clicking run or pressing Shift+Enter) will list all files under the input directory\n",
    "\n",
    "import os\n",
    "for dirname, _, filenames in os.walk('/kaggle/input'):\n",
    "    for filename in filenames:\n",
    "        print(os.path.join(dirname, filename))\n",
    "\n",
    "        \n",
    "        \n",
    "# You can write up to 20GB to the current directory (/kaggle/working/) that gets preserved as output when you create a version using \"Save & Run All\" \n",
    "# You can also write temporary files to /kaggle/temp/, but they won't be saved outside of the current session\n"
   ]
  },
  {
   "cell_type": "markdown",
   "id": "490d7645",
   "metadata": {
    "papermill": {
     "duration": 0.034257,
     "end_time": "2022-04-04T16:21:20.842912",
     "exception": false,
     "start_time": "2022-04-04T16:21:20.808655",
     "status": "completed"
    },
    "tags": []
   },
   "source": [
    "# **Get Data** #"
   ]
  },
  {
   "cell_type": "code",
   "execution_count": 2,
   "id": "0c86c9fd",
   "metadata": {
    "execution": {
     "iopub.execute_input": "2022-04-04T16:21:20.919896Z",
     "iopub.status.busy": "2022-04-04T16:21:20.919148Z",
     "iopub.status.idle": "2022-04-04T16:21:26.257746Z",
     "shell.execute_reply": "2022-04-04T16:21:26.257145Z",
     "shell.execute_reply.started": "2022-04-04T16:15:41.544672Z"
    },
    "papermill": {
     "duration": 5.381448,
     "end_time": "2022-04-04T16:21:26.257906",
     "exception": false,
     "start_time": "2022-04-04T16:21:20.876458",
     "status": "completed"
    },
    "tags": []
   },
   "outputs": [],
   "source": [
    "# Paths\n",
    "comp_dir = Path('../input/store-sales-time-series-forecasting')\n",
    "\n",
    "# Get datas\n",
    "holidays_events = pd.read_csv(\n",
    "    comp_dir / \"holidays_events.csv\",\n",
    "    dtype={\n",
    "        'type': 'category',\n",
    "        'locale': 'category',\n",
    "        'locale_name': 'category',\n",
    "        'description': 'category',\n",
    "        'transferred': 'bool',\n",
    "    },\n",
    "    parse_dates=['date'],\n",
    "    infer_datetime_format=True,\n",
    ")\n",
    "holidays_events = holidays_events.set_index('date').to_period('D')\n",
    "\n",
    "store_sales = pd.read_csv(\n",
    "    comp_dir / 'train.csv',\n",
    "    usecols=['store_nbr', 'family','onpromotion', 'date', 'sales'],\n",
    "    dtype={\n",
    "        'store_nbr': 'category',\n",
    "        'family': 'category',\n",
    "        'sales': 'float32',\n",
    "        'onpromotion': 'uint32',\n",
    "    },\n",
    "    parse_dates=['date'],\n",
    "    infer_datetime_format=True,\n",
    ")\n",
    "\n",
    "oil = pd.read_csv(\n",
    "    comp_dir / 'oil.csv',\n",
    "    usecols = ['date', 'dcoilwtico'],\n",
    "    dtype={'dcoilwtico': 'float32'    },\n",
    "    parse_dates=['date'],\n",
    "    infer_datetime_format=True,\n",
    ")\n",
    "\n",
    "holidays = (\n",
    "    holidays_events\n",
    "    .query(\"locale in ['National', 'Regional']\")\n",
    "    .loc['2017':'2017-08-15', ['description']]\n",
    "    .assign(description=lambda x: x.description.cat.remove_unused_categories()) # assign new columns\n",
    ")\n",
    "\n",
    "df_test = pd.read_csv(\n",
    "    comp_dir / 'test.csv',\n",
    "    dtype={\n",
    "        'store_nbr': 'category',\n",
    "        'family': 'category',\n",
    "        'onpromotion': 'uint32',\n",
    "    },\n",
    "    parse_dates=['date'],\n",
    "    infer_datetime_format=True,\n",
    ")\n",
    "# Rearray to period\n",
    "\n",
    "transactions =  pd.read_csv( comp_dir / 'transactions.csv',\n",
    "                            parse_dates = ['date'], \n",
    "                            infer_datetime_format = True, \n",
    "                            )\n",
    "\n",
    "# oil['date'] = oil.date.dt.to_period('D')\n",
    "oil = oil.set_index(['date']).sort_index()\n",
    "oil=oil.squeeze()\n",
    "\n",
    "store_sales['date'] = store_sales.date.dt.to_period('D')\n",
    "store_sales = store_sales.set_index(['store_nbr', 'family', 'date']).sort_index()\n",
    "\n"
   ]
  },
  {
   "cell_type": "code",
   "execution_count": 3,
   "id": "b8ef3994",
   "metadata": {
    "execution": {
     "iopub.execute_input": "2022-04-04T16:21:26.331234Z",
     "iopub.status.busy": "2022-04-04T16:21:26.330220Z",
     "iopub.status.idle": "2022-04-04T16:21:26.343201Z",
     "shell.execute_reply": "2022-04-04T16:21:26.343921Z",
     "shell.execute_reply.started": "2022-04-04T16:15:47.586884Z"
    },
    "papermill": {
     "duration": 0.052801,
     "end_time": "2022-04-04T16:21:26.344139",
     "exception": false,
     "start_time": "2022-04-04T16:21:26.291338",
     "status": "completed"
    },
    "tags": []
   },
   "outputs": [
    {
     "name": "stdout",
     "output_type": "stream",
     "text": [
      "<class 'pandas.core.frame.DataFrame'>\n",
      "RangeIndex: 83488 entries, 0 to 83487\n",
      "Data columns (total 3 columns):\n",
      " #   Column        Non-Null Count  Dtype         \n",
      "---  ------        --------------  -----         \n",
      " 0   date          83488 non-null  datetime64[ns]\n",
      " 1   store_nbr     83488 non-null  int64         \n",
      " 2   transactions  83488 non-null  int64         \n",
      "dtypes: datetime64[ns](1), int64(2)\n",
      "memory usage: 1.9 MB\n"
     ]
    }
   ],
   "source": [
    " # transactions per store\n",
    "transactions.info()"
   ]
  },
  {
   "cell_type": "markdown",
   "id": "fdc3a7dc",
   "metadata": {
    "papermill": {
     "duration": 0.034942,
     "end_time": "2022-04-04T16:21:26.413843",
     "exception": false,
     "start_time": "2022-04-04T16:21:26.378901",
     "status": "completed"
    },
    "tags": []
   },
   "source": [
    "#  **Exploratory Data Analysis** #"
   ]
  },
  {
   "cell_type": "code",
   "execution_count": 4,
   "id": "a2c8b85b",
   "metadata": {
    "execution": {
     "iopub.execute_input": "2022-04-04T16:21:26.487174Z",
     "iopub.status.busy": "2022-04-04T16:21:26.486514Z",
     "iopub.status.idle": "2022-04-04T16:21:27.120873Z",
     "shell.execute_reply": "2022-04-04T16:21:27.121401Z",
     "shell.execute_reply.started": "2022-04-04T16:15:47.608395Z"
    },
    "papermill": {
     "duration": 0.674029,
     "end_time": "2022-04-04T16:21:27.121578",
     "exception": false,
     "start_time": "2022-04-04T16:21:26.447549",
     "status": "completed"
    },
    "tags": []
   },
   "outputs": [
    {
     "data": {
      "text/html": [
       "<div>\n",
       "<style scoped>\n",
       "    .dataframe tbody tr th:only-of-type {\n",
       "        vertical-align: middle;\n",
       "    }\n",
       "\n",
       "    .dataframe tbody tr th {\n",
       "        vertical-align: top;\n",
       "    }\n",
       "\n",
       "    .dataframe thead th {\n",
       "        text-align: right;\n",
       "    }\n",
       "</style>\n",
       "<table border=\"1\" class=\"dataframe\">\n",
       "  <thead>\n",
       "    <tr style=\"text-align: right;\">\n",
       "      <th></th>\n",
       "      <th>sales</th>\n",
       "      <th>onpromotion</th>\n",
       "    </tr>\n",
       "    <tr>\n",
       "      <th>date</th>\n",
       "      <th></th>\n",
       "      <th></th>\n",
       "    </tr>\n",
       "  </thead>\n",
       "  <tbody>\n",
       "    <tr>\n",
       "      <th>2017-01-01</th>\n",
       "      <td>6.780303</td>\n",
       "      <td>0.095398</td>\n",
       "    </tr>\n",
       "    <tr>\n",
       "      <th>2017-01-02</th>\n",
       "      <td>786.928406</td>\n",
       "      <td>6.628507</td>\n",
       "    </tr>\n",
       "    <tr>\n",
       "      <th>2017-01-03</th>\n",
       "      <td>619.740234</td>\n",
       "      <td>7.803591</td>\n",
       "    </tr>\n",
       "    <tr>\n",
       "      <th>2017-01-04</th>\n",
       "      <td>555.608032</td>\n",
       "      <td>12.860831</td>\n",
       "    </tr>\n",
       "    <tr>\n",
       "      <th>2017-01-05</th>\n",
       "      <td>436.375397</td>\n",
       "      <td>4.797980</td>\n",
       "    </tr>\n",
       "  </tbody>\n",
       "</table>\n",
       "</div>"
      ],
      "text/plain": [
       "                 sales  onpromotion\n",
       "date                               \n",
       "2017-01-01    6.780303     0.095398\n",
       "2017-01-02  786.928406     6.628507\n",
       "2017-01-03  619.740234     7.803591\n",
       "2017-01-04  555.608032    12.860831\n",
       "2017-01-05  436.375397     4.797980"
      ]
     },
     "metadata": {},
     "output_type": "display_data"
    },
    {
     "data": {
      "image/png": "[encoded data removed]",
      "text/plain": [
       "<Figure size 432x288 with 1 Axes>"
      ]
     },
     "metadata": {
      "needs_background": "light"
     },
     "output_type": "display_data"
    }
   ],
   "source": [
    "\n",
    "# average sales \n",
    "average_sales = (\n",
    "    store_sales\n",
    "    .groupby('date').mean()\n",
    "    .squeeze()\n",
    "    .loc['2017']\n",
    ")\n",
    "\n",
    "display(average_sales.head())\n",
    "ax = average_sales.plot(**plot_params, alpha = 0.5,  title='Averange Sales', ylabel='Items Sold')\n",
    "ax.legend();"
   ]
  },
  {
   "cell_type": "code",
   "execution_count": 5,
   "id": "0e9e956d",
   "metadata": {
    "execution": {
     "iopub.execute_input": "2022-04-04T16:21:27.196968Z",
     "iopub.status.busy": "2022-04-04T16:21:27.196348Z",
     "iopub.status.idle": "2022-04-04T16:21:27.205478Z",
     "shell.execute_reply": "2022-04-04T16:21:27.206061Z",
     "shell.execute_reply.started": "2022-04-04T16:15:48.296485Z"
    },
    "papermill": {
     "duration": 0.048482,
     "end_time": "2022-04-04T16:21:27.206232",
     "exception": false,
     "start_time": "2022-04-04T16:21:27.157750",
     "status": "completed"
    },
    "tags": []
   },
   "outputs": [
    {
     "data": {
      "text/html": [
       "<div>\n",
       "<style scoped>\n",
       "    .dataframe tbody tr th:only-of-type {\n",
       "        vertical-align: middle;\n",
       "    }\n",
       "\n",
       "    .dataframe tbody tr th {\n",
       "        vertical-align: top;\n",
       "    }\n",
       "\n",
       "    .dataframe thead th {\n",
       "        text-align: right;\n",
       "    }\n",
       "</style>\n",
       "<table border=\"1\" class=\"dataframe\">\n",
       "  <thead>\n",
       "    <tr style=\"text-align: right;\">\n",
       "      <th></th>\n",
       "      <th>description</th>\n",
       "    </tr>\n",
       "    <tr>\n",
       "      <th>date</th>\n",
       "      <th></th>\n",
       "    </tr>\n",
       "  </thead>\n",
       "  <tbody>\n",
       "    <tr>\n",
       "      <th>2017-01-01</th>\n",
       "      <td>Primer dia del ano</td>\n",
       "    </tr>\n",
       "    <tr>\n",
       "      <th>2017-01-02</th>\n",
       "      <td>Traslado Primer dia del ano</td>\n",
       "    </tr>\n",
       "    <tr>\n",
       "      <th>2017-02-27</th>\n",
       "      <td>Carnaval</td>\n",
       "    </tr>\n",
       "    <tr>\n",
       "      <th>2017-02-28</th>\n",
       "      <td>Carnaval</td>\n",
       "    </tr>\n",
       "    <tr>\n",
       "      <th>2017-04-01</th>\n",
       "      <td>Provincializacion de Cotopaxi</td>\n",
       "    </tr>\n",
       "  </tbody>\n",
       "</table>\n",
       "</div>"
      ],
      "text/plain": [
       "                              description\n",
       "date                                     \n",
       "2017-01-01             Primer dia del ano\n",
       "2017-01-02    Traslado Primer dia del ano\n",
       "2017-02-27                       Carnaval\n",
       "2017-02-28                       Carnaval\n",
       "2017-04-01  Provincializacion de Cotopaxi"
      ]
     },
     "execution_count": 5,
     "metadata": {},
     "output_type": "execute_result"
    }
   ],
   "source": [
    "holidays.head()"
   ]
  },
  {
   "cell_type": "code",
   "execution_count": null,
   "id": "cfa2d9ce",
   "metadata": {
    "papermill": {
     "duration": 0.036364,
     "end_time": "2022-04-04T16:21:27.280834",
     "exception": false,
     "start_time": "2022-04-04T16:21:27.244470",
     "status": "completed"
    },
    "tags": []
   },
   "outputs": [],
   "source": []
  },
  {
   "cell_type": "code",
   "execution_count": null,
   "id": "0e37045b",
   "metadata": {
    "papermill": {
     "duration": 0.036414,
     "end_time": "2022-04-04T16:21:27.354973",
     "exception": false,
     "start_time": "2022-04-04T16:21:27.318559",
     "status": "completed"
    },
    "tags": []
   },
   "outputs": [],
   "source": [
    "\n"
   ]
  },
  {
   "cell_type": "code",
   "execution_count": 6,
   "id": "4bbbefc0",
   "metadata": {
    "execution": {
     "iopub.execute_input": "2022-04-04T16:21:27.431470Z",
     "iopub.status.busy": "2022-04-04T16:21:27.430842Z",
     "iopub.status.idle": "2022-04-04T16:21:27.684084Z",
     "shell.execute_reply": "2022-04-04T16:21:27.684622Z",
     "shell.execute_reply.started": "2022-04-04T16:15:48.311786Z"
    },
    "papermill": {
     "duration": 0.293367,
     "end_time": "2022-04-04T16:21:27.684802",
     "exception": false,
     "start_time": "2022-04-04T16:21:27.391435",
     "status": "completed"
    },
    "tags": []
   },
   "outputs": [
    {
     "data": {
      "image/png": "[encoded data removed]",
      "text/plain": [
       "<Figure size 432x288 with 1 Axes>"
      ]
     },
     "metadata": {
      "needs_background": "light"
     },
     "output_type": "display_data"
    }
   ],
   "source": [
    "oil.plot()\n",
    "plt.show()"
   ]
  },
  {
   "cell_type": "code",
   "execution_count": 7,
   "id": "7862db94",
   "metadata": {
    "execution": {
     "iopub.execute_input": "2022-04-04T16:21:27.765429Z",
     "iopub.status.busy": "2022-04-04T16:21:27.764773Z",
     "iopub.status.idle": "2022-04-04T16:21:27.769512Z",
     "shell.execute_reply": "2022-04-04T16:21:27.770508Z",
     "shell.execute_reply.started": "2022-04-04T16:15:48.584175Z"
    },
    "papermill": {
     "duration": 0.04795,
     "end_time": "2022-04-04T16:21:27.770829",
     "exception": false,
     "start_time": "2022-04-04T16:21:27.722879",
     "status": "completed"
    },
    "tags": []
   },
   "outputs": [
    {
     "name": "stdout",
     "output_type": "stream",
     "text": [
      "dcoilwtico\n"
     ]
    }
   ],
   "source": [
    "print(oil.name) "
   ]
  },
  {
   "cell_type": "markdown",
   "id": "8e7d2b3c",
   "metadata": {
    "papermill": {
     "duration": 0.037838,
     "end_time": "2022-04-04T16:21:27.847830",
     "exception": false,
     "start_time": "2022-04-04T16:21:27.809992",
     "status": "completed"
    },
    "tags": []
   },
   "source": [
    "# **Model with Oil** #\n"
   ]
  },
  {
   "cell_type": "code",
   "execution_count": 8,
   "id": "cab44cee",
   "metadata": {
    "execution": {
     "iopub.execute_input": "2022-04-04T16:21:27.935783Z",
     "iopub.status.busy": "2022-04-04T16:21:27.929930Z",
     "iopub.status.idle": "2022-04-04T16:21:29.379594Z",
     "shell.execute_reply": "2022-04-04T16:21:29.378876Z",
     "shell.execute_reply.started": "2022-04-04T16:15:48.592310Z"
    },
    "papermill": {
     "duration": 1.493806,
     "end_time": "2022-04-04T16:21:29.379743",
     "exception": false,
     "start_time": "2022-04-04T16:21:27.885937",
     "status": "completed"
    },
    "tags": []
   },
   "outputs": [
    {
     "data": {
      "text/html": [
       "<div>\n",
       "<style scoped>\n",
       "    .dataframe tbody tr th:only-of-type {\n",
       "        vertical-align: middle;\n",
       "    }\n",
       "\n",
       "    .dataframe tbody tr th {\n",
       "        vertical-align: top;\n",
       "    }\n",
       "\n",
       "    .dataframe thead th {\n",
       "        text-align: right;\n",
       "    }\n",
       "</style>\n",
       "<table border=\"1\" class=\"dataframe\">\n",
       "  <thead>\n",
       "    <tr style=\"text-align: right;\">\n",
       "      <th></th>\n",
       "      <th>description_Batalla de Pichincha</th>\n",
       "      <th>description_Carnaval</th>\n",
       "      <th>description_Dia de la Madre</th>\n",
       "      <th>description_Dia de la Madre-1</th>\n",
       "      <th>description_Dia del Trabajo</th>\n",
       "      <th>description_Primer Grito de Independencia</th>\n",
       "      <th>description_Primer dia del ano</th>\n",
       "      <th>description_Provincializacion de Cotopaxi</th>\n",
       "      <th>description_Provincializacion de Imbabura</th>\n",
       "      <th>description_Traslado Batalla de Pichincha</th>\n",
       "      <th>description_Traslado Primer Grito de Independencia</th>\n",
       "      <th>description_Traslado Primer dia del ano</th>\n",
       "      <th>description_Viernes Santo</th>\n",
       "    </tr>\n",
       "    <tr>\n",
       "      <th>date</th>\n",
       "      <th></th>\n",
       "      <th></th>\n",
       "      <th></th>\n",
       "      <th></th>\n",
       "      <th></th>\n",
       "      <th></th>\n",
       "      <th></th>\n",
       "      <th></th>\n",
       "      <th></th>\n",
       "      <th></th>\n",
       "      <th></th>\n",
       "      <th></th>\n",
       "      <th></th>\n",
       "    </tr>\n",
       "  </thead>\n",
       "  <tbody>\n",
       "    <tr>\n",
       "      <th>2017-01-01</th>\n",
       "      <td>0</td>\n",
       "      <td>0</td>\n",
       "      <td>0</td>\n",
       "      <td>0</td>\n",
       "      <td>0</td>\n",
       "      <td>0</td>\n",
       "      <td>1</td>\n",
       "      <td>0</td>\n",
       "      <td>0</td>\n",
       "      <td>0</td>\n",
       "      <td>0</td>\n",
       "      <td>0</td>\n",
       "      <td>0</td>\n",
       "    </tr>\n",
       "    <tr>\n",
       "      <th>2017-01-02</th>\n",
       "      <td>0</td>\n",
       "      <td>0</td>\n",
       "      <td>0</td>\n",
       "      <td>0</td>\n",
       "      <td>0</td>\n",
       "      <td>0</td>\n",
       "      <td>0</td>\n",
       "      <td>0</td>\n",
       "      <td>0</td>\n",
       "      <td>0</td>\n",
       "      <td>0</td>\n",
       "      <td>1</td>\n",
       "      <td>0</td>\n",
       "    </tr>\n",
       "    <tr>\n",
       "      <th>2017-02-27</th>\n",
       "      <td>0</td>\n",
       "      <td>1</td>\n",
       "      <td>0</td>\n",
       "      <td>0</td>\n",
       "      <td>0</td>\n",
       "      <td>0</td>\n",
       "      <td>0</td>\n",
       "      <td>0</td>\n",
       "      <td>0</td>\n",
       "      <td>0</td>\n",
       "      <td>0</td>\n",
       "      <td>0</td>\n",
       "      <td>0</td>\n",
       "    </tr>\n",
       "    <tr>\n",
       "      <th>2017-02-28</th>\n",
       "      <td>0</td>\n",
       "      <td>1</td>\n",
       "      <td>0</td>\n",
       "      <td>0</td>\n",
       "      <td>0</td>\n",
       "      <td>0</td>\n",
       "      <td>0</td>\n",
       "      <td>0</td>\n",
       "      <td>0</td>\n",
       "      <td>0</td>\n",
       "      <td>0</td>\n",
       "      <td>0</td>\n",
       "      <td>0</td>\n",
       "    </tr>\n",
       "    <tr>\n",
       "      <th>2017-04-01</th>\n",
       "      <td>0</td>\n",
       "      <td>0</td>\n",
       "      <td>0</td>\n",
       "      <td>0</td>\n",
       "      <td>0</td>\n",
       "      <td>0</td>\n",
       "      <td>0</td>\n",
       "      <td>1</td>\n",
       "      <td>0</td>\n",
       "      <td>0</td>\n",
       "      <td>0</td>\n",
       "      <td>0</td>\n",
       "      <td>0</td>\n",
       "    </tr>\n",
       "  </tbody>\n",
       "</table>\n",
       "</div>"
      ],
      "text/plain": [
       "            description_Batalla de Pichincha  description_Carnaval  \\\n",
       "date                                                                 \n",
       "2017-01-01                                 0                     0   \n",
       "2017-01-02                                 0                     0   \n",
       "2017-02-27                                 0                     1   \n",
       "2017-02-28                                 0                     1   \n",
       "2017-04-01                                 0                     0   \n",
       "\n",
       "            description_Dia de la Madre  description_Dia de la Madre-1  \\\n",
       "date                                                                     \n",
       "2017-01-01                            0                              0   \n",
       "2017-01-02                            0                              0   \n",
       "2017-02-27                            0                              0   \n",
       "2017-02-28                            0                              0   \n",
       "2017-04-01                            0                              0   \n",
       "\n",
       "            description_Dia del Trabajo  \\\n",
       "date                                      \n",
       "2017-01-01                            0   \n",
       "2017-01-02                            0   \n",
       "2017-02-27                            0   \n",
       "2017-02-28                            0   \n",
       "2017-04-01                            0   \n",
       "\n",
       "            description_Primer Grito de Independencia  \\\n",
       "date                                                    \n",
       "2017-01-01                                          0   \n",
       "2017-01-02                                          0   \n",
       "2017-02-27                                          0   \n",
       "2017-02-28                                          0   \n",
       "2017-04-01                                          0   \n",
       "\n",
       "            description_Primer dia del ano  \\\n",
       "date                                         \n",
       "2017-01-01                               1   \n",
       "2017-01-02                               0   \n",
       "2017-02-27                               0   \n",
       "2017-02-28                               0   \n",
       "2017-04-01                               0   \n",
       "\n",
       "            description_Provincializacion de Cotopaxi  \\\n",
       "date                                                    \n",
       "2017-01-01                                          0   \n",
       "2017-01-02                                          0   \n",
       "2017-02-27                                          0   \n",
       "2017-02-28                                          0   \n",
       "2017-04-01                                          1   \n",
       "\n",
       "            description_Provincializacion de Imbabura  \\\n",
       "date                                                    \n",
       "2017-01-01                                          0   \n",
       "2017-01-02                                          0   \n",
       "2017-02-27                                          0   \n",
       "2017-02-28                                          0   \n",
       "2017-04-01                                          0   \n",
       "\n",
       "            description_Traslado Batalla de Pichincha  \\\n",
       "date                                                    \n",
       "2017-01-01                                          0   \n",
       "2017-01-02                                          0   \n",
       "2017-02-27                                          0   \n",
       "2017-02-28                                          0   \n",
       "2017-04-01                                          0   \n",
       "\n",
       "            description_Traslado Primer Grito de Independencia  \\\n",
       "date                                                             \n",
       "2017-01-01                                                  0    \n",
       "2017-01-02                                                  0    \n",
       "2017-02-27                                                  0    \n",
       "2017-02-28                                                  0    \n",
       "2017-04-01                                                  0    \n",
       "\n",
       "            description_Traslado Primer dia del ano  description_Viernes Santo  \n",
       "date                                                                            \n",
       "2017-01-01                                        0                          0  \n",
       "2017-01-02                                        1                          0  \n",
       "2017-02-27                                        0                          0  \n",
       "2017-02-28                                        0                          0  \n",
       "2017-04-01                                        0                          0  "
      ]
     },
     "metadata": {},
     "output_type": "display_data"
    },
    {
     "name": "stdout",
     "output_type": "stream",
     "text": [
      "Num_null:  0\n",
      "<class 'pandas.core.frame.DataFrame'>\n",
      "PeriodIndex: 227 entries, 2017-01-01 to 2017-08-15\n",
      "Freq: D\n",
      "Data columns (total 31 columns):\n",
      " #   Column                                              Non-Null Count  Dtype  \n",
      "---  ------                                              --------------  -----  \n",
      " 0   const                                               227 non-null    float64\n",
      " 1   trend                                               227 non-null    float64\n",
      " 2   s(2,7)                                              227 non-null    float64\n",
      " 3   s(3,7)                                              227 non-null    float64\n",
      " 4   s(4,7)                                              227 non-null    float64\n",
      " 5   s(5,7)                                              227 non-null    float64\n",
      " 6   s(6,7)                                              227 non-null    float64\n",
      " 7   s(7,7)                                              227 non-null    float64\n",
      " 8   sin(1,freq=M)                                       227 non-null    float64\n",
      " 9   cos(1,freq=M)                                       227 non-null    float64\n",
      " 10  sin(2,freq=M)                                       227 non-null    float64\n",
      " 11  cos(2,freq=M)                                       227 non-null    float64\n",
      " 12  sin(3,freq=M)                                       227 non-null    float64\n",
      " 13  cos(3,freq=M)                                       227 non-null    float64\n",
      " 14  sin(4,freq=M)                                       227 non-null    float64\n",
      " 15  cos(4,freq=M)                                       227 non-null    float64\n",
      " 16  NewYear                                             227 non-null    bool   \n",
      " 17  Oil                                                 227 non-null    float32\n",
      " 18  description_Batalla de Pichincha                    227 non-null    float64\n",
      " 19  description_Carnaval                                227 non-null    float64\n",
      " 20  description_Dia de la Madre                         227 non-null    float64\n",
      " 21  description_Dia de la Madre-1                       227 non-null    float64\n",
      " 22  description_Dia del Trabajo                         227 non-null    float64\n",
      " 23  description_Primer Grito de Independencia           227 non-null    float64\n",
      " 24  description_Primer dia del ano                      227 non-null    float64\n",
      " 25  description_Provincializacion de Cotopaxi           227 non-null    float64\n",
      " 26  description_Provincializacion de Imbabura           227 non-null    float64\n",
      " 27  description_Traslado Batalla de Pichincha           227 non-null    float64\n",
      " 28  description_Traslado Primer Grito de Independencia  227 non-null    float64\n",
      " 29  description_Traslado Primer dia del ano             227 non-null    float64\n",
      " 30  description_Viernes Santo                           227 non-null    float64\n",
      "dtypes: bool(1), float32(1), float64(29)\n",
      "memory usage: 54.3 KB\n"
     ]
    },
    {
     "data": {
      "text/plain": [
       "None"
      ]
     },
     "metadata": {},
     "output_type": "display_data"
    }
   ],
   "source": [
    "y = store_sales.unstack(['store_nbr', 'family']).loc[\"2017\"] \n",
    "\n",
    "\n",
    "# Create training data\n",
    "fourier = CalendarFourier(freq='M', order=4)\n",
    "dp = DeterministicProcess(\n",
    "    index=y.index,\n",
    "    constant=True,\n",
    "    order=1,\n",
    "    seasonal=True,\n",
    "    additional_terms=[fourier],\n",
    "    drop=True,\n",
    ")\n",
    "X = dp.in_sample()\n",
    "X['NewYear'] = (X.index.dayofyear == 1)\n",
    "X_holidays = pd.get_dummies(holidays) # add columns on Holidays, more featured, way matricial\n",
    "\n",
    "display(X_holidays.head())\n",
    "X = X.join( oil.rename('Oil') , on='date').fillna(0.0)\n",
    "\n",
    "from sklearn.preprocessing import OneHotEncoder\n",
    " \n",
    "\n",
    "\n",
    "X2 = X.join(X_holidays, on='date').fillna(0.0)\n",
    "\n",
    "missingValueCount = X2.isnull().sum()\n",
    "print('Num_null: ' , missingValueCount.sum() )\n",
    "X2 = X2.dropna()\n",
    "X2 = X2.fillna(0)\n",
    "\n",
    "display(X2.info())\n"
   ]
  },
  {
   "cell_type": "code",
   "execution_count": 9,
   "id": "bc75e169",
   "metadata": {
    "execution": {
     "iopub.execute_input": "2022-04-04T16:21:29.476596Z",
     "iopub.status.busy": "2022-04-04T16:21:29.475551Z",
     "iopub.status.idle": "2022-04-04T16:21:30.273362Z",
     "shell.execute_reply": "2022-04-04T16:21:30.273931Z",
     "shell.execute_reply.started": "2022-04-04T16:17:41.377100Z"
    },
    "papermill": {
     "duration": 0.850185,
     "end_time": "2022-04-04T16:21:30.274113",
     "exception": false,
     "start_time": "2022-04-04T16:21:29.423928",
     "status": "completed"
    },
    "tags": []
   },
   "outputs": [
    {
     "name": "stdout",
     "output_type": "stream",
     "text": [
      "<class 'pandas.core.frame.DataFrame'>\n",
      "PeriodIndex: 227 entries, 2017-01-01 to 2017-08-15\n",
      "Freq: D\n",
      "Columns: 3564 entries, ('sales', '1', 'AUTOMOTIVE') to ('onpromotion', '9', 'SEAFOOD')\n",
      "dtypes: float64(3564)\n",
      "memory usage: 6.2 MB\n"
     ]
    }
   ],
   "source": [
    "\n",
    "model = LinearRegression(fit_intercept=False)\n",
    "model.fit(X2, y)\n",
    "y_pred = pd.DataFrame(model.predict(X2), index=X2.index, columns=y.columns)\n",
    "\n",
    "y_pred.info()"
   ]
  },
  {
   "cell_type": "markdown",
   "id": "3d139e81",
   "metadata": {
    "papermill": {
     "duration": 0.041103,
     "end_time": "2022-04-04T16:21:30.358300",
     "exception": false,
     "start_time": "2022-04-04T16:21:30.317197",
     "status": "completed"
    },
    "tags": []
   },
   "source": [
    "We see a low in the price oil, at the end of 2014."
   ]
  },
  {
   "cell_type": "markdown",
   "id": "0d295664",
   "metadata": {
    "papermill": {
     "duration": 0.044165,
     "end_time": "2022-04-04T16:21:30.446136",
     "exception": false,
     "start_time": "2022-04-04T16:21:30.401971",
     "status": "completed"
    },
    "tags": []
   },
   "source": [
    "### Missing Values ###"
   ]
  },
  {
   "cell_type": "code",
   "execution_count": 10,
   "id": "0fb1a575",
   "metadata": {
    "execution": {
     "iopub.execute_input": "2022-04-04T16:21:30.540411Z",
     "iopub.status.busy": "2022-04-04T16:21:30.534923Z",
     "iopub.status.idle": "2022-04-04T16:21:30.611943Z",
     "shell.execute_reply": "2022-04-04T16:21:30.611312Z",
     "shell.execute_reply.started": "2022-04-04T16:20:18.750652Z"
    },
    "papermill": {
     "duration": 0.122156,
     "end_time": "2022-04-04T16:21:30.612113",
     "exception": false,
     "start_time": "2022-04-04T16:21:30.489957",
     "status": "completed"
    },
    "tags": []
   },
   "outputs": [
    {
     "name": "stdout",
     "output_type": "stream",
     "text": [
      "<class 'pandas.core.frame.DataFrame'>\n",
      "PeriodIndex: 16 entries, 2017-08-16 to 2017-08-31\n",
      "Freq: D\n",
      "Data columns (total 31 columns):\n",
      " #   Column                                              Non-Null Count  Dtype  \n",
      "---  ------                                              --------------  -----  \n",
      " 0   const                                               16 non-null     float64\n",
      " 1   trend                                               16 non-null     float64\n",
      " 2   s(2,7)                                              16 non-null     float64\n",
      " 3   s(3,7)                                              16 non-null     float64\n",
      " 4   s(4,7)                                              16 non-null     float64\n",
      " 5   s(5,7)                                              16 non-null     float64\n",
      " 6   s(6,7)                                              16 non-null     float64\n",
      " 7   s(7,7)                                              16 non-null     float64\n",
      " 8   sin(1,freq=M)                                       16 non-null     float64\n",
      " 9   cos(1,freq=M)                                       16 non-null     float64\n",
      " 10  sin(2,freq=M)                                       16 non-null     float64\n",
      " 11  cos(2,freq=M)                                       16 non-null     float64\n",
      " 12  sin(3,freq=M)                                       16 non-null     float64\n",
      " 13  cos(3,freq=M)                                       16 non-null     float64\n",
      " 14  sin(4,freq=M)                                       16 non-null     float64\n",
      " 15  cos(4,freq=M)                                       16 non-null     float64\n",
      " 16  NewYear                                             16 non-null     bool   \n",
      " 17  Oil                                                 16 non-null     float32\n",
      " 18  description_Batalla de Pichincha                    16 non-null     float64\n",
      " 19  description_Carnaval                                16 non-null     float64\n",
      " 20  description_Dia de la Madre                         16 non-null     float64\n",
      " 21  description_Dia de la Madre-1                       16 non-null     float64\n",
      " 22  description_Dia del Trabajo                         16 non-null     float64\n",
      " 23  description_Primer Grito de Independencia           16 non-null     float64\n",
      " 24  description_Primer dia del ano                      16 non-null     float64\n",
      " 25  description_Provincializacion de Cotopaxi           16 non-null     float64\n",
      " 26  description_Provincializacion de Imbabura           16 non-null     float64\n",
      " 27  description_Traslado Batalla de Pichincha           16 non-null     float64\n",
      " 28  description_Traslado Primer Grito de Independencia  16 non-null     float64\n",
      " 29  description_Traslado Primer dia del ano             16 non-null     float64\n",
      " 30  description_Viernes Santo                           16 non-null     float64\n",
      "dtypes: bool(1), float32(1), float64(29)\n",
      "memory usage: 3.8 KB\n"
     ]
    }
   ],
   "source": [
    "df_test = pd.read_csv(\n",
    "    comp_dir / 'test.csv',\n",
    "    dtype={\n",
    "        'store_nbr': 'category',\n",
    "        'family': 'category',\n",
    "        'onpromotion': 'uint32',\n",
    "    },\n",
    "    parse_dates=['date'],\n",
    "    infer_datetime_format=True,\n",
    ")\n",
    "\n",
    "df_test['date'] = df_test.date.dt.to_period('D')\n",
    "df_test = df_test.set_index(['store_nbr', 'family', 'date']).sort_index()\n",
    "\n",
    "# Create features for test set\n",
    "X_test = dp.out_of_sample(steps=16)\n",
    "X_test.index.name = 'date'\n",
    "X_test['NewYear'] = (X_test.index.dayofyear == 1)\n",
    "X_test = X_test.join( oil.rename('Oil') , on='date').fillna(0.0)\n",
    "X_test = X_test.join(X_holidays, on='date').fillna(0.0)\n",
    "\n",
    "\n",
    "X_test.info()"
   ]
  },
  {
   "cell_type": "code",
   "execution_count": 11,
   "id": "7eb6f29f",
   "metadata": {
    "execution": {
     "iopub.execute_input": "2022-04-04T16:21:30.717609Z",
     "iopub.status.busy": "2022-04-04T16:21:30.705673Z",
     "iopub.status.idle": "2022-04-04T16:21:30.787326Z",
     "shell.execute_reply": "2022-04-04T16:21:30.788399Z",
     "shell.execute_reply.started": "2022-04-04T16:20:25.991051Z"
    },
    "papermill": {
     "duration": 0.132585,
     "end_time": "2022-04-04T16:21:30.788674",
     "exception": false,
     "start_time": "2022-04-04T16:21:30.656089",
     "status": "completed"
    },
    "tags": []
   },
   "outputs": [
    {
     "data": {
      "text/html": [
       "<div>\n",
       "<style scoped>\n",
       "    .dataframe tbody tr th:only-of-type {\n",
       "        vertical-align: middle;\n",
       "    }\n",
       "\n",
       "    .dataframe tbody tr th {\n",
       "        vertical-align: top;\n",
       "    }\n",
       "\n",
       "    .dataframe thead tr th {\n",
       "        text-align: left;\n",
       "    }\n",
       "\n",
       "    .dataframe thead tr:last-of-type th {\n",
       "        text-align: right;\n",
       "    }\n",
       "</style>\n",
       "<table border=\"1\" class=\"dataframe\">\n",
       "  <thead>\n",
       "    <tr>\n",
       "      <th></th>\n",
       "      <th colspan=\"10\" halign=\"left\">sales</th>\n",
       "      <th>...</th>\n",
       "      <th colspan=\"10\" halign=\"left\">onpromotion</th>\n",
       "    </tr>\n",
       "    <tr>\n",
       "      <th>store_nbr</th>\n",
       "      <th colspan=\"10\" halign=\"left\">1</th>\n",
       "      <th>...</th>\n",
       "      <th colspan=\"10\" halign=\"left\">9</th>\n",
       "    </tr>\n",
       "    <tr>\n",
       "      <th>family</th>\n",
       "      <th>AUTOMOTIVE</th>\n",
       "      <th>BABY CARE</th>\n",
       "      <th>BEAUTY</th>\n",
       "      <th>BEVERAGES</th>\n",
       "      <th>BOOKS</th>\n",
       "      <th>BREAD/BAKERY</th>\n",
       "      <th>CELEBRATION</th>\n",
       "      <th>CLEANING</th>\n",
       "      <th>DAIRY</th>\n",
       "      <th>DELI</th>\n",
       "      <th>...</th>\n",
       "      <th>MAGAZINES</th>\n",
       "      <th>MEATS</th>\n",
       "      <th>PERSONAL CARE</th>\n",
       "      <th>PET SUPPLIES</th>\n",
       "      <th>PLAYERS AND ELECTRONICS</th>\n",
       "      <th>POULTRY</th>\n",
       "      <th>PREPARED FOODS</th>\n",
       "      <th>PRODUCE</th>\n",
       "      <th>SCHOOL AND OFFICE SUPPLIES</th>\n",
       "      <th>SEAFOOD</th>\n",
       "    </tr>\n",
       "    <tr>\n",
       "      <th>date</th>\n",
       "      <th></th>\n",
       "      <th></th>\n",
       "      <th></th>\n",
       "      <th></th>\n",
       "      <th></th>\n",
       "      <th></th>\n",
       "      <th></th>\n",
       "      <th></th>\n",
       "      <th></th>\n",
       "      <th></th>\n",
       "      <th></th>\n",
       "      <th></th>\n",
       "      <th></th>\n",
       "      <th></th>\n",
       "      <th></th>\n",
       "      <th></th>\n",
       "      <th></th>\n",
       "      <th></th>\n",
       "      <th></th>\n",
       "      <th></th>\n",
       "      <th></th>\n",
       "    </tr>\n",
       "  </thead>\n",
       "  <tbody>\n",
       "    <tr>\n",
       "      <th>2017-08-16</th>\n",
       "      <td>4.341548</td>\n",
       "      <td>0.0</td>\n",
       "      <td>3.452431</td>\n",
       "      <td>2395.177911</td>\n",
       "      <td>0.425745</td>\n",
       "      <td>390.551336</td>\n",
       "      <td>17.332727</td>\n",
       "      <td>814.175849</td>\n",
       "      <td>810.690309</td>\n",
       "      <td>138.790001</td>\n",
       "      <td>...</td>\n",
       "      <td>0.0</td>\n",
       "      <td>0.288287</td>\n",
       "      <td>13.338082</td>\n",
       "      <td>0.036032</td>\n",
       "      <td>0.105168</td>\n",
       "      <td>-0.211493</td>\n",
       "      <td>3.982727</td>\n",
       "      <td>10.833558</td>\n",
       "      <td>2.259167</td>\n",
       "      <td>0.434602</td>\n",
       "    </tr>\n",
       "    <tr>\n",
       "      <th>2017-08-17</th>\n",
       "      <td>4.127794</td>\n",
       "      <td>0.0</td>\n",
       "      <td>2.563252</td>\n",
       "      <td>2045.710293</td>\n",
       "      <td>0.081730</td>\n",
       "      <td>336.073933</td>\n",
       "      <td>20.314541</td>\n",
       "      <td>652.628073</td>\n",
       "      <td>663.738718</td>\n",
       "      <td>116.800825</td>\n",
       "      <td>...</td>\n",
       "      <td>0.0</td>\n",
       "      <td>20.406772</td>\n",
       "      <td>12.241600</td>\n",
       "      <td>-0.023406</td>\n",
       "      <td>0.037320</td>\n",
       "      <td>-0.163680</td>\n",
       "      <td>-1.055373</td>\n",
       "      <td>8.885126</td>\n",
       "      <td>1.629003</td>\n",
       "      <td>0.295068</td>\n",
       "    </tr>\n",
       "    <tr>\n",
       "      <th>2017-08-18</th>\n",
       "      <td>5.836514</td>\n",
       "      <td>0.0</td>\n",
       "      <td>2.568565</td>\n",
       "      <td>2408.384935</td>\n",
       "      <td>0.063010</td>\n",
       "      <td>367.850190</td>\n",
       "      <td>22.555630</td>\n",
       "      <td>736.839224</td>\n",
       "      <td>778.048344</td>\n",
       "      <td>178.898602</td>\n",
       "      <td>...</td>\n",
       "      <td>0.0</td>\n",
       "      <td>0.462535</td>\n",
       "      <td>11.854817</td>\n",
       "      <td>-0.007709</td>\n",
       "      <td>0.090623</td>\n",
       "      <td>20.198551</td>\n",
       "      <td>-0.060127</td>\n",
       "      <td>8.891111</td>\n",
       "      <td>1.542577</td>\n",
       "      <td>0.243447</td>\n",
       "    </tr>\n",
       "    <tr>\n",
       "      <th>2017-08-19</th>\n",
       "      <td>4.350567</td>\n",
       "      <td>0.0</td>\n",
       "      <td>3.001167</td>\n",
       "      <td>2422.493817</td>\n",
       "      <td>-0.236329</td>\n",
       "      <td>366.994103</td>\n",
       "      <td>12.634900</td>\n",
       "      <td>594.136059</td>\n",
       "      <td>730.848027</td>\n",
       "      <td>137.669231</td>\n",
       "      <td>...</td>\n",
       "      <td>0.0</td>\n",
       "      <td>0.761641</td>\n",
       "      <td>11.935863</td>\n",
       "      <td>0.041451</td>\n",
       "      <td>0.036005</td>\n",
       "      <td>-0.245516</td>\n",
       "      <td>-1.193101</td>\n",
       "      <td>8.936892</td>\n",
       "      <td>1.799138</td>\n",
       "      <td>3.380202</td>\n",
       "    </tr>\n",
       "    <tr>\n",
       "      <th>2017-08-20</th>\n",
       "      <td>1.729306</td>\n",
       "      <td>0.0</td>\n",
       "      <td>1.159444</td>\n",
       "      <td>1025.227708</td>\n",
       "      <td>-0.271743</td>\n",
       "      <td>122.567950</td>\n",
       "      <td>1.931911</td>\n",
       "      <td>204.858204</td>\n",
       "      <td>282.079091</td>\n",
       "      <td>58.538692</td>\n",
       "      <td>...</td>\n",
       "      <td>0.0</td>\n",
       "      <td>0.706361</td>\n",
       "      <td>12.133517</td>\n",
       "      <td>0.056176</td>\n",
       "      <td>0.187386</td>\n",
       "      <td>-0.246967</td>\n",
       "      <td>-1.250955</td>\n",
       "      <td>9.167326</td>\n",
       "      <td>1.878502</td>\n",
       "      <td>0.385910</td>\n",
       "    </tr>\n",
       "  </tbody>\n",
       "</table>\n",
       "<p>5 rows × 3564 columns</p>\n",
       "</div>"
      ],
      "text/plain": [
       "                sales                                                          \\\n",
       "store_nbr           1                                                           \n",
       "family     AUTOMOTIVE BABY CARE    BEAUTY    BEVERAGES     BOOKS BREAD/BAKERY   \n",
       "date                                                                            \n",
       "2017-08-16   4.341548       0.0  3.452431  2395.177911  0.425745   390.551336   \n",
       "2017-08-17   4.127794       0.0  2.563252  2045.710293  0.081730   336.073933   \n",
       "2017-08-18   5.836514       0.0  2.568565  2408.384935  0.063010   367.850190   \n",
       "2017-08-19   4.350567       0.0  3.001167  2422.493817 -0.236329   366.994103   \n",
       "2017-08-20   1.729306       0.0  1.159444  1025.227708 -0.271743   122.567950   \n",
       "\n",
       "                                                            ... onpromotion  \\\n",
       "store_nbr                                                   ...           9   \n",
       "family     CELEBRATION    CLEANING       DAIRY        DELI  ...   MAGAZINES   \n",
       "date                                                        ...               \n",
       "2017-08-16   17.332727  814.175849  810.690309  138.790001  ...         0.0   \n",
       "2017-08-17   20.314541  652.628073  663.738718  116.800825  ...         0.0   \n",
       "2017-08-18   22.555630  736.839224  778.048344  178.898602  ...         0.0   \n",
       "2017-08-19   12.634900  594.136059  730.848027  137.669231  ...         0.0   \n",
       "2017-08-20    1.931911  204.858204  282.079091   58.538692  ...         0.0   \n",
       "\n",
       "                                                                          \\\n",
       "store_nbr                                                                  \n",
       "family          MEATS PERSONAL CARE PET SUPPLIES PLAYERS AND ELECTRONICS   \n",
       "date                                                                       \n",
       "2017-08-16   0.288287     13.338082     0.036032                0.105168   \n",
       "2017-08-17  20.406772     12.241600    -0.023406                0.037320   \n",
       "2017-08-18   0.462535     11.854817    -0.007709                0.090623   \n",
       "2017-08-19   0.761641     11.935863     0.041451                0.036005   \n",
       "2017-08-20   0.706361     12.133517     0.056176                0.187386   \n",
       "\n",
       "                                                                            \\\n",
       "store_nbr                                                                    \n",
       "family        POULTRY PREPARED FOODS    PRODUCE SCHOOL AND OFFICE SUPPLIES   \n",
       "date                                                                         \n",
       "2017-08-16  -0.211493       3.982727  10.833558                   2.259167   \n",
       "2017-08-17  -0.163680      -1.055373   8.885126                   1.629003   \n",
       "2017-08-18  20.198551      -0.060127   8.891111                   1.542577   \n",
       "2017-08-19  -0.245516      -1.193101   8.936892                   1.799138   \n",
       "2017-08-20  -0.246967      -1.250955   9.167326                   1.878502   \n",
       "\n",
       "                      \n",
       "store_nbr             \n",
       "family       SEAFOOD  \n",
       "date                  \n",
       "2017-08-16  0.434602  \n",
       "2017-08-17  0.295068  \n",
       "2017-08-18  0.243447  \n",
       "2017-08-19  3.380202  \n",
       "2017-08-20  0.385910  \n",
       "\n",
       "[5 rows x 3564 columns]"
      ]
     },
     "execution_count": 11,
     "metadata": {},
     "output_type": "execute_result"
    }
   ],
   "source": [
    "y_submit = pd.DataFrame(model.predict(X_test), index=X_test.index, columns=y.columns)\n",
    "y_submit.head()"
   ]
  },
  {
   "cell_type": "code",
   "execution_count": 12,
   "id": "c845d0f0",
   "metadata": {
    "execution": {
     "iopub.execute_input": "2022-04-04T16:21:30.904770Z",
     "iopub.status.busy": "2022-04-04T16:21:30.903562Z",
     "iopub.status.idle": "2022-04-04T16:21:31.524719Z",
     "shell.execute_reply": "2022-04-04T16:21:31.524010Z",
     "shell.execute_reply.started": "2022-04-04T16:20:37.192335Z"
    },
    "papermill": {
     "duration": 0.673973,
     "end_time": "2022-04-04T16:21:31.524862",
     "exception": false,
     "start_time": "2022-04-04T16:21:30.850889",
     "status": "completed"
    },
    "tags": []
   },
   "outputs": [],
   "source": [
    "y_submit = pd.DataFrame(model.predict(X_test), index=X_test.index, columns=y.columns)\n",
    "y_submit = y_submit.stack(['store_nbr', 'family'])\n",
    "y_submit = y_submit.join(df_test.id).reindex(columns=['id', 'sales'])\n",
    "y_submit.to_csv('submission.csv', index=False)"
   ]
  },
  {
   "cell_type": "code",
   "execution_count": 13,
   "id": "50732d3e",
   "metadata": {
    "execution": {
     "iopub.execute_input": "2022-04-04T16:21:31.617633Z",
     "iopub.status.busy": "2022-04-04T16:21:31.616950Z",
     "iopub.status.idle": "2022-04-04T16:21:31.623623Z",
     "shell.execute_reply": "2022-04-04T16:21:31.624211Z",
     "shell.execute_reply.started": "2022-04-04T16:20:41.823862Z"
    },
    "papermill": {
     "duration": 0.057026,
     "end_time": "2022-04-04T16:21:31.624428",
     "exception": false,
     "start_time": "2022-04-04T16:21:31.567402",
     "status": "completed"
    },
    "tags": []
   },
   "outputs": [
    {
     "data": {
      "text/html": [
       "<div>\n",
       "<style scoped>\n",
       "    .dataframe tbody tr th:only-of-type {\n",
       "        vertical-align: middle;\n",
       "    }\n",
       "\n",
       "    .dataframe tbody tr th {\n",
       "        vertical-align: top;\n",
       "    }\n",
       "\n",
       "    .dataframe thead th {\n",
       "        text-align: right;\n",
       "    }\n",
       "</style>\n",
       "<table border=\"1\" class=\"dataframe\">\n",
       "  <thead>\n",
       "    <tr style=\"text-align: right;\">\n",
       "      <th></th>\n",
       "      <th></th>\n",
       "      <th></th>\n",
       "      <th>id</th>\n",
       "      <th>sales</th>\n",
       "    </tr>\n",
       "    <tr>\n",
       "      <th>date</th>\n",
       "      <th>store_nbr</th>\n",
       "      <th>family</th>\n",
       "      <th></th>\n",
       "      <th></th>\n",
       "    </tr>\n",
       "  </thead>\n",
       "  <tbody>\n",
       "    <tr>\n",
       "      <th rowspan=\"5\" valign=\"top\">2017-08-16</th>\n",
       "      <th rowspan=\"5\" valign=\"top\">1</th>\n",
       "      <th>AUTOMOTIVE</th>\n",
       "      <td>3000888</td>\n",
       "      <td>4.341548</td>\n",
       "    </tr>\n",
       "    <tr>\n",
       "      <th>BABY CARE</th>\n",
       "      <td>3000889</td>\n",
       "      <td>0.000000</td>\n",
       "    </tr>\n",
       "    <tr>\n",
       "      <th>BEAUTY</th>\n",
       "      <td>3000890</td>\n",
       "      <td>3.452431</td>\n",
       "    </tr>\n",
       "    <tr>\n",
       "      <th>BEVERAGES</th>\n",
       "      <td>3000891</td>\n",
       "      <td>2395.177911</td>\n",
       "    </tr>\n",
       "    <tr>\n",
       "      <th>BOOKS</th>\n",
       "      <td>3000892</td>\n",
       "      <td>0.425745</td>\n",
       "    </tr>\n",
       "  </tbody>\n",
       "</table>\n",
       "</div>"
      ],
      "text/plain": [
       "                                      id        sales\n",
       "date       store_nbr family                          \n",
       "2017-08-16 1         AUTOMOTIVE  3000888     4.341548\n",
       "                     BABY CARE   3000889     0.000000\n",
       "                     BEAUTY      3000890     3.452431\n",
       "                     BEVERAGES   3000891  2395.177911\n",
       "                     BOOKS       3000892     0.425745"
      ]
     },
     "execution_count": 13,
     "metadata": {},
     "output_type": "execute_result"
    }
   ],
   "source": [
    "y_submit.head()"
   ]
  },
  {
   "cell_type": "markdown",
   "id": "8728373a",
   "metadata": {
    "papermill": {
     "duration": 0.042872,
     "end_time": "2022-04-04T16:21:31.709728",
     "exception": false,
     "start_time": "2022-04-04T16:21:31.666856",
     "status": "completed"
    },
    "tags": []
   },
   "source": [
    "## Pre-Processing ##"
   ]
  },
  {
   "cell_type": "markdown",
   "id": "928b711f",
   "metadata": {
    "papermill": {
     "duration": 0.043421,
     "end_time": "2022-04-04T16:21:31.795744",
     "exception": false,
     "start_time": "2022-04-04T16:21:31.752323",
     "status": "completed"
    },
    "tags": []
   },
   "source": [
    "### Selection only Giants or Dwarfs ###"
   ]
  },
  {
   "cell_type": "markdown",
   "id": "fb7920bf",
   "metadata": {
    "papermill": {
     "duration": 0.042004,
     "end_time": "2022-04-04T16:21:31.880087",
     "exception": false,
     "start_time": "2022-04-04T16:21:31.838083",
     "status": "completed"
    },
    "tags": []
   },
   "source": [
    "## Balance ##"
   ]
  },
  {
   "cell_type": "code",
   "execution_count": 14,
   "id": "8b68cd87",
   "metadata": {
    "execution": {
     "iopub.execute_input": "2022-04-04T16:21:31.970401Z",
     "iopub.status.busy": "2022-04-04T16:21:31.969709Z",
     "iopub.status.idle": "2022-04-04T16:21:31.973030Z",
     "shell.execute_reply": "2022-04-04T16:21:31.972561Z",
     "shell.execute_reply.started": "2022-03-31T22:10:38.26702Z"
    },
    "papermill": {
     "duration": 0.050783,
     "end_time": "2022-04-04T16:21:31.973171",
     "exception": false,
     "start_time": "2022-04-04T16:21:31.922388",
     "status": "completed"
    },
    "tags": []
   },
   "outputs": [],
   "source": [
    "# dividir set \n",
    "\n",
    "\n",
    "\n",
    "# from sklearn.utils import resample\n",
    "# dfGiantsDownSample = resample(dfGiants, \n",
    "  #                           replace = False, # sample without replacement\n",
    "   #                          n_samples = num_of_dwarf,\n",
    "   #                          random_state =1 \n",
    " #                            )\n",
    "#dfDownSampled = pd.concat([dfGiantsDownSample , dfDwarfs] )\n",
    "\n",
    "#dfBalanced= dfDownSampled.reset_index(drop=True)\n",
    "\n",
    "# dataStar = dfBalanced.sample(frac=1).reset_index(drop=True) # shuffle\n",
    "# dfCopyStar = dataStar.copy()"
   ]
  },
  {
   "cell_type": "markdown",
   "id": "c8a9389a",
   "metadata": {
    "papermill": {
     "duration": 0.042453,
     "end_time": "2022-04-04T16:21:32.058592",
     "exception": false,
     "start_time": "2022-04-04T16:21:32.016139",
     "status": "completed"
    },
    "tags": []
   },
   "source": [
    "## Visualization ##"
   ]
  },
  {
   "cell_type": "markdown",
   "id": "dcdfe7b2",
   "metadata": {
    "papermill": {
     "duration": 0.042304,
     "end_time": "2022-04-04T16:21:32.143833",
     "exception": false,
     "start_time": "2022-04-04T16:21:32.101529",
     "status": "completed"
    },
    "tags": []
   },
   "source": [
    "## Correlation Linear ##"
   ]
  },
  {
   "cell_type": "markdown",
   "id": "68f3939f",
   "metadata": {
    "papermill": {
     "duration": 0.042503,
     "end_time": "2022-04-04T16:21:32.228991",
     "exception": false,
     "start_time": "2022-04-04T16:21:32.186488",
     "status": "completed"
    },
    "tags": []
   },
   "source": [
    "## Data Cleaning ##"
   ]
  },
  {
   "cell_type": "markdown",
   "id": "f9f16b2f",
   "metadata": {
    "papermill": {
     "duration": 0.042702,
     "end_time": "2022-04-04T16:21:32.314431",
     "exception": false,
     "start_time": "2022-04-04T16:21:32.271729",
     "status": "completed"
    },
    "tags": []
   },
   "source": [
    "# **Data Processing** #"
   ]
  },
  {
   "cell_type": "markdown",
   "id": "48db4771",
   "metadata": {
    "papermill": {
     "duration": 0.042461,
     "end_time": "2022-04-04T16:21:32.399335",
     "exception": false,
     "start_time": "2022-04-04T16:21:32.356874",
     "status": "completed"
    },
    "tags": []
   },
   "source": [
    "### Train and test Set ###"
   ]
  },
  {
   "cell_type": "code",
   "execution_count": 15,
   "id": "2c2da479",
   "metadata": {
    "execution": {
     "iopub.execute_input": "2022-04-04T16:21:32.490470Z",
     "iopub.status.busy": "2022-04-04T16:21:32.489722Z",
     "iopub.status.idle": "2022-04-04T16:21:32.491120Z",
     "shell.execute_reply": "2022-04-04T16:21:32.491713Z",
     "shell.execute_reply.started": "2022-03-31T22:10:38.319317Z"
    },
    "papermill": {
     "duration": 0.050193,
     "end_time": "2022-04-04T16:21:32.491873",
     "exception": false,
     "start_time": "2022-04-04T16:21:32.441680",
     "status": "completed"
    },
    "tags": []
   },
   "outputs": [],
   "source": [
    "## Stratified ##\n",
    "#from sklearn.model_selection import StratifiedShuffleSplit\n",
    "#split = StratifiedShuffleSplit(n_splits=1, test_size=0.2, random_state=42)\n",
    "#for train_index, test_index in split.split(data, data[\"variableStratificada\"]):\n",
    "#strat_train_set = housing.loc[train_index]\n",
    "#strat_test_set = housing.loc[test_index]\n",
    "\n",
    "#from  sklearn.impute import SimpleImputer\n",
    "#imputer = SimpleImputer(strategy='median')\n",
    "\n",
    "#from  sklearn.preprocessing import OneHotEncoder\n",
    "#catEncoder = OneHotEncoder()\n",
    "\n",
    "## numerical ##\n",
    "#from  sklearn.pipeline import Pipeline\n",
    "#from  sklearn.preprocessing import StandardScaler\n",
    "#numerical_pipeline = Pipeline([('imputer', SimpleImputer(strategy=\"median\")),('attribs_adder', CombinedAttributesAdder()),])\n",
    "# new_variable_transformed_numerical = num_pipeline.fit_transform(varible_numerica)\n",
    "\n",
    "## numerical and categorial ##\n",
    "#from sklearn import ColumnTransformer\n",
    "#numerical_attribs = list(numerical_columns)\n",
    "#categorical_attribs = list(categorial_columns)\n",
    "#full_pipeline = ColumnTransformer([(\"num\", numerical_pipeline, numerical_attribs),(\"cat\", OneHotEncoder(), categorical_attribs),])\n",
    "#dataTotal_prepared = full_pipeline.fit_transform(dataTotal) "
   ]
  },
  {
   "cell_type": "markdown",
   "id": "ccfdd1d2",
   "metadata": {
    "papermill": {
     "duration": 0.042069,
     "end_time": "2022-04-04T16:21:32.576326",
     "exception": false,
     "start_time": "2022-04-04T16:21:32.534257",
     "status": "completed"
    },
    "tags": []
   },
   "source": [
    "## Target ## "
   ]
  },
  {
   "cell_type": "markdown",
   "id": "f6299d62",
   "metadata": {
    "papermill": {
     "duration": 0.042537,
     "end_time": "2022-04-04T16:21:32.662160",
     "exception": false,
     "start_time": "2022-04-04T16:21:32.619623",
     "status": "completed"
    },
    "tags": []
   },
   "source": [
    "## Featuring Engineering ##"
   ]
  },
  {
   "cell_type": "markdown",
   "id": "bb433f8a",
   "metadata": {
    "papermill": {
     "duration": 0.04233,
     "end_time": "2022-04-04T16:21:32.747489",
     "exception": false,
     "start_time": "2022-04-04T16:21:32.705159",
     "status": "completed"
    },
    "tags": []
   },
   "source": [
    "##  Pipeline and Featuring Scaling ##"
   ]
  },
  {
   "cell_type": "markdown",
   "id": "3c76a7e9",
   "metadata": {
    "papermill": {
     "duration": 0.042617,
     "end_time": "2022-04-04T16:21:32.832852",
     "exception": false,
     "start_time": "2022-04-04T16:21:32.790235",
     "status": "completed"
    },
    "tags": []
   },
   "source": [
    " # **MODEL** # "
   ]
  },
  {
   "cell_type": "markdown",
   "id": "8b21b7d4",
   "metadata": {
    "papermill": {
     "duration": 0.042153,
     "end_time": "2022-04-04T16:21:32.917508",
     "exception": false,
     "start_time": "2022-04-04T16:21:32.875355",
     "status": "completed"
    },
    "tags": []
   },
   "source": [
    "#### Models ####"
   ]
  },
  {
   "cell_type": "code",
   "execution_count": 16,
   "id": "6bfe7618",
   "metadata": {
    "execution": {
     "iopub.execute_input": "2022-04-04T16:21:33.006035Z",
     "iopub.status.busy": "2022-04-04T16:21:33.005344Z",
     "iopub.status.idle": "2022-04-04T16:21:33.008062Z",
     "shell.execute_reply": "2022-04-04T16:21:33.008606Z",
     "shell.execute_reply.started": "2022-03-31T22:10:38.324212Z"
    },
    "papermill": {
     "duration": 0.048867,
     "end_time": "2022-04-04T16:21:33.008800",
     "exception": false,
     "start_time": "2022-04-04T16:21:32.959933",
     "status": "completed"
    },
    "tags": []
   },
   "outputs": [],
   "source": [
    "### stratified CV ### see pag 136  Geron's book\n",
    "#from sklearn.model_selection import StratifiedKFold\n",
    "#from sklearn.base import clone\n",
    "#skfolds = StratifiedKFold(n_splits=3, random_state=42)"
   ]
  },
  {
   "cell_type": "markdown",
   "id": "f3b791af",
   "metadata": {
    "papermill": {
     "duration": 0.042989,
     "end_time": "2022-04-04T16:21:33.095783",
     "exception": false,
     "start_time": "2022-04-04T16:21:33.052794",
     "status": "completed"
    },
    "tags": []
   },
   "source": [
    "# **Refinament** #"
   ]
  },
  {
   "cell_type": "code",
   "execution_count": null,
   "id": "506ee629",
   "metadata": {
    "papermill": {
     "duration": 0.042351,
     "end_time": "2022-04-04T16:21:33.180833",
     "exception": false,
     "start_time": "2022-04-04T16:21:33.138482",
     "status": "completed"
    },
    "tags": []
   },
   "outputs": [],
   "source": []
  },
  {
   "cell_type": "markdown",
   "id": "7d6780bc",
   "metadata": {
    "papermill": {
     "duration": 0.042092,
     "end_time": "2022-04-04T16:21:33.265525",
     "exception": false,
     "start_time": "2022-04-04T16:21:33.223433",
     "status": "completed"
    },
    "tags": []
   },
   "source": [
    "# **Deploy** #"
   ]
  },
  {
   "cell_type": "code",
   "execution_count": null,
   "id": "90f9ef6f",
   "metadata": {
    "papermill": {
     "duration": 0.042756,
     "end_time": "2022-04-04T16:21:33.350624",
     "exception": false,
     "start_time": "2022-04-04T16:21:33.307868",
     "status": "completed"
    },
    "tags": []
   },
   "outputs": [],
   "source": []
  },
  {
   "cell_type": "code",
   "execution_count": null,
   "id": "ca9e221b",
   "metadata": {
    "papermill": {
     "duration": 0.043093,
     "end_time": "2022-04-04T16:21:33.436911",
     "exception": false,
     "start_time": "2022-04-04T16:21:33.393818",
     "status": "completed"
    },
    "tags": []
   },
   "outputs": [],
   "source": []
  }
 ],
 "metadata": {
  "kernelspec": {
   "display_name": "Python 3",
   "language": "python",
   "name": "python3"
  },
  "language_info": {
   "codemirror_mode": {
    "name": "ipython",
    "version": 3
   },
   "file_extension": ".py",
   "mimetype": "text/x-python",
   "name": "python",
   "nbconvert_exporter": "python",
   "pygments_lexer": "ipython3",
   "version": "3.7.12"
  },
  "papermill": {
   "default_parameters": {},
   "duration": 25.232138,
   "end_time": "2022-04-04T16:21:34.194398",
   "environment_variables": {},
   "exception": null,
   "input_path": "__notebook__.ipynb",
   "output_path": "__notebook__.ipynb",
   "parameters": {},
   "start_time": "2022-04-04T16:21:08.962260",
   "version": "2.3.3"
  }
 },
 "nbformat": 4,
 "nbformat_minor": 5
}
