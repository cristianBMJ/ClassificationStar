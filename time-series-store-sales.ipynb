{
 "cells": [
  {
   "cell_type": "markdown",
   "id": "1e5fa77f",
   "metadata": {
    "papermill": {
     "duration": 0.045097,
     "end_time": "2022-04-14T15:09:57.923888",
     "exception": false,
     "start_time": "2022-04-14T15:09:57.878791",
     "status": "completed"
    },
    "tags": []
   },
   "source": [
    "# **Setting** #"
   ]
  },
  {
   "cell_type": "code",
   "execution_count": 1,
   "id": "f7b3c30d",
   "metadata": {
    "_cell_guid": "b1076dfc-b9ad-4769-8c92-a6c4dae69d19",
    "_uuid": "8f2839f25d086af736a60e9eeb907d3b93b6e0e5",
    "execution": {
     "iopub.execute_input": "2022-04-14T15:09:58.025636Z",
     "iopub.status.busy": "2022-04-14T15:09:58.024876Z",
     "iopub.status.idle": "2022-04-14T15:10:01.011144Z",
     "shell.execute_reply": "2022-04-14T15:10:01.010445Z",
     "shell.execute_reply.started": "2022-04-14T14:56:47.120972Z"
    },
    "papermill": {
     "duration": 3.042391,
     "end_time": "2022-04-14T15:10:01.011357",
     "exception": false,
     "start_time": "2022-04-14T15:09:57.968966",
     "status": "completed"
    },
    "tags": []
   },
   "outputs": [
    {
     "data": {
      "text/html": [
       "<style type='text/css'>\n",
       ".datatable table.frame { margin-bottom: 0; }\n",
       ".datatable table.frame thead { border-bottom: none; }\n",
       ".datatable table.frame tr.coltypes td {  color: #FFFFFF;  line-height: 6px;  padding: 0 0.5em;}\n",
       ".datatable .bool    { background: #DDDD99; }\n",
       ".datatable .object  { background: #565656; }\n",
       ".datatable .int     { background: #5D9E5D; }\n",
       ".datatable .float   { background: #4040CC; }\n",
       ".datatable .str     { background: #CC4040; }\n",
       ".datatable .time    { background: #40CC40; }\n",
       ".datatable .row_index {  background: var(--jp-border-color3);  border-right: 1px solid var(--jp-border-color0);  color: var(--jp-ui-font-color3);  font-size: 9px;}\n",
       ".datatable .frame tbody td { text-align: left; }\n",
       ".datatable .frame tr.coltypes .row_index {  background: var(--jp-border-color0);}\n",
       ".datatable th:nth-child(2) { padding-left: 12px; }\n",
       ".datatable .hellipsis {  color: var(--jp-cell-editor-border-color);}\n",
       ".datatable .vellipsis {  background: var(--jp-layout-color0);  color: var(--jp-cell-editor-border-color);}\n",
       ".datatable .na {  color: var(--jp-cell-editor-border-color);  font-size: 80%;}\n",
       ".datatable .sp {  opacity: 0.25;}\n",
       ".datatable .footer { font-size: 9px; }\n",
       ".datatable .frame_dimensions {  background: var(--jp-border-color3);  border-top: 1px solid var(--jp-border-color0);  color: var(--jp-ui-font-color3);  display: inline-block;  opacity: 0.6;  padding: 1px 10px 1px 5px;}\n",
       "</style>\n"
      ],
      "text/plain": [
       "<IPython.core.display.HTML object>"
      ]
     },
     "metadata": {},
     "output_type": "display_data"
    },
    {
     "name": "stdout",
     "output_type": "stream",
     "text": [
      "/kaggle/input/store-sales-time-series-forecasting/oil.csv\n",
      "/kaggle/input/store-sales-time-series-forecasting/sample_submission.csv\n",
      "/kaggle/input/store-sales-time-series-forecasting/holidays_events.csv\n",
      "/kaggle/input/store-sales-time-series-forecasting/stores.csv\n",
      "/kaggle/input/store-sales-time-series-forecasting/train.csv\n",
      "/kaggle/input/store-sales-time-series-forecasting/test.csv\n",
      "/kaggle/input/store-sales-time-series-forecasting/transactions.csv\n"
     ]
    }
   ],
   "source": [
    "# This Python 3 environment comes with many helpful analytics libraries installed\n",
    "# It is defined by the kaggle/python Docker image: https://github.com/kaggle/docker-python\n",
    "# For example, here's several helpful packages to load\n",
    "\n",
    "%matplotlib inline\n",
    "\n",
    "# Setup feedback system\n",
    "from learntools.core import binder\n",
    "binder.bind(globals())\n",
    "from learntools.time_series.ex3 import *\n",
    "\n",
    " # Allows the use of display() for DataFrames\n",
    "# from IPython.core.interactiveshell import InteractiveShell\n",
    "\n",
    "# InteractiveShell.ast_node_interactivity = \"all\"\n",
    "\n",
    "\n",
    "# Setup notebook\n",
    "from pathlib import Path\n",
    "from IPython.display import display\n",
    "\n",
    "from learntools.time_series.style import *  # plot style settings\n",
    "from learntools.time_series.utils import plot_periodogram, seasonal_plot\n",
    "\n",
    "\n",
    "import numpy as np # linear algebra\n",
    "import pandas as pd # data processing, CSV file I/O (e.g. pd.read_csv)\n",
    "\n",
    "%matplotlib inline\n",
    "import matplotlib.pyplot as plt\n",
    "import seaborn as sns\n",
    "\n",
    "from sklearn.linear_model import LinearRegression\n",
    "from sklearn.ensemble import RandomForestRegressor\n",
    "from statsmodels.tsa.deterministic import CalendarFourier, DeterministicProcess\n",
    "\n",
    "from lightgbm import LGBMRegressor # make for microsoft\n",
    "from statsmodels.tsa.seasonal import seasonal_decompose\n",
    "from statsmodels.graphics.tsaplots import plot_acf\n",
    "from scipy.stats import t\n",
    "from sklearn.model_selection import TimeSeriesSplit, train_test_split\n",
    "from sklearn.metrics import mean_absolute_error\n",
    "\n",
    "\n",
    "# Input data files are available in the read-only \"../input/\" directory\n",
    "# For example, running this (by clicking run or pressing Shift+Enter) will list all files under the input directory\n",
    "\n",
    "import os\n",
    "for dirname, _, filenames in os.walk('/kaggle/input'):\n",
    "    for filename in filenames:\n",
    "        print(os.path.join(dirname, filename))\n",
    "\n",
    "        \n",
    "        \n",
    "# You can write up to 20GB to the current directory (/kaggle/working/) that gets preserved as output when you create a version using \"Save & Run All\" \n",
    "# You can also write temporary files to /kaggle/temp/, but they won't be saved outside of the current session\n"
   ]
  },
  {
   "cell_type": "markdown",
   "id": "77ab7af8",
   "metadata": {
    "papermill": {
     "duration": 0.045614,
     "end_time": "2022-04-14T15:10:01.111851",
     "exception": false,
     "start_time": "2022-04-14T15:10:01.066237",
     "status": "completed"
    },
    "tags": []
   },
   "source": [
    "# **Get Data** #"
   ]
  },
  {
   "cell_type": "code",
   "execution_count": 2,
   "id": "a916a1be",
   "metadata": {
    "execution": {
     "iopub.execute_input": "2022-04-14T15:10:01.214524Z",
     "iopub.status.busy": "2022-04-14T15:10:01.213388Z",
     "iopub.status.idle": "2022-04-14T15:10:07.148952Z",
     "shell.execute_reply": "2022-04-14T15:10:07.147935Z",
     "shell.execute_reply.started": "2022-04-14T14:56:47.318493Z"
    },
    "papermill": {
     "duration": 5.99071,
     "end_time": "2022-04-14T15:10:07.149143",
     "exception": false,
     "start_time": "2022-04-14T15:10:01.158433",
     "status": "completed"
    },
    "tags": []
   },
   "outputs": [],
   "source": [
    "# Paths\n",
    "comp_dir = Path('../input/store-sales-time-series-forecasting')\n",
    "\n",
    "# Get datas\n",
    "holidays_events = pd.read_csv(\n",
    "    comp_dir / \"holidays_events.csv\",\n",
    "    dtype={\n",
    "        'type': 'category',\n",
    "        'locale': 'category',\n",
    "        'locale_name': 'category',\n",
    "        'description': 'category',\n",
    "        'transferred': 'bool',\n",
    "    },\n",
    "    parse_dates=['date'],\n",
    "    infer_datetime_format=True,\n",
    ")\n",
    "holidays_events = holidays_events.set_index('date').to_period('D')\n",
    "\n",
    "store_sales = pd.read_csv(\n",
    "    comp_dir / 'train.csv',\n",
    "    usecols=['store_nbr', 'family','onpromotion', 'date', 'sales'],\n",
    "    dtype={\n",
    "        'store_nbr': 'category',\n",
    "        'family': 'category',\n",
    "        'sales': 'float32',\n",
    "        'onpromotion': 'uint32',\n",
    "    },\n",
    "    parse_dates=['date'],\n",
    "    infer_datetime_format=True,\n",
    ")\n",
    "\n",
    "oil = pd.read_csv(\n",
    "    comp_dir / 'oil.csv',\n",
    "    usecols = ['date', 'dcoilwtico'],\n",
    "    dtype={'dcoilwtico': 'float32'    },\n",
    "    parse_dates=['date'],\n",
    "    infer_datetime_format=True,\n",
    ")\n",
    "\n",
    "holidays = (\n",
    "    holidays_events\n",
    "    .query(\"locale in ['National', 'Regional']\")\n",
    "    .loc['2017':'2017-08-15', ['description']]\n",
    "    .assign(description=lambda x: x.description.cat.remove_unused_categories()) # assign new columns\n",
    ")\n",
    "\n",
    "df_test = pd.read_csv(\n",
    "    comp_dir / 'test.csv',\n",
    "    dtype={\n",
    "        'store_nbr': 'category',\n",
    "        'family': 'category',\n",
    "        'onpromotion': 'uint32',\n",
    "    },\n",
    "    parse_dates=['date'],\n",
    "    infer_datetime_format=True,\n",
    ")\n",
    "# Rearray to period\n",
    "\n",
    "transactions =  pd.read_csv( comp_dir / 'transactions.csv',\n",
    "                            parse_dates = ['date'], \n",
    "                            infer_datetime_format = True, \n",
    "                            )\n",
    "\n",
    "# oil['date'] = oil.date.dt.to_period('D')\n",
    "oil = oil.set_index(['date']).sort_index()\n",
    "oil=oil.squeeze()\n",
    "\n",
    "store_sales['date'] = store_sales.date.dt.to_period('D')\n",
    "store_sales = store_sales.set_index(['store_nbr', 'family', 'date']).sort_index()\n",
    "\n"
   ]
  },
  {
   "cell_type": "markdown",
   "id": "8b377af6",
   "metadata": {
    "papermill": {
     "duration": 0.04548,
     "end_time": "2022-04-14T15:10:07.242450",
     "exception": false,
     "start_time": "2022-04-14T15:10:07.196970",
     "status": "completed"
    },
    "tags": []
   },
   "source": [
    "\n",
    "#  **Exploratory Data Analysis** #"
   ]
  },
  {
   "cell_type": "code",
   "execution_count": 3,
   "id": "8d97474f",
   "metadata": {
    "execution": {
     "iopub.execute_input": "2022-04-14T15:10:07.335583Z",
     "iopub.status.busy": "2022-04-14T15:10:07.334860Z",
     "iopub.status.idle": "2022-04-14T15:10:07.640613Z",
     "shell.execute_reply": "2022-04-14T15:10:07.641182Z",
     "shell.execute_reply.started": "2022-04-14T14:56:51.839857Z"
    },
    "papermill": {
     "duration": 0.354249,
     "end_time": "2022-04-14T15:10:07.641407",
     "exception": false,
     "start_time": "2022-04-14T15:10:07.287158",
     "status": "completed"
    },
    "tags": []
   },
   "outputs": [
    {
     "name": "stdout",
     "output_type": "stream",
     "text": [
      "<class 'pandas.core.frame.DataFrame'>\n",
      "MultiIndex: 3000888 entries, ('1', 'AUTOMOTIVE', Period('2013-01-01', 'D')) to ('9', 'SEAFOOD', Period('2017-08-15', 'D'))\n",
      "Data columns (total 2 columns):\n",
      " #   Column       Dtype  \n",
      "---  ------       -----  \n",
      " 0   sales        float32\n",
      " 1   onpromotion  uint32 \n",
      "dtypes: float32(1), uint32(1)\n",
      "memory usage: 34.4 MB\n"
     ]
    },
    {
     "data": {
      "text/plain": [
       "None"
      ]
     },
     "metadata": {},
     "output_type": "display_data"
    },
    {
     "data": {
      "text/html": [
       "<div>\n",
       "<style scoped>\n",
       "    .dataframe tbody tr th:only-of-type {\n",
       "        vertical-align: middle;\n",
       "    }\n",
       "\n",
       "    .dataframe tbody tr th {\n",
       "        vertical-align: top;\n",
       "    }\n",
       "\n",
       "    .dataframe thead th {\n",
       "        text-align: right;\n",
       "    }\n",
       "</style>\n",
       "<table border=\"1\" class=\"dataframe\">\n",
       "  <thead>\n",
       "    <tr style=\"text-align: right;\">\n",
       "      <th></th>\n",
       "      <th>count</th>\n",
       "      <th>mean</th>\n",
       "      <th>std</th>\n",
       "      <th>min</th>\n",
       "      <th>25%</th>\n",
       "      <th>50%</th>\n",
       "      <th>75%</th>\n",
       "      <th>max</th>\n",
       "    </tr>\n",
       "  </thead>\n",
       "  <tbody>\n",
       "    <tr>\n",
       "      <th>sales</th>\n",
       "      <td>3000888.0</td>\n",
       "      <td>356.758392</td>\n",
       "      <td>1093.275879</td>\n",
       "      <td>0.0</td>\n",
       "      <td>0.0</td>\n",
       "      <td>11.0</td>\n",
       "      <td>195.847252</td>\n",
       "      <td>124717.0</td>\n",
       "    </tr>\n",
       "    <tr>\n",
       "      <th>onpromotion</th>\n",
       "      <td>3000888.0</td>\n",
       "      <td>2.602770</td>\n",
       "      <td>12.218882</td>\n",
       "      <td>0.0</td>\n",
       "      <td>0.0</td>\n",
       "      <td>0.0</td>\n",
       "      <td>0.000000</td>\n",
       "      <td>741.0</td>\n",
       "    </tr>\n",
       "  </tbody>\n",
       "</table>\n",
       "</div>"
      ],
      "text/plain": [
       "                 count        mean          std  min  25%   50%         75%  \\\n",
       "sales        3000888.0  356.758392  1093.275879  0.0  0.0  11.0  195.847252   \n",
       "onpromotion  3000888.0    2.602770    12.218882  0.0  0.0   0.0    0.000000   \n",
       "\n",
       "                  max  \n",
       "sales        124717.0  \n",
       "onpromotion     741.0  "
      ]
     },
     "metadata": {},
     "output_type": "display_data"
    },
    {
     "data": {
      "text/html": [
       "<div>\n",
       "<style scoped>\n",
       "    .dataframe tbody tr th:only-of-type {\n",
       "        vertical-align: middle;\n",
       "    }\n",
       "\n",
       "    .dataframe tbody tr th {\n",
       "        vertical-align: top;\n",
       "    }\n",
       "\n",
       "    .dataframe thead th {\n",
       "        text-align: right;\n",
       "    }\n",
       "</style>\n",
       "<table border=\"1\" class=\"dataframe\">\n",
       "  <thead>\n",
       "    <tr style=\"text-align: right;\">\n",
       "      <th></th>\n",
       "      <th></th>\n",
       "      <th></th>\n",
       "      <th>sales</th>\n",
       "      <th>onpromotion</th>\n",
       "    </tr>\n",
       "    <tr>\n",
       "      <th>store_nbr</th>\n",
       "      <th>family</th>\n",
       "      <th>date</th>\n",
       "      <th></th>\n",
       "      <th></th>\n",
       "    </tr>\n",
       "  </thead>\n",
       "  <tbody>\n",
       "    <tr>\n",
       "      <th rowspan=\"5\" valign=\"top\">1</th>\n",
       "      <th rowspan=\"5\" valign=\"top\">AUTOMOTIVE</th>\n",
       "      <th>2013-01-01</th>\n",
       "      <td>0.0</td>\n",
       "      <td>0</td>\n",
       "    </tr>\n",
       "    <tr>\n",
       "      <th>2013-01-02</th>\n",
       "      <td>2.0</td>\n",
       "      <td>0</td>\n",
       "    </tr>\n",
       "    <tr>\n",
       "      <th>2013-01-03</th>\n",
       "      <td>3.0</td>\n",
       "      <td>0</td>\n",
       "    </tr>\n",
       "    <tr>\n",
       "      <th>2013-01-04</th>\n",
       "      <td>3.0</td>\n",
       "      <td>0</td>\n",
       "    </tr>\n",
       "    <tr>\n",
       "      <th>2013-01-05</th>\n",
       "      <td>5.0</td>\n",
       "      <td>0</td>\n",
       "    </tr>\n",
       "  </tbody>\n",
       "</table>\n",
       "</div>"
      ],
      "text/plain": [
       "                                 sales  onpromotion\n",
       "store_nbr family     date                          \n",
       "1         AUTOMOTIVE 2013-01-01    0.0            0\n",
       "                     2013-01-02    2.0            0\n",
       "                     2013-01-03    3.0            0\n",
       "                     2013-01-04    3.0            0\n",
       "                     2013-01-05    5.0            0"
      ]
     },
     "metadata": {},
     "output_type": "display_data"
    }
   ],
   "source": [
    "display(store_sales.info())\n",
    "display( store_sales.describe().T)\n",
    "display( store_sales.head()) "
   ]
  },
  {
   "cell_type": "code",
   "execution_count": 4,
   "id": "d8517e48",
   "metadata": {
    "execution": {
     "iopub.execute_input": "2022-04-14T15:10:07.747927Z",
     "iopub.status.busy": "2022-04-14T15:10:07.747191Z",
     "iopub.status.idle": "2022-04-14T15:10:07.754266Z",
     "shell.execute_reply": "2022-04-14T15:10:07.753636Z",
     "shell.execute_reply.started": "2022-04-14T14:56:52.164948Z"
    },
    "papermill": {
     "duration": 0.065159,
     "end_time": "2022-04-14T15:10:07.754450",
     "exception": false,
     "start_time": "2022-04-14T15:10:07.689291",
     "status": "completed"
    },
    "tags": []
   },
   "outputs": [],
   "source": [
    "store_sales['sales'].head()\n",
    "\n",
    "def decompose_bike_sharing_demand(df, share_type='sales', samples=250, period=30):\n",
    "    if samples == 'all':\n",
    "        #decomposing all time series timestamps\n",
    "        res = seasonal_decompose(df[share_type].values, period=period)\n",
    "    else:\n",
    "        #decomposing a sample of the time series\n",
    "        res = seasonal_decompose(df[share_type].values[-samples:], period=period)\n",
    "    \n",
    "    observed = res.observed\n",
    "    trend = res.trend\n",
    "    seasonal = res.seasonal\n",
    "    residual = res.resid\n",
    "    \n",
    "    #plot the complete time series\n",
    "    fig, axs = plt.subplots(4, figsize=(16,8))\n",
    "    axs[0].set_title('OBSERVED', fontsize=16)\n",
    "    axs[0].plot(observed)\n",
    "    axs[0].grid()\n",
    "    \n",
    "    #plot the trend of the time series\n",
    "    axs[1].set_title('TREND', fontsize=16)\n",
    "    axs[1].plot(trend)\n",
    "    axs[1].grid()\n",
    "    \n",
    "    #plot the seasonality of the time series. Period=24 daily seasonality | Period=24*7 weekly seasonality.\n",
    "    axs[2].set_title('SEASONALITY', fontsize=16)\n",
    "    axs[2].plot(seasonal)\n",
    "    axs[2].grid()\n",
    "    \n",
    "    #plot the noise of the time series\n",
    "    axs[3].set_title('NOISE', fontsize=16)\n",
    "    axs[3].plot(residual)\n",
    "    axs[3].scatter(y=residual, x=range(len(residual)), alpha=0.5)\n",
    "    axs[3].grid()\n",
    "    \n",
    "    plt.show()\n",
    "    "
   ]
  },
  {
   "cell_type": "code",
   "execution_count": 5,
   "id": "e5c39e38",
   "metadata": {
    "execution": {
     "iopub.execute_input": "2022-04-14T15:10:07.864501Z",
     "iopub.status.busy": "2022-04-14T15:10:07.858630Z",
     "iopub.status.idle": "2022-04-14T15:10:08.646369Z",
     "shell.execute_reply": "2022-04-14T15:10:08.646907Z",
     "shell.execute_reply.started": "2022-04-14T14:56:52.181143Z"
    },
    "papermill": {
     "duration": 0.842157,
     "end_time": "2022-04-14T15:10:08.647091",
     "exception": false,
     "start_time": "2022-04-14T15:10:07.804934",
     "status": "completed"
    },
    "tags": []
   },
   "outputs": [
    {
     "data": {
      "image/png": "[encoded data removed]",
      "text/plain": [
       "<Figure size 1152x576 with 4 Axes>"
      ]
     },
     "metadata": {
      "needs_background": "light"
     },
     "output_type": "display_data"
    }
   ],
   "source": [
    "decompose_bike_sharing_demand(store_sales, samples= 365, period = 30 )"
   ]
  },
  {
   "cell_type": "code",
   "execution_count": 6,
   "id": "e42dc438",
   "metadata": {
    "execution": {
     "iopub.execute_input": "2022-04-14T15:10:08.758395Z",
     "iopub.status.busy": "2022-04-14T15:10:08.757668Z",
     "iopub.status.idle": "2022-04-14T15:10:08.760660Z",
     "shell.execute_reply": "2022-04-14T15:10:08.761201Z",
     "shell.execute_reply.started": "2022-04-14T14:56:52.737132Z"
    },
    "papermill": {
     "duration": 0.061677,
     "end_time": "2022-04-14T15:10:08.761434",
     "exception": false,
     "start_time": "2022-04-14T15:10:08.699757",
     "status": "completed"
    },
    "tags": []
   },
   "outputs": [
    {
     "name": "stdout",
     "output_type": "stream",
     "text": [
      "Prueba\n"
     ]
    }
   ],
   "source": [
    "# lags correlation\n",
    "\n",
    "\n",
    "#plot_acf(store_sales['sales'].values, lags=5)\n",
    "#plot.show()\n",
    "print('Prueba')"
   ]
  },
  {
   "cell_type": "code",
   "execution_count": 7,
   "id": "2acdd524",
   "metadata": {
    "execution": {
     "iopub.execute_input": "2022-04-14T15:10:08.871175Z",
     "iopub.status.busy": "2022-04-14T15:10:08.870340Z",
     "iopub.status.idle": "2022-04-14T15:10:09.048723Z",
     "shell.execute_reply": "2022-04-14T15:10:09.048084Z",
     "shell.execute_reply.started": "2022-04-14T14:56:52.743262Z"
    },
    "papermill": {
     "duration": 0.234176,
     "end_time": "2022-04-14T15:10:09.048883",
     "exception": false,
     "start_time": "2022-04-14T15:10:08.814707",
     "status": "completed"
    },
    "tags": []
   },
   "outputs": [
    {
     "name": "stdout",
     "output_type": "stream",
     "text": [
      "<class 'pandas.core.frame.DataFrame'>\n",
      "RangeIndex: 83488 entries, 0 to 83487\n",
      "Data columns (total 3 columns):\n",
      " #   Column        Non-Null Count  Dtype         \n",
      "---  ------        --------------  -----         \n",
      " 0   date          83488 non-null  datetime64[ns]\n",
      " 1   store_nbr     83488 non-null  int64         \n",
      " 2   transactions  83488 non-null  int64         \n",
      "dtypes: datetime64[ns](1), int64(2)\n",
      "memory usage: 1.9 MB\n",
      "<class 'pandas.core.frame.DataFrame'>\n",
      "PeriodIndex: 227 entries, 2017-01-01 to 2017-08-15\n",
      "Freq: D\n",
      "Data columns (total 2 columns):\n",
      " #   Column       Non-Null Count  Dtype  \n",
      "---  ------       --------------  -----  \n",
      " 0   sales        227 non-null    float32\n",
      " 1   onpromotion  227 non-null    float64\n",
      "dtypes: float32(1), float64(1)\n",
      "memory usage: 4.4 KB\n"
     ]
    },
    {
     "data": {
      "text/plain": [
       "None"
      ]
     },
     "metadata": {},
     "output_type": "display_data"
    }
   ],
   "source": [
    "\n",
    "\n",
    "\n",
    "# transactions per store\n",
    "transactions.info()\n",
    "\n",
    "\n",
    "# average sales \n",
    "average_sales = (\n",
    "    store_sales\n",
    "    .groupby('date').mean()\n",
    "    .squeeze()\n",
    "    .loc['2017']\n",
    ")\n",
    "\n",
    "\n",
    "\n",
    "\n",
    "display(average_sales.info())\n",
    "#ax = average_sales.plot(**plot_params, alpha = 0.5,  title='Averange Sales', ylabel='Items Sold')\n",
    "#ax.legend();"
   ]
  },
  {
   "cell_type": "code",
   "execution_count": 8,
   "id": "f7f5b12b",
   "metadata": {
    "execution": {
     "iopub.execute_input": "2022-04-14T15:10:09.167992Z",
     "iopub.status.busy": "2022-04-14T15:10:09.167249Z",
     "iopub.status.idle": "2022-04-14T15:10:09.170325Z",
     "shell.execute_reply": "2022-04-14T15:10:09.171070Z",
     "shell.execute_reply.started": "2022-04-14T14:56:52.905098Z"
    },
    "papermill": {
     "duration": 0.068612,
     "end_time": "2022-04-14T15:10:09.171262",
     "exception": false,
     "start_time": "2022-04-14T15:10:09.102650",
     "status": "completed"
    },
    "tags": []
   },
   "outputs": [
    {
     "data": {
      "text/html": [
       "<div>\n",
       "<style scoped>\n",
       "    .dataframe tbody tr th:only-of-type {\n",
       "        vertical-align: middle;\n",
       "    }\n",
       "\n",
       "    .dataframe tbody tr th {\n",
       "        vertical-align: top;\n",
       "    }\n",
       "\n",
       "    .dataframe thead th {\n",
       "        text-align: right;\n",
       "    }\n",
       "</style>\n",
       "<table border=\"1\" class=\"dataframe\">\n",
       "  <thead>\n",
       "    <tr style=\"text-align: right;\">\n",
       "      <th></th>\n",
       "      <th>description</th>\n",
       "    </tr>\n",
       "    <tr>\n",
       "      <th>date</th>\n",
       "      <th></th>\n",
       "    </tr>\n",
       "  </thead>\n",
       "  <tbody>\n",
       "    <tr>\n",
       "      <th>2017-01-01</th>\n",
       "      <td>Primer dia del ano</td>\n",
       "    </tr>\n",
       "    <tr>\n",
       "      <th>2017-01-02</th>\n",
       "      <td>Traslado Primer dia del ano</td>\n",
       "    </tr>\n",
       "    <tr>\n",
       "      <th>2017-02-27</th>\n",
       "      <td>Carnaval</td>\n",
       "    </tr>\n",
       "    <tr>\n",
       "      <th>2017-02-28</th>\n",
       "      <td>Carnaval</td>\n",
       "    </tr>\n",
       "    <tr>\n",
       "      <th>2017-04-01</th>\n",
       "      <td>Provincializacion de Cotopaxi</td>\n",
       "    </tr>\n",
       "  </tbody>\n",
       "</table>\n",
       "</div>"
      ],
      "text/plain": [
       "                              description\n",
       "date                                     \n",
       "2017-01-01             Primer dia del ano\n",
       "2017-01-02    Traslado Primer dia del ano\n",
       "2017-02-27                       Carnaval\n",
       "2017-02-28                       Carnaval\n",
       "2017-04-01  Provincializacion de Cotopaxi"
      ]
     },
     "execution_count": 8,
     "metadata": {},
     "output_type": "execute_result"
    }
   ],
   "source": [
    "holidays.head()"
   ]
  },
  {
   "cell_type": "code",
   "execution_count": 9,
   "id": "d18cf189",
   "metadata": {
    "execution": {
     "iopub.execute_input": "2022-04-14T15:10:09.284784Z",
     "iopub.status.busy": "2022-04-14T15:10:09.284070Z",
     "iopub.status.idle": "2022-04-14T15:10:09.722339Z",
     "shell.execute_reply": "2022-04-14T15:10:09.721751Z",
     "shell.execute_reply.started": "2022-04-14T14:56:52.916892Z"
    },
    "papermill": {
     "duration": 0.495442,
     "end_time": "2022-04-14T15:10:09.722515",
     "exception": false,
     "start_time": "2022-04-14T15:10:09.227073",
     "status": "completed"
    },
    "tags": []
   },
   "outputs": [
    {
     "data": {
      "image/png": "[encoded data removed]",
      "text/plain": [
       "<Figure size 432x288 with 1 Axes>"
      ]
     },
     "metadata": {
      "needs_background": "light"
     },
     "output_type": "display_data"
    }
   ],
   "source": [
    "oil['2017'].plot()\n",
    "plt.show()"
   ]
  },
  {
   "cell_type": "code",
   "execution_count": 10,
   "id": "5ae2f8dc",
   "metadata": {
    "execution": {
     "iopub.execute_input": "2022-04-14T15:10:09.841011Z",
     "iopub.status.busy": "2022-04-14T15:10:09.840012Z",
     "iopub.status.idle": "2022-04-14T15:10:09.843620Z",
     "shell.execute_reply": "2022-04-14T15:10:09.844185Z",
     "shell.execute_reply.started": "2022-04-14T14:56:53.205197Z"
    },
    "papermill": {
     "duration": 0.065827,
     "end_time": "2022-04-14T15:10:09.844400",
     "exception": false,
     "start_time": "2022-04-14T15:10:09.778573",
     "status": "completed"
    },
    "tags": []
   },
   "outputs": [
    {
     "name": "stdout",
     "output_type": "stream",
     "text": [
      "dcoilwtico\n"
     ]
    }
   ],
   "source": [
    "print(oil.name) "
   ]
  },
  {
   "cell_type": "markdown",
   "id": "427a0247",
   "metadata": {
    "papermill": {
     "duration": 0.056327,
     "end_time": "2022-04-14T15:10:09.958066",
     "exception": false,
     "start_time": "2022-04-14T15:10:09.901739",
     "status": "completed"
    },
    "tags": []
   },
   "source": [
    "# **Model with Oil** #\n"
   ]
  },
  {
   "cell_type": "code",
   "execution_count": 11,
   "id": "dd0b689c",
   "metadata": {
    "execution": {
     "iopub.execute_input": "2022-04-14T15:10:10.082464Z",
     "iopub.status.busy": "2022-04-14T15:10:10.081682Z",
     "iopub.status.idle": "2022-04-14T15:10:12.063331Z",
     "shell.execute_reply": "2022-04-14T15:10:12.064330Z",
     "shell.execute_reply.started": "2022-04-14T14:56:53.216193Z"
    },
    "papermill": {
     "duration": 2.048128,
     "end_time": "2022-04-14T15:10:12.064661",
     "exception": false,
     "start_time": "2022-04-14T15:10:10.016533",
     "status": "completed"
    },
    "tags": []
   },
   "outputs": [
    {
     "data": {
      "text/html": [
       "<div>\n",
       "<style scoped>\n",
       "    .dataframe tbody tr th:only-of-type {\n",
       "        vertical-align: middle;\n",
       "    }\n",
       "\n",
       "    .dataframe tbody tr th {\n",
       "        vertical-align: top;\n",
       "    }\n",
       "\n",
       "    .dataframe thead tr th {\n",
       "        text-align: left;\n",
       "    }\n",
       "\n",
       "    .dataframe thead tr:last-of-type th {\n",
       "        text-align: right;\n",
       "    }\n",
       "</style>\n",
       "<table border=\"1\" class=\"dataframe\">\n",
       "  <thead>\n",
       "    <tr>\n",
       "      <th></th>\n",
       "      <th colspan=\"10\" halign=\"left\">sales</th>\n",
       "      <th>...</th>\n",
       "      <th colspan=\"10\" halign=\"left\">onpromotion</th>\n",
       "    </tr>\n",
       "    <tr>\n",
       "      <th>store_nbr</th>\n",
       "      <th colspan=\"10\" halign=\"left\">1</th>\n",
       "      <th>...</th>\n",
       "      <th colspan=\"10\" halign=\"left\">9</th>\n",
       "    </tr>\n",
       "    <tr>\n",
       "      <th>family</th>\n",
       "      <th>AUTOMOTIVE</th>\n",
       "      <th>BABY CARE</th>\n",
       "      <th>BEAUTY</th>\n",
       "      <th>BEVERAGES</th>\n",
       "      <th>BOOKS</th>\n",
       "      <th>BREAD/BAKERY</th>\n",
       "      <th>CELEBRATION</th>\n",
       "      <th>CLEANING</th>\n",
       "      <th>DAIRY</th>\n",
       "      <th>DELI</th>\n",
       "      <th>...</th>\n",
       "      <th>MAGAZINES</th>\n",
       "      <th>MEATS</th>\n",
       "      <th>PERSONAL CARE</th>\n",
       "      <th>PET SUPPLIES</th>\n",
       "      <th>PLAYERS AND ELECTRONICS</th>\n",
       "      <th>POULTRY</th>\n",
       "      <th>PREPARED FOODS</th>\n",
       "      <th>PRODUCE</th>\n",
       "      <th>SCHOOL AND OFFICE SUPPLIES</th>\n",
       "      <th>SEAFOOD</th>\n",
       "    </tr>\n",
       "    <tr>\n",
       "      <th>date</th>\n",
       "      <th></th>\n",
       "      <th></th>\n",
       "      <th></th>\n",
       "      <th></th>\n",
       "      <th></th>\n",
       "      <th></th>\n",
       "      <th></th>\n",
       "      <th></th>\n",
       "      <th></th>\n",
       "      <th></th>\n",
       "      <th></th>\n",
       "      <th></th>\n",
       "      <th></th>\n",
       "      <th></th>\n",
       "      <th></th>\n",
       "      <th></th>\n",
       "      <th></th>\n",
       "      <th></th>\n",
       "      <th></th>\n",
       "      <th></th>\n",
       "      <th></th>\n",
       "    </tr>\n",
       "  </thead>\n",
       "  <tbody>\n",
       "    <tr>\n",
       "      <th>2017-01-01</th>\n",
       "      <td>0.0</td>\n",
       "      <td>0.0</td>\n",
       "      <td>0.0</td>\n",
       "      <td>0.0</td>\n",
       "      <td>0.0</td>\n",
       "      <td>0.000000</td>\n",
       "      <td>0.0</td>\n",
       "      <td>0.0</td>\n",
       "      <td>0.0</td>\n",
       "      <td>0.000000</td>\n",
       "      <td>...</td>\n",
       "      <td>0</td>\n",
       "      <td>0</td>\n",
       "      <td>0</td>\n",
       "      <td>0</td>\n",
       "      <td>0</td>\n",
       "      <td>0</td>\n",
       "      <td>0</td>\n",
       "      <td>0</td>\n",
       "      <td>0</td>\n",
       "      <td>0</td>\n",
       "    </tr>\n",
       "    <tr>\n",
       "      <th>2017-01-02</th>\n",
       "      <td>5.0</td>\n",
       "      <td>0.0</td>\n",
       "      <td>0.0</td>\n",
       "      <td>1434.0</td>\n",
       "      <td>0.0</td>\n",
       "      <td>166.819000</td>\n",
       "      <td>0.0</td>\n",
       "      <td>332.0</td>\n",
       "      <td>376.0</td>\n",
       "      <td>44.980000</td>\n",
       "      <td>...</td>\n",
       "      <td>0</td>\n",
       "      <td>0</td>\n",
       "      <td>13</td>\n",
       "      <td>0</td>\n",
       "      <td>0</td>\n",
       "      <td>2</td>\n",
       "      <td>1</td>\n",
       "      <td>4</td>\n",
       "      <td>0</td>\n",
       "      <td>0</td>\n",
       "    </tr>\n",
       "    <tr>\n",
       "      <th>2017-01-03</th>\n",
       "      <td>4.0</td>\n",
       "      <td>0.0</td>\n",
       "      <td>4.0</td>\n",
       "      <td>3081.0</td>\n",
       "      <td>2.0</td>\n",
       "      <td>519.348022</td>\n",
       "      <td>15.0</td>\n",
       "      <td>952.0</td>\n",
       "      <td>1045.0</td>\n",
       "      <td>209.300003</td>\n",
       "      <td>...</td>\n",
       "      <td>0</td>\n",
       "      <td>0</td>\n",
       "      <td>11</td>\n",
       "      <td>0</td>\n",
       "      <td>0</td>\n",
       "      <td>1</td>\n",
       "      <td>2</td>\n",
       "      <td>150</td>\n",
       "      <td>0</td>\n",
       "      <td>0</td>\n",
       "    </tr>\n",
       "    <tr>\n",
       "      <th>2017-01-04</th>\n",
       "      <td>1.0</td>\n",
       "      <td>0.0</td>\n",
       "      <td>4.0</td>\n",
       "      <td>3039.0</td>\n",
       "      <td>2.0</td>\n",
       "      <td>543.250977</td>\n",
       "      <td>17.0</td>\n",
       "      <td>1055.0</td>\n",
       "      <td>1029.0</td>\n",
       "      <td>135.944000</td>\n",
       "      <td>...</td>\n",
       "      <td>0</td>\n",
       "      <td>0</td>\n",
       "      <td>15</td>\n",
       "      <td>0</td>\n",
       "      <td>0</td>\n",
       "      <td>1</td>\n",
       "      <td>8</td>\n",
       "      <td>9</td>\n",
       "      <td>0</td>\n",
       "      <td>0</td>\n",
       "    </tr>\n",
       "    <tr>\n",
       "      <th>2017-01-05</th>\n",
       "      <td>2.0</td>\n",
       "      <td>0.0</td>\n",
       "      <td>3.0</td>\n",
       "      <td>2617.0</td>\n",
       "      <td>0.0</td>\n",
       "      <td>533.479980</td>\n",
       "      <td>40.0</td>\n",
       "      <td>918.0</td>\n",
       "      <td>853.0</td>\n",
       "      <td>137.005997</td>\n",
       "      <td>...</td>\n",
       "      <td>0</td>\n",
       "      <td>21</td>\n",
       "      <td>8</td>\n",
       "      <td>0</td>\n",
       "      <td>0</td>\n",
       "      <td>1</td>\n",
       "      <td>1</td>\n",
       "      <td>5</td>\n",
       "      <td>0</td>\n",
       "      <td>1</td>\n",
       "    </tr>\n",
       "  </tbody>\n",
       "</table>\n",
       "<p>5 rows × 3564 columns</p>\n",
       "</div>"
      ],
      "text/plain": [
       "                sales                                                \\\n",
       "store_nbr           1                                                 \n",
       "family     AUTOMOTIVE BABY CARE BEAUTY BEVERAGES BOOKS BREAD/BAKERY   \n",
       "date                                                                  \n",
       "2017-01-01        0.0       0.0    0.0       0.0   0.0     0.000000   \n",
       "2017-01-02        5.0       0.0    0.0    1434.0   0.0   166.819000   \n",
       "2017-01-03        4.0       0.0    4.0    3081.0   2.0   519.348022   \n",
       "2017-01-04        1.0       0.0    4.0    3039.0   2.0   543.250977   \n",
       "2017-01-05        2.0       0.0    3.0    2617.0   0.0   533.479980   \n",
       "\n",
       "                                                     ... onpromotion        \\\n",
       "store_nbr                                            ...           9         \n",
       "family     CELEBRATION CLEANING   DAIRY        DELI  ...   MAGAZINES MEATS   \n",
       "date                                                 ...                     \n",
       "2017-01-01         0.0      0.0     0.0    0.000000  ...           0     0   \n",
       "2017-01-02         0.0    332.0   376.0   44.980000  ...           0     0   \n",
       "2017-01-03        15.0    952.0  1045.0  209.300003  ...           0     0   \n",
       "2017-01-04        17.0   1055.0  1029.0  135.944000  ...           0     0   \n",
       "2017-01-05        40.0    918.0   853.0  137.005997  ...           0    21   \n",
       "\n",
       "                                                                       \\\n",
       "store_nbr                                                               \n",
       "family     PERSONAL CARE PET SUPPLIES PLAYERS AND ELECTRONICS POULTRY   \n",
       "date                                                                    \n",
       "2017-01-01             0            0                       0       0   \n",
       "2017-01-02            13            0                       0       2   \n",
       "2017-01-03            11            0                       0       1   \n",
       "2017-01-04            15            0                       0       1   \n",
       "2017-01-05             8            0                       0       1   \n",
       "\n",
       "                                                                      \n",
       "store_nbr                                                             \n",
       "family     PREPARED FOODS PRODUCE SCHOOL AND OFFICE SUPPLIES SEAFOOD  \n",
       "date                                                                  \n",
       "2017-01-01              0       0                          0       0  \n",
       "2017-01-02              1       4                          0       0  \n",
       "2017-01-03              2     150                          0       0  \n",
       "2017-01-04              8       9                          0       0  \n",
       "2017-01-05              1       5                          0       1  \n",
       "\n",
       "[5 rows x 3564 columns]"
      ]
     },
     "metadata": {},
     "output_type": "display_data"
    },
    {
     "data": {
      "text/html": [
       "<div>\n",
       "<style scoped>\n",
       "    .dataframe tbody tr th:only-of-type {\n",
       "        vertical-align: middle;\n",
       "    }\n",
       "\n",
       "    .dataframe tbody tr th {\n",
       "        vertical-align: top;\n",
       "    }\n",
       "\n",
       "    .dataframe thead th {\n",
       "        text-align: right;\n",
       "    }\n",
       "</style>\n",
       "<table border=\"1\" class=\"dataframe\">\n",
       "  <thead>\n",
       "    <tr style=\"text-align: right;\">\n",
       "      <th></th>\n",
       "      <th>const</th>\n",
       "      <th>trend</th>\n",
       "      <th>s(2,5)</th>\n",
       "      <th>s(3,5)</th>\n",
       "      <th>s(4,5)</th>\n",
       "      <th>s(5,5)</th>\n",
       "      <th>sin(1,freq=M)</th>\n",
       "      <th>cos(1,freq=M)</th>\n",
       "      <th>sin(2,freq=M)</th>\n",
       "      <th>cos(2,freq=M)</th>\n",
       "      <th>sin(3,freq=M)</th>\n",
       "      <th>cos(3,freq=M)</th>\n",
       "      <th>sin(4,freq=M)</th>\n",
       "      <th>cos(4,freq=M)</th>\n",
       "    </tr>\n",
       "    <tr>\n",
       "      <th>date</th>\n",
       "      <th></th>\n",
       "      <th></th>\n",
       "      <th></th>\n",
       "      <th></th>\n",
       "      <th></th>\n",
       "      <th></th>\n",
       "      <th></th>\n",
       "      <th></th>\n",
       "      <th></th>\n",
       "      <th></th>\n",
       "      <th></th>\n",
       "      <th></th>\n",
       "      <th></th>\n",
       "      <th></th>\n",
       "    </tr>\n",
       "  </thead>\n",
       "  <tbody>\n",
       "    <tr>\n",
       "      <th>2013-01-01</th>\n",
       "      <td>1.0</td>\n",
       "      <td>1.0</td>\n",
       "      <td>0.0</td>\n",
       "      <td>0.0</td>\n",
       "      <td>0.0</td>\n",
       "      <td>0.0</td>\n",
       "      <td>0.000000</td>\n",
       "      <td>1.000000</td>\n",
       "      <td>0.000000</td>\n",
       "      <td>1.000000</td>\n",
       "      <td>0.000000</td>\n",
       "      <td>1.000000</td>\n",
       "      <td>0.000000</td>\n",
       "      <td>1.000000</td>\n",
       "    </tr>\n",
       "    <tr>\n",
       "      <th>2013-01-02</th>\n",
       "      <td>1.0</td>\n",
       "      <td>2.0</td>\n",
       "      <td>1.0</td>\n",
       "      <td>0.0</td>\n",
       "      <td>0.0</td>\n",
       "      <td>0.0</td>\n",
       "      <td>0.201299</td>\n",
       "      <td>0.979530</td>\n",
       "      <td>0.394356</td>\n",
       "      <td>0.918958</td>\n",
       "      <td>0.571268</td>\n",
       "      <td>0.820763</td>\n",
       "      <td>0.724793</td>\n",
       "      <td>0.688967</td>\n",
       "    </tr>\n",
       "    <tr>\n",
       "      <th>2013-01-03</th>\n",
       "      <td>1.0</td>\n",
       "      <td>3.0</td>\n",
       "      <td>0.0</td>\n",
       "      <td>1.0</td>\n",
       "      <td>0.0</td>\n",
       "      <td>0.0</td>\n",
       "      <td>0.394356</td>\n",
       "      <td>0.918958</td>\n",
       "      <td>0.724793</td>\n",
       "      <td>0.688967</td>\n",
       "      <td>0.937752</td>\n",
       "      <td>0.347305</td>\n",
       "      <td>0.998717</td>\n",
       "      <td>-0.050649</td>\n",
       "    </tr>\n",
       "    <tr>\n",
       "      <th>2013-01-04</th>\n",
       "      <td>1.0</td>\n",
       "      <td>4.0</td>\n",
       "      <td>0.0</td>\n",
       "      <td>0.0</td>\n",
       "      <td>1.0</td>\n",
       "      <td>0.0</td>\n",
       "      <td>0.571268</td>\n",
       "      <td>0.820763</td>\n",
       "      <td>0.937752</td>\n",
       "      <td>0.347305</td>\n",
       "      <td>0.968077</td>\n",
       "      <td>-0.250653</td>\n",
       "      <td>0.651372</td>\n",
       "      <td>-0.758758</td>\n",
       "    </tr>\n",
       "    <tr>\n",
       "      <th>2013-01-07</th>\n",
       "      <td>1.0</td>\n",
       "      <td>5.0</td>\n",
       "      <td>0.0</td>\n",
       "      <td>0.0</td>\n",
       "      <td>0.0</td>\n",
       "      <td>1.0</td>\n",
       "      <td>0.937752</td>\n",
       "      <td>0.347305</td>\n",
       "      <td>0.651372</td>\n",
       "      <td>-0.758758</td>\n",
       "      <td>-0.485302</td>\n",
       "      <td>-0.874347</td>\n",
       "      <td>-0.988468</td>\n",
       "      <td>0.151428</td>\n",
       "    </tr>\n",
       "  </tbody>\n",
       "</table>\n",
       "</div>"
      ],
      "text/plain": [
       "            const  trend  s(2,5)  s(3,5)  s(4,5)  s(5,5)  sin(1,freq=M)  \\\n",
       "date                                                                      \n",
       "2013-01-01    1.0    1.0     0.0     0.0     0.0     0.0       0.000000   \n",
       "2013-01-02    1.0    2.0     1.0     0.0     0.0     0.0       0.201299   \n",
       "2013-01-03    1.0    3.0     0.0     1.0     0.0     0.0       0.394356   \n",
       "2013-01-04    1.0    4.0     0.0     0.0     1.0     0.0       0.571268   \n",
       "2013-01-07    1.0    5.0     0.0     0.0     0.0     1.0       0.937752   \n",
       "\n",
       "            cos(1,freq=M)  sin(2,freq=M)  cos(2,freq=M)  sin(3,freq=M)  \\\n",
       "date                                                                     \n",
       "2013-01-01       1.000000       0.000000       1.000000       0.000000   \n",
       "2013-01-02       0.979530       0.394356       0.918958       0.571268   \n",
       "2013-01-03       0.918958       0.724793       0.688967       0.937752   \n",
       "2013-01-04       0.820763       0.937752       0.347305       0.968077   \n",
       "2013-01-07       0.347305       0.651372      -0.758758      -0.485302   \n",
       "\n",
       "            cos(3,freq=M)  sin(4,freq=M)  cos(4,freq=M)  \n",
       "date                                                     \n",
       "2013-01-01       1.000000       0.000000       1.000000  \n",
       "2013-01-02       0.820763       0.724793       0.688967  \n",
       "2013-01-03       0.347305       0.998717      -0.050649  \n",
       "2013-01-04      -0.250653       0.651372      -0.758758  \n",
       "2013-01-07      -0.874347      -0.988468       0.151428  "
      ]
     },
     "execution_count": 11,
     "metadata": {},
     "output_type": "execute_result"
    }
   ],
   "source": [
    "y = store_sales.unstack(['store_nbr', 'family']).loc[\"2017\"] \n",
    "\n",
    "display(y.head())\n",
    "\n",
    "# y = y.join( oil.rename('Oil') , on='date').fillna(method = 'bfill')\n",
    "\n",
    "# Create training data\n",
    "fourier = CalendarFourier(freq='M', order=4)\n",
    "dp = DeterministicProcess(\n",
    "    index=y.index,\n",
    "    constant=True,\n",
    "    order=1,\n",
    "    seasonal=True,\n",
    "    additional_terms=[fourier],\n",
    "    drop=True,\n",
    ")\n",
    "\n",
    "X = dp.in_sample()\n",
    "X['NewYear'] = (X.index.dayofyear == 1)\n",
    "X_holidays = pd.get_dummies(holidays) # add columns on Holidays, more featured, way matricial\n",
    "\n",
    "\n",
    "#X = X.join( oil.rename('Oil') , on='date').fillna(method = 'bfill')\n",
    "\n",
    "fourier = CalendarFourier(freq='M', order=4)\n",
    "dpOil = DeterministicProcess(\n",
    "    index=oil.index,\n",
    "    constant=True,\n",
    "    order=1,\n",
    "    seasonal=True,\n",
    "    additional_terms=[fourier],\n",
    "    drop=True,\n",
    ")\n",
    "\n",
    "Xoil = dpOil.in_sample()\n",
    "\n",
    "Xoil.head()"
   ]
  },
  {
   "cell_type": "code",
   "execution_count": 12,
   "id": "0f116e93",
   "metadata": {
    "execution": {
     "iopub.execute_input": "2022-04-14T15:10:12.224629Z",
     "iopub.status.busy": "2022-04-14T15:10:12.223904Z",
     "iopub.status.idle": "2022-04-14T15:10:12.256925Z",
     "shell.execute_reply": "2022-04-14T15:10:12.257514Z",
     "shell.execute_reply.started": "2022-04-14T14:56:54.731196Z"
    },
    "papermill": {
     "duration": 0.098802,
     "end_time": "2022-04-14T15:10:12.257710",
     "exception": false,
     "start_time": "2022-04-14T15:10:12.158908",
     "status": "completed"
    },
    "tags": []
   },
   "outputs": [
    {
     "name": "stdout",
     "output_type": "stream",
     "text": [
      "<class 'pandas.core.frame.DataFrame'>\n",
      "PeriodIndex: 227 entries, 2017-01-01 to 2017-08-15\n",
      "Freq: D\n",
      "Data columns (total 31 columns):\n",
      " #   Column           Non-Null Count  Dtype  \n",
      "---  ------           --------------  -----  \n",
      " 0   const            227 non-null    float64\n",
      " 1   trend            227 non-null    float64\n",
      " 2   s(2,7)           227 non-null    float64\n",
      " 3   s(3,7)           227 non-null    float64\n",
      " 4   s(4,7)           227 non-null    float64\n",
      " 5   s(5,7)           227 non-null    float64\n",
      " 6   s(6,7)           227 non-null    float64\n",
      " 7   s(7,7)           227 non-null    float64\n",
      " 8   sin(1,freq=M)    227 non-null    float64\n",
      " 9   cos(1,freq=M)    227 non-null    float64\n",
      " 10  sin(2,freq=M)    227 non-null    float64\n",
      " 11  cos(2,freq=M)    227 non-null    float64\n",
      " 12  sin(3,freq=M)    227 non-null    float64\n",
      " 13  cos(3,freq=M)    227 non-null    float64\n",
      " 14  sin(4,freq=M)    227 non-null    float64\n",
      " 15  cos(4,freq=M)    227 non-null    float64\n",
      " 16  NewYear          227 non-null    bool   \n",
      " 17  constRT          0 non-null      float64\n",
      " 18  trendRT          0 non-null      float64\n",
      " 19  s(2,5)           0 non-null      float64\n",
      " 20  s(3,5)           0 non-null      float64\n",
      " 21  s(4,5)           0 non-null      float64\n",
      " 22  s(5,5)           0 non-null      float64\n",
      " 23  sin(1,freq=M)RT  0 non-null      float64\n",
      " 24  cos(1,freq=M)RT  0 non-null      float64\n",
      " 25  sin(2,freq=M)RT  0 non-null      float64\n",
      " 26  cos(2,freq=M)RT  0 non-null      float64\n",
      " 27  sin(3,freq=M)RT  0 non-null      float64\n",
      " 28  cos(3,freq=M)RT  0 non-null      float64\n",
      " 29  sin(4,freq=M)RT  0 non-null      float64\n",
      " 30  cos(4,freq=M)RT  0 non-null      float64\n",
      "dtypes: bool(1), float64(30)\n",
      "memory usage: 55.2 KB\n"
     ]
    }
   ],
   "source": [
    "X1 = X.join( Xoil , on='date', rsuffix='RT').fillna(method = 'bfill')\n",
    "\n",
    "X1.info()"
   ]
  },
  {
   "cell_type": "code",
   "execution_count": 13,
   "id": "b378d2ac",
   "metadata": {
    "execution": {
     "iopub.execute_input": "2022-04-14T15:10:12.380216Z",
     "iopub.status.busy": "2022-04-14T15:10:12.379517Z",
     "iopub.status.idle": "2022-04-14T15:10:12.405934Z",
     "shell.execute_reply": "2022-04-14T15:10:12.406606Z",
     "shell.execute_reply.started": "2022-04-14T14:56:54.790722Z"
    },
    "papermill": {
     "duration": 0.090192,
     "end_time": "2022-04-14T15:10:12.406792",
     "exception": false,
     "start_time": "2022-04-14T15:10:12.316600",
     "status": "completed"
    },
    "tags": []
   },
   "outputs": [
    {
     "name": "stdout",
     "output_type": "stream",
     "text": [
      "Num_null:  0\n",
      "<class 'pandas.core.frame.DataFrame'>\n",
      "PeriodIndex: 227 entries, 2017-01-01 to 2017-08-15\n",
      "Freq: D\n",
      "Data columns (total 44 columns):\n",
      " #   Column                                              Non-Null Count  Dtype  \n",
      "---  ------                                              --------------  -----  \n",
      " 0   const                                               227 non-null    float64\n",
      " 1   trend                                               227 non-null    float64\n",
      " 2   s(2,7)                                              227 non-null    float64\n",
      " 3   s(3,7)                                              227 non-null    float64\n",
      " 4   s(4,7)                                              227 non-null    float64\n",
      " 5   s(5,7)                                              227 non-null    float64\n",
      " 6   s(6,7)                                              227 non-null    float64\n",
      " 7   s(7,7)                                              227 non-null    float64\n",
      " 8   sin(1,freq=M)                                       227 non-null    float64\n",
      " 9   cos(1,freq=M)                                       227 non-null    float64\n",
      " 10  sin(2,freq=M)                                       227 non-null    float64\n",
      " 11  cos(2,freq=M)                                       227 non-null    float64\n",
      " 12  sin(3,freq=M)                                       227 non-null    float64\n",
      " 13  cos(3,freq=M)                                       227 non-null    float64\n",
      " 14  sin(4,freq=M)                                       227 non-null    float64\n",
      " 15  cos(4,freq=M)                                       227 non-null    float64\n",
      " 16  NewYear                                             227 non-null    bool   \n",
      " 17  constRT                                             227 non-null    float64\n",
      " 18  trendRT                                             227 non-null    float64\n",
      " 19  s(2,5)                                              227 non-null    float64\n",
      " 20  s(3,5)                                              227 non-null    float64\n",
      " 21  s(4,5)                                              227 non-null    float64\n",
      " 22  s(5,5)                                              227 non-null    float64\n",
      " 23  sin(1,freq=M)RT                                     227 non-null    float64\n",
      " 24  cos(1,freq=M)RT                                     227 non-null    float64\n",
      " 25  sin(2,freq=M)RT                                     227 non-null    float64\n",
      " 26  cos(2,freq=M)RT                                     227 non-null    float64\n",
      " 27  sin(3,freq=M)RT                                     227 non-null    float64\n",
      " 28  cos(3,freq=M)RT                                     227 non-null    float64\n",
      " 29  sin(4,freq=M)RT                                     227 non-null    float64\n",
      " 30  cos(4,freq=M)RT                                     227 non-null    float64\n",
      " 31  description_Batalla de Pichincha                    227 non-null    float64\n",
      " 32  description_Carnaval                                227 non-null    float64\n",
      " 33  description_Dia de la Madre                         227 non-null    float64\n",
      " 34  description_Dia de la Madre-1                       227 non-null    float64\n",
      " 35  description_Dia del Trabajo                         227 non-null    float64\n",
      " 36  description_Primer Grito de Independencia           227 non-null    float64\n",
      " 37  description_Primer dia del ano                      227 non-null    float64\n",
      " 38  description_Provincializacion de Cotopaxi           227 non-null    float64\n",
      " 39  description_Provincializacion de Imbabura           227 non-null    float64\n",
      " 40  description_Traslado Batalla de Pichincha           227 non-null    float64\n",
      " 41  description_Traslado Primer Grito de Independencia  227 non-null    float64\n",
      " 42  description_Traslado Primer dia del ano             227 non-null    float64\n",
      " 43  description_Viernes Santo                           227 non-null    float64\n",
      "dtypes: bool(1), float64(43)\n",
      "memory usage: 78.3 KB\n"
     ]
    },
    {
     "data": {
      "text/plain": [
       "None"
      ]
     },
     "metadata": {},
     "output_type": "display_data"
    }
   ],
   "source": [
    "from sklearn.preprocessing import OneHotEncoder\n",
    " \n",
    "\n",
    "\n",
    "X2 = X1.join(X_holidays, on='date').fillna(0.0)\n",
    "\n",
    "missingValueCount = X2.isnull().sum()\n",
    "print('Num_null: ' , missingValueCount.sum() )\n",
    "X2 = X2.dropna()\n",
    "X2 = X2.fillna(0)\n",
    "\n",
    "display(X2.info())\n"
   ]
  },
  {
   "cell_type": "code",
   "execution_count": 14,
   "id": "4f0c6e4f",
   "metadata": {
    "execution": {
     "iopub.execute_input": "2022-04-14T15:10:12.533443Z",
     "iopub.status.busy": "2022-04-14T15:10:12.532630Z",
     "iopub.status.idle": "2022-04-14T15:10:25.453685Z",
     "shell.execute_reply": "2022-04-14T15:10:25.454691Z",
     "shell.execute_reply.started": "2022-04-14T14:57:43.028931Z"
    },
    "papermill": {
     "duration": 12.989019,
     "end_time": "2022-04-14T15:10:25.456069",
     "exception": false,
     "start_time": "2022-04-14T15:10:12.467050",
     "status": "completed"
    },
    "tags": []
   },
   "outputs": [
    {
     "name": "stdout",
     "output_type": "stream",
     "text": [
      "<class 'pandas.core.frame.DataFrame'>\n",
      "PeriodIndex: 227 entries, 2017-01-01 to 2017-08-15\n",
      "Freq: D\n",
      "Columns: 3564 entries, ('sales', '1', 'AUTOMOTIVE') to ('onpromotion', '9', 'SEAFOOD')\n",
      "dtypes: float64(3564)\n",
      "memory usage: 6.2 MB\n"
     ]
    }
   ],
   "source": [
    "#model = LinearRegression(fit_intercept=False)\n",
    "model = RandomForestRegressor(random_state = 42)\n",
    "\n",
    "# model = LGBMRegressor(random_state = 42) \"not work with  mulpli-columns\"\n",
    "\n",
    "model.fit(X2, y)\n",
    "y_pred = pd.DataFrame(model.predict(X2), index=X2.index, columns=y.columns)\n",
    "y_pred.info()"
   ]
  },
  {
   "cell_type": "code",
   "execution_count": 15,
   "id": "08174e52",
   "metadata": {
    "execution": {
     "iopub.execute_input": "2022-04-14T15:10:25.583841Z",
     "iopub.status.busy": "2022-04-14T15:10:25.583132Z",
     "iopub.status.idle": "2022-04-14T15:10:26.140385Z",
     "shell.execute_reply": "2022-04-14T15:10:26.139785Z",
     "shell.execute_reply.started": "2022-04-14T14:58:29.090304Z"
    },
    "papermill": {
     "duration": 0.623092,
     "end_time": "2022-04-14T15:10:26.140535",
     "exception": false,
     "start_time": "2022-04-14T15:10:25.517443",
     "status": "completed"
    },
    "tags": []
   },
   "outputs": [
    {
     "data": {
      "text/plain": [
       "CategoricalIndex(['AUTOMOTIVE', 'BABY CARE', 'BEAUTY', 'BEVERAGES', 'BOOKS',\n",
       "                  'BREAD/BAKERY', 'CELEBRATION', 'CLEANING', 'DAIRY', 'DELI',\n",
       "                  'EGGS', 'FROZEN FOODS', 'GROCERY I', 'GROCERY II',\n",
       "                  'HARDWARE', 'HOME AND KITCHEN I', 'HOME AND KITCHEN II',\n",
       "                  'HOME APPLIANCES', 'HOME CARE', 'LADIESWEAR',\n",
       "                  'LAWN AND GARDEN', 'LINGERIE', 'LIQUOR,WINE,BEER',\n",
       "                  'MAGAZINES', 'MEATS', 'PERSONAL CARE', 'PET SUPPLIES',\n",
       "                  'PLAYERS AND ELECTRONICS', 'POULTRY', 'PREPARED FOODS',\n",
       "                  'PRODUCE', 'SCHOOL AND OFFICE SUPPLIES', 'SEAFOOD'],\n",
       "                 categories=['AUTOMOTIVE', 'BABY CARE', 'BEAUTY', 'BEVERAGES', 'BOOKS', 'BREAD/BAKERY', 'CELEBRATION', 'CLEANING', ...], ordered=False, dtype='category', name='family')"
      ]
     },
     "metadata": {},
     "output_type": "display_data"
    },
    {
     "data": {
      "image/png": "[encoded data removed]",
      "text/plain": [
       "<Figure size 432x288 with 1 Axes>"
      ]
     },
     "metadata": {
      "needs_background": "light"
     },
     "output_type": "display_data"
    }
   ],
   "source": [
    "STORE_NBR = '1'  # 1 - 54\n",
    "FAMILY = 'PRODUCE'\n",
    "# Uncomment to see a list of product families\n",
    "display(store_sales.index.get_level_values('family').unique())\n",
    "\n",
    "ax = y.loc(axis=1)['sales', STORE_NBR, FAMILY].plot(**plot_params) # choose single store 1 and family equal produce. \n",
    "ax = y_pred.loc(axis=1)['sales', STORE_NBR, FAMILY].plot(ax=ax, color='red')\n",
    "ax.set_title(f'{FAMILY} Sales at Store {STORE_NBR}');"
   ]
  },
  {
   "cell_type": "code",
   "execution_count": 16,
   "id": "66cc26b0",
   "metadata": {
    "execution": {
     "iopub.execute_input": "2022-04-14T15:10:26.269842Z",
     "iopub.status.busy": "2022-04-14T15:10:26.269061Z",
     "iopub.status.idle": "2022-04-14T15:10:26.277789Z",
     "shell.execute_reply": "2022-04-14T15:10:26.278405Z",
     "shell.execute_reply.started": "2022-04-14T14:58:29.586534Z"
    },
    "papermill": {
     "duration": 0.075622,
     "end_time": "2022-04-14T15:10:26.278588",
     "exception": false,
     "start_time": "2022-04-14T15:10:26.202966",
     "status": "completed"
    },
    "tags": []
   },
   "outputs": [
    {
     "data": {
      "text/plain": [
       "101.697"
      ]
     },
     "execution_count": 16,
     "metadata": {},
     "output_type": "execute_result"
    }
   ],
   "source": [
    "Y = y.loc(axis=1)['sales', STORE_NBR, FAMILY]\n",
    "Ypred = y_pred.loc(axis=1)['sales', STORE_NBR, FAMILY]\n",
    "\n",
    "mae = np.round(mean_absolute_error(Y, Ypred), 3)    \n",
    "\n",
    "mae"
   ]
  },
  {
   "cell_type": "code",
   "execution_count": 17,
   "id": "3eddc8ec",
   "metadata": {
    "execution": {
     "iopub.execute_input": "2022-04-14T15:10:26.411020Z",
     "iopub.status.busy": "2022-04-14T15:10:26.410265Z",
     "iopub.status.idle": "2022-04-14T15:10:26.577868Z",
     "shell.execute_reply": "2022-04-14T15:10:26.578475Z",
     "shell.execute_reply.started": "2022-04-14T14:58:29.598155Z"
    },
    "papermill": {
     "duration": 0.236037,
     "end_time": "2022-04-14T15:10:26.578689",
     "exception": false,
     "start_time": "2022-04-14T15:10:26.342652",
     "status": "completed"
    },
    "tags": []
   },
   "outputs": [],
   "source": [
    "def train_time_series_with_folds(df, horizon=7*2):\n",
    "    X = df.drop('count', axis=1)\n",
    "    y = df['count']\n",
    "    \n",
    "    #take last week of the dataset for validation\n",
    "    X_train, X_test = X.iloc[:-horizon,:], X.iloc[-horizon:,:]\n",
    "    y_train, y_test = y.iloc[:-horizon], y.iloc[-horizon:]\n",
    "    \n",
    "    #create, train and do inference of the model\n",
    "    model = LGBMRegressor(random_state=42)\n",
    "    model.fit(X_train, y_train)\n",
    "    predictions = model.predict(X_test)\n",
    "    \n",
    "    #calculate MAE\n",
    "    mae = np.round(mean_absolute_error(y_test, predictions), 3)    \n",
    "    \n",
    "    #plot reality vs prediction for the last week of the dataset\n",
    "    fig = plt.figure(figsize=(16,8))\n",
    "    plt.title(f'Real vs Prediction - MAE {mae}', fontsize=20)\n",
    "    plt.plot(y_test, color='red')\n",
    "    plt.plot(pd.Series(predictions, index=y_test.index), color='green')\n",
    "    plt.xlabel('Hour', fontsize=16)\n",
    "    plt.ylabel('Number of Shared Bikes', fontsize=16)\n",
    "    plt.legend(labels=['Real', 'Prediction'], fontsize=16)\n",
    "    plt.grid()\n",
    "    plt.show()\n",
    "    \n",
    "    #create a dataframe with the variable importances of the model\n",
    "    df_importances = pd.DataFrame({\n",
    "        'feature': model.feature_name_,\n",
    "        'importance': model.feature_importances_\n",
    "    }).sort_values(by='importance', ascending=False)\n",
    "    \n",
    "    #plot variable importances of the model\n",
    "    plt.title('Variable Importances', fontsize=16)\n",
    "    sns.barplot(x=df_importances.importance, y=df_importances.feature, orient='h')\n",
    "    plt.show()"
   ]
  },
  {
   "cell_type": "markdown",
   "id": "9293973a",
   "metadata": {
    "papermill": {
     "duration": 0.062233,
     "end_time": "2022-04-14T15:10:26.704004",
     "exception": false,
     "start_time": "2022-04-14T15:10:26.641771",
     "status": "completed"
    },
    "tags": []
   },
   "source": [
    "We see a low in the price oil, at the end of 2014."
   ]
  },
  {
   "cell_type": "markdown",
   "id": "dd5cfa43",
   "metadata": {
    "papermill": {
     "duration": 0.062583,
     "end_time": "2022-04-14T15:10:26.831499",
     "exception": false,
     "start_time": "2022-04-14T15:10:26.768916",
     "status": "completed"
    },
    "tags": []
   },
   "source": [
    "### Missing Values ###"
   ]
  },
  {
   "cell_type": "code",
   "execution_count": 18,
   "id": "d5da93f8",
   "metadata": {
    "execution": {
     "iopub.execute_input": "2022-04-14T15:10:26.959289Z",
     "iopub.status.busy": "2022-04-14T15:10:26.958580Z",
     "iopub.status.idle": "2022-04-14T15:10:27.037574Z",
     "shell.execute_reply": "2022-04-14T15:10:27.038093Z",
     "shell.execute_reply.started": "2022-04-14T14:58:29.615492Z"
    },
    "papermill": {
     "duration": 0.144437,
     "end_time": "2022-04-14T15:10:27.038290",
     "exception": false,
     "start_time": "2022-04-14T15:10:26.893853",
     "status": "completed"
    },
    "tags": []
   },
   "outputs": [
    {
     "name": "stdout",
     "output_type": "stream",
     "text": [
      "<class 'pandas.core.frame.DataFrame'>\n",
      "PeriodIndex: 16 entries, 2017-08-16 to 2017-08-31\n",
      "Freq: D\n",
      "Data columns (total 44 columns):\n",
      " #   Column                                              Non-Null Count  Dtype  \n",
      "---  ------                                              --------------  -----  \n",
      " 0   const                                               16 non-null     float64\n",
      " 1   trend                                               16 non-null     float64\n",
      " 2   s(2,7)                                              16 non-null     float64\n",
      " 3   s(3,7)                                              16 non-null     float64\n",
      " 4   s(4,7)                                              16 non-null     float64\n",
      " 5   s(5,7)                                              16 non-null     float64\n",
      " 6   s(6,7)                                              16 non-null     float64\n",
      " 7   s(7,7)                                              16 non-null     float64\n",
      " 8   sin(1,freq=M)                                       16 non-null     float64\n",
      " 9   cos(1,freq=M)                                       16 non-null     float64\n",
      " 10  sin(2,freq=M)                                       16 non-null     float64\n",
      " 11  cos(2,freq=M)                                       16 non-null     float64\n",
      " 12  sin(3,freq=M)                                       16 non-null     float64\n",
      " 13  cos(3,freq=M)                                       16 non-null     float64\n",
      " 14  sin(4,freq=M)                                       16 non-null     float64\n",
      " 15  cos(4,freq=M)                                       16 non-null     float64\n",
      " 16  NewYear                                             16 non-null     bool   \n",
      " 17  constRT                                             16 non-null     float64\n",
      " 18  trendRT                                             16 non-null     float64\n",
      " 19  s(2,5)                                              16 non-null     float64\n",
      " 20  s(3,5)                                              16 non-null     float64\n",
      " 21  s(4,5)                                              16 non-null     float64\n",
      " 22  s(5,5)                                              16 non-null     float64\n",
      " 23  sin(1,freq=M)RT                                     16 non-null     float64\n",
      " 24  cos(1,freq=M)RT                                     16 non-null     float64\n",
      " 25  sin(2,freq=M)RT                                     16 non-null     float64\n",
      " 26  cos(2,freq=M)RT                                     16 non-null     float64\n",
      " 27  sin(3,freq=M)RT                                     16 non-null     float64\n",
      " 28  cos(3,freq=M)RT                                     16 non-null     float64\n",
      " 29  sin(4,freq=M)RT                                     16 non-null     float64\n",
      " 30  cos(4,freq=M)RT                                     16 non-null     float64\n",
      " 31  description_Batalla de Pichincha                    16 non-null     float64\n",
      " 32  description_Carnaval                                16 non-null     float64\n",
      " 33  description_Dia de la Madre                         16 non-null     float64\n",
      " 34  description_Dia de la Madre-1                       16 non-null     float64\n",
      " 35  description_Dia del Trabajo                         16 non-null     float64\n",
      " 36  description_Primer Grito de Independencia           16 non-null     float64\n",
      " 37  description_Primer dia del ano                      16 non-null     float64\n",
      " 38  description_Provincializacion de Cotopaxi           16 non-null     float64\n",
      " 39  description_Provincializacion de Imbabura           16 non-null     float64\n",
      " 40  description_Traslado Batalla de Pichincha           16 non-null     float64\n",
      " 41  description_Traslado Primer Grito de Independencia  16 non-null     float64\n",
      " 42  description_Traslado Primer dia del ano             16 non-null     float64\n",
      " 43  description_Viernes Santo                           16 non-null     float64\n",
      "dtypes: bool(1), float64(43)\n",
      "memory usage: 5.5 KB\n"
     ]
    }
   ],
   "source": [
    "df_test = pd.read_csv(\n",
    "    comp_dir / 'test.csv',\n",
    "    dtype={\n",
    "        'store_nbr': 'category',\n",
    "        'family': 'category',\n",
    "        'onpromotion': 'uint32',\n",
    "    },\n",
    "    parse_dates=['date'],\n",
    "    infer_datetime_format=True,\n",
    ")\n",
    "\n",
    "df_test['date'] = df_test.date.dt.to_period('D')\n",
    "df_test = df_test.set_index(['store_nbr', 'family', 'date']).sort_index()\n",
    "\n",
    "#df_test = df_test.loc['2017'] \n",
    "# Create features for test set\n",
    "X_test = dp.out_of_sample(steps=16)\n",
    "X_test.index.name = 'date'\n",
    "X_test['NewYear'] = (X_test.index.dayofyear == 1)\n",
    "#X_test = X_test.join( oil.rename('Oil') , on='date').fillna(method = 'bfill')\n",
    "X_test1 = X_test.join( Xoil , on='date', rsuffix='RT').fillna(method = 'bfill')\n",
    "\n",
    "\n",
    "X_test2 = X_test1.join(X_holidays, on='date').fillna(0.0)\n",
    "\n",
    "\n",
    "X_test2.info()"
   ]
  },
  {
   "cell_type": "code",
   "execution_count": 19,
   "id": "602c3390",
   "metadata": {
    "execution": {
     "iopub.execute_input": "2022-04-14T15:10:27.172563Z",
     "iopub.status.busy": "2022-04-14T15:10:27.171833Z",
     "iopub.status.idle": "2022-04-14T15:10:27.242651Z",
     "shell.execute_reply": "2022-04-14T15:10:27.243185Z",
     "shell.execute_reply.started": "2022-04-14T14:58:29.703705Z"
    },
    "papermill": {
     "duration": 0.142272,
     "end_time": "2022-04-14T15:10:27.243417",
     "exception": false,
     "start_time": "2022-04-14T15:10:27.101145",
     "status": "completed"
    },
    "tags": []
   },
   "outputs": [
    {
     "data": {
      "text/html": [
       "<div>\n",
       "<style scoped>\n",
       "    .dataframe tbody tr th:only-of-type {\n",
       "        vertical-align: middle;\n",
       "    }\n",
       "\n",
       "    .dataframe tbody tr th {\n",
       "        vertical-align: top;\n",
       "    }\n",
       "\n",
       "    .dataframe thead tr th {\n",
       "        text-align: left;\n",
       "    }\n",
       "\n",
       "    .dataframe thead tr:last-of-type th {\n",
       "        text-align: right;\n",
       "    }\n",
       "</style>\n",
       "<table border=\"1\" class=\"dataframe\">\n",
       "  <thead>\n",
       "    <tr>\n",
       "      <th></th>\n",
       "      <th colspan=\"10\" halign=\"left\">sales</th>\n",
       "      <th>...</th>\n",
       "      <th colspan=\"10\" halign=\"left\">onpromotion</th>\n",
       "    </tr>\n",
       "    <tr>\n",
       "      <th>store_nbr</th>\n",
       "      <th colspan=\"10\" halign=\"left\">1</th>\n",
       "      <th>...</th>\n",
       "      <th colspan=\"10\" halign=\"left\">9</th>\n",
       "    </tr>\n",
       "    <tr>\n",
       "      <th>family</th>\n",
       "      <th>AUTOMOTIVE</th>\n",
       "      <th>BABY CARE</th>\n",
       "      <th>BEAUTY</th>\n",
       "      <th>BEVERAGES</th>\n",
       "      <th>BOOKS</th>\n",
       "      <th>BREAD/BAKERY</th>\n",
       "      <th>CELEBRATION</th>\n",
       "      <th>CLEANING</th>\n",
       "      <th>DAIRY</th>\n",
       "      <th>DELI</th>\n",
       "      <th>...</th>\n",
       "      <th>MAGAZINES</th>\n",
       "      <th>MEATS</th>\n",
       "      <th>PERSONAL CARE</th>\n",
       "      <th>PET SUPPLIES</th>\n",
       "      <th>PLAYERS AND ELECTRONICS</th>\n",
       "      <th>POULTRY</th>\n",
       "      <th>PREPARED FOODS</th>\n",
       "      <th>PRODUCE</th>\n",
       "      <th>SCHOOL AND OFFICE SUPPLIES</th>\n",
       "      <th>SEAFOOD</th>\n",
       "    </tr>\n",
       "    <tr>\n",
       "      <th>date</th>\n",
       "      <th></th>\n",
       "      <th></th>\n",
       "      <th></th>\n",
       "      <th></th>\n",
       "      <th></th>\n",
       "      <th></th>\n",
       "      <th></th>\n",
       "      <th></th>\n",
       "      <th></th>\n",
       "      <th></th>\n",
       "      <th></th>\n",
       "      <th></th>\n",
       "      <th></th>\n",
       "      <th></th>\n",
       "      <th></th>\n",
       "      <th></th>\n",
       "      <th></th>\n",
       "      <th></th>\n",
       "      <th></th>\n",
       "      <th></th>\n",
       "      <th></th>\n",
       "    </tr>\n",
       "  </thead>\n",
       "  <tbody>\n",
       "    <tr>\n",
       "      <th>2017-08-16</th>\n",
       "      <td>3.25</td>\n",
       "      <td>0.0</td>\n",
       "      <td>4.41</td>\n",
       "      <td>2445.63</td>\n",
       "      <td>0.85</td>\n",
       "      <td>440.293879</td>\n",
       "      <td>22.12</td>\n",
       "      <td>839.19</td>\n",
       "      <td>834.36</td>\n",
       "      <td>141.955769</td>\n",
       "      <td>...</td>\n",
       "      <td>0.0</td>\n",
       "      <td>0.13</td>\n",
       "      <td>15.49</td>\n",
       "      <td>0.0</td>\n",
       "      <td>0.53</td>\n",
       "      <td>0.09</td>\n",
       "      <td>0.41</td>\n",
       "      <td>7.28</td>\n",
       "      <td>1.28</td>\n",
       "      <td>0.65</td>\n",
       "    </tr>\n",
       "    <tr>\n",
       "      <th>2017-08-17</th>\n",
       "      <td>5.07</td>\n",
       "      <td>0.0</td>\n",
       "      <td>4.33</td>\n",
       "      <td>2148.92</td>\n",
       "      <td>0.37</td>\n",
       "      <td>361.533478</td>\n",
       "      <td>20.02</td>\n",
       "      <td>687.00</td>\n",
       "      <td>730.09</td>\n",
       "      <td>123.066860</td>\n",
       "      <td>...</td>\n",
       "      <td>0.0</td>\n",
       "      <td>20.09</td>\n",
       "      <td>10.47</td>\n",
       "      <td>0.0</td>\n",
       "      <td>0.00</td>\n",
       "      <td>0.08</td>\n",
       "      <td>0.49</td>\n",
       "      <td>7.54</td>\n",
       "      <td>1.94</td>\n",
       "      <td>0.21</td>\n",
       "    </tr>\n",
       "    <tr>\n",
       "      <th>2017-08-18</th>\n",
       "      <td>5.56</td>\n",
       "      <td>0.0</td>\n",
       "      <td>2.76</td>\n",
       "      <td>1937.14</td>\n",
       "      <td>0.16</td>\n",
       "      <td>299.584608</td>\n",
       "      <td>16.03</td>\n",
       "      <td>597.42</td>\n",
       "      <td>607.21</td>\n",
       "      <td>132.664420</td>\n",
       "      <td>...</td>\n",
       "      <td>0.0</td>\n",
       "      <td>0.20</td>\n",
       "      <td>10.63</td>\n",
       "      <td>0.0</td>\n",
       "      <td>0.00</td>\n",
       "      <td>21.33</td>\n",
       "      <td>2.58</td>\n",
       "      <td>6.10</td>\n",
       "      <td>4.07</td>\n",
       "      <td>0.06</td>\n",
       "    </tr>\n",
       "    <tr>\n",
       "      <th>2017-08-19</th>\n",
       "      <td>5.08</td>\n",
       "      <td>0.0</td>\n",
       "      <td>2.96</td>\n",
       "      <td>2054.08</td>\n",
       "      <td>0.00</td>\n",
       "      <td>309.948280</td>\n",
       "      <td>9.49</td>\n",
       "      <td>506.07</td>\n",
       "      <td>648.12</td>\n",
       "      <td>119.719631</td>\n",
       "      <td>...</td>\n",
       "      <td>0.0</td>\n",
       "      <td>0.28</td>\n",
       "      <td>10.05</td>\n",
       "      <td>0.0</td>\n",
       "      <td>0.00</td>\n",
       "      <td>0.02</td>\n",
       "      <td>0.62</td>\n",
       "      <td>7.60</td>\n",
       "      <td>4.72</td>\n",
       "      <td>3.57</td>\n",
       "    </tr>\n",
       "    <tr>\n",
       "      <th>2017-08-20</th>\n",
       "      <td>1.98</td>\n",
       "      <td>0.0</td>\n",
       "      <td>1.81</td>\n",
       "      <td>1088.10</td>\n",
       "      <td>0.04</td>\n",
       "      <td>170.017331</td>\n",
       "      <td>3.69</td>\n",
       "      <td>245.37</td>\n",
       "      <td>354.94</td>\n",
       "      <td>66.928520</td>\n",
       "      <td>...</td>\n",
       "      <td>0.0</td>\n",
       "      <td>0.35</td>\n",
       "      <td>11.61</td>\n",
       "      <td>0.0</td>\n",
       "      <td>0.04</td>\n",
       "      <td>0.25</td>\n",
       "      <td>0.41</td>\n",
       "      <td>7.93</td>\n",
       "      <td>2.99</td>\n",
       "      <td>0.43</td>\n",
       "    </tr>\n",
       "  </tbody>\n",
       "</table>\n",
       "<p>5 rows × 3564 columns</p>\n",
       "</div>"
      ],
      "text/plain": [
       "                sales                                                \\\n",
       "store_nbr           1                                                 \n",
       "family     AUTOMOTIVE BABY CARE BEAUTY BEVERAGES BOOKS BREAD/BAKERY   \n",
       "date                                                                  \n",
       "2017-08-16       3.25       0.0   4.41   2445.63  0.85   440.293879   \n",
       "2017-08-17       5.07       0.0   4.33   2148.92  0.37   361.533478   \n",
       "2017-08-18       5.56       0.0   2.76   1937.14  0.16   299.584608   \n",
       "2017-08-19       5.08       0.0   2.96   2054.08  0.00   309.948280   \n",
       "2017-08-20       1.98       0.0   1.81   1088.10  0.04   170.017331   \n",
       "\n",
       "                                                     ... onpromotion         \\\n",
       "store_nbr                                            ...           9          \n",
       "family     CELEBRATION CLEANING   DAIRY        DELI  ...   MAGAZINES  MEATS   \n",
       "date                                                 ...                      \n",
       "2017-08-16       22.12   839.19  834.36  141.955769  ...         0.0   0.13   \n",
       "2017-08-17       20.02   687.00  730.09  123.066860  ...         0.0  20.09   \n",
       "2017-08-18       16.03   597.42  607.21  132.664420  ...         0.0   0.20   \n",
       "2017-08-19        9.49   506.07  648.12  119.719631  ...         0.0   0.28   \n",
       "2017-08-20        3.69   245.37  354.94   66.928520  ...         0.0   0.35   \n",
       "\n",
       "                                                                       \\\n",
       "store_nbr                                                               \n",
       "family     PERSONAL CARE PET SUPPLIES PLAYERS AND ELECTRONICS POULTRY   \n",
       "date                                                                    \n",
       "2017-08-16         15.49          0.0                    0.53    0.09   \n",
       "2017-08-17         10.47          0.0                    0.00    0.08   \n",
       "2017-08-18         10.63          0.0                    0.00   21.33   \n",
       "2017-08-19         10.05          0.0                    0.00    0.02   \n",
       "2017-08-20         11.61          0.0                    0.04    0.25   \n",
       "\n",
       "                                                                      \n",
       "store_nbr                                                             \n",
       "family     PREPARED FOODS PRODUCE SCHOOL AND OFFICE SUPPLIES SEAFOOD  \n",
       "date                                                                  \n",
       "2017-08-16           0.41    7.28                       1.28    0.65  \n",
       "2017-08-17           0.49    7.54                       1.94    0.21  \n",
       "2017-08-18           2.58    6.10                       4.07    0.06  \n",
       "2017-08-19           0.62    7.60                       4.72    3.57  \n",
       "2017-08-20           0.41    7.93                       2.99    0.43  \n",
       "\n",
       "[5 rows x 3564 columns]"
      ]
     },
     "execution_count": 19,
     "metadata": {},
     "output_type": "execute_result"
    }
   ],
   "source": [
    "y_submit = pd.DataFrame(model.predict(X_test2), index=X_test.index, columns=y.columns)\n",
    "y_submit.head()"
   ]
  },
  {
   "cell_type": "code",
   "execution_count": 20,
   "id": "4d3b351a",
   "metadata": {
    "execution": {
     "iopub.execute_input": "2022-04-14T15:10:27.380408Z",
     "iopub.status.busy": "2022-04-14T15:10:27.379673Z",
     "iopub.status.idle": "2022-04-14T15:10:27.965249Z",
     "shell.execute_reply": "2022-04-14T15:10:27.964665Z",
     "shell.execute_reply.started": "2022-04-14T14:58:29.775701Z"
    },
    "papermill": {
     "duration": 0.658047,
     "end_time": "2022-04-14T15:10:27.965428",
     "exception": false,
     "start_time": "2022-04-14T15:10:27.307381",
     "status": "completed"
    },
    "tags": []
   },
   "outputs": [],
   "source": [
    "y_submit = pd.DataFrame(model.predict(X_test2), index=X_test2.index, columns=y.columns)\n",
    "y_submit = y_submit.stack(['store_nbr', 'family'])\n",
    "y_submit = y_submit.join(df_test.id).reindex(columns=['id', 'sales'])\n",
    "y_submit.to_csv('submission.csv', index=False)"
   ]
  },
  {
   "cell_type": "code",
   "execution_count": 21,
   "id": "902b6436",
   "metadata": {
    "execution": {
     "iopub.execute_input": "2022-04-14T15:10:28.099326Z",
     "iopub.status.busy": "2022-04-14T15:10:28.098437Z",
     "iopub.status.idle": "2022-04-14T15:10:28.102056Z",
     "shell.execute_reply": "2022-04-14T15:10:28.102633Z",
     "shell.execute_reply.started": "2022-04-14T14:58:30.617884Z"
    },
    "papermill": {
     "duration": 0.073116,
     "end_time": "2022-04-14T15:10:28.102811",
     "exception": false,
     "start_time": "2022-04-14T15:10:28.029695",
     "status": "completed"
    },
    "tags": []
   },
   "outputs": [
    {
     "name": "stdout",
     "output_type": "stream",
     "text": [
      "\n",
      " DONE\n"
     ]
    }
   ],
   "source": [
    "y_submit.head()\n",
    "\n",
    "print('\\n', 'DONE')"
   ]
  },
  {
   "cell_type": "markdown",
   "id": "6e587df8",
   "metadata": {
    "papermill": {
     "duration": 0.063323,
     "end_time": "2022-04-14T15:10:28.230451",
     "exception": false,
     "start_time": "2022-04-14T15:10:28.167128",
     "status": "completed"
    },
    "tags": []
   },
   "source": [
    "## Pre-Processing ##"
   ]
  },
  {
   "cell_type": "markdown",
   "id": "f489b1e0",
   "metadata": {
    "papermill": {
     "duration": 0.065689,
     "end_time": "2022-04-14T15:10:28.361994",
     "exception": false,
     "start_time": "2022-04-14T15:10:28.296305",
     "status": "completed"
    },
    "tags": []
   },
   "source": [
    "### Selection only Giants or Dwarfs ###"
   ]
  },
  {
   "cell_type": "markdown",
   "id": "3ac6e9a0",
   "metadata": {
    "papermill": {
     "duration": 0.064767,
     "end_time": "2022-04-14T15:10:28.494887",
     "exception": false,
     "start_time": "2022-04-14T15:10:28.430120",
     "status": "completed"
    },
    "tags": []
   },
   "source": [
    "## Balance ##"
   ]
  },
  {
   "cell_type": "code",
   "execution_count": 22,
   "id": "2e64c7a6",
   "metadata": {
    "execution": {
     "iopub.execute_input": "2022-04-14T15:10:28.628447Z",
     "iopub.status.busy": "2022-04-14T15:10:28.627712Z",
     "iopub.status.idle": "2022-04-14T15:10:28.630332Z",
     "shell.execute_reply": "2022-04-14T15:10:28.630860Z",
     "shell.execute_reply.started": "2022-04-14T14:58:30.625042Z"
    },
    "papermill": {
     "duration": 0.071933,
     "end_time": "2022-04-14T15:10:28.631041",
     "exception": false,
     "start_time": "2022-04-14T15:10:28.559108",
     "status": "completed"
    },
    "tags": []
   },
   "outputs": [],
   "source": [
    "# dividir set \n",
    "\n",
    "\n",
    "\n",
    "# from sklearn.utils import resample\n",
    "# dfGiantsDownSample = resample(dfGiants, \n",
    "  #                           replace = False, # sample without replacement\n",
    "   #                          n_samples = num_of_dwarf,\n",
    "   #                          random_state =1 \n",
    " #                            )\n",
    "#dfDownSampled = pd.concat([dfGiantsDownSample , dfDwarfs] )\n",
    "\n",
    "#dfBalanced= dfDownSampled.reset_index(drop=True)\n",
    "\n",
    "# dataStar = dfBalanced.sample(frac=1).reset_index(drop=True) # shuffle\n",
    "# dfCopyStar = dataStar.copy()"
   ]
  },
  {
   "cell_type": "markdown",
   "id": "74f49d5d",
   "metadata": {
    "papermill": {
     "duration": 0.065277,
     "end_time": "2022-04-14T15:10:28.761842",
     "exception": false,
     "start_time": "2022-04-14T15:10:28.696565",
     "status": "completed"
    },
    "tags": []
   },
   "source": [
    "## Visualization ##"
   ]
  },
  {
   "cell_type": "markdown",
   "id": "832948d8",
   "metadata": {
    "papermill": {
     "duration": 0.064624,
     "end_time": "2022-04-14T15:10:28.891181",
     "exception": false,
     "start_time": "2022-04-14T15:10:28.826557",
     "status": "completed"
    },
    "tags": []
   },
   "source": [
    "## Correlation Linear ##"
   ]
  },
  {
   "cell_type": "markdown",
   "id": "150ff1b4",
   "metadata": {
    "papermill": {
     "duration": 0.065336,
     "end_time": "2022-04-14T15:10:29.026478",
     "exception": false,
     "start_time": "2022-04-14T15:10:28.961142",
     "status": "completed"
    },
    "tags": []
   },
   "source": [
    "## Data Cleaning ##"
   ]
  },
  {
   "cell_type": "markdown",
   "id": "65b728d1",
   "metadata": {
    "papermill": {
     "duration": 0.06434,
     "end_time": "2022-04-14T15:10:29.155957",
     "exception": false,
     "start_time": "2022-04-14T15:10:29.091617",
     "status": "completed"
    },
    "tags": []
   },
   "source": [
    "# **Data Processing** #"
   ]
  },
  {
   "cell_type": "markdown",
   "id": "c0414412",
   "metadata": {
    "papermill": {
     "duration": 0.064723,
     "end_time": "2022-04-14T15:10:29.284901",
     "exception": false,
     "start_time": "2022-04-14T15:10:29.220178",
     "status": "completed"
    },
    "tags": []
   },
   "source": [
    "### Train and test Set ###"
   ]
  },
  {
   "cell_type": "code",
   "execution_count": 23,
   "id": "071f7069",
   "metadata": {
    "execution": {
     "iopub.execute_input": "2022-04-14T15:10:29.421726Z",
     "iopub.status.busy": "2022-04-14T15:10:29.420847Z",
     "iopub.status.idle": "2022-04-14T15:10:29.424158Z",
     "shell.execute_reply": "2022-04-14T15:10:29.423492Z",
     "shell.execute_reply.started": "2022-04-14T14:58:30.640415Z"
    },
    "papermill": {
     "duration": 0.073814,
     "end_time": "2022-04-14T15:10:29.424312",
     "exception": false,
     "start_time": "2022-04-14T15:10:29.350498",
     "status": "completed"
    },
    "tags": []
   },
   "outputs": [],
   "source": [
    "## Stratified ##\n",
    "#from sklearn.model_selection import StratifiedShuffleSplit\n",
    "#split = StratifiedShuffleSplit(n_splits=1, test_size=0.2, random_state=42)\n",
    "#for train_index, test_index in split.split(data, data[\"variableStratificada\"]):\n",
    "#strat_train_set = housing.loc[train_index]\n",
    "#strat_test_set = housing.loc[test_index]\n",
    "\n",
    "#from  sklearn.impute import SimpleImputer\n",
    "#imputer = SimpleImputer(strategy='median')\n",
    "\n",
    "#from  sklearn.preprocessing import OneHotEncoder\n",
    "#catEncoder = OneHotEncoder()\n",
    "\n",
    "## numerical ##\n",
    "#from  sklearn.pipeline import Pipeline\n",
    "#from  sklearn.preprocessing import StandardScaler\n",
    "#numerical_pipeline = Pipeline([('imputer', SimpleImputer(strategy=\"median\")),('attribs_adder', CombinedAttributesAdder()),])\n",
    "# new_variable_transformed_numerical = num_pipeline.fit_transform(varible_numerica)\n",
    "\n",
    "## numerical and categorial ##\n",
    "#from sklearn import ColumnTransformer\n",
    "#numerical_attribs = list(numerical_columns)\n",
    "#categorical_attribs = list(categorial_columns)\n",
    "#full_pipeline = ColumnTransformer([(\"num\", numerical_pipeline, numerical_attribs),(\"cat\", OneHotEncoder(), categorical_attribs),])\n",
    "#dataTotal_prepared = full_pipeline.fit_transform(dataTotal) "
   ]
  },
  {
   "cell_type": "markdown",
   "id": "3159ae4d",
   "metadata": {
    "papermill": {
     "duration": 0.066244,
     "end_time": "2022-04-14T15:10:29.554981",
     "exception": false,
     "start_time": "2022-04-14T15:10:29.488737",
     "status": "completed"
    },
    "tags": []
   },
   "source": [
    "## Target ## "
   ]
  },
  {
   "cell_type": "markdown",
   "id": "42efdd6d",
   "metadata": {
    "papermill": {
     "duration": 0.064624,
     "end_time": "2022-04-14T15:10:29.684403",
     "exception": false,
     "start_time": "2022-04-14T15:10:29.619779",
     "status": "completed"
    },
    "tags": []
   },
   "source": [
    "## Featuring Engineering ##"
   ]
  },
  {
   "cell_type": "markdown",
   "id": "d99cfc3a",
   "metadata": {
    "papermill": {
     "duration": 0.066372,
     "end_time": "2022-04-14T15:10:29.817124",
     "exception": false,
     "start_time": "2022-04-14T15:10:29.750752",
     "status": "completed"
    },
    "tags": []
   },
   "source": [
    "##  Pipeline and Featuring Scaling ##"
   ]
  },
  {
   "cell_type": "markdown",
   "id": "99ee8e01",
   "metadata": {
    "papermill": {
     "duration": 0.080378,
     "end_time": "2022-04-14T15:10:29.962922",
     "exception": false,
     "start_time": "2022-04-14T15:10:29.882544",
     "status": "completed"
    },
    "tags": []
   },
   "source": [
    " # **MODEL** # "
   ]
  },
  {
   "cell_type": "markdown",
   "id": "93ea0fc6",
   "metadata": {
    "papermill": {
     "duration": 0.065685,
     "end_time": "2022-04-14T15:10:30.111950",
     "exception": false,
     "start_time": "2022-04-14T15:10:30.046265",
     "status": "completed"
    },
    "tags": []
   },
   "source": [
    "#### Models ####"
   ]
  },
  {
   "cell_type": "code",
   "execution_count": 24,
   "id": "d6be9e6a",
   "metadata": {
    "execution": {
     "iopub.execute_input": "2022-04-14T15:10:30.247207Z",
     "iopub.status.busy": "2022-04-14T15:10:30.246497Z",
     "iopub.status.idle": "2022-04-14T15:10:30.249729Z",
     "shell.execute_reply": "2022-04-14T15:10:30.249035Z",
     "shell.execute_reply.started": "2022-04-14T14:58:30.655195Z"
    },
    "papermill": {
     "duration": 0.07246,
     "end_time": "2022-04-14T15:10:30.249876",
     "exception": false,
     "start_time": "2022-04-14T15:10:30.177416",
     "status": "completed"
    },
    "tags": []
   },
   "outputs": [],
   "source": [
    "### stratified CV ### see pag 136  Geron's book\n",
    "#from sklearn.model_selection import StratifiedKFold\n",
    "#from sklearn.base import clone\n",
    "#skfolds = StratifiedKFold(n_splits=3, random_state=42)"
   ]
  },
  {
   "cell_type": "markdown",
   "id": "a07096ed",
   "metadata": {
    "papermill": {
     "duration": 0.064385,
     "end_time": "2022-04-14T15:10:30.379497",
     "exception": false,
     "start_time": "2022-04-14T15:10:30.315112",
     "status": "completed"
    },
    "tags": []
   },
   "source": [
    "# **Refinament** #"
   ]
  },
  {
   "cell_type": "code",
   "execution_count": null,
   "id": "d8ba8451",
   "metadata": {
    "papermill": {
     "duration": 0.06377,
     "end_time": "2022-04-14T15:10:30.508541",
     "exception": false,
     "start_time": "2022-04-14T15:10:30.444771",
     "status": "completed"
    },
    "tags": []
   },
   "outputs": [],
   "source": []
  },
  {
   "cell_type": "markdown",
   "id": "d52bc985",
   "metadata": {
    "papermill": {
     "duration": 0.069123,
     "end_time": "2022-04-14T15:10:30.644687",
     "exception": false,
     "start_time": "2022-04-14T15:10:30.575564",
     "status": "completed"
    },
    "tags": []
   },
   "source": [
    "# **Deploy** #"
   ]
  },
  {
   "cell_type": "code",
   "execution_count": null,
   "id": "897c93ef",
   "metadata": {
    "papermill": {
     "duration": 0.064755,
     "end_time": "2022-04-14T15:10:30.775061",
     "exception": false,
     "start_time": "2022-04-14T15:10:30.710306",
     "status": "completed"
    },
    "tags": []
   },
   "outputs": [],
   "source": []
  },
  {
   "cell_type": "code",
   "execution_count": null,
   "id": "17417448",
   "metadata": {
    "papermill": {
     "duration": 0.064891,
     "end_time": "2022-04-14T15:10:30.904844",
     "exception": false,
     "start_time": "2022-04-14T15:10:30.839953",
     "status": "completed"
    },
    "tags": []
   },
   "outputs": [],
   "source": []
  }
 ],
 "metadata": {
  "kernelspec": {
   "display_name": "Python 3",
   "language": "python",
   "name": "python3"
  },
  "language_info": {
   "codemirror_mode": {
    "name": "ipython",
    "version": 3
   },
   "file_extension": ".py",
   "mimetype": "text/x-python",
   "name": "python",
   "nbconvert_exporter": "python",
   "pygments_lexer": "ipython3",
   "version": "3.7.12"
  },
  "papermill": {
   "default_parameters": {},
   "duration": 44.61804,
   "end_time": "2022-04-14T15:10:31.889850",
   "environment_variables": {},
   "exception": null,
   "input_path": "__notebook__.ipynb",
   "output_path": "__notebook__.ipynb",
   "parameters": {},
   "start_time": "2022-04-14T15:09:47.271810",
   "version": "2.3.3"
  }
 },
 "nbformat": 4,
 "nbformat_minor": 5
}
