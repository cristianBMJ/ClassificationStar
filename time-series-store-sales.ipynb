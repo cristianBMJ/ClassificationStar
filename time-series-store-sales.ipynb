{
 "cells": [
  {
   "cell_type": "markdown",
   "id": "664381f9",
   "metadata": {
    "papermill": {
     "duration": 0.027951,
     "end_time": "2022-04-05T17:08:27.265301",
     "exception": false,
     "start_time": "2022-04-05T17:08:27.237350",
     "status": "completed"
    },
    "tags": []
   },
   "source": [
    "# **Setting** #"
   ]
  },
  {
   "cell_type": "code",
   "execution_count": 1,
   "id": "7483a451",
   "metadata": {
    "_cell_guid": "b1076dfc-b9ad-4769-8c92-a6c4dae69d19",
    "_uuid": "8f2839f25d086af736a60e9eeb907d3b93b6e0e5",
    "execution": {
     "iopub.execute_input": "2022-04-05T17:08:27.323455Z",
     "iopub.status.busy": "2022-04-05T17:08:27.322348Z",
     "iopub.status.idle": "2022-04-05T17:08:28.855502Z",
     "shell.execute_reply": "2022-04-05T17:08:28.856040Z",
     "shell.execute_reply.started": "2022-04-05T17:07:14.964182Z"
    },
    "papermill": {
     "duration": 1.564298,
     "end_time": "2022-04-05T17:08:28.856340",
     "exception": false,
     "start_time": "2022-04-05T17:08:27.292042",
     "status": "completed"
    },
    "tags": []
   },
   "outputs": [
    {
     "name": "stdout",
     "output_type": "stream",
     "text": [
      "/kaggle/input/store-sales-time-series-forecasting/oil.csv\n",
      "/kaggle/input/store-sales-time-series-forecasting/sample_submission.csv\n",
      "/kaggle/input/store-sales-time-series-forecasting/holidays_events.csv\n",
      "/kaggle/input/store-sales-time-series-forecasting/stores.csv\n",
      "/kaggle/input/store-sales-time-series-forecasting/train.csv\n",
      "/kaggle/input/store-sales-time-series-forecasting/test.csv\n",
      "/kaggle/input/store-sales-time-series-forecasting/transactions.csv\n"
     ]
    }
   ],
   "source": [
    "# This Python 3 environment comes with many helpful analytics libraries installed\n",
    "# It is defined by the kaggle/python Docker image: https://github.com/kaggle/docker-python\n",
    "# For example, here's several helpful packages to load\n",
    "\n",
    "%matplotlib inline\n",
    "\n",
    "# Setup feedback system\n",
    "from learntools.core import binder\n",
    "binder.bind(globals())\n",
    "from learntools.time_series.ex3 import *\n",
    "\n",
    " # Allows the use of display() for DataFrames\n",
    "# from IPython.core.interactiveshell import InteractiveShell\n",
    "\n",
    "# InteractiveShell.ast_node_interactivity = \"all\"\n",
    "\n",
    "\n",
    "# Setup notebook\n",
    "from pathlib import Path\n",
    "from IPython.display import display\n",
    "\n",
    "from learntools.time_series.style import *  # plot style settings\n",
    "from learntools.time_series.utils import plot_periodogram, seasonal_plot\n",
    "\n",
    "\n",
    "import numpy as np # linear algebra\n",
    "import pandas as pd # data processing, CSV file I/O (e.g. pd.read_csv)\n",
    "\n",
    "%matplotlib inline\n",
    "import matplotlib.pyplot as plt\n",
    "import seaborn as sns\n",
    "\n",
    "from sklearn.linear_model import LinearRegression\n",
    "from statsmodels.tsa.deterministic import CalendarFourier, DeterministicProcess\n",
    "\n",
    "\n",
    "# Input data files are available in the read-only \"../input/\" directory\n",
    "# For example, running this (by clicking run or pressing Shift+Enter) will list all files under the input directory\n",
    "\n",
    "import os\n",
    "for dirname, _, filenames in os.walk('/kaggle/input'):\n",
    "    for filename in filenames:\n",
    "        print(os.path.join(dirname, filename))\n",
    "\n",
    "        \n",
    "        \n",
    "# You can write up to 20GB to the current directory (/kaggle/working/) that gets preserved as output when you create a version using \"Save & Run All\" \n",
    "# You can also write temporary files to /kaggle/temp/, but they won't be saved outside of the current session\n"
   ]
  },
  {
   "cell_type": "markdown",
   "id": "e77e2638",
   "metadata": {
    "papermill": {
     "duration": 0.025476,
     "end_time": "2022-04-05T17:08:28.908315",
     "exception": false,
     "start_time": "2022-04-05T17:08:28.882839",
     "status": "completed"
    },
    "tags": []
   },
   "source": [
    "# **Get Data** #"
   ]
  },
  {
   "cell_type": "code",
   "execution_count": 2,
   "id": "75367907",
   "metadata": {
    "execution": {
     "iopub.execute_input": "2022-04-05T17:08:28.970984Z",
     "iopub.status.busy": "2022-04-05T17:08:28.970313Z",
     "iopub.status.idle": "2022-04-05T17:08:34.155843Z",
     "shell.execute_reply": "2022-04-05T17:08:34.156391Z",
     "shell.execute_reply.started": "2022-04-05T17:07:15.208929Z"
    },
    "papermill": {
     "duration": 5.220489,
     "end_time": "2022-04-05T17:08:34.156579",
     "exception": false,
     "start_time": "2022-04-05T17:08:28.936090",
     "status": "completed"
    },
    "tags": []
   },
   "outputs": [],
   "source": [
    "# Paths\n",
    "comp_dir = Path('../input/store-sales-time-series-forecasting')\n",
    "\n",
    "# Get datas\n",
    "holidays_events = pd.read_csv(\n",
    "    comp_dir / \"holidays_events.csv\",\n",
    "    dtype={\n",
    "        'type': 'category',\n",
    "        'locale': 'category',\n",
    "        'locale_name': 'category',\n",
    "        'description': 'category',\n",
    "        'transferred': 'bool',\n",
    "    },\n",
    "    parse_dates=['date'],\n",
    "    infer_datetime_format=True,\n",
    ")\n",
    "holidays_events = holidays_events.set_index('date').to_period('D')\n",
    "\n",
    "store_sales = pd.read_csv(\n",
    "    comp_dir / 'train.csv',\n",
    "    usecols=['store_nbr', 'family','onpromotion', 'date', 'sales'],\n",
    "    dtype={\n",
    "        'store_nbr': 'category',\n",
    "        'family': 'category',\n",
    "        'sales': 'float32',\n",
    "        'onpromotion': 'uint32',\n",
    "    },\n",
    "    parse_dates=['date'],\n",
    "    infer_datetime_format=True,\n",
    ")\n",
    "\n",
    "oil = pd.read_csv(\n",
    "    comp_dir / 'oil.csv',\n",
    "    usecols = ['date', 'dcoilwtico'],\n",
    "    dtype={'dcoilwtico': 'float32'    },\n",
    "    parse_dates=['date'],\n",
    "    infer_datetime_format=True,\n",
    ")\n",
    "\n",
    "holidays = (\n",
    "    holidays_events\n",
    "    .query(\"locale in ['National', 'Regional']\")\n",
    "    .loc['2017':'2017-08-15', ['description']]\n",
    "    .assign(description=lambda x: x.description.cat.remove_unused_categories()) # assign new columns\n",
    ")\n",
    "\n",
    "df_test = pd.read_csv(\n",
    "    comp_dir / 'test.csv',\n",
    "    dtype={\n",
    "        'store_nbr': 'category',\n",
    "        'family': 'category',\n",
    "        'onpromotion': 'uint32',\n",
    "    },\n",
    "    parse_dates=['date'],\n",
    "    infer_datetime_format=True,\n",
    ")\n",
    "# Rearray to period\n",
    "\n",
    "transactions =  pd.read_csv( comp_dir / 'transactions.csv',\n",
    "                            parse_dates = ['date'], \n",
    "                            infer_datetime_format = True, \n",
    "                            )\n",
    "\n",
    "# oil['date'] = oil.date.dt.to_period('D')\n",
    "oil = oil.set_index(['date']).sort_index()\n",
    "oil=oil.squeeze()\n",
    "\n",
    "store_sales['date'] = store_sales.date.dt.to_period('D')\n",
    "store_sales = store_sales.set_index(['store_nbr', 'family', 'date']).sort_index()\n",
    "\n"
   ]
  },
  {
   "cell_type": "code",
   "execution_count": 3,
   "id": "f6225eea",
   "metadata": {
    "execution": {
     "iopub.execute_input": "2022-04-05T17:08:34.213167Z",
     "iopub.status.busy": "2022-04-05T17:08:34.212464Z",
     "iopub.status.idle": "2022-04-05T17:08:34.230070Z",
     "shell.execute_reply": "2022-04-05T17:08:34.229233Z",
     "shell.execute_reply.started": "2022-04-05T17:07:19.487561Z"
    },
    "papermill": {
     "duration": 0.046904,
     "end_time": "2022-04-05T17:08:34.230324",
     "exception": false,
     "start_time": "2022-04-05T17:08:34.183420",
     "status": "completed"
    },
    "tags": []
   },
   "outputs": [
    {
     "name": "stdout",
     "output_type": "stream",
     "text": [
      "<class 'pandas.core.frame.DataFrame'>\n",
      "RangeIndex: 83488 entries, 0 to 83487\n",
      "Data columns (total 3 columns):\n",
      " #   Column        Non-Null Count  Dtype         \n",
      "---  ------        --------------  -----         \n",
      " 0   date          83488 non-null  datetime64[ns]\n",
      " 1   store_nbr     83488 non-null  int64         \n",
      " 2   transactions  83488 non-null  int64         \n",
      "dtypes: datetime64[ns](1), int64(2)\n",
      "memory usage: 1.9 MB\n"
     ]
    }
   ],
   "source": [
    " # transactions per store\n",
    "transactions.info()"
   ]
  },
  {
   "cell_type": "markdown",
   "id": "cfdf5101",
   "metadata": {
    "papermill": {
     "duration": 0.025811,
     "end_time": "2022-04-05T17:08:34.285779",
     "exception": false,
     "start_time": "2022-04-05T17:08:34.259968",
     "status": "completed"
    },
    "tags": []
   },
   "source": [
    "#  **Exploratory Data Analysis** #"
   ]
  },
  {
   "cell_type": "code",
   "execution_count": 4,
   "id": "ca57390f",
   "metadata": {
    "execution": {
     "iopub.execute_input": "2022-04-05T17:08:34.342781Z",
     "iopub.status.busy": "2022-04-05T17:08:34.342062Z",
     "iopub.status.idle": "2022-04-05T17:08:34.951914Z",
     "shell.execute_reply": "2022-04-05T17:08:34.951367Z",
     "shell.execute_reply.started": "2022-04-05T17:07:19.502345Z"
    },
    "papermill": {
     "duration": 0.639809,
     "end_time": "2022-04-05T17:08:34.952068",
     "exception": false,
     "start_time": "2022-04-05T17:08:34.312259",
     "status": "completed"
    },
    "tags": []
   },
   "outputs": [
    {
     "data": {
      "text/html": [
       "<div>\n",
       "<style scoped>\n",
       "    .dataframe tbody tr th:only-of-type {\n",
       "        vertical-align: middle;\n",
       "    }\n",
       "\n",
       "    .dataframe tbody tr th {\n",
       "        vertical-align: top;\n",
       "    }\n",
       "\n",
       "    .dataframe thead th {\n",
       "        text-align: right;\n",
       "    }\n",
       "</style>\n",
       "<table border=\"1\" class=\"dataframe\">\n",
       "  <thead>\n",
       "    <tr style=\"text-align: right;\">\n",
       "      <th></th>\n",
       "      <th>sales</th>\n",
       "      <th>onpromotion</th>\n",
       "    </tr>\n",
       "    <tr>\n",
       "      <th>date</th>\n",
       "      <th></th>\n",
       "      <th></th>\n",
       "    </tr>\n",
       "  </thead>\n",
       "  <tbody>\n",
       "    <tr>\n",
       "      <th>2017-01-01</th>\n",
       "      <td>6.780303</td>\n",
       "      <td>0.095398</td>\n",
       "    </tr>\n",
       "    <tr>\n",
       "      <th>2017-01-02</th>\n",
       "      <td>786.928406</td>\n",
       "      <td>6.628507</td>\n",
       "    </tr>\n",
       "    <tr>\n",
       "      <th>2017-01-03</th>\n",
       "      <td>619.740234</td>\n",
       "      <td>7.803591</td>\n",
       "    </tr>\n",
       "    <tr>\n",
       "      <th>2017-01-04</th>\n",
       "      <td>555.608032</td>\n",
       "      <td>12.860831</td>\n",
       "    </tr>\n",
       "    <tr>\n",
       "      <th>2017-01-05</th>\n",
       "      <td>436.375397</td>\n",
       "      <td>4.797980</td>\n",
       "    </tr>\n",
       "  </tbody>\n",
       "</table>\n",
       "</div>"
      ],
      "text/plain": [
       "                 sales  onpromotion\n",
       "date                               \n",
       "2017-01-01    6.780303     0.095398\n",
       "2017-01-02  786.928406     6.628507\n",
       "2017-01-03  619.740234     7.803591\n",
       "2017-01-04  555.608032    12.860831\n",
       "2017-01-05  436.375397     4.797980"
      ]
     },
     "metadata": {},
     "output_type": "display_data"
    },
    {
     "data": {
      "image/png": "[encoded data removed]",
      "text/plain": [
       "<Figure size 432x288 with 1 Axes>"
      ]
     },
     "metadata": {
      "needs_background": "light"
     },
     "output_type": "display_data"
    }
   ],
   "source": [
    "\n",
    "# average sales \n",
    "average_sales = (\n",
    "    store_sales\n",
    "    .groupby('date').mean()\n",
    "    .squeeze()\n",
    "    .loc['2017']\n",
    ")\n",
    "\n",
    "display(average_sales.head())\n",
    "ax = average_sales.plot(**plot_params, alpha = 0.5,  title='Averange Sales', ylabel='Items Sold')\n",
    "ax.legend();"
   ]
  },
  {
   "cell_type": "code",
   "execution_count": 5,
   "id": "611f3cbd",
   "metadata": {
    "execution": {
     "iopub.execute_input": "2022-04-05T17:08:35.017651Z",
     "iopub.status.busy": "2022-04-05T17:08:35.017011Z",
     "iopub.status.idle": "2022-04-05T17:08:35.019625Z",
     "shell.execute_reply": "2022-04-05T17:08:35.020112Z",
     "shell.execute_reply.started": "2022-04-05T17:07:20.060470Z"
    },
    "papermill": {
     "duration": 0.039732,
     "end_time": "2022-04-05T17:08:35.020310",
     "exception": false,
     "start_time": "2022-04-05T17:08:34.980578",
     "status": "completed"
    },
    "tags": []
   },
   "outputs": [
    {
     "data": {
      "text/html": [
       "<div>\n",
       "<style scoped>\n",
       "    .dataframe tbody tr th:only-of-type {\n",
       "        vertical-align: middle;\n",
       "    }\n",
       "\n",
       "    .dataframe tbody tr th {\n",
       "        vertical-align: top;\n",
       "    }\n",
       "\n",
       "    .dataframe thead th {\n",
       "        text-align: right;\n",
       "    }\n",
       "</style>\n",
       "<table border=\"1\" class=\"dataframe\">\n",
       "  <thead>\n",
       "    <tr style=\"text-align: right;\">\n",
       "      <th></th>\n",
       "      <th>description</th>\n",
       "    </tr>\n",
       "    <tr>\n",
       "      <th>date</th>\n",
       "      <th></th>\n",
       "    </tr>\n",
       "  </thead>\n",
       "  <tbody>\n",
       "    <tr>\n",
       "      <th>2017-01-01</th>\n",
       "      <td>Primer dia del ano</td>\n",
       "    </tr>\n",
       "    <tr>\n",
       "      <th>2017-01-02</th>\n",
       "      <td>Traslado Primer dia del ano</td>\n",
       "    </tr>\n",
       "    <tr>\n",
       "      <th>2017-02-27</th>\n",
       "      <td>Carnaval</td>\n",
       "    </tr>\n",
       "    <tr>\n",
       "      <th>2017-02-28</th>\n",
       "      <td>Carnaval</td>\n",
       "    </tr>\n",
       "    <tr>\n",
       "      <th>2017-04-01</th>\n",
       "      <td>Provincializacion de Cotopaxi</td>\n",
       "    </tr>\n",
       "  </tbody>\n",
       "</table>\n",
       "</div>"
      ],
      "text/plain": [
       "                              description\n",
       "date                                     \n",
       "2017-01-01             Primer dia del ano\n",
       "2017-01-02    Traslado Primer dia del ano\n",
       "2017-02-27                       Carnaval\n",
       "2017-02-28                       Carnaval\n",
       "2017-04-01  Provincializacion de Cotopaxi"
      ]
     },
     "execution_count": 5,
     "metadata": {},
     "output_type": "execute_result"
    }
   ],
   "source": [
    "holidays.head()"
   ]
  },
  {
   "cell_type": "code",
   "execution_count": null,
   "id": "74984031",
   "metadata": {
    "papermill": {
     "duration": 0.02801,
     "end_time": "2022-04-05T17:08:35.077825",
     "exception": false,
     "start_time": "2022-04-05T17:08:35.049815",
     "status": "completed"
    },
    "tags": []
   },
   "outputs": [],
   "source": []
  },
  {
   "cell_type": "code",
   "execution_count": 6,
   "id": "ffdbb2f3",
   "metadata": {
    "execution": {
     "iopub.execute_input": "2022-04-05T17:08:35.138863Z",
     "iopub.status.busy": "2022-04-05T17:08:35.138247Z",
     "iopub.status.idle": "2022-04-05T17:08:35.140999Z",
     "shell.execute_reply": "2022-04-05T17:08:35.141514Z",
     "shell.execute_reply.started": "2022-04-05T17:07:20.072788Z"
    },
    "papermill": {
     "duration": 0.034398,
     "end_time": "2022-04-05T17:08:35.141711",
     "exception": false,
     "start_time": "2022-04-05T17:08:35.107313",
     "status": "completed"
    },
    "tags": []
   },
   "outputs": [],
   "source": [
    "\n",
    "#average"
   ]
  },
  {
   "cell_type": "code",
   "execution_count": 7,
   "id": "d30712cd",
   "metadata": {
    "execution": {
     "iopub.execute_input": "2022-04-05T17:08:35.203369Z",
     "iopub.status.busy": "2022-04-05T17:08:35.202764Z",
     "iopub.status.idle": "2022-04-05T17:08:35.507200Z",
     "shell.execute_reply": "2022-04-05T17:08:35.506513Z",
     "shell.execute_reply.started": "2022-04-05T17:07:20.081691Z"
    },
    "papermill": {
     "duration": 0.336168,
     "end_time": "2022-04-05T17:08:35.507341",
     "exception": false,
     "start_time": "2022-04-05T17:08:35.171173",
     "status": "completed"
    },
    "tags": []
   },
   "outputs": [
    {
     "data": {
      "image/png": "[encoded data removed]",
      "text/plain": [
       "<Figure size 432x288 with 1 Axes>"
      ]
     },
     "metadata": {
      "needs_background": "light"
     },
     "output_type": "display_data"
    }
   ],
   "source": [
    "oil['2017'].plot()\n",
    "plt.show()"
   ]
  },
  {
   "cell_type": "code",
   "execution_count": 8,
   "id": "2ac90529",
   "metadata": {
    "execution": {
     "iopub.execute_input": "2022-04-05T17:08:35.573355Z",
     "iopub.status.busy": "2022-04-05T17:08:35.572342Z",
     "iopub.status.idle": "2022-04-05T17:08:35.577869Z",
     "shell.execute_reply": "2022-04-05T17:08:35.578681Z",
     "shell.execute_reply.started": "2022-04-05T17:07:20.395318Z"
    },
    "papermill": {
     "duration": 0.041218,
     "end_time": "2022-04-05T17:08:35.578907",
     "exception": false,
     "start_time": "2022-04-05T17:08:35.537689",
     "status": "completed"
    },
    "tags": []
   },
   "outputs": [
    {
     "name": "stdout",
     "output_type": "stream",
     "text": [
      "dcoilwtico\n"
     ]
    }
   ],
   "source": [
    "print(oil.name) "
   ]
  },
  {
   "cell_type": "markdown",
   "id": "10cd19ac",
   "metadata": {
    "papermill": {
     "duration": 0.030221,
     "end_time": "2022-04-05T17:08:35.639701",
     "exception": false,
     "start_time": "2022-04-05T17:08:35.609480",
     "status": "completed"
    },
    "tags": []
   },
   "source": [
    "# **Model with Oil** #\n"
   ]
  },
  {
   "cell_type": "code",
   "execution_count": 9,
   "id": "76412965",
   "metadata": {
    "execution": {
     "iopub.execute_input": "2022-04-05T17:08:35.703276Z",
     "iopub.status.busy": "2022-04-05T17:08:35.702322Z",
     "iopub.status.idle": "2022-04-05T17:08:37.361055Z",
     "shell.execute_reply": "2022-04-05T17:08:37.362613Z",
     "shell.execute_reply.started": "2022-04-05T17:07:20.401365Z"
    },
    "papermill": {
     "duration": 1.693527,
     "end_time": "2022-04-05T17:08:37.362929",
     "exception": false,
     "start_time": "2022-04-05T17:08:35.669402",
     "status": "completed"
    },
    "tags": []
   },
   "outputs": [
    {
     "data": {
      "text/html": [
       "<div>\n",
       "<style scoped>\n",
       "    .dataframe tbody tr th:only-of-type {\n",
       "        vertical-align: middle;\n",
       "    }\n",
       "\n",
       "    .dataframe tbody tr th {\n",
       "        vertical-align: top;\n",
       "    }\n",
       "\n",
       "    .dataframe thead tr th {\n",
       "        text-align: left;\n",
       "    }\n",
       "\n",
       "    .dataframe thead tr:last-of-type th {\n",
       "        text-align: right;\n",
       "    }\n",
       "</style>\n",
       "<table border=\"1\" class=\"dataframe\">\n",
       "  <thead>\n",
       "    <tr>\n",
       "      <th></th>\n",
       "      <th colspan=\"10\" halign=\"left\">sales</th>\n",
       "      <th>...</th>\n",
       "      <th colspan=\"10\" halign=\"left\">onpromotion</th>\n",
       "    </tr>\n",
       "    <tr>\n",
       "      <th>store_nbr</th>\n",
       "      <th colspan=\"10\" halign=\"left\">1</th>\n",
       "      <th>...</th>\n",
       "      <th colspan=\"10\" halign=\"left\">9</th>\n",
       "    </tr>\n",
       "    <tr>\n",
       "      <th>family</th>\n",
       "      <th>AUTOMOTIVE</th>\n",
       "      <th>BABY CARE</th>\n",
       "      <th>BEAUTY</th>\n",
       "      <th>BEVERAGES</th>\n",
       "      <th>BOOKS</th>\n",
       "      <th>BREAD/BAKERY</th>\n",
       "      <th>CELEBRATION</th>\n",
       "      <th>CLEANING</th>\n",
       "      <th>DAIRY</th>\n",
       "      <th>DELI</th>\n",
       "      <th>...</th>\n",
       "      <th>MAGAZINES</th>\n",
       "      <th>MEATS</th>\n",
       "      <th>PERSONAL CARE</th>\n",
       "      <th>PET SUPPLIES</th>\n",
       "      <th>PLAYERS AND ELECTRONICS</th>\n",
       "      <th>POULTRY</th>\n",
       "      <th>PREPARED FOODS</th>\n",
       "      <th>PRODUCE</th>\n",
       "      <th>SCHOOL AND OFFICE SUPPLIES</th>\n",
       "      <th>SEAFOOD</th>\n",
       "    </tr>\n",
       "    <tr>\n",
       "      <th>date</th>\n",
       "      <th></th>\n",
       "      <th></th>\n",
       "      <th></th>\n",
       "      <th></th>\n",
       "      <th></th>\n",
       "      <th></th>\n",
       "      <th></th>\n",
       "      <th></th>\n",
       "      <th></th>\n",
       "      <th></th>\n",
       "      <th></th>\n",
       "      <th></th>\n",
       "      <th></th>\n",
       "      <th></th>\n",
       "      <th></th>\n",
       "      <th></th>\n",
       "      <th></th>\n",
       "      <th></th>\n",
       "      <th></th>\n",
       "      <th></th>\n",
       "      <th></th>\n",
       "    </tr>\n",
       "  </thead>\n",
       "  <tbody>\n",
       "    <tr>\n",
       "      <th>2017-01-01</th>\n",
       "      <td>0.0</td>\n",
       "      <td>0.0</td>\n",
       "      <td>0.0</td>\n",
       "      <td>0.0</td>\n",
       "      <td>0.0</td>\n",
       "      <td>0.000000</td>\n",
       "      <td>0.0</td>\n",
       "      <td>0.0</td>\n",
       "      <td>0.0</td>\n",
       "      <td>0.000000</td>\n",
       "      <td>...</td>\n",
       "      <td>0</td>\n",
       "      <td>0</td>\n",
       "      <td>0</td>\n",
       "      <td>0</td>\n",
       "      <td>0</td>\n",
       "      <td>0</td>\n",
       "      <td>0</td>\n",
       "      <td>0</td>\n",
       "      <td>0</td>\n",
       "      <td>0</td>\n",
       "    </tr>\n",
       "    <tr>\n",
       "      <th>2017-01-02</th>\n",
       "      <td>5.0</td>\n",
       "      <td>0.0</td>\n",
       "      <td>0.0</td>\n",
       "      <td>1434.0</td>\n",
       "      <td>0.0</td>\n",
       "      <td>166.819000</td>\n",
       "      <td>0.0</td>\n",
       "      <td>332.0</td>\n",
       "      <td>376.0</td>\n",
       "      <td>44.980000</td>\n",
       "      <td>...</td>\n",
       "      <td>0</td>\n",
       "      <td>0</td>\n",
       "      <td>13</td>\n",
       "      <td>0</td>\n",
       "      <td>0</td>\n",
       "      <td>2</td>\n",
       "      <td>1</td>\n",
       "      <td>4</td>\n",
       "      <td>0</td>\n",
       "      <td>0</td>\n",
       "    </tr>\n",
       "    <tr>\n",
       "      <th>2017-01-03</th>\n",
       "      <td>4.0</td>\n",
       "      <td>0.0</td>\n",
       "      <td>4.0</td>\n",
       "      <td>3081.0</td>\n",
       "      <td>2.0</td>\n",
       "      <td>519.348022</td>\n",
       "      <td>15.0</td>\n",
       "      <td>952.0</td>\n",
       "      <td>1045.0</td>\n",
       "      <td>209.300003</td>\n",
       "      <td>...</td>\n",
       "      <td>0</td>\n",
       "      <td>0</td>\n",
       "      <td>11</td>\n",
       "      <td>0</td>\n",
       "      <td>0</td>\n",
       "      <td>1</td>\n",
       "      <td>2</td>\n",
       "      <td>150</td>\n",
       "      <td>0</td>\n",
       "      <td>0</td>\n",
       "    </tr>\n",
       "    <tr>\n",
       "      <th>2017-01-04</th>\n",
       "      <td>1.0</td>\n",
       "      <td>0.0</td>\n",
       "      <td>4.0</td>\n",
       "      <td>3039.0</td>\n",
       "      <td>2.0</td>\n",
       "      <td>543.250977</td>\n",
       "      <td>17.0</td>\n",
       "      <td>1055.0</td>\n",
       "      <td>1029.0</td>\n",
       "      <td>135.944000</td>\n",
       "      <td>...</td>\n",
       "      <td>0</td>\n",
       "      <td>0</td>\n",
       "      <td>15</td>\n",
       "      <td>0</td>\n",
       "      <td>0</td>\n",
       "      <td>1</td>\n",
       "      <td>8</td>\n",
       "      <td>9</td>\n",
       "      <td>0</td>\n",
       "      <td>0</td>\n",
       "    </tr>\n",
       "    <tr>\n",
       "      <th>2017-01-05</th>\n",
       "      <td>2.0</td>\n",
       "      <td>0.0</td>\n",
       "      <td>3.0</td>\n",
       "      <td>2617.0</td>\n",
       "      <td>0.0</td>\n",
       "      <td>533.479980</td>\n",
       "      <td>40.0</td>\n",
       "      <td>918.0</td>\n",
       "      <td>853.0</td>\n",
       "      <td>137.005997</td>\n",
       "      <td>...</td>\n",
       "      <td>0</td>\n",
       "      <td>21</td>\n",
       "      <td>8</td>\n",
       "      <td>0</td>\n",
       "      <td>0</td>\n",
       "      <td>1</td>\n",
       "      <td>1</td>\n",
       "      <td>5</td>\n",
       "      <td>0</td>\n",
       "      <td>1</td>\n",
       "    </tr>\n",
       "  </tbody>\n",
       "</table>\n",
       "<p>5 rows × 3564 columns</p>\n",
       "</div>"
      ],
      "text/plain": [
       "                sales                                                \\\n",
       "store_nbr           1                                                 \n",
       "family     AUTOMOTIVE BABY CARE BEAUTY BEVERAGES BOOKS BREAD/BAKERY   \n",
       "date                                                                  \n",
       "2017-01-01        0.0       0.0    0.0       0.0   0.0     0.000000   \n",
       "2017-01-02        5.0       0.0    0.0    1434.0   0.0   166.819000   \n",
       "2017-01-03        4.0       0.0    4.0    3081.0   2.0   519.348022   \n",
       "2017-01-04        1.0       0.0    4.0    3039.0   2.0   543.250977   \n",
       "2017-01-05        2.0       0.0    3.0    2617.0   0.0   533.479980   \n",
       "\n",
       "                                                     ... onpromotion        \\\n",
       "store_nbr                                            ...           9         \n",
       "family     CELEBRATION CLEANING   DAIRY        DELI  ...   MAGAZINES MEATS   \n",
       "date                                                 ...                     \n",
       "2017-01-01         0.0      0.0     0.0    0.000000  ...           0     0   \n",
       "2017-01-02         0.0    332.0   376.0   44.980000  ...           0     0   \n",
       "2017-01-03        15.0    952.0  1045.0  209.300003  ...           0     0   \n",
       "2017-01-04        17.0   1055.0  1029.0  135.944000  ...           0     0   \n",
       "2017-01-05        40.0    918.0   853.0  137.005997  ...           0    21   \n",
       "\n",
       "                                                                       \\\n",
       "store_nbr                                                               \n",
       "family     PERSONAL CARE PET SUPPLIES PLAYERS AND ELECTRONICS POULTRY   \n",
       "date                                                                    \n",
       "2017-01-01             0            0                       0       0   \n",
       "2017-01-02            13            0                       0       2   \n",
       "2017-01-03            11            0                       0       1   \n",
       "2017-01-04            15            0                       0       1   \n",
       "2017-01-05             8            0                       0       1   \n",
       "\n",
       "                                                                      \n",
       "store_nbr                                                             \n",
       "family     PREPARED FOODS PRODUCE SCHOOL AND OFFICE SUPPLIES SEAFOOD  \n",
       "date                                                                  \n",
       "2017-01-01              0       0                          0       0  \n",
       "2017-01-02              1       4                          0       0  \n",
       "2017-01-03              2     150                          0       0  \n",
       "2017-01-04              8       9                          0       0  \n",
       "2017-01-05              1       5                          0       1  \n",
       "\n",
       "[5 rows x 3564 columns]"
      ]
     },
     "metadata": {},
     "output_type": "display_data"
    },
    {
     "data": {
      "text/html": [
       "<div>\n",
       "<style scoped>\n",
       "    .dataframe tbody tr th:only-of-type {\n",
       "        vertical-align: middle;\n",
       "    }\n",
       "\n",
       "    .dataframe tbody tr th {\n",
       "        vertical-align: top;\n",
       "    }\n",
       "\n",
       "    .dataframe thead th {\n",
       "        text-align: right;\n",
       "    }\n",
       "</style>\n",
       "<table border=\"1\" class=\"dataframe\">\n",
       "  <thead>\n",
       "    <tr style=\"text-align: right;\">\n",
       "      <th></th>\n",
       "      <th>const</th>\n",
       "      <th>trend</th>\n",
       "      <th>s(2,5)</th>\n",
       "      <th>s(3,5)</th>\n",
       "      <th>s(4,5)</th>\n",
       "      <th>s(5,5)</th>\n",
       "      <th>sin(1,freq=M)</th>\n",
       "      <th>cos(1,freq=M)</th>\n",
       "      <th>sin(2,freq=M)</th>\n",
       "      <th>cos(2,freq=M)</th>\n",
       "      <th>sin(3,freq=M)</th>\n",
       "      <th>cos(3,freq=M)</th>\n",
       "      <th>sin(4,freq=M)</th>\n",
       "      <th>cos(4,freq=M)</th>\n",
       "    </tr>\n",
       "    <tr>\n",
       "      <th>date</th>\n",
       "      <th></th>\n",
       "      <th></th>\n",
       "      <th></th>\n",
       "      <th></th>\n",
       "      <th></th>\n",
       "      <th></th>\n",
       "      <th></th>\n",
       "      <th></th>\n",
       "      <th></th>\n",
       "      <th></th>\n",
       "      <th></th>\n",
       "      <th></th>\n",
       "      <th></th>\n",
       "      <th></th>\n",
       "    </tr>\n",
       "  </thead>\n",
       "  <tbody>\n",
       "    <tr>\n",
       "      <th>2013-01-01</th>\n",
       "      <td>1.0</td>\n",
       "      <td>1.0</td>\n",
       "      <td>0.0</td>\n",
       "      <td>0.0</td>\n",
       "      <td>0.0</td>\n",
       "      <td>0.0</td>\n",
       "      <td>0.000000</td>\n",
       "      <td>1.000000</td>\n",
       "      <td>0.000000</td>\n",
       "      <td>1.000000</td>\n",
       "      <td>0.000000</td>\n",
       "      <td>1.000000</td>\n",
       "      <td>0.000000</td>\n",
       "      <td>1.000000</td>\n",
       "    </tr>\n",
       "    <tr>\n",
       "      <th>2013-01-02</th>\n",
       "      <td>1.0</td>\n",
       "      <td>2.0</td>\n",
       "      <td>1.0</td>\n",
       "      <td>0.0</td>\n",
       "      <td>0.0</td>\n",
       "      <td>0.0</td>\n",
       "      <td>0.201299</td>\n",
       "      <td>0.979530</td>\n",
       "      <td>0.394356</td>\n",
       "      <td>0.918958</td>\n",
       "      <td>0.571268</td>\n",
       "      <td>0.820763</td>\n",
       "      <td>0.724793</td>\n",
       "      <td>0.688967</td>\n",
       "    </tr>\n",
       "    <tr>\n",
       "      <th>2013-01-03</th>\n",
       "      <td>1.0</td>\n",
       "      <td>3.0</td>\n",
       "      <td>0.0</td>\n",
       "      <td>1.0</td>\n",
       "      <td>0.0</td>\n",
       "      <td>0.0</td>\n",
       "      <td>0.394356</td>\n",
       "      <td>0.918958</td>\n",
       "      <td>0.724793</td>\n",
       "      <td>0.688967</td>\n",
       "      <td>0.937752</td>\n",
       "      <td>0.347305</td>\n",
       "      <td>0.998717</td>\n",
       "      <td>-0.050649</td>\n",
       "    </tr>\n",
       "    <tr>\n",
       "      <th>2013-01-04</th>\n",
       "      <td>1.0</td>\n",
       "      <td>4.0</td>\n",
       "      <td>0.0</td>\n",
       "      <td>0.0</td>\n",
       "      <td>1.0</td>\n",
       "      <td>0.0</td>\n",
       "      <td>0.571268</td>\n",
       "      <td>0.820763</td>\n",
       "      <td>0.937752</td>\n",
       "      <td>0.347305</td>\n",
       "      <td>0.968077</td>\n",
       "      <td>-0.250653</td>\n",
       "      <td>0.651372</td>\n",
       "      <td>-0.758758</td>\n",
       "    </tr>\n",
       "    <tr>\n",
       "      <th>2013-01-07</th>\n",
       "      <td>1.0</td>\n",
       "      <td>5.0</td>\n",
       "      <td>0.0</td>\n",
       "      <td>0.0</td>\n",
       "      <td>0.0</td>\n",
       "      <td>1.0</td>\n",
       "      <td>0.937752</td>\n",
       "      <td>0.347305</td>\n",
       "      <td>0.651372</td>\n",
       "      <td>-0.758758</td>\n",
       "      <td>-0.485302</td>\n",
       "      <td>-0.874347</td>\n",
       "      <td>-0.988468</td>\n",
       "      <td>0.151428</td>\n",
       "    </tr>\n",
       "  </tbody>\n",
       "</table>\n",
       "</div>"
      ],
      "text/plain": [
       "            const  trend  s(2,5)  s(3,5)  s(4,5)  s(5,5)  sin(1,freq=M)  \\\n",
       "date                                                                      \n",
       "2013-01-01    1.0    1.0     0.0     0.0     0.0     0.0       0.000000   \n",
       "2013-01-02    1.0    2.0     1.0     0.0     0.0     0.0       0.201299   \n",
       "2013-01-03    1.0    3.0     0.0     1.0     0.0     0.0       0.394356   \n",
       "2013-01-04    1.0    4.0     0.0     0.0     1.0     0.0       0.571268   \n",
       "2013-01-07    1.0    5.0     0.0     0.0     0.0     1.0       0.937752   \n",
       "\n",
       "            cos(1,freq=M)  sin(2,freq=M)  cos(2,freq=M)  sin(3,freq=M)  \\\n",
       "date                                                                     \n",
       "2013-01-01       1.000000       0.000000       1.000000       0.000000   \n",
       "2013-01-02       0.979530       0.394356       0.918958       0.571268   \n",
       "2013-01-03       0.918958       0.724793       0.688967       0.937752   \n",
       "2013-01-04       0.820763       0.937752       0.347305       0.968077   \n",
       "2013-01-07       0.347305       0.651372      -0.758758      -0.485302   \n",
       "\n",
       "            cos(3,freq=M)  sin(4,freq=M)  cos(4,freq=M)  \n",
       "date                                                     \n",
       "2013-01-01       1.000000       0.000000       1.000000  \n",
       "2013-01-02       0.820763       0.724793       0.688967  \n",
       "2013-01-03       0.347305       0.998717      -0.050649  \n",
       "2013-01-04      -0.250653       0.651372      -0.758758  \n",
       "2013-01-07      -0.874347      -0.988468       0.151428  "
      ]
     },
     "execution_count": 9,
     "metadata": {},
     "output_type": "execute_result"
    }
   ],
   "source": [
    "y = store_sales.unstack(['store_nbr', 'family']).loc[\"2017\"] \n",
    "\n",
    "display(y.head())\n",
    "\n",
    "# y = y.join( oil.rename('Oil') , on='date').fillna(method = 'bfill')\n",
    "\n",
    "# Create training data\n",
    "fourier = CalendarFourier(freq='M', order=4)\n",
    "dp = DeterministicProcess(\n",
    "    index=y.index,\n",
    "    constant=True,\n",
    "    order=1,\n",
    "    seasonal=True,\n",
    "    additional_terms=[fourier],\n",
    "    drop=True,\n",
    ")\n",
    "\n",
    "X = dp.in_sample()\n",
    "X['NewYear'] = (X.index.dayofyear == 1)\n",
    "X_holidays = pd.get_dummies(holidays) # add columns on Holidays, more featured, way matricial\n",
    "\n",
    "\n",
    "#X = X.join( oil.rename('Oil') , on='date').fillna(method = 'bfill')\n",
    "\n",
    "fourier = CalendarFourier(freq='M', order=4)\n",
    "dpOil = DeterministicProcess(\n",
    "    index=oil.index,\n",
    "    constant=True,\n",
    "    order=1,\n",
    "    seasonal=True,\n",
    "    additional_terms=[fourier],\n",
    "    drop=True,\n",
    ")\n",
    "\n",
    "Xoil = dpOil.in_sample()\n",
    "\n",
    "Xoil.head()"
   ]
  },
  {
   "cell_type": "code",
   "execution_count": 10,
   "id": "17d347a7",
   "metadata": {
    "execution": {
     "iopub.execute_input": "2022-04-05T17:08:37.486823Z",
     "iopub.status.busy": "2022-04-05T17:08:37.485755Z",
     "iopub.status.idle": "2022-04-05T17:08:37.502422Z",
     "shell.execute_reply": "2022-04-05T17:08:37.502896Z",
     "shell.execute_reply.started": "2022-04-05T17:07:22.229269Z"
    },
    "papermill": {
     "duration": 0.069586,
     "end_time": "2022-04-05T17:08:37.503074",
     "exception": false,
     "start_time": "2022-04-05T17:08:37.433488",
     "status": "completed"
    },
    "tags": []
   },
   "outputs": [
    {
     "name": "stdout",
     "output_type": "stream",
     "text": [
      "<class 'pandas.core.frame.DataFrame'>\n",
      "PeriodIndex: 227 entries, 2017-01-01 to 2017-08-15\n",
      "Freq: D\n",
      "Data columns (total 31 columns):\n",
      " #   Column           Non-Null Count  Dtype  \n",
      "---  ------           --------------  -----  \n",
      " 0   const            227 non-null    float64\n",
      " 1   trend            227 non-null    float64\n",
      " 2   s(2,7)           227 non-null    float64\n",
      " 3   s(3,7)           227 non-null    float64\n",
      " 4   s(4,7)           227 non-null    float64\n",
      " 5   s(5,7)           227 non-null    float64\n",
      " 6   s(6,7)           227 non-null    float64\n",
      " 7   s(7,7)           227 non-null    float64\n",
      " 8   sin(1,freq=M)    227 non-null    float64\n",
      " 9   cos(1,freq=M)    227 non-null    float64\n",
      " 10  sin(2,freq=M)    227 non-null    float64\n",
      " 11  cos(2,freq=M)    227 non-null    float64\n",
      " 12  sin(3,freq=M)    227 non-null    float64\n",
      " 13  cos(3,freq=M)    227 non-null    float64\n",
      " 14  sin(4,freq=M)    227 non-null    float64\n",
      " 15  cos(4,freq=M)    227 non-null    float64\n",
      " 16  NewYear          227 non-null    bool   \n",
      " 17  constRT          0 non-null      float64\n",
      " 18  trendRT          0 non-null      float64\n",
      " 19  s(2,5)           0 non-null      float64\n",
      " 20  s(3,5)           0 non-null      float64\n",
      " 21  s(4,5)           0 non-null      float64\n",
      " 22  s(5,5)           0 non-null      float64\n",
      " 23  sin(1,freq=M)RT  0 non-null      float64\n",
      " 24  cos(1,freq=M)RT  0 non-null      float64\n",
      " 25  sin(2,freq=M)RT  0 non-null      float64\n",
      " 26  cos(2,freq=M)RT  0 non-null      float64\n",
      " 27  sin(3,freq=M)RT  0 non-null      float64\n",
      " 28  cos(3,freq=M)RT  0 non-null      float64\n",
      " 29  sin(4,freq=M)RT  0 non-null      float64\n",
      " 30  cos(4,freq=M)RT  0 non-null      float64\n",
      "dtypes: bool(1), float64(30)\n",
      "memory usage: 55.2 KB\n"
     ]
    }
   ],
   "source": [
    "X1 = X.join( Xoil , on='date', rsuffix='RT').fillna(method = 'bfill')\n",
    "\n",
    "X1.info()"
   ]
  },
  {
   "cell_type": "code",
   "execution_count": 11,
   "id": "edcccdf8",
   "metadata": {
    "execution": {
     "iopub.execute_input": "2022-04-05T17:08:37.574706Z",
     "iopub.status.busy": "2022-04-05T17:08:37.574032Z",
     "iopub.status.idle": "2022-04-05T17:08:37.596318Z",
     "shell.execute_reply": "2022-04-05T17:08:37.596824Z",
     "shell.execute_reply.started": "2022-04-05T17:07:22.288422Z"
    },
    "papermill": {
     "duration": 0.061081,
     "end_time": "2022-04-05T17:08:37.597003",
     "exception": false,
     "start_time": "2022-04-05T17:08:37.535922",
     "status": "completed"
    },
    "tags": []
   },
   "outputs": [
    {
     "name": "stdout",
     "output_type": "stream",
     "text": [
      "Num_null:  0\n",
      "<class 'pandas.core.frame.DataFrame'>\n",
      "PeriodIndex: 227 entries, 2017-01-01 to 2017-08-15\n",
      "Freq: D\n",
      "Data columns (total 44 columns):\n",
      " #   Column                                              Non-Null Count  Dtype  \n",
      "---  ------                                              --------------  -----  \n",
      " 0   const                                               227 non-null    float64\n",
      " 1   trend                                               227 non-null    float64\n",
      " 2   s(2,7)                                              227 non-null    float64\n",
      " 3   s(3,7)                                              227 non-null    float64\n",
      " 4   s(4,7)                                              227 non-null    float64\n",
      " 5   s(5,7)                                              227 non-null    float64\n",
      " 6   s(6,7)                                              227 non-null    float64\n",
      " 7   s(7,7)                                              227 non-null    float64\n",
      " 8   sin(1,freq=M)                                       227 non-null    float64\n",
      " 9   cos(1,freq=M)                                       227 non-null    float64\n",
      " 10  sin(2,freq=M)                                       227 non-null    float64\n",
      " 11  cos(2,freq=M)                                       227 non-null    float64\n",
      " 12  sin(3,freq=M)                                       227 non-null    float64\n",
      " 13  cos(3,freq=M)                                       227 non-null    float64\n",
      " 14  sin(4,freq=M)                                       227 non-null    float64\n",
      " 15  cos(4,freq=M)                                       227 non-null    float64\n",
      " 16  NewYear                                             227 non-null    bool   \n",
      " 17  constRT                                             227 non-null    float64\n",
      " 18  trendRT                                             227 non-null    float64\n",
      " 19  s(2,5)                                              227 non-null    float64\n",
      " 20  s(3,5)                                              227 non-null    float64\n",
      " 21  s(4,5)                                              227 non-null    float64\n",
      " 22  s(5,5)                                              227 non-null    float64\n",
      " 23  sin(1,freq=M)RT                                     227 non-null    float64\n",
      " 24  cos(1,freq=M)RT                                     227 non-null    float64\n",
      " 25  sin(2,freq=M)RT                                     227 non-null    float64\n",
      " 26  cos(2,freq=M)RT                                     227 non-null    float64\n",
      " 27  sin(3,freq=M)RT                                     227 non-null    float64\n",
      " 28  cos(3,freq=M)RT                                     227 non-null    float64\n",
      " 29  sin(4,freq=M)RT                                     227 non-null    float64\n",
      " 30  cos(4,freq=M)RT                                     227 non-null    float64\n",
      " 31  description_Batalla de Pichincha                    227 non-null    float64\n",
      " 32  description_Carnaval                                227 non-null    float64\n",
      " 33  description_Dia de la Madre                         227 non-null    float64\n",
      " 34  description_Dia de la Madre-1                       227 non-null    float64\n",
      " 35  description_Dia del Trabajo                         227 non-null    float64\n",
      " 36  description_Primer Grito de Independencia           227 non-null    float64\n",
      " 37  description_Primer dia del ano                      227 non-null    float64\n",
      " 38  description_Provincializacion de Cotopaxi           227 non-null    float64\n",
      " 39  description_Provincializacion de Imbabura           227 non-null    float64\n",
      " 40  description_Traslado Batalla de Pichincha           227 non-null    float64\n",
      " 41  description_Traslado Primer Grito de Independencia  227 non-null    float64\n",
      " 42  description_Traslado Primer dia del ano             227 non-null    float64\n",
      " 43  description_Viernes Santo                           227 non-null    float64\n",
      "dtypes: bool(1), float64(43)\n",
      "memory usage: 78.3 KB\n"
     ]
    },
    {
     "data": {
      "text/plain": [
       "None"
      ]
     },
     "metadata": {},
     "output_type": "display_data"
    }
   ],
   "source": [
    "from sklearn.preprocessing import OneHotEncoder\n",
    " \n",
    "\n",
    "\n",
    "X2 = X1.join(X_holidays, on='date').fillna(0.0)\n",
    "\n",
    "missingValueCount = X2.isnull().sum()\n",
    "print('Num_null: ' , missingValueCount.sum() )\n",
    "X2 = X2.dropna()\n",
    "X2 = X2.fillna(0)\n",
    "\n",
    "display(X2.info())\n"
   ]
  },
  {
   "cell_type": "code",
   "execution_count": 12,
   "id": "3984d251",
   "metadata": {
    "execution": {
     "iopub.execute_input": "2022-04-05T17:08:37.669795Z",
     "iopub.status.busy": "2022-04-05T17:08:37.669153Z",
     "iopub.status.idle": "2022-04-05T17:08:38.353435Z",
     "shell.execute_reply": "2022-04-05T17:08:38.352942Z",
     "shell.execute_reply.started": "2022-04-05T17:07:22.317588Z"
    },
    "papermill": {
     "duration": 0.724231,
     "end_time": "2022-04-05T17:08:38.353581",
     "exception": false,
     "start_time": "2022-04-05T17:08:37.629350",
     "status": "completed"
    },
    "tags": []
   },
   "outputs": [
    {
     "name": "stdout",
     "output_type": "stream",
     "text": [
      "<class 'pandas.core.frame.DataFrame'>\n",
      "PeriodIndex: 227 entries, 2017-01-01 to 2017-08-15\n",
      "Freq: D\n",
      "Columns: 3564 entries, ('sales', '1', 'AUTOMOTIVE') to ('onpromotion', '9', 'SEAFOOD')\n",
      "dtypes: float64(3564)\n",
      "memory usage: 6.2 MB\n"
     ]
    }
   ],
   "source": [
    "\n",
    "model = LinearRegression(fit_intercept=False)\n",
    "model.fit(X2, y)\n",
    "y_pred = pd.DataFrame(model.predict(X2), index=X2.index, columns=y.columns)\n",
    "\n",
    "y_pred.info()"
   ]
  },
  {
   "cell_type": "markdown",
   "id": "d6e44687",
   "metadata": {
    "papermill": {
     "duration": 0.037201,
     "end_time": "2022-04-05T17:08:38.423550",
     "exception": false,
     "start_time": "2022-04-05T17:08:38.386349",
     "status": "completed"
    },
    "tags": []
   },
   "source": [
    "We see a low in the price oil, at the end of 2014."
   ]
  },
  {
   "cell_type": "markdown",
   "id": "4afe3f99",
   "metadata": {
    "papermill": {
     "duration": 0.039934,
     "end_time": "2022-04-05T17:08:38.510743",
     "exception": false,
     "start_time": "2022-04-05T17:08:38.470809",
     "status": "completed"
    },
    "tags": []
   },
   "source": [
    "### Missing Values ###"
   ]
  },
  {
   "cell_type": "code",
   "execution_count": 13,
   "id": "92672624",
   "metadata": {
    "execution": {
     "iopub.execute_input": "2022-04-05T17:08:38.582306Z",
     "iopub.status.busy": "2022-04-05T17:08:38.581629Z",
     "iopub.status.idle": "2022-04-05T17:08:38.647684Z",
     "shell.execute_reply": "2022-04-05T17:08:38.647063Z",
     "shell.execute_reply.started": "2022-04-05T17:07:23.203710Z"
    },
    "papermill": {
     "duration": 0.102253,
     "end_time": "2022-04-05T17:08:38.647822",
     "exception": false,
     "start_time": "2022-04-05T17:08:38.545569",
     "status": "completed"
    },
    "tags": []
   },
   "outputs": [
    {
     "name": "stdout",
     "output_type": "stream",
     "text": [
      "<class 'pandas.core.frame.DataFrame'>\n",
      "PeriodIndex: 16 entries, 2017-08-16 to 2017-08-31\n",
      "Freq: D\n",
      "Data columns (total 44 columns):\n",
      " #   Column                                              Non-Null Count  Dtype  \n",
      "---  ------                                              --------------  -----  \n",
      " 0   const                                               16 non-null     float64\n",
      " 1   trend                                               16 non-null     float64\n",
      " 2   s(2,7)                                              16 non-null     float64\n",
      " 3   s(3,7)                                              16 non-null     float64\n",
      " 4   s(4,7)                                              16 non-null     float64\n",
      " 5   s(5,7)                                              16 non-null     float64\n",
      " 6   s(6,7)                                              16 non-null     float64\n",
      " 7   s(7,7)                                              16 non-null     float64\n",
      " 8   sin(1,freq=M)                                       16 non-null     float64\n",
      " 9   cos(1,freq=M)                                       16 non-null     float64\n",
      " 10  sin(2,freq=M)                                       16 non-null     float64\n",
      " 11  cos(2,freq=M)                                       16 non-null     float64\n",
      " 12  sin(3,freq=M)                                       16 non-null     float64\n",
      " 13  cos(3,freq=M)                                       16 non-null     float64\n",
      " 14  sin(4,freq=M)                                       16 non-null     float64\n",
      " 15  cos(4,freq=M)                                       16 non-null     float64\n",
      " 16  NewYear                                             16 non-null     bool   \n",
      " 17  constRT                                             16 non-null     float64\n",
      " 18  trendRT                                             16 non-null     float64\n",
      " 19  s(2,5)                                              16 non-null     float64\n",
      " 20  s(3,5)                                              16 non-null     float64\n",
      " 21  s(4,5)                                              16 non-null     float64\n",
      " 22  s(5,5)                                              16 non-null     float64\n",
      " 23  sin(1,freq=M)RT                                     16 non-null     float64\n",
      " 24  cos(1,freq=M)RT                                     16 non-null     float64\n",
      " 25  sin(2,freq=M)RT                                     16 non-null     float64\n",
      " 26  cos(2,freq=M)RT                                     16 non-null     float64\n",
      " 27  sin(3,freq=M)RT                                     16 non-null     float64\n",
      " 28  cos(3,freq=M)RT                                     16 non-null     float64\n",
      " 29  sin(4,freq=M)RT                                     16 non-null     float64\n",
      " 30  cos(4,freq=M)RT                                     16 non-null     float64\n",
      " 31  description_Batalla de Pichincha                    16 non-null     float64\n",
      " 32  description_Carnaval                                16 non-null     float64\n",
      " 33  description_Dia de la Madre                         16 non-null     float64\n",
      " 34  description_Dia de la Madre-1                       16 non-null     float64\n",
      " 35  description_Dia del Trabajo                         16 non-null     float64\n",
      " 36  description_Primer Grito de Independencia           16 non-null     float64\n",
      " 37  description_Primer dia del ano                      16 non-null     float64\n",
      " 38  description_Provincializacion de Cotopaxi           16 non-null     float64\n",
      " 39  description_Provincializacion de Imbabura           16 non-null     float64\n",
      " 40  description_Traslado Batalla de Pichincha           16 non-null     float64\n",
      " 41  description_Traslado Primer Grito de Independencia  16 non-null     float64\n",
      " 42  description_Traslado Primer dia del ano             16 non-null     float64\n",
      " 43  description_Viernes Santo                           16 non-null     float64\n",
      "dtypes: bool(1), float64(43)\n",
      "memory usage: 5.5 KB\n"
     ]
    }
   ],
   "source": [
    "df_test = pd.read_csv(\n",
    "    comp_dir / 'test.csv',\n",
    "    dtype={\n",
    "        'store_nbr': 'category',\n",
    "        'family': 'category',\n",
    "        'onpromotion': 'uint32',\n",
    "    },\n",
    "    parse_dates=['date'],\n",
    "    infer_datetime_format=True,\n",
    ")\n",
    "\n",
    "df_test['date'] = df_test.date.dt.to_period('D')\n",
    "df_test = df_test.set_index(['store_nbr', 'family', 'date']).sort_index()\n",
    "\n",
    "#df_test = df_test.loc['2017'] \n",
    "# Create features for test set\n",
    "X_test = dp.out_of_sample(steps=16)\n",
    "X_test.index.name = 'date'\n",
    "X_test['NewYear'] = (X_test.index.dayofyear == 1)\n",
    "#X_test = X_test.join( oil.rename('Oil') , on='date').fillna(method = 'bfill')\n",
    "X_test1 = X_test.join( Xoil , on='date', rsuffix='RT').fillna(method = 'bfill')\n",
    "\n",
    "\n",
    "X_test2 = X_test1.join(X_holidays, on='date').fillna(0.0)\n",
    "\n",
    "\n",
    "X_test2.info()"
   ]
  },
  {
   "cell_type": "code",
   "execution_count": 14,
   "id": "fc07631f",
   "metadata": {
    "execution": {
     "iopub.execute_input": "2022-04-05T17:08:38.719015Z",
     "iopub.status.busy": "2022-04-05T17:08:38.718398Z",
     "iopub.status.idle": "2022-04-05T17:08:38.782907Z",
     "shell.execute_reply": "2022-04-05T17:08:38.783744Z",
     "shell.execute_reply.started": "2022-04-05T17:07:23.282156Z"
    },
    "papermill": {
     "duration": 0.102824,
     "end_time": "2022-04-05T17:08:38.784019",
     "exception": false,
     "start_time": "2022-04-05T17:08:38.681195",
     "status": "completed"
    },
    "tags": []
   },
   "outputs": [
    {
     "data": {
      "text/html": [
       "<div>\n",
       "<style scoped>\n",
       "    .dataframe tbody tr th:only-of-type {\n",
       "        vertical-align: middle;\n",
       "    }\n",
       "\n",
       "    .dataframe tbody tr th {\n",
       "        vertical-align: top;\n",
       "    }\n",
       "\n",
       "    .dataframe thead tr th {\n",
       "        text-align: left;\n",
       "    }\n",
       "\n",
       "    .dataframe thead tr:last-of-type th {\n",
       "        text-align: right;\n",
       "    }\n",
       "</style>\n",
       "<table border=\"1\" class=\"dataframe\">\n",
       "  <thead>\n",
       "    <tr>\n",
       "      <th></th>\n",
       "      <th colspan=\"10\" halign=\"left\">sales</th>\n",
       "      <th>...</th>\n",
       "      <th colspan=\"10\" halign=\"left\">onpromotion</th>\n",
       "    </tr>\n",
       "    <tr>\n",
       "      <th>store_nbr</th>\n",
       "      <th colspan=\"10\" halign=\"left\">1</th>\n",
       "      <th>...</th>\n",
       "      <th colspan=\"10\" halign=\"left\">9</th>\n",
       "    </tr>\n",
       "    <tr>\n",
       "      <th>family</th>\n",
       "      <th>AUTOMOTIVE</th>\n",
       "      <th>BABY CARE</th>\n",
       "      <th>BEAUTY</th>\n",
       "      <th>BEVERAGES</th>\n",
       "      <th>BOOKS</th>\n",
       "      <th>BREAD/BAKERY</th>\n",
       "      <th>CELEBRATION</th>\n",
       "      <th>CLEANING</th>\n",
       "      <th>DAIRY</th>\n",
       "      <th>DELI</th>\n",
       "      <th>...</th>\n",
       "      <th>MAGAZINES</th>\n",
       "      <th>MEATS</th>\n",
       "      <th>PERSONAL CARE</th>\n",
       "      <th>PET SUPPLIES</th>\n",
       "      <th>PLAYERS AND ELECTRONICS</th>\n",
       "      <th>POULTRY</th>\n",
       "      <th>PREPARED FOODS</th>\n",
       "      <th>PRODUCE</th>\n",
       "      <th>SCHOOL AND OFFICE SUPPLIES</th>\n",
       "      <th>SEAFOOD</th>\n",
       "    </tr>\n",
       "    <tr>\n",
       "      <th>date</th>\n",
       "      <th></th>\n",
       "      <th></th>\n",
       "      <th></th>\n",
       "      <th></th>\n",
       "      <th></th>\n",
       "      <th></th>\n",
       "      <th></th>\n",
       "      <th></th>\n",
       "      <th></th>\n",
       "      <th></th>\n",
       "      <th></th>\n",
       "      <th></th>\n",
       "      <th></th>\n",
       "      <th></th>\n",
       "      <th></th>\n",
       "      <th></th>\n",
       "      <th></th>\n",
       "      <th></th>\n",
       "      <th></th>\n",
       "      <th></th>\n",
       "      <th></th>\n",
       "    </tr>\n",
       "  </thead>\n",
       "  <tbody>\n",
       "    <tr>\n",
       "      <th>2017-08-16</th>\n",
       "      <td>4.341548</td>\n",
       "      <td>0.0</td>\n",
       "      <td>3.452431</td>\n",
       "      <td>2395.177911</td>\n",
       "      <td>0.425745</td>\n",
       "      <td>390.551336</td>\n",
       "      <td>17.332727</td>\n",
       "      <td>814.175849</td>\n",
       "      <td>810.690309</td>\n",
       "      <td>138.790001</td>\n",
       "      <td>...</td>\n",
       "      <td>0.0</td>\n",
       "      <td>0.288287</td>\n",
       "      <td>13.338082</td>\n",
       "      <td>0.036032</td>\n",
       "      <td>0.105168</td>\n",
       "      <td>-0.211493</td>\n",
       "      <td>3.982727</td>\n",
       "      <td>10.833558</td>\n",
       "      <td>2.259167</td>\n",
       "      <td>0.434602</td>\n",
       "    </tr>\n",
       "    <tr>\n",
       "      <th>2017-08-17</th>\n",
       "      <td>4.127794</td>\n",
       "      <td>0.0</td>\n",
       "      <td>2.563252</td>\n",
       "      <td>2045.710293</td>\n",
       "      <td>0.081730</td>\n",
       "      <td>336.073933</td>\n",
       "      <td>20.314541</td>\n",
       "      <td>652.628073</td>\n",
       "      <td>663.738718</td>\n",
       "      <td>116.800825</td>\n",
       "      <td>...</td>\n",
       "      <td>0.0</td>\n",
       "      <td>20.406772</td>\n",
       "      <td>12.241600</td>\n",
       "      <td>-0.023406</td>\n",
       "      <td>0.037320</td>\n",
       "      <td>-0.163680</td>\n",
       "      <td>-1.055373</td>\n",
       "      <td>8.885126</td>\n",
       "      <td>1.629003</td>\n",
       "      <td>0.295068</td>\n",
       "    </tr>\n",
       "    <tr>\n",
       "      <th>2017-08-18</th>\n",
       "      <td>5.836514</td>\n",
       "      <td>0.0</td>\n",
       "      <td>2.568565</td>\n",
       "      <td>2408.384935</td>\n",
       "      <td>0.063010</td>\n",
       "      <td>367.850190</td>\n",
       "      <td>22.555630</td>\n",
       "      <td>736.839224</td>\n",
       "      <td>778.048344</td>\n",
       "      <td>178.898602</td>\n",
       "      <td>...</td>\n",
       "      <td>0.0</td>\n",
       "      <td>0.462535</td>\n",
       "      <td>11.854817</td>\n",
       "      <td>-0.007709</td>\n",
       "      <td>0.090623</td>\n",
       "      <td>20.198551</td>\n",
       "      <td>-0.060127</td>\n",
       "      <td>8.891111</td>\n",
       "      <td>1.542577</td>\n",
       "      <td>0.243447</td>\n",
       "    </tr>\n",
       "    <tr>\n",
       "      <th>2017-08-19</th>\n",
       "      <td>4.350567</td>\n",
       "      <td>0.0</td>\n",
       "      <td>3.001167</td>\n",
       "      <td>2422.493817</td>\n",
       "      <td>-0.236329</td>\n",
       "      <td>366.994103</td>\n",
       "      <td>12.634900</td>\n",
       "      <td>594.136059</td>\n",
       "      <td>730.848027</td>\n",
       "      <td>137.669231</td>\n",
       "      <td>...</td>\n",
       "      <td>0.0</td>\n",
       "      <td>0.761641</td>\n",
       "      <td>11.935863</td>\n",
       "      <td>0.041451</td>\n",
       "      <td>0.036005</td>\n",
       "      <td>-0.245516</td>\n",
       "      <td>-1.193101</td>\n",
       "      <td>8.936892</td>\n",
       "      <td>1.799138</td>\n",
       "      <td>3.380202</td>\n",
       "    </tr>\n",
       "    <tr>\n",
       "      <th>2017-08-20</th>\n",
       "      <td>1.729306</td>\n",
       "      <td>0.0</td>\n",
       "      <td>1.159444</td>\n",
       "      <td>1025.227708</td>\n",
       "      <td>-0.271743</td>\n",
       "      <td>122.567950</td>\n",
       "      <td>1.931911</td>\n",
       "      <td>204.858204</td>\n",
       "      <td>282.079091</td>\n",
       "      <td>58.538692</td>\n",
       "      <td>...</td>\n",
       "      <td>0.0</td>\n",
       "      <td>0.706361</td>\n",
       "      <td>12.133517</td>\n",
       "      <td>0.056176</td>\n",
       "      <td>0.187386</td>\n",
       "      <td>-0.246967</td>\n",
       "      <td>-1.250955</td>\n",
       "      <td>9.167326</td>\n",
       "      <td>1.878502</td>\n",
       "      <td>0.385910</td>\n",
       "    </tr>\n",
       "  </tbody>\n",
       "</table>\n",
       "<p>5 rows × 3564 columns</p>\n",
       "</div>"
      ],
      "text/plain": [
       "                sales                                                          \\\n",
       "store_nbr           1                                                           \n",
       "family     AUTOMOTIVE BABY CARE    BEAUTY    BEVERAGES     BOOKS BREAD/BAKERY   \n",
       "date                                                                            \n",
       "2017-08-16   4.341548       0.0  3.452431  2395.177911  0.425745   390.551336   \n",
       "2017-08-17   4.127794       0.0  2.563252  2045.710293  0.081730   336.073933   \n",
       "2017-08-18   5.836514       0.0  2.568565  2408.384935  0.063010   367.850190   \n",
       "2017-08-19   4.350567       0.0  3.001167  2422.493817 -0.236329   366.994103   \n",
       "2017-08-20   1.729306       0.0  1.159444  1025.227708 -0.271743   122.567950   \n",
       "\n",
       "                                                            ... onpromotion  \\\n",
       "store_nbr                                                   ...           9   \n",
       "family     CELEBRATION    CLEANING       DAIRY        DELI  ...   MAGAZINES   \n",
       "date                                                        ...               \n",
       "2017-08-16   17.332727  814.175849  810.690309  138.790001  ...         0.0   \n",
       "2017-08-17   20.314541  652.628073  663.738718  116.800825  ...         0.0   \n",
       "2017-08-18   22.555630  736.839224  778.048344  178.898602  ...         0.0   \n",
       "2017-08-19   12.634900  594.136059  730.848027  137.669231  ...         0.0   \n",
       "2017-08-20    1.931911  204.858204  282.079091   58.538692  ...         0.0   \n",
       "\n",
       "                                                                          \\\n",
       "store_nbr                                                                  \n",
       "family          MEATS PERSONAL CARE PET SUPPLIES PLAYERS AND ELECTRONICS   \n",
       "date                                                                       \n",
       "2017-08-16   0.288287     13.338082     0.036032                0.105168   \n",
       "2017-08-17  20.406772     12.241600    -0.023406                0.037320   \n",
       "2017-08-18   0.462535     11.854817    -0.007709                0.090623   \n",
       "2017-08-19   0.761641     11.935863     0.041451                0.036005   \n",
       "2017-08-20   0.706361     12.133517     0.056176                0.187386   \n",
       "\n",
       "                                                                            \\\n",
       "store_nbr                                                                    \n",
       "family        POULTRY PREPARED FOODS    PRODUCE SCHOOL AND OFFICE SUPPLIES   \n",
       "date                                                                         \n",
       "2017-08-16  -0.211493       3.982727  10.833558                   2.259167   \n",
       "2017-08-17  -0.163680      -1.055373   8.885126                   1.629003   \n",
       "2017-08-18  20.198551      -0.060127   8.891111                   1.542577   \n",
       "2017-08-19  -0.245516      -1.193101   8.936892                   1.799138   \n",
       "2017-08-20  -0.246967      -1.250955   9.167326                   1.878502   \n",
       "\n",
       "                      \n",
       "store_nbr             \n",
       "family       SEAFOOD  \n",
       "date                  \n",
       "2017-08-16  0.434602  \n",
       "2017-08-17  0.295068  \n",
       "2017-08-18  0.243447  \n",
       "2017-08-19  3.380202  \n",
       "2017-08-20  0.385910  \n",
       "\n",
       "[5 rows x 3564 columns]"
      ]
     },
     "execution_count": 14,
     "metadata": {},
     "output_type": "execute_result"
    }
   ],
   "source": [
    "y_submit = pd.DataFrame(model.predict(X_test2), index=X_test.index, columns=y.columns)\n",
    "y_submit.head()"
   ]
  },
  {
   "cell_type": "code",
   "execution_count": 15,
   "id": "c697d8b4",
   "metadata": {
    "execution": {
     "iopub.execute_input": "2022-04-05T17:08:38.895476Z",
     "iopub.status.busy": "2022-04-05T17:08:38.894158Z",
     "iopub.status.idle": "2022-04-05T17:08:39.369008Z",
     "shell.execute_reply": "2022-04-05T17:08:39.369573Z",
     "shell.execute_reply.started": "2022-04-05T17:07:23.368649Z"
    },
    "papermill": {
     "duration": 0.520749,
     "end_time": "2022-04-05T17:08:39.369766",
     "exception": false,
     "start_time": "2022-04-05T17:08:38.849017",
     "status": "completed"
    },
    "tags": []
   },
   "outputs": [],
   "source": [
    "y_submit = pd.DataFrame(model.predict(X_test2), index=X_test2.index, columns=y.columns)\n",
    "y_submit = y_submit.stack(['store_nbr', 'family'])\n",
    "y_submit = y_submit.join(df_test.id).reindex(columns=['id', 'sales'])\n",
    "y_submit.to_csv('submission.csv', index=False)"
   ]
  },
  {
   "cell_type": "code",
   "execution_count": 16,
   "id": "f368e971",
   "metadata": {
    "execution": {
     "iopub.execute_input": "2022-04-05T17:08:39.446122Z",
     "iopub.status.busy": "2022-04-05T17:08:39.445416Z",
     "iopub.status.idle": "2022-04-05T17:08:39.448178Z",
     "shell.execute_reply": "2022-04-05T17:08:39.448722Z",
     "shell.execute_reply.started": "2022-04-05T17:07:24.010877Z"
    },
    "papermill": {
     "duration": 0.043198,
     "end_time": "2022-04-05T17:08:39.448902",
     "exception": false,
     "start_time": "2022-04-05T17:08:39.405704",
     "status": "completed"
    },
    "tags": []
   },
   "outputs": [
    {
     "name": "stdout",
     "output_type": "stream",
     "text": [
      "\n",
      " DONE\n"
     ]
    }
   ],
   "source": [
    "y_submit.head()\n",
    "\n",
    "print('\\n', 'DONE')"
   ]
  },
  {
   "cell_type": "markdown",
   "id": "4d774712",
   "metadata": {
    "papermill": {
     "duration": 0.033737,
     "end_time": "2022-04-05T17:08:39.516612",
     "exception": false,
     "start_time": "2022-04-05T17:08:39.482875",
     "status": "completed"
    },
    "tags": []
   },
   "source": [
    "## Pre-Processing ##"
   ]
  },
  {
   "cell_type": "markdown",
   "id": "5079cecf",
   "metadata": {
    "papermill": {
     "duration": 0.033897,
     "end_time": "2022-04-05T17:08:39.584329",
     "exception": false,
     "start_time": "2022-04-05T17:08:39.550432",
     "status": "completed"
    },
    "tags": []
   },
   "source": [
    "### Selection only Giants or Dwarfs ###"
   ]
  },
  {
   "cell_type": "markdown",
   "id": "a1f6af1f",
   "metadata": {
    "papermill": {
     "duration": 0.03434,
     "end_time": "2022-04-05T17:08:39.653395",
     "exception": false,
     "start_time": "2022-04-05T17:08:39.619055",
     "status": "completed"
    },
    "tags": []
   },
   "source": [
    "## Balance ##"
   ]
  },
  {
   "cell_type": "code",
   "execution_count": 17,
   "id": "09eb6e8f",
   "metadata": {
    "execution": {
     "iopub.execute_input": "2022-04-05T17:08:39.727332Z",
     "iopub.status.busy": "2022-04-05T17:08:39.726478Z",
     "iopub.status.idle": "2022-04-05T17:08:39.729174Z",
     "shell.execute_reply": "2022-04-05T17:08:39.728727Z",
     "shell.execute_reply.started": "2022-04-05T17:07:24.023759Z"
    },
    "papermill": {
     "duration": 0.041626,
     "end_time": "2022-04-05T17:08:39.729315",
     "exception": false,
     "start_time": "2022-04-05T17:08:39.687689",
     "status": "completed"
    },
    "tags": []
   },
   "outputs": [],
   "source": [
    "# dividir set \n",
    "\n",
    "\n",
    "\n",
    "# from sklearn.utils import resample\n",
    "# dfGiantsDownSample = resample(dfGiants, \n",
    "  #                           replace = False, # sample without replacement\n",
    "   #                          n_samples = num_of_dwarf,\n",
    "   #                          random_state =1 \n",
    " #                            )\n",
    "#dfDownSampled = pd.concat([dfGiantsDownSample , dfDwarfs] )\n",
    "\n",
    "#dfBalanced= dfDownSampled.reset_index(drop=True)\n",
    "\n",
    "# dataStar = dfBalanced.sample(frac=1).reset_index(drop=True) # shuffle\n",
    "# dfCopyStar = dataStar.copy()"
   ]
  },
  {
   "cell_type": "markdown",
   "id": "45275ed3",
   "metadata": {
    "papermill": {
     "duration": 0.033462,
     "end_time": "2022-04-05T17:08:39.797572",
     "exception": false,
     "start_time": "2022-04-05T17:08:39.764110",
     "status": "completed"
    },
    "tags": []
   },
   "source": [
    "## Visualization ##"
   ]
  },
  {
   "cell_type": "markdown",
   "id": "02eb5cfa",
   "metadata": {
    "papermill": {
     "duration": 0.03337,
     "end_time": "2022-04-05T17:08:39.864876",
     "exception": false,
     "start_time": "2022-04-05T17:08:39.831506",
     "status": "completed"
    },
    "tags": []
   },
   "source": [
    "## Correlation Linear ##"
   ]
  },
  {
   "cell_type": "markdown",
   "id": "3f8da913",
   "metadata": {
    "papermill": {
     "duration": 0.033586,
     "end_time": "2022-04-05T17:08:39.932690",
     "exception": false,
     "start_time": "2022-04-05T17:08:39.899104",
     "status": "completed"
    },
    "tags": []
   },
   "source": [
    "## Data Cleaning ##"
   ]
  },
  {
   "cell_type": "markdown",
   "id": "0e430721",
   "metadata": {
    "papermill": {
     "duration": 0.033526,
     "end_time": "2022-04-05T17:08:40.000365",
     "exception": false,
     "start_time": "2022-04-05T17:08:39.966839",
     "status": "completed"
    },
    "tags": []
   },
   "source": [
    "# **Data Processing** #"
   ]
  },
  {
   "cell_type": "markdown",
   "id": "789c8957",
   "metadata": {
    "papermill": {
     "duration": 0.033161,
     "end_time": "2022-04-05T17:08:40.067240",
     "exception": false,
     "start_time": "2022-04-05T17:08:40.034079",
     "status": "completed"
    },
    "tags": []
   },
   "source": [
    "### Train and test Set ###"
   ]
  },
  {
   "cell_type": "code",
   "execution_count": 18,
   "id": "ab3bd108",
   "metadata": {
    "execution": {
     "iopub.execute_input": "2022-04-05T17:08:40.140470Z",
     "iopub.status.busy": "2022-04-05T17:08:40.139477Z",
     "iopub.status.idle": "2022-04-05T17:08:40.143997Z",
     "shell.execute_reply": "2022-04-05T17:08:40.144514Z",
     "shell.execute_reply.started": "2022-04-05T17:07:24.031651Z"
    },
    "papermill": {
     "duration": 0.043113,
     "end_time": "2022-04-05T17:08:40.144717",
     "exception": false,
     "start_time": "2022-04-05T17:08:40.101604",
     "status": "completed"
    },
    "tags": []
   },
   "outputs": [],
   "source": [
    "## Stratified ##\n",
    "#from sklearn.model_selection import StratifiedShuffleSplit\n",
    "#split = StratifiedShuffleSplit(n_splits=1, test_size=0.2, random_state=42)\n",
    "#for train_index, test_index in split.split(data, data[\"variableStratificada\"]):\n",
    "#strat_train_set = housing.loc[train_index]\n",
    "#strat_test_set = housing.loc[test_index]\n",
    "\n",
    "#from  sklearn.impute import SimpleImputer\n",
    "#imputer = SimpleImputer(strategy='median')\n",
    "\n",
    "#from  sklearn.preprocessing import OneHotEncoder\n",
    "#catEncoder = OneHotEncoder()\n",
    "\n",
    "## numerical ##\n",
    "#from  sklearn.pipeline import Pipeline\n",
    "#from  sklearn.preprocessing import StandardScaler\n",
    "#numerical_pipeline = Pipeline([('imputer', SimpleImputer(strategy=\"median\")),('attribs_adder', CombinedAttributesAdder()),])\n",
    "# new_variable_transformed_numerical = num_pipeline.fit_transform(varible_numerica)\n",
    "\n",
    "## numerical and categorial ##\n",
    "#from sklearn import ColumnTransformer\n",
    "#numerical_attribs = list(numerical_columns)\n",
    "#categorical_attribs = list(categorial_columns)\n",
    "#full_pipeline = ColumnTransformer([(\"num\", numerical_pipeline, numerical_attribs),(\"cat\", OneHotEncoder(), categorical_attribs),])\n",
    "#dataTotal_prepared = full_pipeline.fit_transform(dataTotal) "
   ]
  },
  {
   "cell_type": "markdown",
   "id": "1d983e16",
   "metadata": {
    "papermill": {
     "duration": 0.033849,
     "end_time": "2022-04-05T17:08:40.212365",
     "exception": false,
     "start_time": "2022-04-05T17:08:40.178516",
     "status": "completed"
    },
    "tags": []
   },
   "source": [
    "## Target ## "
   ]
  },
  {
   "cell_type": "markdown",
   "id": "15dc0901",
   "metadata": {
    "papermill": {
     "duration": 0.033306,
     "end_time": "2022-04-05T17:08:40.279318",
     "exception": false,
     "start_time": "2022-04-05T17:08:40.246012",
     "status": "completed"
    },
    "tags": []
   },
   "source": [
    "## Featuring Engineering ##"
   ]
  },
  {
   "cell_type": "markdown",
   "id": "618525ce",
   "metadata": {
    "papermill": {
     "duration": 0.033665,
     "end_time": "2022-04-05T17:08:40.346578",
     "exception": false,
     "start_time": "2022-04-05T17:08:40.312913",
     "status": "completed"
    },
    "tags": []
   },
   "source": [
    "##  Pipeline and Featuring Scaling ##"
   ]
  },
  {
   "cell_type": "markdown",
   "id": "fdbeae80",
   "metadata": {
    "papermill": {
     "duration": 0.033798,
     "end_time": "2022-04-05T17:08:40.414059",
     "exception": false,
     "start_time": "2022-04-05T17:08:40.380261",
     "status": "completed"
    },
    "tags": []
   },
   "source": [
    " # **MODEL** # "
   ]
  },
  {
   "cell_type": "markdown",
   "id": "3a4fb340",
   "metadata": {
    "papermill": {
     "duration": 0.034164,
     "end_time": "2022-04-05T17:08:40.481867",
     "exception": false,
     "start_time": "2022-04-05T17:08:40.447703",
     "status": "completed"
    },
    "tags": []
   },
   "source": [
    "#### Models ####"
   ]
  },
  {
   "cell_type": "code",
   "execution_count": 19,
   "id": "99c6cfa4",
   "metadata": {
    "execution": {
     "iopub.execute_input": "2022-04-05T17:08:40.553727Z",
     "iopub.status.busy": "2022-04-05T17:08:40.552741Z",
     "iopub.status.idle": "2022-04-05T17:08:40.556249Z",
     "shell.execute_reply": "2022-04-05T17:08:40.556769Z",
     "shell.execute_reply.started": "2022-04-05T17:07:24.042444Z"
    },
    "papermill": {
     "duration": 0.041533,
     "end_time": "2022-04-05T17:08:40.556938",
     "exception": false,
     "start_time": "2022-04-05T17:08:40.515405",
     "status": "completed"
    },
    "tags": []
   },
   "outputs": [],
   "source": [
    "### stratified CV ### see pag 136  Geron's book\n",
    "#from sklearn.model_selection import StratifiedKFold\n",
    "#from sklearn.base import clone\n",
    "#skfolds = StratifiedKFold(n_splits=3, random_state=42)"
   ]
  },
  {
   "cell_type": "markdown",
   "id": "ca19d8b0",
   "metadata": {
    "papermill": {
     "duration": 0.033559,
     "end_time": "2022-04-05T17:08:40.624798",
     "exception": false,
     "start_time": "2022-04-05T17:08:40.591239",
     "status": "completed"
    },
    "tags": []
   },
   "source": [
    "# **Refinament** #"
   ]
  },
  {
   "cell_type": "code",
   "execution_count": null,
   "id": "d6e4c418",
   "metadata": {
    "papermill": {
     "duration": 0.033667,
     "end_time": "2022-04-05T17:08:40.693002",
     "exception": false,
     "start_time": "2022-04-05T17:08:40.659335",
     "status": "completed"
    },
    "tags": []
   },
   "outputs": [],
   "source": []
  },
  {
   "cell_type": "markdown",
   "id": "2c02f816",
   "metadata": {
    "papermill": {
     "duration": 0.033996,
     "end_time": "2022-04-05T17:08:40.761358",
     "exception": false,
     "start_time": "2022-04-05T17:08:40.727362",
     "status": "completed"
    },
    "tags": []
   },
   "source": [
    "# **Deploy** #"
   ]
  },
  {
   "cell_type": "code",
   "execution_count": null,
   "id": "3a27fbf6",
   "metadata": {
    "papermill": {
     "duration": 0.033701,
     "end_time": "2022-04-05T17:08:40.829851",
     "exception": false,
     "start_time": "2022-04-05T17:08:40.796150",
     "status": "completed"
    },
    "tags": []
   },
   "outputs": [],
   "source": []
  },
  {
   "cell_type": "code",
   "execution_count": null,
   "id": "38ce21ff",
   "metadata": {
    "papermill": {
     "duration": 0.034127,
     "end_time": "2022-04-05T17:08:40.899127",
     "exception": false,
     "start_time": "2022-04-05T17:08:40.865000",
     "status": "completed"
    },
    "tags": []
   },
   "outputs": [],
   "source": []
  }
 ],
 "metadata": {
  "kernelspec": {
   "display_name": "Python 3",
   "language": "python",
   "name": "python3"
  },
  "language_info": {
   "codemirror_mode": {
    "name": "ipython",
    "version": 3
   },
   "file_extension": ".py",
   "mimetype": "text/x-python",
   "name": "python",
   "nbconvert_exporter": "python",
   "pygments_lexer": "ipython3",
   "version": "3.7.12"
  },
  "papermill": {
   "default_parameters": {},
   "duration": 23.718548,
   "end_time": "2022-04-05T17:08:41.643420",
   "environment_variables": {},
   "exception": null,
   "input_path": "__notebook__.ipynb",
   "output_path": "__notebook__.ipynb",
   "parameters": {},
   "start_time": "2022-04-05T17:08:17.924872",
   "version": "2.3.3"
  }
 },
 "nbformat": 4,
 "nbformat_minor": 5
}
